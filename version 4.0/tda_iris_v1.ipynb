{
 "cells": [
  {
   "attachments": {},
   "cell_type": "markdown",
   "metadata": {},
   "source": [
    "# Project - Topological Data Analysis   \n",
    "version 1.0"
   ]
  },
  {
   "cell_type": "code",
   "execution_count": 1,
   "metadata": {},
   "outputs": [],
   "source": [
    "# import packages\n",
    "from sklearn.datasets import load_iris\n",
    "from gtda.diagrams import PersistenceLandscape\n",
    "from gtda.diagrams import PersistenceImage\n",
    "from gtda.homology import VietorisRipsPersistence\n",
    "from gtda.diagrams import BettiCurve, PersistenceLandscape, PairwiseDistance, PersistenceEntropy\n",
    "from gtda.plotting import plot_point_cloud"
   ]
  },
  {
   "cell_type": "code",
   "execution_count": 32,
   "metadata": {},
   "outputs": [
    {
     "name": "stdout",
     "output_type": "stream",
     "text": [
      "X:  [[5.1 3.5 1.4 0.2]\n",
      " [4.9 3.  1.4 0.2]\n",
      " [4.7 3.2 1.3 0.2]\n",
      " [4.6 3.1 1.5 0.2]\n",
      " [5.  3.6 1.4 0.2]\n",
      " [5.4 3.9 1.7 0.4]\n",
      " [4.6 3.4 1.4 0.3]\n",
      " [5.  3.4 1.5 0.2]\n",
      " [4.4 2.9 1.4 0.2]\n",
      " [4.9 3.1 1.5 0.1]]\n",
      "Y:  [0 0 0 0 0 0 0 0 0 0]\n"
     ]
    }
   ],
   "source": [
    "# load iris dataset \n",
    "x, y = load_iris(return_X_y = True)\n",
    "print(\"X: \", x[:10])\n",
    "print(\"Y: \", y[:10])"
   ]
  },
  {
   "cell_type": "code",
   "execution_count": 3,
   "metadata": {},
   "outputs": [
    {
     "name": "stdout",
     "output_type": "stream",
     "text": [
      "(150, 4)\n"
     ]
    }
   ],
   "source": [
    "print(x.shape)"
   ]
  },
  {
   "cell_type": "code",
   "execution_count": 4,
   "metadata": {},
   "outputs": [
    {
     "data": {
      "application/vnd.plotly.v1+json": {
       "config": {
        "plotlyServerURL": "https://plot.ly"
       },
       "data": [
        {
         "marker": {
          "color": [
           0,
           1,
           2,
           3,
           4,
           5,
           6,
           7,
           8,
           9,
           10,
           11,
           12,
           13,
           14,
           15,
           16,
           17,
           18,
           19,
           20,
           21,
           22,
           23,
           24,
           25,
           26,
           27,
           28,
           29,
           30,
           31,
           32,
           33,
           34,
           35,
           36,
           37,
           38,
           39,
           40,
           41,
           42,
           43,
           44,
           45,
           46,
           47,
           48,
           49,
           50,
           51,
           52,
           53,
           54,
           55,
           56,
           57,
           58,
           59,
           60,
           61,
           62,
           63,
           64,
           65,
           66,
           67,
           68,
           69,
           70,
           71,
           72,
           73,
           74,
           75,
           76,
           77,
           78,
           79,
           80,
           81,
           82,
           83,
           84,
           85,
           86,
           87,
           88,
           89,
           90,
           91,
           92,
           93,
           94,
           95,
           96,
           97,
           98,
           99,
           100,
           101,
           102,
           103,
           104,
           105,
           106,
           107,
           108,
           109,
           110,
           111,
           112,
           113,
           114,
           115,
           116,
           117,
           118,
           119,
           120,
           121,
           122,
           123,
           124,
           125,
           126,
           127,
           128,
           129,
           130,
           131,
           132,
           133,
           134,
           135,
           136,
           137,
           138,
           139,
           140,
           141,
           142,
           143,
           144,
           145,
           146,
           147,
           148,
           149
          ],
          "colorscale": [
           [
            0,
            "#440154"
           ],
           [
            0.1111111111111111,
            "#482878"
           ],
           [
            0.2222222222222222,
            "#3e4989"
           ],
           [
            0.3333333333333333,
            "#31688e"
           ],
           [
            0.4444444444444444,
            "#26828e"
           ],
           [
            0.5555555555555556,
            "#1f9e89"
           ],
           [
            0.6666666666666666,
            "#35b779"
           ],
           [
            0.7777777777777778,
            "#6ece58"
           ],
           [
            0.8888888888888888,
            "#b5de2b"
           ],
           [
            1,
            "#fde725"
           ]
          ],
          "opacity": 0.8,
          "size": 4
         },
         "mode": "markers",
         "type": "scatter",
         "x": [
          5.1,
          4.9,
          4.7,
          4.6,
          5,
          5.4,
          4.6,
          5,
          4.4,
          4.9,
          5.4,
          4.8,
          4.8,
          4.3,
          5.8,
          5.7,
          5.4,
          5.1,
          5.7,
          5.1,
          5.4,
          5.1,
          4.6,
          5.1,
          4.8,
          5,
          5,
          5.2,
          5.2,
          4.7,
          4.8,
          5.4,
          5.2,
          5.5,
          4.9,
          5,
          5.5,
          4.9,
          4.4,
          5.1,
          5,
          4.5,
          4.4,
          5,
          5.1,
          4.8,
          5.1,
          4.6,
          5.3,
          5,
          7,
          6.4,
          6.9,
          5.5,
          6.5,
          5.7,
          6.3,
          4.9,
          6.6,
          5.2,
          5,
          5.9,
          6,
          6.1,
          5.6,
          6.7,
          5.6,
          5.8,
          6.2,
          5.6,
          5.9,
          6.1,
          6.3,
          6.1,
          6.4,
          6.6,
          6.8,
          6.7,
          6,
          5.7,
          5.5,
          5.5,
          5.8,
          6,
          5.4,
          6,
          6.7,
          6.3,
          5.6,
          5.5,
          5.5,
          6.1,
          5.8,
          5,
          5.6,
          5.7,
          5.7,
          6.2,
          5.1,
          5.7,
          6.3,
          5.8,
          7.1,
          6.3,
          6.5,
          7.6,
          4.9,
          7.3,
          6.7,
          7.2,
          6.5,
          6.4,
          6.8,
          5.7,
          5.8,
          6.4,
          6.5,
          7.7,
          7.7,
          6,
          6.9,
          5.6,
          7.7,
          6.3,
          6.7,
          7.2,
          6.2,
          6.1,
          6.4,
          7.2,
          7.4,
          7.9,
          6.4,
          6.3,
          6.1,
          7.7,
          6.3,
          6.4,
          6,
          6.9,
          6.7,
          6.9,
          5.8,
          6.8,
          6.7,
          6.7,
          6.3,
          6.5,
          6.2,
          5.9
         ],
         "y": [
          3.5,
          3,
          3.2,
          3.1,
          3.6,
          3.9,
          3.4,
          3.4,
          2.9,
          3.1,
          3.7,
          3.4,
          3,
          3,
          4,
          4.4,
          3.9,
          3.5,
          3.8,
          3.8,
          3.4,
          3.7,
          3.6,
          3.3,
          3.4,
          3,
          3.4,
          3.5,
          3.4,
          3.2,
          3.1,
          3.4,
          4.1,
          4.2,
          3.1,
          3.2,
          3.5,
          3.6,
          3,
          3.4,
          3.5,
          2.3,
          3.2,
          3.5,
          3.8,
          3,
          3.8,
          3.2,
          3.7,
          3.3,
          3.2,
          3.2,
          3.1,
          2.3,
          2.8,
          2.8,
          3.3,
          2.4,
          2.9,
          2.7,
          2,
          3,
          2.2,
          2.9,
          2.9,
          3.1,
          3,
          2.7,
          2.2,
          2.5,
          3.2,
          2.8,
          2.5,
          2.8,
          2.9,
          3,
          2.8,
          3,
          2.9,
          2.6,
          2.4,
          2.4,
          2.7,
          2.7,
          3,
          3.4,
          3.1,
          2.3,
          3,
          2.5,
          2.6,
          3,
          2.6,
          2.3,
          2.7,
          3,
          2.9,
          2.9,
          2.5,
          2.8,
          3.3,
          2.7,
          3,
          2.9,
          3,
          3,
          2.5,
          2.9,
          2.5,
          3.6,
          3.2,
          2.7,
          3,
          2.5,
          2.8,
          3.2,
          3,
          3.8,
          2.6,
          2.2,
          3.2,
          2.8,
          2.8,
          2.7,
          3.3,
          3.2,
          2.8,
          3,
          2.8,
          3,
          2.8,
          3.8,
          2.8,
          2.8,
          2.6,
          3,
          3.4,
          3.1,
          3,
          3.1,
          3.1,
          3.1,
          2.7,
          3.2,
          3.3,
          3,
          2.5,
          3,
          3.4,
          3
         ]
        }
       ],
       "layout": {
        "height": 600,
        "plot_bgcolor": "white",
        "template": {
         "data": {
          "bar": [
           {
            "error_x": {
             "color": "#2a3f5f"
            },
            "error_y": {
             "color": "#2a3f5f"
            },
            "marker": {
             "line": {
              "color": "#E5ECF6",
              "width": 0.5
             },
             "pattern": {
              "fillmode": "overlay",
              "size": 10,
              "solidity": 0.2
             }
            },
            "type": "bar"
           }
          ],
          "barpolar": [
           {
            "marker": {
             "line": {
              "color": "#E5ECF6",
              "width": 0.5
             },
             "pattern": {
              "fillmode": "overlay",
              "size": 10,
              "solidity": 0.2
             }
            },
            "type": "barpolar"
           }
          ],
          "carpet": [
           {
            "aaxis": {
             "endlinecolor": "#2a3f5f",
             "gridcolor": "white",
             "linecolor": "white",
             "minorgridcolor": "white",
             "startlinecolor": "#2a3f5f"
            },
            "baxis": {
             "endlinecolor": "#2a3f5f",
             "gridcolor": "white",
             "linecolor": "white",
             "minorgridcolor": "white",
             "startlinecolor": "#2a3f5f"
            },
            "type": "carpet"
           }
          ],
          "choropleth": [
           {
            "colorbar": {
             "outlinewidth": 0,
             "ticks": ""
            },
            "type": "choropleth"
           }
          ],
          "contour": [
           {
            "colorbar": {
             "outlinewidth": 0,
             "ticks": ""
            },
            "colorscale": [
             [
              0,
              "#0d0887"
             ],
             [
              0.1111111111111111,
              "#46039f"
             ],
             [
              0.2222222222222222,
              "#7201a8"
             ],
             [
              0.3333333333333333,
              "#9c179e"
             ],
             [
              0.4444444444444444,
              "#bd3786"
             ],
             [
              0.5555555555555556,
              "#d8576b"
             ],
             [
              0.6666666666666666,
              "#ed7953"
             ],
             [
              0.7777777777777778,
              "#fb9f3a"
             ],
             [
              0.8888888888888888,
              "#fdca26"
             ],
             [
              1,
              "#f0f921"
             ]
            ],
            "type": "contour"
           }
          ],
          "contourcarpet": [
           {
            "colorbar": {
             "outlinewidth": 0,
             "ticks": ""
            },
            "type": "contourcarpet"
           }
          ],
          "heatmap": [
           {
            "colorbar": {
             "outlinewidth": 0,
             "ticks": ""
            },
            "colorscale": [
             [
              0,
              "#0d0887"
             ],
             [
              0.1111111111111111,
              "#46039f"
             ],
             [
              0.2222222222222222,
              "#7201a8"
             ],
             [
              0.3333333333333333,
              "#9c179e"
             ],
             [
              0.4444444444444444,
              "#bd3786"
             ],
             [
              0.5555555555555556,
              "#d8576b"
             ],
             [
              0.6666666666666666,
              "#ed7953"
             ],
             [
              0.7777777777777778,
              "#fb9f3a"
             ],
             [
              0.8888888888888888,
              "#fdca26"
             ],
             [
              1,
              "#f0f921"
             ]
            ],
            "type": "heatmap"
           }
          ],
          "heatmapgl": [
           {
            "colorbar": {
             "outlinewidth": 0,
             "ticks": ""
            },
            "colorscale": [
             [
              0,
              "#0d0887"
             ],
             [
              0.1111111111111111,
              "#46039f"
             ],
             [
              0.2222222222222222,
              "#7201a8"
             ],
             [
              0.3333333333333333,
              "#9c179e"
             ],
             [
              0.4444444444444444,
              "#bd3786"
             ],
             [
              0.5555555555555556,
              "#d8576b"
             ],
             [
              0.6666666666666666,
              "#ed7953"
             ],
             [
              0.7777777777777778,
              "#fb9f3a"
             ],
             [
              0.8888888888888888,
              "#fdca26"
             ],
             [
              1,
              "#f0f921"
             ]
            ],
            "type": "heatmapgl"
           }
          ],
          "histogram": [
           {
            "marker": {
             "pattern": {
              "fillmode": "overlay",
              "size": 10,
              "solidity": 0.2
             }
            },
            "type": "histogram"
           }
          ],
          "histogram2d": [
           {
            "colorbar": {
             "outlinewidth": 0,
             "ticks": ""
            },
            "colorscale": [
             [
              0,
              "#0d0887"
             ],
             [
              0.1111111111111111,
              "#46039f"
             ],
             [
              0.2222222222222222,
              "#7201a8"
             ],
             [
              0.3333333333333333,
              "#9c179e"
             ],
             [
              0.4444444444444444,
              "#bd3786"
             ],
             [
              0.5555555555555556,
              "#d8576b"
             ],
             [
              0.6666666666666666,
              "#ed7953"
             ],
             [
              0.7777777777777778,
              "#fb9f3a"
             ],
             [
              0.8888888888888888,
              "#fdca26"
             ],
             [
              1,
              "#f0f921"
             ]
            ],
            "type": "histogram2d"
           }
          ],
          "histogram2dcontour": [
           {
            "colorbar": {
             "outlinewidth": 0,
             "ticks": ""
            },
            "colorscale": [
             [
              0,
              "#0d0887"
             ],
             [
              0.1111111111111111,
              "#46039f"
             ],
             [
              0.2222222222222222,
              "#7201a8"
             ],
             [
              0.3333333333333333,
              "#9c179e"
             ],
             [
              0.4444444444444444,
              "#bd3786"
             ],
             [
              0.5555555555555556,
              "#d8576b"
             ],
             [
              0.6666666666666666,
              "#ed7953"
             ],
             [
              0.7777777777777778,
              "#fb9f3a"
             ],
             [
              0.8888888888888888,
              "#fdca26"
             ],
             [
              1,
              "#f0f921"
             ]
            ],
            "type": "histogram2dcontour"
           }
          ],
          "mesh3d": [
           {
            "colorbar": {
             "outlinewidth": 0,
             "ticks": ""
            },
            "type": "mesh3d"
           }
          ],
          "parcoords": [
           {
            "line": {
             "colorbar": {
              "outlinewidth": 0,
              "ticks": ""
             }
            },
            "type": "parcoords"
           }
          ],
          "pie": [
           {
            "automargin": true,
            "type": "pie"
           }
          ],
          "scatter": [
           {
            "fillpattern": {
             "fillmode": "overlay",
             "size": 10,
             "solidity": 0.2
            },
            "type": "scatter"
           }
          ],
          "scatter3d": [
           {
            "line": {
             "colorbar": {
              "outlinewidth": 0,
              "ticks": ""
             }
            },
            "marker": {
             "colorbar": {
              "outlinewidth": 0,
              "ticks": ""
             }
            },
            "type": "scatter3d"
           }
          ],
          "scattercarpet": [
           {
            "marker": {
             "colorbar": {
              "outlinewidth": 0,
              "ticks": ""
             }
            },
            "type": "scattercarpet"
           }
          ],
          "scattergeo": [
           {
            "marker": {
             "colorbar": {
              "outlinewidth": 0,
              "ticks": ""
             }
            },
            "type": "scattergeo"
           }
          ],
          "scattergl": [
           {
            "marker": {
             "colorbar": {
              "outlinewidth": 0,
              "ticks": ""
             }
            },
            "type": "scattergl"
           }
          ],
          "scattermapbox": [
           {
            "marker": {
             "colorbar": {
              "outlinewidth": 0,
              "ticks": ""
             }
            },
            "type": "scattermapbox"
           }
          ],
          "scatterpolar": [
           {
            "marker": {
             "colorbar": {
              "outlinewidth": 0,
              "ticks": ""
             }
            },
            "type": "scatterpolar"
           }
          ],
          "scatterpolargl": [
           {
            "marker": {
             "colorbar": {
              "outlinewidth": 0,
              "ticks": ""
             }
            },
            "type": "scatterpolargl"
           }
          ],
          "scatterternary": [
           {
            "marker": {
             "colorbar": {
              "outlinewidth": 0,
              "ticks": ""
             }
            },
            "type": "scatterternary"
           }
          ],
          "surface": [
           {
            "colorbar": {
             "outlinewidth": 0,
             "ticks": ""
            },
            "colorscale": [
             [
              0,
              "#0d0887"
             ],
             [
              0.1111111111111111,
              "#46039f"
             ],
             [
              0.2222222222222222,
              "#7201a8"
             ],
             [
              0.3333333333333333,
              "#9c179e"
             ],
             [
              0.4444444444444444,
              "#bd3786"
             ],
             [
              0.5555555555555556,
              "#d8576b"
             ],
             [
              0.6666666666666666,
              "#ed7953"
             ],
             [
              0.7777777777777778,
              "#fb9f3a"
             ],
             [
              0.8888888888888888,
              "#fdca26"
             ],
             [
              1,
              "#f0f921"
             ]
            ],
            "type": "surface"
           }
          ],
          "table": [
           {
            "cells": {
             "fill": {
              "color": "#EBF0F8"
             },
             "line": {
              "color": "white"
             }
            },
            "header": {
             "fill": {
              "color": "#C8D4E3"
             },
             "line": {
              "color": "white"
             }
            },
            "type": "table"
           }
          ]
         },
         "layout": {
          "annotationdefaults": {
           "arrowcolor": "#2a3f5f",
           "arrowhead": 0,
           "arrowwidth": 1
          },
          "autotypenumbers": "strict",
          "coloraxis": {
           "colorbar": {
            "outlinewidth": 0,
            "ticks": ""
           }
          },
          "colorscale": {
           "diverging": [
            [
             0,
             "#8e0152"
            ],
            [
             0.1,
             "#c51b7d"
            ],
            [
             0.2,
             "#de77ae"
            ],
            [
             0.3,
             "#f1b6da"
            ],
            [
             0.4,
             "#fde0ef"
            ],
            [
             0.5,
             "#f7f7f7"
            ],
            [
             0.6,
             "#e6f5d0"
            ],
            [
             0.7,
             "#b8e186"
            ],
            [
             0.8,
             "#7fbc41"
            ],
            [
             0.9,
             "#4d9221"
            ],
            [
             1,
             "#276419"
            ]
           ],
           "sequential": [
            [
             0,
             "#0d0887"
            ],
            [
             0.1111111111111111,
             "#46039f"
            ],
            [
             0.2222222222222222,
             "#7201a8"
            ],
            [
             0.3333333333333333,
             "#9c179e"
            ],
            [
             0.4444444444444444,
             "#bd3786"
            ],
            [
             0.5555555555555556,
             "#d8576b"
            ],
            [
             0.6666666666666666,
             "#ed7953"
            ],
            [
             0.7777777777777778,
             "#fb9f3a"
            ],
            [
             0.8888888888888888,
             "#fdca26"
            ],
            [
             1,
             "#f0f921"
            ]
           ],
           "sequentialminus": [
            [
             0,
             "#0d0887"
            ],
            [
             0.1111111111111111,
             "#46039f"
            ],
            [
             0.2222222222222222,
             "#7201a8"
            ],
            [
             0.3333333333333333,
             "#9c179e"
            ],
            [
             0.4444444444444444,
             "#bd3786"
            ],
            [
             0.5555555555555556,
             "#d8576b"
            ],
            [
             0.6666666666666666,
             "#ed7953"
            ],
            [
             0.7777777777777778,
             "#fb9f3a"
            ],
            [
             0.8888888888888888,
             "#fdca26"
            ],
            [
             1,
             "#f0f921"
            ]
           ]
          },
          "colorway": [
           "#636efa",
           "#EF553B",
           "#00cc96",
           "#ab63fa",
           "#FFA15A",
           "#19d3f3",
           "#FF6692",
           "#B6E880",
           "#FF97FF",
           "#FECB52"
          ],
          "font": {
           "color": "#2a3f5f"
          },
          "geo": {
           "bgcolor": "white",
           "lakecolor": "white",
           "landcolor": "#E5ECF6",
           "showlakes": true,
           "showland": true,
           "subunitcolor": "white"
          },
          "hoverlabel": {
           "align": "left"
          },
          "hovermode": "closest",
          "mapbox": {
           "style": "light"
          },
          "paper_bgcolor": "white",
          "plot_bgcolor": "#E5ECF6",
          "polar": {
           "angularaxis": {
            "gridcolor": "white",
            "linecolor": "white",
            "ticks": ""
           },
           "bgcolor": "#E5ECF6",
           "radialaxis": {
            "gridcolor": "white",
            "linecolor": "white",
            "ticks": ""
           }
          },
          "scene": {
           "xaxis": {
            "backgroundcolor": "#E5ECF6",
            "gridcolor": "white",
            "gridwidth": 2,
            "linecolor": "white",
            "showbackground": true,
            "ticks": "",
            "zerolinecolor": "white"
           },
           "yaxis": {
            "backgroundcolor": "#E5ECF6",
            "gridcolor": "white",
            "gridwidth": 2,
            "linecolor": "white",
            "showbackground": true,
            "ticks": "",
            "zerolinecolor": "white"
           },
           "zaxis": {
            "backgroundcolor": "#E5ECF6",
            "gridcolor": "white",
            "gridwidth": 2,
            "linecolor": "white",
            "showbackground": true,
            "ticks": "",
            "zerolinecolor": "white"
           }
          },
          "shapedefaults": {
           "line": {
            "color": "#2a3f5f"
           }
          },
          "ternary": {
           "aaxis": {
            "gridcolor": "white",
            "linecolor": "white",
            "ticks": ""
           },
           "baxis": {
            "gridcolor": "white",
            "linecolor": "white",
            "ticks": ""
           },
           "bgcolor": "#E5ECF6",
           "caxis": {
            "gridcolor": "white",
            "linecolor": "white",
            "ticks": ""
           }
          },
          "title": {
           "x": 0.05
          },
          "xaxis": {
           "automargin": true,
           "gridcolor": "white",
           "linecolor": "white",
           "ticks": "",
           "title": {
            "standoff": 15
           },
           "zerolinecolor": "white",
           "zerolinewidth": 2
          },
          "yaxis": {
           "automargin": true,
           "gridcolor": "white",
           "linecolor": "white",
           "ticks": "",
           "title": {
            "standoff": 15
           },
           "zerolinecolor": "white",
           "zerolinewidth": 2
          }
         }
        },
        "width": 600,
        "xaxis": {
         "anchor": "x",
         "exponentformat": "e",
         "linecolor": "black",
         "linewidth": 1,
         "mirror": false,
         "showexponent": "all",
         "showline": true,
         "side": "bottom",
         "ticks": "outside",
         "title": {
          "text": "0th"
         },
         "type": "linear",
         "zeroline": true
        },
        "yaxis": {
         "anchor": "y",
         "exponentformat": "e",
         "linecolor": "black",
         "linewidth": 1,
         "mirror": false,
         "showexponent": "all",
         "showline": true,
         "side": "left",
         "ticks": "outside",
         "title": {
          "text": "1st"
         },
         "type": "linear",
         "zeroline": true
        }
       }
      }
     },
     "metadata": {},
     "output_type": "display_data"
    }
   ],
   "source": [
    "# plot cloud of points for columns 0 and 1 \n",
    "plot_point_cloud(x[:, :2])"
   ]
  },
  {
   "cell_type": "code",
   "execution_count": 5,
   "metadata": {},
   "outputs": [
    {
     "data": {
      "application/vnd.plotly.v1+json": {
       "config": {
        "plotlyServerURL": "https://plot.ly"
       },
       "data": [
        {
         "marker": {
          "color": [
           0,
           1,
           2,
           3,
           4,
           5,
           6,
           7,
           8,
           9,
           10,
           11,
           12,
           13,
           14,
           15,
           16,
           17,
           18,
           19,
           20,
           21,
           22,
           23,
           24,
           25,
           26,
           27,
           28,
           29,
           30,
           31,
           32,
           33,
           34,
           35,
           36,
           37,
           38,
           39,
           40,
           41,
           42,
           43,
           44,
           45,
           46,
           47,
           48,
           49,
           50,
           51,
           52,
           53,
           54,
           55,
           56,
           57,
           58,
           59,
           60,
           61,
           62,
           63,
           64,
           65,
           66,
           67,
           68,
           69,
           70,
           71,
           72,
           73,
           74,
           75,
           76,
           77,
           78,
           79,
           80,
           81,
           82,
           83,
           84,
           85,
           86,
           87,
           88,
           89,
           90,
           91,
           92,
           93,
           94,
           95,
           96,
           97,
           98,
           99,
           100,
           101,
           102,
           103,
           104,
           105,
           106,
           107,
           108,
           109,
           110,
           111,
           112,
           113,
           114,
           115,
           116,
           117,
           118,
           119,
           120,
           121,
           122,
           123,
           124,
           125,
           126,
           127,
           128,
           129,
           130,
           131,
           132,
           133,
           134,
           135,
           136,
           137,
           138,
           139,
           140,
           141,
           142,
           143,
           144,
           145,
           146,
           147,
           148,
           149
          ],
          "colorscale": [
           [
            0,
            "#440154"
           ],
           [
            0.1111111111111111,
            "#482878"
           ],
           [
            0.2222222222222222,
            "#3e4989"
           ],
           [
            0.3333333333333333,
            "#31688e"
           ],
           [
            0.4444444444444444,
            "#26828e"
           ],
           [
            0.5555555555555556,
            "#1f9e89"
           ],
           [
            0.6666666666666666,
            "#35b779"
           ],
           [
            0.7777777777777778,
            "#6ece58"
           ],
           [
            0.8888888888888888,
            "#b5de2b"
           ],
           [
            1,
            "#fde725"
           ]
          ],
          "opacity": 0.8,
          "size": 4
         },
         "mode": "markers",
         "type": "scatter",
         "x": [
          1.4,
          1.4,
          1.3,
          1.5,
          1.4,
          1.7,
          1.4,
          1.5,
          1.4,
          1.5,
          1.5,
          1.6,
          1.4,
          1.1,
          1.2,
          1.5,
          1.3,
          1.4,
          1.7,
          1.5,
          1.7,
          1.5,
          1,
          1.7,
          1.9,
          1.6,
          1.6,
          1.5,
          1.4,
          1.6,
          1.6,
          1.5,
          1.5,
          1.4,
          1.5,
          1.2,
          1.3,
          1.4,
          1.3,
          1.5,
          1.3,
          1.3,
          1.3,
          1.6,
          1.9,
          1.4,
          1.6,
          1.4,
          1.5,
          1.4,
          4.7,
          4.5,
          4.9,
          4,
          4.6,
          4.5,
          4.7,
          3.3,
          4.6,
          3.9,
          3.5,
          4.2,
          4,
          4.7,
          3.6,
          4.4,
          4.5,
          4.1,
          4.5,
          3.9,
          4.8,
          4,
          4.9,
          4.7,
          4.3,
          4.4,
          4.8,
          5,
          4.5,
          3.5,
          3.8,
          3.7,
          3.9,
          5.1,
          4.5,
          4.5,
          4.7,
          4.4,
          4.1,
          4,
          4.4,
          4.6,
          4,
          3.3,
          4.2,
          4.2,
          4.2,
          4.3,
          3,
          4.1,
          6,
          5.1,
          5.9,
          5.6,
          5.8,
          6.6,
          4.5,
          6.3,
          5.8,
          6.1,
          5.1,
          5.3,
          5.5,
          5,
          5.1,
          5.3,
          5.5,
          6.7,
          6.9,
          5,
          5.7,
          4.9,
          6.7,
          4.9,
          5.7,
          6,
          4.8,
          4.9,
          5.6,
          5.8,
          6.1,
          6.4,
          5.6,
          5.1,
          5.6,
          6.1,
          5.6,
          5.5,
          4.8,
          5.4,
          5.6,
          5.1,
          5.1,
          5.9,
          5.7,
          5.2,
          5,
          5.2,
          5.4,
          5.1
         ],
         "y": [
          0.2,
          0.2,
          0.2,
          0.2,
          0.2,
          0.4,
          0.3,
          0.2,
          0.2,
          0.1,
          0.2,
          0.2,
          0.1,
          0.1,
          0.2,
          0.4,
          0.4,
          0.3,
          0.3,
          0.3,
          0.2,
          0.4,
          0.2,
          0.5,
          0.2,
          0.2,
          0.4,
          0.2,
          0.2,
          0.2,
          0.2,
          0.4,
          0.1,
          0.2,
          0.2,
          0.2,
          0.2,
          0.1,
          0.2,
          0.2,
          0.3,
          0.3,
          0.2,
          0.6,
          0.4,
          0.3,
          0.2,
          0.2,
          0.2,
          0.2,
          1.4,
          1.5,
          1.5,
          1.3,
          1.5,
          1.3,
          1.6,
          1,
          1.3,
          1.4,
          1,
          1.5,
          1,
          1.4,
          1.3,
          1.4,
          1.5,
          1,
          1.5,
          1.1,
          1.8,
          1.3,
          1.5,
          1.2,
          1.3,
          1.4,
          1.4,
          1.7,
          1.5,
          1,
          1.1,
          1,
          1.2,
          1.6,
          1.5,
          1.6,
          1.5,
          1.3,
          1.3,
          1.3,
          1.2,
          1.4,
          1.2,
          1,
          1.3,
          1.2,
          1.3,
          1.3,
          1.1,
          1.3,
          2.5,
          1.9,
          2.1,
          1.8,
          2.2,
          2.1,
          1.7,
          1.8,
          1.8,
          2.5,
          2,
          1.9,
          2.1,
          2,
          2.4,
          2.3,
          1.8,
          2.2,
          2.3,
          1.5,
          2.3,
          2,
          2,
          1.8,
          2.1,
          1.8,
          1.8,
          1.8,
          2.1,
          1.6,
          1.9,
          2,
          2.2,
          1.5,
          1.4,
          2.3,
          2.4,
          1.8,
          1.8,
          2.1,
          2.4,
          2.3,
          1.9,
          2.3,
          2.5,
          2.3,
          1.9,
          2,
          2.3,
          1.8
         ]
        }
       ],
       "layout": {
        "height": 600,
        "plot_bgcolor": "white",
        "template": {
         "data": {
          "bar": [
           {
            "error_x": {
             "color": "#2a3f5f"
            },
            "error_y": {
             "color": "#2a3f5f"
            },
            "marker": {
             "line": {
              "color": "#E5ECF6",
              "width": 0.5
             },
             "pattern": {
              "fillmode": "overlay",
              "size": 10,
              "solidity": 0.2
             }
            },
            "type": "bar"
           }
          ],
          "barpolar": [
           {
            "marker": {
             "line": {
              "color": "#E5ECF6",
              "width": 0.5
             },
             "pattern": {
              "fillmode": "overlay",
              "size": 10,
              "solidity": 0.2
             }
            },
            "type": "barpolar"
           }
          ],
          "carpet": [
           {
            "aaxis": {
             "endlinecolor": "#2a3f5f",
             "gridcolor": "white",
             "linecolor": "white",
             "minorgridcolor": "white",
             "startlinecolor": "#2a3f5f"
            },
            "baxis": {
             "endlinecolor": "#2a3f5f",
             "gridcolor": "white",
             "linecolor": "white",
             "minorgridcolor": "white",
             "startlinecolor": "#2a3f5f"
            },
            "type": "carpet"
           }
          ],
          "choropleth": [
           {
            "colorbar": {
             "outlinewidth": 0,
             "ticks": ""
            },
            "type": "choropleth"
           }
          ],
          "contour": [
           {
            "colorbar": {
             "outlinewidth": 0,
             "ticks": ""
            },
            "colorscale": [
             [
              0,
              "#0d0887"
             ],
             [
              0.1111111111111111,
              "#46039f"
             ],
             [
              0.2222222222222222,
              "#7201a8"
             ],
             [
              0.3333333333333333,
              "#9c179e"
             ],
             [
              0.4444444444444444,
              "#bd3786"
             ],
             [
              0.5555555555555556,
              "#d8576b"
             ],
             [
              0.6666666666666666,
              "#ed7953"
             ],
             [
              0.7777777777777778,
              "#fb9f3a"
             ],
             [
              0.8888888888888888,
              "#fdca26"
             ],
             [
              1,
              "#f0f921"
             ]
            ],
            "type": "contour"
           }
          ],
          "contourcarpet": [
           {
            "colorbar": {
             "outlinewidth": 0,
             "ticks": ""
            },
            "type": "contourcarpet"
           }
          ],
          "heatmap": [
           {
            "colorbar": {
             "outlinewidth": 0,
             "ticks": ""
            },
            "colorscale": [
             [
              0,
              "#0d0887"
             ],
             [
              0.1111111111111111,
              "#46039f"
             ],
             [
              0.2222222222222222,
              "#7201a8"
             ],
             [
              0.3333333333333333,
              "#9c179e"
             ],
             [
              0.4444444444444444,
              "#bd3786"
             ],
             [
              0.5555555555555556,
              "#d8576b"
             ],
             [
              0.6666666666666666,
              "#ed7953"
             ],
             [
              0.7777777777777778,
              "#fb9f3a"
             ],
             [
              0.8888888888888888,
              "#fdca26"
             ],
             [
              1,
              "#f0f921"
             ]
            ],
            "type": "heatmap"
           }
          ],
          "heatmapgl": [
           {
            "colorbar": {
             "outlinewidth": 0,
             "ticks": ""
            },
            "colorscale": [
             [
              0,
              "#0d0887"
             ],
             [
              0.1111111111111111,
              "#46039f"
             ],
             [
              0.2222222222222222,
              "#7201a8"
             ],
             [
              0.3333333333333333,
              "#9c179e"
             ],
             [
              0.4444444444444444,
              "#bd3786"
             ],
             [
              0.5555555555555556,
              "#d8576b"
             ],
             [
              0.6666666666666666,
              "#ed7953"
             ],
             [
              0.7777777777777778,
              "#fb9f3a"
             ],
             [
              0.8888888888888888,
              "#fdca26"
             ],
             [
              1,
              "#f0f921"
             ]
            ],
            "type": "heatmapgl"
           }
          ],
          "histogram": [
           {
            "marker": {
             "pattern": {
              "fillmode": "overlay",
              "size": 10,
              "solidity": 0.2
             }
            },
            "type": "histogram"
           }
          ],
          "histogram2d": [
           {
            "colorbar": {
             "outlinewidth": 0,
             "ticks": ""
            },
            "colorscale": [
             [
              0,
              "#0d0887"
             ],
             [
              0.1111111111111111,
              "#46039f"
             ],
             [
              0.2222222222222222,
              "#7201a8"
             ],
             [
              0.3333333333333333,
              "#9c179e"
             ],
             [
              0.4444444444444444,
              "#bd3786"
             ],
             [
              0.5555555555555556,
              "#d8576b"
             ],
             [
              0.6666666666666666,
              "#ed7953"
             ],
             [
              0.7777777777777778,
              "#fb9f3a"
             ],
             [
              0.8888888888888888,
              "#fdca26"
             ],
             [
              1,
              "#f0f921"
             ]
            ],
            "type": "histogram2d"
           }
          ],
          "histogram2dcontour": [
           {
            "colorbar": {
             "outlinewidth": 0,
             "ticks": ""
            },
            "colorscale": [
             [
              0,
              "#0d0887"
             ],
             [
              0.1111111111111111,
              "#46039f"
             ],
             [
              0.2222222222222222,
              "#7201a8"
             ],
             [
              0.3333333333333333,
              "#9c179e"
             ],
             [
              0.4444444444444444,
              "#bd3786"
             ],
             [
              0.5555555555555556,
              "#d8576b"
             ],
             [
              0.6666666666666666,
              "#ed7953"
             ],
             [
              0.7777777777777778,
              "#fb9f3a"
             ],
             [
              0.8888888888888888,
              "#fdca26"
             ],
             [
              1,
              "#f0f921"
             ]
            ],
            "type": "histogram2dcontour"
           }
          ],
          "mesh3d": [
           {
            "colorbar": {
             "outlinewidth": 0,
             "ticks": ""
            },
            "type": "mesh3d"
           }
          ],
          "parcoords": [
           {
            "line": {
             "colorbar": {
              "outlinewidth": 0,
              "ticks": ""
             }
            },
            "type": "parcoords"
           }
          ],
          "pie": [
           {
            "automargin": true,
            "type": "pie"
           }
          ],
          "scatter": [
           {
            "fillpattern": {
             "fillmode": "overlay",
             "size": 10,
             "solidity": 0.2
            },
            "type": "scatter"
           }
          ],
          "scatter3d": [
           {
            "line": {
             "colorbar": {
              "outlinewidth": 0,
              "ticks": ""
             }
            },
            "marker": {
             "colorbar": {
              "outlinewidth": 0,
              "ticks": ""
             }
            },
            "type": "scatter3d"
           }
          ],
          "scattercarpet": [
           {
            "marker": {
             "colorbar": {
              "outlinewidth": 0,
              "ticks": ""
             }
            },
            "type": "scattercarpet"
           }
          ],
          "scattergeo": [
           {
            "marker": {
             "colorbar": {
              "outlinewidth": 0,
              "ticks": ""
             }
            },
            "type": "scattergeo"
           }
          ],
          "scattergl": [
           {
            "marker": {
             "colorbar": {
              "outlinewidth": 0,
              "ticks": ""
             }
            },
            "type": "scattergl"
           }
          ],
          "scattermapbox": [
           {
            "marker": {
             "colorbar": {
              "outlinewidth": 0,
              "ticks": ""
             }
            },
            "type": "scattermapbox"
           }
          ],
          "scatterpolar": [
           {
            "marker": {
             "colorbar": {
              "outlinewidth": 0,
              "ticks": ""
             }
            },
            "type": "scatterpolar"
           }
          ],
          "scatterpolargl": [
           {
            "marker": {
             "colorbar": {
              "outlinewidth": 0,
              "ticks": ""
             }
            },
            "type": "scatterpolargl"
           }
          ],
          "scatterternary": [
           {
            "marker": {
             "colorbar": {
              "outlinewidth": 0,
              "ticks": ""
             }
            },
            "type": "scatterternary"
           }
          ],
          "surface": [
           {
            "colorbar": {
             "outlinewidth": 0,
             "ticks": ""
            },
            "colorscale": [
             [
              0,
              "#0d0887"
             ],
             [
              0.1111111111111111,
              "#46039f"
             ],
             [
              0.2222222222222222,
              "#7201a8"
             ],
             [
              0.3333333333333333,
              "#9c179e"
             ],
             [
              0.4444444444444444,
              "#bd3786"
             ],
             [
              0.5555555555555556,
              "#d8576b"
             ],
             [
              0.6666666666666666,
              "#ed7953"
             ],
             [
              0.7777777777777778,
              "#fb9f3a"
             ],
             [
              0.8888888888888888,
              "#fdca26"
             ],
             [
              1,
              "#f0f921"
             ]
            ],
            "type": "surface"
           }
          ],
          "table": [
           {
            "cells": {
             "fill": {
              "color": "#EBF0F8"
             },
             "line": {
              "color": "white"
             }
            },
            "header": {
             "fill": {
              "color": "#C8D4E3"
             },
             "line": {
              "color": "white"
             }
            },
            "type": "table"
           }
          ]
         },
         "layout": {
          "annotationdefaults": {
           "arrowcolor": "#2a3f5f",
           "arrowhead": 0,
           "arrowwidth": 1
          },
          "autotypenumbers": "strict",
          "coloraxis": {
           "colorbar": {
            "outlinewidth": 0,
            "ticks": ""
           }
          },
          "colorscale": {
           "diverging": [
            [
             0,
             "#8e0152"
            ],
            [
             0.1,
             "#c51b7d"
            ],
            [
             0.2,
             "#de77ae"
            ],
            [
             0.3,
             "#f1b6da"
            ],
            [
             0.4,
             "#fde0ef"
            ],
            [
             0.5,
             "#f7f7f7"
            ],
            [
             0.6,
             "#e6f5d0"
            ],
            [
             0.7,
             "#b8e186"
            ],
            [
             0.8,
             "#7fbc41"
            ],
            [
             0.9,
             "#4d9221"
            ],
            [
             1,
             "#276419"
            ]
           ],
           "sequential": [
            [
             0,
             "#0d0887"
            ],
            [
             0.1111111111111111,
             "#46039f"
            ],
            [
             0.2222222222222222,
             "#7201a8"
            ],
            [
             0.3333333333333333,
             "#9c179e"
            ],
            [
             0.4444444444444444,
             "#bd3786"
            ],
            [
             0.5555555555555556,
             "#d8576b"
            ],
            [
             0.6666666666666666,
             "#ed7953"
            ],
            [
             0.7777777777777778,
             "#fb9f3a"
            ],
            [
             0.8888888888888888,
             "#fdca26"
            ],
            [
             1,
             "#f0f921"
            ]
           ],
           "sequentialminus": [
            [
             0,
             "#0d0887"
            ],
            [
             0.1111111111111111,
             "#46039f"
            ],
            [
             0.2222222222222222,
             "#7201a8"
            ],
            [
             0.3333333333333333,
             "#9c179e"
            ],
            [
             0.4444444444444444,
             "#bd3786"
            ],
            [
             0.5555555555555556,
             "#d8576b"
            ],
            [
             0.6666666666666666,
             "#ed7953"
            ],
            [
             0.7777777777777778,
             "#fb9f3a"
            ],
            [
             0.8888888888888888,
             "#fdca26"
            ],
            [
             1,
             "#f0f921"
            ]
           ]
          },
          "colorway": [
           "#636efa",
           "#EF553B",
           "#00cc96",
           "#ab63fa",
           "#FFA15A",
           "#19d3f3",
           "#FF6692",
           "#B6E880",
           "#FF97FF",
           "#FECB52"
          ],
          "font": {
           "color": "#2a3f5f"
          },
          "geo": {
           "bgcolor": "white",
           "lakecolor": "white",
           "landcolor": "#E5ECF6",
           "showlakes": true,
           "showland": true,
           "subunitcolor": "white"
          },
          "hoverlabel": {
           "align": "left"
          },
          "hovermode": "closest",
          "mapbox": {
           "style": "light"
          },
          "paper_bgcolor": "white",
          "plot_bgcolor": "#E5ECF6",
          "polar": {
           "angularaxis": {
            "gridcolor": "white",
            "linecolor": "white",
            "ticks": ""
           },
           "bgcolor": "#E5ECF6",
           "radialaxis": {
            "gridcolor": "white",
            "linecolor": "white",
            "ticks": ""
           }
          },
          "scene": {
           "xaxis": {
            "backgroundcolor": "#E5ECF6",
            "gridcolor": "white",
            "gridwidth": 2,
            "linecolor": "white",
            "showbackground": true,
            "ticks": "",
            "zerolinecolor": "white"
           },
           "yaxis": {
            "backgroundcolor": "#E5ECF6",
            "gridcolor": "white",
            "gridwidth": 2,
            "linecolor": "white",
            "showbackground": true,
            "ticks": "",
            "zerolinecolor": "white"
           },
           "zaxis": {
            "backgroundcolor": "#E5ECF6",
            "gridcolor": "white",
            "gridwidth": 2,
            "linecolor": "white",
            "showbackground": true,
            "ticks": "",
            "zerolinecolor": "white"
           }
          },
          "shapedefaults": {
           "line": {
            "color": "#2a3f5f"
           }
          },
          "ternary": {
           "aaxis": {
            "gridcolor": "white",
            "linecolor": "white",
            "ticks": ""
           },
           "baxis": {
            "gridcolor": "white",
            "linecolor": "white",
            "ticks": ""
           },
           "bgcolor": "#E5ECF6",
           "caxis": {
            "gridcolor": "white",
            "linecolor": "white",
            "ticks": ""
           }
          },
          "title": {
           "x": 0.05
          },
          "xaxis": {
           "automargin": true,
           "gridcolor": "white",
           "linecolor": "white",
           "ticks": "",
           "title": {
            "standoff": 15
           },
           "zerolinecolor": "white",
           "zerolinewidth": 2
          },
          "yaxis": {
           "automargin": true,
           "gridcolor": "white",
           "linecolor": "white",
           "ticks": "",
           "title": {
            "standoff": 15
           },
           "zerolinecolor": "white",
           "zerolinewidth": 2
          }
         }
        },
        "width": 600,
        "xaxis": {
         "anchor": "x",
         "exponentformat": "e",
         "linecolor": "black",
         "linewidth": 1,
         "mirror": false,
         "showexponent": "all",
         "showline": true,
         "side": "bottom",
         "ticks": "outside",
         "title": {
          "text": "0th"
         },
         "type": "linear",
         "zeroline": true
        },
        "yaxis": {
         "anchor": "y",
         "exponentformat": "e",
         "linecolor": "black",
         "linewidth": 1,
         "mirror": false,
         "showexponent": "all",
         "showline": true,
         "side": "left",
         "ticks": "outside",
         "title": {
          "text": "1st"
         },
         "type": "linear",
         "zeroline": true
        }
       }
      }
     },
     "metadata": {},
     "output_type": "display_data"
    }
   ],
   "source": [
    "plot_point_cloud(x[:, 2:])"
   ]
  },
  {
   "attachments": {},
   "cell_type": "markdown",
   "metadata": {},
   "source": [
    "Persistence diagram of the Vietoris-Rips complex"
   ]
  },
  {
   "attachments": {},
   "cell_type": "markdown",
   "metadata": {},
   "source": [
    "for 2 dimensions of Iris dataset"
   ]
  },
  {
   "cell_type": "code",
   "execution_count": 6,
   "metadata": {},
   "outputs": [],
   "source": [
    "xa = x[:, :2]\n",
    "xa = xa.reshape(1, *xa.shape)"
   ]
  },
  {
   "cell_type": "code",
   "execution_count": 7,
   "metadata": {},
   "outputs": [
    {
     "data": {
      "text/plain": [
       "(1, 150, 2)"
      ]
     },
     "execution_count": 7,
     "metadata": {},
     "output_type": "execute_result"
    }
   ],
   "source": [
    "xa.shape"
   ]
  },
  {
   "cell_type": "code",
   "execution_count": 8,
   "metadata": {},
   "outputs": [
    {
     "data": {
      "application/vnd.plotly.v1+json": {
       "config": {
        "plotlyServerURL": "https://plot.ly"
       },
       "data": [
        {
         "hoverinfo": "none",
         "line": {
          "color": "black",
          "dash": "dash",
          "width": 1
         },
         "mode": "lines",
         "showlegend": false,
         "type": "scatter",
         "x": [
          -0.012806248664855958,
          0.6531186819076538
         ],
         "y": [
          -0.012806248664855958,
          0.6531186819076538
         ]
        },
        {
         "hoverinfo": "text",
         "hovertext": [
          "(0.0, 0.10000000149011612), multiplicity: 65",
          "(0.0, 0.10000000149011612), multiplicity: 65",
          "(0.0, 0.10000000149011612), multiplicity: 65",
          "(0.0, 0.10000000149011612), multiplicity: 65",
          "(0.0, 0.10000000149011612), multiplicity: 65",
          "(0.0, 0.10000000149011612), multiplicity: 65",
          "(0.0, 0.10000000149011612), multiplicity: 65",
          "(0.0, 0.10000000149011612), multiplicity: 65",
          "(0.0, 0.10000000149011612), multiplicity: 65",
          "(0.0, 0.10000000149011612), multiplicity: 65",
          "(0.0, 0.10000000149011612), multiplicity: 65",
          "(0.0, 0.10000000149011612), multiplicity: 65",
          "(0.0, 0.10000000149011612), multiplicity: 65",
          "(0.0, 0.10000000149011612), multiplicity: 65",
          "(0.0, 0.10000000149011612), multiplicity: 65",
          "(0.0, 0.10000000149011612), multiplicity: 65",
          "(0.0, 0.10000000149011612), multiplicity: 65",
          "(0.0, 0.10000000149011612), multiplicity: 65",
          "(0.0, 0.10000000149011612), multiplicity: 65",
          "(0.0, 0.10000000149011612), multiplicity: 65",
          "(0.0, 0.10000000149011612), multiplicity: 65",
          "(0.0, 0.10000000149011612), multiplicity: 65",
          "(0.0, 0.10000000149011612), multiplicity: 65",
          "(0.0, 0.10000000149011612), multiplicity: 65",
          "(0.0, 0.10000000149011612), multiplicity: 65",
          "(0.0, 0.10000000149011612), multiplicity: 65",
          "(0.0, 0.10000000149011612), multiplicity: 65",
          "(0.0, 0.10000000149011612), multiplicity: 65",
          "(0.0, 0.10000000149011612), multiplicity: 65",
          "(0.0, 0.10000000149011612), multiplicity: 65",
          "(0.0, 0.10000000149011612), multiplicity: 65",
          "(0.0, 0.10000000149011612), multiplicity: 65",
          "(0.0, 0.10000000149011612), multiplicity: 65",
          "(0.0, 0.10000000149011612), multiplicity: 65",
          "(0.0, 0.10000000149011612), multiplicity: 65",
          "(0.0, 0.10000000149011612), multiplicity: 65",
          "(0.0, 0.10000000149011612), multiplicity: 65",
          "(0.0, 0.10000000149011612), multiplicity: 65",
          "(0.0, 0.10000000149011612), multiplicity: 65",
          "(0.0, 0.10000000149011612), multiplicity: 65",
          "(0.0, 0.10000000149011612), multiplicity: 65",
          "(0.0, 0.10000000149011612), multiplicity: 65",
          "(0.0, 0.10000000149011612), multiplicity: 65",
          "(0.0, 0.10000000149011612), multiplicity: 65",
          "(0.0, 0.10000000149011612), multiplicity: 65",
          "(0.0, 0.10000000149011612), multiplicity: 65",
          "(0.0, 0.10000000149011612), multiplicity: 65",
          "(0.0, 0.10000000149011612), multiplicity: 65",
          "(0.0, 0.10000000149011612), multiplicity: 65",
          "(0.0, 0.10000000149011612), multiplicity: 65",
          "(0.0, 0.10000000149011612), multiplicity: 65",
          "(0.0, 0.10000000149011612), multiplicity: 65",
          "(0.0, 0.10000000149011612), multiplicity: 65",
          "(0.0, 0.10000000149011612), multiplicity: 65",
          "(0.0, 0.10000000149011612), multiplicity: 65",
          "(0.0, 0.10000000149011612), multiplicity: 65",
          "(0.0, 0.10000000149011612), multiplicity: 65",
          "(0.0, 0.10000000149011612), multiplicity: 65",
          "(0.0, 0.10000000149011612), multiplicity: 65",
          "(0.0, 0.10000000149011612), multiplicity: 65",
          "(0.0, 0.10000000149011612), multiplicity: 65",
          "(0.0, 0.10000000149011612), multiplicity: 65",
          "(0.0, 0.10000000149011612), multiplicity: 65",
          "(0.0, 0.10000000149011612), multiplicity: 65",
          "(0.0, 0.10000000149011612), multiplicity: 65",
          "(0.0, 0.1414213627576828), multiplicity: 15",
          "(0.0, 0.1414213627576828), multiplicity: 15",
          "(0.0, 0.1414213627576828), multiplicity: 15",
          "(0.0, 0.1414213627576828), multiplicity: 15",
          "(0.0, 0.1414213627576828), multiplicity: 15",
          "(0.0, 0.1414213627576828), multiplicity: 15",
          "(0.0, 0.1414213627576828), multiplicity: 15",
          "(0.0, 0.1414213627576828), multiplicity: 15",
          "(0.0, 0.1414213627576828), multiplicity: 15",
          "(0.0, 0.1414213627576828), multiplicity: 15",
          "(0.0, 0.1414213627576828), multiplicity: 15",
          "(0.0, 0.1414213627576828), multiplicity: 15",
          "(0.0, 0.1414213627576828), multiplicity: 15",
          "(0.0, 0.1414213627576828), multiplicity: 15",
          "(0.0, 0.1414213627576828), multiplicity: 15",
          "(0.0, 0.20000000298023224), multiplicity: 22",
          "(0.0, 0.20000000298023224), multiplicity: 22",
          "(0.0, 0.20000000298023224), multiplicity: 22",
          "(0.0, 0.20000000298023224), multiplicity: 22",
          "(0.0, 0.20000000298023224), multiplicity: 22",
          "(0.0, 0.20000000298023224), multiplicity: 22",
          "(0.0, 0.20000000298023224), multiplicity: 22",
          "(0.0, 0.20000000298023224), multiplicity: 22",
          "(0.0, 0.20000000298023224), multiplicity: 22",
          "(0.0, 0.20000000298023224), multiplicity: 22",
          "(0.0, 0.20000000298023224), multiplicity: 22",
          "(0.0, 0.20000000298023224), multiplicity: 22",
          "(0.0, 0.20000000298023224), multiplicity: 22",
          "(0.0, 0.20000000298023224), multiplicity: 22",
          "(0.0, 0.20000000298023224), multiplicity: 22",
          "(0.0, 0.20000000298023224), multiplicity: 22",
          "(0.0, 0.20000000298023224), multiplicity: 22",
          "(0.0, 0.20000000298023224), multiplicity: 22",
          "(0.0, 0.20000000298023224), multiplicity: 22",
          "(0.0, 0.20000000298023224), multiplicity: 22",
          "(0.0, 0.20000000298023224), multiplicity: 22",
          "(0.0, 0.20000000298023224), multiplicity: 22",
          "(0.0, 0.22360679507255554), multiplicity: 2",
          "(0.0, 0.22360679507255554), multiplicity: 2",
          "(0.0, 0.2828427255153656), multiplicity: 3",
          "(0.0, 0.2828427255153656), multiplicity: 3",
          "(0.0, 0.2828427255153656), multiplicity: 3",
          "(0.0, 0.30000001192092896)",
          "(0.0, 0.3162277638912201), multiplicity: 4",
          "(0.0, 0.3162277638912201), multiplicity: 4",
          "(0.0, 0.3162277638912201), multiplicity: 4",
          "(0.0, 0.3162277638912201), multiplicity: 4",
          "(0.0, 0.36055514216423035)",
          "(0.0, 0.4000000059604645)",
          "(0.0, 0.41231057047843933)",
          "(0.0, 0.5385164618492126)"
         ],
         "mode": "markers",
         "name": "H0",
         "type": "scatter",
         "x": [
          0,
          0,
          0,
          0,
          0,
          0,
          0,
          0,
          0,
          0,
          0,
          0,
          0,
          0,
          0,
          0,
          0,
          0,
          0,
          0,
          0,
          0,
          0,
          0,
          0,
          0,
          0,
          0,
          0,
          0,
          0,
          0,
          0,
          0,
          0,
          0,
          0,
          0,
          0,
          0,
          0,
          0,
          0,
          0,
          0,
          0,
          0,
          0,
          0,
          0,
          0,
          0,
          0,
          0,
          0,
          0,
          0,
          0,
          0,
          0,
          0,
          0,
          0,
          0,
          0,
          0,
          0,
          0,
          0,
          0,
          0,
          0,
          0,
          0,
          0,
          0,
          0,
          0,
          0,
          0,
          0,
          0,
          0,
          0,
          0,
          0,
          0,
          0,
          0,
          0,
          0,
          0,
          0,
          0,
          0,
          0,
          0,
          0,
          0,
          0,
          0,
          0,
          0,
          0,
          0,
          0,
          0,
          0,
          0,
          0,
          0,
          0,
          0,
          0,
          0,
          0
         ],
         "y": [
          0.10000000149011612,
          0.10000000149011612,
          0.10000000149011612,
          0.10000000149011612,
          0.10000000149011612,
          0.10000000149011612,
          0.10000000149011612,
          0.10000000149011612,
          0.10000000149011612,
          0.10000000149011612,
          0.10000000149011612,
          0.10000000149011612,
          0.10000000149011612,
          0.10000000149011612,
          0.10000000149011612,
          0.10000000149011612,
          0.10000000149011612,
          0.10000000149011612,
          0.10000000149011612,
          0.10000000149011612,
          0.10000000149011612,
          0.10000000149011612,
          0.10000000149011612,
          0.10000000149011612,
          0.10000000149011612,
          0.10000000149011612,
          0.10000000149011612,
          0.10000000149011612,
          0.10000000149011612,
          0.10000000149011612,
          0.10000000149011612,
          0.10000000149011612,
          0.10000000149011612,
          0.10000000149011612,
          0.10000000149011612,
          0.10000000149011612,
          0.10000000149011612,
          0.10000000149011612,
          0.10000000149011612,
          0.10000000149011612,
          0.10000000149011612,
          0.10000000149011612,
          0.10000000149011612,
          0.10000000149011612,
          0.10000000149011612,
          0.10000000149011612,
          0.10000000149011612,
          0.10000000149011612,
          0.10000000149011612,
          0.10000000149011612,
          0.10000000149011612,
          0.10000000149011612,
          0.10000000149011612,
          0.10000000149011612,
          0.10000000149011612,
          0.10000000149011612,
          0.10000000149011612,
          0.10000000149011612,
          0.10000000149011612,
          0.10000000149011612,
          0.10000000149011612,
          0.10000000149011612,
          0.10000000149011612,
          0.10000000149011612,
          0.10000000149011612,
          0.1414213627576828,
          0.1414213627576828,
          0.1414213627576828,
          0.1414213627576828,
          0.1414213627576828,
          0.1414213627576828,
          0.1414213627576828,
          0.1414213627576828,
          0.1414213627576828,
          0.1414213627576828,
          0.1414213627576828,
          0.1414213627576828,
          0.1414213627576828,
          0.1414213627576828,
          0.1414213627576828,
          0.20000000298023224,
          0.20000000298023224,
          0.20000000298023224,
          0.20000000298023224,
          0.20000000298023224,
          0.20000000298023224,
          0.20000000298023224,
          0.20000000298023224,
          0.20000000298023224,
          0.20000000298023224,
          0.20000000298023224,
          0.20000000298023224,
          0.20000000298023224,
          0.20000000298023224,
          0.20000000298023224,
          0.20000000298023224,
          0.20000000298023224,
          0.20000000298023224,
          0.20000000298023224,
          0.20000000298023224,
          0.20000000298023224,
          0.20000000298023224,
          0.22360679507255554,
          0.22360679507255554,
          0.2828427255153656,
          0.2828427255153656,
          0.2828427255153656,
          0.30000001192092896,
          0.3162277638912201,
          0.3162277638912201,
          0.3162277638912201,
          0.3162277638912201,
          0.36055514216423035,
          0.4000000059604645,
          0.41231057047843933,
          0.5385164618492126
         ]
        },
        {
         "hoverinfo": "text",
         "hovertext": [
          "(0.6082762479782104, 0.6403124332427979)",
          "(0.5, 0.5099019408226013), multiplicity: 2",
          "(0.5, 0.5099019408226013), multiplicity: 2",
          "(0.4000000059604645, 0.4242640733718872)",
          "(0.36055514216423035, 0.41231057047843933)",
          "(0.36055514216423035, 0.4000000059604645)",
          "(0.22360679507255554, 0.41231057047843933)",
          "(0.22360679507255554, 0.30000001192092896)",
          "(0.20000000298023224, 0.30000001192092896)",
          "(0.20000000298023224, 0.22360679507255554)",
          "(0.1414213627576828, 0.20000000298023224), multiplicity: 4",
          "(0.1414213627576828, 0.20000000298023224), multiplicity: 4",
          "(0.1414213627576828, 0.20000000298023224), multiplicity: 4",
          "(0.1414213627576828, 0.20000000298023224), multiplicity: 4",
          "(0.10000000149011612, 0.1414213627576828), multiplicity: 11",
          "(0.10000000149011612, 0.1414213627576828), multiplicity: 11",
          "(0.10000000149011612, 0.1414213627576828), multiplicity: 11",
          "(0.10000000149011612, 0.1414213627576828), multiplicity: 11",
          "(0.10000000149011612, 0.1414213627576828), multiplicity: 11",
          "(0.10000000149011612, 0.1414213627576828), multiplicity: 11",
          "(0.10000000149011612, 0.1414213627576828), multiplicity: 11",
          "(0.10000000149011612, 0.1414213627576828), multiplicity: 11",
          "(0.10000000149011612, 0.1414213627576828), multiplicity: 11",
          "(0.10000000149011612, 0.1414213627576828), multiplicity: 11",
          "(0.10000000149011612, 0.1414213627576828), multiplicity: 11"
         ],
         "mode": "markers",
         "name": "H1",
         "type": "scatter",
         "x": [
          0.6082762479782104,
          0.5,
          0.5,
          0.4000000059604645,
          0.36055514216423035,
          0.36055514216423035,
          0.22360679507255554,
          0.22360679507255554,
          0.20000000298023224,
          0.20000000298023224,
          0.1414213627576828,
          0.1414213627576828,
          0.1414213627576828,
          0.1414213627576828,
          0.10000000149011612,
          0.10000000149011612,
          0.10000000149011612,
          0.10000000149011612,
          0.10000000149011612,
          0.10000000149011612,
          0.10000000149011612,
          0.10000000149011612,
          0.10000000149011612,
          0.10000000149011612,
          0.10000000149011612
         ],
         "y": [
          0.6403124332427979,
          0.5099019408226013,
          0.5099019408226013,
          0.4242640733718872,
          0.41231057047843933,
          0.4000000059604645,
          0.41231057047843933,
          0.30000001192092896,
          0.30000001192092896,
          0.22360679507255554,
          0.20000000298023224,
          0.20000000298023224,
          0.20000000298023224,
          0.20000000298023224,
          0.1414213627576828,
          0.1414213627576828,
          0.1414213627576828,
          0.1414213627576828,
          0.1414213627576828,
          0.1414213627576828,
          0.1414213627576828,
          0.1414213627576828,
          0.1414213627576828,
          0.1414213627576828,
          0.1414213627576828
         ]
        }
       ],
       "layout": {
        "height": 500,
        "plot_bgcolor": "white",
        "template": {
         "data": {
          "bar": [
           {
            "error_x": {
             "color": "#2a3f5f"
            },
            "error_y": {
             "color": "#2a3f5f"
            },
            "marker": {
             "line": {
              "color": "#E5ECF6",
              "width": 0.5
             },
             "pattern": {
              "fillmode": "overlay",
              "size": 10,
              "solidity": 0.2
             }
            },
            "type": "bar"
           }
          ],
          "barpolar": [
           {
            "marker": {
             "line": {
              "color": "#E5ECF6",
              "width": 0.5
             },
             "pattern": {
              "fillmode": "overlay",
              "size": 10,
              "solidity": 0.2
             }
            },
            "type": "barpolar"
           }
          ],
          "carpet": [
           {
            "aaxis": {
             "endlinecolor": "#2a3f5f",
             "gridcolor": "white",
             "linecolor": "white",
             "minorgridcolor": "white",
             "startlinecolor": "#2a3f5f"
            },
            "baxis": {
             "endlinecolor": "#2a3f5f",
             "gridcolor": "white",
             "linecolor": "white",
             "minorgridcolor": "white",
             "startlinecolor": "#2a3f5f"
            },
            "type": "carpet"
           }
          ],
          "choropleth": [
           {
            "colorbar": {
             "outlinewidth": 0,
             "ticks": ""
            },
            "type": "choropleth"
           }
          ],
          "contour": [
           {
            "colorbar": {
             "outlinewidth": 0,
             "ticks": ""
            },
            "colorscale": [
             [
              0,
              "#0d0887"
             ],
             [
              0.1111111111111111,
              "#46039f"
             ],
             [
              0.2222222222222222,
              "#7201a8"
             ],
             [
              0.3333333333333333,
              "#9c179e"
             ],
             [
              0.4444444444444444,
              "#bd3786"
             ],
             [
              0.5555555555555556,
              "#d8576b"
             ],
             [
              0.6666666666666666,
              "#ed7953"
             ],
             [
              0.7777777777777778,
              "#fb9f3a"
             ],
             [
              0.8888888888888888,
              "#fdca26"
             ],
             [
              1,
              "#f0f921"
             ]
            ],
            "type": "contour"
           }
          ],
          "contourcarpet": [
           {
            "colorbar": {
             "outlinewidth": 0,
             "ticks": ""
            },
            "type": "contourcarpet"
           }
          ],
          "heatmap": [
           {
            "colorbar": {
             "outlinewidth": 0,
             "ticks": ""
            },
            "colorscale": [
             [
              0,
              "#0d0887"
             ],
             [
              0.1111111111111111,
              "#46039f"
             ],
             [
              0.2222222222222222,
              "#7201a8"
             ],
             [
              0.3333333333333333,
              "#9c179e"
             ],
             [
              0.4444444444444444,
              "#bd3786"
             ],
             [
              0.5555555555555556,
              "#d8576b"
             ],
             [
              0.6666666666666666,
              "#ed7953"
             ],
             [
              0.7777777777777778,
              "#fb9f3a"
             ],
             [
              0.8888888888888888,
              "#fdca26"
             ],
             [
              1,
              "#f0f921"
             ]
            ],
            "type": "heatmap"
           }
          ],
          "heatmapgl": [
           {
            "colorbar": {
             "outlinewidth": 0,
             "ticks": ""
            },
            "colorscale": [
             [
              0,
              "#0d0887"
             ],
             [
              0.1111111111111111,
              "#46039f"
             ],
             [
              0.2222222222222222,
              "#7201a8"
             ],
             [
              0.3333333333333333,
              "#9c179e"
             ],
             [
              0.4444444444444444,
              "#bd3786"
             ],
             [
              0.5555555555555556,
              "#d8576b"
             ],
             [
              0.6666666666666666,
              "#ed7953"
             ],
             [
              0.7777777777777778,
              "#fb9f3a"
             ],
             [
              0.8888888888888888,
              "#fdca26"
             ],
             [
              1,
              "#f0f921"
             ]
            ],
            "type": "heatmapgl"
           }
          ],
          "histogram": [
           {
            "marker": {
             "pattern": {
              "fillmode": "overlay",
              "size": 10,
              "solidity": 0.2
             }
            },
            "type": "histogram"
           }
          ],
          "histogram2d": [
           {
            "colorbar": {
             "outlinewidth": 0,
             "ticks": ""
            },
            "colorscale": [
             [
              0,
              "#0d0887"
             ],
             [
              0.1111111111111111,
              "#46039f"
             ],
             [
              0.2222222222222222,
              "#7201a8"
             ],
             [
              0.3333333333333333,
              "#9c179e"
             ],
             [
              0.4444444444444444,
              "#bd3786"
             ],
             [
              0.5555555555555556,
              "#d8576b"
             ],
             [
              0.6666666666666666,
              "#ed7953"
             ],
             [
              0.7777777777777778,
              "#fb9f3a"
             ],
             [
              0.8888888888888888,
              "#fdca26"
             ],
             [
              1,
              "#f0f921"
             ]
            ],
            "type": "histogram2d"
           }
          ],
          "histogram2dcontour": [
           {
            "colorbar": {
             "outlinewidth": 0,
             "ticks": ""
            },
            "colorscale": [
             [
              0,
              "#0d0887"
             ],
             [
              0.1111111111111111,
              "#46039f"
             ],
             [
              0.2222222222222222,
              "#7201a8"
             ],
             [
              0.3333333333333333,
              "#9c179e"
             ],
             [
              0.4444444444444444,
              "#bd3786"
             ],
             [
              0.5555555555555556,
              "#d8576b"
             ],
             [
              0.6666666666666666,
              "#ed7953"
             ],
             [
              0.7777777777777778,
              "#fb9f3a"
             ],
             [
              0.8888888888888888,
              "#fdca26"
             ],
             [
              1,
              "#f0f921"
             ]
            ],
            "type": "histogram2dcontour"
           }
          ],
          "mesh3d": [
           {
            "colorbar": {
             "outlinewidth": 0,
             "ticks": ""
            },
            "type": "mesh3d"
           }
          ],
          "parcoords": [
           {
            "line": {
             "colorbar": {
              "outlinewidth": 0,
              "ticks": ""
             }
            },
            "type": "parcoords"
           }
          ],
          "pie": [
           {
            "automargin": true,
            "type": "pie"
           }
          ],
          "scatter": [
           {
            "fillpattern": {
             "fillmode": "overlay",
             "size": 10,
             "solidity": 0.2
            },
            "type": "scatter"
           }
          ],
          "scatter3d": [
           {
            "line": {
             "colorbar": {
              "outlinewidth": 0,
              "ticks": ""
             }
            },
            "marker": {
             "colorbar": {
              "outlinewidth": 0,
              "ticks": ""
             }
            },
            "type": "scatter3d"
           }
          ],
          "scattercarpet": [
           {
            "marker": {
             "colorbar": {
              "outlinewidth": 0,
              "ticks": ""
             }
            },
            "type": "scattercarpet"
           }
          ],
          "scattergeo": [
           {
            "marker": {
             "colorbar": {
              "outlinewidth": 0,
              "ticks": ""
             }
            },
            "type": "scattergeo"
           }
          ],
          "scattergl": [
           {
            "marker": {
             "colorbar": {
              "outlinewidth": 0,
              "ticks": ""
             }
            },
            "type": "scattergl"
           }
          ],
          "scattermapbox": [
           {
            "marker": {
             "colorbar": {
              "outlinewidth": 0,
              "ticks": ""
             }
            },
            "type": "scattermapbox"
           }
          ],
          "scatterpolar": [
           {
            "marker": {
             "colorbar": {
              "outlinewidth": 0,
              "ticks": ""
             }
            },
            "type": "scatterpolar"
           }
          ],
          "scatterpolargl": [
           {
            "marker": {
             "colorbar": {
              "outlinewidth": 0,
              "ticks": ""
             }
            },
            "type": "scatterpolargl"
           }
          ],
          "scatterternary": [
           {
            "marker": {
             "colorbar": {
              "outlinewidth": 0,
              "ticks": ""
             }
            },
            "type": "scatterternary"
           }
          ],
          "surface": [
           {
            "colorbar": {
             "outlinewidth": 0,
             "ticks": ""
            },
            "colorscale": [
             [
              0,
              "#0d0887"
             ],
             [
              0.1111111111111111,
              "#46039f"
             ],
             [
              0.2222222222222222,
              "#7201a8"
             ],
             [
              0.3333333333333333,
              "#9c179e"
             ],
             [
              0.4444444444444444,
              "#bd3786"
             ],
             [
              0.5555555555555556,
              "#d8576b"
             ],
             [
              0.6666666666666666,
              "#ed7953"
             ],
             [
              0.7777777777777778,
              "#fb9f3a"
             ],
             [
              0.8888888888888888,
              "#fdca26"
             ],
             [
              1,
              "#f0f921"
             ]
            ],
            "type": "surface"
           }
          ],
          "table": [
           {
            "cells": {
             "fill": {
              "color": "#EBF0F8"
             },
             "line": {
              "color": "white"
             }
            },
            "header": {
             "fill": {
              "color": "#C8D4E3"
             },
             "line": {
              "color": "white"
             }
            },
            "type": "table"
           }
          ]
         },
         "layout": {
          "annotationdefaults": {
           "arrowcolor": "#2a3f5f",
           "arrowhead": 0,
           "arrowwidth": 1
          },
          "autotypenumbers": "strict",
          "coloraxis": {
           "colorbar": {
            "outlinewidth": 0,
            "ticks": ""
           }
          },
          "colorscale": {
           "diverging": [
            [
             0,
             "#8e0152"
            ],
            [
             0.1,
             "#c51b7d"
            ],
            [
             0.2,
             "#de77ae"
            ],
            [
             0.3,
             "#f1b6da"
            ],
            [
             0.4,
             "#fde0ef"
            ],
            [
             0.5,
             "#f7f7f7"
            ],
            [
             0.6,
             "#e6f5d0"
            ],
            [
             0.7,
             "#b8e186"
            ],
            [
             0.8,
             "#7fbc41"
            ],
            [
             0.9,
             "#4d9221"
            ],
            [
             1,
             "#276419"
            ]
           ],
           "sequential": [
            [
             0,
             "#0d0887"
            ],
            [
             0.1111111111111111,
             "#46039f"
            ],
            [
             0.2222222222222222,
             "#7201a8"
            ],
            [
             0.3333333333333333,
             "#9c179e"
            ],
            [
             0.4444444444444444,
             "#bd3786"
            ],
            [
             0.5555555555555556,
             "#d8576b"
            ],
            [
             0.6666666666666666,
             "#ed7953"
            ],
            [
             0.7777777777777778,
             "#fb9f3a"
            ],
            [
             0.8888888888888888,
             "#fdca26"
            ],
            [
             1,
             "#f0f921"
            ]
           ],
           "sequentialminus": [
            [
             0,
             "#0d0887"
            ],
            [
             0.1111111111111111,
             "#46039f"
            ],
            [
             0.2222222222222222,
             "#7201a8"
            ],
            [
             0.3333333333333333,
             "#9c179e"
            ],
            [
             0.4444444444444444,
             "#bd3786"
            ],
            [
             0.5555555555555556,
             "#d8576b"
            ],
            [
             0.6666666666666666,
             "#ed7953"
            ],
            [
             0.7777777777777778,
             "#fb9f3a"
            ],
            [
             0.8888888888888888,
             "#fdca26"
            ],
            [
             1,
             "#f0f921"
            ]
           ]
          },
          "colorway": [
           "#636efa",
           "#EF553B",
           "#00cc96",
           "#ab63fa",
           "#FFA15A",
           "#19d3f3",
           "#FF6692",
           "#B6E880",
           "#FF97FF",
           "#FECB52"
          ],
          "font": {
           "color": "#2a3f5f"
          },
          "geo": {
           "bgcolor": "white",
           "lakecolor": "white",
           "landcolor": "#E5ECF6",
           "showlakes": true,
           "showland": true,
           "subunitcolor": "white"
          },
          "hoverlabel": {
           "align": "left"
          },
          "hovermode": "closest",
          "mapbox": {
           "style": "light"
          },
          "paper_bgcolor": "white",
          "plot_bgcolor": "#E5ECF6",
          "polar": {
           "angularaxis": {
            "gridcolor": "white",
            "linecolor": "white",
            "ticks": ""
           },
           "bgcolor": "#E5ECF6",
           "radialaxis": {
            "gridcolor": "white",
            "linecolor": "white",
            "ticks": ""
           }
          },
          "scene": {
           "xaxis": {
            "backgroundcolor": "#E5ECF6",
            "gridcolor": "white",
            "gridwidth": 2,
            "linecolor": "white",
            "showbackground": true,
            "ticks": "",
            "zerolinecolor": "white"
           },
           "yaxis": {
            "backgroundcolor": "#E5ECF6",
            "gridcolor": "white",
            "gridwidth": 2,
            "linecolor": "white",
            "showbackground": true,
            "ticks": "",
            "zerolinecolor": "white"
           },
           "zaxis": {
            "backgroundcolor": "#E5ECF6",
            "gridcolor": "white",
            "gridwidth": 2,
            "linecolor": "white",
            "showbackground": true,
            "ticks": "",
            "zerolinecolor": "white"
           }
          },
          "shapedefaults": {
           "line": {
            "color": "#2a3f5f"
           }
          },
          "ternary": {
           "aaxis": {
            "gridcolor": "white",
            "linecolor": "white",
            "ticks": ""
           },
           "baxis": {
            "gridcolor": "white",
            "linecolor": "white",
            "ticks": ""
           },
           "bgcolor": "#E5ECF6",
           "caxis": {
            "gridcolor": "white",
            "linecolor": "white",
            "ticks": ""
           }
          },
          "title": {
           "x": 0.05
          },
          "xaxis": {
           "automargin": true,
           "gridcolor": "white",
           "linecolor": "white",
           "ticks": "",
           "title": {
            "standoff": 15
           },
           "zerolinecolor": "white",
           "zerolinewidth": 2
          },
          "yaxis": {
           "automargin": true,
           "gridcolor": "white",
           "linecolor": "white",
           "ticks": "",
           "title": {
            "standoff": 15
           },
           "zerolinecolor": "white",
           "zerolinewidth": 2
          }
         }
        },
        "width": 500,
        "xaxis": {
         "autorange": false,
         "exponentformat": "e",
         "linecolor": "black",
         "linewidth": 1,
         "mirror": false,
         "range": [
          -0.012806248664855958,
          0.6531186819076538
         ],
         "showexponent": "all",
         "showline": true,
         "side": "bottom",
         "ticks": "outside",
         "title": {
          "text": "Birth"
         },
         "type": "linear",
         "zeroline": true
        },
        "yaxis": {
         "autorange": false,
         "exponentformat": "e",
         "linecolor": "black",
         "linewidth": 1,
         "mirror": false,
         "range": [
          -0.012806248664855958,
          0.6531186819076538
         ],
         "scaleanchor": "x",
         "scaleratio": 1,
         "showexponent": "all",
         "showline": true,
         "side": "left",
         "ticks": "outside",
         "title": {
          "text": "Death"
         },
         "type": "linear",
         "zeroline": true
        }
       }
      }
     },
     "metadata": {},
     "output_type": "display_data"
    }
   ],
   "source": [
    "vr = VietorisRipsPersistence()\n",
    "xt = vr.fit_transform(xa)\n",
    "vr.plot(xt)\n"
   ]
  },
  {
   "attachments": {},
   "cell_type": "markdown",
   "metadata": {},
   "source": [
    "For all 4 dimensions of Iris dataset"
   ]
  },
  {
   "cell_type": "code",
   "execution_count": 9,
   "metadata": {},
   "outputs": [
    {
     "data": {
      "text/plain": [
       "(1, 150, 4)"
      ]
     },
     "execution_count": 9,
     "metadata": {},
     "output_type": "execute_result"
    }
   ],
   "source": [
    "# reshape the dimensions of dataset\n",
    "xp = x.reshape(1, *x.shape)\n",
    "xp.shape"
   ]
  },
  {
   "cell_type": "code",
   "execution_count": 10,
   "metadata": {},
   "outputs": [
    {
     "data": {
      "application/vnd.plotly.v1+json": {
       "config": {
        "plotlyServerURL": "https://plot.ly"
       },
       "data": [
        {
         "hoverinfo": "none",
         "line": {
          "color": "black",
          "dash": "dash",
          "width": 1
         },
         "mode": "lines",
         "showlegend": false,
         "type": "scatter",
         "x": [
          -0.03280243873596191,
          1.6729243755340577
         ],
         "y": [
          -0.03280243873596191,
          1.6729243755340577
         ]
        },
        {
         "hoverinfo": "text",
         "hovertext": [
          "(0.0, 0.10000000149011612), multiplicity: 5",
          "(0.0, 0.10000000149011612), multiplicity: 5",
          "(0.0, 0.10000000149011612), multiplicity: 5",
          "(0.0, 0.10000000149011612), multiplicity: 5",
          "(0.0, 0.10000000149011612), multiplicity: 5",
          "(0.0, 0.1414213627576828), multiplicity: 26",
          "(0.0, 0.1414213627576828), multiplicity: 26",
          "(0.0, 0.1414213627576828), multiplicity: 26",
          "(0.0, 0.1414213627576828), multiplicity: 26",
          "(0.0, 0.1414213627576828), multiplicity: 26",
          "(0.0, 0.1414213627576828), multiplicity: 26",
          "(0.0, 0.1414213627576828), multiplicity: 26",
          "(0.0, 0.1414213627576828), multiplicity: 26",
          "(0.0, 0.1414213627576828), multiplicity: 26",
          "(0.0, 0.1414213627576828), multiplicity: 26",
          "(0.0, 0.1414213627576828), multiplicity: 26",
          "(0.0, 0.1414213627576828), multiplicity: 26",
          "(0.0, 0.1414213627576828), multiplicity: 26",
          "(0.0, 0.1414213627576828), multiplicity: 26",
          "(0.0, 0.1414213627576828), multiplicity: 26",
          "(0.0, 0.1414213627576828), multiplicity: 26",
          "(0.0, 0.1414213627576828), multiplicity: 26",
          "(0.0, 0.1414213627576828), multiplicity: 26",
          "(0.0, 0.1414213627576828), multiplicity: 26",
          "(0.0, 0.1414213627576828), multiplicity: 26",
          "(0.0, 0.1414213627576828), multiplicity: 26",
          "(0.0, 0.1414213627576828), multiplicity: 26",
          "(0.0, 0.1414213627576828), multiplicity: 26",
          "(0.0, 0.1414213627576828), multiplicity: 26",
          "(0.0, 0.1414213627576828), multiplicity: 26",
          "(0.0, 0.1414213627576828), multiplicity: 26",
          "(0.0, 0.17320507764816284), multiplicity: 7",
          "(0.0, 0.17320507764816284), multiplicity: 7",
          "(0.0, 0.17320507764816284), multiplicity: 7",
          "(0.0, 0.17320507764816284), multiplicity: 7",
          "(0.0, 0.17320507764816284), multiplicity: 7",
          "(0.0, 0.17320507764816284), multiplicity: 7",
          "(0.0, 0.17320507764816284), multiplicity: 7",
          "(0.0, 0.20000000298023224), multiplicity: 6",
          "(0.0, 0.20000000298023224), multiplicity: 6",
          "(0.0, 0.20000000298023224), multiplicity: 6",
          "(0.0, 0.20000000298023224), multiplicity: 6",
          "(0.0, 0.20000000298023224), multiplicity: 6",
          "(0.0, 0.20000000298023224), multiplicity: 6",
          "(0.0, 0.22360679507255554), multiplicity: 12",
          "(0.0, 0.22360679507255554), multiplicity: 12",
          "(0.0, 0.22360679507255554), multiplicity: 12",
          "(0.0, 0.22360679507255554), multiplicity: 12",
          "(0.0, 0.22360679507255554), multiplicity: 12",
          "(0.0, 0.22360679507255554), multiplicity: 12",
          "(0.0, 0.22360679507255554), multiplicity: 12",
          "(0.0, 0.22360679507255554), multiplicity: 12",
          "(0.0, 0.22360679507255554), multiplicity: 12",
          "(0.0, 0.22360679507255554), multiplicity: 12",
          "(0.0, 0.22360679507255554), multiplicity: 12",
          "(0.0, 0.22360679507255554), multiplicity: 12",
          "(0.0, 0.24494896829128265), multiplicity: 12",
          "(0.0, 0.24494896829128265), multiplicity: 12",
          "(0.0, 0.24494896829128265), multiplicity: 12",
          "(0.0, 0.24494896829128265), multiplicity: 12",
          "(0.0, 0.24494896829128265), multiplicity: 12",
          "(0.0, 0.24494896829128265), multiplicity: 12",
          "(0.0, 0.24494896829128265), multiplicity: 12",
          "(0.0, 0.24494896829128265), multiplicity: 12",
          "(0.0, 0.24494896829128265), multiplicity: 12",
          "(0.0, 0.24494896829128265), multiplicity: 12",
          "(0.0, 0.24494896829128265), multiplicity: 12",
          "(0.0, 0.24494896829128265), multiplicity: 12",
          "(0.0, 0.26457512378692627), multiplicity: 11",
          "(0.0, 0.26457512378692627), multiplicity: 11",
          "(0.0, 0.26457512378692627), multiplicity: 11",
          "(0.0, 0.26457512378692627), multiplicity: 11",
          "(0.0, 0.26457512378692627), multiplicity: 11",
          "(0.0, 0.26457512378692627), multiplicity: 11",
          "(0.0, 0.26457512378692627), multiplicity: 11",
          "(0.0, 0.26457512378692627), multiplicity: 11",
          "(0.0, 0.26457512378692627), multiplicity: 11",
          "(0.0, 0.26457512378692627), multiplicity: 11",
          "(0.0, 0.26457512378692627), multiplicity: 11",
          "(0.0, 0.2828427255153656), multiplicity: 3",
          "(0.0, 0.2828427255153656), multiplicity: 3",
          "(0.0, 0.2828427255153656), multiplicity: 3",
          "(0.0, 0.30000001192092896), multiplicity: 8",
          "(0.0, 0.30000001192092896), multiplicity: 8",
          "(0.0, 0.30000001192092896), multiplicity: 8",
          "(0.0, 0.30000001192092896), multiplicity: 8",
          "(0.0, 0.30000001192092896), multiplicity: 8",
          "(0.0, 0.30000001192092896), multiplicity: 8",
          "(0.0, 0.30000001192092896), multiplicity: 8",
          "(0.0, 0.30000001192092896), multiplicity: 8",
          "(0.0, 0.3162277638912201), multiplicity: 6",
          "(0.0, 0.3162277638912201), multiplicity: 6",
          "(0.0, 0.3162277638912201), multiplicity: 6",
          "(0.0, 0.3162277638912201), multiplicity: 6",
          "(0.0, 0.3162277638912201), multiplicity: 6",
          "(0.0, 0.3162277638912201), multiplicity: 6",
          "(0.0, 0.33166247606277466), multiplicity: 6",
          "(0.0, 0.33166247606277466), multiplicity: 6",
          "(0.0, 0.33166247606277466), multiplicity: 6",
          "(0.0, 0.33166247606277466), multiplicity: 6",
          "(0.0, 0.33166247606277466), multiplicity: 6",
          "(0.0, 0.33166247606277466), multiplicity: 6",
          "(0.0, 0.3464101552963257), multiplicity: 9",
          "(0.0, 0.3464101552963257), multiplicity: 9",
          "(0.0, 0.3464101552963257), multiplicity: 9",
          "(0.0, 0.3464101552963257), multiplicity: 9",
          "(0.0, 0.3464101552963257), multiplicity: 9",
          "(0.0, 0.3464101552963257), multiplicity: 9",
          "(0.0, 0.3464101552963257), multiplicity: 9",
          "(0.0, 0.3464101552963257), multiplicity: 9",
          "(0.0, 0.3464101552963257), multiplicity: 9",
          "(0.0, 0.36055514216423035), multiplicity: 8",
          "(0.0, 0.36055514216423035), multiplicity: 8",
          "(0.0, 0.36055514216423035), multiplicity: 8",
          "(0.0, 0.36055514216423035), multiplicity: 8",
          "(0.0, 0.36055514216423035), multiplicity: 8",
          "(0.0, 0.36055514216423035), multiplicity: 8",
          "(0.0, 0.36055514216423035), multiplicity: 8",
          "(0.0, 0.36055514216423035), multiplicity: 8",
          "(0.0, 0.37416574358940125), multiplicity: 3",
          "(0.0, 0.37416574358940125), multiplicity: 3",
          "(0.0, 0.37416574358940125), multiplicity: 3",
          "(0.0, 0.3872983455657959), multiplicity: 3",
          "(0.0, 0.3872983455657959), multiplicity: 3",
          "(0.0, 0.3872983455657959), multiplicity: 3",
          "(0.0, 0.4000000059604645)",
          "(0.0, 0.41231057047843933), multiplicity: 4",
          "(0.0, 0.41231057047843933), multiplicity: 4",
          "(0.0, 0.41231057047843933), multiplicity: 4",
          "(0.0, 0.41231057047843933), multiplicity: 4",
          "(0.0, 0.4242640733718872), multiplicity: 2",
          "(0.0, 0.4242640733718872), multiplicity: 2",
          "(0.0, 0.4358898997306824), multiplicity: 2",
          "(0.0, 0.4358898997306824), multiplicity: 2",
          "(0.0, 0.4582575559616089)",
          "(0.0, 0.4898979365825653), multiplicity: 2",
          "(0.0, 0.4898979365825653), multiplicity: 2",
          "(0.0, 0.5099019408226013)",
          "(0.0, 0.5291502475738525)",
          "(0.0, 0.5385164618492126), multiplicity: 2",
          "(0.0, 0.5385164618492126), multiplicity: 2",
          "(0.0, 0.5567764639854431)",
          "(0.0, 0.6244997978210449)",
          "(0.0, 0.6324555277824402)",
          "(0.0, 0.6480740904808044)",
          "(0.0, 0.7348469495773315)",
          "(0.0, 0.8185352683067322)",
          "(0.0, 1.6401219367980957)"
         ],
         "mode": "markers",
         "name": "H0",
         "type": "scatter",
         "x": [
          0,
          0,
          0,
          0,
          0,
          0,
          0,
          0,
          0,
          0,
          0,
          0,
          0,
          0,
          0,
          0,
          0,
          0,
          0,
          0,
          0,
          0,
          0,
          0,
          0,
          0,
          0,
          0,
          0,
          0,
          0,
          0,
          0,
          0,
          0,
          0,
          0,
          0,
          0,
          0,
          0,
          0,
          0,
          0,
          0,
          0,
          0,
          0,
          0,
          0,
          0,
          0,
          0,
          0,
          0,
          0,
          0,
          0,
          0,
          0,
          0,
          0,
          0,
          0,
          0,
          0,
          0,
          0,
          0,
          0,
          0,
          0,
          0,
          0,
          0,
          0,
          0,
          0,
          0,
          0,
          0,
          0,
          0,
          0,
          0,
          0,
          0,
          0,
          0,
          0,
          0,
          0,
          0,
          0,
          0,
          0,
          0,
          0,
          0,
          0,
          0,
          0,
          0,
          0,
          0,
          0,
          0,
          0,
          0,
          0,
          0,
          0,
          0,
          0,
          0,
          0,
          0,
          0,
          0,
          0,
          0,
          0,
          0,
          0,
          0,
          0,
          0,
          0,
          0,
          0,
          0,
          0,
          0,
          0,
          0,
          0,
          0,
          0,
          0,
          0,
          0,
          0,
          0,
          0,
          0,
          0,
          0,
          0
         ],
         "y": [
          0.10000000149011612,
          0.10000000149011612,
          0.10000000149011612,
          0.10000000149011612,
          0.10000000149011612,
          0.1414213627576828,
          0.1414213627576828,
          0.1414213627576828,
          0.1414213627576828,
          0.1414213627576828,
          0.1414213627576828,
          0.1414213627576828,
          0.1414213627576828,
          0.1414213627576828,
          0.1414213627576828,
          0.1414213627576828,
          0.1414213627576828,
          0.1414213627576828,
          0.1414213627576828,
          0.1414213627576828,
          0.1414213627576828,
          0.1414213627576828,
          0.1414213627576828,
          0.1414213627576828,
          0.1414213627576828,
          0.1414213627576828,
          0.1414213627576828,
          0.1414213627576828,
          0.1414213627576828,
          0.1414213627576828,
          0.1414213627576828,
          0.17320507764816284,
          0.17320507764816284,
          0.17320507764816284,
          0.17320507764816284,
          0.17320507764816284,
          0.17320507764816284,
          0.17320507764816284,
          0.20000000298023224,
          0.20000000298023224,
          0.20000000298023224,
          0.20000000298023224,
          0.20000000298023224,
          0.20000000298023224,
          0.22360679507255554,
          0.22360679507255554,
          0.22360679507255554,
          0.22360679507255554,
          0.22360679507255554,
          0.22360679507255554,
          0.22360679507255554,
          0.22360679507255554,
          0.22360679507255554,
          0.22360679507255554,
          0.22360679507255554,
          0.22360679507255554,
          0.24494896829128265,
          0.24494896829128265,
          0.24494896829128265,
          0.24494896829128265,
          0.24494896829128265,
          0.24494896829128265,
          0.24494896829128265,
          0.24494896829128265,
          0.24494896829128265,
          0.24494896829128265,
          0.24494896829128265,
          0.24494896829128265,
          0.26457512378692627,
          0.26457512378692627,
          0.26457512378692627,
          0.26457512378692627,
          0.26457512378692627,
          0.26457512378692627,
          0.26457512378692627,
          0.26457512378692627,
          0.26457512378692627,
          0.26457512378692627,
          0.26457512378692627,
          0.2828427255153656,
          0.2828427255153656,
          0.2828427255153656,
          0.30000001192092896,
          0.30000001192092896,
          0.30000001192092896,
          0.30000001192092896,
          0.30000001192092896,
          0.30000001192092896,
          0.30000001192092896,
          0.30000001192092896,
          0.3162277638912201,
          0.3162277638912201,
          0.3162277638912201,
          0.3162277638912201,
          0.3162277638912201,
          0.3162277638912201,
          0.33166247606277466,
          0.33166247606277466,
          0.33166247606277466,
          0.33166247606277466,
          0.33166247606277466,
          0.33166247606277466,
          0.3464101552963257,
          0.3464101552963257,
          0.3464101552963257,
          0.3464101552963257,
          0.3464101552963257,
          0.3464101552963257,
          0.3464101552963257,
          0.3464101552963257,
          0.3464101552963257,
          0.36055514216423035,
          0.36055514216423035,
          0.36055514216423035,
          0.36055514216423035,
          0.36055514216423035,
          0.36055514216423035,
          0.36055514216423035,
          0.36055514216423035,
          0.37416574358940125,
          0.37416574358940125,
          0.37416574358940125,
          0.3872983455657959,
          0.3872983455657959,
          0.3872983455657959,
          0.4000000059604645,
          0.41231057047843933,
          0.41231057047843933,
          0.41231057047843933,
          0.41231057047843933,
          0.4242640733718872,
          0.4242640733718872,
          0.4358898997306824,
          0.4358898997306824,
          0.4582575559616089,
          0.4898979365825653,
          0.4898979365825653,
          0.5099019408226013,
          0.5291502475738525,
          0.5385164618492126,
          0.5385164618492126,
          0.5567764639854431,
          0.6244997978210449,
          0.6324555277824402,
          0.6480740904808044,
          0.7348469495773315,
          0.8185352683067322,
          1.6401219367980957
         ]
        },
        {
         "hoverinfo": "text",
         "hovertext": [
          "(0.8602325320243835, 0.9327378869056702)",
          "(0.5916079878807068, 0.6782330274581909)",
          "(0.5567764639854431, 0.5916079878807068)",
          "(0.547722578048706, 0.6082762479782104)",
          "(0.5291502475738525, 0.5385164618492126)",
          "(0.5, 0.5196152329444885)",
          "(0.4582575559616089, 0.4690415859222412), multiplicity: 2",
          "(0.4582575559616089, 0.4690415859222412), multiplicity: 2",
          "(0.4472135901451111, 0.4690415859222412)",
          "(0.4358898997306824, 0.5)",
          "(0.4358898997306824, 0.47958314418792725)",
          "(0.4358898997306824, 0.4582575559616089)",
          "(0.4242640733718872, 0.5291502475738525)",
          "(0.4242640733718872, 0.4358898997306824)",
          "(0.3872983455657959, 0.4582575559616089)",
          "(0.3872983455657959, 0.4472135901451111)",
          "(0.37416574358940125, 0.4242640733718872)",
          "(0.37416574358940125, 0.3872983455657959), multiplicity: 3",
          "(0.37416574358940125, 0.3872983455657959), multiplicity: 3",
          "(0.37416574358940125, 0.3872983455657959), multiplicity: 3",
          "(0.36055514216423035, 0.4582575559616089)",
          "(0.36055514216423035, 0.4242640733718872)",
          "(0.3464101552963257, 0.41231057047843933)",
          "(0.3162277638912201, 0.3464101552963257)",
          "(0.3162277638912201, 0.33166247606277466), multiplicity: 2",
          "(0.3162277638912201, 0.33166247606277466), multiplicity: 2",
          "(0.30000001192092896, 0.33166247606277466)",
          "(0.30000001192092896, 0.3162277638912201), multiplicity: 2",
          "(0.30000001192092896, 0.3162277638912201), multiplicity: 2",
          "(0.24494896829128265, 0.33166247606277466)",
          "(0.24494896829128265, 0.30000001192092896)"
         ],
         "mode": "markers",
         "name": "H1",
         "type": "scatter",
         "x": [
          0.8602325320243835,
          0.5916079878807068,
          0.5567764639854431,
          0.547722578048706,
          0.5291502475738525,
          0.5,
          0.4582575559616089,
          0.4582575559616089,
          0.4472135901451111,
          0.4358898997306824,
          0.4358898997306824,
          0.4358898997306824,
          0.4242640733718872,
          0.4242640733718872,
          0.3872983455657959,
          0.3872983455657959,
          0.37416574358940125,
          0.37416574358940125,
          0.37416574358940125,
          0.37416574358940125,
          0.36055514216423035,
          0.36055514216423035,
          0.3464101552963257,
          0.3162277638912201,
          0.3162277638912201,
          0.3162277638912201,
          0.30000001192092896,
          0.30000001192092896,
          0.30000001192092896,
          0.24494896829128265,
          0.24494896829128265
         ],
         "y": [
          0.9327378869056702,
          0.6782330274581909,
          0.5916079878807068,
          0.6082762479782104,
          0.5385164618492126,
          0.5196152329444885,
          0.4690415859222412,
          0.4690415859222412,
          0.4690415859222412,
          0.5,
          0.47958314418792725,
          0.4582575559616089,
          0.5291502475738525,
          0.4358898997306824,
          0.4582575559616089,
          0.4472135901451111,
          0.4242640733718872,
          0.3872983455657959,
          0.3872983455657959,
          0.3872983455657959,
          0.4582575559616089,
          0.4242640733718872,
          0.41231057047843933,
          0.3464101552963257,
          0.33166247606277466,
          0.33166247606277466,
          0.33166247606277466,
          0.3162277638912201,
          0.3162277638912201,
          0.33166247606277466,
          0.30000001192092896
         ]
        }
       ],
       "layout": {
        "height": 500,
        "plot_bgcolor": "white",
        "template": {
         "data": {
          "bar": [
           {
            "error_x": {
             "color": "#2a3f5f"
            },
            "error_y": {
             "color": "#2a3f5f"
            },
            "marker": {
             "line": {
              "color": "#E5ECF6",
              "width": 0.5
             },
             "pattern": {
              "fillmode": "overlay",
              "size": 10,
              "solidity": 0.2
             }
            },
            "type": "bar"
           }
          ],
          "barpolar": [
           {
            "marker": {
             "line": {
              "color": "#E5ECF6",
              "width": 0.5
             },
             "pattern": {
              "fillmode": "overlay",
              "size": 10,
              "solidity": 0.2
             }
            },
            "type": "barpolar"
           }
          ],
          "carpet": [
           {
            "aaxis": {
             "endlinecolor": "#2a3f5f",
             "gridcolor": "white",
             "linecolor": "white",
             "minorgridcolor": "white",
             "startlinecolor": "#2a3f5f"
            },
            "baxis": {
             "endlinecolor": "#2a3f5f",
             "gridcolor": "white",
             "linecolor": "white",
             "minorgridcolor": "white",
             "startlinecolor": "#2a3f5f"
            },
            "type": "carpet"
           }
          ],
          "choropleth": [
           {
            "colorbar": {
             "outlinewidth": 0,
             "ticks": ""
            },
            "type": "choropleth"
           }
          ],
          "contour": [
           {
            "colorbar": {
             "outlinewidth": 0,
             "ticks": ""
            },
            "colorscale": [
             [
              0,
              "#0d0887"
             ],
             [
              0.1111111111111111,
              "#46039f"
             ],
             [
              0.2222222222222222,
              "#7201a8"
             ],
             [
              0.3333333333333333,
              "#9c179e"
             ],
             [
              0.4444444444444444,
              "#bd3786"
             ],
             [
              0.5555555555555556,
              "#d8576b"
             ],
             [
              0.6666666666666666,
              "#ed7953"
             ],
             [
              0.7777777777777778,
              "#fb9f3a"
             ],
             [
              0.8888888888888888,
              "#fdca26"
             ],
             [
              1,
              "#f0f921"
             ]
            ],
            "type": "contour"
           }
          ],
          "contourcarpet": [
           {
            "colorbar": {
             "outlinewidth": 0,
             "ticks": ""
            },
            "type": "contourcarpet"
           }
          ],
          "heatmap": [
           {
            "colorbar": {
             "outlinewidth": 0,
             "ticks": ""
            },
            "colorscale": [
             [
              0,
              "#0d0887"
             ],
             [
              0.1111111111111111,
              "#46039f"
             ],
             [
              0.2222222222222222,
              "#7201a8"
             ],
             [
              0.3333333333333333,
              "#9c179e"
             ],
             [
              0.4444444444444444,
              "#bd3786"
             ],
             [
              0.5555555555555556,
              "#d8576b"
             ],
             [
              0.6666666666666666,
              "#ed7953"
             ],
             [
              0.7777777777777778,
              "#fb9f3a"
             ],
             [
              0.8888888888888888,
              "#fdca26"
             ],
             [
              1,
              "#f0f921"
             ]
            ],
            "type": "heatmap"
           }
          ],
          "heatmapgl": [
           {
            "colorbar": {
             "outlinewidth": 0,
             "ticks": ""
            },
            "colorscale": [
             [
              0,
              "#0d0887"
             ],
             [
              0.1111111111111111,
              "#46039f"
             ],
             [
              0.2222222222222222,
              "#7201a8"
             ],
             [
              0.3333333333333333,
              "#9c179e"
             ],
             [
              0.4444444444444444,
              "#bd3786"
             ],
             [
              0.5555555555555556,
              "#d8576b"
             ],
             [
              0.6666666666666666,
              "#ed7953"
             ],
             [
              0.7777777777777778,
              "#fb9f3a"
             ],
             [
              0.8888888888888888,
              "#fdca26"
             ],
             [
              1,
              "#f0f921"
             ]
            ],
            "type": "heatmapgl"
           }
          ],
          "histogram": [
           {
            "marker": {
             "pattern": {
              "fillmode": "overlay",
              "size": 10,
              "solidity": 0.2
             }
            },
            "type": "histogram"
           }
          ],
          "histogram2d": [
           {
            "colorbar": {
             "outlinewidth": 0,
             "ticks": ""
            },
            "colorscale": [
             [
              0,
              "#0d0887"
             ],
             [
              0.1111111111111111,
              "#46039f"
             ],
             [
              0.2222222222222222,
              "#7201a8"
             ],
             [
              0.3333333333333333,
              "#9c179e"
             ],
             [
              0.4444444444444444,
              "#bd3786"
             ],
             [
              0.5555555555555556,
              "#d8576b"
             ],
             [
              0.6666666666666666,
              "#ed7953"
             ],
             [
              0.7777777777777778,
              "#fb9f3a"
             ],
             [
              0.8888888888888888,
              "#fdca26"
             ],
             [
              1,
              "#f0f921"
             ]
            ],
            "type": "histogram2d"
           }
          ],
          "histogram2dcontour": [
           {
            "colorbar": {
             "outlinewidth": 0,
             "ticks": ""
            },
            "colorscale": [
             [
              0,
              "#0d0887"
             ],
             [
              0.1111111111111111,
              "#46039f"
             ],
             [
              0.2222222222222222,
              "#7201a8"
             ],
             [
              0.3333333333333333,
              "#9c179e"
             ],
             [
              0.4444444444444444,
              "#bd3786"
             ],
             [
              0.5555555555555556,
              "#d8576b"
             ],
             [
              0.6666666666666666,
              "#ed7953"
             ],
             [
              0.7777777777777778,
              "#fb9f3a"
             ],
             [
              0.8888888888888888,
              "#fdca26"
             ],
             [
              1,
              "#f0f921"
             ]
            ],
            "type": "histogram2dcontour"
           }
          ],
          "mesh3d": [
           {
            "colorbar": {
             "outlinewidth": 0,
             "ticks": ""
            },
            "type": "mesh3d"
           }
          ],
          "parcoords": [
           {
            "line": {
             "colorbar": {
              "outlinewidth": 0,
              "ticks": ""
             }
            },
            "type": "parcoords"
           }
          ],
          "pie": [
           {
            "automargin": true,
            "type": "pie"
           }
          ],
          "scatter": [
           {
            "fillpattern": {
             "fillmode": "overlay",
             "size": 10,
             "solidity": 0.2
            },
            "type": "scatter"
           }
          ],
          "scatter3d": [
           {
            "line": {
             "colorbar": {
              "outlinewidth": 0,
              "ticks": ""
             }
            },
            "marker": {
             "colorbar": {
              "outlinewidth": 0,
              "ticks": ""
             }
            },
            "type": "scatter3d"
           }
          ],
          "scattercarpet": [
           {
            "marker": {
             "colorbar": {
              "outlinewidth": 0,
              "ticks": ""
             }
            },
            "type": "scattercarpet"
           }
          ],
          "scattergeo": [
           {
            "marker": {
             "colorbar": {
              "outlinewidth": 0,
              "ticks": ""
             }
            },
            "type": "scattergeo"
           }
          ],
          "scattergl": [
           {
            "marker": {
             "colorbar": {
              "outlinewidth": 0,
              "ticks": ""
             }
            },
            "type": "scattergl"
           }
          ],
          "scattermapbox": [
           {
            "marker": {
             "colorbar": {
              "outlinewidth": 0,
              "ticks": ""
             }
            },
            "type": "scattermapbox"
           }
          ],
          "scatterpolar": [
           {
            "marker": {
             "colorbar": {
              "outlinewidth": 0,
              "ticks": ""
             }
            },
            "type": "scatterpolar"
           }
          ],
          "scatterpolargl": [
           {
            "marker": {
             "colorbar": {
              "outlinewidth": 0,
              "ticks": ""
             }
            },
            "type": "scatterpolargl"
           }
          ],
          "scatterternary": [
           {
            "marker": {
             "colorbar": {
              "outlinewidth": 0,
              "ticks": ""
             }
            },
            "type": "scatterternary"
           }
          ],
          "surface": [
           {
            "colorbar": {
             "outlinewidth": 0,
             "ticks": ""
            },
            "colorscale": [
             [
              0,
              "#0d0887"
             ],
             [
              0.1111111111111111,
              "#46039f"
             ],
             [
              0.2222222222222222,
              "#7201a8"
             ],
             [
              0.3333333333333333,
              "#9c179e"
             ],
             [
              0.4444444444444444,
              "#bd3786"
             ],
             [
              0.5555555555555556,
              "#d8576b"
             ],
             [
              0.6666666666666666,
              "#ed7953"
             ],
             [
              0.7777777777777778,
              "#fb9f3a"
             ],
             [
              0.8888888888888888,
              "#fdca26"
             ],
             [
              1,
              "#f0f921"
             ]
            ],
            "type": "surface"
           }
          ],
          "table": [
           {
            "cells": {
             "fill": {
              "color": "#EBF0F8"
             },
             "line": {
              "color": "white"
             }
            },
            "header": {
             "fill": {
              "color": "#C8D4E3"
             },
             "line": {
              "color": "white"
             }
            },
            "type": "table"
           }
          ]
         },
         "layout": {
          "annotationdefaults": {
           "arrowcolor": "#2a3f5f",
           "arrowhead": 0,
           "arrowwidth": 1
          },
          "autotypenumbers": "strict",
          "coloraxis": {
           "colorbar": {
            "outlinewidth": 0,
            "ticks": ""
           }
          },
          "colorscale": {
           "diverging": [
            [
             0,
             "#8e0152"
            ],
            [
             0.1,
             "#c51b7d"
            ],
            [
             0.2,
             "#de77ae"
            ],
            [
             0.3,
             "#f1b6da"
            ],
            [
             0.4,
             "#fde0ef"
            ],
            [
             0.5,
             "#f7f7f7"
            ],
            [
             0.6,
             "#e6f5d0"
            ],
            [
             0.7,
             "#b8e186"
            ],
            [
             0.8,
             "#7fbc41"
            ],
            [
             0.9,
             "#4d9221"
            ],
            [
             1,
             "#276419"
            ]
           ],
           "sequential": [
            [
             0,
             "#0d0887"
            ],
            [
             0.1111111111111111,
             "#46039f"
            ],
            [
             0.2222222222222222,
             "#7201a8"
            ],
            [
             0.3333333333333333,
             "#9c179e"
            ],
            [
             0.4444444444444444,
             "#bd3786"
            ],
            [
             0.5555555555555556,
             "#d8576b"
            ],
            [
             0.6666666666666666,
             "#ed7953"
            ],
            [
             0.7777777777777778,
             "#fb9f3a"
            ],
            [
             0.8888888888888888,
             "#fdca26"
            ],
            [
             1,
             "#f0f921"
            ]
           ],
           "sequentialminus": [
            [
             0,
             "#0d0887"
            ],
            [
             0.1111111111111111,
             "#46039f"
            ],
            [
             0.2222222222222222,
             "#7201a8"
            ],
            [
             0.3333333333333333,
             "#9c179e"
            ],
            [
             0.4444444444444444,
             "#bd3786"
            ],
            [
             0.5555555555555556,
             "#d8576b"
            ],
            [
             0.6666666666666666,
             "#ed7953"
            ],
            [
             0.7777777777777778,
             "#fb9f3a"
            ],
            [
             0.8888888888888888,
             "#fdca26"
            ],
            [
             1,
             "#f0f921"
            ]
           ]
          },
          "colorway": [
           "#636efa",
           "#EF553B",
           "#00cc96",
           "#ab63fa",
           "#FFA15A",
           "#19d3f3",
           "#FF6692",
           "#B6E880",
           "#FF97FF",
           "#FECB52"
          ],
          "font": {
           "color": "#2a3f5f"
          },
          "geo": {
           "bgcolor": "white",
           "lakecolor": "white",
           "landcolor": "#E5ECF6",
           "showlakes": true,
           "showland": true,
           "subunitcolor": "white"
          },
          "hoverlabel": {
           "align": "left"
          },
          "hovermode": "closest",
          "mapbox": {
           "style": "light"
          },
          "paper_bgcolor": "white",
          "plot_bgcolor": "#E5ECF6",
          "polar": {
           "angularaxis": {
            "gridcolor": "white",
            "linecolor": "white",
            "ticks": ""
           },
           "bgcolor": "#E5ECF6",
           "radialaxis": {
            "gridcolor": "white",
            "linecolor": "white",
            "ticks": ""
           }
          },
          "scene": {
           "xaxis": {
            "backgroundcolor": "#E5ECF6",
            "gridcolor": "white",
            "gridwidth": 2,
            "linecolor": "white",
            "showbackground": true,
            "ticks": "",
            "zerolinecolor": "white"
           },
           "yaxis": {
            "backgroundcolor": "#E5ECF6",
            "gridcolor": "white",
            "gridwidth": 2,
            "linecolor": "white",
            "showbackground": true,
            "ticks": "",
            "zerolinecolor": "white"
           },
           "zaxis": {
            "backgroundcolor": "#E5ECF6",
            "gridcolor": "white",
            "gridwidth": 2,
            "linecolor": "white",
            "showbackground": true,
            "ticks": "",
            "zerolinecolor": "white"
           }
          },
          "shapedefaults": {
           "line": {
            "color": "#2a3f5f"
           }
          },
          "ternary": {
           "aaxis": {
            "gridcolor": "white",
            "linecolor": "white",
            "ticks": ""
           },
           "baxis": {
            "gridcolor": "white",
            "linecolor": "white",
            "ticks": ""
           },
           "bgcolor": "#E5ECF6",
           "caxis": {
            "gridcolor": "white",
            "linecolor": "white",
            "ticks": ""
           }
          },
          "title": {
           "x": 0.05
          },
          "xaxis": {
           "automargin": true,
           "gridcolor": "white",
           "linecolor": "white",
           "ticks": "",
           "title": {
            "standoff": 15
           },
           "zerolinecolor": "white",
           "zerolinewidth": 2
          },
          "yaxis": {
           "automargin": true,
           "gridcolor": "white",
           "linecolor": "white",
           "ticks": "",
           "title": {
            "standoff": 15
           },
           "zerolinecolor": "white",
           "zerolinewidth": 2
          }
         }
        },
        "width": 500,
        "xaxis": {
         "autorange": false,
         "exponentformat": "e",
         "linecolor": "black",
         "linewidth": 1,
         "mirror": false,
         "range": [
          -0.03280243873596191,
          1.6729243755340577
         ],
         "showexponent": "all",
         "showline": true,
         "side": "bottom",
         "ticks": "outside",
         "title": {
          "text": "Birth"
         },
         "type": "linear",
         "zeroline": true
        },
        "yaxis": {
         "autorange": false,
         "exponentformat": "e",
         "linecolor": "black",
         "linewidth": 1,
         "mirror": false,
         "range": [
          -0.03280243873596191,
          1.6729243755340577
         ],
         "scaleanchor": "x",
         "scaleratio": 1,
         "showexponent": "all",
         "showline": true,
         "side": "left",
         "ticks": "outside",
         "title": {
          "text": "Death"
         },
         "type": "linear",
         "zeroline": true
        }
       }
      }
     },
     "metadata": {},
     "output_type": "display_data"
    }
   ],
   "source": [
    "# build Vietoris Rips Persistence diagram for 4 dimensions\n",
    "# calculation of persistence homology\n",
    "vr = VietorisRipsPersistence()\n",
    "xt = vr.fit_transform(xp)\n",
    "vr.plot(xt)"
   ]
  },
  {
   "attachments": {},
   "cell_type": "markdown",
   "metadata": {},
   "source": [
    "Betti Curve"
   ]
  },
  {
   "cell_type": "code",
   "execution_count": 11,
   "metadata": {},
   "outputs": [
    {
     "data": {
      "application/vnd.plotly.v1+json": {
       "config": {
        "plotlyServerURL": "https://plot.ly"
       },
       "data": [
        {
         "mode": "lines",
         "name": "H0",
         "showlegend": true,
         "type": "scatter",
         "x": [
          0,
          0.016566888250485814,
          0.03313377650097163,
          0.04970066475145744,
          0.06626755300194326,
          0.08283444125242907,
          0.09940132950291489,
          0.1159682177534007,
          0.13253510600388652,
          0.14910199425437232,
          0.16566888250485814,
          0.18223577075534397,
          0.19880265900582977,
          0.21536954725631557,
          0.2319364355068014,
          0.24850332375728723,
          0.26507021200777303,
          0.28163710025825883,
          0.29820398850874463,
          0.3147708767592305,
          0.3313377650097163,
          0.3479046532602021,
          0.36447154151068795,
          0.38103842976117375,
          0.39760531801165955,
          0.41417220626214535,
          0.43073909451263115,
          0.447305982763117,
          0.4638728710136028,
          0.4804397592640886,
          0.49700664751457446,
          0.5135735357650603,
          0.5301404240155461,
          0.5467073122660319,
          0.5632742005165177,
          0.5798410887670035,
          0.5964079770174893,
          0.6129748652679752,
          0.629541753518461,
          0.6461086417689468,
          0.6626755300194326,
          0.6792424182699184,
          0.6958093065204042,
          0.71237619477089,
          0.7289430830213759,
          0.7455099712718617,
          0.7620768595223475,
          0.7786437477728333,
          0.7952106360233191,
          0.8117775242738049,
          0.8283444125242907,
          0.8449113007747765,
          0.8614781890252623,
          0.8780450772757482,
          0.894611965526234,
          0.9111788537767198,
          0.9277457420272056,
          0.9443126302776914,
          0.9608795185281772,
          0.977446406778663,
          0.9940132950291489,
          1.0105801832796346,
          1.0271470715301205,
          1.0437139597806062,
          1.0602808480310921,
          1.076847736281578,
          1.0934146245320637,
          1.1099815127825496,
          1.1265484010330353,
          1.1431152892835212,
          1.159682177534007,
          1.1762490657844928,
          1.1928159540349785,
          1.2093828422854644,
          1.2259497305359504,
          1.242516618786436,
          1.259083507036922,
          1.2756503952874076,
          1.2922172835378936,
          1.3087841717883792,
          1.3253510600388652,
          1.341917948289351,
          1.3584848365398368,
          1.3750517247903227,
          1.3916186130408084,
          1.4081855012912943,
          1.42475238954178,
          1.4413192777922659,
          1.4578861660427518,
          1.4744530542932375,
          1.4910199425437234,
          1.507586830794209,
          1.524153719044695,
          1.5407206072951807,
          1.5572874955456666,
          1.5738543837961523,
          1.5904212720466382,
          1.606988160297124,
          1.6235550485476098,
          1.6401219367980957
         ],
         "y": [
          148,
          148,
          148,
          148,
          148,
          148,
          148,
          143,
          143,
          117,
          117,
          110,
          110,
          104,
          92,
          80,
          69,
          69,
          66,
          58,
          52,
          37,
          29,
          26,
          23,
          18,
          16,
          14,
          13,
          13,
          11,
          10,
          9,
          7,
          6,
          6,
          6,
          6,
          5,
          4,
          3,
          3,
          3,
          3,
          3,
          2,
          2,
          2,
          2,
          2,
          1,
          1,
          1,
          1,
          1,
          1,
          1,
          1,
          1,
          1,
          1,
          1,
          1,
          1,
          1,
          1,
          1,
          1,
          1,
          1,
          1,
          1,
          1,
          1,
          1,
          1,
          1,
          1,
          1,
          1,
          1,
          1,
          1,
          1,
          1,
          1,
          1,
          1,
          1,
          1,
          1,
          1,
          1,
          1,
          1,
          1,
          1,
          1,
          1,
          0
         ]
        },
        {
         "mode": "lines",
         "name": "H1",
         "showlegend": true,
         "type": "scatter",
         "x": [
          0.24494896829128265,
          0.2518963311055694,
          0.2588436939198561,
          0.2657910567341429,
          0.27273841954842964,
          0.27968578236271635,
          0.2866331451770031,
          0.2935805079912899,
          0.3005278708055766,
          0.30747523361986334,
          0.31442259643415005,
          0.3213699592484368,
          0.32831732206272357,
          0.33526468487701033,
          0.34221204769129704,
          0.3491594105055838,
          0.3561067733198705,
          0.36305413613415727,
          0.37000149894844403,
          0.3769488617627308,
          0.3838962245770175,
          0.39084358739130426,
          0.39779095020559097,
          0.4047383130198777,
          0.4116856758341645,
          0.41863303864845125,
          0.42558040146273796,
          0.43252776427702466,
          0.4394751270913114,
          0.4464224899055982,
          0.45336985271988495,
          0.4603172155341717,
          0.4672645783484584,
          0.4742119411627451,
          0.4811593039770319,
          0.48810666679131864,
          0.4950540296056054,
          0.5020013924198921,
          0.5089487552341789,
          0.5158961180484656,
          0.5228434808627523,
          0.5297908436770391,
          0.5367382064913259,
          0.5436855693056126,
          0.5506329321198993,
          0.5575802949341861,
          0.5645276577484728,
          0.5714750205627596,
          0.5784223833770463,
          0.585369746191333,
          0.5923171090056198,
          0.5992644718199065,
          0.6062118346341933,
          0.61315919744848,
          0.6201065602627667,
          0.6270539230770535,
          0.6340012858913402,
          0.640948648705627,
          0.6478960115199137,
          0.6548433743342005,
          0.6617907371484872,
          0.6687380999627739,
          0.6756854627770608,
          0.6826328255913474,
          0.6895801884056342,
          0.6965275512199209,
          0.7034749140342076,
          0.7104222768484945,
          0.7173696396627811,
          0.7243170024770679,
          0.7312643652913546,
          0.7382117281056414,
          0.7451590909199282,
          0.7521064537342148,
          0.7590538165485016,
          0.7660011793627883,
          0.7729485421770751,
          0.7798959049913619,
          0.7868432678056486,
          0.7937906306199353,
          0.800737993434222,
          0.8076853562485088,
          0.8146327190627956,
          0.8215800818770823,
          0.8285274446913691,
          0.8354748075056557,
          0.8424221703199425,
          0.8493695331342292,
          0.856316895948516,
          0.8632642587628028,
          0.8702116215770895,
          0.8771589843913762,
          0.884106347205663,
          0.8910537100199497,
          0.8980010728342365,
          0.9049484356485232,
          0.91189579846281,
          0.9188431612770966,
          0.9257905240913834,
          0.9327378869056702
         ],
         "y": [
          2,
          2,
          2,
          2,
          2,
          2,
          2,
          2,
          4,
          4,
          4,
          5,
          5,
          1,
          1,
          1,
          1,
          3,
          3,
          7,
          7,
          6,
          6,
          6,
          6,
          5,
          5,
          5,
          7,
          7,
          7,
          6,
          6,
          3,
          2,
          2,
          2,
          2,
          2,
          2,
          1,
          1,
          1,
          0,
          1,
          2,
          2,
          2,
          2,
          2,
          2,
          2,
          2,
          1,
          1,
          1,
          1,
          1,
          1,
          1,
          1,
          1,
          1,
          0,
          0,
          0,
          0,
          0,
          0,
          0,
          0,
          0,
          0,
          0,
          0,
          0,
          0,
          0,
          0,
          0,
          0,
          0,
          0,
          0,
          0,
          0,
          0,
          0,
          0,
          1,
          1,
          1,
          1,
          1,
          1,
          1,
          1,
          1,
          1,
          0
         ]
        }
       ],
       "layout": {
        "plot_bgcolor": "white",
        "template": {
         "data": {
          "bar": [
           {
            "error_x": {
             "color": "#2a3f5f"
            },
            "error_y": {
             "color": "#2a3f5f"
            },
            "marker": {
             "line": {
              "color": "#E5ECF6",
              "width": 0.5
             },
             "pattern": {
              "fillmode": "overlay",
              "size": 10,
              "solidity": 0.2
             }
            },
            "type": "bar"
           }
          ],
          "barpolar": [
           {
            "marker": {
             "line": {
              "color": "#E5ECF6",
              "width": 0.5
             },
             "pattern": {
              "fillmode": "overlay",
              "size": 10,
              "solidity": 0.2
             }
            },
            "type": "barpolar"
           }
          ],
          "carpet": [
           {
            "aaxis": {
             "endlinecolor": "#2a3f5f",
             "gridcolor": "white",
             "linecolor": "white",
             "minorgridcolor": "white",
             "startlinecolor": "#2a3f5f"
            },
            "baxis": {
             "endlinecolor": "#2a3f5f",
             "gridcolor": "white",
             "linecolor": "white",
             "minorgridcolor": "white",
             "startlinecolor": "#2a3f5f"
            },
            "type": "carpet"
           }
          ],
          "choropleth": [
           {
            "colorbar": {
             "outlinewidth": 0,
             "ticks": ""
            },
            "type": "choropleth"
           }
          ],
          "contour": [
           {
            "colorbar": {
             "outlinewidth": 0,
             "ticks": ""
            },
            "colorscale": [
             [
              0,
              "#0d0887"
             ],
             [
              0.1111111111111111,
              "#46039f"
             ],
             [
              0.2222222222222222,
              "#7201a8"
             ],
             [
              0.3333333333333333,
              "#9c179e"
             ],
             [
              0.4444444444444444,
              "#bd3786"
             ],
             [
              0.5555555555555556,
              "#d8576b"
             ],
             [
              0.6666666666666666,
              "#ed7953"
             ],
             [
              0.7777777777777778,
              "#fb9f3a"
             ],
             [
              0.8888888888888888,
              "#fdca26"
             ],
             [
              1,
              "#f0f921"
             ]
            ],
            "type": "contour"
           }
          ],
          "contourcarpet": [
           {
            "colorbar": {
             "outlinewidth": 0,
             "ticks": ""
            },
            "type": "contourcarpet"
           }
          ],
          "heatmap": [
           {
            "colorbar": {
             "outlinewidth": 0,
             "ticks": ""
            },
            "colorscale": [
             [
              0,
              "#0d0887"
             ],
             [
              0.1111111111111111,
              "#46039f"
             ],
             [
              0.2222222222222222,
              "#7201a8"
             ],
             [
              0.3333333333333333,
              "#9c179e"
             ],
             [
              0.4444444444444444,
              "#bd3786"
             ],
             [
              0.5555555555555556,
              "#d8576b"
             ],
             [
              0.6666666666666666,
              "#ed7953"
             ],
             [
              0.7777777777777778,
              "#fb9f3a"
             ],
             [
              0.8888888888888888,
              "#fdca26"
             ],
             [
              1,
              "#f0f921"
             ]
            ],
            "type": "heatmap"
           }
          ],
          "heatmapgl": [
           {
            "colorbar": {
             "outlinewidth": 0,
             "ticks": ""
            },
            "colorscale": [
             [
              0,
              "#0d0887"
             ],
             [
              0.1111111111111111,
              "#46039f"
             ],
             [
              0.2222222222222222,
              "#7201a8"
             ],
             [
              0.3333333333333333,
              "#9c179e"
             ],
             [
              0.4444444444444444,
              "#bd3786"
             ],
             [
              0.5555555555555556,
              "#d8576b"
             ],
             [
              0.6666666666666666,
              "#ed7953"
             ],
             [
              0.7777777777777778,
              "#fb9f3a"
             ],
             [
              0.8888888888888888,
              "#fdca26"
             ],
             [
              1,
              "#f0f921"
             ]
            ],
            "type": "heatmapgl"
           }
          ],
          "histogram": [
           {
            "marker": {
             "pattern": {
              "fillmode": "overlay",
              "size": 10,
              "solidity": 0.2
             }
            },
            "type": "histogram"
           }
          ],
          "histogram2d": [
           {
            "colorbar": {
             "outlinewidth": 0,
             "ticks": ""
            },
            "colorscale": [
             [
              0,
              "#0d0887"
             ],
             [
              0.1111111111111111,
              "#46039f"
             ],
             [
              0.2222222222222222,
              "#7201a8"
             ],
             [
              0.3333333333333333,
              "#9c179e"
             ],
             [
              0.4444444444444444,
              "#bd3786"
             ],
             [
              0.5555555555555556,
              "#d8576b"
             ],
             [
              0.6666666666666666,
              "#ed7953"
             ],
             [
              0.7777777777777778,
              "#fb9f3a"
             ],
             [
              0.8888888888888888,
              "#fdca26"
             ],
             [
              1,
              "#f0f921"
             ]
            ],
            "type": "histogram2d"
           }
          ],
          "histogram2dcontour": [
           {
            "colorbar": {
             "outlinewidth": 0,
             "ticks": ""
            },
            "colorscale": [
             [
              0,
              "#0d0887"
             ],
             [
              0.1111111111111111,
              "#46039f"
             ],
             [
              0.2222222222222222,
              "#7201a8"
             ],
             [
              0.3333333333333333,
              "#9c179e"
             ],
             [
              0.4444444444444444,
              "#bd3786"
             ],
             [
              0.5555555555555556,
              "#d8576b"
             ],
             [
              0.6666666666666666,
              "#ed7953"
             ],
             [
              0.7777777777777778,
              "#fb9f3a"
             ],
             [
              0.8888888888888888,
              "#fdca26"
             ],
             [
              1,
              "#f0f921"
             ]
            ],
            "type": "histogram2dcontour"
           }
          ],
          "mesh3d": [
           {
            "colorbar": {
             "outlinewidth": 0,
             "ticks": ""
            },
            "type": "mesh3d"
           }
          ],
          "parcoords": [
           {
            "line": {
             "colorbar": {
              "outlinewidth": 0,
              "ticks": ""
             }
            },
            "type": "parcoords"
           }
          ],
          "pie": [
           {
            "automargin": true,
            "type": "pie"
           }
          ],
          "scatter": [
           {
            "fillpattern": {
             "fillmode": "overlay",
             "size": 10,
             "solidity": 0.2
            },
            "type": "scatter"
           }
          ],
          "scatter3d": [
           {
            "line": {
             "colorbar": {
              "outlinewidth": 0,
              "ticks": ""
             }
            },
            "marker": {
             "colorbar": {
              "outlinewidth": 0,
              "ticks": ""
             }
            },
            "type": "scatter3d"
           }
          ],
          "scattercarpet": [
           {
            "marker": {
             "colorbar": {
              "outlinewidth": 0,
              "ticks": ""
             }
            },
            "type": "scattercarpet"
           }
          ],
          "scattergeo": [
           {
            "marker": {
             "colorbar": {
              "outlinewidth": 0,
              "ticks": ""
             }
            },
            "type": "scattergeo"
           }
          ],
          "scattergl": [
           {
            "marker": {
             "colorbar": {
              "outlinewidth": 0,
              "ticks": ""
             }
            },
            "type": "scattergl"
           }
          ],
          "scattermapbox": [
           {
            "marker": {
             "colorbar": {
              "outlinewidth": 0,
              "ticks": ""
             }
            },
            "type": "scattermapbox"
           }
          ],
          "scatterpolar": [
           {
            "marker": {
             "colorbar": {
              "outlinewidth": 0,
              "ticks": ""
             }
            },
            "type": "scatterpolar"
           }
          ],
          "scatterpolargl": [
           {
            "marker": {
             "colorbar": {
              "outlinewidth": 0,
              "ticks": ""
             }
            },
            "type": "scatterpolargl"
           }
          ],
          "scatterternary": [
           {
            "marker": {
             "colorbar": {
              "outlinewidth": 0,
              "ticks": ""
             }
            },
            "type": "scatterternary"
           }
          ],
          "surface": [
           {
            "colorbar": {
             "outlinewidth": 0,
             "ticks": ""
            },
            "colorscale": [
             [
              0,
              "#0d0887"
             ],
             [
              0.1111111111111111,
              "#46039f"
             ],
             [
              0.2222222222222222,
              "#7201a8"
             ],
             [
              0.3333333333333333,
              "#9c179e"
             ],
             [
              0.4444444444444444,
              "#bd3786"
             ],
             [
              0.5555555555555556,
              "#d8576b"
             ],
             [
              0.6666666666666666,
              "#ed7953"
             ],
             [
              0.7777777777777778,
              "#fb9f3a"
             ],
             [
              0.8888888888888888,
              "#fdca26"
             ],
             [
              1,
              "#f0f921"
             ]
            ],
            "type": "surface"
           }
          ],
          "table": [
           {
            "cells": {
             "fill": {
              "color": "#EBF0F8"
             },
             "line": {
              "color": "white"
             }
            },
            "header": {
             "fill": {
              "color": "#C8D4E3"
             },
             "line": {
              "color": "white"
             }
            },
            "type": "table"
           }
          ]
         },
         "layout": {
          "annotationdefaults": {
           "arrowcolor": "#2a3f5f",
           "arrowhead": 0,
           "arrowwidth": 1
          },
          "autotypenumbers": "strict",
          "coloraxis": {
           "colorbar": {
            "outlinewidth": 0,
            "ticks": ""
           }
          },
          "colorscale": {
           "diverging": [
            [
             0,
             "#8e0152"
            ],
            [
             0.1,
             "#c51b7d"
            ],
            [
             0.2,
             "#de77ae"
            ],
            [
             0.3,
             "#f1b6da"
            ],
            [
             0.4,
             "#fde0ef"
            ],
            [
             0.5,
             "#f7f7f7"
            ],
            [
             0.6,
             "#e6f5d0"
            ],
            [
             0.7,
             "#b8e186"
            ],
            [
             0.8,
             "#7fbc41"
            ],
            [
             0.9,
             "#4d9221"
            ],
            [
             1,
             "#276419"
            ]
           ],
           "sequential": [
            [
             0,
             "#0d0887"
            ],
            [
             0.1111111111111111,
             "#46039f"
            ],
            [
             0.2222222222222222,
             "#7201a8"
            ],
            [
             0.3333333333333333,
             "#9c179e"
            ],
            [
             0.4444444444444444,
             "#bd3786"
            ],
            [
             0.5555555555555556,
             "#d8576b"
            ],
            [
             0.6666666666666666,
             "#ed7953"
            ],
            [
             0.7777777777777778,
             "#fb9f3a"
            ],
            [
             0.8888888888888888,
             "#fdca26"
            ],
            [
             1,
             "#f0f921"
            ]
           ],
           "sequentialminus": [
            [
             0,
             "#0d0887"
            ],
            [
             0.1111111111111111,
             "#46039f"
            ],
            [
             0.2222222222222222,
             "#7201a8"
            ],
            [
             0.3333333333333333,
             "#9c179e"
            ],
            [
             0.4444444444444444,
             "#bd3786"
            ],
            [
             0.5555555555555556,
             "#d8576b"
            ],
            [
             0.6666666666666666,
             "#ed7953"
            ],
            [
             0.7777777777777778,
             "#fb9f3a"
            ],
            [
             0.8888888888888888,
             "#fdca26"
            ],
            [
             1,
             "#f0f921"
            ]
           ]
          },
          "colorway": [
           "#636efa",
           "#EF553B",
           "#00cc96",
           "#ab63fa",
           "#FFA15A",
           "#19d3f3",
           "#FF6692",
           "#B6E880",
           "#FF97FF",
           "#FECB52"
          ],
          "font": {
           "color": "#2a3f5f"
          },
          "geo": {
           "bgcolor": "white",
           "lakecolor": "white",
           "landcolor": "#E5ECF6",
           "showlakes": true,
           "showland": true,
           "subunitcolor": "white"
          },
          "hoverlabel": {
           "align": "left"
          },
          "hovermode": "closest",
          "mapbox": {
           "style": "light"
          },
          "paper_bgcolor": "white",
          "plot_bgcolor": "#E5ECF6",
          "polar": {
           "angularaxis": {
            "gridcolor": "white",
            "linecolor": "white",
            "ticks": ""
           },
           "bgcolor": "#E5ECF6",
           "radialaxis": {
            "gridcolor": "white",
            "linecolor": "white",
            "ticks": ""
           }
          },
          "scene": {
           "xaxis": {
            "backgroundcolor": "#E5ECF6",
            "gridcolor": "white",
            "gridwidth": 2,
            "linecolor": "white",
            "showbackground": true,
            "ticks": "",
            "zerolinecolor": "white"
           },
           "yaxis": {
            "backgroundcolor": "#E5ECF6",
            "gridcolor": "white",
            "gridwidth": 2,
            "linecolor": "white",
            "showbackground": true,
            "ticks": "",
            "zerolinecolor": "white"
           },
           "zaxis": {
            "backgroundcolor": "#E5ECF6",
            "gridcolor": "white",
            "gridwidth": 2,
            "linecolor": "white",
            "showbackground": true,
            "ticks": "",
            "zerolinecolor": "white"
           }
          },
          "shapedefaults": {
           "line": {
            "color": "#2a3f5f"
           }
          },
          "ternary": {
           "aaxis": {
            "gridcolor": "white",
            "linecolor": "white",
            "ticks": ""
           },
           "baxis": {
            "gridcolor": "white",
            "linecolor": "white",
            "ticks": ""
           },
           "bgcolor": "#E5ECF6",
           "caxis": {
            "gridcolor": "white",
            "linecolor": "white",
            "ticks": ""
           }
          },
          "title": {
           "x": 0.05
          },
          "xaxis": {
           "automargin": true,
           "gridcolor": "white",
           "linecolor": "white",
           "ticks": "",
           "title": {
            "standoff": 15
           },
           "zerolinecolor": "white",
           "zerolinewidth": 2
          },
          "yaxis": {
           "automargin": true,
           "gridcolor": "white",
           "linecolor": "white",
           "ticks": "",
           "title": {
            "standoff": 15
           },
           "zerolinecolor": "white",
           "zerolinewidth": 2
          }
         }
        },
        "title": {
         "text": "Betti curves from diagram 0"
        },
        "xaxis": {
         "anchor": "y",
         "exponentformat": "e",
         "linecolor": "black",
         "linewidth": 1,
         "mirror": false,
         "showexponent": "all",
         "showline": true,
         "side": "bottom",
         "ticks": "outside",
         "title": {
          "text": "Filtration parameter"
         },
         "type": "linear",
         "zeroline": true
        },
        "yaxis": {
         "anchor": "x",
         "exponentformat": "e",
         "linecolor": "black",
         "linewidth": 1,
         "mirror": false,
         "showexponent": "all",
         "showline": true,
         "side": "left",
         "ticks": "outside",
         "title": {
          "text": "Betti number"
         },
         "type": "linear",
         "zeroline": true
        }
       }
      }
     },
     "metadata": {},
     "output_type": "display_data"
    }
   ],
   "source": [
    "# build Betti Curve\n",
    "bc = BettiCurve()\n",
    "x_betti_curve = bc.fit_transform_plot(xt)"
   ]
  },
  {
   "attachments": {},
   "cell_type": "markdown",
   "metadata": {},
   "source": [
    "Landscape persistence"
   ]
  },
  {
   "cell_type": "code",
   "execution_count": 13,
   "metadata": {},
   "outputs": [
    {
     "data": {
      "application/vnd.plotly.v1+json": {
       "config": {
        "plotlyServerURL": "https://plot.ly"
       },
       "data": [
        {
         "hoverinfo": "none",
         "mode": "lines",
         "name": "Layer 1 (H0)",
         "showlegend": true,
         "type": "scatter",
         "x": [
          0,
          0.016566888250485814,
          0.03313377650097163,
          0.04970066475145744,
          0.06626755300194326,
          0.08283444125242907,
          0.09940132950291489,
          0.1159682177534007,
          0.13253510600388652,
          0.14910199425437232,
          0.16566888250485814,
          0.18223577075534397,
          0.19880265900582977,
          0.21536954725631557,
          0.2319364355068014,
          0.24850332375728723,
          0.26507021200777303,
          0.28163710025825883,
          0.29820398850874463,
          0.3147708767592305,
          0.3313377650097163,
          0.3479046532602021,
          0.36447154151068795,
          0.38103842976117375,
          0.39760531801165955,
          0.41417220626214535,
          0.43073909451263115,
          0.447305982763117,
          0.4638728710136028,
          0.4804397592640886,
          0.49700664751457446,
          0.5135735357650603,
          0.5301404240155461,
          0.5467073122660319,
          0.5632742005165177,
          0.5798410887670035,
          0.5964079770174893,
          0.6129748652679752,
          0.629541753518461,
          0.6461086417689468,
          0.6626755300194326,
          0.6792424182699184,
          0.6958093065204042,
          0.71237619477089,
          0.7289430830213759,
          0.7455099712718617,
          0.7620768595223475,
          0.7786437477728333,
          0.7952106360233191,
          0.8117775242738049,
          0.8283444125242907,
          0.8449113007747765,
          0.8614781890252623,
          0.8780450772757482,
          0.894611965526234,
          0.9111788537767198,
          0.9277457420272056,
          0.9443126302776914,
          0.9608795185281772,
          0.977446406778663,
          0.9940132950291489,
          1.0105801832796346,
          1.0271470715301205,
          1.0437139597806062,
          1.0602808480310921,
          1.076847736281578,
          1.0934146245320637,
          1.1099815127825496,
          1.1265484010330353,
          1.1431152892835212,
          1.159682177534007,
          1.1762490657844928,
          1.1928159540349785,
          1.2093828422854644,
          1.2259497305359504,
          1.242516618786436,
          1.259083507036922,
          1.2756503952874076,
          1.2922172835378936,
          1.3087841717883792,
          1.3253510600388652,
          1.341917948289351,
          1.3584848365398368,
          1.3750517247903227,
          1.3916186130408084,
          1.4081855012912943,
          1.42475238954178,
          1.4413192777922659,
          1.4578861660427518,
          1.4744530542932375,
          1.4910199425437234,
          1.507586830794209,
          1.524153719044695,
          1.5407206072951807,
          1.5572874955456666,
          1.5738543837961523,
          1.5904212720466382,
          1.606988160297124,
          1.6235550485476098,
          1.6401219367980957
         ],
         "xaxis": "x",
         "y": [
          0,
          0.016566888250485814,
          0.03313377650097163,
          0.04970066475145746,
          0.06626755300194326,
          0.08283444125242911,
          0.09940132950291491,
          0.11596821775340072,
          0.13253510600388652,
          0.14910199425437232,
          0.16566888250485814,
          0.18223577075534397,
          0.19880265900582983,
          0.21536954725631557,
          0.23193643550680143,
          0.24850332375728723,
          0.26507021200777303,
          0.28163710025825883,
          0.29820398850874463,
          0.31477087675923054,
          0.3313377650097163,
          0.3479046532602021,
          0.36447154151068795,
          0.38103842976117375,
          0.39760531801165955,
          0.41417220626214535,
          0.43073909451263115,
          0.447305982763117,
          0.4638728710136028,
          0.4804397592640886,
          0.49700664751457446,
          0.5135735357650603,
          0.5301404240155461,
          0.5467073122660319,
          0.5632742005165177,
          0.5798410887670035,
          0.5964079770174893,
          0.6129748652679752,
          0.629541753518461,
          0.6461086417689468,
          0.6626755300194326,
          0.6792424182699184,
          0.6958093065204042,
          0.71237619477089,
          0.7289430830213759,
          0.7455099712718617,
          0.7620768595223475,
          0.7786437477728333,
          0.7952106360233191,
          0.8117775242738049,
          0.811777524273805,
          0.7952106360233192,
          0.7786437477728334,
          0.7620768595223475,
          0.7455099712718617,
          0.7289430830213759,
          0.7123761947708901,
          0.6958093065204043,
          0.6792424182699185,
          0.6626755300194327,
          0.6461086417689468,
          0.6295417535184611,
          0.6129748652679752,
          0.5964079770174895,
          0.5798410887670036,
          0.5632742005165177,
          0.546707312266032,
          0.5301404240155461,
          0.5135735357650604,
          0.49700664751457446,
          0.4804397592640888,
          0.46387287101360286,
          0.44730598276311717,
          0.43073909451263126,
          0.41417220626214535,
          0.39760531801165966,
          0.38103842976117375,
          0.36447154151068806,
          0.34790465326020215,
          0.33133776500971646,
          0.31477087675923054,
          0.29820398850874463,
          0.28163710025825894,
          0.26507021200777303,
          0.24850332375728734,
          0.23193643550680143,
          0.21536954725631574,
          0.19880265900582983,
          0.18223577075534392,
          0.16566888250485823,
          0.14910199425437232,
          0.13253510600388663,
          0.11596821775340072,
          0.09940132950291503,
          0.08283444125242911,
          0.06626755300194342,
          0.04970066475145751,
          0.0331337765009716,
          0.01656688825048591,
          0
         ],
         "yaxis": "y"
        },
        {
         "hoverinfo": "none",
         "mode": "lines",
         "name": "Layer 1 (H1)",
         "showlegend": true,
         "type": "scatter",
         "x": [
          0.24494896829128265,
          0.2518963311055694,
          0.2588436939198561,
          0.2657910567341429,
          0.27273841954842964,
          0.27968578236271635,
          0.2866331451770031,
          0.2935805079912899,
          0.3005278708055766,
          0.30747523361986334,
          0.31442259643415005,
          0.3213699592484368,
          0.32831732206272357,
          0.33526468487701033,
          0.34221204769129704,
          0.3491594105055838,
          0.3561067733198705,
          0.36305413613415727,
          0.37000149894844403,
          0.3769488617627308,
          0.3838962245770175,
          0.39084358739130426,
          0.39779095020559097,
          0.4047383130198777,
          0.4116856758341645,
          0.41863303864845125,
          0.42558040146273796,
          0.43252776427702466,
          0.4394751270913114,
          0.4464224899055982,
          0.45336985271988495,
          0.4603172155341717,
          0.4672645783484584,
          0.4742119411627451,
          0.4811593039770319,
          0.48810666679131864,
          0.4950540296056054,
          0.5020013924198921,
          0.5089487552341789,
          0.5158961180484656,
          0.5228434808627523,
          0.5297908436770391,
          0.5367382064913259,
          0.5436855693056126,
          0.5506329321198993,
          0.5575802949341861,
          0.5645276577484728,
          0.5714750205627596,
          0.5784223833770463,
          0.585369746191333,
          0.5923171090056198,
          0.5992644718199065,
          0.6062118346341933,
          0.61315919744848,
          0.6201065602627667,
          0.6270539230770535,
          0.6340012858913402,
          0.640948648705627,
          0.6478960115199137,
          0.6548433743342005,
          0.6617907371484872,
          0.6687380999627739,
          0.6756854627770608,
          0.6826328255913474,
          0.6895801884056342,
          0.6965275512199209,
          0.7034749140342076,
          0.7104222768484945,
          0.7173696396627811,
          0.7243170024770679,
          0.7312643652913546,
          0.7382117281056414,
          0.7451590909199282,
          0.7521064537342148,
          0.7590538165485016,
          0.7660011793627883,
          0.7729485421770751,
          0.7798959049913619,
          0.7868432678056486,
          0.7937906306199353,
          0.800737993434222,
          0.8076853562485088,
          0.8146327190627956,
          0.8215800818770823,
          0.8285274446913691,
          0.8354748075056557,
          0.8424221703199425,
          0.8493695331342292,
          0.856316895948516,
          0.8632642587628028,
          0.8702116215770895,
          0.8771589843913762,
          0.884106347205663,
          0.8910537100199497,
          0.8980010728342365,
          0.9049484356485232,
          0.91189579846281,
          0.9188431612770966,
          0.9257905240913834,
          0.9327378869056702
         ],
         "xaxis": "x2",
         "y": [
          0,
          0.006947362814286762,
          0.013894725628573468,
          0.02084208844286023,
          0.02778945125714699,
          0.0347368140714337,
          0.04168417688572046,
          0.038081968071484784,
          0.031134605257198078,
          0.024187242442911316,
          0.01723987962862461,
          0.010292516814337849,
          0.012089558171503478,
          0.011145470419315351,
          0.004198107605028645,
          0.002749255209258117,
          0.009696618023544823,
          0.016643980837831585,
          0.023591343652118346,
          0.030538706466405108,
          0.028414345901421834,
          0.030288445227073912,
          0.03723580804136062,
          0.04418317085564738,
          0.0465718801274444,
          0.03962451731315764,
          0.03267715449887093,
          0.025729791684584224,
          0.018782428870297463,
          0.02215841653371098,
          0.02910577934799774,
          0.0360531421622845,
          0.04300050497657121,
          0.049947867790857914,
          0.04799094359682066,
          0.041043580782533895,
          0.03409621796824713,
          0.027148855153960483,
          0.02020149233967361,
          0.01325412952538696,
          0.006306766711100198,
          0.0006405961031865637,
          0.0017782553578867821,
          0,
          0.002910354071193222,
          0.009857716885480095,
          0.016805079699766745,
          0.023752442514053507,
          0.029853864601164126,
          0.022906501786877476,
          0.015959138972590603,
          0.009011776158303952,
          0.014603846753486471,
          0.021551209567773233,
          0.028498572382059884,
          0.035445935196346756,
          0.04239329801063341,
          0.03728437875256396,
          0.0303370159382772,
          0.02338965312399044,
          0.016442290309703678,
          0.009494927495417027,
          0.0025475646811301544,
          0,
          0,
          0,
          0,
          0,
          0,
          0,
          0,
          0,
          0,
          0,
          0,
          0,
          0,
          0,
          0,
          0,
          0,
          0,
          0,
          0,
          0,
          0,
          0,
          0,
          0,
          0.003031726738419227,
          0.009979089552705989,
          0.01692645236699264,
          0.0238738151812794,
          0.030821177995566162,
          0.0347368140714337,
          0.027789451257146935,
          0.020842088442860174,
          0.013894725628573523,
          0.006947362814286762,
          0
         ],
         "yaxis": "y2"
        }
       ],
       "layout": {
        "annotations": [
         {
          "font": {
           "size": 16
          },
          "showarrow": false,
          "text": "H0",
          "x": 0.5,
          "xanchor": "center",
          "xref": "paper",
          "y": 1,
          "yanchor": "bottom",
          "yref": "paper"
         },
         {
          "font": {
           "size": 16
          },
          "showarrow": false,
          "text": "H1",
          "x": 0.5,
          "xanchor": "center",
          "xref": "paper",
          "y": 0.375,
          "yanchor": "bottom",
          "yref": "paper"
         }
        ],
        "plot_bgcolor": "white",
        "template": {
         "data": {
          "bar": [
           {
            "error_x": {
             "color": "#2a3f5f"
            },
            "error_y": {
             "color": "#2a3f5f"
            },
            "marker": {
             "line": {
              "color": "#E5ECF6",
              "width": 0.5
             },
             "pattern": {
              "fillmode": "overlay",
              "size": 10,
              "solidity": 0.2
             }
            },
            "type": "bar"
           }
          ],
          "barpolar": [
           {
            "marker": {
             "line": {
              "color": "#E5ECF6",
              "width": 0.5
             },
             "pattern": {
              "fillmode": "overlay",
              "size": 10,
              "solidity": 0.2
             }
            },
            "type": "barpolar"
           }
          ],
          "carpet": [
           {
            "aaxis": {
             "endlinecolor": "#2a3f5f",
             "gridcolor": "white",
             "linecolor": "white",
             "minorgridcolor": "white",
             "startlinecolor": "#2a3f5f"
            },
            "baxis": {
             "endlinecolor": "#2a3f5f",
             "gridcolor": "white",
             "linecolor": "white",
             "minorgridcolor": "white",
             "startlinecolor": "#2a3f5f"
            },
            "type": "carpet"
           }
          ],
          "choropleth": [
           {
            "colorbar": {
             "outlinewidth": 0,
             "ticks": ""
            },
            "type": "choropleth"
           }
          ],
          "contour": [
           {
            "colorbar": {
             "outlinewidth": 0,
             "ticks": ""
            },
            "colorscale": [
             [
              0,
              "#0d0887"
             ],
             [
              0.1111111111111111,
              "#46039f"
             ],
             [
              0.2222222222222222,
              "#7201a8"
             ],
             [
              0.3333333333333333,
              "#9c179e"
             ],
             [
              0.4444444444444444,
              "#bd3786"
             ],
             [
              0.5555555555555556,
              "#d8576b"
             ],
             [
              0.6666666666666666,
              "#ed7953"
             ],
             [
              0.7777777777777778,
              "#fb9f3a"
             ],
             [
              0.8888888888888888,
              "#fdca26"
             ],
             [
              1,
              "#f0f921"
             ]
            ],
            "type": "contour"
           }
          ],
          "contourcarpet": [
           {
            "colorbar": {
             "outlinewidth": 0,
             "ticks": ""
            },
            "type": "contourcarpet"
           }
          ],
          "heatmap": [
           {
            "colorbar": {
             "outlinewidth": 0,
             "ticks": ""
            },
            "colorscale": [
             [
              0,
              "#0d0887"
             ],
             [
              0.1111111111111111,
              "#46039f"
             ],
             [
              0.2222222222222222,
              "#7201a8"
             ],
             [
              0.3333333333333333,
              "#9c179e"
             ],
             [
              0.4444444444444444,
              "#bd3786"
             ],
             [
              0.5555555555555556,
              "#d8576b"
             ],
             [
              0.6666666666666666,
              "#ed7953"
             ],
             [
              0.7777777777777778,
              "#fb9f3a"
             ],
             [
              0.8888888888888888,
              "#fdca26"
             ],
             [
              1,
              "#f0f921"
             ]
            ],
            "type": "heatmap"
           }
          ],
          "heatmapgl": [
           {
            "colorbar": {
             "outlinewidth": 0,
             "ticks": ""
            },
            "colorscale": [
             [
              0,
              "#0d0887"
             ],
             [
              0.1111111111111111,
              "#46039f"
             ],
             [
              0.2222222222222222,
              "#7201a8"
             ],
             [
              0.3333333333333333,
              "#9c179e"
             ],
             [
              0.4444444444444444,
              "#bd3786"
             ],
             [
              0.5555555555555556,
              "#d8576b"
             ],
             [
              0.6666666666666666,
              "#ed7953"
             ],
             [
              0.7777777777777778,
              "#fb9f3a"
             ],
             [
              0.8888888888888888,
              "#fdca26"
             ],
             [
              1,
              "#f0f921"
             ]
            ],
            "type": "heatmapgl"
           }
          ],
          "histogram": [
           {
            "marker": {
             "pattern": {
              "fillmode": "overlay",
              "size": 10,
              "solidity": 0.2
             }
            },
            "type": "histogram"
           }
          ],
          "histogram2d": [
           {
            "colorbar": {
             "outlinewidth": 0,
             "ticks": ""
            },
            "colorscale": [
             [
              0,
              "#0d0887"
             ],
             [
              0.1111111111111111,
              "#46039f"
             ],
             [
              0.2222222222222222,
              "#7201a8"
             ],
             [
              0.3333333333333333,
              "#9c179e"
             ],
             [
              0.4444444444444444,
              "#bd3786"
             ],
             [
              0.5555555555555556,
              "#d8576b"
             ],
             [
              0.6666666666666666,
              "#ed7953"
             ],
             [
              0.7777777777777778,
              "#fb9f3a"
             ],
             [
              0.8888888888888888,
              "#fdca26"
             ],
             [
              1,
              "#f0f921"
             ]
            ],
            "type": "histogram2d"
           }
          ],
          "histogram2dcontour": [
           {
            "colorbar": {
             "outlinewidth": 0,
             "ticks": ""
            },
            "colorscale": [
             [
              0,
              "#0d0887"
             ],
             [
              0.1111111111111111,
              "#46039f"
             ],
             [
              0.2222222222222222,
              "#7201a8"
             ],
             [
              0.3333333333333333,
              "#9c179e"
             ],
             [
              0.4444444444444444,
              "#bd3786"
             ],
             [
              0.5555555555555556,
              "#d8576b"
             ],
             [
              0.6666666666666666,
              "#ed7953"
             ],
             [
              0.7777777777777778,
              "#fb9f3a"
             ],
             [
              0.8888888888888888,
              "#fdca26"
             ],
             [
              1,
              "#f0f921"
             ]
            ],
            "type": "histogram2dcontour"
           }
          ],
          "mesh3d": [
           {
            "colorbar": {
             "outlinewidth": 0,
             "ticks": ""
            },
            "type": "mesh3d"
           }
          ],
          "parcoords": [
           {
            "line": {
             "colorbar": {
              "outlinewidth": 0,
              "ticks": ""
             }
            },
            "type": "parcoords"
           }
          ],
          "pie": [
           {
            "automargin": true,
            "type": "pie"
           }
          ],
          "scatter": [
           {
            "fillpattern": {
             "fillmode": "overlay",
             "size": 10,
             "solidity": 0.2
            },
            "type": "scatter"
           }
          ],
          "scatter3d": [
           {
            "line": {
             "colorbar": {
              "outlinewidth": 0,
              "ticks": ""
             }
            },
            "marker": {
             "colorbar": {
              "outlinewidth": 0,
              "ticks": ""
             }
            },
            "type": "scatter3d"
           }
          ],
          "scattercarpet": [
           {
            "marker": {
             "colorbar": {
              "outlinewidth": 0,
              "ticks": ""
             }
            },
            "type": "scattercarpet"
           }
          ],
          "scattergeo": [
           {
            "marker": {
             "colorbar": {
              "outlinewidth": 0,
              "ticks": ""
             }
            },
            "type": "scattergeo"
           }
          ],
          "scattergl": [
           {
            "marker": {
             "colorbar": {
              "outlinewidth": 0,
              "ticks": ""
             }
            },
            "type": "scattergl"
           }
          ],
          "scattermapbox": [
           {
            "marker": {
             "colorbar": {
              "outlinewidth": 0,
              "ticks": ""
             }
            },
            "type": "scattermapbox"
           }
          ],
          "scatterpolar": [
           {
            "marker": {
             "colorbar": {
              "outlinewidth": 0,
              "ticks": ""
             }
            },
            "type": "scatterpolar"
           }
          ],
          "scatterpolargl": [
           {
            "marker": {
             "colorbar": {
              "outlinewidth": 0,
              "ticks": ""
             }
            },
            "type": "scatterpolargl"
           }
          ],
          "scatterternary": [
           {
            "marker": {
             "colorbar": {
              "outlinewidth": 0,
              "ticks": ""
             }
            },
            "type": "scatterternary"
           }
          ],
          "surface": [
           {
            "colorbar": {
             "outlinewidth": 0,
             "ticks": ""
            },
            "colorscale": [
             [
              0,
              "#0d0887"
             ],
             [
              0.1111111111111111,
              "#46039f"
             ],
             [
              0.2222222222222222,
              "#7201a8"
             ],
             [
              0.3333333333333333,
              "#9c179e"
             ],
             [
              0.4444444444444444,
              "#bd3786"
             ],
             [
              0.5555555555555556,
              "#d8576b"
             ],
             [
              0.6666666666666666,
              "#ed7953"
             ],
             [
              0.7777777777777778,
              "#fb9f3a"
             ],
             [
              0.8888888888888888,
              "#fdca26"
             ],
             [
              1,
              "#f0f921"
             ]
            ],
            "type": "surface"
           }
          ],
          "table": [
           {
            "cells": {
             "fill": {
              "color": "#EBF0F8"
             },
             "line": {
              "color": "white"
             }
            },
            "header": {
             "fill": {
              "color": "#C8D4E3"
             },
             "line": {
              "color": "white"
             }
            },
            "type": "table"
           }
          ]
         },
         "layout": {
          "annotationdefaults": {
           "arrowcolor": "#2a3f5f",
           "arrowhead": 0,
           "arrowwidth": 1
          },
          "autotypenumbers": "strict",
          "coloraxis": {
           "colorbar": {
            "outlinewidth": 0,
            "ticks": ""
           }
          },
          "colorscale": {
           "diverging": [
            [
             0,
             "#8e0152"
            ],
            [
             0.1,
             "#c51b7d"
            ],
            [
             0.2,
             "#de77ae"
            ],
            [
             0.3,
             "#f1b6da"
            ],
            [
             0.4,
             "#fde0ef"
            ],
            [
             0.5,
             "#f7f7f7"
            ],
            [
             0.6,
             "#e6f5d0"
            ],
            [
             0.7,
             "#b8e186"
            ],
            [
             0.8,
             "#7fbc41"
            ],
            [
             0.9,
             "#4d9221"
            ],
            [
             1,
             "#276419"
            ]
           ],
           "sequential": [
            [
             0,
             "#0d0887"
            ],
            [
             0.1111111111111111,
             "#46039f"
            ],
            [
             0.2222222222222222,
             "#7201a8"
            ],
            [
             0.3333333333333333,
             "#9c179e"
            ],
            [
             0.4444444444444444,
             "#bd3786"
            ],
            [
             0.5555555555555556,
             "#d8576b"
            ],
            [
             0.6666666666666666,
             "#ed7953"
            ],
            [
             0.7777777777777778,
             "#fb9f3a"
            ],
            [
             0.8888888888888888,
             "#fdca26"
            ],
            [
             1,
             "#f0f921"
            ]
           ],
           "sequentialminus": [
            [
             0,
             "#0d0887"
            ],
            [
             0.1111111111111111,
             "#46039f"
            ],
            [
             0.2222222222222222,
             "#7201a8"
            ],
            [
             0.3333333333333333,
             "#9c179e"
            ],
            [
             0.4444444444444444,
             "#bd3786"
            ],
            [
             0.5555555555555556,
             "#d8576b"
            ],
            [
             0.6666666666666666,
             "#ed7953"
            ],
            [
             0.7777777777777778,
             "#fb9f3a"
            ],
            [
             0.8888888888888888,
             "#fdca26"
            ],
            [
             1,
             "#f0f921"
            ]
           ]
          },
          "colorway": [
           "#636efa",
           "#EF553B",
           "#00cc96",
           "#ab63fa",
           "#FFA15A",
           "#19d3f3",
           "#FF6692",
           "#B6E880",
           "#FF97FF",
           "#FECB52"
          ],
          "font": {
           "color": "#2a3f5f"
          },
          "geo": {
           "bgcolor": "white",
           "lakecolor": "white",
           "landcolor": "#E5ECF6",
           "showlakes": true,
           "showland": true,
           "subunitcolor": "white"
          },
          "hoverlabel": {
           "align": "left"
          },
          "hovermode": "closest",
          "mapbox": {
           "style": "light"
          },
          "paper_bgcolor": "white",
          "plot_bgcolor": "#E5ECF6",
          "polar": {
           "angularaxis": {
            "gridcolor": "white",
            "linecolor": "white",
            "ticks": ""
           },
           "bgcolor": "#E5ECF6",
           "radialaxis": {
            "gridcolor": "white",
            "linecolor": "white",
            "ticks": ""
           }
          },
          "scene": {
           "xaxis": {
            "backgroundcolor": "#E5ECF6",
            "gridcolor": "white",
            "gridwidth": 2,
            "linecolor": "white",
            "showbackground": true,
            "ticks": "",
            "zerolinecolor": "white"
           },
           "yaxis": {
            "backgroundcolor": "#E5ECF6",
            "gridcolor": "white",
            "gridwidth": 2,
            "linecolor": "white",
            "showbackground": true,
            "ticks": "",
            "zerolinecolor": "white"
           },
           "zaxis": {
            "backgroundcolor": "#E5ECF6",
            "gridcolor": "white",
            "gridwidth": 2,
            "linecolor": "white",
            "showbackground": true,
            "ticks": "",
            "zerolinecolor": "white"
           }
          },
          "shapedefaults": {
           "line": {
            "color": "#2a3f5f"
           }
          },
          "ternary": {
           "aaxis": {
            "gridcolor": "white",
            "linecolor": "white",
            "ticks": ""
           },
           "baxis": {
            "gridcolor": "white",
            "linecolor": "white",
            "ticks": ""
           },
           "bgcolor": "#E5ECF6",
           "caxis": {
            "gridcolor": "white",
            "linecolor": "white",
            "ticks": ""
           }
          },
          "title": {
           "x": 0.05
          },
          "xaxis": {
           "automargin": true,
           "gridcolor": "white",
           "linecolor": "white",
           "ticks": "",
           "title": {
            "standoff": 15
           },
           "zerolinecolor": "white",
           "zerolinewidth": 2
          },
          "yaxis": {
           "automargin": true,
           "gridcolor": "white",
           "linecolor": "white",
           "ticks": "",
           "title": {
            "standoff": 15
           },
           "zerolinecolor": "white",
           "zerolinewidth": 2
          }
         }
        },
        "title": {
         "text": "Landscape representations of diagram 0"
        },
        "xaxis": {
         "anchor": "y",
         "domain": [
          0,
          1
         ],
         "exponentformat": "e",
         "linecolor": "black",
         "linewidth": 1,
         "mirror": false,
         "showexponent": "all",
         "showline": true,
         "side": "bottom",
         "ticks": "outside",
         "type": "linear",
         "zeroline": true
        },
        "xaxis2": {
         "anchor": "y2",
         "domain": [
          0,
          1
         ]
        },
        "yaxis": {
         "anchor": "x",
         "domain": [
          0.625,
          1
         ],
         "exponentformat": "e",
         "linecolor": "black",
         "linewidth": 1,
         "mirror": false,
         "showexponent": "all",
         "showline": true,
         "side": "left",
         "ticks": "outside",
         "type": "linear",
         "zeroline": true
        },
        "yaxis2": {
         "anchor": "x2",
         "domain": [
          0,
          0.375
         ]
        }
       }
      }
     },
     "metadata": {},
     "output_type": "display_data"
    }
   ],
   "source": [
    "# build persistence landscape\n",
    "pl = PersistenceLandscape()\n",
    "x_presistence_landscape = pl.fit_transform_plot(xt)"
   ]
  },
  {
   "attachments": {},
   "cell_type": "markdown",
   "metadata": {},
   "source": [
    "Compute bottleneck and wasserstein distances"
   ]
  },
  {
   "cell_type": "code",
   "execution_count": 45,
   "metadata": {},
   "outputs": [],
   "source": [
    "# bottleneck distance\n",
    "def compute_bottleneck_distance(diag1, diag2):\n",
    "    bottleneck_distance = gd.bottleneck_distance(diag1, diag2)\n",
    "    return bottleneck_distance"
   ]
  },
  {
   "cell_type": "code",
   "execution_count": 46,
   "metadata": {},
   "outputs": [],
   "source": [
    "# wasserstein distance\n",
    "def compute_wasserstein_distance(diag1, diag2):\n",
    "    wasserstein_distance = gd.wasserstein_distance(diag1, diag2)\n",
    "    return wasserstein_distance"
   ]
  },
  {
   "attachments": {},
   "cell_type": "markdown",
   "metadata": {},
   "source": [
    "Classification task using average persistence landscape"
   ]
  },
  {
   "cell_type": "code",
   "execution_count": 14,
   "metadata": {},
   "outputs": [],
   "source": [
    "from sklearn.preprocessing import StandardScaler\n",
    "from sklearn.model_selection import train_test_split\n",
    "from sklearn.svm import SVC \n"
   ]
  },
  {
   "cell_type": "code",
   "execution_count": 34,
   "metadata": {},
   "outputs": [
    {
     "name": "stdout",
     "output_type": "stream",
     "text": [
      "dim-input =  (150, 4)\n",
      "dim-output =  (150,)\n"
     ]
    }
   ],
   "source": [
    "# check the dimensionality of the data\n",
    "print(\"dim-input = \", x.shape)\n",
    "print(\"dim-output = \", y.shape)"
   ]
  },
  {
   "cell_type": "code",
   "execution_count": 36,
   "metadata": {},
   "outputs": [
    {
     "name": "stdout",
     "output_type": "stream",
     "text": [
      "(150, 4)\n"
     ]
    }
   ],
   "source": [
    "# normalization of data\n",
    "scaler = StandardScaler()\n",
    "x = scaler.fit_transform(x)\n",
    "print(x.shape)"
   ]
  },
  {
   "cell_type": "code",
   "execution_count": 37,
   "metadata": {},
   "outputs": [
    {
     "name": "stdout",
     "output_type": "stream",
     "text": [
      "(1, 150, 4)\n"
     ]
    }
   ],
   "source": [
    "x2 = x.reshape(1, *x.shape)\n",
    "print(x2.shape)"
   ]
  },
  {
   "cell_type": "code",
   "execution_count": 38,
   "metadata": {},
   "outputs": [],
   "source": [
    "# compute persistence diagrams\n",
    "rieps_complex = VietorisRipsPersistence()\n",
    "diagrams = rieps_complex.fit_transform(x2)"
   ]
  },
  {
   "cell_type": "code",
   "execution_count": 39,
   "metadata": {},
   "outputs": [
    {
     "data": {
      "application/vnd.plotly.v1+json": {
       "config": {
        "plotlyServerURL": "https://plot.ly"
       },
       "data": [
        {
         "hoverinfo": "none",
         "line": {
          "color": "black",
          "dash": "dash",
          "width": 1
         },
         "mode": "lines",
         "showlegend": false,
         "type": "scatter",
         "x": [
          -0.039851214885711674,
          2.032411959171295
         ],
         "y": [
          -0.039851214885711674,
          2.032411959171295
         ]
        },
        {
         "hoverinfo": "text",
         "hovertext": [
          "(0.0, 0.1211678683757782), multiplicity: 2",
          "(0.0, 0.1211678683757782), multiplicity: 2",
          "(0.0, 0.13163217902183533), multiplicity: 3",
          "(0.0, 0.13163217902183533), multiplicity: 3",
          "(0.0, 0.13163217902183533), multiplicity: 3",
          "(0.0, 0.1338362693786621), multiplicity: 6",
          "(0.0, 0.1338362693786621), multiplicity: 6",
          "(0.0, 0.1338362693786621), multiplicity: 6",
          "(0.0, 0.1338362693786621), multiplicity: 6",
          "(0.0, 0.1338362693786621), multiplicity: 6",
          "(0.0, 0.1338362693786621), multiplicity: 6",
          "(0.0, 0.14337895810604095), multiplicity: 2",
          "(0.0, 0.14337895810604095), multiplicity: 2",
          "(0.0, 0.16614338755607605), multiplicity: 3",
          "(0.0, 0.16614338755607605), multiplicity: 3",
          "(0.0, 0.16614338755607605), multiplicity: 3",
          "(0.0, 0.17051227390766144)",
          "(0.0, 0.17890970408916473), multiplicity: 3",
          "(0.0, 0.17890970408916473), multiplicity: 3",
          "(0.0, 0.17890970408916473), multiplicity: 3",
          "(0.0, 0.18772101402282715)",
          "(0.0, 0.2091795653104782)",
          "(0.0, 0.2119685262441635), multiplicity: 3",
          "(0.0, 0.2119685262441635), multiplicity: 3",
          "(0.0, 0.2119685262441635), multiplicity: 3",
          "(0.0, 0.2154100090265274)",
          "(0.0, 0.22734971344470978), multiplicity: 2",
          "(0.0, 0.22734971344470978), multiplicity: 2",
          "(0.0, 0.23710976541042328), multiplicity: 8",
          "(0.0, 0.23710976541042328), multiplicity: 8",
          "(0.0, 0.23710976541042328), multiplicity: 8",
          "(0.0, 0.23710976541042328), multiplicity: 8",
          "(0.0, 0.23710976541042328), multiplicity: 8",
          "(0.0, 0.23710976541042328), multiplicity: 8",
          "(0.0, 0.23710976541042328), multiplicity: 8",
          "(0.0, 0.23710976541042328), multiplicity: 8",
          "(0.0, 0.2423357367515564), multiplicity: 2",
          "(0.0, 0.2423357367515564), multiplicity: 2",
          "(0.0, 0.24891184270381927), multiplicity: 3",
          "(0.0, 0.24891184270381927), multiplicity: 3",
          "(0.0, 0.24891184270381927), multiplicity: 3",
          "(0.0, 0.25673434138298035)",
          "(0.0, 0.2601388096809387), multiplicity: 4",
          "(0.0, 0.2601388096809387), multiplicity: 4",
          "(0.0, 0.2601388096809387), multiplicity: 4",
          "(0.0, 0.2601388096809387), multiplicity: 4",
          "(0.0, 0.2627069056034088)",
          "(0.0, 0.26517462730407715), multiplicity: 2",
          "(0.0, 0.26517462730407715), multiplicity: 2",
          "(0.0, 0.2662756145000458), multiplicity: 4",
          "(0.0, 0.2662756145000458), multiplicity: 4",
          "(0.0, 0.2662756145000458), multiplicity: 4",
          "(0.0, 0.2662756145000458), multiplicity: 4",
          "(0.0, 0.2676725387573242)",
          "(0.0, 0.2693299353122711)",
          "(0.0, 0.2867579162120819), multiplicity: 2",
          "(0.0, 0.2867579162120819), multiplicity: 2",
          "(0.0, 0.288512647151947)",
          "(0.0, 0.28930360078811646), multiplicity: 2",
          "(0.0, 0.28930360078811646), multiplicity: 2",
          "(0.0, 0.29533079266548157)",
          "(0.0, 0.2963124215602875), multiplicity: 2",
          "(0.0, 0.2963124215602875), multiplicity: 2",
          "(0.0, 0.29703488945961)",
          "(0.0, 0.2982878088951111)",
          "(0.0, 0.3110412359237671), multiplicity: 3",
          "(0.0, 0.3110412359237671), multiplicity: 3",
          "(0.0, 0.3110412359237671), multiplicity: 3",
          "(0.0, 0.3129236400127411), multiplicity: 5",
          "(0.0, 0.3129236400127411), multiplicity: 5",
          "(0.0, 0.3129236400127411), multiplicity: 5",
          "(0.0, 0.3129236400127411), multiplicity: 5",
          "(0.0, 0.3129236400127411), multiplicity: 5",
          "(0.0, 0.3136599659919739), multiplicity: 2",
          "(0.0, 0.3136599659919739), multiplicity: 2",
          "(0.0, 0.3362502455711365)",
          "(0.0, 0.3377479314804077)",
          "(0.0, 0.33903932571411133), multiplicity: 2",
          "(0.0, 0.33903932571411133), multiplicity: 2",
          "(0.0, 0.34548529982566833)",
          "(0.0, 0.34784480929374695)",
          "(0.0, 0.3492928147315979), multiplicity: 3",
          "(0.0, 0.3492928147315979), multiplicity: 3",
          "(0.0, 0.3492928147315979), multiplicity: 3",
          "(0.0, 0.3497122824192047), multiplicity: 2",
          "(0.0, 0.3497122824192047), multiplicity: 2",
          "(0.0, 0.35304269194602966)",
          "(0.0, 0.36191076040267944)",
          "(0.0, 0.36772361397743225)",
          "(0.0, 0.369712233543396)",
          "(0.0, 0.37010854482650757)",
          "(0.0, 0.3734821677207947), multiplicity: 2",
          "(0.0, 0.3734821677207947), multiplicity: 2",
          "(0.0, 0.3744473457336426), multiplicity: 2",
          "(0.0, 0.3744473457336426), multiplicity: 2",
          "(0.0, 0.37678396701812744), multiplicity: 2",
          "(0.0, 0.37678396701812744), multiplicity: 2",
          "(0.0, 0.3871721923351288), multiplicity: 2",
          "(0.0, 0.3871721923351288), multiplicity: 2",
          "(0.0, 0.38906699419021606), multiplicity: 2",
          "(0.0, 0.38906699419021606), multiplicity: 2",
          "(0.0, 0.3959999680519104)",
          "(0.0, 0.396369993686676)",
          "(0.0, 0.3976413309574127)",
          "(0.0, 0.40150880813598633)",
          "(0.0, 0.4058966636657715)",
          "(0.0, 0.42253562808036804), multiplicity: 2",
          "(0.0, 0.42253562808036804), multiplicity: 2",
          "(0.0, 0.42842376232147217)",
          "(0.0, 0.4287455677986145)",
          "(0.0, 0.4343595504760742)",
          "(0.0, 0.44502517580986023), multiplicity: 3",
          "(0.0, 0.44502517580986023), multiplicity: 3",
          "(0.0, 0.44502517580986023), multiplicity: 3",
          "(0.0, 0.4468773603439331)",
          "(0.0, 0.4484972655773163)",
          "(0.0, 0.44994717836380005), multiplicity: 2",
          "(0.0, 0.44994717836380005), multiplicity: 2",
          "(0.0, 0.45352283120155334)",
          "(0.0, 0.4633248448371887)",
          "(0.0, 0.4666290283203125), multiplicity: 2",
          "(0.0, 0.4666290283203125), multiplicity: 2",
          "(0.0, 0.4760712683200836)",
          "(0.0, 0.47945213317871094)",
          "(0.0, 0.48220300674438477)",
          "(0.0, 0.49719351530075073), multiplicity: 2",
          "(0.0, 0.49719351530075073), multiplicity: 2",
          "(0.0, 0.5137907266616821)",
          "(0.0, 0.515518844127655)",
          "(0.0, 0.5295875668525696)",
          "(0.0, 0.5303846597671509)",
          "(0.0, 0.5423949956893921)",
          "(0.0, 0.565109133720398)",
          "(0.0, 0.569853663444519)",
          "(0.0, 0.5858561396598816)",
          "(0.0, 0.5906615853309631)",
          "(0.0, 0.5975106954574585)",
          "(0.0, 0.601691484451294)",
          "(0.0, 0.6171122193336487)",
          "(0.0, 0.6267029643058777)",
          "(0.0, 0.6649709939956665)",
          "(0.0, 0.6808217167854309)",
          "(0.0, 0.6998835206031799)",
          "(0.0, 0.7850720286369324)",
          "(0.0, 0.922629177570343)",
          "(0.0, 0.9463847875595093)",
          "(0.0, 1.3938791751861572)",
          "(0.0, 1.5585631132125854)"
         ],
         "mode": "markers",
         "name": "H0",
         "type": "scatter",
         "x": [
          0,
          0,
          0,
          0,
          0,
          0,
          0,
          0,
          0,
          0,
          0,
          0,
          0,
          0,
          0,
          0,
          0,
          0,
          0,
          0,
          0,
          0,
          0,
          0,
          0,
          0,
          0,
          0,
          0,
          0,
          0,
          0,
          0,
          0,
          0,
          0,
          0,
          0,
          0,
          0,
          0,
          0,
          0,
          0,
          0,
          0,
          0,
          0,
          0,
          0,
          0,
          0,
          0,
          0,
          0,
          0,
          0,
          0,
          0,
          0,
          0,
          0,
          0,
          0,
          0,
          0,
          0,
          0,
          0,
          0,
          0,
          0,
          0,
          0,
          0,
          0,
          0,
          0,
          0,
          0,
          0,
          0,
          0,
          0,
          0,
          0,
          0,
          0,
          0,
          0,
          0,
          0,
          0,
          0,
          0,
          0,
          0,
          0,
          0,
          0,
          0,
          0,
          0,
          0,
          0,
          0,
          0,
          0,
          0,
          0,
          0,
          0,
          0,
          0,
          0,
          0,
          0,
          0,
          0,
          0,
          0,
          0,
          0,
          0,
          0,
          0,
          0,
          0,
          0,
          0,
          0,
          0,
          0,
          0,
          0,
          0,
          0,
          0,
          0,
          0,
          0,
          0,
          0,
          0,
          0,
          0,
          0,
          0
         ],
         "y": [
          0.1211678683757782,
          0.1211678683757782,
          0.13163217902183533,
          0.13163217902183533,
          0.13163217902183533,
          0.1338362693786621,
          0.1338362693786621,
          0.1338362693786621,
          0.1338362693786621,
          0.1338362693786621,
          0.1338362693786621,
          0.14337895810604095,
          0.14337895810604095,
          0.16614338755607605,
          0.16614338755607605,
          0.16614338755607605,
          0.17051227390766144,
          0.17890970408916473,
          0.17890970408916473,
          0.17890970408916473,
          0.18772101402282715,
          0.2091795653104782,
          0.2119685262441635,
          0.2119685262441635,
          0.2119685262441635,
          0.2154100090265274,
          0.22734971344470978,
          0.22734971344470978,
          0.23710976541042328,
          0.23710976541042328,
          0.23710976541042328,
          0.23710976541042328,
          0.23710976541042328,
          0.23710976541042328,
          0.23710976541042328,
          0.23710976541042328,
          0.2423357367515564,
          0.2423357367515564,
          0.24891184270381927,
          0.24891184270381927,
          0.24891184270381927,
          0.25673434138298035,
          0.2601388096809387,
          0.2601388096809387,
          0.2601388096809387,
          0.2601388096809387,
          0.2627069056034088,
          0.26517462730407715,
          0.26517462730407715,
          0.2662756145000458,
          0.2662756145000458,
          0.2662756145000458,
          0.2662756145000458,
          0.2676725387573242,
          0.2693299353122711,
          0.2867579162120819,
          0.2867579162120819,
          0.288512647151947,
          0.28930360078811646,
          0.28930360078811646,
          0.29533079266548157,
          0.2963124215602875,
          0.2963124215602875,
          0.29703488945961,
          0.2982878088951111,
          0.3110412359237671,
          0.3110412359237671,
          0.3110412359237671,
          0.3129236400127411,
          0.3129236400127411,
          0.3129236400127411,
          0.3129236400127411,
          0.3129236400127411,
          0.3136599659919739,
          0.3136599659919739,
          0.3362502455711365,
          0.3377479314804077,
          0.33903932571411133,
          0.33903932571411133,
          0.34548529982566833,
          0.34784480929374695,
          0.3492928147315979,
          0.3492928147315979,
          0.3492928147315979,
          0.3497122824192047,
          0.3497122824192047,
          0.35304269194602966,
          0.36191076040267944,
          0.36772361397743225,
          0.369712233543396,
          0.37010854482650757,
          0.3734821677207947,
          0.3734821677207947,
          0.3744473457336426,
          0.3744473457336426,
          0.37678396701812744,
          0.37678396701812744,
          0.3871721923351288,
          0.3871721923351288,
          0.38906699419021606,
          0.38906699419021606,
          0.3959999680519104,
          0.396369993686676,
          0.3976413309574127,
          0.40150880813598633,
          0.4058966636657715,
          0.42253562808036804,
          0.42253562808036804,
          0.42842376232147217,
          0.4287455677986145,
          0.4343595504760742,
          0.44502517580986023,
          0.44502517580986023,
          0.44502517580986023,
          0.4468773603439331,
          0.4484972655773163,
          0.44994717836380005,
          0.44994717836380005,
          0.45352283120155334,
          0.4633248448371887,
          0.4666290283203125,
          0.4666290283203125,
          0.4760712683200836,
          0.47945213317871094,
          0.48220300674438477,
          0.49719351530075073,
          0.49719351530075073,
          0.5137907266616821,
          0.515518844127655,
          0.5295875668525696,
          0.5303846597671509,
          0.5423949956893921,
          0.565109133720398,
          0.569853663444519,
          0.5858561396598816,
          0.5906615853309631,
          0.5975106954574585,
          0.601691484451294,
          0.6171122193336487,
          0.6267029643058777,
          0.6649709939956665,
          0.6808217167854309,
          0.6998835206031799,
          0.7850720286369324,
          0.922629177570343,
          0.9463847875595093,
          1.3938791751861572,
          1.5585631132125854
         ]
        },
        {
         "hoverinfo": "text",
         "hovertext": [
          "(1.868161678314209, 1.9925607442855835)",
          "(1.1147723197937012, 1.207124948501587)",
          "(1.0845881700515747, 1.1094144582748413)",
          "(0.8237778544425964, 0.874782919883728)",
          "(0.7589302659034729, 0.9878681898117065)",
          "(0.7388278245925903, 0.7630426287651062)",
          "(0.6812652945518494, 0.8185286521911621)",
          "(0.663805365562439, 0.7090159058570862)",
          "(0.6629887223243713, 0.7510893940925598)",
          "(0.6529373526573181, 0.7133888602256775)",
          "(0.6211422085762024, 0.6716307997703552)",
          "(0.6083939075469971, 0.6394474506378174)",
          "(0.6038663983345032, 0.6164116263389587)",
          "(0.5701108574867249, 0.7430067658424377)",
          "(0.5360395312309265, 0.6118382811546326)",
          "(0.5300727486610413, 0.578185498714447)",
          "(0.5225374102592468, 0.5532824397087097)",
          "(0.5196261405944824, 0.5238547325134277)",
          "(0.49532005190849304, 0.5532824397087097)",
          "(0.48945462703704834, 0.5437451601028442)",
          "(0.48945462703704834, 0.5202776193618774)",
          "(0.48786091804504395, 0.5490201711654663)",
          "(0.4811724126338959, 0.578185498714447)",
          "(0.47884154319763184, 0.5056859850883484)",
          "(0.4728800058364868, 0.7206991314888)",
          "(0.4640845060348511, 0.5423949956893921)",
          "(0.4640845060348511, 0.47101572155952454)",
          "(0.45352283120155334, 0.5484696626663208)",
          "(0.42512595653533936, 0.5553868412971497)",
          "(0.38906699419021606, 0.41144660115242004)",
          "(0.3636958599090576, 0.4287455677986145)",
          "(0.33903932571411133, 0.4343595504760742)",
          "(0.2662756145000458, 0.27119749784469604)",
          "(0.2601388096809387, 0.2662756145000458)",
          "(0.23710976541042328, 0.2601388096809387)"
         ],
         "mode": "markers",
         "name": "H1",
         "type": "scatter",
         "x": [
          1.868161678314209,
          1.1147723197937012,
          1.0845881700515747,
          0.8237778544425964,
          0.7589302659034729,
          0.7388278245925903,
          0.6812652945518494,
          0.663805365562439,
          0.6629887223243713,
          0.6529373526573181,
          0.6211422085762024,
          0.6083939075469971,
          0.6038663983345032,
          0.5701108574867249,
          0.5360395312309265,
          0.5300727486610413,
          0.5225374102592468,
          0.5196261405944824,
          0.49532005190849304,
          0.48945462703704834,
          0.48945462703704834,
          0.48786091804504395,
          0.4811724126338959,
          0.47884154319763184,
          0.4728800058364868,
          0.4640845060348511,
          0.4640845060348511,
          0.45352283120155334,
          0.42512595653533936,
          0.38906699419021606,
          0.3636958599090576,
          0.33903932571411133,
          0.2662756145000458,
          0.2601388096809387,
          0.23710976541042328
         ],
         "y": [
          1.9925607442855835,
          1.207124948501587,
          1.1094144582748413,
          0.874782919883728,
          0.9878681898117065,
          0.7630426287651062,
          0.8185286521911621,
          0.7090159058570862,
          0.7510893940925598,
          0.7133888602256775,
          0.6716307997703552,
          0.6394474506378174,
          0.6164116263389587,
          0.7430067658424377,
          0.6118382811546326,
          0.578185498714447,
          0.5532824397087097,
          0.5238547325134277,
          0.5532824397087097,
          0.5437451601028442,
          0.5202776193618774,
          0.5490201711654663,
          0.578185498714447,
          0.5056859850883484,
          0.7206991314888,
          0.5423949956893921,
          0.47101572155952454,
          0.5484696626663208,
          0.5553868412971497,
          0.41144660115242004,
          0.4287455677986145,
          0.4343595504760742,
          0.27119749784469604,
          0.2662756145000458,
          0.2601388096809387
         ]
        }
       ],
       "layout": {
        "height": 500,
        "plot_bgcolor": "white",
        "template": {
         "data": {
          "bar": [
           {
            "error_x": {
             "color": "#2a3f5f"
            },
            "error_y": {
             "color": "#2a3f5f"
            },
            "marker": {
             "line": {
              "color": "#E5ECF6",
              "width": 0.5
             },
             "pattern": {
              "fillmode": "overlay",
              "size": 10,
              "solidity": 0.2
             }
            },
            "type": "bar"
           }
          ],
          "barpolar": [
           {
            "marker": {
             "line": {
              "color": "#E5ECF6",
              "width": 0.5
             },
             "pattern": {
              "fillmode": "overlay",
              "size": 10,
              "solidity": 0.2
             }
            },
            "type": "barpolar"
           }
          ],
          "carpet": [
           {
            "aaxis": {
             "endlinecolor": "#2a3f5f",
             "gridcolor": "white",
             "linecolor": "white",
             "minorgridcolor": "white",
             "startlinecolor": "#2a3f5f"
            },
            "baxis": {
             "endlinecolor": "#2a3f5f",
             "gridcolor": "white",
             "linecolor": "white",
             "minorgridcolor": "white",
             "startlinecolor": "#2a3f5f"
            },
            "type": "carpet"
           }
          ],
          "choropleth": [
           {
            "colorbar": {
             "outlinewidth": 0,
             "ticks": ""
            },
            "type": "choropleth"
           }
          ],
          "contour": [
           {
            "colorbar": {
             "outlinewidth": 0,
             "ticks": ""
            },
            "colorscale": [
             [
              0,
              "#0d0887"
             ],
             [
              0.1111111111111111,
              "#46039f"
             ],
             [
              0.2222222222222222,
              "#7201a8"
             ],
             [
              0.3333333333333333,
              "#9c179e"
             ],
             [
              0.4444444444444444,
              "#bd3786"
             ],
             [
              0.5555555555555556,
              "#d8576b"
             ],
             [
              0.6666666666666666,
              "#ed7953"
             ],
             [
              0.7777777777777778,
              "#fb9f3a"
             ],
             [
              0.8888888888888888,
              "#fdca26"
             ],
             [
              1,
              "#f0f921"
             ]
            ],
            "type": "contour"
           }
          ],
          "contourcarpet": [
           {
            "colorbar": {
             "outlinewidth": 0,
             "ticks": ""
            },
            "type": "contourcarpet"
           }
          ],
          "heatmap": [
           {
            "colorbar": {
             "outlinewidth": 0,
             "ticks": ""
            },
            "colorscale": [
             [
              0,
              "#0d0887"
             ],
             [
              0.1111111111111111,
              "#46039f"
             ],
             [
              0.2222222222222222,
              "#7201a8"
             ],
             [
              0.3333333333333333,
              "#9c179e"
             ],
             [
              0.4444444444444444,
              "#bd3786"
             ],
             [
              0.5555555555555556,
              "#d8576b"
             ],
             [
              0.6666666666666666,
              "#ed7953"
             ],
             [
              0.7777777777777778,
              "#fb9f3a"
             ],
             [
              0.8888888888888888,
              "#fdca26"
             ],
             [
              1,
              "#f0f921"
             ]
            ],
            "type": "heatmap"
           }
          ],
          "heatmapgl": [
           {
            "colorbar": {
             "outlinewidth": 0,
             "ticks": ""
            },
            "colorscale": [
             [
              0,
              "#0d0887"
             ],
             [
              0.1111111111111111,
              "#46039f"
             ],
             [
              0.2222222222222222,
              "#7201a8"
             ],
             [
              0.3333333333333333,
              "#9c179e"
             ],
             [
              0.4444444444444444,
              "#bd3786"
             ],
             [
              0.5555555555555556,
              "#d8576b"
             ],
             [
              0.6666666666666666,
              "#ed7953"
             ],
             [
              0.7777777777777778,
              "#fb9f3a"
             ],
             [
              0.8888888888888888,
              "#fdca26"
             ],
             [
              1,
              "#f0f921"
             ]
            ],
            "type": "heatmapgl"
           }
          ],
          "histogram": [
           {
            "marker": {
             "pattern": {
              "fillmode": "overlay",
              "size": 10,
              "solidity": 0.2
             }
            },
            "type": "histogram"
           }
          ],
          "histogram2d": [
           {
            "colorbar": {
             "outlinewidth": 0,
             "ticks": ""
            },
            "colorscale": [
             [
              0,
              "#0d0887"
             ],
             [
              0.1111111111111111,
              "#46039f"
             ],
             [
              0.2222222222222222,
              "#7201a8"
             ],
             [
              0.3333333333333333,
              "#9c179e"
             ],
             [
              0.4444444444444444,
              "#bd3786"
             ],
             [
              0.5555555555555556,
              "#d8576b"
             ],
             [
              0.6666666666666666,
              "#ed7953"
             ],
             [
              0.7777777777777778,
              "#fb9f3a"
             ],
             [
              0.8888888888888888,
              "#fdca26"
             ],
             [
              1,
              "#f0f921"
             ]
            ],
            "type": "histogram2d"
           }
          ],
          "histogram2dcontour": [
           {
            "colorbar": {
             "outlinewidth": 0,
             "ticks": ""
            },
            "colorscale": [
             [
              0,
              "#0d0887"
             ],
             [
              0.1111111111111111,
              "#46039f"
             ],
             [
              0.2222222222222222,
              "#7201a8"
             ],
             [
              0.3333333333333333,
              "#9c179e"
             ],
             [
              0.4444444444444444,
              "#bd3786"
             ],
             [
              0.5555555555555556,
              "#d8576b"
             ],
             [
              0.6666666666666666,
              "#ed7953"
             ],
             [
              0.7777777777777778,
              "#fb9f3a"
             ],
             [
              0.8888888888888888,
              "#fdca26"
             ],
             [
              1,
              "#f0f921"
             ]
            ],
            "type": "histogram2dcontour"
           }
          ],
          "mesh3d": [
           {
            "colorbar": {
             "outlinewidth": 0,
             "ticks": ""
            },
            "type": "mesh3d"
           }
          ],
          "parcoords": [
           {
            "line": {
             "colorbar": {
              "outlinewidth": 0,
              "ticks": ""
             }
            },
            "type": "parcoords"
           }
          ],
          "pie": [
           {
            "automargin": true,
            "type": "pie"
           }
          ],
          "scatter": [
           {
            "fillpattern": {
             "fillmode": "overlay",
             "size": 10,
             "solidity": 0.2
            },
            "type": "scatter"
           }
          ],
          "scatter3d": [
           {
            "line": {
             "colorbar": {
              "outlinewidth": 0,
              "ticks": ""
             }
            },
            "marker": {
             "colorbar": {
              "outlinewidth": 0,
              "ticks": ""
             }
            },
            "type": "scatter3d"
           }
          ],
          "scattercarpet": [
           {
            "marker": {
             "colorbar": {
              "outlinewidth": 0,
              "ticks": ""
             }
            },
            "type": "scattercarpet"
           }
          ],
          "scattergeo": [
           {
            "marker": {
             "colorbar": {
              "outlinewidth": 0,
              "ticks": ""
             }
            },
            "type": "scattergeo"
           }
          ],
          "scattergl": [
           {
            "marker": {
             "colorbar": {
              "outlinewidth": 0,
              "ticks": ""
             }
            },
            "type": "scattergl"
           }
          ],
          "scattermapbox": [
           {
            "marker": {
             "colorbar": {
              "outlinewidth": 0,
              "ticks": ""
             }
            },
            "type": "scattermapbox"
           }
          ],
          "scatterpolar": [
           {
            "marker": {
             "colorbar": {
              "outlinewidth": 0,
              "ticks": ""
             }
            },
            "type": "scatterpolar"
           }
          ],
          "scatterpolargl": [
           {
            "marker": {
             "colorbar": {
              "outlinewidth": 0,
              "ticks": ""
             }
            },
            "type": "scatterpolargl"
           }
          ],
          "scatterternary": [
           {
            "marker": {
             "colorbar": {
              "outlinewidth": 0,
              "ticks": ""
             }
            },
            "type": "scatterternary"
           }
          ],
          "surface": [
           {
            "colorbar": {
             "outlinewidth": 0,
             "ticks": ""
            },
            "colorscale": [
             [
              0,
              "#0d0887"
             ],
             [
              0.1111111111111111,
              "#46039f"
             ],
             [
              0.2222222222222222,
              "#7201a8"
             ],
             [
              0.3333333333333333,
              "#9c179e"
             ],
             [
              0.4444444444444444,
              "#bd3786"
             ],
             [
              0.5555555555555556,
              "#d8576b"
             ],
             [
              0.6666666666666666,
              "#ed7953"
             ],
             [
              0.7777777777777778,
              "#fb9f3a"
             ],
             [
              0.8888888888888888,
              "#fdca26"
             ],
             [
              1,
              "#f0f921"
             ]
            ],
            "type": "surface"
           }
          ],
          "table": [
           {
            "cells": {
             "fill": {
              "color": "#EBF0F8"
             },
             "line": {
              "color": "white"
             }
            },
            "header": {
             "fill": {
              "color": "#C8D4E3"
             },
             "line": {
              "color": "white"
             }
            },
            "type": "table"
           }
          ]
         },
         "layout": {
          "annotationdefaults": {
           "arrowcolor": "#2a3f5f",
           "arrowhead": 0,
           "arrowwidth": 1
          },
          "autotypenumbers": "strict",
          "coloraxis": {
           "colorbar": {
            "outlinewidth": 0,
            "ticks": ""
           }
          },
          "colorscale": {
           "diverging": [
            [
             0,
             "#8e0152"
            ],
            [
             0.1,
             "#c51b7d"
            ],
            [
             0.2,
             "#de77ae"
            ],
            [
             0.3,
             "#f1b6da"
            ],
            [
             0.4,
             "#fde0ef"
            ],
            [
             0.5,
             "#f7f7f7"
            ],
            [
             0.6,
             "#e6f5d0"
            ],
            [
             0.7,
             "#b8e186"
            ],
            [
             0.8,
             "#7fbc41"
            ],
            [
             0.9,
             "#4d9221"
            ],
            [
             1,
             "#276419"
            ]
           ],
           "sequential": [
            [
             0,
             "#0d0887"
            ],
            [
             0.1111111111111111,
             "#46039f"
            ],
            [
             0.2222222222222222,
             "#7201a8"
            ],
            [
             0.3333333333333333,
             "#9c179e"
            ],
            [
             0.4444444444444444,
             "#bd3786"
            ],
            [
             0.5555555555555556,
             "#d8576b"
            ],
            [
             0.6666666666666666,
             "#ed7953"
            ],
            [
             0.7777777777777778,
             "#fb9f3a"
            ],
            [
             0.8888888888888888,
             "#fdca26"
            ],
            [
             1,
             "#f0f921"
            ]
           ],
           "sequentialminus": [
            [
             0,
             "#0d0887"
            ],
            [
             0.1111111111111111,
             "#46039f"
            ],
            [
             0.2222222222222222,
             "#7201a8"
            ],
            [
             0.3333333333333333,
             "#9c179e"
            ],
            [
             0.4444444444444444,
             "#bd3786"
            ],
            [
             0.5555555555555556,
             "#d8576b"
            ],
            [
             0.6666666666666666,
             "#ed7953"
            ],
            [
             0.7777777777777778,
             "#fb9f3a"
            ],
            [
             0.8888888888888888,
             "#fdca26"
            ],
            [
             1,
             "#f0f921"
            ]
           ]
          },
          "colorway": [
           "#636efa",
           "#EF553B",
           "#00cc96",
           "#ab63fa",
           "#FFA15A",
           "#19d3f3",
           "#FF6692",
           "#B6E880",
           "#FF97FF",
           "#FECB52"
          ],
          "font": {
           "color": "#2a3f5f"
          },
          "geo": {
           "bgcolor": "white",
           "lakecolor": "white",
           "landcolor": "#E5ECF6",
           "showlakes": true,
           "showland": true,
           "subunitcolor": "white"
          },
          "hoverlabel": {
           "align": "left"
          },
          "hovermode": "closest",
          "mapbox": {
           "style": "light"
          },
          "paper_bgcolor": "white",
          "plot_bgcolor": "#E5ECF6",
          "polar": {
           "angularaxis": {
            "gridcolor": "white",
            "linecolor": "white",
            "ticks": ""
           },
           "bgcolor": "#E5ECF6",
           "radialaxis": {
            "gridcolor": "white",
            "linecolor": "white",
            "ticks": ""
           }
          },
          "scene": {
           "xaxis": {
            "backgroundcolor": "#E5ECF6",
            "gridcolor": "white",
            "gridwidth": 2,
            "linecolor": "white",
            "showbackground": true,
            "ticks": "",
            "zerolinecolor": "white"
           },
           "yaxis": {
            "backgroundcolor": "#E5ECF6",
            "gridcolor": "white",
            "gridwidth": 2,
            "linecolor": "white",
            "showbackground": true,
            "ticks": "",
            "zerolinecolor": "white"
           },
           "zaxis": {
            "backgroundcolor": "#E5ECF6",
            "gridcolor": "white",
            "gridwidth": 2,
            "linecolor": "white",
            "showbackground": true,
            "ticks": "",
            "zerolinecolor": "white"
           }
          },
          "shapedefaults": {
           "line": {
            "color": "#2a3f5f"
           }
          },
          "ternary": {
           "aaxis": {
            "gridcolor": "white",
            "linecolor": "white",
            "ticks": ""
           },
           "baxis": {
            "gridcolor": "white",
            "linecolor": "white",
            "ticks": ""
           },
           "bgcolor": "#E5ECF6",
           "caxis": {
            "gridcolor": "white",
            "linecolor": "white",
            "ticks": ""
           }
          },
          "title": {
           "x": 0.05
          },
          "xaxis": {
           "automargin": true,
           "gridcolor": "white",
           "linecolor": "white",
           "ticks": "",
           "title": {
            "standoff": 15
           },
           "zerolinecolor": "white",
           "zerolinewidth": 2
          },
          "yaxis": {
           "automargin": true,
           "gridcolor": "white",
           "linecolor": "white",
           "ticks": "",
           "title": {
            "standoff": 15
           },
           "zerolinecolor": "white",
           "zerolinewidth": 2
          }
         }
        },
        "width": 500,
        "xaxis": {
         "autorange": false,
         "exponentformat": "e",
         "linecolor": "black",
         "linewidth": 1,
         "mirror": false,
         "range": [
          -0.039851214885711674,
          2.032411959171295
         ],
         "showexponent": "all",
         "showline": true,
         "side": "bottom",
         "ticks": "outside",
         "title": {
          "text": "Birth"
         },
         "type": "linear",
         "zeroline": true
        },
        "yaxis": {
         "autorange": false,
         "exponentformat": "e",
         "linecolor": "black",
         "linewidth": 1,
         "mirror": false,
         "range": [
          -0.039851214885711674,
          2.032411959171295
         ],
         "scaleanchor": "x",
         "scaleratio": 1,
         "showexponent": "all",
         "showline": true,
         "side": "left",
         "ticks": "outside",
         "title": {
          "text": "Death"
         },
         "type": "linear",
         "zeroline": true
        }
       }
      }
     },
     "metadata": {},
     "output_type": "display_data"
    }
   ],
   "source": [
    "rieps_complex.plot(diagrams)"
   ]
  },
  {
   "cell_type": "code",
   "execution_count": 40,
   "metadata": {},
   "outputs": [],
   "source": [
    "landscape = PersistenceLandscape()\n",
    "landscapes = landscape.fit_transform(diagrams)"
   ]
  },
  {
   "cell_type": "code",
   "execution_count": 41,
   "metadata": {},
   "outputs": [
    {
     "data": {
      "application/vnd.plotly.v1+json": {
       "config": {
        "plotlyServerURL": "https://plot.ly"
       },
       "data": [
        {
         "hoverinfo": "none",
         "mode": "lines",
         "name": "Layer 1 (H0)",
         "showlegend": true,
         "type": "scatter",
         "x": [
          0,
          0.015743061749622075,
          0.03148612349924415,
          0.047229185248866226,
          0.0629722469984883,
          0.07871530874811038,
          0.09445837049773245,
          0.11020143224735453,
          0.1259444939969766,
          0.1416875557465987,
          0.15743061749622075,
          0.17317367924584282,
          0.1889167409954649,
          0.204659802745087,
          0.22040286449470906,
          0.23614592624433112,
          0.2518889879939532,
          0.2676320497435753,
          0.2833751114931974,
          0.2991181732428194,
          0.3148612349924415,
          0.3306042967420636,
          0.34634735849168563,
          0.3620904202413077,
          0.3778334819909298,
          0.3935765437405519,
          0.409319605490174,
          0.425062667239796,
          0.4408057289894181,
          0.4565487907390402,
          0.47229185248866223,
          0.4880349142382843,
          0.5037779759879064,
          0.5195210377375284,
          0.5352640994871506,
          0.5510071612367726,
          0.5667502229863948,
          0.5824932847360168,
          0.5982363464856388,
          0.613979408235261,
          0.629722469984883,
          0.645465531734505,
          0.6612085934841272,
          0.6769516552337492,
          0.6926947169833713,
          0.7084377787329934,
          0.7241808404826154,
          0.7399239022322376,
          0.7556669639818596,
          0.7714100257314817,
          0.7871530874811038,
          0.8028961492307258,
          0.818639210980348,
          0.83438227272997,
          0.850125334479592,
          0.8658683962292142,
          0.8816114579788362,
          0.8973545197284583,
          0.9130975814780804,
          0.9288406432277024,
          0.9445837049773245,
          0.9603267667269466,
          0.9760698284765686,
          0.9918128902261908,
          1.0075559519758128,
          1.023299013725435,
          1.039042075475057,
          1.054785137224679,
          1.0705281989743012,
          1.086271260723923,
          1.1020143224735452,
          1.1177573842231674,
          1.1335004459727895,
          1.1492435077224115,
          1.1649865694720336,
          1.1807296312216558,
          1.1964726929712777,
          1.2122157547208998,
          1.227958816470522,
          1.2437018782201439,
          1.259444939969766,
          1.2751880017193882,
          1.29093106346901,
          1.3066741252186322,
          1.3224171869682544,
          1.3381602487178763,
          1.3539033104674985,
          1.3696463722171206,
          1.3853894339667425,
          1.4011324957163647,
          1.4168755574659868,
          1.432618619215609,
          1.4483616809652309,
          1.464104742714853,
          1.4798478044644752,
          1.495590866214097,
          1.5113339279637192,
          1.5270769897133414,
          1.5428200514629633,
          1.5585631132125854
         ],
         "xaxis": "x",
         "y": [
          0,
          0.01574306174962209,
          0.03148612349924418,
          0.047229185248866226,
          0.06297224699848836,
          0.07871530874811039,
          0.09445837049773245,
          0.11020143224735457,
          0.1259444939969766,
          0.1416875557465987,
          0.15743061749622078,
          0.17317367924584282,
          0.1889167409954649,
          0.204659802745087,
          0.22040286449470906,
          0.23614592624433112,
          0.2518889879939532,
          0.26763204974357535,
          0.2833751114931974,
          0.2991181732428194,
          0.3148612349924415,
          0.3306042967420636,
          0.34634735849168563,
          0.3620904202413077,
          0.3778334819909298,
          0.3935765437405519,
          0.409319605490174,
          0.425062667239796,
          0.4408057289894181,
          0.4565487907390402,
          0.47229185248866223,
          0.4880349142382843,
          0.5037779759879064,
          0.5195210377375284,
          0.5352640994871506,
          0.5510071612367726,
          0.5667502229863948,
          0.5824932847360168,
          0.5982363464856388,
          0.613979408235261,
          0.629722469984883,
          0.645465531734505,
          0.6612085934841272,
          0.6769516552337492,
          0.6926947169833713,
          0.7084377787329934,
          0.7241808404826154,
          0.7399239022322376,
          0.7556669639818596,
          0.7714100257314817,
          0.7714100257314817,
          0.7556669639818596,
          0.7399239022322375,
          0.7241808404826154,
          0.7084377787329934,
          0.6926947169833713,
          0.6769516552337492,
          0.6612085934841272,
          0.645465531734505,
          0.629722469984883,
          0.613979408235261,
          0.5982363464856388,
          0.5824932847360168,
          0.5667502229863947,
          0.5510071612367726,
          0.5352640994871505,
          0.5195210377375286,
          0.5037779759879064,
          0.48803491423828427,
          0.47229185248866234,
          0.4565487907390402,
          0.44080572898941806,
          0.4250626672397959,
          0.409319605490174,
          0.39357654374055184,
          0.3778334819909297,
          0.3620904202413078,
          0.34634735849168563,
          0.3306042967420635,
          0.31486123499244156,
          0.2991181732428194,
          0.2833751114931973,
          0.26763204974357535,
          0.2518889879939532,
          0.23614592624433106,
          0.22040286449470914,
          0.204659802745087,
          0.18891674099546485,
          0.17317367924584293,
          0.15743061749622078,
          0.14168755574659864,
          0.1259444939969765,
          0.11020143224735457,
          0.09445837049773242,
          0.07871530874811028,
          0.06297224699848836,
          0.04722918524886621,
          0.03148612349924407,
          0.015743061749622145,
          0
         ],
         "yaxis": "y"
        },
        {
         "hoverinfo": "none",
         "mode": "lines",
         "name": "Layer 1 (H1)",
         "showlegend": true,
         "type": "scatter",
         "x": [
          0.23710976541042328,
          0.25484159347986934,
          0.2725734215493154,
          0.2903052496187615,
          0.30803707768820754,
          0.3257689057576536,
          0.34350073382709967,
          0.36123256189654573,
          0.3789643899659918,
          0.39669621803543786,
          0.41442804610488393,
          0.43215987417433,
          0.449891702243776,
          0.46762353031322207,
          0.48535535838266813,
          0.5030871864521143,
          0.5208190145215603,
          0.5385508425910064,
          0.5562826706604524,
          0.5740144987298985,
          0.5917463267993446,
          0.6094781548687906,
          0.6272099829382367,
          0.6449418110076828,
          0.6626736390771287,
          0.6804054671465748,
          0.6981372952160209,
          0.7158691232854669,
          0.733600951354913,
          0.751332779424359,
          0.7690646074938051,
          0.7867964355632512,
          0.8045282636326972,
          0.8222600917021433,
          0.8399919197715894,
          0.8577237478410354,
          0.8754555759104815,
          0.8931874039799276,
          0.9109192320493736,
          0.9286510601188197,
          0.9463828881882658,
          0.9641147162577118,
          0.9818465443271579,
          0.999578372396604,
          1.0173102004660501,
          1.035042028535496,
          1.0527738566049423,
          1.0705056846743881,
          1.0882375127438342,
          1.1059693408132802,
          1.1237011688827263,
          1.1414329969521724,
          1.1591648250216184,
          1.1768966530910645,
          1.1946284811605106,
          1.2123603092299566,
          1.2300921372994027,
          1.2478239653688488,
          1.2655557934382948,
          1.283287621507741,
          1.301019449577187,
          1.318751277646633,
          1.336483105716079,
          1.3542149337855252,
          1.3719467618549712,
          1.3896785899244173,
          1.4074104179938633,
          1.4251422460633094,
          1.4428740741327555,
          1.4606059022022015,
          1.4783377302716476,
          1.4960695583410937,
          1.5138013864105397,
          1.5315332144799858,
          1.5492650425494319,
          1.566996870618878,
          1.584728698688324,
          1.60246052675777,
          1.6201923548272161,
          1.6379241828966622,
          1.6556560109661083,
          1.6733878390355543,
          1.6911196671050004,
          1.7088514951744465,
          1.7265833232438925,
          1.7443151513133386,
          1.7620469793827847,
          1.7797788074522307,
          1.7975106355216768,
          1.8152424635911228,
          1.832974291660569,
          1.850706119730015,
          1.868437947799461,
          1.886169775868907,
          1.9039016039383532,
          1.9216334320077992,
          1.939365260077245,
          1.9570970881466911,
          1.9748289162161372,
          1.9925607442855835
         ],
         "xaxis": "x2",
         "y": [
          0,
          0.005297216201069377,
          0,
          0,
          0,
          0,
          0.004461408112988341,
          0.022193236182434406,
          0.03992506425188047,
          0.037663332440636355,
          0.01993150437119029,
          0.007033917638990639,
          0.02476574570843665,
          0.04249757377788271,
          0.06022940184732878,
          0.052299654845035404,
          0.0479390086850735,
          0.06567083675451957,
          0.08340266482396563,
          0.1011344928934117,
          0.11886632096285776,
          0.1112209766200094,
          0.09348914855056334,
          0.07575732048111727,
          0.08033312676530902,
          0.06260129869586295,
          0.044869470626416885,
          0.03522027080709289,
          0.052335656803063624,
          0.06719587276680306,
          0.04946404469735699,
          0.031732216627910925,
          0.04559799772922435,
          0.06332982579867041,
          0.08106165386811648,
          0.09879348193756254,
          0.11241261390122503,
          0.09468078583177897,
          0.0769489577623329,
          0.05921712969288684,
          0.04148530162344077,
          0.02375347355399471,
          0.006021645484548643,
          0,
          0,
          0,
          0,
          0,
          0.003649342692259472,
          0.0034451174615610647,
          0.008928849089025137,
          0.026660677158471202,
          0.04439250522791727,
          0.03022829541052241,
          0.012496467341076345,
          0,
          0,
          0,
          0,
          0,
          0,
          0,
          0,
          0,
          0,
          0,
          0,
          0,
          0,
          0,
          0,
          0,
          0,
          0,
          0,
          0,
          0,
          0,
          0,
          0,
          0,
          0,
          0,
          0,
          0,
          0,
          0,
          0,
          0,
          0,
          0,
          0,
          0.0002762694852520564,
          0.01800809755469812,
          0.035739925624144187,
          0.05347175369359025,
          0.05319548420833842,
          0.03546365613889235,
          0.017731828069446287,
          0
         ],
         "yaxis": "y2"
        }
       ],
       "layout": {
        "annotations": [
         {
          "font": {
           "size": 16
          },
          "showarrow": false,
          "text": "H0",
          "x": 0.5,
          "xanchor": "center",
          "xref": "paper",
          "y": 1,
          "yanchor": "bottom",
          "yref": "paper"
         },
         {
          "font": {
           "size": 16
          },
          "showarrow": false,
          "text": "H1",
          "x": 0.5,
          "xanchor": "center",
          "xref": "paper",
          "y": 0.375,
          "yanchor": "bottom",
          "yref": "paper"
         }
        ],
        "plot_bgcolor": "white",
        "template": {
         "data": {
          "bar": [
           {
            "error_x": {
             "color": "#2a3f5f"
            },
            "error_y": {
             "color": "#2a3f5f"
            },
            "marker": {
             "line": {
              "color": "#E5ECF6",
              "width": 0.5
             },
             "pattern": {
              "fillmode": "overlay",
              "size": 10,
              "solidity": 0.2
             }
            },
            "type": "bar"
           }
          ],
          "barpolar": [
           {
            "marker": {
             "line": {
              "color": "#E5ECF6",
              "width": 0.5
             },
             "pattern": {
              "fillmode": "overlay",
              "size": 10,
              "solidity": 0.2
             }
            },
            "type": "barpolar"
           }
          ],
          "carpet": [
           {
            "aaxis": {
             "endlinecolor": "#2a3f5f",
             "gridcolor": "white",
             "linecolor": "white",
             "minorgridcolor": "white",
             "startlinecolor": "#2a3f5f"
            },
            "baxis": {
             "endlinecolor": "#2a3f5f",
             "gridcolor": "white",
             "linecolor": "white",
             "minorgridcolor": "white",
             "startlinecolor": "#2a3f5f"
            },
            "type": "carpet"
           }
          ],
          "choropleth": [
           {
            "colorbar": {
             "outlinewidth": 0,
             "ticks": ""
            },
            "type": "choropleth"
           }
          ],
          "contour": [
           {
            "colorbar": {
             "outlinewidth": 0,
             "ticks": ""
            },
            "colorscale": [
             [
              0,
              "#0d0887"
             ],
             [
              0.1111111111111111,
              "#46039f"
             ],
             [
              0.2222222222222222,
              "#7201a8"
             ],
             [
              0.3333333333333333,
              "#9c179e"
             ],
             [
              0.4444444444444444,
              "#bd3786"
             ],
             [
              0.5555555555555556,
              "#d8576b"
             ],
             [
              0.6666666666666666,
              "#ed7953"
             ],
             [
              0.7777777777777778,
              "#fb9f3a"
             ],
             [
              0.8888888888888888,
              "#fdca26"
             ],
             [
              1,
              "#f0f921"
             ]
            ],
            "type": "contour"
           }
          ],
          "contourcarpet": [
           {
            "colorbar": {
             "outlinewidth": 0,
             "ticks": ""
            },
            "type": "contourcarpet"
           }
          ],
          "heatmap": [
           {
            "colorbar": {
             "outlinewidth": 0,
             "ticks": ""
            },
            "colorscale": [
             [
              0,
              "#0d0887"
             ],
             [
              0.1111111111111111,
              "#46039f"
             ],
             [
              0.2222222222222222,
              "#7201a8"
             ],
             [
              0.3333333333333333,
              "#9c179e"
             ],
             [
              0.4444444444444444,
              "#bd3786"
             ],
             [
              0.5555555555555556,
              "#d8576b"
             ],
             [
              0.6666666666666666,
              "#ed7953"
             ],
             [
              0.7777777777777778,
              "#fb9f3a"
             ],
             [
              0.8888888888888888,
              "#fdca26"
             ],
             [
              1,
              "#f0f921"
             ]
            ],
            "type": "heatmap"
           }
          ],
          "heatmapgl": [
           {
            "colorbar": {
             "outlinewidth": 0,
             "ticks": ""
            },
            "colorscale": [
             [
              0,
              "#0d0887"
             ],
             [
              0.1111111111111111,
              "#46039f"
             ],
             [
              0.2222222222222222,
              "#7201a8"
             ],
             [
              0.3333333333333333,
              "#9c179e"
             ],
             [
              0.4444444444444444,
              "#bd3786"
             ],
             [
              0.5555555555555556,
              "#d8576b"
             ],
             [
              0.6666666666666666,
              "#ed7953"
             ],
             [
              0.7777777777777778,
              "#fb9f3a"
             ],
             [
              0.8888888888888888,
              "#fdca26"
             ],
             [
              1,
              "#f0f921"
             ]
            ],
            "type": "heatmapgl"
           }
          ],
          "histogram": [
           {
            "marker": {
             "pattern": {
              "fillmode": "overlay",
              "size": 10,
              "solidity": 0.2
             }
            },
            "type": "histogram"
           }
          ],
          "histogram2d": [
           {
            "colorbar": {
             "outlinewidth": 0,
             "ticks": ""
            },
            "colorscale": [
             [
              0,
              "#0d0887"
             ],
             [
              0.1111111111111111,
              "#46039f"
             ],
             [
              0.2222222222222222,
              "#7201a8"
             ],
             [
              0.3333333333333333,
              "#9c179e"
             ],
             [
              0.4444444444444444,
              "#bd3786"
             ],
             [
              0.5555555555555556,
              "#d8576b"
             ],
             [
              0.6666666666666666,
              "#ed7953"
             ],
             [
              0.7777777777777778,
              "#fb9f3a"
             ],
             [
              0.8888888888888888,
              "#fdca26"
             ],
             [
              1,
              "#f0f921"
             ]
            ],
            "type": "histogram2d"
           }
          ],
          "histogram2dcontour": [
           {
            "colorbar": {
             "outlinewidth": 0,
             "ticks": ""
            },
            "colorscale": [
             [
              0,
              "#0d0887"
             ],
             [
              0.1111111111111111,
              "#46039f"
             ],
             [
              0.2222222222222222,
              "#7201a8"
             ],
             [
              0.3333333333333333,
              "#9c179e"
             ],
             [
              0.4444444444444444,
              "#bd3786"
             ],
             [
              0.5555555555555556,
              "#d8576b"
             ],
             [
              0.6666666666666666,
              "#ed7953"
             ],
             [
              0.7777777777777778,
              "#fb9f3a"
             ],
             [
              0.8888888888888888,
              "#fdca26"
             ],
             [
              1,
              "#f0f921"
             ]
            ],
            "type": "histogram2dcontour"
           }
          ],
          "mesh3d": [
           {
            "colorbar": {
             "outlinewidth": 0,
             "ticks": ""
            },
            "type": "mesh3d"
           }
          ],
          "parcoords": [
           {
            "line": {
             "colorbar": {
              "outlinewidth": 0,
              "ticks": ""
             }
            },
            "type": "parcoords"
           }
          ],
          "pie": [
           {
            "automargin": true,
            "type": "pie"
           }
          ],
          "scatter": [
           {
            "fillpattern": {
             "fillmode": "overlay",
             "size": 10,
             "solidity": 0.2
            },
            "type": "scatter"
           }
          ],
          "scatter3d": [
           {
            "line": {
             "colorbar": {
              "outlinewidth": 0,
              "ticks": ""
             }
            },
            "marker": {
             "colorbar": {
              "outlinewidth": 0,
              "ticks": ""
             }
            },
            "type": "scatter3d"
           }
          ],
          "scattercarpet": [
           {
            "marker": {
             "colorbar": {
              "outlinewidth": 0,
              "ticks": ""
             }
            },
            "type": "scattercarpet"
           }
          ],
          "scattergeo": [
           {
            "marker": {
             "colorbar": {
              "outlinewidth": 0,
              "ticks": ""
             }
            },
            "type": "scattergeo"
           }
          ],
          "scattergl": [
           {
            "marker": {
             "colorbar": {
              "outlinewidth": 0,
              "ticks": ""
             }
            },
            "type": "scattergl"
           }
          ],
          "scattermapbox": [
           {
            "marker": {
             "colorbar": {
              "outlinewidth": 0,
              "ticks": ""
             }
            },
            "type": "scattermapbox"
           }
          ],
          "scatterpolar": [
           {
            "marker": {
             "colorbar": {
              "outlinewidth": 0,
              "ticks": ""
             }
            },
            "type": "scatterpolar"
           }
          ],
          "scatterpolargl": [
           {
            "marker": {
             "colorbar": {
              "outlinewidth": 0,
              "ticks": ""
             }
            },
            "type": "scatterpolargl"
           }
          ],
          "scatterternary": [
           {
            "marker": {
             "colorbar": {
              "outlinewidth": 0,
              "ticks": ""
             }
            },
            "type": "scatterternary"
           }
          ],
          "surface": [
           {
            "colorbar": {
             "outlinewidth": 0,
             "ticks": ""
            },
            "colorscale": [
             [
              0,
              "#0d0887"
             ],
             [
              0.1111111111111111,
              "#46039f"
             ],
             [
              0.2222222222222222,
              "#7201a8"
             ],
             [
              0.3333333333333333,
              "#9c179e"
             ],
             [
              0.4444444444444444,
              "#bd3786"
             ],
             [
              0.5555555555555556,
              "#d8576b"
             ],
             [
              0.6666666666666666,
              "#ed7953"
             ],
             [
              0.7777777777777778,
              "#fb9f3a"
             ],
             [
              0.8888888888888888,
              "#fdca26"
             ],
             [
              1,
              "#f0f921"
             ]
            ],
            "type": "surface"
           }
          ],
          "table": [
           {
            "cells": {
             "fill": {
              "color": "#EBF0F8"
             },
             "line": {
              "color": "white"
             }
            },
            "header": {
             "fill": {
              "color": "#C8D4E3"
             },
             "line": {
              "color": "white"
             }
            },
            "type": "table"
           }
          ]
         },
         "layout": {
          "annotationdefaults": {
           "arrowcolor": "#2a3f5f",
           "arrowhead": 0,
           "arrowwidth": 1
          },
          "autotypenumbers": "strict",
          "coloraxis": {
           "colorbar": {
            "outlinewidth": 0,
            "ticks": ""
           }
          },
          "colorscale": {
           "diverging": [
            [
             0,
             "#8e0152"
            ],
            [
             0.1,
             "#c51b7d"
            ],
            [
             0.2,
             "#de77ae"
            ],
            [
             0.3,
             "#f1b6da"
            ],
            [
             0.4,
             "#fde0ef"
            ],
            [
             0.5,
             "#f7f7f7"
            ],
            [
             0.6,
             "#e6f5d0"
            ],
            [
             0.7,
             "#b8e186"
            ],
            [
             0.8,
             "#7fbc41"
            ],
            [
             0.9,
             "#4d9221"
            ],
            [
             1,
             "#276419"
            ]
           ],
           "sequential": [
            [
             0,
             "#0d0887"
            ],
            [
             0.1111111111111111,
             "#46039f"
            ],
            [
             0.2222222222222222,
             "#7201a8"
            ],
            [
             0.3333333333333333,
             "#9c179e"
            ],
            [
             0.4444444444444444,
             "#bd3786"
            ],
            [
             0.5555555555555556,
             "#d8576b"
            ],
            [
             0.6666666666666666,
             "#ed7953"
            ],
            [
             0.7777777777777778,
             "#fb9f3a"
            ],
            [
             0.8888888888888888,
             "#fdca26"
            ],
            [
             1,
             "#f0f921"
            ]
           ],
           "sequentialminus": [
            [
             0,
             "#0d0887"
            ],
            [
             0.1111111111111111,
             "#46039f"
            ],
            [
             0.2222222222222222,
             "#7201a8"
            ],
            [
             0.3333333333333333,
             "#9c179e"
            ],
            [
             0.4444444444444444,
             "#bd3786"
            ],
            [
             0.5555555555555556,
             "#d8576b"
            ],
            [
             0.6666666666666666,
             "#ed7953"
            ],
            [
             0.7777777777777778,
             "#fb9f3a"
            ],
            [
             0.8888888888888888,
             "#fdca26"
            ],
            [
             1,
             "#f0f921"
            ]
           ]
          },
          "colorway": [
           "#636efa",
           "#EF553B",
           "#00cc96",
           "#ab63fa",
           "#FFA15A",
           "#19d3f3",
           "#FF6692",
           "#B6E880",
           "#FF97FF",
           "#FECB52"
          ],
          "font": {
           "color": "#2a3f5f"
          },
          "geo": {
           "bgcolor": "white",
           "lakecolor": "white",
           "landcolor": "#E5ECF6",
           "showlakes": true,
           "showland": true,
           "subunitcolor": "white"
          },
          "hoverlabel": {
           "align": "left"
          },
          "hovermode": "closest",
          "mapbox": {
           "style": "light"
          },
          "paper_bgcolor": "white",
          "plot_bgcolor": "#E5ECF6",
          "polar": {
           "angularaxis": {
            "gridcolor": "white",
            "linecolor": "white",
            "ticks": ""
           },
           "bgcolor": "#E5ECF6",
           "radialaxis": {
            "gridcolor": "white",
            "linecolor": "white",
            "ticks": ""
           }
          },
          "scene": {
           "xaxis": {
            "backgroundcolor": "#E5ECF6",
            "gridcolor": "white",
            "gridwidth": 2,
            "linecolor": "white",
            "showbackground": true,
            "ticks": "",
            "zerolinecolor": "white"
           },
           "yaxis": {
            "backgroundcolor": "#E5ECF6",
            "gridcolor": "white",
            "gridwidth": 2,
            "linecolor": "white",
            "showbackground": true,
            "ticks": "",
            "zerolinecolor": "white"
           },
           "zaxis": {
            "backgroundcolor": "#E5ECF6",
            "gridcolor": "white",
            "gridwidth": 2,
            "linecolor": "white",
            "showbackground": true,
            "ticks": "",
            "zerolinecolor": "white"
           }
          },
          "shapedefaults": {
           "line": {
            "color": "#2a3f5f"
           }
          },
          "ternary": {
           "aaxis": {
            "gridcolor": "white",
            "linecolor": "white",
            "ticks": ""
           },
           "baxis": {
            "gridcolor": "white",
            "linecolor": "white",
            "ticks": ""
           },
           "bgcolor": "#E5ECF6",
           "caxis": {
            "gridcolor": "white",
            "linecolor": "white",
            "ticks": ""
           }
          },
          "title": {
           "x": 0.05
          },
          "xaxis": {
           "automargin": true,
           "gridcolor": "white",
           "linecolor": "white",
           "ticks": "",
           "title": {
            "standoff": 15
           },
           "zerolinecolor": "white",
           "zerolinewidth": 2
          },
          "yaxis": {
           "automargin": true,
           "gridcolor": "white",
           "linecolor": "white",
           "ticks": "",
           "title": {
            "standoff": 15
           },
           "zerolinecolor": "white",
           "zerolinewidth": 2
          }
         }
        },
        "title": {
         "text": "Landscape representations of diagram 0"
        },
        "xaxis": {
         "anchor": "y",
         "domain": [
          0,
          1
         ],
         "exponentformat": "e",
         "linecolor": "black",
         "linewidth": 1,
         "mirror": false,
         "showexponent": "all",
         "showline": true,
         "side": "bottom",
         "ticks": "outside",
         "type": "linear",
         "zeroline": true
        },
        "xaxis2": {
         "anchor": "y2",
         "domain": [
          0,
          1
         ]
        },
        "yaxis": {
         "anchor": "x",
         "domain": [
          0.625,
          1
         ],
         "exponentformat": "e",
         "linecolor": "black",
         "linewidth": 1,
         "mirror": false,
         "showexponent": "all",
         "showline": true,
         "side": "left",
         "ticks": "outside",
         "type": "linear",
         "zeroline": true
        },
        "yaxis2": {
         "anchor": "x2",
         "domain": [
          0,
          0.375
         ]
        }
       }
      }
     },
     "metadata": {},
     "output_type": "display_data"
    }
   ],
   "source": [
    "landscape.plot(landscapes)"
   ]
  },
  {
   "cell_type": "code",
   "execution_count": 30,
   "metadata": {},
   "outputs": [
    {
     "data": {
      "text/plain": [
       "(600,)"
      ]
     },
     "execution_count": 30,
     "metadata": {},
     "output_type": "execute_result"
    }
   ],
   "source": [
    "x = x.reshape()\n",
    "x.shape"
   ]
  },
  {
   "cell_type": "code",
   "execution_count": 42,
   "metadata": {},
   "outputs": [],
   "source": [
    "# split dataset\n",
    "x_train, x_test, y_train, y_test = train_test_split(x, y, random_state = 1, test_size = 0.3)"
   ]
  },
  {
   "cell_type": "code",
   "execution_count": 43,
   "metadata": {},
   "outputs": [],
   "source": [
    "# for train-set\n",
    "\n",
    "# compute persistence homology\n",
    "rieps_train = VietorisRipsPersistence()\n",
    "diagram_train = rieps_complex.fit_transform(x_train.reshape(1, *x_train.shape))\n",
    "\n",
    "#compute\n",
    "landscape_train = PersistenceLandscape()\n",
    "landscape_train = landscape_train.fit_transform(diagram_train)"
   ]
  },
  {
   "cell_type": "code",
   "execution_count": 44,
   "metadata": {},
   "outputs": [
    {
     "ename": "ValueError",
     "evalue": "Found array with dim 3. Estimator expected <= 2.",
     "output_type": "error",
     "traceback": [
      "\u001b[1;31m---------------------------------------------------------------------------\u001b[0m",
      "\u001b[1;31mValueError\u001b[0m                                Traceback (most recent call last)",
      "\u001b[1;32m~\\AppData\\Local\\Temp/ipykernel_6324/2770346547.py\u001b[0m in \u001b[0;36m<module>\u001b[1;34m\u001b[0m\n\u001b[0;32m      3\u001b[0m \u001b[1;33m\u001b[0m\u001b[0m\n\u001b[0;32m      4\u001b[0m \u001b[0mclassifier\u001b[0m \u001b[1;33m=\u001b[0m \u001b[0mLogisticRegression\u001b[0m\u001b[1;33m(\u001b[0m\u001b[1;33m)\u001b[0m\u001b[1;33m\u001b[0m\u001b[1;33m\u001b[0m\u001b[0m\n\u001b[1;32m----> 5\u001b[1;33m \u001b[0mclassifier\u001b[0m\u001b[1;33m.\u001b[0m\u001b[0mfit\u001b[0m\u001b[1;33m(\u001b[0m\u001b[0mlandscape_train\u001b[0m\u001b[1;33m,\u001b[0m \u001b[0my_train\u001b[0m\u001b[1;33m)\u001b[0m\u001b[1;33m\u001b[0m\u001b[1;33m\u001b[0m\u001b[0m\n\u001b[0m",
      "\u001b[1;32mc:\\Users\\HP\\anaconda3\\lib\\site-packages\\sklearn\\linear_model\\_logistic.py\u001b[0m in \u001b[0;36mfit\u001b[1;34m(self, X, y, sample_weight)\u001b[0m\n\u001b[0;32m   1342\u001b[0m             \u001b[0m_dtype\u001b[0m \u001b[1;33m=\u001b[0m \u001b[1;33m[\u001b[0m\u001b[0mnp\u001b[0m\u001b[1;33m.\u001b[0m\u001b[0mfloat64\u001b[0m\u001b[1;33m,\u001b[0m \u001b[0mnp\u001b[0m\u001b[1;33m.\u001b[0m\u001b[0mfloat32\u001b[0m\u001b[1;33m]\u001b[0m\u001b[1;33m\u001b[0m\u001b[1;33m\u001b[0m\u001b[0m\n\u001b[0;32m   1343\u001b[0m \u001b[1;33m\u001b[0m\u001b[0m\n\u001b[1;32m-> 1344\u001b[1;33m         X, y = self._validate_data(X, y, accept_sparse='csr', dtype=_dtype,\n\u001b[0m\u001b[0;32m   1345\u001b[0m                                    \u001b[0morder\u001b[0m\u001b[1;33m=\u001b[0m\u001b[1;34m\"C\"\u001b[0m\u001b[1;33m,\u001b[0m\u001b[1;33m\u001b[0m\u001b[1;33m\u001b[0m\u001b[0m\n\u001b[0;32m   1346\u001b[0m                                    accept_large_sparse=solver != 'liblinear')\n",
      "\u001b[1;32mc:\\Users\\HP\\anaconda3\\lib\\site-packages\\sklearn\\base.py\u001b[0m in \u001b[0;36m_validate_data\u001b[1;34m(self, X, y, reset, validate_separately, **check_params)\u001b[0m\n\u001b[0;32m    431\u001b[0m                 \u001b[0my\u001b[0m \u001b[1;33m=\u001b[0m \u001b[0mcheck_array\u001b[0m\u001b[1;33m(\u001b[0m\u001b[0my\u001b[0m\u001b[1;33m,\u001b[0m \u001b[1;33m**\u001b[0m\u001b[0mcheck_y_params\u001b[0m\u001b[1;33m)\u001b[0m\u001b[1;33m\u001b[0m\u001b[1;33m\u001b[0m\u001b[0m\n\u001b[0;32m    432\u001b[0m             \u001b[1;32melse\u001b[0m\u001b[1;33m:\u001b[0m\u001b[1;33m\u001b[0m\u001b[1;33m\u001b[0m\u001b[0m\n\u001b[1;32m--> 433\u001b[1;33m                 \u001b[0mX\u001b[0m\u001b[1;33m,\u001b[0m \u001b[0my\u001b[0m \u001b[1;33m=\u001b[0m \u001b[0mcheck_X_y\u001b[0m\u001b[1;33m(\u001b[0m\u001b[0mX\u001b[0m\u001b[1;33m,\u001b[0m \u001b[0my\u001b[0m\u001b[1;33m,\u001b[0m \u001b[1;33m**\u001b[0m\u001b[0mcheck_params\u001b[0m\u001b[1;33m)\u001b[0m\u001b[1;33m\u001b[0m\u001b[1;33m\u001b[0m\u001b[0m\n\u001b[0m\u001b[0;32m    434\u001b[0m             \u001b[0mout\u001b[0m \u001b[1;33m=\u001b[0m \u001b[0mX\u001b[0m\u001b[1;33m,\u001b[0m \u001b[0my\u001b[0m\u001b[1;33m\u001b[0m\u001b[1;33m\u001b[0m\u001b[0m\n\u001b[0;32m    435\u001b[0m \u001b[1;33m\u001b[0m\u001b[0m\n",
      "\u001b[1;32mc:\\Users\\HP\\anaconda3\\lib\\site-packages\\sklearn\\utils\\validation.py\u001b[0m in \u001b[0;36minner_f\u001b[1;34m(*args, **kwargs)\u001b[0m\n\u001b[0;32m     61\u001b[0m             \u001b[0mextra_args\u001b[0m \u001b[1;33m=\u001b[0m \u001b[0mlen\u001b[0m\u001b[1;33m(\u001b[0m\u001b[0margs\u001b[0m\u001b[1;33m)\u001b[0m \u001b[1;33m-\u001b[0m \u001b[0mlen\u001b[0m\u001b[1;33m(\u001b[0m\u001b[0mall_args\u001b[0m\u001b[1;33m)\u001b[0m\u001b[1;33m\u001b[0m\u001b[1;33m\u001b[0m\u001b[0m\n\u001b[0;32m     62\u001b[0m             \u001b[1;32mif\u001b[0m \u001b[0mextra_args\u001b[0m \u001b[1;33m<=\u001b[0m \u001b[1;36m0\u001b[0m\u001b[1;33m:\u001b[0m\u001b[1;33m\u001b[0m\u001b[1;33m\u001b[0m\u001b[0m\n\u001b[1;32m---> 63\u001b[1;33m                 \u001b[1;32mreturn\u001b[0m \u001b[0mf\u001b[0m\u001b[1;33m(\u001b[0m\u001b[1;33m*\u001b[0m\u001b[0margs\u001b[0m\u001b[1;33m,\u001b[0m \u001b[1;33m**\u001b[0m\u001b[0mkwargs\u001b[0m\u001b[1;33m)\u001b[0m\u001b[1;33m\u001b[0m\u001b[1;33m\u001b[0m\u001b[0m\n\u001b[0m\u001b[0;32m     64\u001b[0m \u001b[1;33m\u001b[0m\u001b[0m\n\u001b[0;32m     65\u001b[0m             \u001b[1;31m# extra_args > 0\u001b[0m\u001b[1;33m\u001b[0m\u001b[1;33m\u001b[0m\u001b[0m\n",
      "\u001b[1;32mc:\\Users\\HP\\anaconda3\\lib\\site-packages\\sklearn\\utils\\validation.py\u001b[0m in \u001b[0;36mcheck_X_y\u001b[1;34m(X, y, accept_sparse, accept_large_sparse, dtype, order, copy, force_all_finite, ensure_2d, allow_nd, multi_output, ensure_min_samples, ensure_min_features, y_numeric, estimator)\u001b[0m\n\u001b[0;32m    869\u001b[0m         \u001b[1;32mraise\u001b[0m \u001b[0mValueError\u001b[0m\u001b[1;33m(\u001b[0m\u001b[1;34m\"y cannot be None\"\u001b[0m\u001b[1;33m)\u001b[0m\u001b[1;33m\u001b[0m\u001b[1;33m\u001b[0m\u001b[0m\n\u001b[0;32m    870\u001b[0m \u001b[1;33m\u001b[0m\u001b[0m\n\u001b[1;32m--> 871\u001b[1;33m     X = check_array(X, accept_sparse=accept_sparse,\n\u001b[0m\u001b[0;32m    872\u001b[0m                     \u001b[0maccept_large_sparse\u001b[0m\u001b[1;33m=\u001b[0m\u001b[0maccept_large_sparse\u001b[0m\u001b[1;33m,\u001b[0m\u001b[1;33m\u001b[0m\u001b[1;33m\u001b[0m\u001b[0m\n\u001b[0;32m    873\u001b[0m                     \u001b[0mdtype\u001b[0m\u001b[1;33m=\u001b[0m\u001b[0mdtype\u001b[0m\u001b[1;33m,\u001b[0m \u001b[0morder\u001b[0m\u001b[1;33m=\u001b[0m\u001b[0morder\u001b[0m\u001b[1;33m,\u001b[0m \u001b[0mcopy\u001b[0m\u001b[1;33m=\u001b[0m\u001b[0mcopy\u001b[0m\u001b[1;33m,\u001b[0m\u001b[1;33m\u001b[0m\u001b[1;33m\u001b[0m\u001b[0m\n",
      "\u001b[1;32mc:\\Users\\HP\\anaconda3\\lib\\site-packages\\sklearn\\utils\\validation.py\u001b[0m in \u001b[0;36minner_f\u001b[1;34m(*args, **kwargs)\u001b[0m\n\u001b[0;32m     61\u001b[0m             \u001b[0mextra_args\u001b[0m \u001b[1;33m=\u001b[0m \u001b[0mlen\u001b[0m\u001b[1;33m(\u001b[0m\u001b[0margs\u001b[0m\u001b[1;33m)\u001b[0m \u001b[1;33m-\u001b[0m \u001b[0mlen\u001b[0m\u001b[1;33m(\u001b[0m\u001b[0mall_args\u001b[0m\u001b[1;33m)\u001b[0m\u001b[1;33m\u001b[0m\u001b[1;33m\u001b[0m\u001b[0m\n\u001b[0;32m     62\u001b[0m             \u001b[1;32mif\u001b[0m \u001b[0mextra_args\u001b[0m \u001b[1;33m<=\u001b[0m \u001b[1;36m0\u001b[0m\u001b[1;33m:\u001b[0m\u001b[1;33m\u001b[0m\u001b[1;33m\u001b[0m\u001b[0m\n\u001b[1;32m---> 63\u001b[1;33m                 \u001b[1;32mreturn\u001b[0m \u001b[0mf\u001b[0m\u001b[1;33m(\u001b[0m\u001b[1;33m*\u001b[0m\u001b[0margs\u001b[0m\u001b[1;33m,\u001b[0m \u001b[1;33m**\u001b[0m\u001b[0mkwargs\u001b[0m\u001b[1;33m)\u001b[0m\u001b[1;33m\u001b[0m\u001b[1;33m\u001b[0m\u001b[0m\n\u001b[0m\u001b[0;32m     64\u001b[0m \u001b[1;33m\u001b[0m\u001b[0m\n\u001b[0;32m     65\u001b[0m             \u001b[1;31m# extra_args > 0\u001b[0m\u001b[1;33m\u001b[0m\u001b[1;33m\u001b[0m\u001b[0m\n",
      "\u001b[1;32mc:\\Users\\HP\\anaconda3\\lib\\site-packages\\sklearn\\utils\\validation.py\u001b[0m in \u001b[0;36mcheck_array\u001b[1;34m(array, accept_sparse, accept_large_sparse, dtype, order, copy, force_all_finite, ensure_2d, allow_nd, ensure_min_samples, ensure_min_features, estimator)\u001b[0m\n\u001b[0;32m    714\u001b[0m                     \"into decimal numbers with dtype='numeric'\") from e\n\u001b[0;32m    715\u001b[0m         \u001b[1;32mif\u001b[0m \u001b[1;32mnot\u001b[0m \u001b[0mallow_nd\u001b[0m \u001b[1;32mand\u001b[0m \u001b[0marray\u001b[0m\u001b[1;33m.\u001b[0m\u001b[0mndim\u001b[0m \u001b[1;33m>=\u001b[0m \u001b[1;36m3\u001b[0m\u001b[1;33m:\u001b[0m\u001b[1;33m\u001b[0m\u001b[1;33m\u001b[0m\u001b[0m\n\u001b[1;32m--> 716\u001b[1;33m             raise ValueError(\"Found array with dim %d. %s expected <= 2.\"\n\u001b[0m\u001b[0;32m    717\u001b[0m                              % (array.ndim, estimator_name))\n\u001b[0;32m    718\u001b[0m \u001b[1;33m\u001b[0m\u001b[0m\n",
      "\u001b[1;31mValueError\u001b[0m: Found array with dim 3. Estimator expected <= 2."
     ]
    }
   ],
   "source": [
    "# train process \n",
    "from sklearn.linear_model import LogisticRegression\n",
    "\n",
    "classifier = LogisticRegression()\n",
    "classifier.fit(landscape_train, y_train)"
   ]
  },
  {
   "cell_type": "code",
   "execution_count": null,
   "metadata": {},
   "outputs": [],
   "source": [
    "# for test-set\n",
    "\n",
    "# compute persistence homology\n",
    "rieps_train = VietorisRipsPersistence()\n",
    "diagram_train = rieps_complex.fit_transform(x_train.reshape(1, *x_train.shape))\n",
    "\n",
    "#compute\n",
    "landscape_train = PersistenceLandscape()\n",
    "landscape_train = landscape_train.fit_transform(diagram_train)"
   ]
  },
  {
   "cell_type": "code",
   "execution_count": null,
   "metadata": {},
   "outputs": [],
   "source": [
    "from sklearn.linear_model import LogisticRegression\n",
    "\n",
    "classifier = LogisticRegression()\n",
    "classifier.fit()"
   ]
  },
  {
   "cell_type": "code",
   "execution_count": null,
   "metadata": {},
   "outputs": [],
   "source": []
  },
  {
   "cell_type": "code",
   "execution_count": null,
   "metadata": {},
   "outputs": [],
   "source": []
  }
 ],
 "metadata": {
  "kernelspec": {
   "display_name": "base",
   "language": "python",
   "name": "python3"
  },
  "language_info": {
   "codemirror_mode": {
    "name": "ipython",
    "version": 3
   },
   "file_extension": ".py",
   "mimetype": "text/x-python",
   "name": "python",
   "nbconvert_exporter": "python",
   "pygments_lexer": "ipython3",
   "version": "3.9.7"
  },
  "orig_nbformat": 4
 },
 "nbformat": 4,
 "nbformat_minor": 2
}
