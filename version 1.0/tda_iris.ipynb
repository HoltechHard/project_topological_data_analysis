{
 "cells": [
  {
   "attachments": {},
   "cell_type": "markdown",
   "metadata": {},
   "source": [
    "# Project - Topological Data Analysis   "
   ]
  },
  {
   "cell_type": "code",
   "execution_count": 50,
   "metadata": {},
   "outputs": [],
   "source": [
    "# import packages\n",
    "from sklearn.datasets import load_iris\n",
    "from gtda.diagrams import PersistenceLandscape\n",
    "from gtda.diagrams import PersistenceImage\n",
    "from gtda.homology import VietorisRipsPersistence\n",
    "from gtda.diagrams import BettiCurve, PersistenceLandscape, PairwiseDistance, PersistenceEntropy\n",
    "from gtda.plotting import plot_point_cloud"
   ]
  },
  {
   "cell_type": "code",
   "execution_count": 34,
   "metadata": {},
   "outputs": [
    {
     "name": "stdout",
     "output_type": "stream",
     "text": [
      "X:  [[5.1 3.5 1.4 0.2]\n",
      " [4.9 3.  1.4 0.2]\n",
      " [4.7 3.2 1.3 0.2]\n",
      " [4.6 3.1 1.5 0.2]\n",
      " [5.  3.6 1.4 0.2]\n",
      " [5.4 3.9 1.7 0.4]\n",
      " [4.6 3.4 1.4 0.3]\n",
      " [5.  3.4 1.5 0.2]\n",
      " [4.4 2.9 1.4 0.2]\n",
      " [4.9 3.1 1.5 0.1]]\n",
      "Y:  [0 0 0 0 0 0 0 0 0 0]\n"
     ]
    }
   ],
   "source": [
    "# load iris dataset \n",
    "x, y = load_iris(return_X_y = True)\n",
    "print(\"X: \", x[:10])\n",
    "print(\"Y: \", y[:10])"
   ]
  },
  {
   "cell_type": "code",
   "execution_count": 35,
   "metadata": {},
   "outputs": [
    {
     "name": "stdout",
     "output_type": "stream",
     "text": [
      "(150, 4)\n"
     ]
    }
   ],
   "source": [
    "print(x.shape)"
   ]
  },
  {
   "cell_type": "code",
   "execution_count": 27,
   "metadata": {},
   "outputs": [
    {
     "data": {
      "application/vnd.plotly.v1+json": {
       "config": {
        "plotlyServerURL": "https://plot.ly"
       },
       "data": [
        {
         "marker": {
          "color": [
           0,
           1,
           2,
           3,
           4,
           5,
           6,
           7,
           8,
           9,
           10,
           11,
           12,
           13,
           14,
           15,
           16,
           17,
           18,
           19,
           20,
           21,
           22,
           23,
           24,
           25,
           26,
           27,
           28,
           29,
           30,
           31,
           32,
           33,
           34,
           35,
           36,
           37,
           38,
           39,
           40,
           41,
           42,
           43,
           44,
           45,
           46,
           47,
           48,
           49,
           50,
           51,
           52,
           53,
           54,
           55,
           56,
           57,
           58,
           59,
           60,
           61,
           62,
           63,
           64,
           65,
           66,
           67,
           68,
           69,
           70,
           71,
           72,
           73,
           74,
           75,
           76,
           77,
           78,
           79,
           80,
           81,
           82,
           83,
           84,
           85,
           86,
           87,
           88,
           89,
           90,
           91,
           92,
           93,
           94,
           95,
           96,
           97,
           98,
           99,
           100,
           101,
           102,
           103,
           104,
           105,
           106,
           107,
           108,
           109,
           110,
           111,
           112,
           113,
           114,
           115,
           116,
           117,
           118,
           119,
           120,
           121,
           122,
           123,
           124,
           125,
           126,
           127,
           128,
           129,
           130,
           131,
           132,
           133,
           134,
           135,
           136,
           137,
           138,
           139,
           140,
           141,
           142,
           143,
           144,
           145,
           146,
           147,
           148,
           149
          ],
          "colorscale": [
           [
            0,
            "#440154"
           ],
           [
            0.1111111111111111,
            "#482878"
           ],
           [
            0.2222222222222222,
            "#3e4989"
           ],
           [
            0.3333333333333333,
            "#31688e"
           ],
           [
            0.4444444444444444,
            "#26828e"
           ],
           [
            0.5555555555555556,
            "#1f9e89"
           ],
           [
            0.6666666666666666,
            "#35b779"
           ],
           [
            0.7777777777777778,
            "#6ece58"
           ],
           [
            0.8888888888888888,
            "#b5de2b"
           ],
           [
            1,
            "#fde725"
           ]
          ],
          "opacity": 0.8,
          "size": 4
         },
         "mode": "markers",
         "type": "scatter",
         "x": [
          5.1,
          4.9,
          4.7,
          4.6,
          5,
          5.4,
          4.6,
          5,
          4.4,
          4.9,
          5.4,
          4.8,
          4.8,
          4.3,
          5.8,
          5.7,
          5.4,
          5.1,
          5.7,
          5.1,
          5.4,
          5.1,
          4.6,
          5.1,
          4.8,
          5,
          5,
          5.2,
          5.2,
          4.7,
          4.8,
          5.4,
          5.2,
          5.5,
          4.9,
          5,
          5.5,
          4.9,
          4.4,
          5.1,
          5,
          4.5,
          4.4,
          5,
          5.1,
          4.8,
          5.1,
          4.6,
          5.3,
          5,
          7,
          6.4,
          6.9,
          5.5,
          6.5,
          5.7,
          6.3,
          4.9,
          6.6,
          5.2,
          5,
          5.9,
          6,
          6.1,
          5.6,
          6.7,
          5.6,
          5.8,
          6.2,
          5.6,
          5.9,
          6.1,
          6.3,
          6.1,
          6.4,
          6.6,
          6.8,
          6.7,
          6,
          5.7,
          5.5,
          5.5,
          5.8,
          6,
          5.4,
          6,
          6.7,
          6.3,
          5.6,
          5.5,
          5.5,
          6.1,
          5.8,
          5,
          5.6,
          5.7,
          5.7,
          6.2,
          5.1,
          5.7,
          6.3,
          5.8,
          7.1,
          6.3,
          6.5,
          7.6,
          4.9,
          7.3,
          6.7,
          7.2,
          6.5,
          6.4,
          6.8,
          5.7,
          5.8,
          6.4,
          6.5,
          7.7,
          7.7,
          6,
          6.9,
          5.6,
          7.7,
          6.3,
          6.7,
          7.2,
          6.2,
          6.1,
          6.4,
          7.2,
          7.4,
          7.9,
          6.4,
          6.3,
          6.1,
          7.7,
          6.3,
          6.4,
          6,
          6.9,
          6.7,
          6.9,
          5.8,
          6.8,
          6.7,
          6.7,
          6.3,
          6.5,
          6.2,
          5.9
         ],
         "y": [
          3.5,
          3,
          3.2,
          3.1,
          3.6,
          3.9,
          3.4,
          3.4,
          2.9,
          3.1,
          3.7,
          3.4,
          3,
          3,
          4,
          4.4,
          3.9,
          3.5,
          3.8,
          3.8,
          3.4,
          3.7,
          3.6,
          3.3,
          3.4,
          3,
          3.4,
          3.5,
          3.4,
          3.2,
          3.1,
          3.4,
          4.1,
          4.2,
          3.1,
          3.2,
          3.5,
          3.6,
          3,
          3.4,
          3.5,
          2.3,
          3.2,
          3.5,
          3.8,
          3,
          3.8,
          3.2,
          3.7,
          3.3,
          3.2,
          3.2,
          3.1,
          2.3,
          2.8,
          2.8,
          3.3,
          2.4,
          2.9,
          2.7,
          2,
          3,
          2.2,
          2.9,
          2.9,
          3.1,
          3,
          2.7,
          2.2,
          2.5,
          3.2,
          2.8,
          2.5,
          2.8,
          2.9,
          3,
          2.8,
          3,
          2.9,
          2.6,
          2.4,
          2.4,
          2.7,
          2.7,
          3,
          3.4,
          3.1,
          2.3,
          3,
          2.5,
          2.6,
          3,
          2.6,
          2.3,
          2.7,
          3,
          2.9,
          2.9,
          2.5,
          2.8,
          3.3,
          2.7,
          3,
          2.9,
          3,
          3,
          2.5,
          2.9,
          2.5,
          3.6,
          3.2,
          2.7,
          3,
          2.5,
          2.8,
          3.2,
          3,
          3.8,
          2.6,
          2.2,
          3.2,
          2.8,
          2.8,
          2.7,
          3.3,
          3.2,
          2.8,
          3,
          2.8,
          3,
          2.8,
          3.8,
          2.8,
          2.8,
          2.6,
          3,
          3.4,
          3.1,
          3,
          3.1,
          3.1,
          3.1,
          2.7,
          3.2,
          3.3,
          3,
          2.5,
          3,
          3.4,
          3
         ]
        }
       ],
       "layout": {
        "height": 600,
        "plot_bgcolor": "white",
        "template": {
         "data": {
          "bar": [
           {
            "error_x": {
             "color": "#2a3f5f"
            },
            "error_y": {
             "color": "#2a3f5f"
            },
            "marker": {
             "line": {
              "color": "#E5ECF6",
              "width": 0.5
             },
             "pattern": {
              "fillmode": "overlay",
              "size": 10,
              "solidity": 0.2
             }
            },
            "type": "bar"
           }
          ],
          "barpolar": [
           {
            "marker": {
             "line": {
              "color": "#E5ECF6",
              "width": 0.5
             },
             "pattern": {
              "fillmode": "overlay",
              "size": 10,
              "solidity": 0.2
             }
            },
            "type": "barpolar"
           }
          ],
          "carpet": [
           {
            "aaxis": {
             "endlinecolor": "#2a3f5f",
             "gridcolor": "white",
             "linecolor": "white",
             "minorgridcolor": "white",
             "startlinecolor": "#2a3f5f"
            },
            "baxis": {
             "endlinecolor": "#2a3f5f",
             "gridcolor": "white",
             "linecolor": "white",
             "minorgridcolor": "white",
             "startlinecolor": "#2a3f5f"
            },
            "type": "carpet"
           }
          ],
          "choropleth": [
           {
            "colorbar": {
             "outlinewidth": 0,
             "ticks": ""
            },
            "type": "choropleth"
           }
          ],
          "contour": [
           {
            "colorbar": {
             "outlinewidth": 0,
             "ticks": ""
            },
            "colorscale": [
             [
              0,
              "#0d0887"
             ],
             [
              0.1111111111111111,
              "#46039f"
             ],
             [
              0.2222222222222222,
              "#7201a8"
             ],
             [
              0.3333333333333333,
              "#9c179e"
             ],
             [
              0.4444444444444444,
              "#bd3786"
             ],
             [
              0.5555555555555556,
              "#d8576b"
             ],
             [
              0.6666666666666666,
              "#ed7953"
             ],
             [
              0.7777777777777778,
              "#fb9f3a"
             ],
             [
              0.8888888888888888,
              "#fdca26"
             ],
             [
              1,
              "#f0f921"
             ]
            ],
            "type": "contour"
           }
          ],
          "contourcarpet": [
           {
            "colorbar": {
             "outlinewidth": 0,
             "ticks": ""
            },
            "type": "contourcarpet"
           }
          ],
          "heatmap": [
           {
            "colorbar": {
             "outlinewidth": 0,
             "ticks": ""
            },
            "colorscale": [
             [
              0,
              "#0d0887"
             ],
             [
              0.1111111111111111,
              "#46039f"
             ],
             [
              0.2222222222222222,
              "#7201a8"
             ],
             [
              0.3333333333333333,
              "#9c179e"
             ],
             [
              0.4444444444444444,
              "#bd3786"
             ],
             [
              0.5555555555555556,
              "#d8576b"
             ],
             [
              0.6666666666666666,
              "#ed7953"
             ],
             [
              0.7777777777777778,
              "#fb9f3a"
             ],
             [
              0.8888888888888888,
              "#fdca26"
             ],
             [
              1,
              "#f0f921"
             ]
            ],
            "type": "heatmap"
           }
          ],
          "heatmapgl": [
           {
            "colorbar": {
             "outlinewidth": 0,
             "ticks": ""
            },
            "colorscale": [
             [
              0,
              "#0d0887"
             ],
             [
              0.1111111111111111,
              "#46039f"
             ],
             [
              0.2222222222222222,
              "#7201a8"
             ],
             [
              0.3333333333333333,
              "#9c179e"
             ],
             [
              0.4444444444444444,
              "#bd3786"
             ],
             [
              0.5555555555555556,
              "#d8576b"
             ],
             [
              0.6666666666666666,
              "#ed7953"
             ],
             [
              0.7777777777777778,
              "#fb9f3a"
             ],
             [
              0.8888888888888888,
              "#fdca26"
             ],
             [
              1,
              "#f0f921"
             ]
            ],
            "type": "heatmapgl"
           }
          ],
          "histogram": [
           {
            "marker": {
             "pattern": {
              "fillmode": "overlay",
              "size": 10,
              "solidity": 0.2
             }
            },
            "type": "histogram"
           }
          ],
          "histogram2d": [
           {
            "colorbar": {
             "outlinewidth": 0,
             "ticks": ""
            },
            "colorscale": [
             [
              0,
              "#0d0887"
             ],
             [
              0.1111111111111111,
              "#46039f"
             ],
             [
              0.2222222222222222,
              "#7201a8"
             ],
             [
              0.3333333333333333,
              "#9c179e"
             ],
             [
              0.4444444444444444,
              "#bd3786"
             ],
             [
              0.5555555555555556,
              "#d8576b"
             ],
             [
              0.6666666666666666,
              "#ed7953"
             ],
             [
              0.7777777777777778,
              "#fb9f3a"
             ],
             [
              0.8888888888888888,
              "#fdca26"
             ],
             [
              1,
              "#f0f921"
             ]
            ],
            "type": "histogram2d"
           }
          ],
          "histogram2dcontour": [
           {
            "colorbar": {
             "outlinewidth": 0,
             "ticks": ""
            },
            "colorscale": [
             [
              0,
              "#0d0887"
             ],
             [
              0.1111111111111111,
              "#46039f"
             ],
             [
              0.2222222222222222,
              "#7201a8"
             ],
             [
              0.3333333333333333,
              "#9c179e"
             ],
             [
              0.4444444444444444,
              "#bd3786"
             ],
             [
              0.5555555555555556,
              "#d8576b"
             ],
             [
              0.6666666666666666,
              "#ed7953"
             ],
             [
              0.7777777777777778,
              "#fb9f3a"
             ],
             [
              0.8888888888888888,
              "#fdca26"
             ],
             [
              1,
              "#f0f921"
             ]
            ],
            "type": "histogram2dcontour"
           }
          ],
          "mesh3d": [
           {
            "colorbar": {
             "outlinewidth": 0,
             "ticks": ""
            },
            "type": "mesh3d"
           }
          ],
          "parcoords": [
           {
            "line": {
             "colorbar": {
              "outlinewidth": 0,
              "ticks": ""
             }
            },
            "type": "parcoords"
           }
          ],
          "pie": [
           {
            "automargin": true,
            "type": "pie"
           }
          ],
          "scatter": [
           {
            "fillpattern": {
             "fillmode": "overlay",
             "size": 10,
             "solidity": 0.2
            },
            "type": "scatter"
           }
          ],
          "scatter3d": [
           {
            "line": {
             "colorbar": {
              "outlinewidth": 0,
              "ticks": ""
             }
            },
            "marker": {
             "colorbar": {
              "outlinewidth": 0,
              "ticks": ""
             }
            },
            "type": "scatter3d"
           }
          ],
          "scattercarpet": [
           {
            "marker": {
             "colorbar": {
              "outlinewidth": 0,
              "ticks": ""
             }
            },
            "type": "scattercarpet"
           }
          ],
          "scattergeo": [
           {
            "marker": {
             "colorbar": {
              "outlinewidth": 0,
              "ticks": ""
             }
            },
            "type": "scattergeo"
           }
          ],
          "scattergl": [
           {
            "marker": {
             "colorbar": {
              "outlinewidth": 0,
              "ticks": ""
             }
            },
            "type": "scattergl"
           }
          ],
          "scattermapbox": [
           {
            "marker": {
             "colorbar": {
              "outlinewidth": 0,
              "ticks": ""
             }
            },
            "type": "scattermapbox"
           }
          ],
          "scatterpolar": [
           {
            "marker": {
             "colorbar": {
              "outlinewidth": 0,
              "ticks": ""
             }
            },
            "type": "scatterpolar"
           }
          ],
          "scatterpolargl": [
           {
            "marker": {
             "colorbar": {
              "outlinewidth": 0,
              "ticks": ""
             }
            },
            "type": "scatterpolargl"
           }
          ],
          "scatterternary": [
           {
            "marker": {
             "colorbar": {
              "outlinewidth": 0,
              "ticks": ""
             }
            },
            "type": "scatterternary"
           }
          ],
          "surface": [
           {
            "colorbar": {
             "outlinewidth": 0,
             "ticks": ""
            },
            "colorscale": [
             [
              0,
              "#0d0887"
             ],
             [
              0.1111111111111111,
              "#46039f"
             ],
             [
              0.2222222222222222,
              "#7201a8"
             ],
             [
              0.3333333333333333,
              "#9c179e"
             ],
             [
              0.4444444444444444,
              "#bd3786"
             ],
             [
              0.5555555555555556,
              "#d8576b"
             ],
             [
              0.6666666666666666,
              "#ed7953"
             ],
             [
              0.7777777777777778,
              "#fb9f3a"
             ],
             [
              0.8888888888888888,
              "#fdca26"
             ],
             [
              1,
              "#f0f921"
             ]
            ],
            "type": "surface"
           }
          ],
          "table": [
           {
            "cells": {
             "fill": {
              "color": "#EBF0F8"
             },
             "line": {
              "color": "white"
             }
            },
            "header": {
             "fill": {
              "color": "#C8D4E3"
             },
             "line": {
              "color": "white"
             }
            },
            "type": "table"
           }
          ]
         },
         "layout": {
          "annotationdefaults": {
           "arrowcolor": "#2a3f5f",
           "arrowhead": 0,
           "arrowwidth": 1
          },
          "autotypenumbers": "strict",
          "coloraxis": {
           "colorbar": {
            "outlinewidth": 0,
            "ticks": ""
           }
          },
          "colorscale": {
           "diverging": [
            [
             0,
             "#8e0152"
            ],
            [
             0.1,
             "#c51b7d"
            ],
            [
             0.2,
             "#de77ae"
            ],
            [
             0.3,
             "#f1b6da"
            ],
            [
             0.4,
             "#fde0ef"
            ],
            [
             0.5,
             "#f7f7f7"
            ],
            [
             0.6,
             "#e6f5d0"
            ],
            [
             0.7,
             "#b8e186"
            ],
            [
             0.8,
             "#7fbc41"
            ],
            [
             0.9,
             "#4d9221"
            ],
            [
             1,
             "#276419"
            ]
           ],
           "sequential": [
            [
             0,
             "#0d0887"
            ],
            [
             0.1111111111111111,
             "#46039f"
            ],
            [
             0.2222222222222222,
             "#7201a8"
            ],
            [
             0.3333333333333333,
             "#9c179e"
            ],
            [
             0.4444444444444444,
             "#bd3786"
            ],
            [
             0.5555555555555556,
             "#d8576b"
            ],
            [
             0.6666666666666666,
             "#ed7953"
            ],
            [
             0.7777777777777778,
             "#fb9f3a"
            ],
            [
             0.8888888888888888,
             "#fdca26"
            ],
            [
             1,
             "#f0f921"
            ]
           ],
           "sequentialminus": [
            [
             0,
             "#0d0887"
            ],
            [
             0.1111111111111111,
             "#46039f"
            ],
            [
             0.2222222222222222,
             "#7201a8"
            ],
            [
             0.3333333333333333,
             "#9c179e"
            ],
            [
             0.4444444444444444,
             "#bd3786"
            ],
            [
             0.5555555555555556,
             "#d8576b"
            ],
            [
             0.6666666666666666,
             "#ed7953"
            ],
            [
             0.7777777777777778,
             "#fb9f3a"
            ],
            [
             0.8888888888888888,
             "#fdca26"
            ],
            [
             1,
             "#f0f921"
            ]
           ]
          },
          "colorway": [
           "#636efa",
           "#EF553B",
           "#00cc96",
           "#ab63fa",
           "#FFA15A",
           "#19d3f3",
           "#FF6692",
           "#B6E880",
           "#FF97FF",
           "#FECB52"
          ],
          "font": {
           "color": "#2a3f5f"
          },
          "geo": {
           "bgcolor": "white",
           "lakecolor": "white",
           "landcolor": "#E5ECF6",
           "showlakes": true,
           "showland": true,
           "subunitcolor": "white"
          },
          "hoverlabel": {
           "align": "left"
          },
          "hovermode": "closest",
          "mapbox": {
           "style": "light"
          },
          "paper_bgcolor": "white",
          "plot_bgcolor": "#E5ECF6",
          "polar": {
           "angularaxis": {
            "gridcolor": "white",
            "linecolor": "white",
            "ticks": ""
           },
           "bgcolor": "#E5ECF6",
           "radialaxis": {
            "gridcolor": "white",
            "linecolor": "white",
            "ticks": ""
           }
          },
          "scene": {
           "xaxis": {
            "backgroundcolor": "#E5ECF6",
            "gridcolor": "white",
            "gridwidth": 2,
            "linecolor": "white",
            "showbackground": true,
            "ticks": "",
            "zerolinecolor": "white"
           },
           "yaxis": {
            "backgroundcolor": "#E5ECF6",
            "gridcolor": "white",
            "gridwidth": 2,
            "linecolor": "white",
            "showbackground": true,
            "ticks": "",
            "zerolinecolor": "white"
           },
           "zaxis": {
            "backgroundcolor": "#E5ECF6",
            "gridcolor": "white",
            "gridwidth": 2,
            "linecolor": "white",
            "showbackground": true,
            "ticks": "",
            "zerolinecolor": "white"
           }
          },
          "shapedefaults": {
           "line": {
            "color": "#2a3f5f"
           }
          },
          "ternary": {
           "aaxis": {
            "gridcolor": "white",
            "linecolor": "white",
            "ticks": ""
           },
           "baxis": {
            "gridcolor": "white",
            "linecolor": "white",
            "ticks": ""
           },
           "bgcolor": "#E5ECF6",
           "caxis": {
            "gridcolor": "white",
            "linecolor": "white",
            "ticks": ""
           }
          },
          "title": {
           "x": 0.05
          },
          "xaxis": {
           "automargin": true,
           "gridcolor": "white",
           "linecolor": "white",
           "ticks": "",
           "title": {
            "standoff": 15
           },
           "zerolinecolor": "white",
           "zerolinewidth": 2
          },
          "yaxis": {
           "automargin": true,
           "gridcolor": "white",
           "linecolor": "white",
           "ticks": "",
           "title": {
            "standoff": 15
           },
           "zerolinecolor": "white",
           "zerolinewidth": 2
          }
         }
        },
        "width": 600,
        "xaxis": {
         "anchor": "x",
         "exponentformat": "e",
         "linecolor": "black",
         "linewidth": 1,
         "mirror": false,
         "showexponent": "all",
         "showline": true,
         "side": "bottom",
         "ticks": "outside",
         "title": {
          "text": "0th"
         },
         "type": "linear",
         "zeroline": true
        },
        "yaxis": {
         "anchor": "y",
         "exponentformat": "e",
         "linecolor": "black",
         "linewidth": 1,
         "mirror": false,
         "showexponent": "all",
         "showline": true,
         "side": "left",
         "ticks": "outside",
         "title": {
          "text": "1st"
         },
         "type": "linear",
         "zeroline": true
        }
       }
      }
     },
     "metadata": {},
     "output_type": "display_data"
    }
   ],
   "source": [
    "# plot cloud of points for columns 0 and 1 \n",
    "plot_point_cloud(x[:, :2])"
   ]
  },
  {
   "cell_type": "code",
   "execution_count": 28,
   "metadata": {},
   "outputs": [
    {
     "data": {
      "application/vnd.plotly.v1+json": {
       "config": {
        "plotlyServerURL": "https://plot.ly"
       },
       "data": [
        {
         "marker": {
          "color": [
           0,
           1,
           2,
           3,
           4,
           5,
           6,
           7,
           8,
           9,
           10,
           11,
           12,
           13,
           14,
           15,
           16,
           17,
           18,
           19,
           20,
           21,
           22,
           23,
           24,
           25,
           26,
           27,
           28,
           29,
           30,
           31,
           32,
           33,
           34,
           35,
           36,
           37,
           38,
           39,
           40,
           41,
           42,
           43,
           44,
           45,
           46,
           47,
           48,
           49,
           50,
           51,
           52,
           53,
           54,
           55,
           56,
           57,
           58,
           59,
           60,
           61,
           62,
           63,
           64,
           65,
           66,
           67,
           68,
           69,
           70,
           71,
           72,
           73,
           74,
           75,
           76,
           77,
           78,
           79,
           80,
           81,
           82,
           83,
           84,
           85,
           86,
           87,
           88,
           89,
           90,
           91,
           92,
           93,
           94,
           95,
           96,
           97,
           98,
           99,
           100,
           101,
           102,
           103,
           104,
           105,
           106,
           107,
           108,
           109,
           110,
           111,
           112,
           113,
           114,
           115,
           116,
           117,
           118,
           119,
           120,
           121,
           122,
           123,
           124,
           125,
           126,
           127,
           128,
           129,
           130,
           131,
           132,
           133,
           134,
           135,
           136,
           137,
           138,
           139,
           140,
           141,
           142,
           143,
           144,
           145,
           146,
           147,
           148,
           149
          ],
          "colorscale": [
           [
            0,
            "#440154"
           ],
           [
            0.1111111111111111,
            "#482878"
           ],
           [
            0.2222222222222222,
            "#3e4989"
           ],
           [
            0.3333333333333333,
            "#31688e"
           ],
           [
            0.4444444444444444,
            "#26828e"
           ],
           [
            0.5555555555555556,
            "#1f9e89"
           ],
           [
            0.6666666666666666,
            "#35b779"
           ],
           [
            0.7777777777777778,
            "#6ece58"
           ],
           [
            0.8888888888888888,
            "#b5de2b"
           ],
           [
            1,
            "#fde725"
           ]
          ],
          "opacity": 0.8,
          "size": 4
         },
         "mode": "markers",
         "type": "scatter",
         "x": [
          1.4,
          1.4,
          1.3,
          1.5,
          1.4,
          1.7,
          1.4,
          1.5,
          1.4,
          1.5,
          1.5,
          1.6,
          1.4,
          1.1,
          1.2,
          1.5,
          1.3,
          1.4,
          1.7,
          1.5,
          1.7,
          1.5,
          1,
          1.7,
          1.9,
          1.6,
          1.6,
          1.5,
          1.4,
          1.6,
          1.6,
          1.5,
          1.5,
          1.4,
          1.5,
          1.2,
          1.3,
          1.4,
          1.3,
          1.5,
          1.3,
          1.3,
          1.3,
          1.6,
          1.9,
          1.4,
          1.6,
          1.4,
          1.5,
          1.4,
          4.7,
          4.5,
          4.9,
          4,
          4.6,
          4.5,
          4.7,
          3.3,
          4.6,
          3.9,
          3.5,
          4.2,
          4,
          4.7,
          3.6,
          4.4,
          4.5,
          4.1,
          4.5,
          3.9,
          4.8,
          4,
          4.9,
          4.7,
          4.3,
          4.4,
          4.8,
          5,
          4.5,
          3.5,
          3.8,
          3.7,
          3.9,
          5.1,
          4.5,
          4.5,
          4.7,
          4.4,
          4.1,
          4,
          4.4,
          4.6,
          4,
          3.3,
          4.2,
          4.2,
          4.2,
          4.3,
          3,
          4.1,
          6,
          5.1,
          5.9,
          5.6,
          5.8,
          6.6,
          4.5,
          6.3,
          5.8,
          6.1,
          5.1,
          5.3,
          5.5,
          5,
          5.1,
          5.3,
          5.5,
          6.7,
          6.9,
          5,
          5.7,
          4.9,
          6.7,
          4.9,
          5.7,
          6,
          4.8,
          4.9,
          5.6,
          5.8,
          6.1,
          6.4,
          5.6,
          5.1,
          5.6,
          6.1,
          5.6,
          5.5,
          4.8,
          5.4,
          5.6,
          5.1,
          5.1,
          5.9,
          5.7,
          5.2,
          5,
          5.2,
          5.4,
          5.1
         ],
         "y": [
          0.2,
          0.2,
          0.2,
          0.2,
          0.2,
          0.4,
          0.3,
          0.2,
          0.2,
          0.1,
          0.2,
          0.2,
          0.1,
          0.1,
          0.2,
          0.4,
          0.4,
          0.3,
          0.3,
          0.3,
          0.2,
          0.4,
          0.2,
          0.5,
          0.2,
          0.2,
          0.4,
          0.2,
          0.2,
          0.2,
          0.2,
          0.4,
          0.1,
          0.2,
          0.2,
          0.2,
          0.2,
          0.1,
          0.2,
          0.2,
          0.3,
          0.3,
          0.2,
          0.6,
          0.4,
          0.3,
          0.2,
          0.2,
          0.2,
          0.2,
          1.4,
          1.5,
          1.5,
          1.3,
          1.5,
          1.3,
          1.6,
          1,
          1.3,
          1.4,
          1,
          1.5,
          1,
          1.4,
          1.3,
          1.4,
          1.5,
          1,
          1.5,
          1.1,
          1.8,
          1.3,
          1.5,
          1.2,
          1.3,
          1.4,
          1.4,
          1.7,
          1.5,
          1,
          1.1,
          1,
          1.2,
          1.6,
          1.5,
          1.6,
          1.5,
          1.3,
          1.3,
          1.3,
          1.2,
          1.4,
          1.2,
          1,
          1.3,
          1.2,
          1.3,
          1.3,
          1.1,
          1.3,
          2.5,
          1.9,
          2.1,
          1.8,
          2.2,
          2.1,
          1.7,
          1.8,
          1.8,
          2.5,
          2,
          1.9,
          2.1,
          2,
          2.4,
          2.3,
          1.8,
          2.2,
          2.3,
          1.5,
          2.3,
          2,
          2,
          1.8,
          2.1,
          1.8,
          1.8,
          1.8,
          2.1,
          1.6,
          1.9,
          2,
          2.2,
          1.5,
          1.4,
          2.3,
          2.4,
          1.8,
          1.8,
          2.1,
          2.4,
          2.3,
          1.9,
          2.3,
          2.5,
          2.3,
          1.9,
          2,
          2.3,
          1.8
         ]
        }
       ],
       "layout": {
        "height": 600,
        "plot_bgcolor": "white",
        "template": {
         "data": {
          "bar": [
           {
            "error_x": {
             "color": "#2a3f5f"
            },
            "error_y": {
             "color": "#2a3f5f"
            },
            "marker": {
             "line": {
              "color": "#E5ECF6",
              "width": 0.5
             },
             "pattern": {
              "fillmode": "overlay",
              "size": 10,
              "solidity": 0.2
             }
            },
            "type": "bar"
           }
          ],
          "barpolar": [
           {
            "marker": {
             "line": {
              "color": "#E5ECF6",
              "width": 0.5
             },
             "pattern": {
              "fillmode": "overlay",
              "size": 10,
              "solidity": 0.2
             }
            },
            "type": "barpolar"
           }
          ],
          "carpet": [
           {
            "aaxis": {
             "endlinecolor": "#2a3f5f",
             "gridcolor": "white",
             "linecolor": "white",
             "minorgridcolor": "white",
             "startlinecolor": "#2a3f5f"
            },
            "baxis": {
             "endlinecolor": "#2a3f5f",
             "gridcolor": "white",
             "linecolor": "white",
             "minorgridcolor": "white",
             "startlinecolor": "#2a3f5f"
            },
            "type": "carpet"
           }
          ],
          "choropleth": [
           {
            "colorbar": {
             "outlinewidth": 0,
             "ticks": ""
            },
            "type": "choropleth"
           }
          ],
          "contour": [
           {
            "colorbar": {
             "outlinewidth": 0,
             "ticks": ""
            },
            "colorscale": [
             [
              0,
              "#0d0887"
             ],
             [
              0.1111111111111111,
              "#46039f"
             ],
             [
              0.2222222222222222,
              "#7201a8"
             ],
             [
              0.3333333333333333,
              "#9c179e"
             ],
             [
              0.4444444444444444,
              "#bd3786"
             ],
             [
              0.5555555555555556,
              "#d8576b"
             ],
             [
              0.6666666666666666,
              "#ed7953"
             ],
             [
              0.7777777777777778,
              "#fb9f3a"
             ],
             [
              0.8888888888888888,
              "#fdca26"
             ],
             [
              1,
              "#f0f921"
             ]
            ],
            "type": "contour"
           }
          ],
          "contourcarpet": [
           {
            "colorbar": {
             "outlinewidth": 0,
             "ticks": ""
            },
            "type": "contourcarpet"
           }
          ],
          "heatmap": [
           {
            "colorbar": {
             "outlinewidth": 0,
             "ticks": ""
            },
            "colorscale": [
             [
              0,
              "#0d0887"
             ],
             [
              0.1111111111111111,
              "#46039f"
             ],
             [
              0.2222222222222222,
              "#7201a8"
             ],
             [
              0.3333333333333333,
              "#9c179e"
             ],
             [
              0.4444444444444444,
              "#bd3786"
             ],
             [
              0.5555555555555556,
              "#d8576b"
             ],
             [
              0.6666666666666666,
              "#ed7953"
             ],
             [
              0.7777777777777778,
              "#fb9f3a"
             ],
             [
              0.8888888888888888,
              "#fdca26"
             ],
             [
              1,
              "#f0f921"
             ]
            ],
            "type": "heatmap"
           }
          ],
          "heatmapgl": [
           {
            "colorbar": {
             "outlinewidth": 0,
             "ticks": ""
            },
            "colorscale": [
             [
              0,
              "#0d0887"
             ],
             [
              0.1111111111111111,
              "#46039f"
             ],
             [
              0.2222222222222222,
              "#7201a8"
             ],
             [
              0.3333333333333333,
              "#9c179e"
             ],
             [
              0.4444444444444444,
              "#bd3786"
             ],
             [
              0.5555555555555556,
              "#d8576b"
             ],
             [
              0.6666666666666666,
              "#ed7953"
             ],
             [
              0.7777777777777778,
              "#fb9f3a"
             ],
             [
              0.8888888888888888,
              "#fdca26"
             ],
             [
              1,
              "#f0f921"
             ]
            ],
            "type": "heatmapgl"
           }
          ],
          "histogram": [
           {
            "marker": {
             "pattern": {
              "fillmode": "overlay",
              "size": 10,
              "solidity": 0.2
             }
            },
            "type": "histogram"
           }
          ],
          "histogram2d": [
           {
            "colorbar": {
             "outlinewidth": 0,
             "ticks": ""
            },
            "colorscale": [
             [
              0,
              "#0d0887"
             ],
             [
              0.1111111111111111,
              "#46039f"
             ],
             [
              0.2222222222222222,
              "#7201a8"
             ],
             [
              0.3333333333333333,
              "#9c179e"
             ],
             [
              0.4444444444444444,
              "#bd3786"
             ],
             [
              0.5555555555555556,
              "#d8576b"
             ],
             [
              0.6666666666666666,
              "#ed7953"
             ],
             [
              0.7777777777777778,
              "#fb9f3a"
             ],
             [
              0.8888888888888888,
              "#fdca26"
             ],
             [
              1,
              "#f0f921"
             ]
            ],
            "type": "histogram2d"
           }
          ],
          "histogram2dcontour": [
           {
            "colorbar": {
             "outlinewidth": 0,
             "ticks": ""
            },
            "colorscale": [
             [
              0,
              "#0d0887"
             ],
             [
              0.1111111111111111,
              "#46039f"
             ],
             [
              0.2222222222222222,
              "#7201a8"
             ],
             [
              0.3333333333333333,
              "#9c179e"
             ],
             [
              0.4444444444444444,
              "#bd3786"
             ],
             [
              0.5555555555555556,
              "#d8576b"
             ],
             [
              0.6666666666666666,
              "#ed7953"
             ],
             [
              0.7777777777777778,
              "#fb9f3a"
             ],
             [
              0.8888888888888888,
              "#fdca26"
             ],
             [
              1,
              "#f0f921"
             ]
            ],
            "type": "histogram2dcontour"
           }
          ],
          "mesh3d": [
           {
            "colorbar": {
             "outlinewidth": 0,
             "ticks": ""
            },
            "type": "mesh3d"
           }
          ],
          "parcoords": [
           {
            "line": {
             "colorbar": {
              "outlinewidth": 0,
              "ticks": ""
             }
            },
            "type": "parcoords"
           }
          ],
          "pie": [
           {
            "automargin": true,
            "type": "pie"
           }
          ],
          "scatter": [
           {
            "fillpattern": {
             "fillmode": "overlay",
             "size": 10,
             "solidity": 0.2
            },
            "type": "scatter"
           }
          ],
          "scatter3d": [
           {
            "line": {
             "colorbar": {
              "outlinewidth": 0,
              "ticks": ""
             }
            },
            "marker": {
             "colorbar": {
              "outlinewidth": 0,
              "ticks": ""
             }
            },
            "type": "scatter3d"
           }
          ],
          "scattercarpet": [
           {
            "marker": {
             "colorbar": {
              "outlinewidth": 0,
              "ticks": ""
             }
            },
            "type": "scattercarpet"
           }
          ],
          "scattergeo": [
           {
            "marker": {
             "colorbar": {
              "outlinewidth": 0,
              "ticks": ""
             }
            },
            "type": "scattergeo"
           }
          ],
          "scattergl": [
           {
            "marker": {
             "colorbar": {
              "outlinewidth": 0,
              "ticks": ""
             }
            },
            "type": "scattergl"
           }
          ],
          "scattermapbox": [
           {
            "marker": {
             "colorbar": {
              "outlinewidth": 0,
              "ticks": ""
             }
            },
            "type": "scattermapbox"
           }
          ],
          "scatterpolar": [
           {
            "marker": {
             "colorbar": {
              "outlinewidth": 0,
              "ticks": ""
             }
            },
            "type": "scatterpolar"
           }
          ],
          "scatterpolargl": [
           {
            "marker": {
             "colorbar": {
              "outlinewidth": 0,
              "ticks": ""
             }
            },
            "type": "scatterpolargl"
           }
          ],
          "scatterternary": [
           {
            "marker": {
             "colorbar": {
              "outlinewidth": 0,
              "ticks": ""
             }
            },
            "type": "scatterternary"
           }
          ],
          "surface": [
           {
            "colorbar": {
             "outlinewidth": 0,
             "ticks": ""
            },
            "colorscale": [
             [
              0,
              "#0d0887"
             ],
             [
              0.1111111111111111,
              "#46039f"
             ],
             [
              0.2222222222222222,
              "#7201a8"
             ],
             [
              0.3333333333333333,
              "#9c179e"
             ],
             [
              0.4444444444444444,
              "#bd3786"
             ],
             [
              0.5555555555555556,
              "#d8576b"
             ],
             [
              0.6666666666666666,
              "#ed7953"
             ],
             [
              0.7777777777777778,
              "#fb9f3a"
             ],
             [
              0.8888888888888888,
              "#fdca26"
             ],
             [
              1,
              "#f0f921"
             ]
            ],
            "type": "surface"
           }
          ],
          "table": [
           {
            "cells": {
             "fill": {
              "color": "#EBF0F8"
             },
             "line": {
              "color": "white"
             }
            },
            "header": {
             "fill": {
              "color": "#C8D4E3"
             },
             "line": {
              "color": "white"
             }
            },
            "type": "table"
           }
          ]
         },
         "layout": {
          "annotationdefaults": {
           "arrowcolor": "#2a3f5f",
           "arrowhead": 0,
           "arrowwidth": 1
          },
          "autotypenumbers": "strict",
          "coloraxis": {
           "colorbar": {
            "outlinewidth": 0,
            "ticks": ""
           }
          },
          "colorscale": {
           "diverging": [
            [
             0,
             "#8e0152"
            ],
            [
             0.1,
             "#c51b7d"
            ],
            [
             0.2,
             "#de77ae"
            ],
            [
             0.3,
             "#f1b6da"
            ],
            [
             0.4,
             "#fde0ef"
            ],
            [
             0.5,
             "#f7f7f7"
            ],
            [
             0.6,
             "#e6f5d0"
            ],
            [
             0.7,
             "#b8e186"
            ],
            [
             0.8,
             "#7fbc41"
            ],
            [
             0.9,
             "#4d9221"
            ],
            [
             1,
             "#276419"
            ]
           ],
           "sequential": [
            [
             0,
             "#0d0887"
            ],
            [
             0.1111111111111111,
             "#46039f"
            ],
            [
             0.2222222222222222,
             "#7201a8"
            ],
            [
             0.3333333333333333,
             "#9c179e"
            ],
            [
             0.4444444444444444,
             "#bd3786"
            ],
            [
             0.5555555555555556,
             "#d8576b"
            ],
            [
             0.6666666666666666,
             "#ed7953"
            ],
            [
             0.7777777777777778,
             "#fb9f3a"
            ],
            [
             0.8888888888888888,
             "#fdca26"
            ],
            [
             1,
             "#f0f921"
            ]
           ],
           "sequentialminus": [
            [
             0,
             "#0d0887"
            ],
            [
             0.1111111111111111,
             "#46039f"
            ],
            [
             0.2222222222222222,
             "#7201a8"
            ],
            [
             0.3333333333333333,
             "#9c179e"
            ],
            [
             0.4444444444444444,
             "#bd3786"
            ],
            [
             0.5555555555555556,
             "#d8576b"
            ],
            [
             0.6666666666666666,
             "#ed7953"
            ],
            [
             0.7777777777777778,
             "#fb9f3a"
            ],
            [
             0.8888888888888888,
             "#fdca26"
            ],
            [
             1,
             "#f0f921"
            ]
           ]
          },
          "colorway": [
           "#636efa",
           "#EF553B",
           "#00cc96",
           "#ab63fa",
           "#FFA15A",
           "#19d3f3",
           "#FF6692",
           "#B6E880",
           "#FF97FF",
           "#FECB52"
          ],
          "font": {
           "color": "#2a3f5f"
          },
          "geo": {
           "bgcolor": "white",
           "lakecolor": "white",
           "landcolor": "#E5ECF6",
           "showlakes": true,
           "showland": true,
           "subunitcolor": "white"
          },
          "hoverlabel": {
           "align": "left"
          },
          "hovermode": "closest",
          "mapbox": {
           "style": "light"
          },
          "paper_bgcolor": "white",
          "plot_bgcolor": "#E5ECF6",
          "polar": {
           "angularaxis": {
            "gridcolor": "white",
            "linecolor": "white",
            "ticks": ""
           },
           "bgcolor": "#E5ECF6",
           "radialaxis": {
            "gridcolor": "white",
            "linecolor": "white",
            "ticks": ""
           }
          },
          "scene": {
           "xaxis": {
            "backgroundcolor": "#E5ECF6",
            "gridcolor": "white",
            "gridwidth": 2,
            "linecolor": "white",
            "showbackground": true,
            "ticks": "",
            "zerolinecolor": "white"
           },
           "yaxis": {
            "backgroundcolor": "#E5ECF6",
            "gridcolor": "white",
            "gridwidth": 2,
            "linecolor": "white",
            "showbackground": true,
            "ticks": "",
            "zerolinecolor": "white"
           },
           "zaxis": {
            "backgroundcolor": "#E5ECF6",
            "gridcolor": "white",
            "gridwidth": 2,
            "linecolor": "white",
            "showbackground": true,
            "ticks": "",
            "zerolinecolor": "white"
           }
          },
          "shapedefaults": {
           "line": {
            "color": "#2a3f5f"
           }
          },
          "ternary": {
           "aaxis": {
            "gridcolor": "white",
            "linecolor": "white",
            "ticks": ""
           },
           "baxis": {
            "gridcolor": "white",
            "linecolor": "white",
            "ticks": ""
           },
           "bgcolor": "#E5ECF6",
           "caxis": {
            "gridcolor": "white",
            "linecolor": "white",
            "ticks": ""
           }
          },
          "title": {
           "x": 0.05
          },
          "xaxis": {
           "automargin": true,
           "gridcolor": "white",
           "linecolor": "white",
           "ticks": "",
           "title": {
            "standoff": 15
           },
           "zerolinecolor": "white",
           "zerolinewidth": 2
          },
          "yaxis": {
           "automargin": true,
           "gridcolor": "white",
           "linecolor": "white",
           "ticks": "",
           "title": {
            "standoff": 15
           },
           "zerolinecolor": "white",
           "zerolinewidth": 2
          }
         }
        },
        "width": 600,
        "xaxis": {
         "anchor": "x",
         "exponentformat": "e",
         "linecolor": "black",
         "linewidth": 1,
         "mirror": false,
         "showexponent": "all",
         "showline": true,
         "side": "bottom",
         "ticks": "outside",
         "title": {
          "text": "0th"
         },
         "type": "linear",
         "zeroline": true
        },
        "yaxis": {
         "anchor": "y",
         "exponentformat": "e",
         "linecolor": "black",
         "linewidth": 1,
         "mirror": false,
         "showexponent": "all",
         "showline": true,
         "side": "left",
         "ticks": "outside",
         "title": {
          "text": "1st"
         },
         "type": "linear",
         "zeroline": true
        }
       }
      }
     },
     "metadata": {},
     "output_type": "display_data"
    }
   ],
   "source": [
    "plot_point_cloud(x[:, 2:])"
   ]
  },
  {
   "attachments": {},
   "cell_type": "markdown",
   "metadata": {},
   "source": [
    "Persistence diagram of the Vietoris-Rips complex"
   ]
  },
  {
   "attachments": {},
   "cell_type": "markdown",
   "metadata": {},
   "source": [
    "for 2 dimensions of Iris dataset"
   ]
  },
  {
   "cell_type": "code",
   "execution_count": 41,
   "metadata": {},
   "outputs": [],
   "source": [
    "xa = x[:, :2]\n",
    "xa = xa.reshape(1, *xa.shape)"
   ]
  },
  {
   "cell_type": "code",
   "execution_count": 44,
   "metadata": {},
   "outputs": [
    {
     "data": {
      "text/plain": [
       "(1, 150, 2)"
      ]
     },
     "execution_count": 44,
     "metadata": {},
     "output_type": "execute_result"
    }
   ],
   "source": [
    "xa.shape"
   ]
  },
  {
   "cell_type": "code",
   "execution_count": 45,
   "metadata": {},
   "outputs": [
    {
     "data": {
      "application/vnd.plotly.v1+json": {
       "config": {
        "plotlyServerURL": "https://plot.ly"
       },
       "data": [
        {
         "hoverinfo": "none",
         "line": {
          "color": "black",
          "dash": "dash",
          "width": 1
         },
         "mode": "lines",
         "showlegend": false,
         "type": "scatter",
         "x": [
          -0.012806248664855958,
          0.6531186819076538
         ],
         "y": [
          -0.012806248664855958,
          0.6531186819076538
         ]
        },
        {
         "hoverinfo": "text",
         "hovertext": [
          "(0.0, 0.10000000149011612), multiplicity: 65",
          "(0.0, 0.10000000149011612), multiplicity: 65",
          "(0.0, 0.10000000149011612), multiplicity: 65",
          "(0.0, 0.10000000149011612), multiplicity: 65",
          "(0.0, 0.10000000149011612), multiplicity: 65",
          "(0.0, 0.10000000149011612), multiplicity: 65",
          "(0.0, 0.10000000149011612), multiplicity: 65",
          "(0.0, 0.10000000149011612), multiplicity: 65",
          "(0.0, 0.10000000149011612), multiplicity: 65",
          "(0.0, 0.10000000149011612), multiplicity: 65",
          "(0.0, 0.10000000149011612), multiplicity: 65",
          "(0.0, 0.10000000149011612), multiplicity: 65",
          "(0.0, 0.10000000149011612), multiplicity: 65",
          "(0.0, 0.10000000149011612), multiplicity: 65",
          "(0.0, 0.10000000149011612), multiplicity: 65",
          "(0.0, 0.10000000149011612), multiplicity: 65",
          "(0.0, 0.10000000149011612), multiplicity: 65",
          "(0.0, 0.10000000149011612), multiplicity: 65",
          "(0.0, 0.10000000149011612), multiplicity: 65",
          "(0.0, 0.10000000149011612), multiplicity: 65",
          "(0.0, 0.10000000149011612), multiplicity: 65",
          "(0.0, 0.10000000149011612), multiplicity: 65",
          "(0.0, 0.10000000149011612), multiplicity: 65",
          "(0.0, 0.10000000149011612), multiplicity: 65",
          "(0.0, 0.10000000149011612), multiplicity: 65",
          "(0.0, 0.10000000149011612), multiplicity: 65",
          "(0.0, 0.10000000149011612), multiplicity: 65",
          "(0.0, 0.10000000149011612), multiplicity: 65",
          "(0.0, 0.10000000149011612), multiplicity: 65",
          "(0.0, 0.10000000149011612), multiplicity: 65",
          "(0.0, 0.10000000149011612), multiplicity: 65",
          "(0.0, 0.10000000149011612), multiplicity: 65",
          "(0.0, 0.10000000149011612), multiplicity: 65",
          "(0.0, 0.10000000149011612), multiplicity: 65",
          "(0.0, 0.10000000149011612), multiplicity: 65",
          "(0.0, 0.10000000149011612), multiplicity: 65",
          "(0.0, 0.10000000149011612), multiplicity: 65",
          "(0.0, 0.10000000149011612), multiplicity: 65",
          "(0.0, 0.10000000149011612), multiplicity: 65",
          "(0.0, 0.10000000149011612), multiplicity: 65",
          "(0.0, 0.10000000149011612), multiplicity: 65",
          "(0.0, 0.10000000149011612), multiplicity: 65",
          "(0.0, 0.10000000149011612), multiplicity: 65",
          "(0.0, 0.10000000149011612), multiplicity: 65",
          "(0.0, 0.10000000149011612), multiplicity: 65",
          "(0.0, 0.10000000149011612), multiplicity: 65",
          "(0.0, 0.10000000149011612), multiplicity: 65",
          "(0.0, 0.10000000149011612), multiplicity: 65",
          "(0.0, 0.10000000149011612), multiplicity: 65",
          "(0.0, 0.10000000149011612), multiplicity: 65",
          "(0.0, 0.10000000149011612), multiplicity: 65",
          "(0.0, 0.10000000149011612), multiplicity: 65",
          "(0.0, 0.10000000149011612), multiplicity: 65",
          "(0.0, 0.10000000149011612), multiplicity: 65",
          "(0.0, 0.10000000149011612), multiplicity: 65",
          "(0.0, 0.10000000149011612), multiplicity: 65",
          "(0.0, 0.10000000149011612), multiplicity: 65",
          "(0.0, 0.10000000149011612), multiplicity: 65",
          "(0.0, 0.10000000149011612), multiplicity: 65",
          "(0.0, 0.10000000149011612), multiplicity: 65",
          "(0.0, 0.10000000149011612), multiplicity: 65",
          "(0.0, 0.10000000149011612), multiplicity: 65",
          "(0.0, 0.10000000149011612), multiplicity: 65",
          "(0.0, 0.10000000149011612), multiplicity: 65",
          "(0.0, 0.10000000149011612), multiplicity: 65",
          "(0.0, 0.1414213627576828), multiplicity: 15",
          "(0.0, 0.1414213627576828), multiplicity: 15",
          "(0.0, 0.1414213627576828), multiplicity: 15",
          "(0.0, 0.1414213627576828), multiplicity: 15",
          "(0.0, 0.1414213627576828), multiplicity: 15",
          "(0.0, 0.1414213627576828), multiplicity: 15",
          "(0.0, 0.1414213627576828), multiplicity: 15",
          "(0.0, 0.1414213627576828), multiplicity: 15",
          "(0.0, 0.1414213627576828), multiplicity: 15",
          "(0.0, 0.1414213627576828), multiplicity: 15",
          "(0.0, 0.1414213627576828), multiplicity: 15",
          "(0.0, 0.1414213627576828), multiplicity: 15",
          "(0.0, 0.1414213627576828), multiplicity: 15",
          "(0.0, 0.1414213627576828), multiplicity: 15",
          "(0.0, 0.1414213627576828), multiplicity: 15",
          "(0.0, 0.20000000298023224), multiplicity: 22",
          "(0.0, 0.20000000298023224), multiplicity: 22",
          "(0.0, 0.20000000298023224), multiplicity: 22",
          "(0.0, 0.20000000298023224), multiplicity: 22",
          "(0.0, 0.20000000298023224), multiplicity: 22",
          "(0.0, 0.20000000298023224), multiplicity: 22",
          "(0.0, 0.20000000298023224), multiplicity: 22",
          "(0.0, 0.20000000298023224), multiplicity: 22",
          "(0.0, 0.20000000298023224), multiplicity: 22",
          "(0.0, 0.20000000298023224), multiplicity: 22",
          "(0.0, 0.20000000298023224), multiplicity: 22",
          "(0.0, 0.20000000298023224), multiplicity: 22",
          "(0.0, 0.20000000298023224), multiplicity: 22",
          "(0.0, 0.20000000298023224), multiplicity: 22",
          "(0.0, 0.20000000298023224), multiplicity: 22",
          "(0.0, 0.20000000298023224), multiplicity: 22",
          "(0.0, 0.20000000298023224), multiplicity: 22",
          "(0.0, 0.20000000298023224), multiplicity: 22",
          "(0.0, 0.20000000298023224), multiplicity: 22",
          "(0.0, 0.20000000298023224), multiplicity: 22",
          "(0.0, 0.20000000298023224), multiplicity: 22",
          "(0.0, 0.20000000298023224), multiplicity: 22",
          "(0.0, 0.22360679507255554), multiplicity: 2",
          "(0.0, 0.22360679507255554), multiplicity: 2",
          "(0.0, 0.2828427255153656), multiplicity: 3",
          "(0.0, 0.2828427255153656), multiplicity: 3",
          "(0.0, 0.2828427255153656), multiplicity: 3",
          "(0.0, 0.30000001192092896)",
          "(0.0, 0.3162277638912201), multiplicity: 4",
          "(0.0, 0.3162277638912201), multiplicity: 4",
          "(0.0, 0.3162277638912201), multiplicity: 4",
          "(0.0, 0.3162277638912201), multiplicity: 4",
          "(0.0, 0.36055514216423035)",
          "(0.0, 0.4000000059604645)",
          "(0.0, 0.41231057047843933)",
          "(0.0, 0.5385164618492126)"
         ],
         "mode": "markers",
         "name": "H0",
         "type": "scatter",
         "x": [
          0,
          0,
          0,
          0,
          0,
          0,
          0,
          0,
          0,
          0,
          0,
          0,
          0,
          0,
          0,
          0,
          0,
          0,
          0,
          0,
          0,
          0,
          0,
          0,
          0,
          0,
          0,
          0,
          0,
          0,
          0,
          0,
          0,
          0,
          0,
          0,
          0,
          0,
          0,
          0,
          0,
          0,
          0,
          0,
          0,
          0,
          0,
          0,
          0,
          0,
          0,
          0,
          0,
          0,
          0,
          0,
          0,
          0,
          0,
          0,
          0,
          0,
          0,
          0,
          0,
          0,
          0,
          0,
          0,
          0,
          0,
          0,
          0,
          0,
          0,
          0,
          0,
          0,
          0,
          0,
          0,
          0,
          0,
          0,
          0,
          0,
          0,
          0,
          0,
          0,
          0,
          0,
          0,
          0,
          0,
          0,
          0,
          0,
          0,
          0,
          0,
          0,
          0,
          0,
          0,
          0,
          0,
          0,
          0,
          0,
          0,
          0,
          0,
          0,
          0,
          0
         ],
         "y": [
          0.10000000149011612,
          0.10000000149011612,
          0.10000000149011612,
          0.10000000149011612,
          0.10000000149011612,
          0.10000000149011612,
          0.10000000149011612,
          0.10000000149011612,
          0.10000000149011612,
          0.10000000149011612,
          0.10000000149011612,
          0.10000000149011612,
          0.10000000149011612,
          0.10000000149011612,
          0.10000000149011612,
          0.10000000149011612,
          0.10000000149011612,
          0.10000000149011612,
          0.10000000149011612,
          0.10000000149011612,
          0.10000000149011612,
          0.10000000149011612,
          0.10000000149011612,
          0.10000000149011612,
          0.10000000149011612,
          0.10000000149011612,
          0.10000000149011612,
          0.10000000149011612,
          0.10000000149011612,
          0.10000000149011612,
          0.10000000149011612,
          0.10000000149011612,
          0.10000000149011612,
          0.10000000149011612,
          0.10000000149011612,
          0.10000000149011612,
          0.10000000149011612,
          0.10000000149011612,
          0.10000000149011612,
          0.10000000149011612,
          0.10000000149011612,
          0.10000000149011612,
          0.10000000149011612,
          0.10000000149011612,
          0.10000000149011612,
          0.10000000149011612,
          0.10000000149011612,
          0.10000000149011612,
          0.10000000149011612,
          0.10000000149011612,
          0.10000000149011612,
          0.10000000149011612,
          0.10000000149011612,
          0.10000000149011612,
          0.10000000149011612,
          0.10000000149011612,
          0.10000000149011612,
          0.10000000149011612,
          0.10000000149011612,
          0.10000000149011612,
          0.10000000149011612,
          0.10000000149011612,
          0.10000000149011612,
          0.10000000149011612,
          0.10000000149011612,
          0.1414213627576828,
          0.1414213627576828,
          0.1414213627576828,
          0.1414213627576828,
          0.1414213627576828,
          0.1414213627576828,
          0.1414213627576828,
          0.1414213627576828,
          0.1414213627576828,
          0.1414213627576828,
          0.1414213627576828,
          0.1414213627576828,
          0.1414213627576828,
          0.1414213627576828,
          0.1414213627576828,
          0.20000000298023224,
          0.20000000298023224,
          0.20000000298023224,
          0.20000000298023224,
          0.20000000298023224,
          0.20000000298023224,
          0.20000000298023224,
          0.20000000298023224,
          0.20000000298023224,
          0.20000000298023224,
          0.20000000298023224,
          0.20000000298023224,
          0.20000000298023224,
          0.20000000298023224,
          0.20000000298023224,
          0.20000000298023224,
          0.20000000298023224,
          0.20000000298023224,
          0.20000000298023224,
          0.20000000298023224,
          0.20000000298023224,
          0.20000000298023224,
          0.22360679507255554,
          0.22360679507255554,
          0.2828427255153656,
          0.2828427255153656,
          0.2828427255153656,
          0.30000001192092896,
          0.3162277638912201,
          0.3162277638912201,
          0.3162277638912201,
          0.3162277638912201,
          0.36055514216423035,
          0.4000000059604645,
          0.41231057047843933,
          0.5385164618492126
         ]
        },
        {
         "hoverinfo": "text",
         "hovertext": [
          "(0.6082762479782104, 0.6403124332427979)",
          "(0.5, 0.5099019408226013), multiplicity: 2",
          "(0.5, 0.5099019408226013), multiplicity: 2",
          "(0.4000000059604645, 0.4242640733718872)",
          "(0.36055514216423035, 0.41231057047843933)",
          "(0.36055514216423035, 0.4000000059604645)",
          "(0.22360679507255554, 0.41231057047843933)",
          "(0.22360679507255554, 0.30000001192092896)",
          "(0.20000000298023224, 0.30000001192092896)",
          "(0.20000000298023224, 0.22360679507255554)",
          "(0.1414213627576828, 0.20000000298023224), multiplicity: 4",
          "(0.1414213627576828, 0.20000000298023224), multiplicity: 4",
          "(0.1414213627576828, 0.20000000298023224), multiplicity: 4",
          "(0.1414213627576828, 0.20000000298023224), multiplicity: 4",
          "(0.10000000149011612, 0.1414213627576828), multiplicity: 11",
          "(0.10000000149011612, 0.1414213627576828), multiplicity: 11",
          "(0.10000000149011612, 0.1414213627576828), multiplicity: 11",
          "(0.10000000149011612, 0.1414213627576828), multiplicity: 11",
          "(0.10000000149011612, 0.1414213627576828), multiplicity: 11",
          "(0.10000000149011612, 0.1414213627576828), multiplicity: 11",
          "(0.10000000149011612, 0.1414213627576828), multiplicity: 11",
          "(0.10000000149011612, 0.1414213627576828), multiplicity: 11",
          "(0.10000000149011612, 0.1414213627576828), multiplicity: 11",
          "(0.10000000149011612, 0.1414213627576828), multiplicity: 11",
          "(0.10000000149011612, 0.1414213627576828), multiplicity: 11"
         ],
         "mode": "markers",
         "name": "H1",
         "type": "scatter",
         "x": [
          0.6082762479782104,
          0.5,
          0.5,
          0.4000000059604645,
          0.36055514216423035,
          0.36055514216423035,
          0.22360679507255554,
          0.22360679507255554,
          0.20000000298023224,
          0.20000000298023224,
          0.1414213627576828,
          0.1414213627576828,
          0.1414213627576828,
          0.1414213627576828,
          0.10000000149011612,
          0.10000000149011612,
          0.10000000149011612,
          0.10000000149011612,
          0.10000000149011612,
          0.10000000149011612,
          0.10000000149011612,
          0.10000000149011612,
          0.10000000149011612,
          0.10000000149011612,
          0.10000000149011612
         ],
         "y": [
          0.6403124332427979,
          0.5099019408226013,
          0.5099019408226013,
          0.4242640733718872,
          0.41231057047843933,
          0.4000000059604645,
          0.41231057047843933,
          0.30000001192092896,
          0.30000001192092896,
          0.22360679507255554,
          0.20000000298023224,
          0.20000000298023224,
          0.20000000298023224,
          0.20000000298023224,
          0.1414213627576828,
          0.1414213627576828,
          0.1414213627576828,
          0.1414213627576828,
          0.1414213627576828,
          0.1414213627576828,
          0.1414213627576828,
          0.1414213627576828,
          0.1414213627576828,
          0.1414213627576828,
          0.1414213627576828
         ]
        }
       ],
       "layout": {
        "height": 500,
        "plot_bgcolor": "white",
        "template": {
         "data": {
          "bar": [
           {
            "error_x": {
             "color": "#2a3f5f"
            },
            "error_y": {
             "color": "#2a3f5f"
            },
            "marker": {
             "line": {
              "color": "#E5ECF6",
              "width": 0.5
             },
             "pattern": {
              "fillmode": "overlay",
              "size": 10,
              "solidity": 0.2
             }
            },
            "type": "bar"
           }
          ],
          "barpolar": [
           {
            "marker": {
             "line": {
              "color": "#E5ECF6",
              "width": 0.5
             },
             "pattern": {
              "fillmode": "overlay",
              "size": 10,
              "solidity": 0.2
             }
            },
            "type": "barpolar"
           }
          ],
          "carpet": [
           {
            "aaxis": {
             "endlinecolor": "#2a3f5f",
             "gridcolor": "white",
             "linecolor": "white",
             "minorgridcolor": "white",
             "startlinecolor": "#2a3f5f"
            },
            "baxis": {
             "endlinecolor": "#2a3f5f",
             "gridcolor": "white",
             "linecolor": "white",
             "minorgridcolor": "white",
             "startlinecolor": "#2a3f5f"
            },
            "type": "carpet"
           }
          ],
          "choropleth": [
           {
            "colorbar": {
             "outlinewidth": 0,
             "ticks": ""
            },
            "type": "choropleth"
           }
          ],
          "contour": [
           {
            "colorbar": {
             "outlinewidth": 0,
             "ticks": ""
            },
            "colorscale": [
             [
              0,
              "#0d0887"
             ],
             [
              0.1111111111111111,
              "#46039f"
             ],
             [
              0.2222222222222222,
              "#7201a8"
             ],
             [
              0.3333333333333333,
              "#9c179e"
             ],
             [
              0.4444444444444444,
              "#bd3786"
             ],
             [
              0.5555555555555556,
              "#d8576b"
             ],
             [
              0.6666666666666666,
              "#ed7953"
             ],
             [
              0.7777777777777778,
              "#fb9f3a"
             ],
             [
              0.8888888888888888,
              "#fdca26"
             ],
             [
              1,
              "#f0f921"
             ]
            ],
            "type": "contour"
           }
          ],
          "contourcarpet": [
           {
            "colorbar": {
             "outlinewidth": 0,
             "ticks": ""
            },
            "type": "contourcarpet"
           }
          ],
          "heatmap": [
           {
            "colorbar": {
             "outlinewidth": 0,
             "ticks": ""
            },
            "colorscale": [
             [
              0,
              "#0d0887"
             ],
             [
              0.1111111111111111,
              "#46039f"
             ],
             [
              0.2222222222222222,
              "#7201a8"
             ],
             [
              0.3333333333333333,
              "#9c179e"
             ],
             [
              0.4444444444444444,
              "#bd3786"
             ],
             [
              0.5555555555555556,
              "#d8576b"
             ],
             [
              0.6666666666666666,
              "#ed7953"
             ],
             [
              0.7777777777777778,
              "#fb9f3a"
             ],
             [
              0.8888888888888888,
              "#fdca26"
             ],
             [
              1,
              "#f0f921"
             ]
            ],
            "type": "heatmap"
           }
          ],
          "heatmapgl": [
           {
            "colorbar": {
             "outlinewidth": 0,
             "ticks": ""
            },
            "colorscale": [
             [
              0,
              "#0d0887"
             ],
             [
              0.1111111111111111,
              "#46039f"
             ],
             [
              0.2222222222222222,
              "#7201a8"
             ],
             [
              0.3333333333333333,
              "#9c179e"
             ],
             [
              0.4444444444444444,
              "#bd3786"
             ],
             [
              0.5555555555555556,
              "#d8576b"
             ],
             [
              0.6666666666666666,
              "#ed7953"
             ],
             [
              0.7777777777777778,
              "#fb9f3a"
             ],
             [
              0.8888888888888888,
              "#fdca26"
             ],
             [
              1,
              "#f0f921"
             ]
            ],
            "type": "heatmapgl"
           }
          ],
          "histogram": [
           {
            "marker": {
             "pattern": {
              "fillmode": "overlay",
              "size": 10,
              "solidity": 0.2
             }
            },
            "type": "histogram"
           }
          ],
          "histogram2d": [
           {
            "colorbar": {
             "outlinewidth": 0,
             "ticks": ""
            },
            "colorscale": [
             [
              0,
              "#0d0887"
             ],
             [
              0.1111111111111111,
              "#46039f"
             ],
             [
              0.2222222222222222,
              "#7201a8"
             ],
             [
              0.3333333333333333,
              "#9c179e"
             ],
             [
              0.4444444444444444,
              "#bd3786"
             ],
             [
              0.5555555555555556,
              "#d8576b"
             ],
             [
              0.6666666666666666,
              "#ed7953"
             ],
             [
              0.7777777777777778,
              "#fb9f3a"
             ],
             [
              0.8888888888888888,
              "#fdca26"
             ],
             [
              1,
              "#f0f921"
             ]
            ],
            "type": "histogram2d"
           }
          ],
          "histogram2dcontour": [
           {
            "colorbar": {
             "outlinewidth": 0,
             "ticks": ""
            },
            "colorscale": [
             [
              0,
              "#0d0887"
             ],
             [
              0.1111111111111111,
              "#46039f"
             ],
             [
              0.2222222222222222,
              "#7201a8"
             ],
             [
              0.3333333333333333,
              "#9c179e"
             ],
             [
              0.4444444444444444,
              "#bd3786"
             ],
             [
              0.5555555555555556,
              "#d8576b"
             ],
             [
              0.6666666666666666,
              "#ed7953"
             ],
             [
              0.7777777777777778,
              "#fb9f3a"
             ],
             [
              0.8888888888888888,
              "#fdca26"
             ],
             [
              1,
              "#f0f921"
             ]
            ],
            "type": "histogram2dcontour"
           }
          ],
          "mesh3d": [
           {
            "colorbar": {
             "outlinewidth": 0,
             "ticks": ""
            },
            "type": "mesh3d"
           }
          ],
          "parcoords": [
           {
            "line": {
             "colorbar": {
              "outlinewidth": 0,
              "ticks": ""
             }
            },
            "type": "parcoords"
           }
          ],
          "pie": [
           {
            "automargin": true,
            "type": "pie"
           }
          ],
          "scatter": [
           {
            "fillpattern": {
             "fillmode": "overlay",
             "size": 10,
             "solidity": 0.2
            },
            "type": "scatter"
           }
          ],
          "scatter3d": [
           {
            "line": {
             "colorbar": {
              "outlinewidth": 0,
              "ticks": ""
             }
            },
            "marker": {
             "colorbar": {
              "outlinewidth": 0,
              "ticks": ""
             }
            },
            "type": "scatter3d"
           }
          ],
          "scattercarpet": [
           {
            "marker": {
             "colorbar": {
              "outlinewidth": 0,
              "ticks": ""
             }
            },
            "type": "scattercarpet"
           }
          ],
          "scattergeo": [
           {
            "marker": {
             "colorbar": {
              "outlinewidth": 0,
              "ticks": ""
             }
            },
            "type": "scattergeo"
           }
          ],
          "scattergl": [
           {
            "marker": {
             "colorbar": {
              "outlinewidth": 0,
              "ticks": ""
             }
            },
            "type": "scattergl"
           }
          ],
          "scattermapbox": [
           {
            "marker": {
             "colorbar": {
              "outlinewidth": 0,
              "ticks": ""
             }
            },
            "type": "scattermapbox"
           }
          ],
          "scatterpolar": [
           {
            "marker": {
             "colorbar": {
              "outlinewidth": 0,
              "ticks": ""
             }
            },
            "type": "scatterpolar"
           }
          ],
          "scatterpolargl": [
           {
            "marker": {
             "colorbar": {
              "outlinewidth": 0,
              "ticks": ""
             }
            },
            "type": "scatterpolargl"
           }
          ],
          "scatterternary": [
           {
            "marker": {
             "colorbar": {
              "outlinewidth": 0,
              "ticks": ""
             }
            },
            "type": "scatterternary"
           }
          ],
          "surface": [
           {
            "colorbar": {
             "outlinewidth": 0,
             "ticks": ""
            },
            "colorscale": [
             [
              0,
              "#0d0887"
             ],
             [
              0.1111111111111111,
              "#46039f"
             ],
             [
              0.2222222222222222,
              "#7201a8"
             ],
             [
              0.3333333333333333,
              "#9c179e"
             ],
             [
              0.4444444444444444,
              "#bd3786"
             ],
             [
              0.5555555555555556,
              "#d8576b"
             ],
             [
              0.6666666666666666,
              "#ed7953"
             ],
             [
              0.7777777777777778,
              "#fb9f3a"
             ],
             [
              0.8888888888888888,
              "#fdca26"
             ],
             [
              1,
              "#f0f921"
             ]
            ],
            "type": "surface"
           }
          ],
          "table": [
           {
            "cells": {
             "fill": {
              "color": "#EBF0F8"
             },
             "line": {
              "color": "white"
             }
            },
            "header": {
             "fill": {
              "color": "#C8D4E3"
             },
             "line": {
              "color": "white"
             }
            },
            "type": "table"
           }
          ]
         },
         "layout": {
          "annotationdefaults": {
           "arrowcolor": "#2a3f5f",
           "arrowhead": 0,
           "arrowwidth": 1
          },
          "autotypenumbers": "strict",
          "coloraxis": {
           "colorbar": {
            "outlinewidth": 0,
            "ticks": ""
           }
          },
          "colorscale": {
           "diverging": [
            [
             0,
             "#8e0152"
            ],
            [
             0.1,
             "#c51b7d"
            ],
            [
             0.2,
             "#de77ae"
            ],
            [
             0.3,
             "#f1b6da"
            ],
            [
             0.4,
             "#fde0ef"
            ],
            [
             0.5,
             "#f7f7f7"
            ],
            [
             0.6,
             "#e6f5d0"
            ],
            [
             0.7,
             "#b8e186"
            ],
            [
             0.8,
             "#7fbc41"
            ],
            [
             0.9,
             "#4d9221"
            ],
            [
             1,
             "#276419"
            ]
           ],
           "sequential": [
            [
             0,
             "#0d0887"
            ],
            [
             0.1111111111111111,
             "#46039f"
            ],
            [
             0.2222222222222222,
             "#7201a8"
            ],
            [
             0.3333333333333333,
             "#9c179e"
            ],
            [
             0.4444444444444444,
             "#bd3786"
            ],
            [
             0.5555555555555556,
             "#d8576b"
            ],
            [
             0.6666666666666666,
             "#ed7953"
            ],
            [
             0.7777777777777778,
             "#fb9f3a"
            ],
            [
             0.8888888888888888,
             "#fdca26"
            ],
            [
             1,
             "#f0f921"
            ]
           ],
           "sequentialminus": [
            [
             0,
             "#0d0887"
            ],
            [
             0.1111111111111111,
             "#46039f"
            ],
            [
             0.2222222222222222,
             "#7201a8"
            ],
            [
             0.3333333333333333,
             "#9c179e"
            ],
            [
             0.4444444444444444,
             "#bd3786"
            ],
            [
             0.5555555555555556,
             "#d8576b"
            ],
            [
             0.6666666666666666,
             "#ed7953"
            ],
            [
             0.7777777777777778,
             "#fb9f3a"
            ],
            [
             0.8888888888888888,
             "#fdca26"
            ],
            [
             1,
             "#f0f921"
            ]
           ]
          },
          "colorway": [
           "#636efa",
           "#EF553B",
           "#00cc96",
           "#ab63fa",
           "#FFA15A",
           "#19d3f3",
           "#FF6692",
           "#B6E880",
           "#FF97FF",
           "#FECB52"
          ],
          "font": {
           "color": "#2a3f5f"
          },
          "geo": {
           "bgcolor": "white",
           "lakecolor": "white",
           "landcolor": "#E5ECF6",
           "showlakes": true,
           "showland": true,
           "subunitcolor": "white"
          },
          "hoverlabel": {
           "align": "left"
          },
          "hovermode": "closest",
          "mapbox": {
           "style": "light"
          },
          "paper_bgcolor": "white",
          "plot_bgcolor": "#E5ECF6",
          "polar": {
           "angularaxis": {
            "gridcolor": "white",
            "linecolor": "white",
            "ticks": ""
           },
           "bgcolor": "#E5ECF6",
           "radialaxis": {
            "gridcolor": "white",
            "linecolor": "white",
            "ticks": ""
           }
          },
          "scene": {
           "xaxis": {
            "backgroundcolor": "#E5ECF6",
            "gridcolor": "white",
            "gridwidth": 2,
            "linecolor": "white",
            "showbackground": true,
            "ticks": "",
            "zerolinecolor": "white"
           },
           "yaxis": {
            "backgroundcolor": "#E5ECF6",
            "gridcolor": "white",
            "gridwidth": 2,
            "linecolor": "white",
            "showbackground": true,
            "ticks": "",
            "zerolinecolor": "white"
           },
           "zaxis": {
            "backgroundcolor": "#E5ECF6",
            "gridcolor": "white",
            "gridwidth": 2,
            "linecolor": "white",
            "showbackground": true,
            "ticks": "",
            "zerolinecolor": "white"
           }
          },
          "shapedefaults": {
           "line": {
            "color": "#2a3f5f"
           }
          },
          "ternary": {
           "aaxis": {
            "gridcolor": "white",
            "linecolor": "white",
            "ticks": ""
           },
           "baxis": {
            "gridcolor": "white",
            "linecolor": "white",
            "ticks": ""
           },
           "bgcolor": "#E5ECF6",
           "caxis": {
            "gridcolor": "white",
            "linecolor": "white",
            "ticks": ""
           }
          },
          "title": {
           "x": 0.05
          },
          "xaxis": {
           "automargin": true,
           "gridcolor": "white",
           "linecolor": "white",
           "ticks": "",
           "title": {
            "standoff": 15
           },
           "zerolinecolor": "white",
           "zerolinewidth": 2
          },
          "yaxis": {
           "automargin": true,
           "gridcolor": "white",
           "linecolor": "white",
           "ticks": "",
           "title": {
            "standoff": 15
           },
           "zerolinecolor": "white",
           "zerolinewidth": 2
          }
         }
        },
        "width": 500,
        "xaxis": {
         "autorange": false,
         "exponentformat": "e",
         "linecolor": "black",
         "linewidth": 1,
         "mirror": false,
         "range": [
          -0.012806248664855958,
          0.6531186819076538
         ],
         "showexponent": "all",
         "showline": true,
         "side": "bottom",
         "ticks": "outside",
         "title": {
          "text": "Birth"
         },
         "type": "linear",
         "zeroline": true
        },
        "yaxis": {
         "autorange": false,
         "exponentformat": "e",
         "linecolor": "black",
         "linewidth": 1,
         "mirror": false,
         "range": [
          -0.012806248664855958,
          0.6531186819076538
         ],
         "scaleanchor": "x",
         "scaleratio": 1,
         "showexponent": "all",
         "showline": true,
         "side": "left",
         "ticks": "outside",
         "title": {
          "text": "Death"
         },
         "type": "linear",
         "zeroline": true
        }
       }
      }
     },
     "metadata": {},
     "output_type": "display_data"
    }
   ],
   "source": [
    "vr = VietorisRipsPersistence()\n",
    "xt = vr.fit_transform(xa)\n",
    "vr.plot(xt)\n"
   ]
  },
  {
   "attachments": {},
   "cell_type": "markdown",
   "metadata": {},
   "source": [
    "For all 4 dimensions of Iris dataset"
   ]
  },
  {
   "cell_type": "code",
   "execution_count": 48,
   "metadata": {},
   "outputs": [
    {
     "data": {
      "text/plain": [
       "(1, 150, 4)"
      ]
     },
     "execution_count": 48,
     "metadata": {},
     "output_type": "execute_result"
    }
   ],
   "source": [
    "xp = x.reshape(1, *x.shape)\n",
    "xp.shape"
   ]
  },
  {
   "cell_type": "code",
   "execution_count": 49,
   "metadata": {},
   "outputs": [
    {
     "data": {
      "application/vnd.plotly.v1+json": {
       "config": {
        "plotlyServerURL": "https://plot.ly"
       },
       "data": [
        {
         "hoverinfo": "none",
         "line": {
          "color": "black",
          "dash": "dash",
          "width": 1
         },
         "mode": "lines",
         "showlegend": false,
         "type": "scatter",
         "x": [
          1.882,
          8.018
         ],
         "y": [
          1.882,
          8.018
         ]
        },
        {
         "hoverinfo": "text",
         "hovertext": [
          "(4.6, 3.6)"
         ],
         "mode": "markers",
         "name": "H1",
         "type": "scatter",
         "x": [
          4.6
         ],
         "y": [
          3.6
         ]
        },
        {
         "hoverinfo": "text",
         "hovertext": [
          "(4.3, 3.0)"
         ],
         "mode": "markers",
         "name": "H1",
         "type": "scatter",
         "x": [
          4.3
         ],
         "y": [
          3
         ]
        },
        {
         "hoverinfo": "text",
         "hovertext": [
          "(5.8, 4.0)",
          "(5.0, 3.2)"
         ],
         "mode": "markers",
         "name": "H1",
         "type": "scatter",
         "x": [
          5.8,
          5
         ],
         "y": [
          4,
          3.2
         ]
        },
        {
         "hoverinfo": "text",
         "hovertext": [
          "(4.7, 3.2)",
          "(5.4, 3.9)",
          "(5.5, 3.5)",
          "(4.4, 3.0)",
          "(5.0, 3.5)",
          "(4.5, 2.3)",
          "(4.4, 3.2)"
         ],
         "mode": "markers",
         "name": "H1",
         "type": "scatter",
         "x": [
          4.7,
          5.4,
          5.5,
          4.4,
          5,
          4.5,
          4.4
         ],
         "y": [
          3.2,
          3.9,
          3.5,
          3,
          3.5,
          2.3,
          3.2
         ]
        },
        {
         "hoverinfo": "text",
         "hovertext": [
          "(5.1, 3.5)",
          "(4.9, 3.0)",
          "(5.0, 3.6)",
          "(4.6, 3.4)",
          "(4.4, 2.9)",
          "(4.8, 3.0)",
          "(5.1, 3.5)",
          "(5.2, 3.4)",
          "(5.5, 4.2)",
          "(4.9, 3.6)",
          "(4.8, 3.0)",
          "(4.6, 3.2)",
          "(5.0, 3.3)"
         ],
         "mode": "markers",
         "name": "H1",
         "type": "scatter",
         "x": [
          5.1,
          4.9,
          5,
          4.6,
          4.4,
          4.8,
          5.1,
          5.2,
          5.5,
          4.9,
          4.8,
          4.6,
          5
         ],
         "y": [
          3.5,
          3,
          3.6,
          3.4,
          2.9,
          3,
          3.5,
          3.4,
          4.2,
          3.6,
          3,
          3.2,
          3.3
         ]
        },
        {
         "hoverinfo": "text",
         "hovertext": [
          "(4.6, 3.1)",
          "(5.0, 3.4)",
          "(4.9, 3.1)",
          "(5.4, 3.7)",
          "(5.7, 4.4)",
          "(5.1, 3.8)",
          "(5.1, 3.7)",
          "(5.2, 3.5)",
          "(5.4, 3.4)",
          "(5.2, 4.1)",
          "(4.9, 3.1)",
          "(5.1, 3.4)",
          "(5.3, 3.7)"
         ],
         "mode": "markers",
         "name": "H1",
         "type": "scatter",
         "x": [
          4.6,
          5,
          4.9,
          5.4,
          5.7,
          5.1,
          5.1,
          5.2,
          5.4,
          5.2,
          4.9,
          5.1,
          5.3
         ],
         "y": [
          3.1,
          3.4,
          3.1,
          3.7,
          4.4,
          3.8,
          3.7,
          3.5,
          3.4,
          4.1,
          3.1,
          3.4,
          3.7
         ]
        },
        {
         "hoverinfo": "text",
         "hovertext": [
          "(4.8, 3.4)",
          "(5.0, 3.0)",
          "(5.0, 3.4)",
          "(4.7, 3.2)",
          "(4.8, 3.1)",
          "(5.0, 3.5)",
          "(5.1, 3.8)"
         ],
         "mode": "markers",
         "name": "H1",
         "type": "scatter",
         "x": [
          4.8,
          5,
          5,
          4.7,
          4.8,
          5,
          5.1
         ],
         "y": [
          3.4,
          3,
          3.4,
          3.2,
          3.1,
          3.5,
          3.8
         ]
        },
        {
         "hoverinfo": "text",
         "hovertext": [
          "(5.4, 3.9)",
          "(5.7, 3.8)",
          "(5.4, 3.4)",
          "(5.1, 3.3)"
         ],
         "mode": "markers",
         "name": "H1",
         "type": "scatter",
         "x": [
          5.4,
          5.7,
          5.4,
          5.1
         ],
         "y": [
          3.9,
          3.8,
          3.4,
          3.3
         ]
        },
        {
         "hoverinfo": "text",
         "hovertext": [
          "(4.8, 3.4)",
          "(5.1, 3.8)"
         ],
         "mode": "markers",
         "name": "H1",
         "type": "scatter",
         "x": [
          4.8,
          5.1
         ],
         "y": [
          3.4,
          3.8
         ]
        },
        {
         "hoverinfo": "text",
         "hovertext": [
          "(5.1, 2.5)"
         ],
         "mode": "markers",
         "name": "H3",
         "type": "scatter",
         "x": [
          5.1
         ],
         "y": [
          2.5
         ]
        },
        {
         "hoverinfo": "text",
         "hovertext": [
          "(4.9, 2.4)",
          "(5.0, 2.3)"
         ],
         "mode": "markers",
         "name": "H3",
         "type": "scatter",
         "x": [
          4.9,
          5
         ],
         "y": [
          2.4,
          2.3
         ]
        },
        {
         "hoverinfo": "text",
         "hovertext": [
          "(5.0, 2.0)",
          "(5.7, 2.6)"
         ],
         "mode": "markers",
         "name": "H3",
         "type": "scatter",
         "x": [
          5,
          5.7
         ],
         "y": [
          2,
          2.6
         ]
        },
        {
         "hoverinfo": "text",
         "hovertext": [
          "(5.6, 2.9)"
         ],
         "mode": "markers",
         "name": "H3",
         "type": "scatter",
         "x": [
          5.6
         ],
         "y": [
          2.9
         ]
        },
        {
         "hoverinfo": "text",
         "hovertext": [
          "(5.5, 2.4)"
         ],
         "mode": "markers",
         "name": "H3",
         "type": "scatter",
         "x": [
          5.5
         ],
         "y": [
          2.4
         ]
        },
        {
         "hoverinfo": "text",
         "hovertext": [
          "(5.5, 2.4)"
         ],
         "mode": "markers",
         "name": "H3",
         "type": "scatter",
         "x": [
          5.5
         ],
         "y": [
          2.4
         ]
        },
        {
         "hoverinfo": "text",
         "hovertext": [
          "(5.2, 2.7)",
          "(5.6, 2.5)",
          "(5.8, 2.7)"
         ],
         "mode": "markers",
         "name": "H3",
         "type": "scatter",
         "x": [
          5.2,
          5.6,
          5.8
         ],
         "y": [
          2.7,
          2.5,
          2.7
         ]
        },
        {
         "hoverinfo": "text",
         "hovertext": [
          "(5.5, 2.3)",
          "(6.0, 2.2)",
          "(6.1, 2.8)",
          "(5.5, 2.5)",
          "(5.8, 2.6)"
         ],
         "mode": "markers",
         "name": "H4",
         "type": "scatter",
         "x": [
          5.5,
          6,
          6.1,
          5.5,
          5.8
         ],
         "y": [
          2.3,
          2.2,
          2.8,
          2.5,
          2.6
         ]
        },
        {
         "hoverinfo": "text",
         "hovertext": [
          "(5.8, 2.7)",
          "(5.6, 3.0)",
          "(5.7, 2.8)"
         ],
         "mode": "markers",
         "name": "H4",
         "type": "scatter",
         "x": [
          5.8,
          5.6,
          5.7
         ],
         "y": [
          2.7,
          3,
          2.8
         ]
        },
        {
         "hoverinfo": "text",
         "hovertext": [
          "(5.9, 3.0)",
          "(5.6, 2.7)",
          "(5.7, 3.0)",
          "(5.7, 2.9)"
         ],
         "mode": "markers",
         "name": "H4",
         "type": "scatter",
         "x": [
          5.9,
          5.6,
          5.7,
          5.7
         ],
         "y": [
          3,
          2.7,
          3,
          2.9
         ]
        },
        {
         "hoverinfo": "text",
         "hovertext": [
          "(6.4, 2.9)",
          "(6.2, 2.9)"
         ],
         "mode": "markers",
         "name": "H4",
         "type": "scatter",
         "x": [
          6.4,
          6.2
         ],
         "y": [
          2.9,
          2.9
         ]
        },
        {
         "hoverinfo": "text",
         "hovertext": [
          "(6.7, 3.1)",
          "(6.6, 3.0)",
          "(6.3, 2.3)",
          "(5.5, 2.6)"
         ],
         "mode": "markers",
         "name": "H4",
         "type": "scatter",
         "x": [
          6.7,
          6.6,
          6.3,
          5.5
         ],
         "y": [
          3.1,
          3,
          2.3,
          2.6
         ]
        },
        {
         "hoverinfo": "text",
         "hovertext": [
          "(6.4, 3.2)",
          "(5.7, 2.8)",
          "(5.6, 3.0)",
          "(6.2, 2.2)",
          "(6.0, 2.9)",
          "(5.4, 3.0)",
          "(6.0, 3.4)",
          "(4.9, 2.5)"
         ],
         "mode": "markers",
         "name": "H4",
         "type": "scatter",
         "x": [
          6.4,
          5.7,
          5.6,
          6.2,
          6,
          5.4,
          6,
          4.9
         ],
         "y": [
          3.2,
          2.8,
          3,
          2.2,
          2.9,
          3,
          3.4,
          2.5
         ]
        },
        {
         "hoverinfo": "text",
         "hovertext": [
          "(6.5, 2.8)",
          "(6.6, 2.9)",
          "(6.1, 3.0)"
         ],
         "mode": "markers",
         "name": "H4",
         "type": "scatter",
         "x": [
          6.5,
          6.6,
          6.1
         ],
         "y": [
          2.8,
          2.9,
          3
         ]
        },
        {
         "hoverinfo": "text",
         "hovertext": [
          "(7.0, 3.2)",
          "(6.3, 3.3)",
          "(6.1, 2.9)",
          "(6.1, 2.8)",
          "(6.7, 3.1)"
         ],
         "mode": "markers",
         "name": "H4",
         "type": "scatter",
         "x": [
          7,
          6.3,
          6.1,
          6.1,
          6.7
         ],
         "y": [
          3.2,
          3.3,
          2.9,
          2.8,
          3.1
         ]
        },
        {
         "hoverinfo": "text",
         "hovertext": [
          "(5.9, 3.2)",
          "(6.8, 2.8)",
          "(6.2, 2.8)",
          "(6.0, 3.0)"
         ],
         "mode": "markers",
         "name": "H4",
         "type": "scatter",
         "x": [
          5.9,
          6.8,
          6.2,
          6
         ],
         "y": [
          3.2,
          2.8,
          2.8,
          3
         ]
        },
        {
         "hoverinfo": "text",
         "hovertext": [
          "(6.9, 3.1)",
          "(6.3, 2.5)",
          "(5.6, 2.8)",
          "(6.3, 2.7)",
          "(6.1, 3.0)"
         ],
         "mode": "markers",
         "name": "H4",
         "type": "scatter",
         "x": [
          6.9,
          6.3,
          5.6,
          6.3,
          6.1
         ],
         "y": [
          3.1,
          2.5,
          2.8,
          2.7,
          3
         ]
        },
        {
         "hoverinfo": "text",
         "hovertext": [
          "(6.7, 3.0)",
          "(5.7, 2.5)",
          "(6.0, 2.2)",
          "(6.3, 2.5)"
         ],
         "mode": "markers",
         "name": "H5",
         "type": "scatter",
         "x": [
          6.7,
          5.7,
          6,
          6.3
         ],
         "y": [
          3,
          2.5,
          2.2,
          2.5
         ]
        },
        {
         "hoverinfo": "text",
         "hovertext": [
          "(6.0, 2.7)",
          "(5.8, 2.7), multiplicity: 2",
          "(6.5, 3.2)",
          "(5.8, 2.8)",
          "(6.3, 2.8)",
          "(6.9, 3.1)",
          "(5.8, 2.7), multiplicity: 2",
          "(5.9, 3.0)"
         ],
         "mode": "markers",
         "name": "H5",
         "type": "scatter",
         "x": [
          6,
          5.8,
          6.5,
          5.8,
          6.3,
          6.9,
          5.8,
          5.9
         ],
         "y": [
          2.7,
          2.7,
          3.2,
          2.8,
          2.8,
          3.1,
          2.7,
          3
         ]
        },
        {
         "hoverinfo": "text",
         "hovertext": [
          "(6.7, 3.0)",
          "(6.5, 3.0)"
         ],
         "mode": "markers",
         "name": "H5",
         "type": "scatter",
         "x": [
          6.7,
          6.5
         ],
         "y": [
          3,
          3
         ]
        },
        {
         "hoverinfo": "text",
         "hovertext": [
          "(6.4, 2.7)",
          "(6.4, 3.2)"
         ],
         "mode": "markers",
         "name": "H5",
         "type": "scatter",
         "x": [
          6.4,
          6.4
         ],
         "y": [
          2.7,
          3.2
         ]
        },
        {
         "hoverinfo": "text",
         "hovertext": [
          "(6.9, 3.1)",
          "(6.2, 3.4)"
         ],
         "mode": "markers",
         "name": "H5",
         "type": "scatter",
         "x": [
          6.9,
          6.2
         ],
         "y": [
          3.1,
          3.4
         ]
        },
        {
         "hoverinfo": "text",
         "hovertext": [
          "(6.8, 3.0)",
          "(6.5, 3.0)",
          "(6.4, 3.1)"
         ],
         "mode": "markers",
         "name": "H5",
         "type": "scatter",
         "x": [
          6.8,
          6.5,
          6.4
         ],
         "y": [
          3,
          3,
          3.1
         ]
        },
        {
         "hoverinfo": "text",
         "hovertext": [
          "(6.3, 2.9)",
          "(6.4, 2.8)",
          "(6.4, 2.8)",
          "(6.1, 2.6)",
          "(6.3, 3.4)",
          "(6.7, 3.1)"
         ],
         "mode": "markers",
         "name": "H5",
         "type": "scatter",
         "x": [
          6.3,
          6.4,
          6.4,
          6.1,
          6.3,
          6.7
         ],
         "y": [
          2.9,
          2.8,
          2.8,
          2.6,
          3.4,
          3.1
         ]
        },
        {
         "hoverinfo": "text",
         "hovertext": [
          "(6.9, 3.2)",
          "(6.7, 3.3)",
          "(6.7, 3.3)"
         ],
         "mode": "markers",
         "name": "H5",
         "type": "scatter",
         "x": [
          6.9,
          6.7,
          6.7
         ],
         "y": [
          3.2,
          3.3,
          3.3
         ]
        },
        {
         "hoverinfo": "text",
         "hovertext": [
          "(6.5, 3.0)",
          "(6.7, 2.5)",
          "(7.2, 3.0)"
         ],
         "mode": "markers",
         "name": "H5",
         "type": "scatter",
         "x": [
          6.5,
          6.7,
          7.2
         ],
         "y": [
          3,
          2.5,
          3
         ]
        },
        {
         "hoverinfo": "text",
         "hovertext": [
          "(7.1, 3.0)",
          "(6.8, 3.2)"
         ],
         "mode": "markers",
         "name": "H5",
         "type": "scatter",
         "x": [
          7.1,
          6.8
         ],
         "y": [
          3,
          3.2
         ]
        },
        {
         "hoverinfo": "text",
         "hovertext": [
          "(6.3, 3.3)",
          "(7.2, 3.2)"
         ],
         "mode": "markers",
         "name": "H6",
         "type": "scatter",
         "x": [
          6.3,
          7.2
         ],
         "y": [
          3.3,
          3.2
         ]
        },
        {
         "hoverinfo": "text",
         "hovertext": [
          "(7.2, 3.6)",
          "(7.4, 2.8)",
          "(7.7, 3.0)"
         ],
         "mode": "markers",
         "name": "H6",
         "type": "scatter",
         "x": [
          7.2,
          7.4,
          7.7
         ],
         "y": [
          3.6,
          2.8,
          3
         ]
        },
        {
         "hoverinfo": "text",
         "hovertext": [
          "(7.3, 2.9)"
         ],
         "mode": "markers",
         "name": "H6",
         "type": "scatter",
         "x": [
          7.3
         ],
         "y": [
          2.9
         ]
        },
        {
         "hoverinfo": "text",
         "hovertext": [
          "(7.9, 3.8)"
         ],
         "mode": "markers",
         "name": "H6",
         "type": "scatter",
         "x": [
          7.9
         ],
         "y": [
          3.8
         ]
        },
        {
         "hoverinfo": "text",
         "hovertext": [
          "(7.6, 3.0)"
         ],
         "mode": "markers",
         "name": "H6",
         "type": "scatter",
         "x": [
          7.6
         ],
         "y": [
          3
         ]
        },
        {
         "hoverinfo": "text",
         "hovertext": [
          "(7.7, 3.8)",
          "(7.7, 2.8)"
         ],
         "mode": "markers",
         "name": "H6",
         "type": "scatter",
         "x": [
          7.7,
          7.7
         ],
         "y": [
          3.8,
          2.8
         ]
        },
        {
         "hoverinfo": "text",
         "hovertext": [
          "(7.7, 2.6)"
         ],
         "mode": "markers",
         "name": "H6",
         "type": "scatter",
         "x": [
          7.7
         ],
         "y": [
          2.6
         ]
        }
       ],
       "layout": {
        "height": 500,
        "plot_bgcolor": "white",
        "template": {
         "data": {
          "bar": [
           {
            "error_x": {
             "color": "#2a3f5f"
            },
            "error_y": {
             "color": "#2a3f5f"
            },
            "marker": {
             "line": {
              "color": "#E5ECF6",
              "width": 0.5
             },
             "pattern": {
              "fillmode": "overlay",
              "size": 10,
              "solidity": 0.2
             }
            },
            "type": "bar"
           }
          ],
          "barpolar": [
           {
            "marker": {
             "line": {
              "color": "#E5ECF6",
              "width": 0.5
             },
             "pattern": {
              "fillmode": "overlay",
              "size": 10,
              "solidity": 0.2
             }
            },
            "type": "barpolar"
           }
          ],
          "carpet": [
           {
            "aaxis": {
             "endlinecolor": "#2a3f5f",
             "gridcolor": "white",
             "linecolor": "white",
             "minorgridcolor": "white",
             "startlinecolor": "#2a3f5f"
            },
            "baxis": {
             "endlinecolor": "#2a3f5f",
             "gridcolor": "white",
             "linecolor": "white",
             "minorgridcolor": "white",
             "startlinecolor": "#2a3f5f"
            },
            "type": "carpet"
           }
          ],
          "choropleth": [
           {
            "colorbar": {
             "outlinewidth": 0,
             "ticks": ""
            },
            "type": "choropleth"
           }
          ],
          "contour": [
           {
            "colorbar": {
             "outlinewidth": 0,
             "ticks": ""
            },
            "colorscale": [
             [
              0,
              "#0d0887"
             ],
             [
              0.1111111111111111,
              "#46039f"
             ],
             [
              0.2222222222222222,
              "#7201a8"
             ],
             [
              0.3333333333333333,
              "#9c179e"
             ],
             [
              0.4444444444444444,
              "#bd3786"
             ],
             [
              0.5555555555555556,
              "#d8576b"
             ],
             [
              0.6666666666666666,
              "#ed7953"
             ],
             [
              0.7777777777777778,
              "#fb9f3a"
             ],
             [
              0.8888888888888888,
              "#fdca26"
             ],
             [
              1,
              "#f0f921"
             ]
            ],
            "type": "contour"
           }
          ],
          "contourcarpet": [
           {
            "colorbar": {
             "outlinewidth": 0,
             "ticks": ""
            },
            "type": "contourcarpet"
           }
          ],
          "heatmap": [
           {
            "colorbar": {
             "outlinewidth": 0,
             "ticks": ""
            },
            "colorscale": [
             [
              0,
              "#0d0887"
             ],
             [
              0.1111111111111111,
              "#46039f"
             ],
             [
              0.2222222222222222,
              "#7201a8"
             ],
             [
              0.3333333333333333,
              "#9c179e"
             ],
             [
              0.4444444444444444,
              "#bd3786"
             ],
             [
              0.5555555555555556,
              "#d8576b"
             ],
             [
              0.6666666666666666,
              "#ed7953"
             ],
             [
              0.7777777777777778,
              "#fb9f3a"
             ],
             [
              0.8888888888888888,
              "#fdca26"
             ],
             [
              1,
              "#f0f921"
             ]
            ],
            "type": "heatmap"
           }
          ],
          "heatmapgl": [
           {
            "colorbar": {
             "outlinewidth": 0,
             "ticks": ""
            },
            "colorscale": [
             [
              0,
              "#0d0887"
             ],
             [
              0.1111111111111111,
              "#46039f"
             ],
             [
              0.2222222222222222,
              "#7201a8"
             ],
             [
              0.3333333333333333,
              "#9c179e"
             ],
             [
              0.4444444444444444,
              "#bd3786"
             ],
             [
              0.5555555555555556,
              "#d8576b"
             ],
             [
              0.6666666666666666,
              "#ed7953"
             ],
             [
              0.7777777777777778,
              "#fb9f3a"
             ],
             [
              0.8888888888888888,
              "#fdca26"
             ],
             [
              1,
              "#f0f921"
             ]
            ],
            "type": "heatmapgl"
           }
          ],
          "histogram": [
           {
            "marker": {
             "pattern": {
              "fillmode": "overlay",
              "size": 10,
              "solidity": 0.2
             }
            },
            "type": "histogram"
           }
          ],
          "histogram2d": [
           {
            "colorbar": {
             "outlinewidth": 0,
             "ticks": ""
            },
            "colorscale": [
             [
              0,
              "#0d0887"
             ],
             [
              0.1111111111111111,
              "#46039f"
             ],
             [
              0.2222222222222222,
              "#7201a8"
             ],
             [
              0.3333333333333333,
              "#9c179e"
             ],
             [
              0.4444444444444444,
              "#bd3786"
             ],
             [
              0.5555555555555556,
              "#d8576b"
             ],
             [
              0.6666666666666666,
              "#ed7953"
             ],
             [
              0.7777777777777778,
              "#fb9f3a"
             ],
             [
              0.8888888888888888,
              "#fdca26"
             ],
             [
              1,
              "#f0f921"
             ]
            ],
            "type": "histogram2d"
           }
          ],
          "histogram2dcontour": [
           {
            "colorbar": {
             "outlinewidth": 0,
             "ticks": ""
            },
            "colorscale": [
             [
              0,
              "#0d0887"
             ],
             [
              0.1111111111111111,
              "#46039f"
             ],
             [
              0.2222222222222222,
              "#7201a8"
             ],
             [
              0.3333333333333333,
              "#9c179e"
             ],
             [
              0.4444444444444444,
              "#bd3786"
             ],
             [
              0.5555555555555556,
              "#d8576b"
             ],
             [
              0.6666666666666666,
              "#ed7953"
             ],
             [
              0.7777777777777778,
              "#fb9f3a"
             ],
             [
              0.8888888888888888,
              "#fdca26"
             ],
             [
              1,
              "#f0f921"
             ]
            ],
            "type": "histogram2dcontour"
           }
          ],
          "mesh3d": [
           {
            "colorbar": {
             "outlinewidth": 0,
             "ticks": ""
            },
            "type": "mesh3d"
           }
          ],
          "parcoords": [
           {
            "line": {
             "colorbar": {
              "outlinewidth": 0,
              "ticks": ""
             }
            },
            "type": "parcoords"
           }
          ],
          "pie": [
           {
            "automargin": true,
            "type": "pie"
           }
          ],
          "scatter": [
           {
            "fillpattern": {
             "fillmode": "overlay",
             "size": 10,
             "solidity": 0.2
            },
            "type": "scatter"
           }
          ],
          "scatter3d": [
           {
            "line": {
             "colorbar": {
              "outlinewidth": 0,
              "ticks": ""
             }
            },
            "marker": {
             "colorbar": {
              "outlinewidth": 0,
              "ticks": ""
             }
            },
            "type": "scatter3d"
           }
          ],
          "scattercarpet": [
           {
            "marker": {
             "colorbar": {
              "outlinewidth": 0,
              "ticks": ""
             }
            },
            "type": "scattercarpet"
           }
          ],
          "scattergeo": [
           {
            "marker": {
             "colorbar": {
              "outlinewidth": 0,
              "ticks": ""
             }
            },
            "type": "scattergeo"
           }
          ],
          "scattergl": [
           {
            "marker": {
             "colorbar": {
              "outlinewidth": 0,
              "ticks": ""
             }
            },
            "type": "scattergl"
           }
          ],
          "scattermapbox": [
           {
            "marker": {
             "colorbar": {
              "outlinewidth": 0,
              "ticks": ""
             }
            },
            "type": "scattermapbox"
           }
          ],
          "scatterpolar": [
           {
            "marker": {
             "colorbar": {
              "outlinewidth": 0,
              "ticks": ""
             }
            },
            "type": "scatterpolar"
           }
          ],
          "scatterpolargl": [
           {
            "marker": {
             "colorbar": {
              "outlinewidth": 0,
              "ticks": ""
             }
            },
            "type": "scatterpolargl"
           }
          ],
          "scatterternary": [
           {
            "marker": {
             "colorbar": {
              "outlinewidth": 0,
              "ticks": ""
             }
            },
            "type": "scatterternary"
           }
          ],
          "surface": [
           {
            "colorbar": {
             "outlinewidth": 0,
             "ticks": ""
            },
            "colorscale": [
             [
              0,
              "#0d0887"
             ],
             [
              0.1111111111111111,
              "#46039f"
             ],
             [
              0.2222222222222222,
              "#7201a8"
             ],
             [
              0.3333333333333333,
              "#9c179e"
             ],
             [
              0.4444444444444444,
              "#bd3786"
             ],
             [
              0.5555555555555556,
              "#d8576b"
             ],
             [
              0.6666666666666666,
              "#ed7953"
             ],
             [
              0.7777777777777778,
              "#fb9f3a"
             ],
             [
              0.8888888888888888,
              "#fdca26"
             ],
             [
              1,
              "#f0f921"
             ]
            ],
            "type": "surface"
           }
          ],
          "table": [
           {
            "cells": {
             "fill": {
              "color": "#EBF0F8"
             },
             "line": {
              "color": "white"
             }
            },
            "header": {
             "fill": {
              "color": "#C8D4E3"
             },
             "line": {
              "color": "white"
             }
            },
            "type": "table"
           }
          ]
         },
         "layout": {
          "annotationdefaults": {
           "arrowcolor": "#2a3f5f",
           "arrowhead": 0,
           "arrowwidth": 1
          },
          "autotypenumbers": "strict",
          "coloraxis": {
           "colorbar": {
            "outlinewidth": 0,
            "ticks": ""
           }
          },
          "colorscale": {
           "diverging": [
            [
             0,
             "#8e0152"
            ],
            [
             0.1,
             "#c51b7d"
            ],
            [
             0.2,
             "#de77ae"
            ],
            [
             0.3,
             "#f1b6da"
            ],
            [
             0.4,
             "#fde0ef"
            ],
            [
             0.5,
             "#f7f7f7"
            ],
            [
             0.6,
             "#e6f5d0"
            ],
            [
             0.7,
             "#b8e186"
            ],
            [
             0.8,
             "#7fbc41"
            ],
            [
             0.9,
             "#4d9221"
            ],
            [
             1,
             "#276419"
            ]
           ],
           "sequential": [
            [
             0,
             "#0d0887"
            ],
            [
             0.1111111111111111,
             "#46039f"
            ],
            [
             0.2222222222222222,
             "#7201a8"
            ],
            [
             0.3333333333333333,
             "#9c179e"
            ],
            [
             0.4444444444444444,
             "#bd3786"
            ],
            [
             0.5555555555555556,
             "#d8576b"
            ],
            [
             0.6666666666666666,
             "#ed7953"
            ],
            [
             0.7777777777777778,
             "#fb9f3a"
            ],
            [
             0.8888888888888888,
             "#fdca26"
            ],
            [
             1,
             "#f0f921"
            ]
           ],
           "sequentialminus": [
            [
             0,
             "#0d0887"
            ],
            [
             0.1111111111111111,
             "#46039f"
            ],
            [
             0.2222222222222222,
             "#7201a8"
            ],
            [
             0.3333333333333333,
             "#9c179e"
            ],
            [
             0.4444444444444444,
             "#bd3786"
            ],
            [
             0.5555555555555556,
             "#d8576b"
            ],
            [
             0.6666666666666666,
             "#ed7953"
            ],
            [
             0.7777777777777778,
             "#fb9f3a"
            ],
            [
             0.8888888888888888,
             "#fdca26"
            ],
            [
             1,
             "#f0f921"
            ]
           ]
          },
          "colorway": [
           "#636efa",
           "#EF553B",
           "#00cc96",
           "#ab63fa",
           "#FFA15A",
           "#19d3f3",
           "#FF6692",
           "#B6E880",
           "#FF97FF",
           "#FECB52"
          ],
          "font": {
           "color": "#2a3f5f"
          },
          "geo": {
           "bgcolor": "white",
           "lakecolor": "white",
           "landcolor": "#E5ECF6",
           "showlakes": true,
           "showland": true,
           "subunitcolor": "white"
          },
          "hoverlabel": {
           "align": "left"
          },
          "hovermode": "closest",
          "mapbox": {
           "style": "light"
          },
          "paper_bgcolor": "white",
          "plot_bgcolor": "#E5ECF6",
          "polar": {
           "angularaxis": {
            "gridcolor": "white",
            "linecolor": "white",
            "ticks": ""
           },
           "bgcolor": "#E5ECF6",
           "radialaxis": {
            "gridcolor": "white",
            "linecolor": "white",
            "ticks": ""
           }
          },
          "scene": {
           "xaxis": {
            "backgroundcolor": "#E5ECF6",
            "gridcolor": "white",
            "gridwidth": 2,
            "linecolor": "white",
            "showbackground": true,
            "ticks": "",
            "zerolinecolor": "white"
           },
           "yaxis": {
            "backgroundcolor": "#E5ECF6",
            "gridcolor": "white",
            "gridwidth": 2,
            "linecolor": "white",
            "showbackground": true,
            "ticks": "",
            "zerolinecolor": "white"
           },
           "zaxis": {
            "backgroundcolor": "#E5ECF6",
            "gridcolor": "white",
            "gridwidth": 2,
            "linecolor": "white",
            "showbackground": true,
            "ticks": "",
            "zerolinecolor": "white"
           }
          },
          "shapedefaults": {
           "line": {
            "color": "#2a3f5f"
           }
          },
          "ternary": {
           "aaxis": {
            "gridcolor": "white",
            "linecolor": "white",
            "ticks": ""
           },
           "baxis": {
            "gridcolor": "white",
            "linecolor": "white",
            "ticks": ""
           },
           "bgcolor": "#E5ECF6",
           "caxis": {
            "gridcolor": "white",
            "linecolor": "white",
            "ticks": ""
           }
          },
          "title": {
           "x": 0.05
          },
          "xaxis": {
           "automargin": true,
           "gridcolor": "white",
           "linecolor": "white",
           "ticks": "",
           "title": {
            "standoff": 15
           },
           "zerolinecolor": "white",
           "zerolinewidth": 2
          },
          "yaxis": {
           "automargin": true,
           "gridcolor": "white",
           "linecolor": "white",
           "ticks": "",
           "title": {
            "standoff": 15
           },
           "zerolinecolor": "white",
           "zerolinewidth": 2
          }
         }
        },
        "width": 500,
        "xaxis": {
         "autorange": false,
         "exponentformat": "e",
         "linecolor": "black",
         "linewidth": 1,
         "mirror": false,
         "range": [
          1.882,
          8.018
         ],
         "showexponent": "all",
         "showline": true,
         "side": "bottom",
         "ticks": "outside",
         "title": {
          "text": "Birth"
         },
         "type": "linear",
         "zeroline": true
        },
        "yaxis": {
         "autorange": false,
         "exponentformat": "e",
         "linecolor": "black",
         "linewidth": 1,
         "mirror": false,
         "range": [
          1.882,
          8.018
         ],
         "scaleanchor": "x",
         "scaleratio": 1,
         "showexponent": "all",
         "showline": true,
         "side": "left",
         "ticks": "outside",
         "title": {
          "text": "Death"
         },
         "type": "linear",
         "zeroline": true
        }
       }
      }
     },
     "metadata": {},
     "output_type": "display_data"
    }
   ],
   "source": [
    "vr = VietorisRipsPersistence()\n",
    "xt = vr.fit_transform(xp)\n",
    "vr.plot(xp)"
   ]
  },
  {
   "attachments": {},
   "cell_type": "markdown",
   "metadata": {},
   "source": [
    "Betti Curve"
   ]
  },
  {
   "cell_type": "code",
   "execution_count": 52,
   "metadata": {},
   "outputs": [
    {
     "data": {
      "application/vnd.plotly.v1+json": {
       "config": {
        "plotlyServerURL": "https://plot.ly"
       },
       "data": [
        {
         "mode": "lines",
         "name": "H0",
         "showlegend": true,
         "type": "scatter",
         "x": [
          0,
          0.016566888250485814,
          0.03313377650097163,
          0.04970066475145744,
          0.06626755300194326,
          0.08283444125242907,
          0.09940132950291489,
          0.1159682177534007,
          0.13253510600388652,
          0.14910199425437232,
          0.16566888250485814,
          0.18223577075534397,
          0.19880265900582977,
          0.21536954725631557,
          0.2319364355068014,
          0.24850332375728723,
          0.26507021200777303,
          0.28163710025825883,
          0.29820398850874463,
          0.3147708767592305,
          0.3313377650097163,
          0.3479046532602021,
          0.36447154151068795,
          0.38103842976117375,
          0.39760531801165955,
          0.41417220626214535,
          0.43073909451263115,
          0.447305982763117,
          0.4638728710136028,
          0.4804397592640886,
          0.49700664751457446,
          0.5135735357650603,
          0.5301404240155461,
          0.5467073122660319,
          0.5632742005165177,
          0.5798410887670035,
          0.5964079770174893,
          0.6129748652679752,
          0.629541753518461,
          0.6461086417689468,
          0.6626755300194326,
          0.6792424182699184,
          0.6958093065204042,
          0.71237619477089,
          0.7289430830213759,
          0.7455099712718617,
          0.7620768595223475,
          0.7786437477728333,
          0.7952106360233191,
          0.8117775242738049,
          0.8283444125242907,
          0.8449113007747765,
          0.8614781890252623,
          0.8780450772757482,
          0.894611965526234,
          0.9111788537767198,
          0.9277457420272056,
          0.9443126302776914,
          0.9608795185281772,
          0.977446406778663,
          0.9940132950291489,
          1.0105801832796346,
          1.0271470715301205,
          1.0437139597806062,
          1.0602808480310921,
          1.076847736281578,
          1.0934146245320637,
          1.1099815127825496,
          1.1265484010330353,
          1.1431152892835212,
          1.159682177534007,
          1.1762490657844928,
          1.1928159540349785,
          1.2093828422854644,
          1.2259497305359504,
          1.242516618786436,
          1.259083507036922,
          1.2756503952874076,
          1.2922172835378936,
          1.3087841717883792,
          1.3253510600388652,
          1.341917948289351,
          1.3584848365398368,
          1.3750517247903227,
          1.3916186130408084,
          1.4081855012912943,
          1.42475238954178,
          1.4413192777922659,
          1.4578861660427518,
          1.4744530542932375,
          1.4910199425437234,
          1.507586830794209,
          1.524153719044695,
          1.5407206072951807,
          1.5572874955456666,
          1.5738543837961523,
          1.5904212720466382,
          1.606988160297124,
          1.6235550485476098,
          1.6401219367980957
         ],
         "y": [
          148,
          148,
          148,
          148,
          148,
          148,
          148,
          143,
          143,
          117,
          117,
          110,
          110,
          104,
          92,
          80,
          69,
          69,
          66,
          58,
          52,
          37,
          29,
          26,
          23,
          18,
          16,
          14,
          13,
          13,
          11,
          10,
          9,
          7,
          6,
          6,
          6,
          6,
          5,
          4,
          3,
          3,
          3,
          3,
          3,
          2,
          2,
          2,
          2,
          2,
          1,
          1,
          1,
          1,
          1,
          1,
          1,
          1,
          1,
          1,
          1,
          1,
          1,
          1,
          1,
          1,
          1,
          1,
          1,
          1,
          1,
          1,
          1,
          1,
          1,
          1,
          1,
          1,
          1,
          1,
          1,
          1,
          1,
          1,
          1,
          1,
          1,
          1,
          1,
          1,
          1,
          1,
          1,
          1,
          1,
          1,
          1,
          1,
          1,
          0
         ]
        },
        {
         "mode": "lines",
         "name": "H1",
         "showlegend": true,
         "type": "scatter",
         "x": [
          0.24494896829128265,
          0.2518963311055694,
          0.2588436939198561,
          0.2657910567341429,
          0.27273841954842964,
          0.27968578236271635,
          0.2866331451770031,
          0.2935805079912899,
          0.3005278708055766,
          0.30747523361986334,
          0.31442259643415005,
          0.3213699592484368,
          0.32831732206272357,
          0.33526468487701033,
          0.34221204769129704,
          0.3491594105055838,
          0.3561067733198705,
          0.36305413613415727,
          0.37000149894844403,
          0.3769488617627308,
          0.3838962245770175,
          0.39084358739130426,
          0.39779095020559097,
          0.4047383130198777,
          0.4116856758341645,
          0.41863303864845125,
          0.42558040146273796,
          0.43252776427702466,
          0.4394751270913114,
          0.4464224899055982,
          0.45336985271988495,
          0.4603172155341717,
          0.4672645783484584,
          0.4742119411627451,
          0.4811593039770319,
          0.48810666679131864,
          0.4950540296056054,
          0.5020013924198921,
          0.5089487552341789,
          0.5158961180484656,
          0.5228434808627523,
          0.5297908436770391,
          0.5367382064913259,
          0.5436855693056126,
          0.5506329321198993,
          0.5575802949341861,
          0.5645276577484728,
          0.5714750205627596,
          0.5784223833770463,
          0.585369746191333,
          0.5923171090056198,
          0.5992644718199065,
          0.6062118346341933,
          0.61315919744848,
          0.6201065602627667,
          0.6270539230770535,
          0.6340012858913402,
          0.640948648705627,
          0.6478960115199137,
          0.6548433743342005,
          0.6617907371484872,
          0.6687380999627739,
          0.6756854627770608,
          0.6826328255913474,
          0.6895801884056342,
          0.6965275512199209,
          0.7034749140342076,
          0.7104222768484945,
          0.7173696396627811,
          0.7243170024770679,
          0.7312643652913546,
          0.7382117281056414,
          0.7451590909199282,
          0.7521064537342148,
          0.7590538165485016,
          0.7660011793627883,
          0.7729485421770751,
          0.7798959049913619,
          0.7868432678056486,
          0.7937906306199353,
          0.800737993434222,
          0.8076853562485088,
          0.8146327190627956,
          0.8215800818770823,
          0.8285274446913691,
          0.8354748075056557,
          0.8424221703199425,
          0.8493695331342292,
          0.856316895948516,
          0.8632642587628028,
          0.8702116215770895,
          0.8771589843913762,
          0.884106347205663,
          0.8910537100199497,
          0.8980010728342365,
          0.9049484356485232,
          0.91189579846281,
          0.9188431612770966,
          0.9257905240913834,
          0.9327378869056702
         ],
         "y": [
          2,
          2,
          2,
          2,
          2,
          2,
          2,
          2,
          4,
          4,
          4,
          5,
          5,
          1,
          1,
          1,
          1,
          3,
          3,
          7,
          7,
          6,
          6,
          6,
          6,
          5,
          5,
          5,
          7,
          7,
          7,
          6,
          6,
          3,
          2,
          2,
          2,
          2,
          2,
          2,
          1,
          1,
          1,
          0,
          1,
          2,
          2,
          2,
          2,
          2,
          2,
          2,
          2,
          1,
          1,
          1,
          1,
          1,
          1,
          1,
          1,
          1,
          1,
          0,
          0,
          0,
          0,
          0,
          0,
          0,
          0,
          0,
          0,
          0,
          0,
          0,
          0,
          0,
          0,
          0,
          0,
          0,
          0,
          0,
          0,
          0,
          0,
          0,
          0,
          1,
          1,
          1,
          1,
          1,
          1,
          1,
          1,
          1,
          1,
          0
         ]
        }
       ],
       "layout": {
        "plot_bgcolor": "white",
        "template": {
         "data": {
          "bar": [
           {
            "error_x": {
             "color": "#2a3f5f"
            },
            "error_y": {
             "color": "#2a3f5f"
            },
            "marker": {
             "line": {
              "color": "#E5ECF6",
              "width": 0.5
             },
             "pattern": {
              "fillmode": "overlay",
              "size": 10,
              "solidity": 0.2
             }
            },
            "type": "bar"
           }
          ],
          "barpolar": [
           {
            "marker": {
             "line": {
              "color": "#E5ECF6",
              "width": 0.5
             },
             "pattern": {
              "fillmode": "overlay",
              "size": 10,
              "solidity": 0.2
             }
            },
            "type": "barpolar"
           }
          ],
          "carpet": [
           {
            "aaxis": {
             "endlinecolor": "#2a3f5f",
             "gridcolor": "white",
             "linecolor": "white",
             "minorgridcolor": "white",
             "startlinecolor": "#2a3f5f"
            },
            "baxis": {
             "endlinecolor": "#2a3f5f",
             "gridcolor": "white",
             "linecolor": "white",
             "minorgridcolor": "white",
             "startlinecolor": "#2a3f5f"
            },
            "type": "carpet"
           }
          ],
          "choropleth": [
           {
            "colorbar": {
             "outlinewidth": 0,
             "ticks": ""
            },
            "type": "choropleth"
           }
          ],
          "contour": [
           {
            "colorbar": {
             "outlinewidth": 0,
             "ticks": ""
            },
            "colorscale": [
             [
              0,
              "#0d0887"
             ],
             [
              0.1111111111111111,
              "#46039f"
             ],
             [
              0.2222222222222222,
              "#7201a8"
             ],
             [
              0.3333333333333333,
              "#9c179e"
             ],
             [
              0.4444444444444444,
              "#bd3786"
             ],
             [
              0.5555555555555556,
              "#d8576b"
             ],
             [
              0.6666666666666666,
              "#ed7953"
             ],
             [
              0.7777777777777778,
              "#fb9f3a"
             ],
             [
              0.8888888888888888,
              "#fdca26"
             ],
             [
              1,
              "#f0f921"
             ]
            ],
            "type": "contour"
           }
          ],
          "contourcarpet": [
           {
            "colorbar": {
             "outlinewidth": 0,
             "ticks": ""
            },
            "type": "contourcarpet"
           }
          ],
          "heatmap": [
           {
            "colorbar": {
             "outlinewidth": 0,
             "ticks": ""
            },
            "colorscale": [
             [
              0,
              "#0d0887"
             ],
             [
              0.1111111111111111,
              "#46039f"
             ],
             [
              0.2222222222222222,
              "#7201a8"
             ],
             [
              0.3333333333333333,
              "#9c179e"
             ],
             [
              0.4444444444444444,
              "#bd3786"
             ],
             [
              0.5555555555555556,
              "#d8576b"
             ],
             [
              0.6666666666666666,
              "#ed7953"
             ],
             [
              0.7777777777777778,
              "#fb9f3a"
             ],
             [
              0.8888888888888888,
              "#fdca26"
             ],
             [
              1,
              "#f0f921"
             ]
            ],
            "type": "heatmap"
           }
          ],
          "heatmapgl": [
           {
            "colorbar": {
             "outlinewidth": 0,
             "ticks": ""
            },
            "colorscale": [
             [
              0,
              "#0d0887"
             ],
             [
              0.1111111111111111,
              "#46039f"
             ],
             [
              0.2222222222222222,
              "#7201a8"
             ],
             [
              0.3333333333333333,
              "#9c179e"
             ],
             [
              0.4444444444444444,
              "#bd3786"
             ],
             [
              0.5555555555555556,
              "#d8576b"
             ],
             [
              0.6666666666666666,
              "#ed7953"
             ],
             [
              0.7777777777777778,
              "#fb9f3a"
             ],
             [
              0.8888888888888888,
              "#fdca26"
             ],
             [
              1,
              "#f0f921"
             ]
            ],
            "type": "heatmapgl"
           }
          ],
          "histogram": [
           {
            "marker": {
             "pattern": {
              "fillmode": "overlay",
              "size": 10,
              "solidity": 0.2
             }
            },
            "type": "histogram"
           }
          ],
          "histogram2d": [
           {
            "colorbar": {
             "outlinewidth": 0,
             "ticks": ""
            },
            "colorscale": [
             [
              0,
              "#0d0887"
             ],
             [
              0.1111111111111111,
              "#46039f"
             ],
             [
              0.2222222222222222,
              "#7201a8"
             ],
             [
              0.3333333333333333,
              "#9c179e"
             ],
             [
              0.4444444444444444,
              "#bd3786"
             ],
             [
              0.5555555555555556,
              "#d8576b"
             ],
             [
              0.6666666666666666,
              "#ed7953"
             ],
             [
              0.7777777777777778,
              "#fb9f3a"
             ],
             [
              0.8888888888888888,
              "#fdca26"
             ],
             [
              1,
              "#f0f921"
             ]
            ],
            "type": "histogram2d"
           }
          ],
          "histogram2dcontour": [
           {
            "colorbar": {
             "outlinewidth": 0,
             "ticks": ""
            },
            "colorscale": [
             [
              0,
              "#0d0887"
             ],
             [
              0.1111111111111111,
              "#46039f"
             ],
             [
              0.2222222222222222,
              "#7201a8"
             ],
             [
              0.3333333333333333,
              "#9c179e"
             ],
             [
              0.4444444444444444,
              "#bd3786"
             ],
             [
              0.5555555555555556,
              "#d8576b"
             ],
             [
              0.6666666666666666,
              "#ed7953"
             ],
             [
              0.7777777777777778,
              "#fb9f3a"
             ],
             [
              0.8888888888888888,
              "#fdca26"
             ],
             [
              1,
              "#f0f921"
             ]
            ],
            "type": "histogram2dcontour"
           }
          ],
          "mesh3d": [
           {
            "colorbar": {
             "outlinewidth": 0,
             "ticks": ""
            },
            "type": "mesh3d"
           }
          ],
          "parcoords": [
           {
            "line": {
             "colorbar": {
              "outlinewidth": 0,
              "ticks": ""
             }
            },
            "type": "parcoords"
           }
          ],
          "pie": [
           {
            "automargin": true,
            "type": "pie"
           }
          ],
          "scatter": [
           {
            "fillpattern": {
             "fillmode": "overlay",
             "size": 10,
             "solidity": 0.2
            },
            "type": "scatter"
           }
          ],
          "scatter3d": [
           {
            "line": {
             "colorbar": {
              "outlinewidth": 0,
              "ticks": ""
             }
            },
            "marker": {
             "colorbar": {
              "outlinewidth": 0,
              "ticks": ""
             }
            },
            "type": "scatter3d"
           }
          ],
          "scattercarpet": [
           {
            "marker": {
             "colorbar": {
              "outlinewidth": 0,
              "ticks": ""
             }
            },
            "type": "scattercarpet"
           }
          ],
          "scattergeo": [
           {
            "marker": {
             "colorbar": {
              "outlinewidth": 0,
              "ticks": ""
             }
            },
            "type": "scattergeo"
           }
          ],
          "scattergl": [
           {
            "marker": {
             "colorbar": {
              "outlinewidth": 0,
              "ticks": ""
             }
            },
            "type": "scattergl"
           }
          ],
          "scattermapbox": [
           {
            "marker": {
             "colorbar": {
              "outlinewidth": 0,
              "ticks": ""
             }
            },
            "type": "scattermapbox"
           }
          ],
          "scatterpolar": [
           {
            "marker": {
             "colorbar": {
              "outlinewidth": 0,
              "ticks": ""
             }
            },
            "type": "scatterpolar"
           }
          ],
          "scatterpolargl": [
           {
            "marker": {
             "colorbar": {
              "outlinewidth": 0,
              "ticks": ""
             }
            },
            "type": "scatterpolargl"
           }
          ],
          "scatterternary": [
           {
            "marker": {
             "colorbar": {
              "outlinewidth": 0,
              "ticks": ""
             }
            },
            "type": "scatterternary"
           }
          ],
          "surface": [
           {
            "colorbar": {
             "outlinewidth": 0,
             "ticks": ""
            },
            "colorscale": [
             [
              0,
              "#0d0887"
             ],
             [
              0.1111111111111111,
              "#46039f"
             ],
             [
              0.2222222222222222,
              "#7201a8"
             ],
             [
              0.3333333333333333,
              "#9c179e"
             ],
             [
              0.4444444444444444,
              "#bd3786"
             ],
             [
              0.5555555555555556,
              "#d8576b"
             ],
             [
              0.6666666666666666,
              "#ed7953"
             ],
             [
              0.7777777777777778,
              "#fb9f3a"
             ],
             [
              0.8888888888888888,
              "#fdca26"
             ],
             [
              1,
              "#f0f921"
             ]
            ],
            "type": "surface"
           }
          ],
          "table": [
           {
            "cells": {
             "fill": {
              "color": "#EBF0F8"
             },
             "line": {
              "color": "white"
             }
            },
            "header": {
             "fill": {
              "color": "#C8D4E3"
             },
             "line": {
              "color": "white"
             }
            },
            "type": "table"
           }
          ]
         },
         "layout": {
          "annotationdefaults": {
           "arrowcolor": "#2a3f5f",
           "arrowhead": 0,
           "arrowwidth": 1
          },
          "autotypenumbers": "strict",
          "coloraxis": {
           "colorbar": {
            "outlinewidth": 0,
            "ticks": ""
           }
          },
          "colorscale": {
           "diverging": [
            [
             0,
             "#8e0152"
            ],
            [
             0.1,
             "#c51b7d"
            ],
            [
             0.2,
             "#de77ae"
            ],
            [
             0.3,
             "#f1b6da"
            ],
            [
             0.4,
             "#fde0ef"
            ],
            [
             0.5,
             "#f7f7f7"
            ],
            [
             0.6,
             "#e6f5d0"
            ],
            [
             0.7,
             "#b8e186"
            ],
            [
             0.8,
             "#7fbc41"
            ],
            [
             0.9,
             "#4d9221"
            ],
            [
             1,
             "#276419"
            ]
           ],
           "sequential": [
            [
             0,
             "#0d0887"
            ],
            [
             0.1111111111111111,
             "#46039f"
            ],
            [
             0.2222222222222222,
             "#7201a8"
            ],
            [
             0.3333333333333333,
             "#9c179e"
            ],
            [
             0.4444444444444444,
             "#bd3786"
            ],
            [
             0.5555555555555556,
             "#d8576b"
            ],
            [
             0.6666666666666666,
             "#ed7953"
            ],
            [
             0.7777777777777778,
             "#fb9f3a"
            ],
            [
             0.8888888888888888,
             "#fdca26"
            ],
            [
             1,
             "#f0f921"
            ]
           ],
           "sequentialminus": [
            [
             0,
             "#0d0887"
            ],
            [
             0.1111111111111111,
             "#46039f"
            ],
            [
             0.2222222222222222,
             "#7201a8"
            ],
            [
             0.3333333333333333,
             "#9c179e"
            ],
            [
             0.4444444444444444,
             "#bd3786"
            ],
            [
             0.5555555555555556,
             "#d8576b"
            ],
            [
             0.6666666666666666,
             "#ed7953"
            ],
            [
             0.7777777777777778,
             "#fb9f3a"
            ],
            [
             0.8888888888888888,
             "#fdca26"
            ],
            [
             1,
             "#f0f921"
            ]
           ]
          },
          "colorway": [
           "#636efa",
           "#EF553B",
           "#00cc96",
           "#ab63fa",
           "#FFA15A",
           "#19d3f3",
           "#FF6692",
           "#B6E880",
           "#FF97FF",
           "#FECB52"
          ],
          "font": {
           "color": "#2a3f5f"
          },
          "geo": {
           "bgcolor": "white",
           "lakecolor": "white",
           "landcolor": "#E5ECF6",
           "showlakes": true,
           "showland": true,
           "subunitcolor": "white"
          },
          "hoverlabel": {
           "align": "left"
          },
          "hovermode": "closest",
          "mapbox": {
           "style": "light"
          },
          "paper_bgcolor": "white",
          "plot_bgcolor": "#E5ECF6",
          "polar": {
           "angularaxis": {
            "gridcolor": "white",
            "linecolor": "white",
            "ticks": ""
           },
           "bgcolor": "#E5ECF6",
           "radialaxis": {
            "gridcolor": "white",
            "linecolor": "white",
            "ticks": ""
           }
          },
          "scene": {
           "xaxis": {
            "backgroundcolor": "#E5ECF6",
            "gridcolor": "white",
            "gridwidth": 2,
            "linecolor": "white",
            "showbackground": true,
            "ticks": "",
            "zerolinecolor": "white"
           },
           "yaxis": {
            "backgroundcolor": "#E5ECF6",
            "gridcolor": "white",
            "gridwidth": 2,
            "linecolor": "white",
            "showbackground": true,
            "ticks": "",
            "zerolinecolor": "white"
           },
           "zaxis": {
            "backgroundcolor": "#E5ECF6",
            "gridcolor": "white",
            "gridwidth": 2,
            "linecolor": "white",
            "showbackground": true,
            "ticks": "",
            "zerolinecolor": "white"
           }
          },
          "shapedefaults": {
           "line": {
            "color": "#2a3f5f"
           }
          },
          "ternary": {
           "aaxis": {
            "gridcolor": "white",
            "linecolor": "white",
            "ticks": ""
           },
           "baxis": {
            "gridcolor": "white",
            "linecolor": "white",
            "ticks": ""
           },
           "bgcolor": "#E5ECF6",
           "caxis": {
            "gridcolor": "white",
            "linecolor": "white",
            "ticks": ""
           }
          },
          "title": {
           "x": 0.05
          },
          "xaxis": {
           "automargin": true,
           "gridcolor": "white",
           "linecolor": "white",
           "ticks": "",
           "title": {
            "standoff": 15
           },
           "zerolinecolor": "white",
           "zerolinewidth": 2
          },
          "yaxis": {
           "automargin": true,
           "gridcolor": "white",
           "linecolor": "white",
           "ticks": "",
           "title": {
            "standoff": 15
           },
           "zerolinecolor": "white",
           "zerolinewidth": 2
          }
         }
        },
        "title": {
         "text": "Betti curves from diagram 0"
        },
        "xaxis": {
         "anchor": "y",
         "exponentformat": "e",
         "linecolor": "black",
         "linewidth": 1,
         "mirror": false,
         "showexponent": "all",
         "showline": true,
         "side": "bottom",
         "ticks": "outside",
         "title": {
          "text": "Filtration parameter"
         },
         "type": "linear",
         "zeroline": true
        },
        "yaxis": {
         "anchor": "x",
         "exponentformat": "e",
         "linecolor": "black",
         "linewidth": 1,
         "mirror": false,
         "showexponent": "all",
         "showline": true,
         "side": "left",
         "ticks": "outside",
         "title": {
          "text": "Betti number"
         },
         "type": "linear",
         "zeroline": true
        }
       }
      }
     },
     "metadata": {},
     "output_type": "display_data"
    }
   ],
   "source": [
    "bc = BettiCurve()\n",
    "x_betti_curve = bc.fit_transform_plot(xt)"
   ]
  },
  {
   "attachments": {},
   "cell_type": "markdown",
   "metadata": {},
   "source": [
    "Landscape persistence"
   ]
  },
  {
   "cell_type": "code",
   "execution_count": 53,
   "metadata": {},
   "outputs": [
    {
     "data": {
      "application/vnd.plotly.v1+json": {
       "config": {
        "plotlyServerURL": "https://plot.ly"
       },
       "data": [
        {
         "hoverinfo": "none",
         "mode": "lines",
         "name": "Layer 1 (H0)",
         "showlegend": true,
         "type": "scatter",
         "x": [
          0,
          0.016566888250485814,
          0.03313377650097163,
          0.04970066475145744,
          0.06626755300194326,
          0.08283444125242907,
          0.09940132950291489,
          0.1159682177534007,
          0.13253510600388652,
          0.14910199425437232,
          0.16566888250485814,
          0.18223577075534397,
          0.19880265900582977,
          0.21536954725631557,
          0.2319364355068014,
          0.24850332375728723,
          0.26507021200777303,
          0.28163710025825883,
          0.29820398850874463,
          0.3147708767592305,
          0.3313377650097163,
          0.3479046532602021,
          0.36447154151068795,
          0.38103842976117375,
          0.39760531801165955,
          0.41417220626214535,
          0.43073909451263115,
          0.447305982763117,
          0.4638728710136028,
          0.4804397592640886,
          0.49700664751457446,
          0.5135735357650603,
          0.5301404240155461,
          0.5467073122660319,
          0.5632742005165177,
          0.5798410887670035,
          0.5964079770174893,
          0.6129748652679752,
          0.629541753518461,
          0.6461086417689468,
          0.6626755300194326,
          0.6792424182699184,
          0.6958093065204042,
          0.71237619477089,
          0.7289430830213759,
          0.7455099712718617,
          0.7620768595223475,
          0.7786437477728333,
          0.7952106360233191,
          0.8117775242738049,
          0.8283444125242907,
          0.8449113007747765,
          0.8614781890252623,
          0.8780450772757482,
          0.894611965526234,
          0.9111788537767198,
          0.9277457420272056,
          0.9443126302776914,
          0.9608795185281772,
          0.977446406778663,
          0.9940132950291489,
          1.0105801832796346,
          1.0271470715301205,
          1.0437139597806062,
          1.0602808480310921,
          1.076847736281578,
          1.0934146245320637,
          1.1099815127825496,
          1.1265484010330353,
          1.1431152892835212,
          1.159682177534007,
          1.1762490657844928,
          1.1928159540349785,
          1.2093828422854644,
          1.2259497305359504,
          1.242516618786436,
          1.259083507036922,
          1.2756503952874076,
          1.2922172835378936,
          1.3087841717883792,
          1.3253510600388652,
          1.341917948289351,
          1.3584848365398368,
          1.3750517247903227,
          1.3916186130408084,
          1.4081855012912943,
          1.42475238954178,
          1.4413192777922659,
          1.4578861660427518,
          1.4744530542932375,
          1.4910199425437234,
          1.507586830794209,
          1.524153719044695,
          1.5407206072951807,
          1.5572874955456666,
          1.5738543837961523,
          1.5904212720466382,
          1.606988160297124,
          1.6235550485476098,
          1.6401219367980957
         ],
         "xaxis": "x",
         "y": [
          0,
          0.016566888250485814,
          0.03313377650097163,
          0.04970066475145746,
          0.06626755300194326,
          0.08283444125242911,
          0.09940132950291491,
          0.11596821775340072,
          0.13253510600388652,
          0.14910199425437232,
          0.16566888250485814,
          0.18223577075534397,
          0.19880265900582983,
          0.21536954725631557,
          0.23193643550680143,
          0.24850332375728723,
          0.26507021200777303,
          0.28163710025825883,
          0.29820398850874463,
          0.31477087675923054,
          0.3313377650097163,
          0.3479046532602021,
          0.36447154151068795,
          0.38103842976117375,
          0.39760531801165955,
          0.41417220626214535,
          0.43073909451263115,
          0.447305982763117,
          0.4638728710136028,
          0.4804397592640886,
          0.49700664751457446,
          0.5135735357650603,
          0.5301404240155461,
          0.5467073122660319,
          0.5632742005165177,
          0.5798410887670035,
          0.5964079770174893,
          0.6129748652679752,
          0.629541753518461,
          0.6461086417689468,
          0.6626755300194326,
          0.6792424182699184,
          0.6958093065204042,
          0.71237619477089,
          0.7289430830213759,
          0.7455099712718617,
          0.7620768595223475,
          0.7786437477728333,
          0.7952106360233191,
          0.8117775242738049,
          0.811777524273805,
          0.7952106360233192,
          0.7786437477728334,
          0.7620768595223475,
          0.7455099712718617,
          0.7289430830213759,
          0.7123761947708901,
          0.6958093065204043,
          0.6792424182699185,
          0.6626755300194327,
          0.6461086417689468,
          0.6295417535184611,
          0.6129748652679752,
          0.5964079770174895,
          0.5798410887670036,
          0.5632742005165177,
          0.546707312266032,
          0.5301404240155461,
          0.5135735357650604,
          0.49700664751457446,
          0.4804397592640888,
          0.46387287101360286,
          0.44730598276311717,
          0.43073909451263126,
          0.41417220626214535,
          0.39760531801165966,
          0.38103842976117375,
          0.36447154151068806,
          0.34790465326020215,
          0.33133776500971646,
          0.31477087675923054,
          0.29820398850874463,
          0.28163710025825894,
          0.26507021200777303,
          0.24850332375728734,
          0.23193643550680143,
          0.21536954725631574,
          0.19880265900582983,
          0.18223577075534392,
          0.16566888250485823,
          0.14910199425437232,
          0.13253510600388663,
          0.11596821775340072,
          0.09940132950291503,
          0.08283444125242911,
          0.06626755300194342,
          0.04970066475145751,
          0.0331337765009716,
          0.01656688825048591,
          0
         ],
         "yaxis": "y"
        },
        {
         "hoverinfo": "none",
         "mode": "lines",
         "name": "Layer 1 (H1)",
         "showlegend": true,
         "type": "scatter",
         "x": [
          0.24494896829128265,
          0.2518963311055694,
          0.2588436939198561,
          0.2657910567341429,
          0.27273841954842964,
          0.27968578236271635,
          0.2866331451770031,
          0.2935805079912899,
          0.3005278708055766,
          0.30747523361986334,
          0.31442259643415005,
          0.3213699592484368,
          0.32831732206272357,
          0.33526468487701033,
          0.34221204769129704,
          0.3491594105055838,
          0.3561067733198705,
          0.36305413613415727,
          0.37000149894844403,
          0.3769488617627308,
          0.3838962245770175,
          0.39084358739130426,
          0.39779095020559097,
          0.4047383130198777,
          0.4116856758341645,
          0.41863303864845125,
          0.42558040146273796,
          0.43252776427702466,
          0.4394751270913114,
          0.4464224899055982,
          0.45336985271988495,
          0.4603172155341717,
          0.4672645783484584,
          0.4742119411627451,
          0.4811593039770319,
          0.48810666679131864,
          0.4950540296056054,
          0.5020013924198921,
          0.5089487552341789,
          0.5158961180484656,
          0.5228434808627523,
          0.5297908436770391,
          0.5367382064913259,
          0.5436855693056126,
          0.5506329321198993,
          0.5575802949341861,
          0.5645276577484728,
          0.5714750205627596,
          0.5784223833770463,
          0.585369746191333,
          0.5923171090056198,
          0.5992644718199065,
          0.6062118346341933,
          0.61315919744848,
          0.6201065602627667,
          0.6270539230770535,
          0.6340012858913402,
          0.640948648705627,
          0.6478960115199137,
          0.6548433743342005,
          0.6617907371484872,
          0.6687380999627739,
          0.6756854627770608,
          0.6826328255913474,
          0.6895801884056342,
          0.6965275512199209,
          0.7034749140342076,
          0.7104222768484945,
          0.7173696396627811,
          0.7243170024770679,
          0.7312643652913546,
          0.7382117281056414,
          0.7451590909199282,
          0.7521064537342148,
          0.7590538165485016,
          0.7660011793627883,
          0.7729485421770751,
          0.7798959049913619,
          0.7868432678056486,
          0.7937906306199353,
          0.800737993434222,
          0.8076853562485088,
          0.8146327190627956,
          0.8215800818770823,
          0.8285274446913691,
          0.8354748075056557,
          0.8424221703199425,
          0.8493695331342292,
          0.856316895948516,
          0.8632642587628028,
          0.8702116215770895,
          0.8771589843913762,
          0.884106347205663,
          0.8910537100199497,
          0.8980010728342365,
          0.9049484356485232,
          0.91189579846281,
          0.9188431612770966,
          0.9257905240913834,
          0.9327378869056702
         ],
         "xaxis": "x2",
         "y": [
          0,
          0.006947362814286762,
          0.013894725628573468,
          0.02084208844286023,
          0.02778945125714699,
          0.0347368140714337,
          0.04168417688572046,
          0.038081968071484784,
          0.031134605257198078,
          0.024187242442911316,
          0.01723987962862461,
          0.010292516814337849,
          0.012089558171503478,
          0.011145470419315351,
          0.004198107605028645,
          0.002749255209258117,
          0.009696618023544823,
          0.016643980837831585,
          0.023591343652118346,
          0.030538706466405108,
          0.028414345901421834,
          0.030288445227073912,
          0.03723580804136062,
          0.04418317085564738,
          0.0465718801274444,
          0.03962451731315764,
          0.03267715449887093,
          0.025729791684584224,
          0.018782428870297463,
          0.02215841653371098,
          0.02910577934799774,
          0.0360531421622845,
          0.04300050497657121,
          0.049947867790857914,
          0.04799094359682066,
          0.041043580782533895,
          0.03409621796824713,
          0.027148855153960483,
          0.02020149233967361,
          0.01325412952538696,
          0.006306766711100198,
          0.0006405961031865637,
          0.0017782553578867821,
          0,
          0.002910354071193222,
          0.009857716885480095,
          0.016805079699766745,
          0.023752442514053507,
          0.029853864601164126,
          0.022906501786877476,
          0.015959138972590603,
          0.009011776158303952,
          0.014603846753486471,
          0.021551209567773233,
          0.028498572382059884,
          0.035445935196346756,
          0.04239329801063341,
          0.03728437875256396,
          0.0303370159382772,
          0.02338965312399044,
          0.016442290309703678,
          0.009494927495417027,
          0.0025475646811301544,
          0,
          0,
          0,
          0,
          0,
          0,
          0,
          0,
          0,
          0,
          0,
          0,
          0,
          0,
          0,
          0,
          0,
          0,
          0,
          0,
          0,
          0,
          0,
          0,
          0,
          0,
          0.003031726738419227,
          0.009979089552705989,
          0.01692645236699264,
          0.0238738151812794,
          0.030821177995566162,
          0.0347368140714337,
          0.027789451257146935,
          0.020842088442860174,
          0.013894725628573523,
          0.006947362814286762,
          0
         ],
         "yaxis": "y2"
        }
       ],
       "layout": {
        "annotations": [
         {
          "font": {
           "size": 16
          },
          "showarrow": false,
          "text": "H0",
          "x": 0.5,
          "xanchor": "center",
          "xref": "paper",
          "y": 1,
          "yanchor": "bottom",
          "yref": "paper"
         },
         {
          "font": {
           "size": 16
          },
          "showarrow": false,
          "text": "H1",
          "x": 0.5,
          "xanchor": "center",
          "xref": "paper",
          "y": 0.375,
          "yanchor": "bottom",
          "yref": "paper"
         }
        ],
        "plot_bgcolor": "white",
        "template": {
         "data": {
          "bar": [
           {
            "error_x": {
             "color": "#2a3f5f"
            },
            "error_y": {
             "color": "#2a3f5f"
            },
            "marker": {
             "line": {
              "color": "#E5ECF6",
              "width": 0.5
             },
             "pattern": {
              "fillmode": "overlay",
              "size": 10,
              "solidity": 0.2
             }
            },
            "type": "bar"
           }
          ],
          "barpolar": [
           {
            "marker": {
             "line": {
              "color": "#E5ECF6",
              "width": 0.5
             },
             "pattern": {
              "fillmode": "overlay",
              "size": 10,
              "solidity": 0.2
             }
            },
            "type": "barpolar"
           }
          ],
          "carpet": [
           {
            "aaxis": {
             "endlinecolor": "#2a3f5f",
             "gridcolor": "white",
             "linecolor": "white",
             "minorgridcolor": "white",
             "startlinecolor": "#2a3f5f"
            },
            "baxis": {
             "endlinecolor": "#2a3f5f",
             "gridcolor": "white",
             "linecolor": "white",
             "minorgridcolor": "white",
             "startlinecolor": "#2a3f5f"
            },
            "type": "carpet"
           }
          ],
          "choropleth": [
           {
            "colorbar": {
             "outlinewidth": 0,
             "ticks": ""
            },
            "type": "choropleth"
           }
          ],
          "contour": [
           {
            "colorbar": {
             "outlinewidth": 0,
             "ticks": ""
            },
            "colorscale": [
             [
              0,
              "#0d0887"
             ],
             [
              0.1111111111111111,
              "#46039f"
             ],
             [
              0.2222222222222222,
              "#7201a8"
             ],
             [
              0.3333333333333333,
              "#9c179e"
             ],
             [
              0.4444444444444444,
              "#bd3786"
             ],
             [
              0.5555555555555556,
              "#d8576b"
             ],
             [
              0.6666666666666666,
              "#ed7953"
             ],
             [
              0.7777777777777778,
              "#fb9f3a"
             ],
             [
              0.8888888888888888,
              "#fdca26"
             ],
             [
              1,
              "#f0f921"
             ]
            ],
            "type": "contour"
           }
          ],
          "contourcarpet": [
           {
            "colorbar": {
             "outlinewidth": 0,
             "ticks": ""
            },
            "type": "contourcarpet"
           }
          ],
          "heatmap": [
           {
            "colorbar": {
             "outlinewidth": 0,
             "ticks": ""
            },
            "colorscale": [
             [
              0,
              "#0d0887"
             ],
             [
              0.1111111111111111,
              "#46039f"
             ],
             [
              0.2222222222222222,
              "#7201a8"
             ],
             [
              0.3333333333333333,
              "#9c179e"
             ],
             [
              0.4444444444444444,
              "#bd3786"
             ],
             [
              0.5555555555555556,
              "#d8576b"
             ],
             [
              0.6666666666666666,
              "#ed7953"
             ],
             [
              0.7777777777777778,
              "#fb9f3a"
             ],
             [
              0.8888888888888888,
              "#fdca26"
             ],
             [
              1,
              "#f0f921"
             ]
            ],
            "type": "heatmap"
           }
          ],
          "heatmapgl": [
           {
            "colorbar": {
             "outlinewidth": 0,
             "ticks": ""
            },
            "colorscale": [
             [
              0,
              "#0d0887"
             ],
             [
              0.1111111111111111,
              "#46039f"
             ],
             [
              0.2222222222222222,
              "#7201a8"
             ],
             [
              0.3333333333333333,
              "#9c179e"
             ],
             [
              0.4444444444444444,
              "#bd3786"
             ],
             [
              0.5555555555555556,
              "#d8576b"
             ],
             [
              0.6666666666666666,
              "#ed7953"
             ],
             [
              0.7777777777777778,
              "#fb9f3a"
             ],
             [
              0.8888888888888888,
              "#fdca26"
             ],
             [
              1,
              "#f0f921"
             ]
            ],
            "type": "heatmapgl"
           }
          ],
          "histogram": [
           {
            "marker": {
             "pattern": {
              "fillmode": "overlay",
              "size": 10,
              "solidity": 0.2
             }
            },
            "type": "histogram"
           }
          ],
          "histogram2d": [
           {
            "colorbar": {
             "outlinewidth": 0,
             "ticks": ""
            },
            "colorscale": [
             [
              0,
              "#0d0887"
             ],
             [
              0.1111111111111111,
              "#46039f"
             ],
             [
              0.2222222222222222,
              "#7201a8"
             ],
             [
              0.3333333333333333,
              "#9c179e"
             ],
             [
              0.4444444444444444,
              "#bd3786"
             ],
             [
              0.5555555555555556,
              "#d8576b"
             ],
             [
              0.6666666666666666,
              "#ed7953"
             ],
             [
              0.7777777777777778,
              "#fb9f3a"
             ],
             [
              0.8888888888888888,
              "#fdca26"
             ],
             [
              1,
              "#f0f921"
             ]
            ],
            "type": "histogram2d"
           }
          ],
          "histogram2dcontour": [
           {
            "colorbar": {
             "outlinewidth": 0,
             "ticks": ""
            },
            "colorscale": [
             [
              0,
              "#0d0887"
             ],
             [
              0.1111111111111111,
              "#46039f"
             ],
             [
              0.2222222222222222,
              "#7201a8"
             ],
             [
              0.3333333333333333,
              "#9c179e"
             ],
             [
              0.4444444444444444,
              "#bd3786"
             ],
             [
              0.5555555555555556,
              "#d8576b"
             ],
             [
              0.6666666666666666,
              "#ed7953"
             ],
             [
              0.7777777777777778,
              "#fb9f3a"
             ],
             [
              0.8888888888888888,
              "#fdca26"
             ],
             [
              1,
              "#f0f921"
             ]
            ],
            "type": "histogram2dcontour"
           }
          ],
          "mesh3d": [
           {
            "colorbar": {
             "outlinewidth": 0,
             "ticks": ""
            },
            "type": "mesh3d"
           }
          ],
          "parcoords": [
           {
            "line": {
             "colorbar": {
              "outlinewidth": 0,
              "ticks": ""
             }
            },
            "type": "parcoords"
           }
          ],
          "pie": [
           {
            "automargin": true,
            "type": "pie"
           }
          ],
          "scatter": [
           {
            "fillpattern": {
             "fillmode": "overlay",
             "size": 10,
             "solidity": 0.2
            },
            "type": "scatter"
           }
          ],
          "scatter3d": [
           {
            "line": {
             "colorbar": {
              "outlinewidth": 0,
              "ticks": ""
             }
            },
            "marker": {
             "colorbar": {
              "outlinewidth": 0,
              "ticks": ""
             }
            },
            "type": "scatter3d"
           }
          ],
          "scattercarpet": [
           {
            "marker": {
             "colorbar": {
              "outlinewidth": 0,
              "ticks": ""
             }
            },
            "type": "scattercarpet"
           }
          ],
          "scattergeo": [
           {
            "marker": {
             "colorbar": {
              "outlinewidth": 0,
              "ticks": ""
             }
            },
            "type": "scattergeo"
           }
          ],
          "scattergl": [
           {
            "marker": {
             "colorbar": {
              "outlinewidth": 0,
              "ticks": ""
             }
            },
            "type": "scattergl"
           }
          ],
          "scattermapbox": [
           {
            "marker": {
             "colorbar": {
              "outlinewidth": 0,
              "ticks": ""
             }
            },
            "type": "scattermapbox"
           }
          ],
          "scatterpolar": [
           {
            "marker": {
             "colorbar": {
              "outlinewidth": 0,
              "ticks": ""
             }
            },
            "type": "scatterpolar"
           }
          ],
          "scatterpolargl": [
           {
            "marker": {
             "colorbar": {
              "outlinewidth": 0,
              "ticks": ""
             }
            },
            "type": "scatterpolargl"
           }
          ],
          "scatterternary": [
           {
            "marker": {
             "colorbar": {
              "outlinewidth": 0,
              "ticks": ""
             }
            },
            "type": "scatterternary"
           }
          ],
          "surface": [
           {
            "colorbar": {
             "outlinewidth": 0,
             "ticks": ""
            },
            "colorscale": [
             [
              0,
              "#0d0887"
             ],
             [
              0.1111111111111111,
              "#46039f"
             ],
             [
              0.2222222222222222,
              "#7201a8"
             ],
             [
              0.3333333333333333,
              "#9c179e"
             ],
             [
              0.4444444444444444,
              "#bd3786"
             ],
             [
              0.5555555555555556,
              "#d8576b"
             ],
             [
              0.6666666666666666,
              "#ed7953"
             ],
             [
              0.7777777777777778,
              "#fb9f3a"
             ],
             [
              0.8888888888888888,
              "#fdca26"
             ],
             [
              1,
              "#f0f921"
             ]
            ],
            "type": "surface"
           }
          ],
          "table": [
           {
            "cells": {
             "fill": {
              "color": "#EBF0F8"
             },
             "line": {
              "color": "white"
             }
            },
            "header": {
             "fill": {
              "color": "#C8D4E3"
             },
             "line": {
              "color": "white"
             }
            },
            "type": "table"
           }
          ]
         },
         "layout": {
          "annotationdefaults": {
           "arrowcolor": "#2a3f5f",
           "arrowhead": 0,
           "arrowwidth": 1
          },
          "autotypenumbers": "strict",
          "coloraxis": {
           "colorbar": {
            "outlinewidth": 0,
            "ticks": ""
           }
          },
          "colorscale": {
           "diverging": [
            [
             0,
             "#8e0152"
            ],
            [
             0.1,
             "#c51b7d"
            ],
            [
             0.2,
             "#de77ae"
            ],
            [
             0.3,
             "#f1b6da"
            ],
            [
             0.4,
             "#fde0ef"
            ],
            [
             0.5,
             "#f7f7f7"
            ],
            [
             0.6,
             "#e6f5d0"
            ],
            [
             0.7,
             "#b8e186"
            ],
            [
             0.8,
             "#7fbc41"
            ],
            [
             0.9,
             "#4d9221"
            ],
            [
             1,
             "#276419"
            ]
           ],
           "sequential": [
            [
             0,
             "#0d0887"
            ],
            [
             0.1111111111111111,
             "#46039f"
            ],
            [
             0.2222222222222222,
             "#7201a8"
            ],
            [
             0.3333333333333333,
             "#9c179e"
            ],
            [
             0.4444444444444444,
             "#bd3786"
            ],
            [
             0.5555555555555556,
             "#d8576b"
            ],
            [
             0.6666666666666666,
             "#ed7953"
            ],
            [
             0.7777777777777778,
             "#fb9f3a"
            ],
            [
             0.8888888888888888,
             "#fdca26"
            ],
            [
             1,
             "#f0f921"
            ]
           ],
           "sequentialminus": [
            [
             0,
             "#0d0887"
            ],
            [
             0.1111111111111111,
             "#46039f"
            ],
            [
             0.2222222222222222,
             "#7201a8"
            ],
            [
             0.3333333333333333,
             "#9c179e"
            ],
            [
             0.4444444444444444,
             "#bd3786"
            ],
            [
             0.5555555555555556,
             "#d8576b"
            ],
            [
             0.6666666666666666,
             "#ed7953"
            ],
            [
             0.7777777777777778,
             "#fb9f3a"
            ],
            [
             0.8888888888888888,
             "#fdca26"
            ],
            [
             1,
             "#f0f921"
            ]
           ]
          },
          "colorway": [
           "#636efa",
           "#EF553B",
           "#00cc96",
           "#ab63fa",
           "#FFA15A",
           "#19d3f3",
           "#FF6692",
           "#B6E880",
           "#FF97FF",
           "#FECB52"
          ],
          "font": {
           "color": "#2a3f5f"
          },
          "geo": {
           "bgcolor": "white",
           "lakecolor": "white",
           "landcolor": "#E5ECF6",
           "showlakes": true,
           "showland": true,
           "subunitcolor": "white"
          },
          "hoverlabel": {
           "align": "left"
          },
          "hovermode": "closest",
          "mapbox": {
           "style": "light"
          },
          "paper_bgcolor": "white",
          "plot_bgcolor": "#E5ECF6",
          "polar": {
           "angularaxis": {
            "gridcolor": "white",
            "linecolor": "white",
            "ticks": ""
           },
           "bgcolor": "#E5ECF6",
           "radialaxis": {
            "gridcolor": "white",
            "linecolor": "white",
            "ticks": ""
           }
          },
          "scene": {
           "xaxis": {
            "backgroundcolor": "#E5ECF6",
            "gridcolor": "white",
            "gridwidth": 2,
            "linecolor": "white",
            "showbackground": true,
            "ticks": "",
            "zerolinecolor": "white"
           },
           "yaxis": {
            "backgroundcolor": "#E5ECF6",
            "gridcolor": "white",
            "gridwidth": 2,
            "linecolor": "white",
            "showbackground": true,
            "ticks": "",
            "zerolinecolor": "white"
           },
           "zaxis": {
            "backgroundcolor": "#E5ECF6",
            "gridcolor": "white",
            "gridwidth": 2,
            "linecolor": "white",
            "showbackground": true,
            "ticks": "",
            "zerolinecolor": "white"
           }
          },
          "shapedefaults": {
           "line": {
            "color": "#2a3f5f"
           }
          },
          "ternary": {
           "aaxis": {
            "gridcolor": "white",
            "linecolor": "white",
            "ticks": ""
           },
           "baxis": {
            "gridcolor": "white",
            "linecolor": "white",
            "ticks": ""
           },
           "bgcolor": "#E5ECF6",
           "caxis": {
            "gridcolor": "white",
            "linecolor": "white",
            "ticks": ""
           }
          },
          "title": {
           "x": 0.05
          },
          "xaxis": {
           "automargin": true,
           "gridcolor": "white",
           "linecolor": "white",
           "ticks": "",
           "title": {
            "standoff": 15
           },
           "zerolinecolor": "white",
           "zerolinewidth": 2
          },
          "yaxis": {
           "automargin": true,
           "gridcolor": "white",
           "linecolor": "white",
           "ticks": "",
           "title": {
            "standoff": 15
           },
           "zerolinecolor": "white",
           "zerolinewidth": 2
          }
         }
        },
        "title": {
         "text": "Landscape representations of diagram 0"
        },
        "xaxis": {
         "anchor": "y",
         "domain": [
          0,
          1
         ],
         "exponentformat": "e",
         "linecolor": "black",
         "linewidth": 1,
         "mirror": false,
         "showexponent": "all",
         "showline": true,
         "side": "bottom",
         "ticks": "outside",
         "type": "linear",
         "zeroline": true
        },
        "xaxis2": {
         "anchor": "y2",
         "domain": [
          0,
          1
         ]
        },
        "yaxis": {
         "anchor": "x",
         "domain": [
          0.625,
          1
         ],
         "exponentformat": "e",
         "linecolor": "black",
         "linewidth": 1,
         "mirror": false,
         "showexponent": "all",
         "showline": true,
         "side": "left",
         "ticks": "outside",
         "type": "linear",
         "zeroline": true
        },
        "yaxis2": {
         "anchor": "x2",
         "domain": [
          0,
          0.375
         ]
        }
       }
      }
     },
     "metadata": {},
     "output_type": "display_data"
    }
   ],
   "source": [
    "pl = PersistenceLandscape()\n",
    "x_presistence_landscape = pl.fit_transform_plot(xt)"
   ]
  },
  {
   "attachments": {},
   "cell_type": "markdown",
   "metadata": {},
   "source": [
    "Compute bottleneck and wasserstein distances"
   ]
  },
  {
   "cell_type": "code",
   "execution_count": null,
   "metadata": {},
   "outputs": [],
   "source": []
  },
  {
   "cell_type": "code",
   "execution_count": null,
   "metadata": {},
   "outputs": [],
   "source": []
  }
 ],
 "metadata": {
  "kernelspec": {
   "display_name": "base",
   "language": "python",
   "name": "python3"
  },
  "language_info": {
   "codemirror_mode": {
    "name": "ipython",
    "version": 3
   },
   "file_extension": ".py",
   "mimetype": "text/x-python",
   "name": "python",
   "nbconvert_exporter": "python",
   "pygments_lexer": "ipython3",
   "version": "3.9.7"
  },
  "orig_nbformat": 4
 },
 "nbformat": 4,
 "nbformat_minor": 2
}
