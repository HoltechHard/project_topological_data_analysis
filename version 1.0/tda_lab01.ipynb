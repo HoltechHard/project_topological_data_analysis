{
 "cells": [
  {
   "attachments": {},
   "cell_type": "markdown",
   "metadata": {},
   "source": [
    "## Laboratory 01 - Topological Data Analysis  \n",
    "Package: giotto-tda"
   ]
  },
  {
   "cell_type": "code",
   "execution_count": 1,
   "metadata": {},
   "outputs": [
    {
     "name": "stdout",
     "output_type": "stream",
     "text": [
      "Collecting giotto-tda\n",
      "  Downloading giotto_tda-0.6.0-cp39-cp39-win_amd64.whl (1.3 MB)\n",
      "Requirement already satisfied: scipy>=1.5.0 in c:\\users\\hp\\anaconda3\\lib\\site-packages (from giotto-tda) (1.7.1)\n",
      "Collecting igraph>=0.9.8\n",
      "  Downloading igraph-0.10.4-cp39-abi3-win_amd64.whl (2.9 MB)\n",
      "Collecting pyflagser>=0.4.3\n",
      "  Downloading pyflagser-0.4.5-cp39-cp39-win_amd64.whl (710 kB)\n",
      "Requirement already satisfied: scikit-learn>=0.23.1 in c:\\users\\hp\\anaconda3\\lib\\site-packages (from giotto-tda) (0.24.2)\n",
      "Collecting plotly>=4.8.2\n",
      "  Downloading plotly-5.14.1-py2.py3-none-any.whl (15.3 MB)\n",
      "Requirement already satisfied: numpy>=1.19.1 in c:\\users\\hp\\anaconda3\\lib\\site-packages (from giotto-tda) (1.20.3)\n",
      "Collecting giotto-ph>=0.2.1\n",
      "  Downloading giotto_ph-0.2.2-cp39-cp39-win_amd64.whl (374 kB)\n",
      "Requirement already satisfied: ipywidgets>=7.5.1 in c:\\users\\hp\\anaconda3\\lib\\site-packages (from giotto-tda) (7.6.5)\n",
      "Requirement already satisfied: joblib>=0.16.0 in c:\\users\\hp\\anaconda3\\lib\\site-packages (from giotto-tda) (1.1.0)\n",
      "Collecting texttable>=1.6.2\n",
      "  Downloading texttable-1.6.7-py2.py3-none-any.whl (10 kB)\n",
      "Requirement already satisfied: ipython>=4.0.0 in c:\\users\\hp\\anaconda3\\lib\\site-packages (from ipywidgets>=7.5.1->giotto-tda) (7.29.0)\n",
      "Requirement already satisfied: nbformat>=4.2.0 in c:\\users\\hp\\anaconda3\\lib\\site-packages (from ipywidgets>=7.5.1->giotto-tda) (5.1.3)\n",
      "Requirement already satisfied: jupyterlab-widgets>=1.0.0 in c:\\users\\hp\\anaconda3\\lib\\site-packages (from ipywidgets>=7.5.1->giotto-tda) (1.0.0)\n",
      "Requirement already satisfied: widgetsnbextension~=3.5.0 in c:\\users\\hp\\anaconda3\\lib\\site-packages (from ipywidgets>=7.5.1->giotto-tda) (3.5.1)\n",
      "Requirement already satisfied: traitlets>=4.3.1 in c:\\users\\hp\\anaconda3\\lib\\site-packages (from ipywidgets>=7.5.1->giotto-tda) (5.1.0)\n",
      "Requirement already satisfied: ipykernel>=4.5.1 in c:\\users\\hp\\anaconda3\\lib\\site-packages (from ipywidgets>=7.5.1->giotto-tda) (6.4.1)\n",
      "Requirement already satisfied: ipython-genutils~=0.2.0 in c:\\users\\hp\\anaconda3\\lib\\site-packages (from ipywidgets>=7.5.1->giotto-tda) (0.2.0)\n",
      "Requirement already satisfied: jupyter-client<8.0 in c:\\users\\hp\\anaconda3\\lib\\site-packages (from ipykernel>=4.5.1->ipywidgets>=7.5.1->giotto-tda) (6.1.12)\n",
      "Requirement already satisfied: matplotlib-inline<0.2.0,>=0.1.0 in c:\\users\\hp\\anaconda3\\lib\\site-packages (from ipykernel>=4.5.1->ipywidgets>=7.5.1->giotto-tda) (0.1.2)\n",
      "Requirement already satisfied: tornado<7.0,>=4.2 in c:\\users\\hp\\anaconda3\\lib\\site-packages (from ipykernel>=4.5.1->ipywidgets>=7.5.1->giotto-tda) (6.1)\n",
      "Requirement already satisfied: debugpy<2.0,>=1.0.0 in c:\\users\\hp\\anaconda3\\lib\\site-packages (from ipykernel>=4.5.1->ipywidgets>=7.5.1->giotto-tda) (1.4.1)\n",
      "Requirement already satisfied: setuptools>=18.5 in c:\\users\\hp\\anaconda3\\lib\\site-packages (from ipython>=4.0.0->ipywidgets>=7.5.1->giotto-tda) (58.0.4)\n",
      "Requirement already satisfied: colorama in c:\\users\\hp\\anaconda3\\lib\\site-packages (from ipython>=4.0.0->ipywidgets>=7.5.1->giotto-tda) (0.4.4)\n",
      "Requirement already satisfied: pygments in c:\\users\\hp\\anaconda3\\lib\\site-packages (from ipython>=4.0.0->ipywidgets>=7.5.1->giotto-tda) (2.10.0)\n",
      "Requirement already satisfied: jedi>=0.16 in c:\\users\\hp\\anaconda3\\lib\\site-packages (from ipython>=4.0.0->ipywidgets>=7.5.1->giotto-tda) (0.18.0)\n",
      "Requirement already satisfied: pickleshare in c:\\users\\hp\\anaconda3\\lib\\site-packages (from ipython>=4.0.0->ipywidgets>=7.5.1->giotto-tda) (0.7.5)\n",
      "Requirement already satisfied: backcall in c:\\users\\hp\\anaconda3\\lib\\site-packages (from ipython>=4.0.0->ipywidgets>=7.5.1->giotto-tda) (0.2.0)\n",
      "Requirement already satisfied: prompt-toolkit!=3.0.0,!=3.0.1,<3.1.0,>=2.0.0 in c:\\users\\hp\\anaconda3\\lib\\site-packages (from ipython>=4.0.0->ipywidgets>=7.5.1->giotto-tda) (3.0.20)\n",
      "Requirement already satisfied: decorator in c:\\users\\hp\\anaconda3\\lib\\site-packages (from ipython>=4.0.0->ipywidgets>=7.5.1->giotto-tda) (5.1.0)\n",
      "Requirement already satisfied: parso<0.9.0,>=0.8.0 in c:\\users\\hp\\anaconda3\\lib\\site-packages (from jedi>=0.16->ipython>=4.0.0->ipywidgets>=7.5.1->giotto-tda) (0.8.2)\n",
      "Requirement already satisfied: pyzmq>=13 in c:\\users\\hp\\anaconda3\\lib\\site-packages (from jupyter-client<8.0->ipykernel>=4.5.1->ipywidgets>=7.5.1->giotto-tda) (22.2.1)\n",
      "Requirement already satisfied: python-dateutil>=2.1 in c:\\users\\hp\\anaconda3\\lib\\site-packages (from jupyter-client<8.0->ipykernel>=4.5.1->ipywidgets>=7.5.1->giotto-tda) (2.8.2)\n",
      "Requirement already satisfied: jupyter-core>=4.6.0 in c:\\users\\hp\\anaconda3\\lib\\site-packages (from jupyter-client<8.0->ipykernel>=4.5.1->ipywidgets>=7.5.1->giotto-tda) (4.8.1)\n",
      "Requirement already satisfied: pywin32>=1.0 in c:\\users\\hp\\anaconda3\\lib\\site-packages (from jupyter-core>=4.6.0->jupyter-client<8.0->ipykernel>=4.5.1->ipywidgets>=7.5.1->giotto-tda) (228)\n",
      "Requirement already satisfied: jsonschema!=2.5.0,>=2.4 in c:\\users\\hp\\anaconda3\\lib\\site-packages (from nbformat>=4.2.0->ipywidgets>=7.5.1->giotto-tda) (3.2.0)\n",
      "Requirement already satisfied: pyrsistent>=0.14.0 in c:\\users\\hp\\anaconda3\\lib\\site-packages (from jsonschema!=2.5.0,>=2.4->nbformat>=4.2.0->ipywidgets>=7.5.1->giotto-tda) (0.18.0)\n",
      "Requirement already satisfied: attrs>=17.4.0 in c:\\users\\hp\\anaconda3\\lib\\site-packages (from jsonschema!=2.5.0,>=2.4->nbformat>=4.2.0->ipywidgets>=7.5.1->giotto-tda) (21.2.0)\n",
      "Requirement already satisfied: six>=1.11.0 in c:\\users\\hp\\anaconda3\\lib\\site-packages (from jsonschema!=2.5.0,>=2.4->nbformat>=4.2.0->ipywidgets>=7.5.1->giotto-tda) (1.16.0)\n",
      "Requirement already satisfied: packaging in c:\\users\\hp\\anaconda3\\lib\\site-packages (from plotly>=4.8.2->giotto-tda) (21.0)\n",
      "Collecting tenacity>=6.2.0\n",
      "  Downloading tenacity-8.2.2-py3-none-any.whl (24 kB)\n",
      "Requirement already satisfied: wcwidth in c:\\users\\hp\\anaconda3\\lib\\site-packages (from prompt-toolkit!=3.0.0,!=3.0.1,<3.1.0,>=2.0.0->ipython>=4.0.0->ipywidgets>=7.5.1->giotto-tda) (0.2.5)\n",
      "Requirement already satisfied: threadpoolctl>=2.0.0 in c:\\users\\hp\\anaconda3\\lib\\site-packages (from scikit-learn>=0.23.1->giotto-tda) (2.2.0)\n",
      "Requirement already satisfied: notebook>=4.4.1 in c:\\users\\hp\\anaconda3\\lib\\site-packages (from widgetsnbextension~=3.5.0->ipywidgets>=7.5.1->giotto-tda) (6.4.5)\n",
      "Requirement already satisfied: nbconvert in c:\\users\\hp\\anaconda3\\lib\\site-packages (from notebook>=4.4.1->widgetsnbextension~=3.5.0->ipywidgets>=7.5.1->giotto-tda) (6.1.0)\n",
      "Requirement already satisfied: terminado>=0.8.3 in c:\\users\\hp\\anaconda3\\lib\\site-packages (from notebook>=4.4.1->widgetsnbextension~=3.5.0->ipywidgets>=7.5.1->giotto-tda) (0.9.4)\n",
      "Requirement already satisfied: prometheus-client in c:\\users\\hp\\anaconda3\\lib\\site-packages (from notebook>=4.4.1->widgetsnbextension~=3.5.0->ipywidgets>=7.5.1->giotto-tda) (0.11.0)\n",
      "Requirement already satisfied: argon2-cffi in c:\\users\\hp\\anaconda3\\lib\\site-packages (from notebook>=4.4.1->widgetsnbextension~=3.5.0->ipywidgets>=7.5.1->giotto-tda) (20.1.0)\n",
      "Requirement already satisfied: jinja2 in c:\\users\\hp\\anaconda3\\lib\\site-packages (from notebook>=4.4.1->widgetsnbextension~=3.5.0->ipywidgets>=7.5.1->giotto-tda) (2.11.3)\n",
      "Requirement already satisfied: Send2Trash>=1.5.0 in c:\\users\\hp\\anaconda3\\lib\\site-packages (from notebook>=4.4.1->widgetsnbextension~=3.5.0->ipywidgets>=7.5.1->giotto-tda) (1.8.0)\n",
      "Requirement already satisfied: pywinpty>=0.5 in c:\\users\\hp\\anaconda3\\lib\\site-packages (from terminado>=0.8.3->notebook>=4.4.1->widgetsnbextension~=3.5.0->ipywidgets>=7.5.1->giotto-tda) (0.5.7)\n",
      "Requirement already satisfied: cffi>=1.0.0 in c:\\users\\hp\\anaconda3\\lib\\site-packages (from argon2-cffi->notebook>=4.4.1->widgetsnbextension~=3.5.0->ipywidgets>=7.5.1->giotto-tda) (1.14.6)\n",
      "Requirement already satisfied: pycparser in c:\\users\\hp\\anaconda3\\lib\\site-packages (from cffi>=1.0.0->argon2-cffi->notebook>=4.4.1->widgetsnbextension~=3.5.0->ipywidgets>=7.5.1->giotto-tda) (2.20)\n",
      "Requirement already satisfied: MarkupSafe>=0.23 in c:\\users\\hp\\anaconda3\\lib\\site-packages (from jinja2->notebook>=4.4.1->widgetsnbextension~=3.5.0->ipywidgets>=7.5.1->giotto-tda) (1.1.1)\n",
      "Requirement already satisfied: mistune<2,>=0.8.1 in c:\\users\\hp\\anaconda3\\lib\\site-packages (from nbconvert->notebook>=4.4.1->widgetsnbextension~=3.5.0->ipywidgets>=7.5.1->giotto-tda) (0.8.4)\n",
      "Requirement already satisfied: entrypoints>=0.2.2 in c:\\users\\hp\\anaconda3\\lib\\site-packages (from nbconvert->notebook>=4.4.1->widgetsnbextension~=3.5.0->ipywidgets>=7.5.1->giotto-tda) (0.3)\n",
      "Requirement already satisfied: pandocfilters>=1.4.1 in c:\\users\\hp\\anaconda3\\lib\\site-packages (from nbconvert->notebook>=4.4.1->widgetsnbextension~=3.5.0->ipywidgets>=7.5.1->giotto-tda) (1.4.3)\n",
      "Requirement already satisfied: testpath in c:\\users\\hp\\anaconda3\\lib\\site-packages (from nbconvert->notebook>=4.4.1->widgetsnbextension~=3.5.0->ipywidgets>=7.5.1->giotto-tda) (0.5.0)\n",
      "Requirement already satisfied: defusedxml in c:\\users\\hp\\anaconda3\\lib\\site-packages (from nbconvert->notebook>=4.4.1->widgetsnbextension~=3.5.0->ipywidgets>=7.5.1->giotto-tda) (0.7.1)\n",
      "Requirement already satisfied: jupyterlab-pygments in c:\\users\\hp\\anaconda3\\lib\\site-packages (from nbconvert->notebook>=4.4.1->widgetsnbextension~=3.5.0->ipywidgets>=7.5.1->giotto-tda) (0.1.2)\n",
      "Requirement already satisfied: bleach in c:\\users\\hp\\anaconda3\\lib\\site-packages (from nbconvert->notebook>=4.4.1->widgetsnbextension~=3.5.0->ipywidgets>=7.5.1->giotto-tda) (4.0.0)\n",
      "Requirement already satisfied: nbclient<0.6.0,>=0.5.0 in c:\\users\\hp\\anaconda3\\lib\\site-packages (from nbconvert->notebook>=4.4.1->widgetsnbextension~=3.5.0->ipywidgets>=7.5.1->giotto-tda) (0.5.3)\n",
      "Requirement already satisfied: async-generator in c:\\users\\hp\\anaconda3\\lib\\site-packages (from nbclient<0.6.0,>=0.5.0->nbconvert->notebook>=4.4.1->widgetsnbextension~=3.5.0->ipywidgets>=7.5.1->giotto-tda) (1.10)\n",
      "Requirement already satisfied: nest-asyncio in c:\\users\\hp\\anaconda3\\lib\\site-packages (from nbclient<0.6.0,>=0.5.0->nbconvert->notebook>=4.4.1->widgetsnbextension~=3.5.0->ipywidgets>=7.5.1->giotto-tda) (1.5.1)\n",
      "Requirement already satisfied: webencodings in c:\\users\\hp\\anaconda3\\lib\\site-packages (from bleach->nbconvert->notebook>=4.4.1->widgetsnbextension~=3.5.0->ipywidgets>=7.5.1->giotto-tda) (0.5.1)\n",
      "Requirement already satisfied: pyparsing>=2.0.2 in c:\\users\\hp\\anaconda3\\lib\\site-packages (from packaging->plotly>=4.8.2->giotto-tda) (3.0.4)\n",
      "Installing collected packages: texttable, tenacity, pyflagser, plotly, igraph, giotto-ph, giotto-tda\n",
      "Successfully installed giotto-ph-0.2.2 giotto-tda-0.6.0 igraph-0.10.4 plotly-5.14.1 pyflagser-0.4.5 tenacity-8.2.2 texttable-1.6.7\n"
     ]
    }
   ],
   "source": [
    "# install package giotto-tda\n",
    "import sys\n",
    "!{sys.executable} -m pip install -U giotto-tda"
   ]
  },
  {
   "cell_type": "code",
   "execution_count": 2,
   "metadata": {},
   "outputs": [],
   "source": [
    "# import packages\n",
    "import numpy as np\n",
    "from sklearn.ensemble import RandomForestClassifier\n",
    "from sklearn.datasets import make_circles\n",
    "from pathlib import Path\n",
    "import plotly.graph_objects as go\n",
    "\n",
    "# import packages for topology tasks\n",
    "from gtda.homology import VietorisRipsPersistence\n",
    "from gtda.time_series import SingleTakensEmbedding\n",
    "from gtda.diagrams import BettiCurve, PersistenceLandscape, PairwiseDistance, PersistenceEntropy\n",
    "from gtda.plotting import plot_point_cloud, plot_diagram\n",
    "from gtda.pipeline import Pipeline"
   ]
  },
  {
   "attachments": {},
   "cell_type": "markdown",
   "metadata": {},
   "source": [
    "1) Cloud of points"
   ]
  },
  {
   "cell_type": "code",
   "execution_count": 3,
   "metadata": {},
   "outputs": [],
   "source": [
    "# generate cloud of points\n",
    "np.random.seed(seed = 42)\n",
    "\n",
    "x = np.asarray([\n",
    "    make_circles(100, factor = np.random.random())[0]\n",
    "    for i in range(10)\n",
    "])"
   ]
  },
  {
   "cell_type": "code",
   "execution_count": 8,
   "metadata": {},
   "outputs": [
    {
     "name": "stdout",
     "output_type": "stream",
     "text": [
      "(10, 100, 2)\n",
      "(100, 2)\n"
     ]
    }
   ],
   "source": [
    "print(x.shape)\n",
    "print(x[4].shape)"
   ]
  },
  {
   "cell_type": "code",
   "execution_count": 3,
   "metadata": {},
   "outputs": [
    {
     "data": {
      "application/vnd.plotly.v1+json": {
       "config": {
        "plotlyServerURL": "https://plot.ly"
       },
       "data": [
        {
         "marker": {
          "color": [
           0,
           1,
           2,
           3,
           4,
           5,
           6,
           7,
           8,
           9,
           10,
           11,
           12,
           13,
           14,
           15,
           16,
           17,
           18,
           19,
           20,
           21,
           22,
           23,
           24,
           25,
           26,
           27,
           28,
           29,
           30,
           31,
           32,
           33,
           34,
           35,
           36,
           37,
           38,
           39,
           40,
           41,
           42,
           43,
           44,
           45,
           46,
           47,
           48,
           49,
           50,
           51,
           52,
           53,
           54,
           55,
           56,
           57,
           58,
           59,
           60,
           61,
           62,
           63,
           64,
           65,
           66,
           67,
           68,
           69,
           70,
           71,
           72,
           73,
           74,
           75,
           76,
           77,
           78,
           79,
           80,
           81,
           82,
           83,
           84,
           85,
           86,
           87,
           88,
           89,
           90,
           91,
           92,
           93,
           94,
           95,
           96,
           97,
           98,
           99
          ],
          "colorscale": [
           [
            0,
            "#440154"
           ],
           [
            0.1111111111111111,
            "#482878"
           ],
           [
            0.2222222222222222,
            "#3e4989"
           ],
           [
            0.3333333333333333,
            "#31688e"
           ],
           [
            0.4444444444444444,
            "#26828e"
           ],
           [
            0.5555555555555556,
            "#1f9e89"
           ],
           [
            0.6666666666666666,
            "#35b779"
           ],
           [
            0.7777777777777778,
            "#6ece58"
           ],
           [
            0.8888888888888888,
            "#b5de2b"
           ],
           [
            1,
            "#fde725"
           ]
          ],
          "opacity": 0.8,
          "size": 4
         },
         "mode": "markers",
         "type": "scatter",
         "x": [
          -0.5358267949789969,
          -0.6775357483529658,
          0.63742398974869,
          -0.13107551762232325,
          0.8090169943749475,
          -0.6775357483529658,
          -0.18738131458572482,
          0.29783781354157357,
          0.1310755176223236,
          -0.42577929156507216,
          0.7289686274214116,
          0.4458858642651512,
          0.30901699437494723,
          -0.6995122107671938,
          -0.6939963480511246,
          0.6939963480511246,
          -0.0627905195293134,
          0.6775357483529659,
          0.6129872230675429,
          0.56591726628345,
          0.9921147013144779,
          0.9685831611286312,
          0.6374239897486896,
          -0.9921147013144779,
          -0.06279051952931321,
          0.9685831611286311,
          -0.5099224561474786,
          0.7289686274214119,
          0.30901699437494745,
          -0.21616116089985307,
          -0.374817385944058,
          0.8090169943749478,
          -0.3748173859440576,
          -0.21616116089985307,
          0.4257792915650726,
          -0.7289686274214117,
          -0.9921147013144779,
          -0.6503900051630433,
          -0.9685831611286311,
          0.9921147013144779,
          0.5358267949789968,
          -0.9685831611286311,
          -0.1310755176223234,
          0.9297764858882513,
          0.6775357483529658,
          -0.6129872230675429,
          -0.7289686274214116,
          0.2978378135415735,
          0.6503900051630433,
          -0.8090169943749472,
          -0.5099224561474784,
          0.3748173859440578,
          0.8763066800438636,
          0.42577929156507266,
          -0.043922735131170544,
          -0.18738131458572463,
          0.5659172662834502,
          -0.6374239897486895,
          -0.30901699437494756,
          0.06279051952931372,
          -0.8090169943749473,
          -0.5659172662834497,
          -0.6939963480511246,
          -0.6129872230675429,
          -0.5659172662834498,
          0.0439227351311709,
          0.8763066800438636,
          -0.9297764858882512,
          0.5099224561474784,
          0.6995122107671938,
          -0.6503900051630432,
          -1,
          -0.2978378135415736,
          -0.8763066800438636,
          -0.4458858642651511,
          0.37481738594405795,
          -0.043922735131170676,
          0.216161160899853,
          0.6503900051630433,
          -0.4458858642651509,
          0.9297764858882515,
          -0.5358267949789963,
          -0.29783781354157324,
          0.21616116089985285,
          1,
          0.18738131458572452,
          0.5358267949789965,
          -0.9297764858882515,
          0.13107551762232317,
          0.6129872230675429,
          0.445885864265151,
          0.5099224561474787,
          0.04392273513117061,
          -0.4257792915650727,
          -0.6374239897486897,
          -0.8763066800438636,
          0.0627905195293133,
          -0.30901699437494756,
          0.6939963480511246,
          0.18738131458572513
         ],
         "y": [
          0.844327925502015,
          0.1739616127661316,
          -0.770513242775789,
          -0.6871219263656538,
          0.5877852522924731,
          -0.1739616127661317,
          0.9822872507286886,
          0.632937571832469,
          -0.6871219263656538,
          -0.9048270524660198,
          0.6845471059286887,
          -0.5389834218794918,
          -0.9510565162951536,
          -2.249802859720203e-16,
          0.08767212729316741,
          -0.0876721272931672,
          0.9980267284282716,
          -0.17396161276613134,
          -0.3369925776161091,
          0.41116296128746066,
          -0.1253332335643038,
          -0.2486898871648545,
          0.7705132427757893,
          0.1253332335643041,
          -0.9980267284282716,
          0.2486898871648548,
          0.4788490594424613,
          -0.6845471059286883,
          0.9510565162951535,
          0.6652756462781686,
          0.590617693780393,
          -0.5877852522924726,
          -0.5906176937803933,
          -0.6652756462781686,
          -0.9048270524660196,
          0.6845471059286885,
          -0.12533323356430429,
          0.2575076196861433,
          -0.24868988716485502,
          0.12533323356430426,
          -0.844327925502015,
          0.24868988716485482,
          0.6871219263656538,
          0.368124552684678,
          0.17396161276613156,
          -0.3369925776161091,
          -0.6845471059286887,
          -0.632937571832469,
          0.2575076196861434,
          -0.5877852522924734,
          -0.4788490594424615,
          0.5906176937803931,
          0.4817536741017153,
          0.9048270524660196,
          -0.69813188320761,
          -0.9822872507286887,
          -0.41116296128746027,
          -0.7705132427757894,
          -0.9510565162951535,
          -0.9980267284282716,
          0.5877852522924732,
          -0.4111629612874608,
          -0.08767212729316755,
          0.336992577616109,
          0.41116296128746077,
          -0.69813188320761,
          -0.4817536741017153,
          -0.3681245526846783,
          0.4788490594424615,
          0,
          -0.25750761968614366,
          -3.216245299353273e-16,
          0.632937571832469,
          0.4817536741017152,
          0.5389834218794919,
          -0.590617693780393,
          0.69813188320761,
          0.6652756462781686,
          -0.25750761968614333,
          -0.538983421879492,
          -0.36812455268467786,
          -0.8443279255020153,
          -0.6329375718324692,
          -0.6652756462781686,
          0,
          0.9822872507286887,
          0.8443279255020151,
          0.36812455268467775,
          0.6871219263656538,
          0.3369925776161091,
          0.5389834218794919,
          -0.47884905944246114,
          0.69813188320761,
          0.9048270524660195,
          0.7705132427757893,
          -0.4817536741017154,
          0.9980267284282716,
          0.9510565162951535,
          0.08767212729316753,
          -0.9822872507286886
         ]
        }
       ],
       "layout": {
        "height": 600,
        "plot_bgcolor": "white",
        "template": {
         "data": {
          "bar": [
           {
            "error_x": {
             "color": "#2a3f5f"
            },
            "error_y": {
             "color": "#2a3f5f"
            },
            "marker": {
             "line": {
              "color": "#E5ECF6",
              "width": 0.5
             },
             "pattern": {
              "fillmode": "overlay",
              "size": 10,
              "solidity": 0.2
             }
            },
            "type": "bar"
           }
          ],
          "barpolar": [
           {
            "marker": {
             "line": {
              "color": "#E5ECF6",
              "width": 0.5
             },
             "pattern": {
              "fillmode": "overlay",
              "size": 10,
              "solidity": 0.2
             }
            },
            "type": "barpolar"
           }
          ],
          "carpet": [
           {
            "aaxis": {
             "endlinecolor": "#2a3f5f",
             "gridcolor": "white",
             "linecolor": "white",
             "minorgridcolor": "white",
             "startlinecolor": "#2a3f5f"
            },
            "baxis": {
             "endlinecolor": "#2a3f5f",
             "gridcolor": "white",
             "linecolor": "white",
             "minorgridcolor": "white",
             "startlinecolor": "#2a3f5f"
            },
            "type": "carpet"
           }
          ],
          "choropleth": [
           {
            "colorbar": {
             "outlinewidth": 0,
             "ticks": ""
            },
            "type": "choropleth"
           }
          ],
          "contour": [
           {
            "colorbar": {
             "outlinewidth": 0,
             "ticks": ""
            },
            "colorscale": [
             [
              0,
              "#0d0887"
             ],
             [
              0.1111111111111111,
              "#46039f"
             ],
             [
              0.2222222222222222,
              "#7201a8"
             ],
             [
              0.3333333333333333,
              "#9c179e"
             ],
             [
              0.4444444444444444,
              "#bd3786"
             ],
             [
              0.5555555555555556,
              "#d8576b"
             ],
             [
              0.6666666666666666,
              "#ed7953"
             ],
             [
              0.7777777777777778,
              "#fb9f3a"
             ],
             [
              0.8888888888888888,
              "#fdca26"
             ],
             [
              1,
              "#f0f921"
             ]
            ],
            "type": "contour"
           }
          ],
          "contourcarpet": [
           {
            "colorbar": {
             "outlinewidth": 0,
             "ticks": ""
            },
            "type": "contourcarpet"
           }
          ],
          "heatmap": [
           {
            "colorbar": {
             "outlinewidth": 0,
             "ticks": ""
            },
            "colorscale": [
             [
              0,
              "#0d0887"
             ],
             [
              0.1111111111111111,
              "#46039f"
             ],
             [
              0.2222222222222222,
              "#7201a8"
             ],
             [
              0.3333333333333333,
              "#9c179e"
             ],
             [
              0.4444444444444444,
              "#bd3786"
             ],
             [
              0.5555555555555556,
              "#d8576b"
             ],
             [
              0.6666666666666666,
              "#ed7953"
             ],
             [
              0.7777777777777778,
              "#fb9f3a"
             ],
             [
              0.8888888888888888,
              "#fdca26"
             ],
             [
              1,
              "#f0f921"
             ]
            ],
            "type": "heatmap"
           }
          ],
          "heatmapgl": [
           {
            "colorbar": {
             "outlinewidth": 0,
             "ticks": ""
            },
            "colorscale": [
             [
              0,
              "#0d0887"
             ],
             [
              0.1111111111111111,
              "#46039f"
             ],
             [
              0.2222222222222222,
              "#7201a8"
             ],
             [
              0.3333333333333333,
              "#9c179e"
             ],
             [
              0.4444444444444444,
              "#bd3786"
             ],
             [
              0.5555555555555556,
              "#d8576b"
             ],
             [
              0.6666666666666666,
              "#ed7953"
             ],
             [
              0.7777777777777778,
              "#fb9f3a"
             ],
             [
              0.8888888888888888,
              "#fdca26"
             ],
             [
              1,
              "#f0f921"
             ]
            ],
            "type": "heatmapgl"
           }
          ],
          "histogram": [
           {
            "marker": {
             "pattern": {
              "fillmode": "overlay",
              "size": 10,
              "solidity": 0.2
             }
            },
            "type": "histogram"
           }
          ],
          "histogram2d": [
           {
            "colorbar": {
             "outlinewidth": 0,
             "ticks": ""
            },
            "colorscale": [
             [
              0,
              "#0d0887"
             ],
             [
              0.1111111111111111,
              "#46039f"
             ],
             [
              0.2222222222222222,
              "#7201a8"
             ],
             [
              0.3333333333333333,
              "#9c179e"
             ],
             [
              0.4444444444444444,
              "#bd3786"
             ],
             [
              0.5555555555555556,
              "#d8576b"
             ],
             [
              0.6666666666666666,
              "#ed7953"
             ],
             [
              0.7777777777777778,
              "#fb9f3a"
             ],
             [
              0.8888888888888888,
              "#fdca26"
             ],
             [
              1,
              "#f0f921"
             ]
            ],
            "type": "histogram2d"
           }
          ],
          "histogram2dcontour": [
           {
            "colorbar": {
             "outlinewidth": 0,
             "ticks": ""
            },
            "colorscale": [
             [
              0,
              "#0d0887"
             ],
             [
              0.1111111111111111,
              "#46039f"
             ],
             [
              0.2222222222222222,
              "#7201a8"
             ],
             [
              0.3333333333333333,
              "#9c179e"
             ],
             [
              0.4444444444444444,
              "#bd3786"
             ],
             [
              0.5555555555555556,
              "#d8576b"
             ],
             [
              0.6666666666666666,
              "#ed7953"
             ],
             [
              0.7777777777777778,
              "#fb9f3a"
             ],
             [
              0.8888888888888888,
              "#fdca26"
             ],
             [
              1,
              "#f0f921"
             ]
            ],
            "type": "histogram2dcontour"
           }
          ],
          "mesh3d": [
           {
            "colorbar": {
             "outlinewidth": 0,
             "ticks": ""
            },
            "type": "mesh3d"
           }
          ],
          "parcoords": [
           {
            "line": {
             "colorbar": {
              "outlinewidth": 0,
              "ticks": ""
             }
            },
            "type": "parcoords"
           }
          ],
          "pie": [
           {
            "automargin": true,
            "type": "pie"
           }
          ],
          "scatter": [
           {
            "fillpattern": {
             "fillmode": "overlay",
             "size": 10,
             "solidity": 0.2
            },
            "type": "scatter"
           }
          ],
          "scatter3d": [
           {
            "line": {
             "colorbar": {
              "outlinewidth": 0,
              "ticks": ""
             }
            },
            "marker": {
             "colorbar": {
              "outlinewidth": 0,
              "ticks": ""
             }
            },
            "type": "scatter3d"
           }
          ],
          "scattercarpet": [
           {
            "marker": {
             "colorbar": {
              "outlinewidth": 0,
              "ticks": ""
             }
            },
            "type": "scattercarpet"
           }
          ],
          "scattergeo": [
           {
            "marker": {
             "colorbar": {
              "outlinewidth": 0,
              "ticks": ""
             }
            },
            "type": "scattergeo"
           }
          ],
          "scattergl": [
           {
            "marker": {
             "colorbar": {
              "outlinewidth": 0,
              "ticks": ""
             }
            },
            "type": "scattergl"
           }
          ],
          "scattermapbox": [
           {
            "marker": {
             "colorbar": {
              "outlinewidth": 0,
              "ticks": ""
             }
            },
            "type": "scattermapbox"
           }
          ],
          "scatterpolar": [
           {
            "marker": {
             "colorbar": {
              "outlinewidth": 0,
              "ticks": ""
             }
            },
            "type": "scatterpolar"
           }
          ],
          "scatterpolargl": [
           {
            "marker": {
             "colorbar": {
              "outlinewidth": 0,
              "ticks": ""
             }
            },
            "type": "scatterpolargl"
           }
          ],
          "scatterternary": [
           {
            "marker": {
             "colorbar": {
              "outlinewidth": 0,
              "ticks": ""
             }
            },
            "type": "scatterternary"
           }
          ],
          "surface": [
           {
            "colorbar": {
             "outlinewidth": 0,
             "ticks": ""
            },
            "colorscale": [
             [
              0,
              "#0d0887"
             ],
             [
              0.1111111111111111,
              "#46039f"
             ],
             [
              0.2222222222222222,
              "#7201a8"
             ],
             [
              0.3333333333333333,
              "#9c179e"
             ],
             [
              0.4444444444444444,
              "#bd3786"
             ],
             [
              0.5555555555555556,
              "#d8576b"
             ],
             [
              0.6666666666666666,
              "#ed7953"
             ],
             [
              0.7777777777777778,
              "#fb9f3a"
             ],
             [
              0.8888888888888888,
              "#fdca26"
             ],
             [
              1,
              "#f0f921"
             ]
            ],
            "type": "surface"
           }
          ],
          "table": [
           {
            "cells": {
             "fill": {
              "color": "#EBF0F8"
             },
             "line": {
              "color": "white"
             }
            },
            "header": {
             "fill": {
              "color": "#C8D4E3"
             },
             "line": {
              "color": "white"
             }
            },
            "type": "table"
           }
          ]
         },
         "layout": {
          "annotationdefaults": {
           "arrowcolor": "#2a3f5f",
           "arrowhead": 0,
           "arrowwidth": 1
          },
          "autotypenumbers": "strict",
          "coloraxis": {
           "colorbar": {
            "outlinewidth": 0,
            "ticks": ""
           }
          },
          "colorscale": {
           "diverging": [
            [
             0,
             "#8e0152"
            ],
            [
             0.1,
             "#c51b7d"
            ],
            [
             0.2,
             "#de77ae"
            ],
            [
             0.3,
             "#f1b6da"
            ],
            [
             0.4,
             "#fde0ef"
            ],
            [
             0.5,
             "#f7f7f7"
            ],
            [
             0.6,
             "#e6f5d0"
            ],
            [
             0.7,
             "#b8e186"
            ],
            [
             0.8,
             "#7fbc41"
            ],
            [
             0.9,
             "#4d9221"
            ],
            [
             1,
             "#276419"
            ]
           ],
           "sequential": [
            [
             0,
             "#0d0887"
            ],
            [
             0.1111111111111111,
             "#46039f"
            ],
            [
             0.2222222222222222,
             "#7201a8"
            ],
            [
             0.3333333333333333,
             "#9c179e"
            ],
            [
             0.4444444444444444,
             "#bd3786"
            ],
            [
             0.5555555555555556,
             "#d8576b"
            ],
            [
             0.6666666666666666,
             "#ed7953"
            ],
            [
             0.7777777777777778,
             "#fb9f3a"
            ],
            [
             0.8888888888888888,
             "#fdca26"
            ],
            [
             1,
             "#f0f921"
            ]
           ],
           "sequentialminus": [
            [
             0,
             "#0d0887"
            ],
            [
             0.1111111111111111,
             "#46039f"
            ],
            [
             0.2222222222222222,
             "#7201a8"
            ],
            [
             0.3333333333333333,
             "#9c179e"
            ],
            [
             0.4444444444444444,
             "#bd3786"
            ],
            [
             0.5555555555555556,
             "#d8576b"
            ],
            [
             0.6666666666666666,
             "#ed7953"
            ],
            [
             0.7777777777777778,
             "#fb9f3a"
            ],
            [
             0.8888888888888888,
             "#fdca26"
            ],
            [
             1,
             "#f0f921"
            ]
           ]
          },
          "colorway": [
           "#636efa",
           "#EF553B",
           "#00cc96",
           "#ab63fa",
           "#FFA15A",
           "#19d3f3",
           "#FF6692",
           "#B6E880",
           "#FF97FF",
           "#FECB52"
          ],
          "font": {
           "color": "#2a3f5f"
          },
          "geo": {
           "bgcolor": "white",
           "lakecolor": "white",
           "landcolor": "#E5ECF6",
           "showlakes": true,
           "showland": true,
           "subunitcolor": "white"
          },
          "hoverlabel": {
           "align": "left"
          },
          "hovermode": "closest",
          "mapbox": {
           "style": "light"
          },
          "paper_bgcolor": "white",
          "plot_bgcolor": "#E5ECF6",
          "polar": {
           "angularaxis": {
            "gridcolor": "white",
            "linecolor": "white",
            "ticks": ""
           },
           "bgcolor": "#E5ECF6",
           "radialaxis": {
            "gridcolor": "white",
            "linecolor": "white",
            "ticks": ""
           }
          },
          "scene": {
           "xaxis": {
            "backgroundcolor": "#E5ECF6",
            "gridcolor": "white",
            "gridwidth": 2,
            "linecolor": "white",
            "showbackground": true,
            "ticks": "",
            "zerolinecolor": "white"
           },
           "yaxis": {
            "backgroundcolor": "#E5ECF6",
            "gridcolor": "white",
            "gridwidth": 2,
            "linecolor": "white",
            "showbackground": true,
            "ticks": "",
            "zerolinecolor": "white"
           },
           "zaxis": {
            "backgroundcolor": "#E5ECF6",
            "gridcolor": "white",
            "gridwidth": 2,
            "linecolor": "white",
            "showbackground": true,
            "ticks": "",
            "zerolinecolor": "white"
           }
          },
          "shapedefaults": {
           "line": {
            "color": "#2a3f5f"
           }
          },
          "ternary": {
           "aaxis": {
            "gridcolor": "white",
            "linecolor": "white",
            "ticks": ""
           },
           "baxis": {
            "gridcolor": "white",
            "linecolor": "white",
            "ticks": ""
           },
           "bgcolor": "#E5ECF6",
           "caxis": {
            "gridcolor": "white",
            "linecolor": "white",
            "ticks": ""
           }
          },
          "title": {
           "x": 0.05
          },
          "xaxis": {
           "automargin": true,
           "gridcolor": "white",
           "linecolor": "white",
           "ticks": "",
           "title": {
            "standoff": 15
           },
           "zerolinecolor": "white",
           "zerolinewidth": 2
          },
          "yaxis": {
           "automargin": true,
           "gridcolor": "white",
           "linecolor": "white",
           "ticks": "",
           "title": {
            "standoff": 15
           },
           "zerolinecolor": "white",
           "zerolinewidth": 2
          }
         }
        },
        "width": 600,
        "xaxis": {
         "anchor": "x",
         "exponentformat": "e",
         "linecolor": "black",
         "linewidth": 1,
         "mirror": false,
         "showexponent": "all",
         "showline": true,
         "side": "bottom",
         "ticks": "outside",
         "title": {
          "text": "0th"
         },
         "type": "linear",
         "zeroline": true
        },
        "yaxis": {
         "anchor": "y",
         "exponentformat": "e",
         "linecolor": "black",
         "linewidth": 1,
         "mirror": false,
         "showexponent": "all",
         "showline": true,
         "side": "left",
         "ticks": "outside",
         "title": {
          "text": "1st"
         },
         "type": "linear",
         "zeroline": true
        }
       }
      }
     },
     "metadata": {},
     "output_type": "display_data"
    }
   ],
   "source": [
    "i = 4\n",
    "plot_point_cloud(x[i])"
   ]
  },
  {
   "attachments": {},
   "cell_type": "markdown",
   "metadata": {},
   "source": [
    "2) Vector Rips persistence"
   ]
  },
  {
   "cell_type": "code",
   "execution_count": 4,
   "metadata": {},
   "outputs": [
    {
     "data": {
      "application/vnd.plotly.v1+json": {
       "config": {
        "plotlyServerURL": "https://plot.ly"
       },
       "data": [
        {
         "hoverinfo": "none",
         "line": {
          "color": "black",
          "dash": "dash",
          "width": 1
         },
         "mode": "lines",
         "showlegend": false,
         "type": "scatter",
         "x": [
          -0.02451948881149292,
          1.250493929386139
         ],
         "y": [
          -0.02451948881149292,
          1.250493929386139
         ]
        },
        {
         "hoverinfo": "text",
         "hovertext": [
          "(0.0, 0.08784546703100204), multiplicity: 49",
          "(0.0, 0.08784546703100204), multiplicity: 49",
          "(0.0, 0.08784546703100204), multiplicity: 49",
          "(0.0, 0.08784546703100204), multiplicity: 49",
          "(0.0, 0.08784546703100204), multiplicity: 49",
          "(0.0, 0.08784546703100204), multiplicity: 49",
          "(0.0, 0.08784546703100204), multiplicity: 49",
          "(0.0, 0.08784546703100204), multiplicity: 49",
          "(0.0, 0.08784546703100204), multiplicity: 49",
          "(0.0, 0.08784546703100204), multiplicity: 49",
          "(0.0, 0.08784546703100204), multiplicity: 49",
          "(0.0, 0.08784546703100204), multiplicity: 49",
          "(0.0, 0.08784546703100204), multiplicity: 49",
          "(0.0, 0.08784546703100204), multiplicity: 49",
          "(0.0, 0.08784546703100204), multiplicity: 49",
          "(0.0, 0.08784546703100204), multiplicity: 49",
          "(0.0, 0.08784546703100204), multiplicity: 49",
          "(0.0, 0.08784546703100204), multiplicity: 49",
          "(0.0, 0.08784546703100204), multiplicity: 49",
          "(0.0, 0.08784546703100204), multiplicity: 49",
          "(0.0, 0.08784546703100204), multiplicity: 49",
          "(0.0, 0.08784546703100204), multiplicity: 49",
          "(0.0, 0.08784546703100204), multiplicity: 49",
          "(0.0, 0.08784546703100204), multiplicity: 49",
          "(0.0, 0.08784546703100204), multiplicity: 49",
          "(0.0, 0.08784546703100204), multiplicity: 49",
          "(0.0, 0.08784546703100204), multiplicity: 49",
          "(0.0, 0.08784546703100204), multiplicity: 49",
          "(0.0, 0.08784546703100204), multiplicity: 49",
          "(0.0, 0.08784546703100204), multiplicity: 49",
          "(0.0, 0.08784546703100204), multiplicity: 49",
          "(0.0, 0.08784546703100204), multiplicity: 49",
          "(0.0, 0.08784546703100204), multiplicity: 49",
          "(0.0, 0.08784546703100204), multiplicity: 49",
          "(0.0, 0.08784546703100204), multiplicity: 49",
          "(0.0, 0.08784546703100204), multiplicity: 49",
          "(0.0, 0.08784546703100204), multiplicity: 49",
          "(0.0, 0.08784546703100204), multiplicity: 49",
          "(0.0, 0.08784546703100204), multiplicity: 49",
          "(0.0, 0.08784546703100204), multiplicity: 49",
          "(0.0, 0.08784546703100204), multiplicity: 49",
          "(0.0, 0.08784546703100204), multiplicity: 49",
          "(0.0, 0.08784546703100204), multiplicity: 49",
          "(0.0, 0.08784546703100204), multiplicity: 49",
          "(0.0, 0.08784546703100204), multiplicity: 49",
          "(0.0, 0.08784546703100204), multiplicity: 49",
          "(0.0, 0.08784546703100204), multiplicity: 49",
          "(0.0, 0.08784546703100204), multiplicity: 49",
          "(0.0, 0.08784546703100204), multiplicity: 49",
          "(0.0, 0.1255810409784317), multiplicity: 49",
          "(0.0, 0.1255810409784317), multiplicity: 49",
          "(0.0, 0.1255810409784317), multiplicity: 49",
          "(0.0, 0.1255810409784317), multiplicity: 49",
          "(0.0, 0.1255810409784317), multiplicity: 49",
          "(0.0, 0.1255810409784317), multiplicity: 49",
          "(0.0, 0.1255810409784317), multiplicity: 49",
          "(0.0, 0.1255810409784317), multiplicity: 49",
          "(0.0, 0.1255810409784317), multiplicity: 49",
          "(0.0, 0.1255810409784317), multiplicity: 49",
          "(0.0, 0.1255810409784317), multiplicity: 49",
          "(0.0, 0.1255810409784317), multiplicity: 49",
          "(0.0, 0.1255810409784317), multiplicity: 49",
          "(0.0, 0.1255810409784317), multiplicity: 49",
          "(0.0, 0.1255810409784317), multiplicity: 49",
          "(0.0, 0.1255810409784317), multiplicity: 49",
          "(0.0, 0.1255810409784317), multiplicity: 49",
          "(0.0, 0.1255810409784317), multiplicity: 49",
          "(0.0, 0.1255810409784317), multiplicity: 49",
          "(0.0, 0.1255810409784317), multiplicity: 49",
          "(0.0, 0.1255810409784317), multiplicity: 49",
          "(0.0, 0.1255810409784317), multiplicity: 49",
          "(0.0, 0.1255810409784317), multiplicity: 49",
          "(0.0, 0.1255810409784317), multiplicity: 49",
          "(0.0, 0.1255810409784317), multiplicity: 49",
          "(0.0, 0.1255810409784317), multiplicity: 49",
          "(0.0, 0.1255810409784317), multiplicity: 49",
          "(0.0, 0.1255810409784317), multiplicity: 49",
          "(0.0, 0.1255810409784317), multiplicity: 49",
          "(0.0, 0.1255810409784317), multiplicity: 49",
          "(0.0, 0.1255810409784317), multiplicity: 49",
          "(0.0, 0.1255810409784317), multiplicity: 49",
          "(0.0, 0.1255810409784317), multiplicity: 49",
          "(0.0, 0.1255810409784317), multiplicity: 49",
          "(0.0, 0.1255810409784317), multiplicity: 49",
          "(0.0, 0.1255810409784317), multiplicity: 49",
          "(0.0, 0.1255810409784317), multiplicity: 49",
          "(0.0, 0.1255810409784317), multiplicity: 49",
          "(0.0, 0.1255810409784317), multiplicity: 49",
          "(0.0, 0.1255810409784317), multiplicity: 49",
          "(0.0, 0.1255810409784317), multiplicity: 49",
          "(0.0, 0.1255810409784317), multiplicity: 49",
          "(0.0, 0.1255810409784317), multiplicity: 49",
          "(0.0, 0.1255810409784317), multiplicity: 49",
          "(0.0, 0.1255810409784317), multiplicity: 49",
          "(0.0, 0.1255810409784317), multiplicity: 49",
          "(0.0, 0.1255810409784317), multiplicity: 49",
          "(0.0, 0.1255810409784317), multiplicity: 49",
          "(0.0, 0.1255810409784317), multiplicity: 49",
          "(0.0, 0.30048778653144836)"
         ],
         "mode": "markers",
         "name": "H0",
         "type": "scatter",
         "x": [
          0,
          0,
          0,
          0,
          0,
          0,
          0,
          0,
          0,
          0,
          0,
          0,
          0,
          0,
          0,
          0,
          0,
          0,
          0,
          0,
          0,
          0,
          0,
          0,
          0,
          0,
          0,
          0,
          0,
          0,
          0,
          0,
          0,
          0,
          0,
          0,
          0,
          0,
          0,
          0,
          0,
          0,
          0,
          0,
          0,
          0,
          0,
          0,
          0,
          0,
          0,
          0,
          0,
          0,
          0,
          0,
          0,
          0,
          0,
          0,
          0,
          0,
          0,
          0,
          0,
          0,
          0,
          0,
          0,
          0,
          0,
          0,
          0,
          0,
          0,
          0,
          0,
          0,
          0,
          0,
          0,
          0,
          0,
          0,
          0,
          0,
          0,
          0,
          0,
          0,
          0,
          0,
          0,
          0,
          0,
          0,
          0,
          0,
          0
         ],
         "y": [
          0.08784546703100204,
          0.08784546703100204,
          0.08784546703100204,
          0.08784546703100204,
          0.08784546703100204,
          0.08784546703100204,
          0.08784546703100204,
          0.08784546703100204,
          0.08784546703100204,
          0.08784546703100204,
          0.08784546703100204,
          0.08784546703100204,
          0.08784546703100204,
          0.08784546703100204,
          0.08784546703100204,
          0.08784546703100204,
          0.08784546703100204,
          0.08784546703100204,
          0.08784546703100204,
          0.08784546703100204,
          0.08784546703100204,
          0.08784546703100204,
          0.08784546703100204,
          0.08784546703100204,
          0.08784546703100204,
          0.08784546703100204,
          0.08784546703100204,
          0.08784546703100204,
          0.08784546703100204,
          0.08784546703100204,
          0.08784546703100204,
          0.08784546703100204,
          0.08784546703100204,
          0.08784546703100204,
          0.08784546703100204,
          0.08784546703100204,
          0.08784546703100204,
          0.08784546703100204,
          0.08784546703100204,
          0.08784546703100204,
          0.08784546703100204,
          0.08784546703100204,
          0.08784546703100204,
          0.08784546703100204,
          0.08784546703100204,
          0.08784546703100204,
          0.08784546703100204,
          0.08784546703100204,
          0.08784546703100204,
          0.1255810409784317,
          0.1255810409784317,
          0.1255810409784317,
          0.1255810409784317,
          0.1255810409784317,
          0.1255810409784317,
          0.1255810409784317,
          0.1255810409784317,
          0.1255810409784317,
          0.1255810409784317,
          0.1255810409784317,
          0.1255810409784317,
          0.1255810409784317,
          0.1255810409784317,
          0.1255810409784317,
          0.1255810409784317,
          0.1255810409784317,
          0.1255810409784317,
          0.1255810409784317,
          0.1255810409784317,
          0.1255810409784317,
          0.1255810409784317,
          0.1255810409784317,
          0.1255810409784317,
          0.1255810409784317,
          0.1255810409784317,
          0.1255810409784317,
          0.1255810409784317,
          0.1255810409784317,
          0.1255810409784317,
          0.1255810409784317,
          0.1255810409784317,
          0.1255810409784317,
          0.1255810409784317,
          0.1255810409784317,
          0.1255810409784317,
          0.1255810409784317,
          0.1255810409784317,
          0.1255810409784317,
          0.1255810409784317,
          0.1255810409784317,
          0.1255810409784317,
          0.1255810409784317,
          0.1255810409784317,
          0.1255810409784317,
          0.1255810409784317,
          0.1255810409784317,
          0.1255810409784317,
          0.1255810409784317,
          0.30048778653144836
         ]
        },
        {
         "hoverinfo": "text",
         "hovertext": [
          "(0.30048778653144836, 0.3183152973651886), multiplicity: 49",
          "(0.30048778653144836, 0.3183152973651886), multiplicity: 49",
          "(0.30048778653144836, 0.3183152973651886), multiplicity: 49",
          "(0.30048778653144836, 0.3183152973651886), multiplicity: 49",
          "(0.30048778653144836, 0.3183152973651886), multiplicity: 49",
          "(0.30048778653144836, 0.3183152973651886), multiplicity: 49",
          "(0.30048778653144836, 0.3183152973651886), multiplicity: 49",
          "(0.30048778653144836, 0.3183152973651886), multiplicity: 49",
          "(0.30048778653144836, 0.3183152973651886), multiplicity: 49",
          "(0.30048778653144836, 0.3183152973651886), multiplicity: 49",
          "(0.30048778653144836, 0.3183152973651886), multiplicity: 49",
          "(0.30048778653144836, 0.3183152973651886), multiplicity: 49",
          "(0.30048778653144836, 0.3183152973651886), multiplicity: 49",
          "(0.30048778653144836, 0.3183152973651886), multiplicity: 49",
          "(0.30048778653144836, 0.3183152973651886), multiplicity: 49",
          "(0.30048778653144836, 0.3183152973651886), multiplicity: 49",
          "(0.30048778653144836, 0.3183152973651886), multiplicity: 49",
          "(0.30048778653144836, 0.3183152973651886), multiplicity: 49",
          "(0.30048778653144836, 0.3183152973651886), multiplicity: 49",
          "(0.30048778653144836, 0.3183152973651886), multiplicity: 49",
          "(0.30048778653144836, 0.3183152973651886), multiplicity: 49",
          "(0.30048778653144836, 0.3183152973651886), multiplicity: 49",
          "(0.30048778653144836, 0.3183152973651886), multiplicity: 49",
          "(0.30048778653144836, 0.3183152973651886), multiplicity: 49",
          "(0.30048778653144836, 0.3183152973651886), multiplicity: 49",
          "(0.30048778653144836, 0.3183152973651886), multiplicity: 49",
          "(0.30048778653144836, 0.3183152973651886), multiplicity: 49",
          "(0.30048778653144836, 0.3183152973651886), multiplicity: 49",
          "(0.30048778653144836, 0.3183152973651886), multiplicity: 49",
          "(0.30048778653144836, 0.3183152973651886), multiplicity: 49",
          "(0.30048778653144836, 0.3183152973651886), multiplicity: 49",
          "(0.30048778653144836, 0.3183152973651886), multiplicity: 49",
          "(0.30048778653144836, 0.3183152973651886), multiplicity: 49",
          "(0.30048778653144836, 0.3183152973651886), multiplicity: 49",
          "(0.30048778653144836, 0.3183152973651886), multiplicity: 49",
          "(0.30048778653144836, 0.3183152973651886), multiplicity: 49",
          "(0.30048778653144836, 0.3183152973651886), multiplicity: 49",
          "(0.30048778653144836, 0.3183152973651886), multiplicity: 49",
          "(0.30048778653144836, 0.3183152973651886), multiplicity: 49",
          "(0.30048778653144836, 0.3183152973651886), multiplicity: 49",
          "(0.30048778653144836, 0.3183152973651886), multiplicity: 49",
          "(0.30048778653144836, 0.3183152973651886), multiplicity: 49",
          "(0.30048778653144836, 0.3183152973651886), multiplicity: 49",
          "(0.30048778653144836, 0.3183152973651886), multiplicity: 49",
          "(0.30048778653144836, 0.3183152973651886), multiplicity: 49",
          "(0.30048778653144836, 0.3183152973651886), multiplicity: 49",
          "(0.30048778653144836, 0.3183152973651886), multiplicity: 49",
          "(0.30048778653144836, 0.3183152973651886), multiplicity: 49",
          "(0.30048778653144836, 0.3183152973651886), multiplicity: 49",
          "(0.1255810409784317, 0.3183152973651886)",
          "(0.08784546703100204, 1.225974440574646)"
         ],
         "mode": "markers",
         "name": "H1",
         "type": "scatter",
         "x": [
          0.30048778653144836,
          0.30048778653144836,
          0.30048778653144836,
          0.30048778653144836,
          0.30048778653144836,
          0.30048778653144836,
          0.30048778653144836,
          0.30048778653144836,
          0.30048778653144836,
          0.30048778653144836,
          0.30048778653144836,
          0.30048778653144836,
          0.30048778653144836,
          0.30048778653144836,
          0.30048778653144836,
          0.30048778653144836,
          0.30048778653144836,
          0.30048778653144836,
          0.30048778653144836,
          0.30048778653144836,
          0.30048778653144836,
          0.30048778653144836,
          0.30048778653144836,
          0.30048778653144836,
          0.30048778653144836,
          0.30048778653144836,
          0.30048778653144836,
          0.30048778653144836,
          0.30048778653144836,
          0.30048778653144836,
          0.30048778653144836,
          0.30048778653144836,
          0.30048778653144836,
          0.30048778653144836,
          0.30048778653144836,
          0.30048778653144836,
          0.30048778653144836,
          0.30048778653144836,
          0.30048778653144836,
          0.30048778653144836,
          0.30048778653144836,
          0.30048778653144836,
          0.30048778653144836,
          0.30048778653144836,
          0.30048778653144836,
          0.30048778653144836,
          0.30048778653144836,
          0.30048778653144836,
          0.30048778653144836,
          0.1255810409784317,
          0.08784546703100204
         ],
         "y": [
          0.3183152973651886,
          0.3183152973651886,
          0.3183152973651886,
          0.3183152973651886,
          0.3183152973651886,
          0.3183152973651886,
          0.3183152973651886,
          0.3183152973651886,
          0.3183152973651886,
          0.3183152973651886,
          0.3183152973651886,
          0.3183152973651886,
          0.3183152973651886,
          0.3183152973651886,
          0.3183152973651886,
          0.3183152973651886,
          0.3183152973651886,
          0.3183152973651886,
          0.3183152973651886,
          0.3183152973651886,
          0.3183152973651886,
          0.3183152973651886,
          0.3183152973651886,
          0.3183152973651886,
          0.3183152973651886,
          0.3183152973651886,
          0.3183152973651886,
          0.3183152973651886,
          0.3183152973651886,
          0.3183152973651886,
          0.3183152973651886,
          0.3183152973651886,
          0.3183152973651886,
          0.3183152973651886,
          0.3183152973651886,
          0.3183152973651886,
          0.3183152973651886,
          0.3183152973651886,
          0.3183152973651886,
          0.3183152973651886,
          0.3183152973651886,
          0.3183152973651886,
          0.3183152973651886,
          0.3183152973651886,
          0.3183152973651886,
          0.3183152973651886,
          0.3183152973651886,
          0.3183152973651886,
          0.3183152973651886,
          0.3183152973651886,
          1.225974440574646
         ]
        }
       ],
       "layout": {
        "height": 500,
        "plot_bgcolor": "white",
        "template": {
         "data": {
          "bar": [
           {
            "error_x": {
             "color": "#2a3f5f"
            },
            "error_y": {
             "color": "#2a3f5f"
            },
            "marker": {
             "line": {
              "color": "#E5ECF6",
              "width": 0.5
             },
             "pattern": {
              "fillmode": "overlay",
              "size": 10,
              "solidity": 0.2
             }
            },
            "type": "bar"
           }
          ],
          "barpolar": [
           {
            "marker": {
             "line": {
              "color": "#E5ECF6",
              "width": 0.5
             },
             "pattern": {
              "fillmode": "overlay",
              "size": 10,
              "solidity": 0.2
             }
            },
            "type": "barpolar"
           }
          ],
          "carpet": [
           {
            "aaxis": {
             "endlinecolor": "#2a3f5f",
             "gridcolor": "white",
             "linecolor": "white",
             "minorgridcolor": "white",
             "startlinecolor": "#2a3f5f"
            },
            "baxis": {
             "endlinecolor": "#2a3f5f",
             "gridcolor": "white",
             "linecolor": "white",
             "minorgridcolor": "white",
             "startlinecolor": "#2a3f5f"
            },
            "type": "carpet"
           }
          ],
          "choropleth": [
           {
            "colorbar": {
             "outlinewidth": 0,
             "ticks": ""
            },
            "type": "choropleth"
           }
          ],
          "contour": [
           {
            "colorbar": {
             "outlinewidth": 0,
             "ticks": ""
            },
            "colorscale": [
             [
              0,
              "#0d0887"
             ],
             [
              0.1111111111111111,
              "#46039f"
             ],
             [
              0.2222222222222222,
              "#7201a8"
             ],
             [
              0.3333333333333333,
              "#9c179e"
             ],
             [
              0.4444444444444444,
              "#bd3786"
             ],
             [
              0.5555555555555556,
              "#d8576b"
             ],
             [
              0.6666666666666666,
              "#ed7953"
             ],
             [
              0.7777777777777778,
              "#fb9f3a"
             ],
             [
              0.8888888888888888,
              "#fdca26"
             ],
             [
              1,
              "#f0f921"
             ]
            ],
            "type": "contour"
           }
          ],
          "contourcarpet": [
           {
            "colorbar": {
             "outlinewidth": 0,
             "ticks": ""
            },
            "type": "contourcarpet"
           }
          ],
          "heatmap": [
           {
            "colorbar": {
             "outlinewidth": 0,
             "ticks": ""
            },
            "colorscale": [
             [
              0,
              "#0d0887"
             ],
             [
              0.1111111111111111,
              "#46039f"
             ],
             [
              0.2222222222222222,
              "#7201a8"
             ],
             [
              0.3333333333333333,
              "#9c179e"
             ],
             [
              0.4444444444444444,
              "#bd3786"
             ],
             [
              0.5555555555555556,
              "#d8576b"
             ],
             [
              0.6666666666666666,
              "#ed7953"
             ],
             [
              0.7777777777777778,
              "#fb9f3a"
             ],
             [
              0.8888888888888888,
              "#fdca26"
             ],
             [
              1,
              "#f0f921"
             ]
            ],
            "type": "heatmap"
           }
          ],
          "heatmapgl": [
           {
            "colorbar": {
             "outlinewidth": 0,
             "ticks": ""
            },
            "colorscale": [
             [
              0,
              "#0d0887"
             ],
             [
              0.1111111111111111,
              "#46039f"
             ],
             [
              0.2222222222222222,
              "#7201a8"
             ],
             [
              0.3333333333333333,
              "#9c179e"
             ],
             [
              0.4444444444444444,
              "#bd3786"
             ],
             [
              0.5555555555555556,
              "#d8576b"
             ],
             [
              0.6666666666666666,
              "#ed7953"
             ],
             [
              0.7777777777777778,
              "#fb9f3a"
             ],
             [
              0.8888888888888888,
              "#fdca26"
             ],
             [
              1,
              "#f0f921"
             ]
            ],
            "type": "heatmapgl"
           }
          ],
          "histogram": [
           {
            "marker": {
             "pattern": {
              "fillmode": "overlay",
              "size": 10,
              "solidity": 0.2
             }
            },
            "type": "histogram"
           }
          ],
          "histogram2d": [
           {
            "colorbar": {
             "outlinewidth": 0,
             "ticks": ""
            },
            "colorscale": [
             [
              0,
              "#0d0887"
             ],
             [
              0.1111111111111111,
              "#46039f"
             ],
             [
              0.2222222222222222,
              "#7201a8"
             ],
             [
              0.3333333333333333,
              "#9c179e"
             ],
             [
              0.4444444444444444,
              "#bd3786"
             ],
             [
              0.5555555555555556,
              "#d8576b"
             ],
             [
              0.6666666666666666,
              "#ed7953"
             ],
             [
              0.7777777777777778,
              "#fb9f3a"
             ],
             [
              0.8888888888888888,
              "#fdca26"
             ],
             [
              1,
              "#f0f921"
             ]
            ],
            "type": "histogram2d"
           }
          ],
          "histogram2dcontour": [
           {
            "colorbar": {
             "outlinewidth": 0,
             "ticks": ""
            },
            "colorscale": [
             [
              0,
              "#0d0887"
             ],
             [
              0.1111111111111111,
              "#46039f"
             ],
             [
              0.2222222222222222,
              "#7201a8"
             ],
             [
              0.3333333333333333,
              "#9c179e"
             ],
             [
              0.4444444444444444,
              "#bd3786"
             ],
             [
              0.5555555555555556,
              "#d8576b"
             ],
             [
              0.6666666666666666,
              "#ed7953"
             ],
             [
              0.7777777777777778,
              "#fb9f3a"
             ],
             [
              0.8888888888888888,
              "#fdca26"
             ],
             [
              1,
              "#f0f921"
             ]
            ],
            "type": "histogram2dcontour"
           }
          ],
          "mesh3d": [
           {
            "colorbar": {
             "outlinewidth": 0,
             "ticks": ""
            },
            "type": "mesh3d"
           }
          ],
          "parcoords": [
           {
            "line": {
             "colorbar": {
              "outlinewidth": 0,
              "ticks": ""
             }
            },
            "type": "parcoords"
           }
          ],
          "pie": [
           {
            "automargin": true,
            "type": "pie"
           }
          ],
          "scatter": [
           {
            "fillpattern": {
             "fillmode": "overlay",
             "size": 10,
             "solidity": 0.2
            },
            "type": "scatter"
           }
          ],
          "scatter3d": [
           {
            "line": {
             "colorbar": {
              "outlinewidth": 0,
              "ticks": ""
             }
            },
            "marker": {
             "colorbar": {
              "outlinewidth": 0,
              "ticks": ""
             }
            },
            "type": "scatter3d"
           }
          ],
          "scattercarpet": [
           {
            "marker": {
             "colorbar": {
              "outlinewidth": 0,
              "ticks": ""
             }
            },
            "type": "scattercarpet"
           }
          ],
          "scattergeo": [
           {
            "marker": {
             "colorbar": {
              "outlinewidth": 0,
              "ticks": ""
             }
            },
            "type": "scattergeo"
           }
          ],
          "scattergl": [
           {
            "marker": {
             "colorbar": {
              "outlinewidth": 0,
              "ticks": ""
             }
            },
            "type": "scattergl"
           }
          ],
          "scattermapbox": [
           {
            "marker": {
             "colorbar": {
              "outlinewidth": 0,
              "ticks": ""
             }
            },
            "type": "scattermapbox"
           }
          ],
          "scatterpolar": [
           {
            "marker": {
             "colorbar": {
              "outlinewidth": 0,
              "ticks": ""
             }
            },
            "type": "scatterpolar"
           }
          ],
          "scatterpolargl": [
           {
            "marker": {
             "colorbar": {
              "outlinewidth": 0,
              "ticks": ""
             }
            },
            "type": "scatterpolargl"
           }
          ],
          "scatterternary": [
           {
            "marker": {
             "colorbar": {
              "outlinewidth": 0,
              "ticks": ""
             }
            },
            "type": "scatterternary"
           }
          ],
          "surface": [
           {
            "colorbar": {
             "outlinewidth": 0,
             "ticks": ""
            },
            "colorscale": [
             [
              0,
              "#0d0887"
             ],
             [
              0.1111111111111111,
              "#46039f"
             ],
             [
              0.2222222222222222,
              "#7201a8"
             ],
             [
              0.3333333333333333,
              "#9c179e"
             ],
             [
              0.4444444444444444,
              "#bd3786"
             ],
             [
              0.5555555555555556,
              "#d8576b"
             ],
             [
              0.6666666666666666,
              "#ed7953"
             ],
             [
              0.7777777777777778,
              "#fb9f3a"
             ],
             [
              0.8888888888888888,
              "#fdca26"
             ],
             [
              1,
              "#f0f921"
             ]
            ],
            "type": "surface"
           }
          ],
          "table": [
           {
            "cells": {
             "fill": {
              "color": "#EBF0F8"
             },
             "line": {
              "color": "white"
             }
            },
            "header": {
             "fill": {
              "color": "#C8D4E3"
             },
             "line": {
              "color": "white"
             }
            },
            "type": "table"
           }
          ]
         },
         "layout": {
          "annotationdefaults": {
           "arrowcolor": "#2a3f5f",
           "arrowhead": 0,
           "arrowwidth": 1
          },
          "autotypenumbers": "strict",
          "coloraxis": {
           "colorbar": {
            "outlinewidth": 0,
            "ticks": ""
           }
          },
          "colorscale": {
           "diverging": [
            [
             0,
             "#8e0152"
            ],
            [
             0.1,
             "#c51b7d"
            ],
            [
             0.2,
             "#de77ae"
            ],
            [
             0.3,
             "#f1b6da"
            ],
            [
             0.4,
             "#fde0ef"
            ],
            [
             0.5,
             "#f7f7f7"
            ],
            [
             0.6,
             "#e6f5d0"
            ],
            [
             0.7,
             "#b8e186"
            ],
            [
             0.8,
             "#7fbc41"
            ],
            [
             0.9,
             "#4d9221"
            ],
            [
             1,
             "#276419"
            ]
           ],
           "sequential": [
            [
             0,
             "#0d0887"
            ],
            [
             0.1111111111111111,
             "#46039f"
            ],
            [
             0.2222222222222222,
             "#7201a8"
            ],
            [
             0.3333333333333333,
             "#9c179e"
            ],
            [
             0.4444444444444444,
             "#bd3786"
            ],
            [
             0.5555555555555556,
             "#d8576b"
            ],
            [
             0.6666666666666666,
             "#ed7953"
            ],
            [
             0.7777777777777778,
             "#fb9f3a"
            ],
            [
             0.8888888888888888,
             "#fdca26"
            ],
            [
             1,
             "#f0f921"
            ]
           ],
           "sequentialminus": [
            [
             0,
             "#0d0887"
            ],
            [
             0.1111111111111111,
             "#46039f"
            ],
            [
             0.2222222222222222,
             "#7201a8"
            ],
            [
             0.3333333333333333,
             "#9c179e"
            ],
            [
             0.4444444444444444,
             "#bd3786"
            ],
            [
             0.5555555555555556,
             "#d8576b"
            ],
            [
             0.6666666666666666,
             "#ed7953"
            ],
            [
             0.7777777777777778,
             "#fb9f3a"
            ],
            [
             0.8888888888888888,
             "#fdca26"
            ],
            [
             1,
             "#f0f921"
            ]
           ]
          },
          "colorway": [
           "#636efa",
           "#EF553B",
           "#00cc96",
           "#ab63fa",
           "#FFA15A",
           "#19d3f3",
           "#FF6692",
           "#B6E880",
           "#FF97FF",
           "#FECB52"
          ],
          "font": {
           "color": "#2a3f5f"
          },
          "geo": {
           "bgcolor": "white",
           "lakecolor": "white",
           "landcolor": "#E5ECF6",
           "showlakes": true,
           "showland": true,
           "subunitcolor": "white"
          },
          "hoverlabel": {
           "align": "left"
          },
          "hovermode": "closest",
          "mapbox": {
           "style": "light"
          },
          "paper_bgcolor": "white",
          "plot_bgcolor": "#E5ECF6",
          "polar": {
           "angularaxis": {
            "gridcolor": "white",
            "linecolor": "white",
            "ticks": ""
           },
           "bgcolor": "#E5ECF6",
           "radialaxis": {
            "gridcolor": "white",
            "linecolor": "white",
            "ticks": ""
           }
          },
          "scene": {
           "xaxis": {
            "backgroundcolor": "#E5ECF6",
            "gridcolor": "white",
            "gridwidth": 2,
            "linecolor": "white",
            "showbackground": true,
            "ticks": "",
            "zerolinecolor": "white"
           },
           "yaxis": {
            "backgroundcolor": "#E5ECF6",
            "gridcolor": "white",
            "gridwidth": 2,
            "linecolor": "white",
            "showbackground": true,
            "ticks": "",
            "zerolinecolor": "white"
           },
           "zaxis": {
            "backgroundcolor": "#E5ECF6",
            "gridcolor": "white",
            "gridwidth": 2,
            "linecolor": "white",
            "showbackground": true,
            "ticks": "",
            "zerolinecolor": "white"
           }
          },
          "shapedefaults": {
           "line": {
            "color": "#2a3f5f"
           }
          },
          "ternary": {
           "aaxis": {
            "gridcolor": "white",
            "linecolor": "white",
            "ticks": ""
           },
           "baxis": {
            "gridcolor": "white",
            "linecolor": "white",
            "ticks": ""
           },
           "bgcolor": "#E5ECF6",
           "caxis": {
            "gridcolor": "white",
            "linecolor": "white",
            "ticks": ""
           }
          },
          "title": {
           "x": 0.05
          },
          "xaxis": {
           "automargin": true,
           "gridcolor": "white",
           "linecolor": "white",
           "ticks": "",
           "title": {
            "standoff": 15
           },
           "zerolinecolor": "white",
           "zerolinewidth": 2
          },
          "yaxis": {
           "automargin": true,
           "gridcolor": "white",
           "linecolor": "white",
           "ticks": "",
           "title": {
            "standoff": 15
           },
           "zerolinecolor": "white",
           "zerolinewidth": 2
          }
         }
        },
        "width": 500,
        "xaxis": {
         "autorange": false,
         "exponentformat": "e",
         "linecolor": "black",
         "linewidth": 1,
         "mirror": false,
         "range": [
          -0.02451948881149292,
          1.250493929386139
         ],
         "showexponent": "all",
         "showline": true,
         "side": "bottom",
         "ticks": "outside",
         "title": {
          "text": "Birth"
         },
         "type": "linear",
         "zeroline": true
        },
        "yaxis": {
         "autorange": false,
         "exponentformat": "e",
         "linecolor": "black",
         "linewidth": 1,
         "mirror": false,
         "range": [
          -0.02451948881149292,
          1.250493929386139
         ],
         "scaleanchor": "x",
         "scaleratio": 1,
         "showexponent": "all",
         "showline": true,
         "side": "left",
         "ticks": "outside",
         "title": {
          "text": "Death"
         },
         "type": "linear",
         "zeroline": true
        }
       }
      }
     },
     "metadata": {},
     "output_type": "display_data"
    }
   ],
   "source": [
    "vr = VietorisRipsPersistence()\n",
    "xt = vr.fit_transform(x)\n",
    "vr.plot(xt, sample = i)"
   ]
  },
  {
   "attachments": {},
   "cell_type": "markdown",
   "metadata": {},
   "source": [
    "Betti curve and Betti value"
   ]
  },
  {
   "cell_type": "code",
   "execution_count": 6,
   "metadata": {},
   "outputs": [
    {
     "data": {
      "application/vnd.plotly.v1+json": {
       "config": {
        "plotlyServerURL": "https://plot.ly"
       },
       "data": [
        {
         "mode": "lines",
         "name": "H0",
         "showlegend": true,
         "type": "scatter",
         "x": [
          0,
          0.008977803316983309,
          0.017955606633966618,
          0.02693340995094993,
          0.035911213267933235,
          0.04488901658491654,
          0.05386681990189986,
          0.06284462321888316,
          0.07182242653586647,
          0.08080022985284978,
          0.08977803316983309,
          0.09875583648681639,
          0.10773363980379971,
          0.11671144312078302,
          0.12568924643776633,
          0.13466704975474963,
          0.14364485307173294,
          0.15262265638871625,
          0.16160045970569956,
          0.17057826302268286,
          0.17955606633966617,
          0.18853386965664948,
          0.19751167297363278,
          0.2064894762906161,
          0.21546727960759943,
          0.22444508292458273,
          0.23342288624156604,
          0.24240068955854935,
          0.25137849287553266,
          0.26035629619251593,
          0.26933409950949927,
          0.27831190282648255,
          0.2872897061434659,
          0.2962675094604492,
          0.3052453127774325,
          0.31422311609441583,
          0.3232009194113991,
          0.33217872272838245,
          0.3411565260453657,
          0.35013432936234906,
          0.35911213267933234,
          0.3680899359963157,
          0.37706773931329896,
          0.3860455426302823,
          0.39502334594726557,
          0.4040011492642489,
          0.4129789525812322,
          0.4219567558982155,
          0.43093455921519885,
          0.43991236253218213,
          0.44889016584916547,
          0.45786796916614875,
          0.4668457724831321,
          0.47582357580011536,
          0.4848013791170987,
          0.493779182434082,
          0.5027569857510653,
          0.5117347890680486,
          0.5207125923850319,
          0.5296903957020153,
          0.5386681990189985,
          0.5476460023359818,
          0.5566238056529651,
          0.5656016089699485,
          0.5745794122869318,
          0.583557215603915,
          0.5925350189208984,
          0.6015128222378817,
          0.610490625554865,
          0.6194684288718483,
          0.6284462321888317,
          0.637424035505815,
          0.6464018388227982,
          0.6553796421397815,
          0.6643574454567649,
          0.6733352487737482,
          0.6823130520907315,
          0.6912908554077147,
          0.7002686587246981,
          0.7092464620416814,
          0.7182242653586647,
          0.7272020686756481,
          0.7361798719926314,
          0.7451576753096146,
          0.7541354786265979,
          0.7631132819435813,
          0.7720910852605646,
          0.7810688885775479,
          0.7900466918945311,
          0.7990244952115145,
          0.8080022985284978,
          0.8169801018454811,
          0.8259579051624644,
          0.8349357084794478,
          0.843913511796431,
          0.8528913151134143,
          0.8618691184303977,
          0.870846921747381,
          0.8798247250643643,
          0.8888025283813477
         ],
         "y": [
          99,
          99,
          99,
          99,
          99,
          99,
          50,
          50,
          50,
          50,
          50,
          50,
          50,
          50,
          1,
          1,
          1,
          1,
          1,
          1,
          1,
          1,
          1,
          1,
          1,
          1,
          1,
          1,
          1,
          1,
          1,
          1,
          1,
          1,
          1,
          1,
          1,
          1,
          1,
          1,
          1,
          1,
          1,
          1,
          1,
          1,
          1,
          1,
          1,
          1,
          1,
          1,
          1,
          1,
          1,
          1,
          1,
          1,
          1,
          1,
          1,
          1,
          1,
          1,
          1,
          1,
          1,
          1,
          1,
          1,
          0,
          0,
          0,
          0,
          0,
          0,
          0,
          0,
          0,
          0,
          0,
          0,
          0,
          0,
          0,
          0,
          0,
          0,
          0,
          0,
          0,
          0,
          0,
          0,
          0,
          0,
          0,
          0,
          0,
          0
         ]
        },
        {
         "mode": "lines",
         "name": "H1",
         "showlegend": true,
         "type": "scatter",
         "x": [
          0.013964295387268066,
          0.030352543098757966,
          0.046740790810247866,
          0.06312903852173776,
          0.07951728623322767,
          0.09590553394471757,
          0.11229378165620746,
          0.12868202936769735,
          0.14507027707918727,
          0.16145852479067715,
          0.17784677250216707,
          0.19423502021365696,
          0.21062326792514685,
          0.22701151563663677,
          0.24339976334812666,
          0.2597880110596166,
          0.27617625877110646,
          0.29256450648259635,
          0.30895275419408624,
          0.3253410019055762,
          0.3417292496170661,
          0.35811749732855597,
          0.37450574504004586,
          0.39089399275153575,
          0.40728224046302564,
          0.4236704881745156,
          0.44005873588600547,
          0.45644698359749536,
          0.47283523130898525,
          0.48922347902047514,
          0.5056117267319651,
          0.5219999744434549,
          0.5383882221549449,
          0.5547764698664348,
          0.5711647175779246,
          0.5875529652894146,
          0.6039412130009044,
          0.6203294607123944,
          0.6367177084238843,
          0.6531059561353741,
          0.6694942038468641,
          0.6858824515583539,
          0.7022706992698439,
          0.7186589469813338,
          0.7350471946928236,
          0.7514354424043136,
          0.7678236901158034,
          0.7842119378272934,
          0.8006001855387832,
          0.8169884332502731,
          0.8333766809617631,
          0.8497649286732529,
          0.8661531763847429,
          0.8825414240962327,
          0.8989296718077227,
          0.9153179195192126,
          0.9317061672307024,
          0.9480944149421924,
          0.9644826626536822,
          0.9808709103651722,
          0.9972591580766621,
          1.013647405788152,
          1.0300356534996418,
          1.0464239012111318,
          1.0628121489226217,
          1.0792003966341115,
          1.0955886443456015,
          1.1119768920570914,
          1.1283651397685812,
          1.144753387480071,
          1.161141635191561,
          1.177529882903051,
          1.1939181306145408,
          1.2103063783260308,
          1.2266946260375207,
          1.2430828737490105,
          1.2594711214605006,
          1.2758593691719904,
          1.2922476168834802,
          1.30863586459497,
          1.3250241123064601,
          1.34141236001795,
          1.3578006077294398,
          1.3741888554409298,
          1.3905771031524197,
          1.4069653508639095,
          1.4233535985753996,
          1.4397418462868894,
          1.4561300939983792,
          1.472518341709869,
          1.4889065894213591,
          1.505294837132849,
          1.5216830848443388,
          1.5380713325558288,
          1.5544595802673187,
          1.5708478279788085,
          1.5872360756902983,
          1.6036243234017884,
          1.6200125711132782,
          1.636400818824768
         ],
         "y": [
          0,
          0,
          0,
          1,
          1,
          1,
          1,
          2,
          2,
          2,
          2,
          2,
          2,
          2,
          2,
          2,
          2,
          2,
          2,
          2,
          2,
          2,
          2,
          2,
          2,
          2,
          2,
          2,
          2,
          2,
          2,
          2,
          2,
          2,
          2,
          2,
          2,
          2,
          1,
          1,
          0,
          0,
          0,
          0,
          0,
          0,
          0,
          0,
          0,
          0,
          0,
          0,
          0,
          0,
          0,
          0,
          0,
          0,
          0,
          0,
          0,
          0,
          0,
          0,
          0,
          0,
          0,
          0,
          0,
          0,
          0,
          0,
          0,
          0,
          0,
          0,
          0,
          0,
          0,
          0,
          0,
          0,
          0,
          0,
          0,
          0,
          0,
          0,
          0,
          0,
          0,
          0,
          0,
          0,
          0,
          0,
          0,
          0,
          0,
          0
         ]
        }
       ],
       "layout": {
        "plot_bgcolor": "white",
        "template": {
         "data": {
          "bar": [
           {
            "error_x": {
             "color": "#2a3f5f"
            },
            "error_y": {
             "color": "#2a3f5f"
            },
            "marker": {
             "line": {
              "color": "#E5ECF6",
              "width": 0.5
             },
             "pattern": {
              "fillmode": "overlay",
              "size": 10,
              "solidity": 0.2
             }
            },
            "type": "bar"
           }
          ],
          "barpolar": [
           {
            "marker": {
             "line": {
              "color": "#E5ECF6",
              "width": 0.5
             },
             "pattern": {
              "fillmode": "overlay",
              "size": 10,
              "solidity": 0.2
             }
            },
            "type": "barpolar"
           }
          ],
          "carpet": [
           {
            "aaxis": {
             "endlinecolor": "#2a3f5f",
             "gridcolor": "white",
             "linecolor": "white",
             "minorgridcolor": "white",
             "startlinecolor": "#2a3f5f"
            },
            "baxis": {
             "endlinecolor": "#2a3f5f",
             "gridcolor": "white",
             "linecolor": "white",
             "minorgridcolor": "white",
             "startlinecolor": "#2a3f5f"
            },
            "type": "carpet"
           }
          ],
          "choropleth": [
           {
            "colorbar": {
             "outlinewidth": 0,
             "ticks": ""
            },
            "type": "choropleth"
           }
          ],
          "contour": [
           {
            "colorbar": {
             "outlinewidth": 0,
             "ticks": ""
            },
            "colorscale": [
             [
              0,
              "#0d0887"
             ],
             [
              0.1111111111111111,
              "#46039f"
             ],
             [
              0.2222222222222222,
              "#7201a8"
             ],
             [
              0.3333333333333333,
              "#9c179e"
             ],
             [
              0.4444444444444444,
              "#bd3786"
             ],
             [
              0.5555555555555556,
              "#d8576b"
             ],
             [
              0.6666666666666666,
              "#ed7953"
             ],
             [
              0.7777777777777778,
              "#fb9f3a"
             ],
             [
              0.8888888888888888,
              "#fdca26"
             ],
             [
              1,
              "#f0f921"
             ]
            ],
            "type": "contour"
           }
          ],
          "contourcarpet": [
           {
            "colorbar": {
             "outlinewidth": 0,
             "ticks": ""
            },
            "type": "contourcarpet"
           }
          ],
          "heatmap": [
           {
            "colorbar": {
             "outlinewidth": 0,
             "ticks": ""
            },
            "colorscale": [
             [
              0,
              "#0d0887"
             ],
             [
              0.1111111111111111,
              "#46039f"
             ],
             [
              0.2222222222222222,
              "#7201a8"
             ],
             [
              0.3333333333333333,
              "#9c179e"
             ],
             [
              0.4444444444444444,
              "#bd3786"
             ],
             [
              0.5555555555555556,
              "#d8576b"
             ],
             [
              0.6666666666666666,
              "#ed7953"
             ],
             [
              0.7777777777777778,
              "#fb9f3a"
             ],
             [
              0.8888888888888888,
              "#fdca26"
             ],
             [
              1,
              "#f0f921"
             ]
            ],
            "type": "heatmap"
           }
          ],
          "heatmapgl": [
           {
            "colorbar": {
             "outlinewidth": 0,
             "ticks": ""
            },
            "colorscale": [
             [
              0,
              "#0d0887"
             ],
             [
              0.1111111111111111,
              "#46039f"
             ],
             [
              0.2222222222222222,
              "#7201a8"
             ],
             [
              0.3333333333333333,
              "#9c179e"
             ],
             [
              0.4444444444444444,
              "#bd3786"
             ],
             [
              0.5555555555555556,
              "#d8576b"
             ],
             [
              0.6666666666666666,
              "#ed7953"
             ],
             [
              0.7777777777777778,
              "#fb9f3a"
             ],
             [
              0.8888888888888888,
              "#fdca26"
             ],
             [
              1,
              "#f0f921"
             ]
            ],
            "type": "heatmapgl"
           }
          ],
          "histogram": [
           {
            "marker": {
             "pattern": {
              "fillmode": "overlay",
              "size": 10,
              "solidity": 0.2
             }
            },
            "type": "histogram"
           }
          ],
          "histogram2d": [
           {
            "colorbar": {
             "outlinewidth": 0,
             "ticks": ""
            },
            "colorscale": [
             [
              0,
              "#0d0887"
             ],
             [
              0.1111111111111111,
              "#46039f"
             ],
             [
              0.2222222222222222,
              "#7201a8"
             ],
             [
              0.3333333333333333,
              "#9c179e"
             ],
             [
              0.4444444444444444,
              "#bd3786"
             ],
             [
              0.5555555555555556,
              "#d8576b"
             ],
             [
              0.6666666666666666,
              "#ed7953"
             ],
             [
              0.7777777777777778,
              "#fb9f3a"
             ],
             [
              0.8888888888888888,
              "#fdca26"
             ],
             [
              1,
              "#f0f921"
             ]
            ],
            "type": "histogram2d"
           }
          ],
          "histogram2dcontour": [
           {
            "colorbar": {
             "outlinewidth": 0,
             "ticks": ""
            },
            "colorscale": [
             [
              0,
              "#0d0887"
             ],
             [
              0.1111111111111111,
              "#46039f"
             ],
             [
              0.2222222222222222,
              "#7201a8"
             ],
             [
              0.3333333333333333,
              "#9c179e"
             ],
             [
              0.4444444444444444,
              "#bd3786"
             ],
             [
              0.5555555555555556,
              "#d8576b"
             ],
             [
              0.6666666666666666,
              "#ed7953"
             ],
             [
              0.7777777777777778,
              "#fb9f3a"
             ],
             [
              0.8888888888888888,
              "#fdca26"
             ],
             [
              1,
              "#f0f921"
             ]
            ],
            "type": "histogram2dcontour"
           }
          ],
          "mesh3d": [
           {
            "colorbar": {
             "outlinewidth": 0,
             "ticks": ""
            },
            "type": "mesh3d"
           }
          ],
          "parcoords": [
           {
            "line": {
             "colorbar": {
              "outlinewidth": 0,
              "ticks": ""
             }
            },
            "type": "parcoords"
           }
          ],
          "pie": [
           {
            "automargin": true,
            "type": "pie"
           }
          ],
          "scatter": [
           {
            "fillpattern": {
             "fillmode": "overlay",
             "size": 10,
             "solidity": 0.2
            },
            "type": "scatter"
           }
          ],
          "scatter3d": [
           {
            "line": {
             "colorbar": {
              "outlinewidth": 0,
              "ticks": ""
             }
            },
            "marker": {
             "colorbar": {
              "outlinewidth": 0,
              "ticks": ""
             }
            },
            "type": "scatter3d"
           }
          ],
          "scattercarpet": [
           {
            "marker": {
             "colorbar": {
              "outlinewidth": 0,
              "ticks": ""
             }
            },
            "type": "scattercarpet"
           }
          ],
          "scattergeo": [
           {
            "marker": {
             "colorbar": {
              "outlinewidth": 0,
              "ticks": ""
             }
            },
            "type": "scattergeo"
           }
          ],
          "scattergl": [
           {
            "marker": {
             "colorbar": {
              "outlinewidth": 0,
              "ticks": ""
             }
            },
            "type": "scattergl"
           }
          ],
          "scattermapbox": [
           {
            "marker": {
             "colorbar": {
              "outlinewidth": 0,
              "ticks": ""
             }
            },
            "type": "scattermapbox"
           }
          ],
          "scatterpolar": [
           {
            "marker": {
             "colorbar": {
              "outlinewidth": 0,
              "ticks": ""
             }
            },
            "type": "scatterpolar"
           }
          ],
          "scatterpolargl": [
           {
            "marker": {
             "colorbar": {
              "outlinewidth": 0,
              "ticks": ""
             }
            },
            "type": "scatterpolargl"
           }
          ],
          "scatterternary": [
           {
            "marker": {
             "colorbar": {
              "outlinewidth": 0,
              "ticks": ""
             }
            },
            "type": "scatterternary"
           }
          ],
          "surface": [
           {
            "colorbar": {
             "outlinewidth": 0,
             "ticks": ""
            },
            "colorscale": [
             [
              0,
              "#0d0887"
             ],
             [
              0.1111111111111111,
              "#46039f"
             ],
             [
              0.2222222222222222,
              "#7201a8"
             ],
             [
              0.3333333333333333,
              "#9c179e"
             ],
             [
              0.4444444444444444,
              "#bd3786"
             ],
             [
              0.5555555555555556,
              "#d8576b"
             ],
             [
              0.6666666666666666,
              "#ed7953"
             ],
             [
              0.7777777777777778,
              "#fb9f3a"
             ],
             [
              0.8888888888888888,
              "#fdca26"
             ],
             [
              1,
              "#f0f921"
             ]
            ],
            "type": "surface"
           }
          ],
          "table": [
           {
            "cells": {
             "fill": {
              "color": "#EBF0F8"
             },
             "line": {
              "color": "white"
             }
            },
            "header": {
             "fill": {
              "color": "#C8D4E3"
             },
             "line": {
              "color": "white"
             }
            },
            "type": "table"
           }
          ]
         },
         "layout": {
          "annotationdefaults": {
           "arrowcolor": "#2a3f5f",
           "arrowhead": 0,
           "arrowwidth": 1
          },
          "autotypenumbers": "strict",
          "coloraxis": {
           "colorbar": {
            "outlinewidth": 0,
            "ticks": ""
           }
          },
          "colorscale": {
           "diverging": [
            [
             0,
             "#8e0152"
            ],
            [
             0.1,
             "#c51b7d"
            ],
            [
             0.2,
             "#de77ae"
            ],
            [
             0.3,
             "#f1b6da"
            ],
            [
             0.4,
             "#fde0ef"
            ],
            [
             0.5,
             "#f7f7f7"
            ],
            [
             0.6,
             "#e6f5d0"
            ],
            [
             0.7,
             "#b8e186"
            ],
            [
             0.8,
             "#7fbc41"
            ],
            [
             0.9,
             "#4d9221"
            ],
            [
             1,
             "#276419"
            ]
           ],
           "sequential": [
            [
             0,
             "#0d0887"
            ],
            [
             0.1111111111111111,
             "#46039f"
            ],
            [
             0.2222222222222222,
             "#7201a8"
            ],
            [
             0.3333333333333333,
             "#9c179e"
            ],
            [
             0.4444444444444444,
             "#bd3786"
            ],
            [
             0.5555555555555556,
             "#d8576b"
            ],
            [
             0.6666666666666666,
             "#ed7953"
            ],
            [
             0.7777777777777778,
             "#fb9f3a"
            ],
            [
             0.8888888888888888,
             "#fdca26"
            ],
            [
             1,
             "#f0f921"
            ]
           ],
           "sequentialminus": [
            [
             0,
             "#0d0887"
            ],
            [
             0.1111111111111111,
             "#46039f"
            ],
            [
             0.2222222222222222,
             "#7201a8"
            ],
            [
             0.3333333333333333,
             "#9c179e"
            ],
            [
             0.4444444444444444,
             "#bd3786"
            ],
            [
             0.5555555555555556,
             "#d8576b"
            ],
            [
             0.6666666666666666,
             "#ed7953"
            ],
            [
             0.7777777777777778,
             "#fb9f3a"
            ],
            [
             0.8888888888888888,
             "#fdca26"
            ],
            [
             1,
             "#f0f921"
            ]
           ]
          },
          "colorway": [
           "#636efa",
           "#EF553B",
           "#00cc96",
           "#ab63fa",
           "#FFA15A",
           "#19d3f3",
           "#FF6692",
           "#B6E880",
           "#FF97FF",
           "#FECB52"
          ],
          "font": {
           "color": "#2a3f5f"
          },
          "geo": {
           "bgcolor": "white",
           "lakecolor": "white",
           "landcolor": "#E5ECF6",
           "showlakes": true,
           "showland": true,
           "subunitcolor": "white"
          },
          "hoverlabel": {
           "align": "left"
          },
          "hovermode": "closest",
          "mapbox": {
           "style": "light"
          },
          "paper_bgcolor": "white",
          "plot_bgcolor": "#E5ECF6",
          "polar": {
           "angularaxis": {
            "gridcolor": "white",
            "linecolor": "white",
            "ticks": ""
           },
           "bgcolor": "#E5ECF6",
           "radialaxis": {
            "gridcolor": "white",
            "linecolor": "white",
            "ticks": ""
           }
          },
          "scene": {
           "xaxis": {
            "backgroundcolor": "#E5ECF6",
            "gridcolor": "white",
            "gridwidth": 2,
            "linecolor": "white",
            "showbackground": true,
            "ticks": "",
            "zerolinecolor": "white"
           },
           "yaxis": {
            "backgroundcolor": "#E5ECF6",
            "gridcolor": "white",
            "gridwidth": 2,
            "linecolor": "white",
            "showbackground": true,
            "ticks": "",
            "zerolinecolor": "white"
           },
           "zaxis": {
            "backgroundcolor": "#E5ECF6",
            "gridcolor": "white",
            "gridwidth": 2,
            "linecolor": "white",
            "showbackground": true,
            "ticks": "",
            "zerolinecolor": "white"
           }
          },
          "shapedefaults": {
           "line": {
            "color": "#2a3f5f"
           }
          },
          "ternary": {
           "aaxis": {
            "gridcolor": "white",
            "linecolor": "white",
            "ticks": ""
           },
           "baxis": {
            "gridcolor": "white",
            "linecolor": "white",
            "ticks": ""
           },
           "bgcolor": "#E5ECF6",
           "caxis": {
            "gridcolor": "white",
            "linecolor": "white",
            "ticks": ""
           }
          },
          "title": {
           "x": 0.05
          },
          "xaxis": {
           "automargin": true,
           "gridcolor": "white",
           "linecolor": "white",
           "ticks": "",
           "title": {
            "standoff": 15
           },
           "zerolinecolor": "white",
           "zerolinewidth": 2
          },
          "yaxis": {
           "automargin": true,
           "gridcolor": "white",
           "linecolor": "white",
           "ticks": "",
           "title": {
            "standoff": 15
           },
           "zerolinecolor": "white",
           "zerolinewidth": 2
          }
         }
        },
        "title": {
         "text": "Betti curves from diagram 0"
        },
        "xaxis": {
         "anchor": "y",
         "exponentformat": "e",
         "linecolor": "black",
         "linewidth": 1,
         "mirror": false,
         "showexponent": "all",
         "showline": true,
         "side": "bottom",
         "ticks": "outside",
         "title": {
          "text": "Filtration parameter"
         },
         "type": "linear",
         "zeroline": true
        },
        "yaxis": {
         "anchor": "x",
         "exponentformat": "e",
         "linecolor": "black",
         "linewidth": 1,
         "mirror": false,
         "showexponent": "all",
         "showline": true,
         "side": "left",
         "ticks": "outside",
         "title": {
          "text": "Betti number"
         },
         "type": "linear",
         "zeroline": true
        }
       }
      }
     },
     "metadata": {},
     "output_type": "display_data"
    }
   ],
   "source": [
    "bc = BettiCurve()\n",
    "x_betti_curve = bc.fit_transform_plot(xt)    "
   ]
  },
  {
   "attachments": {},
   "cell_type": "markdown",
   "metadata": {},
   "source": [
    "Landscape persistence"
   ]
  },
  {
   "cell_type": "code",
   "execution_count": 7,
   "metadata": {},
   "outputs": [
    {
     "data": {
      "application/vnd.plotly.v1+json": {
       "config": {
        "plotlyServerURL": "https://plot.ly"
       },
       "data": [
        {
         "hoverinfo": "none",
         "mode": "lines",
         "name": "Layer 1 (H0)",
         "showlegend": true,
         "type": "scatter",
         "x": [
          0,
          0.008977803316983309,
          0.017955606633966618,
          0.02693340995094993,
          0.035911213267933235,
          0.04488901658491654,
          0.05386681990189986,
          0.06284462321888316,
          0.07182242653586647,
          0.08080022985284978,
          0.08977803316983309,
          0.09875583648681639,
          0.10773363980379971,
          0.11671144312078302,
          0.12568924643776633,
          0.13466704975474963,
          0.14364485307173294,
          0.15262265638871625,
          0.16160045970569956,
          0.17057826302268286,
          0.17955606633966617,
          0.18853386965664948,
          0.19751167297363278,
          0.2064894762906161,
          0.21546727960759943,
          0.22444508292458273,
          0.23342288624156604,
          0.24240068955854935,
          0.25137849287553266,
          0.26035629619251593,
          0.26933409950949927,
          0.27831190282648255,
          0.2872897061434659,
          0.2962675094604492,
          0.3052453127774325,
          0.31422311609441583,
          0.3232009194113991,
          0.33217872272838245,
          0.3411565260453657,
          0.35013432936234906,
          0.35911213267933234,
          0.3680899359963157,
          0.37706773931329896,
          0.3860455426302823,
          0.39502334594726557,
          0.4040011492642489,
          0.4129789525812322,
          0.4219567558982155,
          0.43093455921519885,
          0.43991236253218213,
          0.44889016584916547,
          0.45786796916614875,
          0.4668457724831321,
          0.47582357580011536,
          0.4848013791170987,
          0.493779182434082,
          0.5027569857510653,
          0.5117347890680486,
          0.5207125923850319,
          0.5296903957020153,
          0.5386681990189985,
          0.5476460023359818,
          0.5566238056529651,
          0.5656016089699485,
          0.5745794122869318,
          0.583557215603915,
          0.5925350189208984,
          0.6015128222378817,
          0.610490625554865,
          0.6194684288718483,
          0.6284462321888317,
          0.637424035505815,
          0.6464018388227982,
          0.6553796421397815,
          0.6643574454567649,
          0.6733352487737482,
          0.6823130520907315,
          0.6912908554077147,
          0.7002686587246981,
          0.7092464620416814,
          0.7182242653586647,
          0.7272020686756481,
          0.7361798719926314,
          0.7451576753096146,
          0.7541354786265979,
          0.7631132819435813,
          0.7720910852605646,
          0.7810688885775479,
          0.7900466918945311,
          0.7990244952115145,
          0.8080022985284978,
          0.8169801018454811,
          0.8259579051624644,
          0.8349357084794478,
          0.843913511796431,
          0.8528913151134143,
          0.8618691184303977,
          0.870846921747381,
          0.8798247250643643,
          0.8888025283813477
         ],
         "xaxis": "x",
         "y": [
          0,
          0.008977803316983335,
          0.017955606633966618,
          0.02693340995094995,
          0.035911213267933235,
          0.04488901658491656,
          0.05386681990189986,
          0.06284462321888318,
          0.07182242653586646,
          0.08080022985284979,
          0.08977803316983307,
          0.0987558364868164,
          0.10773363980379971,
          0.11671144312078302,
          0.12568924643776633,
          0.13466704975474963,
          0.14364485307173294,
          0.15262265638871625,
          0.16160045970569956,
          0.17057826302268286,
          0.17955606633966617,
          0.18853386965664948,
          0.19751167297363278,
          0.2064894762906161,
          0.21546727960759943,
          0.22444508292458273,
          0.23342288624156604,
          0.24240068955854935,
          0.25137849287553266,
          0.26035629619251593,
          0.26933409950949927,
          0.27831190282648255,
          0.2872897061434659,
          0.2962675094604492,
          0.3052453127774325,
          0.3112367933446711,
          0.3022589900276878,
          0.29328118671070447,
          0.2843033833937212,
          0.27532558007673785,
          0.2663477767597546,
          0.25736997344277124,
          0.24839217012578796,
          0.23941436680880462,
          0.23043656349182134,
          0.221458760174838,
          0.21248095685785473,
          0.2035031535408714,
          0.19452535022388806,
          0.18554754690690478,
          0.17656974358992145,
          0.16759194027293817,
          0.15861413695595483,
          0.14963633363897155,
          0.14065853032198822,
          0.13168072700500494,
          0.1227029236880216,
          0.11372512037103832,
          0.10474731705405504,
          0.09576951373707165,
          0.08679171042008837,
          0.0778139071031051,
          0.06883610378612182,
          0.059858300469138426,
          0.050880497152155146,
          0.04190269383517187,
          0.03292489051818848,
          0.023947087201205197,
          0.014969283884221918,
          0.005991480567238638,
          0,
          0,
          0,
          0,
          0,
          0,
          0,
          0,
          0,
          0,
          0,
          0,
          0,
          0,
          0,
          0,
          0,
          0,
          0,
          0,
          0,
          0,
          0,
          0,
          0,
          0,
          0,
          0,
          0,
          0
         ],
         "yaxis": "y"
        },
        {
         "hoverinfo": "none",
         "mode": "lines",
         "name": "Layer 1 (H1)",
         "showlegend": true,
         "type": "scatter",
         "x": [
          0.013964295387268066,
          0.030352543098757966,
          0.046740790810247866,
          0.06312903852173776,
          0.07951728623322767,
          0.09590553394471757,
          0.11229378165620746,
          0.12868202936769735,
          0.14507027707918727,
          0.16145852479067715,
          0.17784677250216707,
          0.19423502021365696,
          0.21062326792514685,
          0.22701151563663677,
          0.24339976334812666,
          0.2597880110596166,
          0.27617625877110646,
          0.29256450648259635,
          0.30895275419408624,
          0.3253410019055762,
          0.3417292496170661,
          0.35811749732855597,
          0.37450574504004586,
          0.39089399275153575,
          0.40728224046302564,
          0.4236704881745156,
          0.44005873588600547,
          0.45644698359749536,
          0.47283523130898525,
          0.48922347902047514,
          0.5056117267319651,
          0.5219999744434549,
          0.5383882221549449,
          0.5547764698664348,
          0.5711647175779246,
          0.5875529652894146,
          0.6039412130009044,
          0.6203294607123944,
          0.6367177084238843,
          0.6531059561353741,
          0.6694942038468641,
          0.6858824515583539,
          0.7022706992698439,
          0.7186589469813338,
          0.7350471946928236,
          0.7514354424043136,
          0.7678236901158034,
          0.7842119378272934,
          0.8006001855387832,
          0.8169884332502731,
          0.8333766809617631,
          0.8497649286732529,
          0.8661531763847429,
          0.8825414240962327,
          0.8989296718077227,
          0.9153179195192126,
          0.9317061672307024,
          0.9480944149421924,
          0.9644826626536822,
          0.9808709103651722,
          0.9972591580766621,
          1.013647405788152,
          1.0300356534996418,
          1.0464239012111318,
          1.0628121489226217,
          1.0792003966341115,
          1.0955886443456015,
          1.1119768920570914,
          1.1283651397685812,
          1.144753387480071,
          1.161141635191561,
          1.177529882903051,
          1.1939181306145408,
          1.2103063783260308,
          1.2266946260375207,
          1.2430828737490105,
          1.2594711214605006,
          1.2758593691719904,
          1.2922476168834802,
          1.30863586459497,
          1.3250241123064601,
          1.34141236001795,
          1.3578006077294398,
          1.3741888554409298,
          1.3905771031524197,
          1.4069653508639095,
          1.4233535985753996,
          1.4397418462868894,
          1.4561300939983792,
          1.472518341709869,
          1.4889065894213591,
          1.505294837132849,
          1.5216830848443388,
          1.5380713325558288,
          1.5544595802673187,
          1.5708478279788085,
          1.5872360756902983,
          1.6036243234017884,
          1.6200125711132782,
          1.636400818824768
         ],
         "xaxis": "x2",
         "y": [
          0,
          0,
          0,
          0.016093899467677808,
          0.0324821471791677,
          0.04887039489065759,
          0.06525864260214748,
          0.08164689031363737,
          0.09803513802512728,
          0.11442338573661717,
          0.1308116334481071,
          0.14719988115959698,
          0.16358812887108687,
          0.17997637658257679,
          0.19636462429406668,
          0.2127528720055566,
          0.22914111971704648,
          0.24552936742853637,
          0.26191761514002626,
          0.2783058628515162,
          0.2946941105630061,
          0.2983065482341882,
          0.2819183005226983,
          0.2655300528112084,
          0.2491418050997185,
          0.23275355738822856,
          0.21636530967673867,
          0.19997706196524878,
          0.1835888142537589,
          0.167200566542269,
          0.15081231883077906,
          0.13442407111928922,
          0.11803582340779928,
          0.10164757569630933,
          0.0852593279848195,
          0.06887108027332955,
          0.05248283256183972,
          0.036094584850349776,
          0.01970633713885983,
          0.003318089427369997,
          0,
          0,
          0,
          0,
          0,
          0,
          0,
          0,
          0,
          0,
          0,
          0,
          0,
          0,
          0,
          0,
          0,
          0,
          0,
          0,
          0,
          0,
          0,
          0,
          0,
          0,
          0,
          0,
          0,
          0,
          0,
          0,
          0,
          0,
          0,
          0,
          0,
          0,
          0,
          0,
          0,
          0,
          0,
          0,
          0,
          0,
          0,
          0,
          0,
          0,
          0,
          0,
          0,
          0,
          0,
          0,
          0,
          0,
          0,
          0
         ],
         "yaxis": "y2"
        }
       ],
       "layout": {
        "annotations": [
         {
          "font": {
           "size": 16
          },
          "showarrow": false,
          "text": "H0",
          "x": 0.5,
          "xanchor": "center",
          "xref": "paper",
          "y": 1,
          "yanchor": "bottom",
          "yref": "paper"
         },
         {
          "font": {
           "size": 16
          },
          "showarrow": false,
          "text": "H1",
          "x": 0.5,
          "xanchor": "center",
          "xref": "paper",
          "y": 0.375,
          "yanchor": "bottom",
          "yref": "paper"
         }
        ],
        "plot_bgcolor": "white",
        "template": {
         "data": {
          "bar": [
           {
            "error_x": {
             "color": "#2a3f5f"
            },
            "error_y": {
             "color": "#2a3f5f"
            },
            "marker": {
             "line": {
              "color": "#E5ECF6",
              "width": 0.5
             },
             "pattern": {
              "fillmode": "overlay",
              "size": 10,
              "solidity": 0.2
             }
            },
            "type": "bar"
           }
          ],
          "barpolar": [
           {
            "marker": {
             "line": {
              "color": "#E5ECF6",
              "width": 0.5
             },
             "pattern": {
              "fillmode": "overlay",
              "size": 10,
              "solidity": 0.2
             }
            },
            "type": "barpolar"
           }
          ],
          "carpet": [
           {
            "aaxis": {
             "endlinecolor": "#2a3f5f",
             "gridcolor": "white",
             "linecolor": "white",
             "minorgridcolor": "white",
             "startlinecolor": "#2a3f5f"
            },
            "baxis": {
             "endlinecolor": "#2a3f5f",
             "gridcolor": "white",
             "linecolor": "white",
             "minorgridcolor": "white",
             "startlinecolor": "#2a3f5f"
            },
            "type": "carpet"
           }
          ],
          "choropleth": [
           {
            "colorbar": {
             "outlinewidth": 0,
             "ticks": ""
            },
            "type": "choropleth"
           }
          ],
          "contour": [
           {
            "colorbar": {
             "outlinewidth": 0,
             "ticks": ""
            },
            "colorscale": [
             [
              0,
              "#0d0887"
             ],
             [
              0.1111111111111111,
              "#46039f"
             ],
             [
              0.2222222222222222,
              "#7201a8"
             ],
             [
              0.3333333333333333,
              "#9c179e"
             ],
             [
              0.4444444444444444,
              "#bd3786"
             ],
             [
              0.5555555555555556,
              "#d8576b"
             ],
             [
              0.6666666666666666,
              "#ed7953"
             ],
             [
              0.7777777777777778,
              "#fb9f3a"
             ],
             [
              0.8888888888888888,
              "#fdca26"
             ],
             [
              1,
              "#f0f921"
             ]
            ],
            "type": "contour"
           }
          ],
          "contourcarpet": [
           {
            "colorbar": {
             "outlinewidth": 0,
             "ticks": ""
            },
            "type": "contourcarpet"
           }
          ],
          "heatmap": [
           {
            "colorbar": {
             "outlinewidth": 0,
             "ticks": ""
            },
            "colorscale": [
             [
              0,
              "#0d0887"
             ],
             [
              0.1111111111111111,
              "#46039f"
             ],
             [
              0.2222222222222222,
              "#7201a8"
             ],
             [
              0.3333333333333333,
              "#9c179e"
             ],
             [
              0.4444444444444444,
              "#bd3786"
             ],
             [
              0.5555555555555556,
              "#d8576b"
             ],
             [
              0.6666666666666666,
              "#ed7953"
             ],
             [
              0.7777777777777778,
              "#fb9f3a"
             ],
             [
              0.8888888888888888,
              "#fdca26"
             ],
             [
              1,
              "#f0f921"
             ]
            ],
            "type": "heatmap"
           }
          ],
          "heatmapgl": [
           {
            "colorbar": {
             "outlinewidth": 0,
             "ticks": ""
            },
            "colorscale": [
             [
              0,
              "#0d0887"
             ],
             [
              0.1111111111111111,
              "#46039f"
             ],
             [
              0.2222222222222222,
              "#7201a8"
             ],
             [
              0.3333333333333333,
              "#9c179e"
             ],
             [
              0.4444444444444444,
              "#bd3786"
             ],
             [
              0.5555555555555556,
              "#d8576b"
             ],
             [
              0.6666666666666666,
              "#ed7953"
             ],
             [
              0.7777777777777778,
              "#fb9f3a"
             ],
             [
              0.8888888888888888,
              "#fdca26"
             ],
             [
              1,
              "#f0f921"
             ]
            ],
            "type": "heatmapgl"
           }
          ],
          "histogram": [
           {
            "marker": {
             "pattern": {
              "fillmode": "overlay",
              "size": 10,
              "solidity": 0.2
             }
            },
            "type": "histogram"
           }
          ],
          "histogram2d": [
           {
            "colorbar": {
             "outlinewidth": 0,
             "ticks": ""
            },
            "colorscale": [
             [
              0,
              "#0d0887"
             ],
             [
              0.1111111111111111,
              "#46039f"
             ],
             [
              0.2222222222222222,
              "#7201a8"
             ],
             [
              0.3333333333333333,
              "#9c179e"
             ],
             [
              0.4444444444444444,
              "#bd3786"
             ],
             [
              0.5555555555555556,
              "#d8576b"
             ],
             [
              0.6666666666666666,
              "#ed7953"
             ],
             [
              0.7777777777777778,
              "#fb9f3a"
             ],
             [
              0.8888888888888888,
              "#fdca26"
             ],
             [
              1,
              "#f0f921"
             ]
            ],
            "type": "histogram2d"
           }
          ],
          "histogram2dcontour": [
           {
            "colorbar": {
             "outlinewidth": 0,
             "ticks": ""
            },
            "colorscale": [
             [
              0,
              "#0d0887"
             ],
             [
              0.1111111111111111,
              "#46039f"
             ],
             [
              0.2222222222222222,
              "#7201a8"
             ],
             [
              0.3333333333333333,
              "#9c179e"
             ],
             [
              0.4444444444444444,
              "#bd3786"
             ],
             [
              0.5555555555555556,
              "#d8576b"
             ],
             [
              0.6666666666666666,
              "#ed7953"
             ],
             [
              0.7777777777777778,
              "#fb9f3a"
             ],
             [
              0.8888888888888888,
              "#fdca26"
             ],
             [
              1,
              "#f0f921"
             ]
            ],
            "type": "histogram2dcontour"
           }
          ],
          "mesh3d": [
           {
            "colorbar": {
             "outlinewidth": 0,
             "ticks": ""
            },
            "type": "mesh3d"
           }
          ],
          "parcoords": [
           {
            "line": {
             "colorbar": {
              "outlinewidth": 0,
              "ticks": ""
             }
            },
            "type": "parcoords"
           }
          ],
          "pie": [
           {
            "automargin": true,
            "type": "pie"
           }
          ],
          "scatter": [
           {
            "fillpattern": {
             "fillmode": "overlay",
             "size": 10,
             "solidity": 0.2
            },
            "type": "scatter"
           }
          ],
          "scatter3d": [
           {
            "line": {
             "colorbar": {
              "outlinewidth": 0,
              "ticks": ""
             }
            },
            "marker": {
             "colorbar": {
              "outlinewidth": 0,
              "ticks": ""
             }
            },
            "type": "scatter3d"
           }
          ],
          "scattercarpet": [
           {
            "marker": {
             "colorbar": {
              "outlinewidth": 0,
              "ticks": ""
             }
            },
            "type": "scattercarpet"
           }
          ],
          "scattergeo": [
           {
            "marker": {
             "colorbar": {
              "outlinewidth": 0,
              "ticks": ""
             }
            },
            "type": "scattergeo"
           }
          ],
          "scattergl": [
           {
            "marker": {
             "colorbar": {
              "outlinewidth": 0,
              "ticks": ""
             }
            },
            "type": "scattergl"
           }
          ],
          "scattermapbox": [
           {
            "marker": {
             "colorbar": {
              "outlinewidth": 0,
              "ticks": ""
             }
            },
            "type": "scattermapbox"
           }
          ],
          "scatterpolar": [
           {
            "marker": {
             "colorbar": {
              "outlinewidth": 0,
              "ticks": ""
             }
            },
            "type": "scatterpolar"
           }
          ],
          "scatterpolargl": [
           {
            "marker": {
             "colorbar": {
              "outlinewidth": 0,
              "ticks": ""
             }
            },
            "type": "scatterpolargl"
           }
          ],
          "scatterternary": [
           {
            "marker": {
             "colorbar": {
              "outlinewidth": 0,
              "ticks": ""
             }
            },
            "type": "scatterternary"
           }
          ],
          "surface": [
           {
            "colorbar": {
             "outlinewidth": 0,
             "ticks": ""
            },
            "colorscale": [
             [
              0,
              "#0d0887"
             ],
             [
              0.1111111111111111,
              "#46039f"
             ],
             [
              0.2222222222222222,
              "#7201a8"
             ],
             [
              0.3333333333333333,
              "#9c179e"
             ],
             [
              0.4444444444444444,
              "#bd3786"
             ],
             [
              0.5555555555555556,
              "#d8576b"
             ],
             [
              0.6666666666666666,
              "#ed7953"
             ],
             [
              0.7777777777777778,
              "#fb9f3a"
             ],
             [
              0.8888888888888888,
              "#fdca26"
             ],
             [
              1,
              "#f0f921"
             ]
            ],
            "type": "surface"
           }
          ],
          "table": [
           {
            "cells": {
             "fill": {
              "color": "#EBF0F8"
             },
             "line": {
              "color": "white"
             }
            },
            "header": {
             "fill": {
              "color": "#C8D4E3"
             },
             "line": {
              "color": "white"
             }
            },
            "type": "table"
           }
          ]
         },
         "layout": {
          "annotationdefaults": {
           "arrowcolor": "#2a3f5f",
           "arrowhead": 0,
           "arrowwidth": 1
          },
          "autotypenumbers": "strict",
          "coloraxis": {
           "colorbar": {
            "outlinewidth": 0,
            "ticks": ""
           }
          },
          "colorscale": {
           "diverging": [
            [
             0,
             "#8e0152"
            ],
            [
             0.1,
             "#c51b7d"
            ],
            [
             0.2,
             "#de77ae"
            ],
            [
             0.3,
             "#f1b6da"
            ],
            [
             0.4,
             "#fde0ef"
            ],
            [
             0.5,
             "#f7f7f7"
            ],
            [
             0.6,
             "#e6f5d0"
            ],
            [
             0.7,
             "#b8e186"
            ],
            [
             0.8,
             "#7fbc41"
            ],
            [
             0.9,
             "#4d9221"
            ],
            [
             1,
             "#276419"
            ]
           ],
           "sequential": [
            [
             0,
             "#0d0887"
            ],
            [
             0.1111111111111111,
             "#46039f"
            ],
            [
             0.2222222222222222,
             "#7201a8"
            ],
            [
             0.3333333333333333,
             "#9c179e"
            ],
            [
             0.4444444444444444,
             "#bd3786"
            ],
            [
             0.5555555555555556,
             "#d8576b"
            ],
            [
             0.6666666666666666,
             "#ed7953"
            ],
            [
             0.7777777777777778,
             "#fb9f3a"
            ],
            [
             0.8888888888888888,
             "#fdca26"
            ],
            [
             1,
             "#f0f921"
            ]
           ],
           "sequentialminus": [
            [
             0,
             "#0d0887"
            ],
            [
             0.1111111111111111,
             "#46039f"
            ],
            [
             0.2222222222222222,
             "#7201a8"
            ],
            [
             0.3333333333333333,
             "#9c179e"
            ],
            [
             0.4444444444444444,
             "#bd3786"
            ],
            [
             0.5555555555555556,
             "#d8576b"
            ],
            [
             0.6666666666666666,
             "#ed7953"
            ],
            [
             0.7777777777777778,
             "#fb9f3a"
            ],
            [
             0.8888888888888888,
             "#fdca26"
            ],
            [
             1,
             "#f0f921"
            ]
           ]
          },
          "colorway": [
           "#636efa",
           "#EF553B",
           "#00cc96",
           "#ab63fa",
           "#FFA15A",
           "#19d3f3",
           "#FF6692",
           "#B6E880",
           "#FF97FF",
           "#FECB52"
          ],
          "font": {
           "color": "#2a3f5f"
          },
          "geo": {
           "bgcolor": "white",
           "lakecolor": "white",
           "landcolor": "#E5ECF6",
           "showlakes": true,
           "showland": true,
           "subunitcolor": "white"
          },
          "hoverlabel": {
           "align": "left"
          },
          "hovermode": "closest",
          "mapbox": {
           "style": "light"
          },
          "paper_bgcolor": "white",
          "plot_bgcolor": "#E5ECF6",
          "polar": {
           "angularaxis": {
            "gridcolor": "white",
            "linecolor": "white",
            "ticks": ""
           },
           "bgcolor": "#E5ECF6",
           "radialaxis": {
            "gridcolor": "white",
            "linecolor": "white",
            "ticks": ""
           }
          },
          "scene": {
           "xaxis": {
            "backgroundcolor": "#E5ECF6",
            "gridcolor": "white",
            "gridwidth": 2,
            "linecolor": "white",
            "showbackground": true,
            "ticks": "",
            "zerolinecolor": "white"
           },
           "yaxis": {
            "backgroundcolor": "#E5ECF6",
            "gridcolor": "white",
            "gridwidth": 2,
            "linecolor": "white",
            "showbackground": true,
            "ticks": "",
            "zerolinecolor": "white"
           },
           "zaxis": {
            "backgroundcolor": "#E5ECF6",
            "gridcolor": "white",
            "gridwidth": 2,
            "linecolor": "white",
            "showbackground": true,
            "ticks": "",
            "zerolinecolor": "white"
           }
          },
          "shapedefaults": {
           "line": {
            "color": "#2a3f5f"
           }
          },
          "ternary": {
           "aaxis": {
            "gridcolor": "white",
            "linecolor": "white",
            "ticks": ""
           },
           "baxis": {
            "gridcolor": "white",
            "linecolor": "white",
            "ticks": ""
           },
           "bgcolor": "#E5ECF6",
           "caxis": {
            "gridcolor": "white",
            "linecolor": "white",
            "ticks": ""
           }
          },
          "title": {
           "x": 0.05
          },
          "xaxis": {
           "automargin": true,
           "gridcolor": "white",
           "linecolor": "white",
           "ticks": "",
           "title": {
            "standoff": 15
           },
           "zerolinecolor": "white",
           "zerolinewidth": 2
          },
          "yaxis": {
           "automargin": true,
           "gridcolor": "white",
           "linecolor": "white",
           "ticks": "",
           "title": {
            "standoff": 15
           },
           "zerolinecolor": "white",
           "zerolinewidth": 2
          }
         }
        },
        "title": {
         "text": "Landscape representations of diagram 0"
        },
        "xaxis": {
         "anchor": "y",
         "domain": [
          0,
          1
         ],
         "exponentformat": "e",
         "linecolor": "black",
         "linewidth": 1,
         "mirror": false,
         "showexponent": "all",
         "showline": true,
         "side": "bottom",
         "ticks": "outside",
         "type": "linear",
         "zeroline": true
        },
        "xaxis2": {
         "anchor": "y2",
         "domain": [
          0,
          1
         ]
        },
        "yaxis": {
         "anchor": "x",
         "domain": [
          0.625,
          1
         ],
         "exponentformat": "e",
         "linecolor": "black",
         "linewidth": 1,
         "mirror": false,
         "showexponent": "all",
         "showline": true,
         "side": "left",
         "ticks": "outside",
         "type": "linear",
         "zeroline": true
        },
        "yaxis2": {
         "anchor": "x2",
         "domain": [
          0,
          0.375
         ]
        }
       }
      }
     },
     "metadata": {},
     "output_type": "display_data"
    }
   ],
   "source": [
    "pl = PersistenceLandscape()\n",
    "x_persistence_landscape = pl.fit_transform_plot(xt)"
   ]
  },
  {
   "attachments": {},
   "cell_type": "markdown",
   "metadata": {},
   "source": [
    "Time Series"
   ]
  },
  {
   "cell_type": "code",
   "execution_count": 22,
   "metadata": {},
   "outputs": [],
   "source": [
    "def basic_time_series(n, b, y):\n",
    "    r = np.random.rand(n)\n",
    "    j = 2 * np.pi + np.arcsin(r)\n",
    "    t = np.arange(n)\n",
    "    x = b * np.sin(y * t + j)\n",
    "    return x"
   ]
  },
  {
   "cell_type": "code",
   "execution_count": 24,
   "metadata": {},
   "outputs": [],
   "source": [
    "def noisy_time_series(n, b, y):\n",
    "    r = np.random.rand(n)\n",
    "    j = 2 * np.pi * r\n",
    "    t = np.arange(n)\n",
    "    x = b * np.sin(y * t + j)\n",
    "    return x"
   ]
  },
  {
   "cell_type": "code",
   "execution_count": 25,
   "metadata": {},
   "outputs": [],
   "source": [
    "n = 500\n",
    "b = 1.5\n",
    "y = 1\n",
    "\n",
    "basic_ts = basic_time_series(n, b, y)\n",
    "noisy_ts = noisy_time_series(n, b, y)"
   ]
  },
  {
   "cell_type": "code",
   "execution_count": 26,
   "metadata": {},
   "outputs": [
    {
     "data": {
      "application/vnd.plotly.v1+json": {
       "config": {
        "plotlyServerURL": "https://plot.ly"
       },
       "data": [
        {
         "type": "scatter",
         "y": [
          1.2952198423692192,
          1.4507875930371106,
          1.1206317547683546,
          -0.1909496233006383,
          -1.3967820188495714,
          -0.9570349503593588,
          0.7218793870022007,
          1.4873934259254857,
          0.6986583726104543,
          -0.9240331234966028,
          -1.4987406253463298,
          -1.4995903221206204,
          0.38656419630346306,
          0.9000799131360626,
          1.4999889161328523,
          0.023144326504401007,
          -0.8684920743527981,
          -1.4633168141382416,
          -0.9794421752203706,
          0.22619409552201536,
          1.1405974133706525,
          1.23437712674687,
          -0.3271538025053205,
          -1.4868295206222115,
          -1.0422043618462764,
          1.2740029035373481,
          1.1820045067312366,
          1.0076291730257863,
          -0.6847839887962693,
          -1.4070270398486626,
          -1.0188423575793912,
          0.7422640227371922,
          0.9290038019315101,
          1.3759781340220028,
          0.2600659881808531,
          -1.4988566238561205,
          -1.4995808906478754,
          -0.7797239823051643,
          0.8905688013481081,
          1.4653316059697004,
          0.916375817005228,
          -1.491698410244053,
          -1.4992801725545741,
          -0.4406157462927315,
          1.107253386771108,
          1.4764711935161483,
          1.242499518139659,
          -0.1261351216825266,
          -1.3951807918488606,
          -0.8171239104016569,
          0.2154904254251594,
          1.0129067543277124,
          1.133066627295383,
          -1.0386805587777315,
          -1.499317480018176,
          -0.819639753188653,
          0.5430320880418414,
          1.0559873627943945,
          1.0956109233966989,
          0.779685460855943,
          -1.284031250283275,
          -1.3599985371364482,
          -1.0825763561062482,
          1.3198503283340557,
          1.1231170206351044,
          0.9694619455925257,
          -1.241379984097268,
          -1.3429163183881507,
          -0.6814381842418145,
          0.5731457920325376,
          1.4912048402927018,
          0.10852195467150616,
          -1.07733457243777,
          -1.4957377180283504,
          -1.350795332659663,
          1.0218742053986865,
          0.9656829756520935,
          0.7420355853086041,
          0.30602804744509415,
          -0.7374728483340423,
          -1.2184335524316798,
          -0.6497671773334416,
          0.8026640235826525,
          1.4974047695884074,
          1.0325922796156513,
          -0.5214769978802917,
          -1.3881274756529203,
          -0.7230351580367038,
          0.1792125096432429,
          1.4651451582290287,
          1.1448741328059335,
          -1.35474068869697,
          -1.3925718705364496,
          -1.2237223784811673,
          0.9102150603178375,
          1.4902384312911732,
          -0.02596029852019066,
          -0.3731861365846323,
          -0.957909134692648,
          -1.1043983530091421,
          0.21546310468481256,
          1.3760351374940982,
          1.466911466161764,
          -0.5313365619013636,
          -1.4986916836049013,
          -1.4995721953626266,
          -0.9956947177580707,
          0.5586549800987182,
          1.2568026226174278,
          0.3164251656358882,
          -1.0043465960915174,
          -1.4904224307308176,
          -0.69435877520136,
          0.3209330194934182,
          1.4782078088748487,
          0.47627156317379993,
          -1.3616138990215607,
          -1.386495788875573,
          -0.2618211265295602,
          0.05012605334005138,
          1.341808946998007,
          1.0100952647722325,
          -0.9096855245370028,
          -0.8719949957269499,
          -1.4650690049947004,
          -0.7505280737506357,
          1.258049959492404,
          1.4955782238975204,
          0.683492495509879,
          -0.39384348360186394,
          -1.4997365686656012,
          0.13973341142523327,
          0.4265487351048915,
          1.4529994509371384,
          0.5943481082898745,
          -1.223303312231337,
          -1.2967786482432648,
          0.19239055977899913,
          0.57289332925503,
          1.1712976080144897,
          0.3342459996843322,
          0.22163445412099014,
          -0.9484543415240134,
          -1.4257091004952018,
          0.06368286528887628,
          0.9187125011468715,
          1.4946866587669874,
          0.2595909890083836,
          -0.5541782280463349,
          -1.4919793163165713,
          -0.5390059319235971,
          0.395359835127023,
          1.498755645705125,
          0.6446101340135055,
          -0.7584865725383542,
          -1.2829281389542662,
          -0.7465675223390308,
          0.594295941838166,
          1.4614523178703662,
          0.391349953491391,
          -1.1630853093954463,
          -1.4604483568396531,
          -0.8762116066710226,
          -0.33468961848618417,
          1.1913248885855676,
          1.4905237031510372,
          -0.957407024913453,
          -1.4073411861576415,
          -1.0796050740190508,
          -0.48486757977998096,
          1.4673548424898992,
          1.498426237313414,
          1.0612476424798625,
          -0.8448921482059619,
          -1.4537239820838983,
          -0.6253193311772299,
          1.343657163662541,
          1.3848504467424982,
          0.6977621259347828,
          -0.6764803517592215,
          -1.4057739261885427,
          -0.3668301800299941,
          0.8957997969168627,
          1.498839151801166,
          0.42326477018632047,
          -0.657652564637483,
          -1.1561117215427847,
          -0.9804124598662094,
          -0.27264808716309563,
          1.0214121450104292,
          1.4999662013218165,
          -0.3008376364387611,
          -1.3714454271273437,
          -1.4993798853185845,
          0.10248891370608448,
          1.473867900546471,
          1.4565419746322426,
          0.9496475144376413,
          -1.200741243422549,
          -1.466083666105131,
          -0.5664356093259353,
          0.028983856008955155,
          1.479997150629531,
          0.5449422821605129,
          -0.7880695386686614,
          -1.476157420056749,
          -0.40672964661749095,
          0.7695702282478141,
          1.4758830650665484,
          1.4899511696088372,
          -0.1165232526514291,
          -0.7853077924475114,
          -0.9518360722306559,
          -0.4458677666378362,
          1.2364974560860267,
          1.4946960506481939,
          -0.1926335006454616,
          -1.4530123306155762,
          -1.4963947174754766,
          0.19376514356508048,
          0.5268257242504458,
          1.4949813797104508,
          0.030344370500754718,
          -0.4128975950327739,
          -1.2008350735462754,
          -1.3175883452134836,
          -0.26322244957217295,
          1.4017821881468215,
          1.4315630849612395,
          -1.3415962256794216,
          -1.408708844704392,
          -1.460364987748339,
          0.13438998624806187,
          0.9756267504795499,
          1.3851878329438851,
          0.7942171039321048,
          -0.8548577544961503,
          -1.4753521452119935,
          -0.45322686631686504,
          1.4994769626628655,
          1.2306021133210812,
          0.11001107827060755,
          -0.9247521172445488,
          -1.2988508154543976,
          -0.964064606629776,
          1.0155335324824613,
          0.9964761391276302,
          1.142376134422832,
          -0.7889027993651279,
          -1.4538611714490335,
          -0.2536229144495736,
          0.683893416073622,
          1.2289096258533578,
          1.3608360777951645,
          0.6500774351280346,
          -1.4770574494887865,
          -1.4999934671055355,
          0.6305649269229151,
          0.7300960043075414,
          1.4999437574442944,
          0.37908038639874697,
          -1.3213314483065288,
          -1.4748076162530452,
          -0.6363364016353903,
          0.8594547257950819,
          1.4531211877461687,
          1.1930010467719911,
          -1.2247691345659806,
          -1.4952356264259952,
          -1.3767493852118255,
          1.02827425915295,
          1.2149280925817458,
          0.9286913506202703,
          -0.3116999761811511,
          -1.4749040977764771,
          -0.2961749909124096,
          0.576927997258213,
          1.2634422243350127,
          1.2355734425270046,
          -0.26110599163081727,
          -0.8392354176519217,
          -1.4368969684460862,
          0.34991868411668614,
          1.2377357655846029,
          1.4909934241637968,
          0.23842648038468733,
          -0.347175265167446,
          -1.4986406464035973,
          -0.16555521717946167,
          0.29184452912151815,
          1.375519682494044,
          -0.13145833792147937,
          -0.06500983878170209,
          -1.3339805905295323,
          0.020919076370123052,
          0.7394908535036229,
          1.491632691114536,
          0.6249468361920996,
          0.4934632339523474,
          -1.4576017743596652,
          -1.312206260478091,
          0.5629103096781058,
          1.2114530969280493,
          1.3125008913116247,
          0.35131317212201524,
          -1.037798579240713,
          -1.2625422647553632,
          -0.29266774053540123,
          1.0861021185599997,
          1.4996938195986016,
          0.662914105213127,
          -1.1007407635465856,
          -1.3910971273457573,
          -0.5684391068969259,
          1.2776418310479718,
          1.4598417768821323,
          0.9711603716956716,
          -0.6324508334765726,
          -1.4271955324566328,
          -1.0493253305612913,
          0.7549454850581384,
          1.452098459589721,
          1.261686529818458,
          0.49992444724424345,
          -1.1328606326363078,
          -0.5972593350564597,
          -0.011681597335721976,
          1.150415436767775,
          0.9252205975961274,
          0.3572580618877592,
          -0.9510512223512837,
          -1.3670348698515813,
          -0.3207985334814483,
          0.2767461804202217,
          1.4940839428672819,
          0.9176252540012917,
          -0.3528573118364856,
          -1.4764256994364167,
          -1.1427542344085375,
          -0.13678465590092448,
          1.358559858449685,
          1.4671909558887195,
          -0.2684938351374522,
          -1.4997414700689098,
          -1.0374418990795695,
          -0.30755564466665836,
          0.7348691791348173,
          1.4975154830553783,
          0.20903319180797136,
          -0.7082953170342337,
          -1.438397925402428,
          -0.8772275523136328,
          1.3725367256972738,
          1.4996807572396946,
          1.0245220911538313,
          -1.2185156402498984,
          -1.463574360936581,
          -1.2858268911909525,
          0.6732264885847242,
          1.4936965614499313,
          0.7019204286181736,
          0.060828214550785395,
          -1.384985694518163,
          -1.362000472699214,
          -0.5054671121865628,
          1.4959792418540703,
          1.0220967014492257,
          0.3857857044581051,
          -1.3203666777339589,
          -1.4967823686592694,
          0.5701872559439471,
          0.5940977526980853,
          1.443681658323242,
          0.47698199861859236,
          -1.0474800889511149,
          -1.4709470210744253,
          -1.2083039884468643,
          0.48369532073027544,
          1.4988452730905388,
          1.1882966537548263,
          -1.2004921989101751,
          -1.2240448354023736,
          -1.0390347789979786,
          0.704805048593734,
          1.25447695472941,
          1.0133545481084292,
          -0.7994588886572151,
          -1.0502265351978948,
          -0.5792086131218528,
          0.043706927157340224,
          1.0184988971876956,
          1.425188245271443,
          0.5585841992859635,
          -1.3449551155748596,
          -1.1929657357189345,
          0.2148394075025999,
          1.4999310765433054,
          1.3153398876009539,
          0.496035096790825,
          -0.5337714616278869,
          -1.4996086530172184,
          -1.3248969883594255,
          0.9850255513109075,
          1.4596696838499603,
          1.4212994560224723,
          0.3022727795607582,
          -1.3581691152026252,
          -1.0592927815506354,
          0.11342764098608021,
          1.4284489553164015,
          1.2993753989859955,
          -0.2603517962749734,
          -0.9341584665377136,
          -1.4999697592356203,
          -0.07673545570317407,
          1.0923883667488896,
          1.459065871481821,
          0.6409517777794759,
          -0.4066026990238546,
          -1.4814144062282055,
          -0.8050244835383678,
          0.9509003168215091,
          1.3859454047783775,
          1.087116100090016,
          -1.3866807901074483,
          -1.4891147568140357,
          -0.8345848421420489,
          0.7086890725592577,
          1.4928639024429156,
          1.1386015433382053,
          -0.06737378491407613,
          -0.9144695459175703,
          -1.4978859666644806,
          -0.2592457728157172,
          1.0764501546602432,
          1.4384135027120202,
          0.7745018314561463,
          -1.3685154499730385,
          -1.0693458917042271,
          0.57847287099327,
          0.9569215290918461,
          1.3914097542304484,
          -0.09301569336687934,
          -0.6753129260631389,
          -1.4635887509847936,
          0.16018881471139956,
          0.6329864659771587,
          1.4816630346919655,
          1.3146272571441464,
          0.20839740549346186,
          -1.4750535697426221,
          -0.9981284871153364,
          -0.08614009547326608,
          1.0797776732127118,
          1.2130810503003306,
          -0.13872161664786276,
          -0.9403480991792299,
          -0.9123914502246211,
          -0.8322504934101242,
          0.9566048728878849,
          1.312788345402064,
          0.7666256077031035,
          -1.3757027759520029,
          -1.3520004830184982,
          -0.06971869053020656,
          0.24442107836251986,
          1.3899185968404273,
          1.083075246968085,
          -0.6487936793373855,
          -1.4765734996975322,
          -0.36816527586694625,
          0.774531440251073,
          1.3924848624756265,
          0.7831182414929585,
          0.10374808784757619,
          -1.1635254036072313,
          -1.0246551595006101,
          -0.483220529713013,
          0.8104136797150018,
          1.3384753179162607,
          -0.4441529199805032,
          -0.636028361800409,
          -1.166898720731498,
          0.21164500775682887,
          0.9640071353961339,
          1.4244544003613724,
          1.045679442422818,
          -1.115951693263772,
          -1.4438947040642005,
          0.04133007903956318,
          0.7629233198444125,
          1.2905389795047917,
          1.342433217868772,
          -0.8162415279381374,
          -1.2242875193281506,
          -1.2913572506065774,
          0.20523681112389655,
          0.911510556385881,
          1.4289457559624608,
          0.1394341117844606
         ]
        }
       ],
       "layout": {
        "template": {
         "data": {
          "bar": [
           {
            "error_x": {
             "color": "#2a3f5f"
            },
            "error_y": {
             "color": "#2a3f5f"
            },
            "marker": {
             "line": {
              "color": "#E5ECF6",
              "width": 0.5
             },
             "pattern": {
              "fillmode": "overlay",
              "size": 10,
              "solidity": 0.2
             }
            },
            "type": "bar"
           }
          ],
          "barpolar": [
           {
            "marker": {
             "line": {
              "color": "#E5ECF6",
              "width": 0.5
             },
             "pattern": {
              "fillmode": "overlay",
              "size": 10,
              "solidity": 0.2
             }
            },
            "type": "barpolar"
           }
          ],
          "carpet": [
           {
            "aaxis": {
             "endlinecolor": "#2a3f5f",
             "gridcolor": "white",
             "linecolor": "white",
             "minorgridcolor": "white",
             "startlinecolor": "#2a3f5f"
            },
            "baxis": {
             "endlinecolor": "#2a3f5f",
             "gridcolor": "white",
             "linecolor": "white",
             "minorgridcolor": "white",
             "startlinecolor": "#2a3f5f"
            },
            "type": "carpet"
           }
          ],
          "choropleth": [
           {
            "colorbar": {
             "outlinewidth": 0,
             "ticks": ""
            },
            "type": "choropleth"
           }
          ],
          "contour": [
           {
            "colorbar": {
             "outlinewidth": 0,
             "ticks": ""
            },
            "colorscale": [
             [
              0,
              "#0d0887"
             ],
             [
              0.1111111111111111,
              "#46039f"
             ],
             [
              0.2222222222222222,
              "#7201a8"
             ],
             [
              0.3333333333333333,
              "#9c179e"
             ],
             [
              0.4444444444444444,
              "#bd3786"
             ],
             [
              0.5555555555555556,
              "#d8576b"
             ],
             [
              0.6666666666666666,
              "#ed7953"
             ],
             [
              0.7777777777777778,
              "#fb9f3a"
             ],
             [
              0.8888888888888888,
              "#fdca26"
             ],
             [
              1,
              "#f0f921"
             ]
            ],
            "type": "contour"
           }
          ],
          "contourcarpet": [
           {
            "colorbar": {
             "outlinewidth": 0,
             "ticks": ""
            },
            "type": "contourcarpet"
           }
          ],
          "heatmap": [
           {
            "colorbar": {
             "outlinewidth": 0,
             "ticks": ""
            },
            "colorscale": [
             [
              0,
              "#0d0887"
             ],
             [
              0.1111111111111111,
              "#46039f"
             ],
             [
              0.2222222222222222,
              "#7201a8"
             ],
             [
              0.3333333333333333,
              "#9c179e"
             ],
             [
              0.4444444444444444,
              "#bd3786"
             ],
             [
              0.5555555555555556,
              "#d8576b"
             ],
             [
              0.6666666666666666,
              "#ed7953"
             ],
             [
              0.7777777777777778,
              "#fb9f3a"
             ],
             [
              0.8888888888888888,
              "#fdca26"
             ],
             [
              1,
              "#f0f921"
             ]
            ],
            "type": "heatmap"
           }
          ],
          "heatmapgl": [
           {
            "colorbar": {
             "outlinewidth": 0,
             "ticks": ""
            },
            "colorscale": [
             [
              0,
              "#0d0887"
             ],
             [
              0.1111111111111111,
              "#46039f"
             ],
             [
              0.2222222222222222,
              "#7201a8"
             ],
             [
              0.3333333333333333,
              "#9c179e"
             ],
             [
              0.4444444444444444,
              "#bd3786"
             ],
             [
              0.5555555555555556,
              "#d8576b"
             ],
             [
              0.6666666666666666,
              "#ed7953"
             ],
             [
              0.7777777777777778,
              "#fb9f3a"
             ],
             [
              0.8888888888888888,
              "#fdca26"
             ],
             [
              1,
              "#f0f921"
             ]
            ],
            "type": "heatmapgl"
           }
          ],
          "histogram": [
           {
            "marker": {
             "pattern": {
              "fillmode": "overlay",
              "size": 10,
              "solidity": 0.2
             }
            },
            "type": "histogram"
           }
          ],
          "histogram2d": [
           {
            "colorbar": {
             "outlinewidth": 0,
             "ticks": ""
            },
            "colorscale": [
             [
              0,
              "#0d0887"
             ],
             [
              0.1111111111111111,
              "#46039f"
             ],
             [
              0.2222222222222222,
              "#7201a8"
             ],
             [
              0.3333333333333333,
              "#9c179e"
             ],
             [
              0.4444444444444444,
              "#bd3786"
             ],
             [
              0.5555555555555556,
              "#d8576b"
             ],
             [
              0.6666666666666666,
              "#ed7953"
             ],
             [
              0.7777777777777778,
              "#fb9f3a"
             ],
             [
              0.8888888888888888,
              "#fdca26"
             ],
             [
              1,
              "#f0f921"
             ]
            ],
            "type": "histogram2d"
           }
          ],
          "histogram2dcontour": [
           {
            "colorbar": {
             "outlinewidth": 0,
             "ticks": ""
            },
            "colorscale": [
             [
              0,
              "#0d0887"
             ],
             [
              0.1111111111111111,
              "#46039f"
             ],
             [
              0.2222222222222222,
              "#7201a8"
             ],
             [
              0.3333333333333333,
              "#9c179e"
             ],
             [
              0.4444444444444444,
              "#bd3786"
             ],
             [
              0.5555555555555556,
              "#d8576b"
             ],
             [
              0.6666666666666666,
              "#ed7953"
             ],
             [
              0.7777777777777778,
              "#fb9f3a"
             ],
             [
              0.8888888888888888,
              "#fdca26"
             ],
             [
              1,
              "#f0f921"
             ]
            ],
            "type": "histogram2dcontour"
           }
          ],
          "mesh3d": [
           {
            "colorbar": {
             "outlinewidth": 0,
             "ticks": ""
            },
            "type": "mesh3d"
           }
          ],
          "parcoords": [
           {
            "line": {
             "colorbar": {
              "outlinewidth": 0,
              "ticks": ""
             }
            },
            "type": "parcoords"
           }
          ],
          "pie": [
           {
            "automargin": true,
            "type": "pie"
           }
          ],
          "scatter": [
           {
            "fillpattern": {
             "fillmode": "overlay",
             "size": 10,
             "solidity": 0.2
            },
            "type": "scatter"
           }
          ],
          "scatter3d": [
           {
            "line": {
             "colorbar": {
              "outlinewidth": 0,
              "ticks": ""
             }
            },
            "marker": {
             "colorbar": {
              "outlinewidth": 0,
              "ticks": ""
             }
            },
            "type": "scatter3d"
           }
          ],
          "scattercarpet": [
           {
            "marker": {
             "colorbar": {
              "outlinewidth": 0,
              "ticks": ""
             }
            },
            "type": "scattercarpet"
           }
          ],
          "scattergeo": [
           {
            "marker": {
             "colorbar": {
              "outlinewidth": 0,
              "ticks": ""
             }
            },
            "type": "scattergeo"
           }
          ],
          "scattergl": [
           {
            "marker": {
             "colorbar": {
              "outlinewidth": 0,
              "ticks": ""
             }
            },
            "type": "scattergl"
           }
          ],
          "scattermapbox": [
           {
            "marker": {
             "colorbar": {
              "outlinewidth": 0,
              "ticks": ""
             }
            },
            "type": "scattermapbox"
           }
          ],
          "scatterpolar": [
           {
            "marker": {
             "colorbar": {
              "outlinewidth": 0,
              "ticks": ""
             }
            },
            "type": "scatterpolar"
           }
          ],
          "scatterpolargl": [
           {
            "marker": {
             "colorbar": {
              "outlinewidth": 0,
              "ticks": ""
             }
            },
            "type": "scatterpolargl"
           }
          ],
          "scatterternary": [
           {
            "marker": {
             "colorbar": {
              "outlinewidth": 0,
              "ticks": ""
             }
            },
            "type": "scatterternary"
           }
          ],
          "surface": [
           {
            "colorbar": {
             "outlinewidth": 0,
             "ticks": ""
            },
            "colorscale": [
             [
              0,
              "#0d0887"
             ],
             [
              0.1111111111111111,
              "#46039f"
             ],
             [
              0.2222222222222222,
              "#7201a8"
             ],
             [
              0.3333333333333333,
              "#9c179e"
             ],
             [
              0.4444444444444444,
              "#bd3786"
             ],
             [
              0.5555555555555556,
              "#d8576b"
             ],
             [
              0.6666666666666666,
              "#ed7953"
             ],
             [
              0.7777777777777778,
              "#fb9f3a"
             ],
             [
              0.8888888888888888,
              "#fdca26"
             ],
             [
              1,
              "#f0f921"
             ]
            ],
            "type": "surface"
           }
          ],
          "table": [
           {
            "cells": {
             "fill": {
              "color": "#EBF0F8"
             },
             "line": {
              "color": "white"
             }
            },
            "header": {
             "fill": {
              "color": "#C8D4E3"
             },
             "line": {
              "color": "white"
             }
            },
            "type": "table"
           }
          ]
         },
         "layout": {
          "annotationdefaults": {
           "arrowcolor": "#2a3f5f",
           "arrowhead": 0,
           "arrowwidth": 1
          },
          "autotypenumbers": "strict",
          "coloraxis": {
           "colorbar": {
            "outlinewidth": 0,
            "ticks": ""
           }
          },
          "colorscale": {
           "diverging": [
            [
             0,
             "#8e0152"
            ],
            [
             0.1,
             "#c51b7d"
            ],
            [
             0.2,
             "#de77ae"
            ],
            [
             0.3,
             "#f1b6da"
            ],
            [
             0.4,
             "#fde0ef"
            ],
            [
             0.5,
             "#f7f7f7"
            ],
            [
             0.6,
             "#e6f5d0"
            ],
            [
             0.7,
             "#b8e186"
            ],
            [
             0.8,
             "#7fbc41"
            ],
            [
             0.9,
             "#4d9221"
            ],
            [
             1,
             "#276419"
            ]
           ],
           "sequential": [
            [
             0,
             "#0d0887"
            ],
            [
             0.1111111111111111,
             "#46039f"
            ],
            [
             0.2222222222222222,
             "#7201a8"
            ],
            [
             0.3333333333333333,
             "#9c179e"
            ],
            [
             0.4444444444444444,
             "#bd3786"
            ],
            [
             0.5555555555555556,
             "#d8576b"
            ],
            [
             0.6666666666666666,
             "#ed7953"
            ],
            [
             0.7777777777777778,
             "#fb9f3a"
            ],
            [
             0.8888888888888888,
             "#fdca26"
            ],
            [
             1,
             "#f0f921"
            ]
           ],
           "sequentialminus": [
            [
             0,
             "#0d0887"
            ],
            [
             0.1111111111111111,
             "#46039f"
            ],
            [
             0.2222222222222222,
             "#7201a8"
            ],
            [
             0.3333333333333333,
             "#9c179e"
            ],
            [
             0.4444444444444444,
             "#bd3786"
            ],
            [
             0.5555555555555556,
             "#d8576b"
            ],
            [
             0.6666666666666666,
             "#ed7953"
            ],
            [
             0.7777777777777778,
             "#fb9f3a"
            ],
            [
             0.8888888888888888,
             "#fdca26"
            ],
            [
             1,
             "#f0f921"
            ]
           ]
          },
          "colorway": [
           "#636efa",
           "#EF553B",
           "#00cc96",
           "#ab63fa",
           "#FFA15A",
           "#19d3f3",
           "#FF6692",
           "#B6E880",
           "#FF97FF",
           "#FECB52"
          ],
          "font": {
           "color": "#2a3f5f"
          },
          "geo": {
           "bgcolor": "white",
           "lakecolor": "white",
           "landcolor": "#E5ECF6",
           "showlakes": true,
           "showland": true,
           "subunitcolor": "white"
          },
          "hoverlabel": {
           "align": "left"
          },
          "hovermode": "closest",
          "mapbox": {
           "style": "light"
          },
          "paper_bgcolor": "white",
          "plot_bgcolor": "#E5ECF6",
          "polar": {
           "angularaxis": {
            "gridcolor": "white",
            "linecolor": "white",
            "ticks": ""
           },
           "bgcolor": "#E5ECF6",
           "radialaxis": {
            "gridcolor": "white",
            "linecolor": "white",
            "ticks": ""
           }
          },
          "scene": {
           "xaxis": {
            "backgroundcolor": "#E5ECF6",
            "gridcolor": "white",
            "gridwidth": 2,
            "linecolor": "white",
            "showbackground": true,
            "ticks": "",
            "zerolinecolor": "white"
           },
           "yaxis": {
            "backgroundcolor": "#E5ECF6",
            "gridcolor": "white",
            "gridwidth": 2,
            "linecolor": "white",
            "showbackground": true,
            "ticks": "",
            "zerolinecolor": "white"
           },
           "zaxis": {
            "backgroundcolor": "#E5ECF6",
            "gridcolor": "white",
            "gridwidth": 2,
            "linecolor": "white",
            "showbackground": true,
            "ticks": "",
            "zerolinecolor": "white"
           }
          },
          "shapedefaults": {
           "line": {
            "color": "#2a3f5f"
           }
          },
          "ternary": {
           "aaxis": {
            "gridcolor": "white",
            "linecolor": "white",
            "ticks": ""
           },
           "baxis": {
            "gridcolor": "white",
            "linecolor": "white",
            "ticks": ""
           },
           "bgcolor": "#E5ECF6",
           "caxis": {
            "gridcolor": "white",
            "linecolor": "white",
            "ticks": ""
           }
          },
          "title": {
           "x": 0.05
          },
          "xaxis": {
           "automargin": true,
           "gridcolor": "white",
           "linecolor": "white",
           "ticks": "",
           "title": {
            "standoff": 15
           },
           "zerolinecolor": "white",
           "zerolinewidth": 2
          },
          "yaxis": {
           "automargin": true,
           "gridcolor": "white",
           "linecolor": "white",
           "ticks": "",
           "title": {
            "standoff": 15
           },
           "zerolinecolor": "white",
           "zerolinewidth": 2
          }
         }
        },
        "xaxis": {
         "title": {
          "text": "Time-stamp"
         }
        },
        "yaxis": {
         "title": {
          "text": "Amplitude"
         }
        }
       }
      }
     },
     "metadata": {},
     "output_type": "display_data"
    }
   ],
   "source": [
    "fig = go.Figure(data = go.Scatter(y = basic_ts))\n",
    "fig.update_layout(xaxis_title = \"Time-stamp\", yaxis_title = \"Amplitude\")\n",
    "fig.show()"
   ]
  },
  {
   "cell_type": "code",
   "execution_count": 27,
   "metadata": {},
   "outputs": [
    {
     "data": {
      "application/vnd.plotly.v1+json": {
       "config": {
        "plotlyServerURL": "https://plot.ly"
       },
       "data": [
        {
         "type": "scatter",
         "y": [
          1.4740693001787466,
          1.4390515243002373,
          0.4304382179523069,
          1.4514284170348999,
          -0.9260574561777395,
          -0.6403246448841245,
          1.2640457551215218,
          -1.0321014882636201,
          1.0885412154630307,
          1.3665154292734498,
          0.906901558263671,
          -0.9738169848200287,
          -0.1919381348556499,
          -0.3509104126261199,
          -0.9990422162475614,
          -1.3373808058600676,
          1.4867431241573883,
          -0.39171379153091335,
          -1.4847400355339613,
          1.266789451912175,
          0.33007707736650704,
          1.0047151563799337,
          -0.47310802704634736,
          1.4657363698231665,
          -1.0072511147223486,
          1.4161008279658895,
          -1.3919259571592042,
          -1.1217341478097058,
          -1.1309944823983815,
          -0.9055670614214992,
          1.4906533524068133,
          0.8101826224937447,
          -1.0542538220542124,
          0.02135913746313949,
          -1.1057229664004846,
          0.7546989656112073,
          -1.2468634952393547,
          1.179934693844968,
          -1.0548845779441391,
          -0.7638607917597176,
          1.2278784271878915,
          -0.07907540154499934,
          0.2212075501132179,
          1.4995190551128408,
          0.6576140057399197,
          -0.41717946394185024,
          0.37488767408182566,
          0.26068046493773983,
          -0.7490370457482785,
          0.4588846915488375,
          0.5373456163323476,
          -0.09572441845366847,
          -0.9358785353285602,
          1.4377533442536212,
          -0.5472427111020127,
          0.8250411794063617,
          1.4950941762562275,
          -1.3913486018461012,
          0.9975732661813842,
          -1.037075582632775,
          -0.4316986730883158,
          -1.4315015061316103,
          -1.4943349996041593,
          -0.8148596683010292,
          -1.433811263886609,
          -1.0913324136007483,
          0.20141621192706105,
          -0.10887990412500537,
          -0.07264267817023,
          1.486034089049184,
          1.2546936107765183,
          -0.5975333874814271,
          -1.086428162885316,
          -1.4616878150811188,
          1.4163638903501679,
          0.4628113681443472,
          1.490745716157484,
          -1.4198733856060304,
          -0.71174401936307,
          -1.1382814237329661,
          0.46159161676150723,
          0.9696457839514707,
          -0.6044504103853556,
          1.3868005930001126,
          1.0322082745284675,
          0.6008755724823331,
          0.6321781648882039,
          1.0315714833793126,
          -1.1170089271129746,
          -1.157520243252007,
          1.293524550860527,
          -1.0459655242024708,
          0.06400624503002743,
          1.1982160722221766,
          -0.03976955946076373,
          -1.1195440141969766,
          0.7301574548436289,
          -0.8711469952415598,
          1.1222005556786425,
          -0.4787831036912136,
          -1.123474210591052,
          1.2342302114803025,
          -0.46369864440498815,
          1.4956885043950048,
          0.2665833962383298,
          1.0197678206971816,
          1.4846384712972687,
          1.3252700041194703,
          -1.3795648783122703,
          -0.02588265322274977,
          -1.0265212395082004,
          -1.059088090572858,
          -0.1987347373532073,
          -0.6495857630541784,
          1.1507949649757332,
          -1.4997163366231607,
          -1.4628478424303384,
          0.5866937177042362,
          -1.0775350035359685,
          1.1877921366268707,
          0.4696953906897524,
          -0.8787312190150869,
          0.8609131837428048,
          0.7662627558229573,
          -0.40746433812793303,
          1.4580529852005681,
          0.5722835856588351,
          -0.8416487232852168,
          -1.330651021010449,
          -0.6248609000101655,
          1.4129353186361004,
          1.4998394173420266,
          -1.1736387817186926,
          -1.455660243979295,
          0.48579578567392534,
          0.34665833267134577,
          -1.3052584961448037,
          1.499992634128167,
          0.45006264539406726,
          -0.5905288139442214,
          1.020471548547015,
          -1.096729620499782,
          1.4863393174142727,
          -0.2410494004369106,
          -0.42553836265190226,
          0.010664855755735647,
          1.4925582058673774,
          0.6537427403510667,
          -1.4516486496087184,
          0.2290055258795766,
          1.4852108421998462,
          1.482039771398428,
          0.9190675523260199,
          1.410488778379062,
          0.6524265474841703,
          -1.46591952734645,
          1.3005315965899085,
          0.9380506587811949,
          0.9884596882561697,
          -0.5999672722138645,
          0.9206382648101953,
          0.2397694798692498,
          -0.22505930410768765,
          0.1427663947553992,
          -1.4992605990691503,
          -0.32311496948593177,
          0.12028866743948818,
          0.6224445942210536,
          -1.0845417581335663,
          1.1541441032154511,
          1.2243249871608806,
          1.154596530833001,
          -0.9196349879684949,
          -1.3447567784355752,
          0.5724071749841826,
          -0.14920888529671386,
          1.0902759208966477,
          1.0564542837250788,
          1.4118028781527723,
          0.6039359740994146,
          1.3494059067670303,
          -1.3420057570172248,
          1.4108595134780721,
          -0.7142345129025109,
          1.1437094864665158,
          -1.4829468883356647,
          1.3880315141096997,
          0.17291177293519752,
          -1.1846125715226756,
          1.4559704820455168,
          0.3440573563399622,
          -0.8310592616005437,
          1.4012250147506975,
          0.2590016293409768,
          0.9521467008291712,
          -0.9411756383764789,
          -1.2727500864185912,
          -1.460175112106012,
          0.45306277297654607,
          0.9619592430026592,
          1.4821872062152353,
          -0.6470094523819757,
          0.5148021137582379,
          -1.4660677226730883,
          1.4808421878109952,
          1.3733002728113093,
          -1.2110796397760568,
          -0.5356532329546645,
          -0.29112391181968406,
          1.0637612891099582,
          0.4369696349055914,
          1.3995700850732316,
          -0.9909890342628311,
          1.0317257711972536,
          1.4690362111280368,
          1.4725085296864207,
          1.4270808988698453,
          -1.2244838853874938,
          0.8623111377203927,
          1.1695680606935723,
          -1.1936121615631177,
          -1.3404423162144858,
          -0.4862149792917626,
          -1.3016584246126726,
          1.2857910220482511,
          -0.23691542873097693,
          -0.5321687873519649,
          1.3163696879469922,
          1.4354231481248458,
          -0.2046633257853152,
          -0.17406546700732559,
          -0.7662902207218425,
          -0.6293683258534853,
          -0.3715040481487741,
          -0.6513242441923204,
          0.4284923784543204,
          0.10173636058647026,
          -0.23958197340016765,
          1.4890542885779925,
          -1.4988050175101488,
          -1.4711546124094337,
          0.178751349367472,
          0.2168483590452031,
          1.392706403626201,
          -0.8791944681422482,
          0.6571499609005957,
          1.4241610411245684,
          1.3111820820846152,
          -1.2625372216583512,
          0.4093302300987813,
          -1.4808809912160203,
          0.8435118525979601,
          0.9021312398333841,
          -1.3228336633299689,
          -0.34824435563536754,
          1.4081539824372078,
          1.3872669740320904,
          -1.410724483209194,
          0.451524447018855,
          0.2624999532448048,
          -0.9565596190713543,
          0.47868710196193853,
          0.15255876976252347,
          1.2397920699006184,
          -0.3522147834903281,
          1.4917466279042804,
          1.492223252964309,
          -0.41737510763590757,
          1.4289812164664002,
          -1.435398573908904,
          1.492942945577544,
          -0.9061834082688162,
          -0.988239508553789,
          0.8706362710317215,
          0.6207054776051593,
          0.21964483752742964,
          -0.13544986160826858,
          -0.8313087229334203,
          -1.139636510418593,
          -1.2035835554699337,
          1.4446108278910912,
          0.7250555414490064,
          -0.5028280660371808,
          0.9932644430193498,
          1.375255944401594,
          1.4867624314610222,
          -0.08910449796103923,
          0.9535844617420761,
          1.487613943048792,
          1.4994032556136219,
          -0.020033317608982696,
          0.9435223833452311,
          0.8698908083850436,
          -0.6389938781634564,
          0.2694165098893682,
          -0.1963173187194973,
          -1.4735352598519305,
          1.4560761914646525,
          1.4666453772854378,
          -0.9660436533169747,
          1.4723200336117,
          -0.8351277482597057,
          -1.3822171414524613,
          0.5775943344497777,
          1.4999976777677604,
          0.01789920582476243,
          -0.5685534145483662,
          -1.4986242393590152,
          1.003938000341532,
          1.492969104146375,
          0.3064309871699661,
          -0.5074717412614291,
          -0.012765536374270223,
          -1.0636726025622092,
          1.4995982416780205,
          1.4954227765492394,
          -0.7908399229873742,
          -0.39741318997710817,
          1.4746956885931621,
          -0.8528143785464144,
          -1.4708502415197833,
          -0.8358786647737921,
          1.4960495463470738,
          1.418292602095651,
          -0.8442618429045625,
          -0.327193800724742,
          -0.7480899204688356,
          1.0301831022803647,
          -1.4672629166008924,
          1.2594811671637318,
          -1.1610819780358408,
          0.9864686602161895,
          0.25274446659932137,
          -1.4999807892500003,
          0.9286586976546456,
          0.36891911944378647,
          -1.2738599856200055,
          -1.3679609200640213,
          1.4040514235903097,
          -1.4313887978434068,
          1.402450945159636,
          -0.19929049752623612,
          0.7662942321467978,
          0.3486517735301618,
          -0.06173385402522992,
          1.1643423060060276,
          -0.061830845726819045,
          -0.9794741078054248,
          -1.4819887776446787,
          -1.3428160676165497,
          -0.3114211150240183,
          0.5116478547389389,
          -1.497444217480883,
          1.4077210251164967,
          -0.5482666183787182,
          0.4667160189301862,
          1.3283515945107505,
          -0.0794871572045779,
          -1.3769341158029027,
          0.37655509149117,
          1.3758510984119168,
          -0.9959775070808328,
          -1.4594014479816062,
          0.37318459374440277,
          0.48079191851979014,
          1.349628787994628,
          1.1728760353560768,
          1.4900047654246977,
          -1.4480430758797929,
          0.2302610572705219,
          -0.5936209093920602,
          -0.0470764364649572,
          -0.74892029530458,
          1.0831382373014418,
          1.4578806703888432,
          1.418165393236354,
          -1.0379229411798363,
          -0.22450304738972127,
          -1.4218728738012891,
          0.9271975931528005,
          -0.9991132025516325,
          -1.1602117325290529,
          -1.1974569840984546,
          1.2802704861436283,
          -0.9672806921634685,
          1.4689874383310566,
          -0.6734167479653055,
          -0.71808688648431,
          0.28464078557329825,
          1.4058425905154102,
          -1.4982821015750436,
          0.4128396842904426,
          -1.4076802795941163,
          -1.170283085544329,
          -1.1845007110306942,
          -0.4035082193658323,
          1.1816349491346285,
          1.4996495766079057,
          -1.3268935317960724,
          -1.4783272137976748,
          -0.7557442681181747,
          -1.423121928129867,
          0.6374163357108598,
          -1.1863512358510562,
          -0.636444565629291,
          1.469933296656698,
          1.2699229796477647,
          -1.4669850420907855,
          0.5138471313989759,
          1.4921316333359798,
          1.0251272464941974,
          1.4653656308113618,
          -0.09247039405787166,
          1.3381622049141186,
          1.40623826027108,
          -1.4925135966906673,
          -0.6139857974563256,
          -1.1276794026463672,
          -0.3821809516038852,
          -1.477811730191366,
          -0.8170584330122463,
          0.15829959463971216,
          -1.4019261223409871,
          -0.05093541583245406,
          -1.4620012162494573,
          1.479282042736974,
          -1.4457131731733621,
          -1.4949047850152895,
          1.245078303245063,
          0.4320857488525061,
          1.4180303002703636,
          0.37271002777404877,
          -0.9416234780724684,
          -1.4795636785373805,
          -0.9609375863625522,
          1.466512106052625,
          1.422754444815618,
          0.8625042553450043,
          -1.4954206504200254,
          -0.2492047065247079,
          -0.8598699629588918,
          -1.471286576744369,
          -1.4130747445320084,
          -0.8630543772310585,
          0.8509439207301617,
          0.9323546992981725,
          -0.13946278331270245,
          0.8588928649409064,
          -1.358465106555635,
          1.3682101882497912,
          -1.4433470179607728,
          1.3332405083269716,
          -1.2271918504101862,
          -0.3895958688449432,
          1.4670409506203828,
          -1.12661597069281,
          -1.0863369105341532,
          -1.2836575843011149,
          0.16532578676635024,
          -1.439370508596657,
          1.494205720995384,
          -1.370576678062861,
          0.7518753758991441,
          -0.12526397370608983,
          1.417689383448863,
          1.3171854423828222,
          0.27804100834703543,
          -0.49509674996520114,
          -1.461124992528318,
          -0.4040882355138671,
          0.6281589778872316,
          0.8768886540096403,
          1.2659364592660745,
          -1.4737189886245676,
          1.4383703251816218,
          -1.1304138570624702,
          -0.591623442921016,
          1.3085810522599346,
          -0.883132165007386,
          1.3552836627219322,
          1.4967016793487407,
          0.48778454579192454,
          0.08684936153646267,
          1.137240341421449,
          0.34555648493291713,
          1.3918606276139742,
          -0.6355096775613092,
          -0.9682388498097982,
          1.4997924850854256,
          1.3754703480142576,
          -0.09529931406306341,
          -1.3875711513751643,
          -0.6503797701865898,
          1.0669594977510322,
          0.5365013754868443,
          -0.7974994829288327,
          -1.3696165251630366,
          -1.4985950630764413,
          -0.6801883850576947,
          0.3715313830101751
         ]
        }
       ],
       "layout": {
        "template": {
         "data": {
          "bar": [
           {
            "error_x": {
             "color": "#2a3f5f"
            },
            "error_y": {
             "color": "#2a3f5f"
            },
            "marker": {
             "line": {
              "color": "#E5ECF6",
              "width": 0.5
             },
             "pattern": {
              "fillmode": "overlay",
              "size": 10,
              "solidity": 0.2
             }
            },
            "type": "bar"
           }
          ],
          "barpolar": [
           {
            "marker": {
             "line": {
              "color": "#E5ECF6",
              "width": 0.5
             },
             "pattern": {
              "fillmode": "overlay",
              "size": 10,
              "solidity": 0.2
             }
            },
            "type": "barpolar"
           }
          ],
          "carpet": [
           {
            "aaxis": {
             "endlinecolor": "#2a3f5f",
             "gridcolor": "white",
             "linecolor": "white",
             "minorgridcolor": "white",
             "startlinecolor": "#2a3f5f"
            },
            "baxis": {
             "endlinecolor": "#2a3f5f",
             "gridcolor": "white",
             "linecolor": "white",
             "minorgridcolor": "white",
             "startlinecolor": "#2a3f5f"
            },
            "type": "carpet"
           }
          ],
          "choropleth": [
           {
            "colorbar": {
             "outlinewidth": 0,
             "ticks": ""
            },
            "type": "choropleth"
           }
          ],
          "contour": [
           {
            "colorbar": {
             "outlinewidth": 0,
             "ticks": ""
            },
            "colorscale": [
             [
              0,
              "#0d0887"
             ],
             [
              0.1111111111111111,
              "#46039f"
             ],
             [
              0.2222222222222222,
              "#7201a8"
             ],
             [
              0.3333333333333333,
              "#9c179e"
             ],
             [
              0.4444444444444444,
              "#bd3786"
             ],
             [
              0.5555555555555556,
              "#d8576b"
             ],
             [
              0.6666666666666666,
              "#ed7953"
             ],
             [
              0.7777777777777778,
              "#fb9f3a"
             ],
             [
              0.8888888888888888,
              "#fdca26"
             ],
             [
              1,
              "#f0f921"
             ]
            ],
            "type": "contour"
           }
          ],
          "contourcarpet": [
           {
            "colorbar": {
             "outlinewidth": 0,
             "ticks": ""
            },
            "type": "contourcarpet"
           }
          ],
          "heatmap": [
           {
            "colorbar": {
             "outlinewidth": 0,
             "ticks": ""
            },
            "colorscale": [
             [
              0,
              "#0d0887"
             ],
             [
              0.1111111111111111,
              "#46039f"
             ],
             [
              0.2222222222222222,
              "#7201a8"
             ],
             [
              0.3333333333333333,
              "#9c179e"
             ],
             [
              0.4444444444444444,
              "#bd3786"
             ],
             [
              0.5555555555555556,
              "#d8576b"
             ],
             [
              0.6666666666666666,
              "#ed7953"
             ],
             [
              0.7777777777777778,
              "#fb9f3a"
             ],
             [
              0.8888888888888888,
              "#fdca26"
             ],
             [
              1,
              "#f0f921"
             ]
            ],
            "type": "heatmap"
           }
          ],
          "heatmapgl": [
           {
            "colorbar": {
             "outlinewidth": 0,
             "ticks": ""
            },
            "colorscale": [
             [
              0,
              "#0d0887"
             ],
             [
              0.1111111111111111,
              "#46039f"
             ],
             [
              0.2222222222222222,
              "#7201a8"
             ],
             [
              0.3333333333333333,
              "#9c179e"
             ],
             [
              0.4444444444444444,
              "#bd3786"
             ],
             [
              0.5555555555555556,
              "#d8576b"
             ],
             [
              0.6666666666666666,
              "#ed7953"
             ],
             [
              0.7777777777777778,
              "#fb9f3a"
             ],
             [
              0.8888888888888888,
              "#fdca26"
             ],
             [
              1,
              "#f0f921"
             ]
            ],
            "type": "heatmapgl"
           }
          ],
          "histogram": [
           {
            "marker": {
             "pattern": {
              "fillmode": "overlay",
              "size": 10,
              "solidity": 0.2
             }
            },
            "type": "histogram"
           }
          ],
          "histogram2d": [
           {
            "colorbar": {
             "outlinewidth": 0,
             "ticks": ""
            },
            "colorscale": [
             [
              0,
              "#0d0887"
             ],
             [
              0.1111111111111111,
              "#46039f"
             ],
             [
              0.2222222222222222,
              "#7201a8"
             ],
             [
              0.3333333333333333,
              "#9c179e"
             ],
             [
              0.4444444444444444,
              "#bd3786"
             ],
             [
              0.5555555555555556,
              "#d8576b"
             ],
             [
              0.6666666666666666,
              "#ed7953"
             ],
             [
              0.7777777777777778,
              "#fb9f3a"
             ],
             [
              0.8888888888888888,
              "#fdca26"
             ],
             [
              1,
              "#f0f921"
             ]
            ],
            "type": "histogram2d"
           }
          ],
          "histogram2dcontour": [
           {
            "colorbar": {
             "outlinewidth": 0,
             "ticks": ""
            },
            "colorscale": [
             [
              0,
              "#0d0887"
             ],
             [
              0.1111111111111111,
              "#46039f"
             ],
             [
              0.2222222222222222,
              "#7201a8"
             ],
             [
              0.3333333333333333,
              "#9c179e"
             ],
             [
              0.4444444444444444,
              "#bd3786"
             ],
             [
              0.5555555555555556,
              "#d8576b"
             ],
             [
              0.6666666666666666,
              "#ed7953"
             ],
             [
              0.7777777777777778,
              "#fb9f3a"
             ],
             [
              0.8888888888888888,
              "#fdca26"
             ],
             [
              1,
              "#f0f921"
             ]
            ],
            "type": "histogram2dcontour"
           }
          ],
          "mesh3d": [
           {
            "colorbar": {
             "outlinewidth": 0,
             "ticks": ""
            },
            "type": "mesh3d"
           }
          ],
          "parcoords": [
           {
            "line": {
             "colorbar": {
              "outlinewidth": 0,
              "ticks": ""
             }
            },
            "type": "parcoords"
           }
          ],
          "pie": [
           {
            "automargin": true,
            "type": "pie"
           }
          ],
          "scatter": [
           {
            "fillpattern": {
             "fillmode": "overlay",
             "size": 10,
             "solidity": 0.2
            },
            "type": "scatter"
           }
          ],
          "scatter3d": [
           {
            "line": {
             "colorbar": {
              "outlinewidth": 0,
              "ticks": ""
             }
            },
            "marker": {
             "colorbar": {
              "outlinewidth": 0,
              "ticks": ""
             }
            },
            "type": "scatter3d"
           }
          ],
          "scattercarpet": [
           {
            "marker": {
             "colorbar": {
              "outlinewidth": 0,
              "ticks": ""
             }
            },
            "type": "scattercarpet"
           }
          ],
          "scattergeo": [
           {
            "marker": {
             "colorbar": {
              "outlinewidth": 0,
              "ticks": ""
             }
            },
            "type": "scattergeo"
           }
          ],
          "scattergl": [
           {
            "marker": {
             "colorbar": {
              "outlinewidth": 0,
              "ticks": ""
             }
            },
            "type": "scattergl"
           }
          ],
          "scattermapbox": [
           {
            "marker": {
             "colorbar": {
              "outlinewidth": 0,
              "ticks": ""
             }
            },
            "type": "scattermapbox"
           }
          ],
          "scatterpolar": [
           {
            "marker": {
             "colorbar": {
              "outlinewidth": 0,
              "ticks": ""
             }
            },
            "type": "scatterpolar"
           }
          ],
          "scatterpolargl": [
           {
            "marker": {
             "colorbar": {
              "outlinewidth": 0,
              "ticks": ""
             }
            },
            "type": "scatterpolargl"
           }
          ],
          "scatterternary": [
           {
            "marker": {
             "colorbar": {
              "outlinewidth": 0,
              "ticks": ""
             }
            },
            "type": "scatterternary"
           }
          ],
          "surface": [
           {
            "colorbar": {
             "outlinewidth": 0,
             "ticks": ""
            },
            "colorscale": [
             [
              0,
              "#0d0887"
             ],
             [
              0.1111111111111111,
              "#46039f"
             ],
             [
              0.2222222222222222,
              "#7201a8"
             ],
             [
              0.3333333333333333,
              "#9c179e"
             ],
             [
              0.4444444444444444,
              "#bd3786"
             ],
             [
              0.5555555555555556,
              "#d8576b"
             ],
             [
              0.6666666666666666,
              "#ed7953"
             ],
             [
              0.7777777777777778,
              "#fb9f3a"
             ],
             [
              0.8888888888888888,
              "#fdca26"
             ],
             [
              1,
              "#f0f921"
             ]
            ],
            "type": "surface"
           }
          ],
          "table": [
           {
            "cells": {
             "fill": {
              "color": "#EBF0F8"
             },
             "line": {
              "color": "white"
             }
            },
            "header": {
             "fill": {
              "color": "#C8D4E3"
             },
             "line": {
              "color": "white"
             }
            },
            "type": "table"
           }
          ]
         },
         "layout": {
          "annotationdefaults": {
           "arrowcolor": "#2a3f5f",
           "arrowhead": 0,
           "arrowwidth": 1
          },
          "autotypenumbers": "strict",
          "coloraxis": {
           "colorbar": {
            "outlinewidth": 0,
            "ticks": ""
           }
          },
          "colorscale": {
           "diverging": [
            [
             0,
             "#8e0152"
            ],
            [
             0.1,
             "#c51b7d"
            ],
            [
             0.2,
             "#de77ae"
            ],
            [
             0.3,
             "#f1b6da"
            ],
            [
             0.4,
             "#fde0ef"
            ],
            [
             0.5,
             "#f7f7f7"
            ],
            [
             0.6,
             "#e6f5d0"
            ],
            [
             0.7,
             "#b8e186"
            ],
            [
             0.8,
             "#7fbc41"
            ],
            [
             0.9,
             "#4d9221"
            ],
            [
             1,
             "#276419"
            ]
           ],
           "sequential": [
            [
             0,
             "#0d0887"
            ],
            [
             0.1111111111111111,
             "#46039f"
            ],
            [
             0.2222222222222222,
             "#7201a8"
            ],
            [
             0.3333333333333333,
             "#9c179e"
            ],
            [
             0.4444444444444444,
             "#bd3786"
            ],
            [
             0.5555555555555556,
             "#d8576b"
            ],
            [
             0.6666666666666666,
             "#ed7953"
            ],
            [
             0.7777777777777778,
             "#fb9f3a"
            ],
            [
             0.8888888888888888,
             "#fdca26"
            ],
            [
             1,
             "#f0f921"
            ]
           ],
           "sequentialminus": [
            [
             0,
             "#0d0887"
            ],
            [
             0.1111111111111111,
             "#46039f"
            ],
            [
             0.2222222222222222,
             "#7201a8"
            ],
            [
             0.3333333333333333,
             "#9c179e"
            ],
            [
             0.4444444444444444,
             "#bd3786"
            ],
            [
             0.5555555555555556,
             "#d8576b"
            ],
            [
             0.6666666666666666,
             "#ed7953"
            ],
            [
             0.7777777777777778,
             "#fb9f3a"
            ],
            [
             0.8888888888888888,
             "#fdca26"
            ],
            [
             1,
             "#f0f921"
            ]
           ]
          },
          "colorway": [
           "#636efa",
           "#EF553B",
           "#00cc96",
           "#ab63fa",
           "#FFA15A",
           "#19d3f3",
           "#FF6692",
           "#B6E880",
           "#FF97FF",
           "#FECB52"
          ],
          "font": {
           "color": "#2a3f5f"
          },
          "geo": {
           "bgcolor": "white",
           "lakecolor": "white",
           "landcolor": "#E5ECF6",
           "showlakes": true,
           "showland": true,
           "subunitcolor": "white"
          },
          "hoverlabel": {
           "align": "left"
          },
          "hovermode": "closest",
          "mapbox": {
           "style": "light"
          },
          "paper_bgcolor": "white",
          "plot_bgcolor": "#E5ECF6",
          "polar": {
           "angularaxis": {
            "gridcolor": "white",
            "linecolor": "white",
            "ticks": ""
           },
           "bgcolor": "#E5ECF6",
           "radialaxis": {
            "gridcolor": "white",
            "linecolor": "white",
            "ticks": ""
           }
          },
          "scene": {
           "xaxis": {
            "backgroundcolor": "#E5ECF6",
            "gridcolor": "white",
            "gridwidth": 2,
            "linecolor": "white",
            "showbackground": true,
            "ticks": "",
            "zerolinecolor": "white"
           },
           "yaxis": {
            "backgroundcolor": "#E5ECF6",
            "gridcolor": "white",
            "gridwidth": 2,
            "linecolor": "white",
            "showbackground": true,
            "ticks": "",
            "zerolinecolor": "white"
           },
           "zaxis": {
            "backgroundcolor": "#E5ECF6",
            "gridcolor": "white",
            "gridwidth": 2,
            "linecolor": "white",
            "showbackground": true,
            "ticks": "",
            "zerolinecolor": "white"
           }
          },
          "shapedefaults": {
           "line": {
            "color": "#2a3f5f"
           }
          },
          "ternary": {
           "aaxis": {
            "gridcolor": "white",
            "linecolor": "white",
            "ticks": ""
           },
           "baxis": {
            "gridcolor": "white",
            "linecolor": "white",
            "ticks": ""
           },
           "bgcolor": "#E5ECF6",
           "caxis": {
            "gridcolor": "white",
            "linecolor": "white",
            "ticks": ""
           }
          },
          "title": {
           "x": 0.05
          },
          "xaxis": {
           "automargin": true,
           "gridcolor": "white",
           "linecolor": "white",
           "ticks": "",
           "title": {
            "standoff": 15
           },
           "zerolinecolor": "white",
           "zerolinewidth": 2
          },
          "yaxis": {
           "automargin": true,
           "gridcolor": "white",
           "linecolor": "white",
           "ticks": "",
           "title": {
            "standoff": 15
           },
           "zerolinecolor": "white",
           "zerolinewidth": 2
          }
         }
        },
        "xaxis": {
         "title": {
          "text": "Time-stamp"
         }
        },
        "yaxis": {
         "title": {
          "text": "Amplitude"
         }
        }
       }
      }
     },
     "metadata": {},
     "output_type": "display_data"
    }
   ],
   "source": [
    "fig = go.Figure(data = go.Scatter(y = noisy_ts))\n",
    "fig.update_layout(xaxis_title = \"Time-stamp\", yaxis_title = \"Amplitude\")\n",
    "fig.show()"
   ]
  },
  {
   "cell_type": "code",
   "execution_count": 28,
   "metadata": {},
   "outputs": [],
   "source": [
    "embedding_dimension_periodic = 3\n",
    "embedding_time_delay_periodic = 8\n",
    "\n",
    "embedder = SingleTakensEmbedding(\n",
    "    parameters_type = \"fixed\",\n",
    "    time_delay = embedding_time_delay_periodic,\n",
    "    dimension = embedding_dimension_periodic\n",
    ")\n",
    "\n",
    "basic_point_cloud = embedder.fit_transform(basic_ts)\n",
    "noisy_point_cloud = embedder.fit_transform(noisy_ts)"
   ]
  },
  {
   "cell_type": "code",
   "execution_count": 29,
   "metadata": {},
   "outputs": [
    {
     "data": {
      "application/vnd.plotly.v1+json": {
       "config": {
        "plotlyServerURL": "https://plot.ly"
       },
       "data": [
        {
         "marker": {
          "color": [
           0,
           1,
           2,
           3,
           4,
           5,
           6,
           7,
           8,
           9,
           10,
           11,
           12,
           13,
           14,
           15,
           16,
           17,
           18,
           19,
           20,
           21,
           22,
           23,
           24,
           25,
           26,
           27,
           28,
           29,
           30,
           31,
           32,
           33,
           34,
           35,
           36,
           37,
           38,
           39,
           40,
           41,
           42,
           43,
           44,
           45,
           46,
           47,
           48,
           49,
           50,
           51,
           52,
           53,
           54,
           55,
           56,
           57,
           58,
           59,
           60,
           61,
           62,
           63,
           64,
           65,
           66,
           67,
           68,
           69,
           70,
           71,
           72,
           73,
           74,
           75,
           76,
           77,
           78,
           79,
           80,
           81,
           82,
           83,
           84,
           85,
           86,
           87,
           88,
           89,
           90,
           91,
           92,
           93,
           94,
           95,
           96,
           97,
           98,
           99,
           100,
           101,
           102,
           103,
           104,
           105,
           106,
           107,
           108,
           109,
           110,
           111,
           112,
           113,
           114,
           115,
           116,
           117,
           118,
           119,
           120,
           121,
           122,
           123,
           124,
           125,
           126,
           127,
           128,
           129,
           130,
           131,
           132,
           133,
           134,
           135,
           136,
           137,
           138,
           139,
           140,
           141,
           142,
           143,
           144,
           145,
           146,
           147,
           148,
           149,
           150,
           151,
           152,
           153,
           154,
           155,
           156,
           157,
           158,
           159,
           160,
           161,
           162,
           163,
           164,
           165,
           166,
           167,
           168,
           169,
           170,
           171,
           172,
           173,
           174,
           175,
           176,
           177,
           178,
           179,
           180,
           181,
           182,
           183,
           184,
           185,
           186,
           187,
           188,
           189,
           190,
           191,
           192,
           193,
           194,
           195,
           196,
           197,
           198,
           199,
           200,
           201,
           202,
           203,
           204,
           205,
           206,
           207,
           208,
           209,
           210,
           211,
           212,
           213,
           214,
           215,
           216,
           217,
           218,
           219,
           220,
           221,
           222,
           223,
           224,
           225,
           226,
           227,
           228,
           229,
           230,
           231,
           232,
           233,
           234,
           235,
           236,
           237,
           238,
           239,
           240,
           241,
           242,
           243,
           244,
           245,
           246,
           247,
           248,
           249,
           250,
           251,
           252,
           253,
           254,
           255,
           256,
           257,
           258,
           259,
           260,
           261,
           262,
           263,
           264,
           265,
           266,
           267,
           268,
           269,
           270,
           271,
           272,
           273,
           274,
           275,
           276,
           277,
           278,
           279,
           280,
           281,
           282,
           283,
           284,
           285,
           286,
           287,
           288,
           289,
           290,
           291,
           292,
           293,
           294,
           295,
           296,
           297,
           298,
           299,
           300,
           301,
           302,
           303,
           304,
           305,
           306,
           307,
           308,
           309,
           310,
           311,
           312,
           313,
           314,
           315,
           316,
           317,
           318,
           319,
           320,
           321,
           322,
           323,
           324,
           325,
           326,
           327,
           328,
           329,
           330,
           331,
           332,
           333,
           334,
           335,
           336,
           337,
           338,
           339,
           340,
           341,
           342,
           343,
           344,
           345,
           346,
           347,
           348,
           349,
           350,
           351,
           352,
           353,
           354,
           355,
           356,
           357,
           358,
           359,
           360,
           361,
           362,
           363,
           364,
           365,
           366,
           367,
           368,
           369,
           370,
           371,
           372,
           373,
           374,
           375,
           376,
           377,
           378,
           379,
           380,
           381,
           382,
           383,
           384,
           385,
           386,
           387,
           388,
           389,
           390,
           391,
           392,
           393,
           394,
           395,
           396,
           397,
           398,
           399,
           400,
           401,
           402,
           403,
           404,
           405,
           406,
           407,
           408,
           409,
           410,
           411,
           412,
           413,
           414,
           415,
           416,
           417,
           418,
           419,
           420,
           421,
           422,
           423,
           424,
           425,
           426,
           427,
           428,
           429,
           430,
           431,
           432,
           433,
           434,
           435,
           436,
           437,
           438,
           439,
           440,
           441,
           442,
           443,
           444,
           445,
           446,
           447,
           448,
           449,
           450,
           451,
           452,
           453,
           454,
           455,
           456,
           457,
           458,
           459,
           460,
           461,
           462,
           463,
           464,
           465,
           466,
           467,
           468,
           469,
           470,
           471,
           472,
           473,
           474,
           475,
           476,
           477,
           478,
           479,
           480,
           481,
           482,
           483
          ],
          "colorscale": [
           [
            0,
            "#440154"
           ],
           [
            0.1111111111111111,
            "#482878"
           ],
           [
            0.2222222222222222,
            "#3e4989"
           ],
           [
            0.3333333333333333,
            "#31688e"
           ],
           [
            0.4444444444444444,
            "#26828e"
           ],
           [
            0.5555555555555556,
            "#1f9e89"
           ],
           [
            0.6666666666666666,
            "#35b779"
           ],
           [
            0.7777777777777778,
            "#6ece58"
           ],
           [
            0.8888888888888888,
            "#b5de2b"
           ],
           [
            1,
            "#fde725"
           ]
          ],
          "opacity": 0.8,
          "size": 4
         },
         "mode": "markers",
         "type": "scatter3d",
         "x": [
          1.2952198423692192,
          1.4507875930371106,
          1.1206317547683546,
          -0.1909496233006383,
          -1.3967820188495714,
          -0.9570349503593588,
          0.7218793870022007,
          1.4873934259254857,
          0.6986583726104543,
          -0.9240331234966028,
          -1.4987406253463298,
          -1.4995903221206204,
          0.38656419630346306,
          0.9000799131360626,
          1.4999889161328523,
          0.023144326504401007,
          -0.8684920743527981,
          -1.4633168141382416,
          -0.9794421752203706,
          0.22619409552201536,
          1.1405974133706525,
          1.23437712674687,
          -0.3271538025053205,
          -1.4868295206222115,
          -1.0422043618462764,
          1.2740029035373481,
          1.1820045067312366,
          1.0076291730257863,
          -0.6847839887962693,
          -1.4070270398486626,
          -1.0188423575793912,
          0.7422640227371922,
          0.9290038019315101,
          1.3759781340220028,
          0.2600659881808531,
          -1.4988566238561205,
          -1.4995808906478754,
          -0.7797239823051643,
          0.8905688013481081,
          1.4653316059697004,
          0.916375817005228,
          -1.491698410244053,
          -1.4992801725545741,
          -0.4406157462927315,
          1.107253386771108,
          1.4764711935161483,
          1.242499518139659,
          -0.1261351216825266,
          -1.3951807918488606,
          -0.8171239104016569,
          0.2154904254251594,
          1.0129067543277124,
          1.133066627295383,
          -1.0386805587777315,
          -1.499317480018176,
          -0.819639753188653,
          0.5430320880418414,
          1.0559873627943945,
          1.0956109233966989,
          0.779685460855943,
          -1.284031250283275,
          -1.3599985371364482,
          -1.0825763561062482,
          1.3198503283340557,
          1.1231170206351044,
          0.9694619455925257,
          -1.241379984097268,
          -1.3429163183881507,
          -0.6814381842418145,
          0.5731457920325376,
          1.4912048402927018,
          0.10852195467150616,
          -1.07733457243777,
          -1.4957377180283504,
          -1.350795332659663,
          1.0218742053986865,
          0.9656829756520935,
          0.7420355853086041,
          0.30602804744509415,
          -0.7374728483340423,
          -1.2184335524316798,
          -0.6497671773334416,
          0.8026640235826525,
          1.4974047695884074,
          1.0325922796156513,
          -0.5214769978802917,
          -1.3881274756529203,
          -0.7230351580367038,
          0.1792125096432429,
          1.4651451582290287,
          1.1448741328059335,
          -1.35474068869697,
          -1.3925718705364496,
          -1.2237223784811673,
          0.9102150603178375,
          1.4902384312911732,
          -0.02596029852019066,
          -0.3731861365846323,
          -0.957909134692648,
          -1.1043983530091421,
          0.21546310468481256,
          1.3760351374940982,
          1.466911466161764,
          -0.5313365619013636,
          -1.4986916836049013,
          -1.4995721953626266,
          -0.9956947177580707,
          0.5586549800987182,
          1.2568026226174278,
          0.3164251656358882,
          -1.0043465960915174,
          -1.4904224307308176,
          -0.69435877520136,
          0.3209330194934182,
          1.4782078088748487,
          0.47627156317379993,
          -1.3616138990215607,
          -1.386495788875573,
          -0.2618211265295602,
          0.05012605334005138,
          1.341808946998007,
          1.0100952647722325,
          -0.9096855245370028,
          -0.8719949957269499,
          -1.4650690049947004,
          -0.7505280737506357,
          1.258049959492404,
          1.4955782238975204,
          0.683492495509879,
          -0.39384348360186394,
          -1.4997365686656012,
          0.13973341142523327,
          0.4265487351048915,
          1.4529994509371384,
          0.5943481082898745,
          -1.223303312231337,
          -1.2967786482432648,
          0.19239055977899913,
          0.57289332925503,
          1.1712976080144897,
          0.3342459996843322,
          0.22163445412099014,
          -0.9484543415240134,
          -1.4257091004952018,
          0.06368286528887628,
          0.9187125011468715,
          1.4946866587669874,
          0.2595909890083836,
          -0.5541782280463349,
          -1.4919793163165713,
          -0.5390059319235971,
          0.395359835127023,
          1.498755645705125,
          0.6446101340135055,
          -0.7584865725383542,
          -1.2829281389542662,
          -0.7465675223390308,
          0.594295941838166,
          1.4614523178703662,
          0.391349953491391,
          -1.1630853093954463,
          -1.4604483568396531,
          -0.8762116066710226,
          -0.33468961848618417,
          1.1913248885855676,
          1.4905237031510372,
          -0.957407024913453,
          -1.4073411861576415,
          -1.0796050740190508,
          -0.48486757977998096,
          1.4673548424898992,
          1.498426237313414,
          1.0612476424798625,
          -0.8448921482059619,
          -1.4537239820838983,
          -0.6253193311772299,
          1.343657163662541,
          1.3848504467424982,
          0.6977621259347828,
          -0.6764803517592215,
          -1.4057739261885427,
          -0.3668301800299941,
          0.8957997969168627,
          1.498839151801166,
          0.42326477018632047,
          -0.657652564637483,
          -1.1561117215427847,
          -0.9804124598662094,
          -0.27264808716309563,
          1.0214121450104292,
          1.4999662013218165,
          -0.3008376364387611,
          -1.3714454271273437,
          -1.4993798853185845,
          0.10248891370608448,
          1.473867900546471,
          1.4565419746322426,
          0.9496475144376413,
          -1.200741243422549,
          -1.466083666105131,
          -0.5664356093259353,
          0.028983856008955155,
          1.479997150629531,
          0.5449422821605129,
          -0.7880695386686614,
          -1.476157420056749,
          -0.40672964661749095,
          0.7695702282478141,
          1.4758830650665484,
          1.4899511696088372,
          -0.1165232526514291,
          -0.7853077924475114,
          -0.9518360722306559,
          -0.4458677666378362,
          1.2364974560860267,
          1.4946960506481939,
          -0.1926335006454616,
          -1.4530123306155762,
          -1.4963947174754766,
          0.19376514356508048,
          0.5268257242504458,
          1.4949813797104508,
          0.030344370500754718,
          -0.4128975950327739,
          -1.2008350735462754,
          -1.3175883452134836,
          -0.26322244957217295,
          1.4017821881468215,
          1.4315630849612395,
          -1.3415962256794216,
          -1.408708844704392,
          -1.460364987748339,
          0.13438998624806187,
          0.9756267504795499,
          1.3851878329438851,
          0.7942171039321048,
          -0.8548577544961503,
          -1.4753521452119935,
          -0.45322686631686504,
          1.4994769626628655,
          1.2306021133210812,
          0.11001107827060755,
          -0.9247521172445488,
          -1.2988508154543976,
          -0.964064606629776,
          1.0155335324824613,
          0.9964761391276302,
          1.142376134422832,
          -0.7889027993651279,
          -1.4538611714490335,
          -0.2536229144495736,
          0.683893416073622,
          1.2289096258533578,
          1.3608360777951645,
          0.6500774351280346,
          -1.4770574494887865,
          -1.4999934671055355,
          0.6305649269229151,
          0.7300960043075414,
          1.4999437574442944,
          0.37908038639874697,
          -1.3213314483065288,
          -1.4748076162530452,
          -0.6363364016353903,
          0.8594547257950819,
          1.4531211877461687,
          1.1930010467719911,
          -1.2247691345659806,
          -1.4952356264259952,
          -1.3767493852118255,
          1.02827425915295,
          1.2149280925817458,
          0.9286913506202703,
          -0.3116999761811511,
          -1.4749040977764771,
          -0.2961749909124096,
          0.576927997258213,
          1.2634422243350127,
          1.2355734425270046,
          -0.26110599163081727,
          -0.8392354176519217,
          -1.4368969684460862,
          0.34991868411668614,
          1.2377357655846029,
          1.4909934241637968,
          0.23842648038468733,
          -0.347175265167446,
          -1.4986406464035973,
          -0.16555521717946167,
          0.29184452912151815,
          1.375519682494044,
          -0.13145833792147937,
          -0.06500983878170209,
          -1.3339805905295323,
          0.020919076370123052,
          0.7394908535036229,
          1.491632691114536,
          0.6249468361920996,
          0.4934632339523474,
          -1.4576017743596652,
          -1.312206260478091,
          0.5629103096781058,
          1.2114530969280493,
          1.3125008913116247,
          0.35131317212201524,
          -1.037798579240713,
          -1.2625422647553632,
          -0.29266774053540123,
          1.0861021185599997,
          1.4996938195986016,
          0.662914105213127,
          -1.1007407635465856,
          -1.3910971273457573,
          -0.5684391068969259,
          1.2776418310479718,
          1.4598417768821323,
          0.9711603716956716,
          -0.6324508334765726,
          -1.4271955324566328,
          -1.0493253305612913,
          0.7549454850581384,
          1.452098459589721,
          1.261686529818458,
          0.49992444724424345,
          -1.1328606326363078,
          -0.5972593350564597,
          -0.011681597335721976,
          1.150415436767775,
          0.9252205975961274,
          0.3572580618877592,
          -0.9510512223512837,
          -1.3670348698515813,
          -0.3207985334814483,
          0.2767461804202217,
          1.4940839428672819,
          0.9176252540012917,
          -0.3528573118364856,
          -1.4764256994364167,
          -1.1427542344085375,
          -0.13678465590092448,
          1.358559858449685,
          1.4671909558887195,
          -0.2684938351374522,
          -1.4997414700689098,
          -1.0374418990795695,
          -0.30755564466665836,
          0.7348691791348173,
          1.4975154830553783,
          0.20903319180797136,
          -0.7082953170342337,
          -1.438397925402428,
          -0.8772275523136328,
          1.3725367256972738,
          1.4996807572396946,
          1.0245220911538313,
          -1.2185156402498984,
          -1.463574360936581,
          -1.2858268911909525,
          0.6732264885847242,
          1.4936965614499313,
          0.7019204286181736,
          0.060828214550785395,
          -1.384985694518163,
          -1.362000472699214,
          -0.5054671121865628,
          1.4959792418540703,
          1.0220967014492257,
          0.3857857044581051,
          -1.3203666777339589,
          -1.4967823686592694,
          0.5701872559439471,
          0.5940977526980853,
          1.443681658323242,
          0.47698199861859236,
          -1.0474800889511149,
          -1.4709470210744253,
          -1.2083039884468643,
          0.48369532073027544,
          1.4988452730905388,
          1.1882966537548263,
          -1.2004921989101751,
          -1.2240448354023736,
          -1.0390347789979786,
          0.704805048593734,
          1.25447695472941,
          1.0133545481084292,
          -0.7994588886572151,
          -1.0502265351978948,
          -0.5792086131218528,
          0.043706927157340224,
          1.0184988971876956,
          1.425188245271443,
          0.5585841992859635,
          -1.3449551155748596,
          -1.1929657357189345,
          0.2148394075025999,
          1.4999310765433054,
          1.3153398876009539,
          0.496035096790825,
          -0.5337714616278869,
          -1.4996086530172184,
          -1.3248969883594255,
          0.9850255513109075,
          1.4596696838499603,
          1.4212994560224723,
          0.3022727795607582,
          -1.3581691152026252,
          -1.0592927815506354,
          0.11342764098608021,
          1.4284489553164015,
          1.2993753989859955,
          -0.2603517962749734,
          -0.9341584665377136,
          -1.4999697592356203,
          -0.07673545570317407,
          1.0923883667488896,
          1.459065871481821,
          0.6409517777794759,
          -0.4066026990238546,
          -1.4814144062282055,
          -0.8050244835383678,
          0.9509003168215091,
          1.3859454047783775,
          1.087116100090016,
          -1.3866807901074483,
          -1.4891147568140357,
          -0.8345848421420489,
          0.7086890725592577,
          1.4928639024429156,
          1.1386015433382053,
          -0.06737378491407613,
          -0.9144695459175703,
          -1.4978859666644806,
          -0.2592457728157172,
          1.0764501546602432,
          1.4384135027120202,
          0.7745018314561463,
          -1.3685154499730385,
          -1.0693458917042271,
          0.57847287099327,
          0.9569215290918461,
          1.3914097542304484,
          -0.09301569336687934,
          -0.6753129260631389,
          -1.4635887509847936,
          0.16018881471139956,
          0.6329864659771587,
          1.4816630346919655,
          1.3146272571441464,
          0.20839740549346186,
          -1.4750535697426221,
          -0.9981284871153364,
          -0.08614009547326608,
          1.0797776732127118,
          1.2130810503003306,
          -0.13872161664786276,
          -0.9403480991792299,
          -0.9123914502246211,
          -0.8322504934101242,
          0.9566048728878849,
          1.312788345402064,
          0.7666256077031035,
          -1.3757027759520029,
          -1.3520004830184982,
          -0.06971869053020656,
          0.24442107836251986,
          1.3899185968404273,
          1.083075246968085,
          -0.6487936793373855,
          -1.4765734996975322,
          -0.36816527586694625,
          0.774531440251073,
          1.3924848624756265,
          0.7831182414929585,
          0.10374808784757619,
          -1.1635254036072313,
          -1.0246551595006101,
          -0.483220529713013,
          0.8104136797150018,
          1.3384753179162607,
          -0.4441529199805032,
          -0.636028361800409,
          -1.166898720731498,
          0.21164500775682887
         ],
         "y": [
          0.6986583726104543,
          -0.9240331234966028,
          -1.4987406253463298,
          -1.4995903221206204,
          0.38656419630346306,
          0.9000799131360626,
          1.4999889161328523,
          0.023144326504401007,
          -0.8684920743527981,
          -1.4633168141382416,
          -0.9794421752203706,
          0.22619409552201536,
          1.1405974133706525,
          1.23437712674687,
          -0.3271538025053205,
          -1.4868295206222115,
          -1.0422043618462764,
          1.2740029035373481,
          1.1820045067312366,
          1.0076291730257863,
          -0.6847839887962693,
          -1.4070270398486626,
          -1.0188423575793912,
          0.7422640227371922,
          0.9290038019315101,
          1.3759781340220028,
          0.2600659881808531,
          -1.4988566238561205,
          -1.4995808906478754,
          -0.7797239823051643,
          0.8905688013481081,
          1.4653316059697004,
          0.916375817005228,
          -1.491698410244053,
          -1.4992801725545741,
          -0.4406157462927315,
          1.107253386771108,
          1.4764711935161483,
          1.242499518139659,
          -0.1261351216825266,
          -1.3951807918488606,
          -0.8171239104016569,
          0.2154904254251594,
          1.0129067543277124,
          1.133066627295383,
          -1.0386805587777315,
          -1.499317480018176,
          -0.819639753188653,
          0.5430320880418414,
          1.0559873627943945,
          1.0956109233966989,
          0.779685460855943,
          -1.284031250283275,
          -1.3599985371364482,
          -1.0825763561062482,
          1.3198503283340557,
          1.1231170206351044,
          0.9694619455925257,
          -1.241379984097268,
          -1.3429163183881507,
          -0.6814381842418145,
          0.5731457920325376,
          1.4912048402927018,
          0.10852195467150616,
          -1.07733457243777,
          -1.4957377180283504,
          -1.350795332659663,
          1.0218742053986865,
          0.9656829756520935,
          0.7420355853086041,
          0.30602804744509415,
          -0.7374728483340423,
          -1.2184335524316798,
          -0.6497671773334416,
          0.8026640235826525,
          1.4974047695884074,
          1.0325922796156513,
          -0.5214769978802917,
          -1.3881274756529203,
          -0.7230351580367038,
          0.1792125096432429,
          1.4651451582290287,
          1.1448741328059335,
          -1.35474068869697,
          -1.3925718705364496,
          -1.2237223784811673,
          0.9102150603178375,
          1.4902384312911732,
          -0.02596029852019066,
          -0.3731861365846323,
          -0.957909134692648,
          -1.1043983530091421,
          0.21546310468481256,
          1.3760351374940982,
          1.466911466161764,
          -0.5313365619013636,
          -1.4986916836049013,
          -1.4995721953626266,
          -0.9956947177580707,
          0.5586549800987182,
          1.2568026226174278,
          0.3164251656358882,
          -1.0043465960915174,
          -1.4904224307308176,
          -0.69435877520136,
          0.3209330194934182,
          1.4782078088748487,
          0.47627156317379993,
          -1.3616138990215607,
          -1.386495788875573,
          -0.2618211265295602,
          0.05012605334005138,
          1.341808946998007,
          1.0100952647722325,
          -0.9096855245370028,
          -0.8719949957269499,
          -1.4650690049947004,
          -0.7505280737506357,
          1.258049959492404,
          1.4955782238975204,
          0.683492495509879,
          -0.39384348360186394,
          -1.4997365686656012,
          0.13973341142523327,
          0.4265487351048915,
          1.4529994509371384,
          0.5943481082898745,
          -1.223303312231337,
          -1.2967786482432648,
          0.19239055977899913,
          0.57289332925503,
          1.1712976080144897,
          0.3342459996843322,
          0.22163445412099014,
          -0.9484543415240134,
          -1.4257091004952018,
          0.06368286528887628,
          0.9187125011468715,
          1.4946866587669874,
          0.2595909890083836,
          -0.5541782280463349,
          -1.4919793163165713,
          -0.5390059319235971,
          0.395359835127023,
          1.498755645705125,
          0.6446101340135055,
          -0.7584865725383542,
          -1.2829281389542662,
          -0.7465675223390308,
          0.594295941838166,
          1.4614523178703662,
          0.391349953491391,
          -1.1630853093954463,
          -1.4604483568396531,
          -0.8762116066710226,
          -0.33468961848618417,
          1.1913248885855676,
          1.4905237031510372,
          -0.957407024913453,
          -1.4073411861576415,
          -1.0796050740190508,
          -0.48486757977998096,
          1.4673548424898992,
          1.498426237313414,
          1.0612476424798625,
          -0.8448921482059619,
          -1.4537239820838983,
          -0.6253193311772299,
          1.343657163662541,
          1.3848504467424982,
          0.6977621259347828,
          -0.6764803517592215,
          -1.4057739261885427,
          -0.3668301800299941,
          0.8957997969168627,
          1.498839151801166,
          0.42326477018632047,
          -0.657652564637483,
          -1.1561117215427847,
          -0.9804124598662094,
          -0.27264808716309563,
          1.0214121450104292,
          1.4999662013218165,
          -0.3008376364387611,
          -1.3714454271273437,
          -1.4993798853185845,
          0.10248891370608448,
          1.473867900546471,
          1.4565419746322426,
          0.9496475144376413,
          -1.200741243422549,
          -1.466083666105131,
          -0.5664356093259353,
          0.028983856008955155,
          1.479997150629531,
          0.5449422821605129,
          -0.7880695386686614,
          -1.476157420056749,
          -0.40672964661749095,
          0.7695702282478141,
          1.4758830650665484,
          1.4899511696088372,
          -0.1165232526514291,
          -0.7853077924475114,
          -0.9518360722306559,
          -0.4458677666378362,
          1.2364974560860267,
          1.4946960506481939,
          -0.1926335006454616,
          -1.4530123306155762,
          -1.4963947174754766,
          0.19376514356508048,
          0.5268257242504458,
          1.4949813797104508,
          0.030344370500754718,
          -0.4128975950327739,
          -1.2008350735462754,
          -1.3175883452134836,
          -0.26322244957217295,
          1.4017821881468215,
          1.4315630849612395,
          -1.3415962256794216,
          -1.408708844704392,
          -1.460364987748339,
          0.13438998624806187,
          0.9756267504795499,
          1.3851878329438851,
          0.7942171039321048,
          -0.8548577544961503,
          -1.4753521452119935,
          -0.45322686631686504,
          1.4994769626628655,
          1.2306021133210812,
          0.11001107827060755,
          -0.9247521172445488,
          -1.2988508154543976,
          -0.964064606629776,
          1.0155335324824613,
          0.9964761391276302,
          1.142376134422832,
          -0.7889027993651279,
          -1.4538611714490335,
          -0.2536229144495736,
          0.683893416073622,
          1.2289096258533578,
          1.3608360777951645,
          0.6500774351280346,
          -1.4770574494887865,
          -1.4999934671055355,
          0.6305649269229151,
          0.7300960043075414,
          1.4999437574442944,
          0.37908038639874697,
          -1.3213314483065288,
          -1.4748076162530452,
          -0.6363364016353903,
          0.8594547257950819,
          1.4531211877461687,
          1.1930010467719911,
          -1.2247691345659806,
          -1.4952356264259952,
          -1.3767493852118255,
          1.02827425915295,
          1.2149280925817458,
          0.9286913506202703,
          -0.3116999761811511,
          -1.4749040977764771,
          -0.2961749909124096,
          0.576927997258213,
          1.2634422243350127,
          1.2355734425270046,
          -0.26110599163081727,
          -0.8392354176519217,
          -1.4368969684460862,
          0.34991868411668614,
          1.2377357655846029,
          1.4909934241637968,
          0.23842648038468733,
          -0.347175265167446,
          -1.4986406464035973,
          -0.16555521717946167,
          0.29184452912151815,
          1.375519682494044,
          -0.13145833792147937,
          -0.06500983878170209,
          -1.3339805905295323,
          0.020919076370123052,
          0.7394908535036229,
          1.491632691114536,
          0.6249468361920996,
          0.4934632339523474,
          -1.4576017743596652,
          -1.312206260478091,
          0.5629103096781058,
          1.2114530969280493,
          1.3125008913116247,
          0.35131317212201524,
          -1.037798579240713,
          -1.2625422647553632,
          -0.29266774053540123,
          1.0861021185599997,
          1.4996938195986016,
          0.662914105213127,
          -1.1007407635465856,
          -1.3910971273457573,
          -0.5684391068969259,
          1.2776418310479718,
          1.4598417768821323,
          0.9711603716956716,
          -0.6324508334765726,
          -1.4271955324566328,
          -1.0493253305612913,
          0.7549454850581384,
          1.452098459589721,
          1.261686529818458,
          0.49992444724424345,
          -1.1328606326363078,
          -0.5972593350564597,
          -0.011681597335721976,
          1.150415436767775,
          0.9252205975961274,
          0.3572580618877592,
          -0.9510512223512837,
          -1.3670348698515813,
          -0.3207985334814483,
          0.2767461804202217,
          1.4940839428672819,
          0.9176252540012917,
          -0.3528573118364856,
          -1.4764256994364167,
          -1.1427542344085375,
          -0.13678465590092448,
          1.358559858449685,
          1.4671909558887195,
          -0.2684938351374522,
          -1.4997414700689098,
          -1.0374418990795695,
          -0.30755564466665836,
          0.7348691791348173,
          1.4975154830553783,
          0.20903319180797136,
          -0.7082953170342337,
          -1.438397925402428,
          -0.8772275523136328,
          1.3725367256972738,
          1.4996807572396946,
          1.0245220911538313,
          -1.2185156402498984,
          -1.463574360936581,
          -1.2858268911909525,
          0.6732264885847242,
          1.4936965614499313,
          0.7019204286181736,
          0.060828214550785395,
          -1.384985694518163,
          -1.362000472699214,
          -0.5054671121865628,
          1.4959792418540703,
          1.0220967014492257,
          0.3857857044581051,
          -1.3203666777339589,
          -1.4967823686592694,
          0.5701872559439471,
          0.5940977526980853,
          1.443681658323242,
          0.47698199861859236,
          -1.0474800889511149,
          -1.4709470210744253,
          -1.2083039884468643,
          0.48369532073027544,
          1.4988452730905388,
          1.1882966537548263,
          -1.2004921989101751,
          -1.2240448354023736,
          -1.0390347789979786,
          0.704805048593734,
          1.25447695472941,
          1.0133545481084292,
          -0.7994588886572151,
          -1.0502265351978948,
          -0.5792086131218528,
          0.043706927157340224,
          1.0184988971876956,
          1.425188245271443,
          0.5585841992859635,
          -1.3449551155748596,
          -1.1929657357189345,
          0.2148394075025999,
          1.4999310765433054,
          1.3153398876009539,
          0.496035096790825,
          -0.5337714616278869,
          -1.4996086530172184,
          -1.3248969883594255,
          0.9850255513109075,
          1.4596696838499603,
          1.4212994560224723,
          0.3022727795607582,
          -1.3581691152026252,
          -1.0592927815506354,
          0.11342764098608021,
          1.4284489553164015,
          1.2993753989859955,
          -0.2603517962749734,
          -0.9341584665377136,
          -1.4999697592356203,
          -0.07673545570317407,
          1.0923883667488896,
          1.459065871481821,
          0.6409517777794759,
          -0.4066026990238546,
          -1.4814144062282055,
          -0.8050244835383678,
          0.9509003168215091,
          1.3859454047783775,
          1.087116100090016,
          -1.3866807901074483,
          -1.4891147568140357,
          -0.8345848421420489,
          0.7086890725592577,
          1.4928639024429156,
          1.1386015433382053,
          -0.06737378491407613,
          -0.9144695459175703,
          -1.4978859666644806,
          -0.2592457728157172,
          1.0764501546602432,
          1.4384135027120202,
          0.7745018314561463,
          -1.3685154499730385,
          -1.0693458917042271,
          0.57847287099327,
          0.9569215290918461,
          1.3914097542304484,
          -0.09301569336687934,
          -0.6753129260631389,
          -1.4635887509847936,
          0.16018881471139956,
          0.6329864659771587,
          1.4816630346919655,
          1.3146272571441464,
          0.20839740549346186,
          -1.4750535697426221,
          -0.9981284871153364,
          -0.08614009547326608,
          1.0797776732127118,
          1.2130810503003306,
          -0.13872161664786276,
          -0.9403480991792299,
          -0.9123914502246211,
          -0.8322504934101242,
          0.9566048728878849,
          1.312788345402064,
          0.7666256077031035,
          -1.3757027759520029,
          -1.3520004830184982,
          -0.06971869053020656,
          0.24442107836251986,
          1.3899185968404273,
          1.083075246968085,
          -0.6487936793373855,
          -1.4765734996975322,
          -0.36816527586694625,
          0.774531440251073,
          1.3924848624756265,
          0.7831182414929585,
          0.10374808784757619,
          -1.1635254036072313,
          -1.0246551595006101,
          -0.483220529713013,
          0.8104136797150018,
          1.3384753179162607,
          -0.4441529199805032,
          -0.636028361800409,
          -1.166898720731498,
          0.21164500775682887,
          0.9640071353961339,
          1.4244544003613724,
          1.045679442422818,
          -1.115951693263772,
          -1.4438947040642005,
          0.04133007903956318,
          0.7629233198444125,
          1.2905389795047917
         ],
         "z": [
          -0.8684920743527981,
          -1.4633168141382416,
          -0.9794421752203706,
          0.22619409552201536,
          1.1405974133706525,
          1.23437712674687,
          -0.3271538025053205,
          -1.4868295206222115,
          -1.0422043618462764,
          1.2740029035373481,
          1.1820045067312366,
          1.0076291730257863,
          -0.6847839887962693,
          -1.4070270398486626,
          -1.0188423575793912,
          0.7422640227371922,
          0.9290038019315101,
          1.3759781340220028,
          0.2600659881808531,
          -1.4988566238561205,
          -1.4995808906478754,
          -0.7797239823051643,
          0.8905688013481081,
          1.4653316059697004,
          0.916375817005228,
          -1.491698410244053,
          -1.4992801725545741,
          -0.4406157462927315,
          1.107253386771108,
          1.4764711935161483,
          1.242499518139659,
          -0.1261351216825266,
          -1.3951807918488606,
          -0.8171239104016569,
          0.2154904254251594,
          1.0129067543277124,
          1.133066627295383,
          -1.0386805587777315,
          -1.499317480018176,
          -0.819639753188653,
          0.5430320880418414,
          1.0559873627943945,
          1.0956109233966989,
          0.779685460855943,
          -1.284031250283275,
          -1.3599985371364482,
          -1.0825763561062482,
          1.3198503283340557,
          1.1231170206351044,
          0.9694619455925257,
          -1.241379984097268,
          -1.3429163183881507,
          -0.6814381842418145,
          0.5731457920325376,
          1.4912048402927018,
          0.10852195467150616,
          -1.07733457243777,
          -1.4957377180283504,
          -1.350795332659663,
          1.0218742053986865,
          0.9656829756520935,
          0.7420355853086041,
          0.30602804744509415,
          -0.7374728483340423,
          -1.2184335524316798,
          -0.6497671773334416,
          0.8026640235826525,
          1.4974047695884074,
          1.0325922796156513,
          -0.5214769978802917,
          -1.3881274756529203,
          -0.7230351580367038,
          0.1792125096432429,
          1.4651451582290287,
          1.1448741328059335,
          -1.35474068869697,
          -1.3925718705364496,
          -1.2237223784811673,
          0.9102150603178375,
          1.4902384312911732,
          -0.02596029852019066,
          -0.3731861365846323,
          -0.957909134692648,
          -1.1043983530091421,
          0.21546310468481256,
          1.3760351374940982,
          1.466911466161764,
          -0.5313365619013636,
          -1.4986916836049013,
          -1.4995721953626266,
          -0.9956947177580707,
          0.5586549800987182,
          1.2568026226174278,
          0.3164251656358882,
          -1.0043465960915174,
          -1.4904224307308176,
          -0.69435877520136,
          0.3209330194934182,
          1.4782078088748487,
          0.47627156317379993,
          -1.3616138990215607,
          -1.386495788875573,
          -0.2618211265295602,
          0.05012605334005138,
          1.341808946998007,
          1.0100952647722325,
          -0.9096855245370028,
          -0.8719949957269499,
          -1.4650690049947004,
          -0.7505280737506357,
          1.258049959492404,
          1.4955782238975204,
          0.683492495509879,
          -0.39384348360186394,
          -1.4997365686656012,
          0.13973341142523327,
          0.4265487351048915,
          1.4529994509371384,
          0.5943481082898745,
          -1.223303312231337,
          -1.2967786482432648,
          0.19239055977899913,
          0.57289332925503,
          1.1712976080144897,
          0.3342459996843322,
          0.22163445412099014,
          -0.9484543415240134,
          -1.4257091004952018,
          0.06368286528887628,
          0.9187125011468715,
          1.4946866587669874,
          0.2595909890083836,
          -0.5541782280463349,
          -1.4919793163165713,
          -0.5390059319235971,
          0.395359835127023,
          1.498755645705125,
          0.6446101340135055,
          -0.7584865725383542,
          -1.2829281389542662,
          -0.7465675223390308,
          0.594295941838166,
          1.4614523178703662,
          0.391349953491391,
          -1.1630853093954463,
          -1.4604483568396531,
          -0.8762116066710226,
          -0.33468961848618417,
          1.1913248885855676,
          1.4905237031510372,
          -0.957407024913453,
          -1.4073411861576415,
          -1.0796050740190508,
          -0.48486757977998096,
          1.4673548424898992,
          1.498426237313414,
          1.0612476424798625,
          -0.8448921482059619,
          -1.4537239820838983,
          -0.6253193311772299,
          1.343657163662541,
          1.3848504467424982,
          0.6977621259347828,
          -0.6764803517592215,
          -1.4057739261885427,
          -0.3668301800299941,
          0.8957997969168627,
          1.498839151801166,
          0.42326477018632047,
          -0.657652564637483,
          -1.1561117215427847,
          -0.9804124598662094,
          -0.27264808716309563,
          1.0214121450104292,
          1.4999662013218165,
          -0.3008376364387611,
          -1.3714454271273437,
          -1.4993798853185845,
          0.10248891370608448,
          1.473867900546471,
          1.4565419746322426,
          0.9496475144376413,
          -1.200741243422549,
          -1.466083666105131,
          -0.5664356093259353,
          0.028983856008955155,
          1.479997150629531,
          0.5449422821605129,
          -0.7880695386686614,
          -1.476157420056749,
          -0.40672964661749095,
          0.7695702282478141,
          1.4758830650665484,
          1.4899511696088372,
          -0.1165232526514291,
          -0.7853077924475114,
          -0.9518360722306559,
          -0.4458677666378362,
          1.2364974560860267,
          1.4946960506481939,
          -0.1926335006454616,
          -1.4530123306155762,
          -1.4963947174754766,
          0.19376514356508048,
          0.5268257242504458,
          1.4949813797104508,
          0.030344370500754718,
          -0.4128975950327739,
          -1.2008350735462754,
          -1.3175883452134836,
          -0.26322244957217295,
          1.4017821881468215,
          1.4315630849612395,
          -1.3415962256794216,
          -1.408708844704392,
          -1.460364987748339,
          0.13438998624806187,
          0.9756267504795499,
          1.3851878329438851,
          0.7942171039321048,
          -0.8548577544961503,
          -1.4753521452119935,
          -0.45322686631686504,
          1.4994769626628655,
          1.2306021133210812,
          0.11001107827060755,
          -0.9247521172445488,
          -1.2988508154543976,
          -0.964064606629776,
          1.0155335324824613,
          0.9964761391276302,
          1.142376134422832,
          -0.7889027993651279,
          -1.4538611714490335,
          -0.2536229144495736,
          0.683893416073622,
          1.2289096258533578,
          1.3608360777951645,
          0.6500774351280346,
          -1.4770574494887865,
          -1.4999934671055355,
          0.6305649269229151,
          0.7300960043075414,
          1.4999437574442944,
          0.37908038639874697,
          -1.3213314483065288,
          -1.4748076162530452,
          -0.6363364016353903,
          0.8594547257950819,
          1.4531211877461687,
          1.1930010467719911,
          -1.2247691345659806,
          -1.4952356264259952,
          -1.3767493852118255,
          1.02827425915295,
          1.2149280925817458,
          0.9286913506202703,
          -0.3116999761811511,
          -1.4749040977764771,
          -0.2961749909124096,
          0.576927997258213,
          1.2634422243350127,
          1.2355734425270046,
          -0.26110599163081727,
          -0.8392354176519217,
          -1.4368969684460862,
          0.34991868411668614,
          1.2377357655846029,
          1.4909934241637968,
          0.23842648038468733,
          -0.347175265167446,
          -1.4986406464035973,
          -0.16555521717946167,
          0.29184452912151815,
          1.375519682494044,
          -0.13145833792147937,
          -0.06500983878170209,
          -1.3339805905295323,
          0.020919076370123052,
          0.7394908535036229,
          1.491632691114536,
          0.6249468361920996,
          0.4934632339523474,
          -1.4576017743596652,
          -1.312206260478091,
          0.5629103096781058,
          1.2114530969280493,
          1.3125008913116247,
          0.35131317212201524,
          -1.037798579240713,
          -1.2625422647553632,
          -0.29266774053540123,
          1.0861021185599997,
          1.4996938195986016,
          0.662914105213127,
          -1.1007407635465856,
          -1.3910971273457573,
          -0.5684391068969259,
          1.2776418310479718,
          1.4598417768821323,
          0.9711603716956716,
          -0.6324508334765726,
          -1.4271955324566328,
          -1.0493253305612913,
          0.7549454850581384,
          1.452098459589721,
          1.261686529818458,
          0.49992444724424345,
          -1.1328606326363078,
          -0.5972593350564597,
          -0.011681597335721976,
          1.150415436767775,
          0.9252205975961274,
          0.3572580618877592,
          -0.9510512223512837,
          -1.3670348698515813,
          -0.3207985334814483,
          0.2767461804202217,
          1.4940839428672819,
          0.9176252540012917,
          -0.3528573118364856,
          -1.4764256994364167,
          -1.1427542344085375,
          -0.13678465590092448,
          1.358559858449685,
          1.4671909558887195,
          -0.2684938351374522,
          -1.4997414700689098,
          -1.0374418990795695,
          -0.30755564466665836,
          0.7348691791348173,
          1.4975154830553783,
          0.20903319180797136,
          -0.7082953170342337,
          -1.438397925402428,
          -0.8772275523136328,
          1.3725367256972738,
          1.4996807572396946,
          1.0245220911538313,
          -1.2185156402498984,
          -1.463574360936581,
          -1.2858268911909525,
          0.6732264885847242,
          1.4936965614499313,
          0.7019204286181736,
          0.060828214550785395,
          -1.384985694518163,
          -1.362000472699214,
          -0.5054671121865628,
          1.4959792418540703,
          1.0220967014492257,
          0.3857857044581051,
          -1.3203666777339589,
          -1.4967823686592694,
          0.5701872559439471,
          0.5940977526980853,
          1.443681658323242,
          0.47698199861859236,
          -1.0474800889511149,
          -1.4709470210744253,
          -1.2083039884468643,
          0.48369532073027544,
          1.4988452730905388,
          1.1882966537548263,
          -1.2004921989101751,
          -1.2240448354023736,
          -1.0390347789979786,
          0.704805048593734,
          1.25447695472941,
          1.0133545481084292,
          -0.7994588886572151,
          -1.0502265351978948,
          -0.5792086131218528,
          0.043706927157340224,
          1.0184988971876956,
          1.425188245271443,
          0.5585841992859635,
          -1.3449551155748596,
          -1.1929657357189345,
          0.2148394075025999,
          1.4999310765433054,
          1.3153398876009539,
          0.496035096790825,
          -0.5337714616278869,
          -1.4996086530172184,
          -1.3248969883594255,
          0.9850255513109075,
          1.4596696838499603,
          1.4212994560224723,
          0.3022727795607582,
          -1.3581691152026252,
          -1.0592927815506354,
          0.11342764098608021,
          1.4284489553164015,
          1.2993753989859955,
          -0.2603517962749734,
          -0.9341584665377136,
          -1.4999697592356203,
          -0.07673545570317407,
          1.0923883667488896,
          1.459065871481821,
          0.6409517777794759,
          -0.4066026990238546,
          -1.4814144062282055,
          -0.8050244835383678,
          0.9509003168215091,
          1.3859454047783775,
          1.087116100090016,
          -1.3866807901074483,
          -1.4891147568140357,
          -0.8345848421420489,
          0.7086890725592577,
          1.4928639024429156,
          1.1386015433382053,
          -0.06737378491407613,
          -0.9144695459175703,
          -1.4978859666644806,
          -0.2592457728157172,
          1.0764501546602432,
          1.4384135027120202,
          0.7745018314561463,
          -1.3685154499730385,
          -1.0693458917042271,
          0.57847287099327,
          0.9569215290918461,
          1.3914097542304484,
          -0.09301569336687934,
          -0.6753129260631389,
          -1.4635887509847936,
          0.16018881471139956,
          0.6329864659771587,
          1.4816630346919655,
          1.3146272571441464,
          0.20839740549346186,
          -1.4750535697426221,
          -0.9981284871153364,
          -0.08614009547326608,
          1.0797776732127118,
          1.2130810503003306,
          -0.13872161664786276,
          -0.9403480991792299,
          -0.9123914502246211,
          -0.8322504934101242,
          0.9566048728878849,
          1.312788345402064,
          0.7666256077031035,
          -1.3757027759520029,
          -1.3520004830184982,
          -0.06971869053020656,
          0.24442107836251986,
          1.3899185968404273,
          1.083075246968085,
          -0.6487936793373855,
          -1.4765734996975322,
          -0.36816527586694625,
          0.774531440251073,
          1.3924848624756265,
          0.7831182414929585,
          0.10374808784757619,
          -1.1635254036072313,
          -1.0246551595006101,
          -0.483220529713013,
          0.8104136797150018,
          1.3384753179162607,
          -0.4441529199805032,
          -0.636028361800409,
          -1.166898720731498,
          0.21164500775682887,
          0.9640071353961339,
          1.4244544003613724,
          1.045679442422818,
          -1.115951693263772,
          -1.4438947040642005,
          0.04133007903956318,
          0.7629233198444125,
          1.2905389795047917,
          1.342433217868772,
          -0.8162415279381374,
          -1.2242875193281506,
          -1.2913572506065774,
          0.20523681112389655,
          0.911510556385881,
          1.4289457559624608,
          0.1394341117844606
         ]
        }
       ],
       "layout": {
        "scene": {
         "xaxis": {
          "exponentformat": "e",
          "showexponent": "all",
          "title": {
           "text": "0th"
          },
          "type": "linear"
         },
         "yaxis": {
          "exponentformat": "e",
          "showexponent": "all",
          "title": {
           "text": "1st"
          },
          "type": "linear"
         },
         "zaxis": {
          "exponentformat": "e",
          "showexponent": "all",
          "title": {
           "text": "2nd"
          },
          "type": "linear"
         }
        },
        "template": {
         "data": {
          "bar": [
           {
            "error_x": {
             "color": "#2a3f5f"
            },
            "error_y": {
             "color": "#2a3f5f"
            },
            "marker": {
             "line": {
              "color": "#E5ECF6",
              "width": 0.5
             },
             "pattern": {
              "fillmode": "overlay",
              "size": 10,
              "solidity": 0.2
             }
            },
            "type": "bar"
           }
          ],
          "barpolar": [
           {
            "marker": {
             "line": {
              "color": "#E5ECF6",
              "width": 0.5
             },
             "pattern": {
              "fillmode": "overlay",
              "size": 10,
              "solidity": 0.2
             }
            },
            "type": "barpolar"
           }
          ],
          "carpet": [
           {
            "aaxis": {
             "endlinecolor": "#2a3f5f",
             "gridcolor": "white",
             "linecolor": "white",
             "minorgridcolor": "white",
             "startlinecolor": "#2a3f5f"
            },
            "baxis": {
             "endlinecolor": "#2a3f5f",
             "gridcolor": "white",
             "linecolor": "white",
             "minorgridcolor": "white",
             "startlinecolor": "#2a3f5f"
            },
            "type": "carpet"
           }
          ],
          "choropleth": [
           {
            "colorbar": {
             "outlinewidth": 0,
             "ticks": ""
            },
            "type": "choropleth"
           }
          ],
          "contour": [
           {
            "colorbar": {
             "outlinewidth": 0,
             "ticks": ""
            },
            "colorscale": [
             [
              0,
              "#0d0887"
             ],
             [
              0.1111111111111111,
              "#46039f"
             ],
             [
              0.2222222222222222,
              "#7201a8"
             ],
             [
              0.3333333333333333,
              "#9c179e"
             ],
             [
              0.4444444444444444,
              "#bd3786"
             ],
             [
              0.5555555555555556,
              "#d8576b"
             ],
             [
              0.6666666666666666,
              "#ed7953"
             ],
             [
              0.7777777777777778,
              "#fb9f3a"
             ],
             [
              0.8888888888888888,
              "#fdca26"
             ],
             [
              1,
              "#f0f921"
             ]
            ],
            "type": "contour"
           }
          ],
          "contourcarpet": [
           {
            "colorbar": {
             "outlinewidth": 0,
             "ticks": ""
            },
            "type": "contourcarpet"
           }
          ],
          "heatmap": [
           {
            "colorbar": {
             "outlinewidth": 0,
             "ticks": ""
            },
            "colorscale": [
             [
              0,
              "#0d0887"
             ],
             [
              0.1111111111111111,
              "#46039f"
             ],
             [
              0.2222222222222222,
              "#7201a8"
             ],
             [
              0.3333333333333333,
              "#9c179e"
             ],
             [
              0.4444444444444444,
              "#bd3786"
             ],
             [
              0.5555555555555556,
              "#d8576b"
             ],
             [
              0.6666666666666666,
              "#ed7953"
             ],
             [
              0.7777777777777778,
              "#fb9f3a"
             ],
             [
              0.8888888888888888,
              "#fdca26"
             ],
             [
              1,
              "#f0f921"
             ]
            ],
            "type": "heatmap"
           }
          ],
          "heatmapgl": [
           {
            "colorbar": {
             "outlinewidth": 0,
             "ticks": ""
            },
            "colorscale": [
             [
              0,
              "#0d0887"
             ],
             [
              0.1111111111111111,
              "#46039f"
             ],
             [
              0.2222222222222222,
              "#7201a8"
             ],
             [
              0.3333333333333333,
              "#9c179e"
             ],
             [
              0.4444444444444444,
              "#bd3786"
             ],
             [
              0.5555555555555556,
              "#d8576b"
             ],
             [
              0.6666666666666666,
              "#ed7953"
             ],
             [
              0.7777777777777778,
              "#fb9f3a"
             ],
             [
              0.8888888888888888,
              "#fdca26"
             ],
             [
              1,
              "#f0f921"
             ]
            ],
            "type": "heatmapgl"
           }
          ],
          "histogram": [
           {
            "marker": {
             "pattern": {
              "fillmode": "overlay",
              "size": 10,
              "solidity": 0.2
             }
            },
            "type": "histogram"
           }
          ],
          "histogram2d": [
           {
            "colorbar": {
             "outlinewidth": 0,
             "ticks": ""
            },
            "colorscale": [
             [
              0,
              "#0d0887"
             ],
             [
              0.1111111111111111,
              "#46039f"
             ],
             [
              0.2222222222222222,
              "#7201a8"
             ],
             [
              0.3333333333333333,
              "#9c179e"
             ],
             [
              0.4444444444444444,
              "#bd3786"
             ],
             [
              0.5555555555555556,
              "#d8576b"
             ],
             [
              0.6666666666666666,
              "#ed7953"
             ],
             [
              0.7777777777777778,
              "#fb9f3a"
             ],
             [
              0.8888888888888888,
              "#fdca26"
             ],
             [
              1,
              "#f0f921"
             ]
            ],
            "type": "histogram2d"
           }
          ],
          "histogram2dcontour": [
           {
            "colorbar": {
             "outlinewidth": 0,
             "ticks": ""
            },
            "colorscale": [
             [
              0,
              "#0d0887"
             ],
             [
              0.1111111111111111,
              "#46039f"
             ],
             [
              0.2222222222222222,
              "#7201a8"
             ],
             [
              0.3333333333333333,
              "#9c179e"
             ],
             [
              0.4444444444444444,
              "#bd3786"
             ],
             [
              0.5555555555555556,
              "#d8576b"
             ],
             [
              0.6666666666666666,
              "#ed7953"
             ],
             [
              0.7777777777777778,
              "#fb9f3a"
             ],
             [
              0.8888888888888888,
              "#fdca26"
             ],
             [
              1,
              "#f0f921"
             ]
            ],
            "type": "histogram2dcontour"
           }
          ],
          "mesh3d": [
           {
            "colorbar": {
             "outlinewidth": 0,
             "ticks": ""
            },
            "type": "mesh3d"
           }
          ],
          "parcoords": [
           {
            "line": {
             "colorbar": {
              "outlinewidth": 0,
              "ticks": ""
             }
            },
            "type": "parcoords"
           }
          ],
          "pie": [
           {
            "automargin": true,
            "type": "pie"
           }
          ],
          "scatter": [
           {
            "fillpattern": {
             "fillmode": "overlay",
             "size": 10,
             "solidity": 0.2
            },
            "type": "scatter"
           }
          ],
          "scatter3d": [
           {
            "line": {
             "colorbar": {
              "outlinewidth": 0,
              "ticks": ""
             }
            },
            "marker": {
             "colorbar": {
              "outlinewidth": 0,
              "ticks": ""
             }
            },
            "type": "scatter3d"
           }
          ],
          "scattercarpet": [
           {
            "marker": {
             "colorbar": {
              "outlinewidth": 0,
              "ticks": ""
             }
            },
            "type": "scattercarpet"
           }
          ],
          "scattergeo": [
           {
            "marker": {
             "colorbar": {
              "outlinewidth": 0,
              "ticks": ""
             }
            },
            "type": "scattergeo"
           }
          ],
          "scattergl": [
           {
            "marker": {
             "colorbar": {
              "outlinewidth": 0,
              "ticks": ""
             }
            },
            "type": "scattergl"
           }
          ],
          "scattermapbox": [
           {
            "marker": {
             "colorbar": {
              "outlinewidth": 0,
              "ticks": ""
             }
            },
            "type": "scattermapbox"
           }
          ],
          "scatterpolar": [
           {
            "marker": {
             "colorbar": {
              "outlinewidth": 0,
              "ticks": ""
             }
            },
            "type": "scatterpolar"
           }
          ],
          "scatterpolargl": [
           {
            "marker": {
             "colorbar": {
              "outlinewidth": 0,
              "ticks": ""
             }
            },
            "type": "scatterpolargl"
           }
          ],
          "scatterternary": [
           {
            "marker": {
             "colorbar": {
              "outlinewidth": 0,
              "ticks": ""
             }
            },
            "type": "scatterternary"
           }
          ],
          "surface": [
           {
            "colorbar": {
             "outlinewidth": 0,
             "ticks": ""
            },
            "colorscale": [
             [
              0,
              "#0d0887"
             ],
             [
              0.1111111111111111,
              "#46039f"
             ],
             [
              0.2222222222222222,
              "#7201a8"
             ],
             [
              0.3333333333333333,
              "#9c179e"
             ],
             [
              0.4444444444444444,
              "#bd3786"
             ],
             [
              0.5555555555555556,
              "#d8576b"
             ],
             [
              0.6666666666666666,
              "#ed7953"
             ],
             [
              0.7777777777777778,
              "#fb9f3a"
             ],
             [
              0.8888888888888888,
              "#fdca26"
             ],
             [
              1,
              "#f0f921"
             ]
            ],
            "type": "surface"
           }
          ],
          "table": [
           {
            "cells": {
             "fill": {
              "color": "#EBF0F8"
             },
             "line": {
              "color": "white"
             }
            },
            "header": {
             "fill": {
              "color": "#C8D4E3"
             },
             "line": {
              "color": "white"
             }
            },
            "type": "table"
           }
          ]
         },
         "layout": {
          "annotationdefaults": {
           "arrowcolor": "#2a3f5f",
           "arrowhead": 0,
           "arrowwidth": 1
          },
          "autotypenumbers": "strict",
          "coloraxis": {
           "colorbar": {
            "outlinewidth": 0,
            "ticks": ""
           }
          },
          "colorscale": {
           "diverging": [
            [
             0,
             "#8e0152"
            ],
            [
             0.1,
             "#c51b7d"
            ],
            [
             0.2,
             "#de77ae"
            ],
            [
             0.3,
             "#f1b6da"
            ],
            [
             0.4,
             "#fde0ef"
            ],
            [
             0.5,
             "#f7f7f7"
            ],
            [
             0.6,
             "#e6f5d0"
            ],
            [
             0.7,
             "#b8e186"
            ],
            [
             0.8,
             "#7fbc41"
            ],
            [
             0.9,
             "#4d9221"
            ],
            [
             1,
             "#276419"
            ]
           ],
           "sequential": [
            [
             0,
             "#0d0887"
            ],
            [
             0.1111111111111111,
             "#46039f"
            ],
            [
             0.2222222222222222,
             "#7201a8"
            ],
            [
             0.3333333333333333,
             "#9c179e"
            ],
            [
             0.4444444444444444,
             "#bd3786"
            ],
            [
             0.5555555555555556,
             "#d8576b"
            ],
            [
             0.6666666666666666,
             "#ed7953"
            ],
            [
             0.7777777777777778,
             "#fb9f3a"
            ],
            [
             0.8888888888888888,
             "#fdca26"
            ],
            [
             1,
             "#f0f921"
            ]
           ],
           "sequentialminus": [
            [
             0,
             "#0d0887"
            ],
            [
             0.1111111111111111,
             "#46039f"
            ],
            [
             0.2222222222222222,
             "#7201a8"
            ],
            [
             0.3333333333333333,
             "#9c179e"
            ],
            [
             0.4444444444444444,
             "#bd3786"
            ],
            [
             0.5555555555555556,
             "#d8576b"
            ],
            [
             0.6666666666666666,
             "#ed7953"
            ],
            [
             0.7777777777777778,
             "#fb9f3a"
            ],
            [
             0.8888888888888888,
             "#fdca26"
            ],
            [
             1,
             "#f0f921"
            ]
           ]
          },
          "colorway": [
           "#636efa",
           "#EF553B",
           "#00cc96",
           "#ab63fa",
           "#FFA15A",
           "#19d3f3",
           "#FF6692",
           "#B6E880",
           "#FF97FF",
           "#FECB52"
          ],
          "font": {
           "color": "#2a3f5f"
          },
          "geo": {
           "bgcolor": "white",
           "lakecolor": "white",
           "landcolor": "#E5ECF6",
           "showlakes": true,
           "showland": true,
           "subunitcolor": "white"
          },
          "hoverlabel": {
           "align": "left"
          },
          "hovermode": "closest",
          "mapbox": {
           "style": "light"
          },
          "paper_bgcolor": "white",
          "plot_bgcolor": "#E5ECF6",
          "polar": {
           "angularaxis": {
            "gridcolor": "white",
            "linecolor": "white",
            "ticks": ""
           },
           "bgcolor": "#E5ECF6",
           "radialaxis": {
            "gridcolor": "white",
            "linecolor": "white",
            "ticks": ""
           }
          },
          "scene": {
           "xaxis": {
            "backgroundcolor": "#E5ECF6",
            "gridcolor": "white",
            "gridwidth": 2,
            "linecolor": "white",
            "showbackground": true,
            "ticks": "",
            "zerolinecolor": "white"
           },
           "yaxis": {
            "backgroundcolor": "#E5ECF6",
            "gridcolor": "white",
            "gridwidth": 2,
            "linecolor": "white",
            "showbackground": true,
            "ticks": "",
            "zerolinecolor": "white"
           },
           "zaxis": {
            "backgroundcolor": "#E5ECF6",
            "gridcolor": "white",
            "gridwidth": 2,
            "linecolor": "white",
            "showbackground": true,
            "ticks": "",
            "zerolinecolor": "white"
           }
          },
          "shapedefaults": {
           "line": {
            "color": "#2a3f5f"
           }
          },
          "ternary": {
           "aaxis": {
            "gridcolor": "white",
            "linecolor": "white",
            "ticks": ""
           },
           "baxis": {
            "gridcolor": "white",
            "linecolor": "white",
            "ticks": ""
           },
           "bgcolor": "#E5ECF6",
           "caxis": {
            "gridcolor": "white",
            "linecolor": "white",
            "ticks": ""
           }
          },
          "title": {
           "x": 0.05
          },
          "xaxis": {
           "automargin": true,
           "gridcolor": "white",
           "linecolor": "white",
           "ticks": "",
           "title": {
            "standoff": 15
           },
           "zerolinecolor": "white",
           "zerolinewidth": 2
          },
          "yaxis": {
           "automargin": true,
           "gridcolor": "white",
           "linecolor": "white",
           "ticks": "",
           "title": {
            "standoff": 15
           },
           "zerolinecolor": "white",
           "zerolinewidth": 2
          }
         }
        }
       }
      }
     },
     "metadata": {},
     "output_type": "display_data"
    }
   ],
   "source": [
    "plot_point_cloud(basic_point_cloud).show()"
   ]
  },
  {
   "cell_type": "code",
   "execution_count": 31,
   "metadata": {},
   "outputs": [
    {
     "data": {
      "application/vnd.plotly.v1+json": {
       "config": {
        "plotlyServerURL": "https://plot.ly"
       },
       "data": [
        {
         "marker": {
          "color": [
           0,
           1,
           2,
           3,
           4,
           5,
           6,
           7,
           8,
           9,
           10,
           11,
           12,
           13,
           14,
           15,
           16,
           17,
           18,
           19,
           20,
           21,
           22,
           23,
           24,
           25,
           26,
           27,
           28,
           29,
           30,
           31,
           32,
           33,
           34,
           35,
           36,
           37,
           38,
           39,
           40,
           41,
           42,
           43,
           44,
           45,
           46,
           47,
           48,
           49,
           50,
           51,
           52,
           53,
           54,
           55,
           56,
           57,
           58,
           59,
           60,
           61,
           62,
           63,
           64,
           65,
           66,
           67,
           68,
           69,
           70,
           71,
           72,
           73,
           74,
           75,
           76,
           77,
           78,
           79,
           80,
           81,
           82,
           83,
           84,
           85,
           86,
           87,
           88,
           89,
           90,
           91,
           92,
           93,
           94,
           95,
           96,
           97,
           98,
           99,
           100,
           101,
           102,
           103,
           104,
           105,
           106,
           107,
           108,
           109,
           110,
           111,
           112,
           113,
           114,
           115,
           116,
           117,
           118,
           119,
           120,
           121,
           122,
           123,
           124,
           125,
           126,
           127,
           128,
           129,
           130,
           131,
           132,
           133,
           134,
           135,
           136,
           137,
           138,
           139,
           140,
           141,
           142,
           143,
           144,
           145,
           146,
           147,
           148,
           149,
           150,
           151,
           152,
           153,
           154,
           155,
           156,
           157,
           158,
           159,
           160,
           161,
           162,
           163,
           164,
           165,
           166,
           167,
           168,
           169,
           170,
           171,
           172,
           173,
           174,
           175,
           176,
           177,
           178,
           179,
           180,
           181,
           182,
           183,
           184,
           185,
           186,
           187,
           188,
           189,
           190,
           191,
           192,
           193,
           194,
           195,
           196,
           197,
           198,
           199,
           200,
           201,
           202,
           203,
           204,
           205,
           206,
           207,
           208,
           209,
           210,
           211,
           212,
           213,
           214,
           215,
           216,
           217,
           218,
           219,
           220,
           221,
           222,
           223,
           224,
           225,
           226,
           227,
           228,
           229,
           230,
           231,
           232,
           233,
           234,
           235,
           236,
           237,
           238,
           239,
           240,
           241,
           242,
           243,
           244,
           245,
           246,
           247,
           248,
           249,
           250,
           251,
           252,
           253,
           254,
           255,
           256,
           257,
           258,
           259,
           260,
           261,
           262,
           263,
           264,
           265,
           266,
           267,
           268,
           269,
           270,
           271,
           272,
           273,
           274,
           275,
           276,
           277,
           278,
           279,
           280,
           281,
           282,
           283,
           284,
           285,
           286,
           287,
           288,
           289,
           290,
           291,
           292,
           293,
           294,
           295,
           296,
           297,
           298,
           299,
           300,
           301,
           302,
           303,
           304,
           305,
           306,
           307,
           308,
           309,
           310,
           311,
           312,
           313,
           314,
           315,
           316,
           317,
           318,
           319,
           320,
           321,
           322,
           323,
           324,
           325,
           326,
           327,
           328,
           329,
           330,
           331,
           332,
           333,
           334,
           335,
           336,
           337,
           338,
           339,
           340,
           341,
           342,
           343,
           344,
           345,
           346,
           347,
           348,
           349,
           350,
           351,
           352,
           353,
           354,
           355,
           356,
           357,
           358,
           359,
           360,
           361,
           362,
           363,
           364,
           365,
           366,
           367,
           368,
           369,
           370,
           371,
           372,
           373,
           374,
           375,
           376,
           377,
           378,
           379,
           380,
           381,
           382,
           383,
           384,
           385,
           386,
           387,
           388,
           389,
           390,
           391,
           392,
           393,
           394,
           395,
           396,
           397,
           398,
           399,
           400,
           401,
           402,
           403,
           404,
           405,
           406,
           407,
           408,
           409,
           410,
           411,
           412,
           413,
           414,
           415,
           416,
           417,
           418,
           419,
           420,
           421,
           422,
           423,
           424,
           425,
           426,
           427,
           428,
           429,
           430,
           431,
           432,
           433,
           434,
           435,
           436,
           437,
           438,
           439,
           440,
           441,
           442,
           443,
           444,
           445,
           446,
           447,
           448,
           449,
           450,
           451,
           452,
           453,
           454,
           455,
           456,
           457,
           458,
           459,
           460,
           461,
           462,
           463,
           464,
           465,
           466,
           467,
           468,
           469,
           470,
           471,
           472,
           473,
           474,
           475,
           476,
           477,
           478,
           479,
           480,
           481,
           482,
           483
          ],
          "colorscale": [
           [
            0,
            "#440154"
           ],
           [
            0.1111111111111111,
            "#482878"
           ],
           [
            0.2222222222222222,
            "#3e4989"
           ],
           [
            0.3333333333333333,
            "#31688e"
           ],
           [
            0.4444444444444444,
            "#26828e"
           ],
           [
            0.5555555555555556,
            "#1f9e89"
           ],
           [
            0.6666666666666666,
            "#35b779"
           ],
           [
            0.7777777777777778,
            "#6ece58"
           ],
           [
            0.8888888888888888,
            "#b5de2b"
           ],
           [
            1,
            "#fde725"
           ]
          ],
          "opacity": 0.8,
          "size": 4
         },
         "mode": "markers",
         "type": "scatter3d",
         "x": [
          1.4740693001787466,
          1.4390515243002373,
          0.4304382179523069,
          1.4514284170348999,
          -0.9260574561777395,
          -0.6403246448841245,
          1.2640457551215218,
          -1.0321014882636201,
          1.0885412154630307,
          1.3665154292734498,
          0.906901558263671,
          -0.9738169848200287,
          -0.1919381348556499,
          -0.3509104126261199,
          -0.9990422162475614,
          -1.3373808058600676,
          1.4867431241573883,
          -0.39171379153091335,
          -1.4847400355339613,
          1.266789451912175,
          0.33007707736650704,
          1.0047151563799337,
          -0.47310802704634736,
          1.4657363698231665,
          -1.0072511147223486,
          1.4161008279658895,
          -1.3919259571592042,
          -1.1217341478097058,
          -1.1309944823983815,
          -0.9055670614214992,
          1.4906533524068133,
          0.8101826224937447,
          -1.0542538220542124,
          0.02135913746313949,
          -1.1057229664004846,
          0.7546989656112073,
          -1.2468634952393547,
          1.179934693844968,
          -1.0548845779441391,
          -0.7638607917597176,
          1.2278784271878915,
          -0.07907540154499934,
          0.2212075501132179,
          1.4995190551128408,
          0.6576140057399197,
          -0.41717946394185024,
          0.37488767408182566,
          0.26068046493773983,
          -0.7490370457482785,
          0.4588846915488375,
          0.5373456163323476,
          -0.09572441845366847,
          -0.9358785353285602,
          1.4377533442536212,
          -0.5472427111020127,
          0.8250411794063617,
          1.4950941762562275,
          -1.3913486018461012,
          0.9975732661813842,
          -1.037075582632775,
          -0.4316986730883158,
          -1.4315015061316103,
          -1.4943349996041593,
          -0.8148596683010292,
          -1.433811263886609,
          -1.0913324136007483,
          0.20141621192706105,
          -0.10887990412500537,
          -0.07264267817023,
          1.486034089049184,
          1.2546936107765183,
          -0.5975333874814271,
          -1.086428162885316,
          -1.4616878150811188,
          1.4163638903501679,
          0.4628113681443472,
          1.490745716157484,
          -1.4198733856060304,
          -0.71174401936307,
          -1.1382814237329661,
          0.46159161676150723,
          0.9696457839514707,
          -0.6044504103853556,
          1.3868005930001126,
          1.0322082745284675,
          0.6008755724823331,
          0.6321781648882039,
          1.0315714833793126,
          -1.1170089271129746,
          -1.157520243252007,
          1.293524550860527,
          -1.0459655242024708,
          0.06400624503002743,
          1.1982160722221766,
          -0.03976955946076373,
          -1.1195440141969766,
          0.7301574548436289,
          -0.8711469952415598,
          1.1222005556786425,
          -0.4787831036912136,
          -1.123474210591052,
          1.2342302114803025,
          -0.46369864440498815,
          1.4956885043950048,
          0.2665833962383298,
          1.0197678206971816,
          1.4846384712972687,
          1.3252700041194703,
          -1.3795648783122703,
          -0.02588265322274977,
          -1.0265212395082004,
          -1.059088090572858,
          -0.1987347373532073,
          -0.6495857630541784,
          1.1507949649757332,
          -1.4997163366231607,
          -1.4628478424303384,
          0.5866937177042362,
          -1.0775350035359685,
          1.1877921366268707,
          0.4696953906897524,
          -0.8787312190150869,
          0.8609131837428048,
          0.7662627558229573,
          -0.40746433812793303,
          1.4580529852005681,
          0.5722835856588351,
          -0.8416487232852168,
          -1.330651021010449,
          -0.6248609000101655,
          1.4129353186361004,
          1.4998394173420266,
          -1.1736387817186926,
          -1.455660243979295,
          0.48579578567392534,
          0.34665833267134577,
          -1.3052584961448037,
          1.499992634128167,
          0.45006264539406726,
          -0.5905288139442214,
          1.020471548547015,
          -1.096729620499782,
          1.4863393174142727,
          -0.2410494004369106,
          -0.42553836265190226,
          0.010664855755735647,
          1.4925582058673774,
          0.6537427403510667,
          -1.4516486496087184,
          0.2290055258795766,
          1.4852108421998462,
          1.482039771398428,
          0.9190675523260199,
          1.410488778379062,
          0.6524265474841703,
          -1.46591952734645,
          1.3005315965899085,
          0.9380506587811949,
          0.9884596882561697,
          -0.5999672722138645,
          0.9206382648101953,
          0.2397694798692498,
          -0.22505930410768765,
          0.1427663947553992,
          -1.4992605990691503,
          -0.32311496948593177,
          0.12028866743948818,
          0.6224445942210536,
          -1.0845417581335663,
          1.1541441032154511,
          1.2243249871608806,
          1.154596530833001,
          -0.9196349879684949,
          -1.3447567784355752,
          0.5724071749841826,
          -0.14920888529671386,
          1.0902759208966477,
          1.0564542837250788,
          1.4118028781527723,
          0.6039359740994146,
          1.3494059067670303,
          -1.3420057570172248,
          1.4108595134780721,
          -0.7142345129025109,
          1.1437094864665158,
          -1.4829468883356647,
          1.3880315141096997,
          0.17291177293519752,
          -1.1846125715226756,
          1.4559704820455168,
          0.3440573563399622,
          -0.8310592616005437,
          1.4012250147506975,
          0.2590016293409768,
          0.9521467008291712,
          -0.9411756383764789,
          -1.2727500864185912,
          -1.460175112106012,
          0.45306277297654607,
          0.9619592430026592,
          1.4821872062152353,
          -0.6470094523819757,
          0.5148021137582379,
          -1.4660677226730883,
          1.4808421878109952,
          1.3733002728113093,
          -1.2110796397760568,
          -0.5356532329546645,
          -0.29112391181968406,
          1.0637612891099582,
          0.4369696349055914,
          1.3995700850732316,
          -0.9909890342628311,
          1.0317257711972536,
          1.4690362111280368,
          1.4725085296864207,
          1.4270808988698453,
          -1.2244838853874938,
          0.8623111377203927,
          1.1695680606935723,
          -1.1936121615631177,
          -1.3404423162144858,
          -0.4862149792917626,
          -1.3016584246126726,
          1.2857910220482511,
          -0.23691542873097693,
          -0.5321687873519649,
          1.3163696879469922,
          1.4354231481248458,
          -0.2046633257853152,
          -0.17406546700732559,
          -0.7662902207218425,
          -0.6293683258534853,
          -0.3715040481487741,
          -0.6513242441923204,
          0.4284923784543204,
          0.10173636058647026,
          -0.23958197340016765,
          1.4890542885779925,
          -1.4988050175101488,
          -1.4711546124094337,
          0.178751349367472,
          0.2168483590452031,
          1.392706403626201,
          -0.8791944681422482,
          0.6571499609005957,
          1.4241610411245684,
          1.3111820820846152,
          -1.2625372216583512,
          0.4093302300987813,
          -1.4808809912160203,
          0.8435118525979601,
          0.9021312398333841,
          -1.3228336633299689,
          -0.34824435563536754,
          1.4081539824372078,
          1.3872669740320904,
          -1.410724483209194,
          0.451524447018855,
          0.2624999532448048,
          -0.9565596190713543,
          0.47868710196193853,
          0.15255876976252347,
          1.2397920699006184,
          -0.3522147834903281,
          1.4917466279042804,
          1.492223252964309,
          -0.41737510763590757,
          1.4289812164664002,
          -1.435398573908904,
          1.492942945577544,
          -0.9061834082688162,
          -0.988239508553789,
          0.8706362710317215,
          0.6207054776051593,
          0.21964483752742964,
          -0.13544986160826858,
          -0.8313087229334203,
          -1.139636510418593,
          -1.2035835554699337,
          1.4446108278910912,
          0.7250555414490064,
          -0.5028280660371808,
          0.9932644430193498,
          1.375255944401594,
          1.4867624314610222,
          -0.08910449796103923,
          0.9535844617420761,
          1.487613943048792,
          1.4994032556136219,
          -0.020033317608982696,
          0.9435223833452311,
          0.8698908083850436,
          -0.6389938781634564,
          0.2694165098893682,
          -0.1963173187194973,
          -1.4735352598519305,
          1.4560761914646525,
          1.4666453772854378,
          -0.9660436533169747,
          1.4723200336117,
          -0.8351277482597057,
          -1.3822171414524613,
          0.5775943344497777,
          1.4999976777677604,
          0.01789920582476243,
          -0.5685534145483662,
          -1.4986242393590152,
          1.003938000341532,
          1.492969104146375,
          0.3064309871699661,
          -0.5074717412614291,
          -0.012765536374270223,
          -1.0636726025622092,
          1.4995982416780205,
          1.4954227765492394,
          -0.7908399229873742,
          -0.39741318997710817,
          1.4746956885931621,
          -0.8528143785464144,
          -1.4708502415197833,
          -0.8358786647737921,
          1.4960495463470738,
          1.418292602095651,
          -0.8442618429045625,
          -0.327193800724742,
          -0.7480899204688356,
          1.0301831022803647,
          -1.4672629166008924,
          1.2594811671637318,
          -1.1610819780358408,
          0.9864686602161895,
          0.25274446659932137,
          -1.4999807892500003,
          0.9286586976546456,
          0.36891911944378647,
          -1.2738599856200055,
          -1.3679609200640213,
          1.4040514235903097,
          -1.4313887978434068,
          1.402450945159636,
          -0.19929049752623612,
          0.7662942321467978,
          0.3486517735301618,
          -0.06173385402522992,
          1.1643423060060276,
          -0.061830845726819045,
          -0.9794741078054248,
          -1.4819887776446787,
          -1.3428160676165497,
          -0.3114211150240183,
          0.5116478547389389,
          -1.497444217480883,
          1.4077210251164967,
          -0.5482666183787182,
          0.4667160189301862,
          1.3283515945107505,
          -0.0794871572045779,
          -1.3769341158029027,
          0.37655509149117,
          1.3758510984119168,
          -0.9959775070808328,
          -1.4594014479816062,
          0.37318459374440277,
          0.48079191851979014,
          1.349628787994628,
          1.1728760353560768,
          1.4900047654246977,
          -1.4480430758797929,
          0.2302610572705219,
          -0.5936209093920602,
          -0.0470764364649572,
          -0.74892029530458,
          1.0831382373014418,
          1.4578806703888432,
          1.418165393236354,
          -1.0379229411798363,
          -0.22450304738972127,
          -1.4218728738012891,
          0.9271975931528005,
          -0.9991132025516325,
          -1.1602117325290529,
          -1.1974569840984546,
          1.2802704861436283,
          -0.9672806921634685,
          1.4689874383310566,
          -0.6734167479653055,
          -0.71808688648431,
          0.28464078557329825,
          1.4058425905154102,
          -1.4982821015750436,
          0.4128396842904426,
          -1.4076802795941163,
          -1.170283085544329,
          -1.1845007110306942,
          -0.4035082193658323,
          1.1816349491346285,
          1.4996495766079057,
          -1.3268935317960724,
          -1.4783272137976748,
          -0.7557442681181747,
          -1.423121928129867,
          0.6374163357108598,
          -1.1863512358510562,
          -0.636444565629291,
          1.469933296656698,
          1.2699229796477647,
          -1.4669850420907855,
          0.5138471313989759,
          1.4921316333359798,
          1.0251272464941974,
          1.4653656308113618,
          -0.09247039405787166,
          1.3381622049141186,
          1.40623826027108,
          -1.4925135966906673,
          -0.6139857974563256,
          -1.1276794026463672,
          -0.3821809516038852,
          -1.477811730191366,
          -0.8170584330122463,
          0.15829959463971216,
          -1.4019261223409871,
          -0.05093541583245406,
          -1.4620012162494573,
          1.479282042736974,
          -1.4457131731733621,
          -1.4949047850152895,
          1.245078303245063,
          0.4320857488525061,
          1.4180303002703636,
          0.37271002777404877,
          -0.9416234780724684,
          -1.4795636785373805,
          -0.9609375863625522,
          1.466512106052625,
          1.422754444815618,
          0.8625042553450043,
          -1.4954206504200254,
          -0.2492047065247079,
          -0.8598699629588918,
          -1.471286576744369,
          -1.4130747445320084,
          -0.8630543772310585,
          0.8509439207301617,
          0.9323546992981725,
          -0.13946278331270245,
          0.8588928649409064,
          -1.358465106555635,
          1.3682101882497912,
          -1.4433470179607728,
          1.3332405083269716,
          -1.2271918504101862,
          -0.3895958688449432,
          1.4670409506203828,
          -1.12661597069281,
          -1.0863369105341532,
          -1.2836575843011149,
          0.16532578676635024,
          -1.439370508596657,
          1.494205720995384,
          -1.370576678062861,
          0.7518753758991441,
          -0.12526397370608983,
          1.417689383448863,
          1.3171854423828222,
          0.27804100834703543,
          -0.49509674996520114,
          -1.461124992528318,
          -0.4040882355138671,
          0.6281589778872316,
          0.8768886540096403,
          1.2659364592660745,
          -1.4737189886245676,
          1.4383703251816218,
          -1.1304138570624702,
          -0.591623442921016,
          1.3085810522599346,
          -0.883132165007386,
          1.3552836627219322,
          1.4967016793487407,
          0.48778454579192454,
          0.08684936153646267,
          1.137240341421449
         ],
         "y": [
          1.0885412154630307,
          1.3665154292734498,
          0.906901558263671,
          -0.9738169848200287,
          -0.1919381348556499,
          -0.3509104126261199,
          -0.9990422162475614,
          -1.3373808058600676,
          1.4867431241573883,
          -0.39171379153091335,
          -1.4847400355339613,
          1.266789451912175,
          0.33007707736650704,
          1.0047151563799337,
          -0.47310802704634736,
          1.4657363698231665,
          -1.0072511147223486,
          1.4161008279658895,
          -1.3919259571592042,
          -1.1217341478097058,
          -1.1309944823983815,
          -0.9055670614214992,
          1.4906533524068133,
          0.8101826224937447,
          -1.0542538220542124,
          0.02135913746313949,
          -1.1057229664004846,
          0.7546989656112073,
          -1.2468634952393547,
          1.179934693844968,
          -1.0548845779441391,
          -0.7638607917597176,
          1.2278784271878915,
          -0.07907540154499934,
          0.2212075501132179,
          1.4995190551128408,
          0.6576140057399197,
          -0.41717946394185024,
          0.37488767408182566,
          0.26068046493773983,
          -0.7490370457482785,
          0.4588846915488375,
          0.5373456163323476,
          -0.09572441845366847,
          -0.9358785353285602,
          1.4377533442536212,
          -0.5472427111020127,
          0.8250411794063617,
          1.4950941762562275,
          -1.3913486018461012,
          0.9975732661813842,
          -1.037075582632775,
          -0.4316986730883158,
          -1.4315015061316103,
          -1.4943349996041593,
          -0.8148596683010292,
          -1.433811263886609,
          -1.0913324136007483,
          0.20141621192706105,
          -0.10887990412500537,
          -0.07264267817023,
          1.486034089049184,
          1.2546936107765183,
          -0.5975333874814271,
          -1.086428162885316,
          -1.4616878150811188,
          1.4163638903501679,
          0.4628113681443472,
          1.490745716157484,
          -1.4198733856060304,
          -0.71174401936307,
          -1.1382814237329661,
          0.46159161676150723,
          0.9696457839514707,
          -0.6044504103853556,
          1.3868005930001126,
          1.0322082745284675,
          0.6008755724823331,
          0.6321781648882039,
          1.0315714833793126,
          -1.1170089271129746,
          -1.157520243252007,
          1.293524550860527,
          -1.0459655242024708,
          0.06400624503002743,
          1.1982160722221766,
          -0.03976955946076373,
          -1.1195440141969766,
          0.7301574548436289,
          -0.8711469952415598,
          1.1222005556786425,
          -0.4787831036912136,
          -1.123474210591052,
          1.2342302114803025,
          -0.46369864440498815,
          1.4956885043950048,
          0.2665833962383298,
          1.0197678206971816,
          1.4846384712972687,
          1.3252700041194703,
          -1.3795648783122703,
          -0.02588265322274977,
          -1.0265212395082004,
          -1.059088090572858,
          -0.1987347373532073,
          -0.6495857630541784,
          1.1507949649757332,
          -1.4997163366231607,
          -1.4628478424303384,
          0.5866937177042362,
          -1.0775350035359685,
          1.1877921366268707,
          0.4696953906897524,
          -0.8787312190150869,
          0.8609131837428048,
          0.7662627558229573,
          -0.40746433812793303,
          1.4580529852005681,
          0.5722835856588351,
          -0.8416487232852168,
          -1.330651021010449,
          -0.6248609000101655,
          1.4129353186361004,
          1.4998394173420266,
          -1.1736387817186926,
          -1.455660243979295,
          0.48579578567392534,
          0.34665833267134577,
          -1.3052584961448037,
          1.499992634128167,
          0.45006264539406726,
          -0.5905288139442214,
          1.020471548547015,
          -1.096729620499782,
          1.4863393174142727,
          -0.2410494004369106,
          -0.42553836265190226,
          0.010664855755735647,
          1.4925582058673774,
          0.6537427403510667,
          -1.4516486496087184,
          0.2290055258795766,
          1.4852108421998462,
          1.482039771398428,
          0.9190675523260199,
          1.410488778379062,
          0.6524265474841703,
          -1.46591952734645,
          1.3005315965899085,
          0.9380506587811949,
          0.9884596882561697,
          -0.5999672722138645,
          0.9206382648101953,
          0.2397694798692498,
          -0.22505930410768765,
          0.1427663947553992,
          -1.4992605990691503,
          -0.32311496948593177,
          0.12028866743948818,
          0.6224445942210536,
          -1.0845417581335663,
          1.1541441032154511,
          1.2243249871608806,
          1.154596530833001,
          -0.9196349879684949,
          -1.3447567784355752,
          0.5724071749841826,
          -0.14920888529671386,
          1.0902759208966477,
          1.0564542837250788,
          1.4118028781527723,
          0.6039359740994146,
          1.3494059067670303,
          -1.3420057570172248,
          1.4108595134780721,
          -0.7142345129025109,
          1.1437094864665158,
          -1.4829468883356647,
          1.3880315141096997,
          0.17291177293519752,
          -1.1846125715226756,
          1.4559704820455168,
          0.3440573563399622,
          -0.8310592616005437,
          1.4012250147506975,
          0.2590016293409768,
          0.9521467008291712,
          -0.9411756383764789,
          -1.2727500864185912,
          -1.460175112106012,
          0.45306277297654607,
          0.9619592430026592,
          1.4821872062152353,
          -0.6470094523819757,
          0.5148021137582379,
          -1.4660677226730883,
          1.4808421878109952,
          1.3733002728113093,
          -1.2110796397760568,
          -0.5356532329546645,
          -0.29112391181968406,
          1.0637612891099582,
          0.4369696349055914,
          1.3995700850732316,
          -0.9909890342628311,
          1.0317257711972536,
          1.4690362111280368,
          1.4725085296864207,
          1.4270808988698453,
          -1.2244838853874938,
          0.8623111377203927,
          1.1695680606935723,
          -1.1936121615631177,
          -1.3404423162144858,
          -0.4862149792917626,
          -1.3016584246126726,
          1.2857910220482511,
          -0.23691542873097693,
          -0.5321687873519649,
          1.3163696879469922,
          1.4354231481248458,
          -0.2046633257853152,
          -0.17406546700732559,
          -0.7662902207218425,
          -0.6293683258534853,
          -0.3715040481487741,
          -0.6513242441923204,
          0.4284923784543204,
          0.10173636058647026,
          -0.23958197340016765,
          1.4890542885779925,
          -1.4988050175101488,
          -1.4711546124094337,
          0.178751349367472,
          0.2168483590452031,
          1.392706403626201,
          -0.8791944681422482,
          0.6571499609005957,
          1.4241610411245684,
          1.3111820820846152,
          -1.2625372216583512,
          0.4093302300987813,
          -1.4808809912160203,
          0.8435118525979601,
          0.9021312398333841,
          -1.3228336633299689,
          -0.34824435563536754,
          1.4081539824372078,
          1.3872669740320904,
          -1.410724483209194,
          0.451524447018855,
          0.2624999532448048,
          -0.9565596190713543,
          0.47868710196193853,
          0.15255876976252347,
          1.2397920699006184,
          -0.3522147834903281,
          1.4917466279042804,
          1.492223252964309,
          -0.41737510763590757,
          1.4289812164664002,
          -1.435398573908904,
          1.492942945577544,
          -0.9061834082688162,
          -0.988239508553789,
          0.8706362710317215,
          0.6207054776051593,
          0.21964483752742964,
          -0.13544986160826858,
          -0.8313087229334203,
          -1.139636510418593,
          -1.2035835554699337,
          1.4446108278910912,
          0.7250555414490064,
          -0.5028280660371808,
          0.9932644430193498,
          1.375255944401594,
          1.4867624314610222,
          -0.08910449796103923,
          0.9535844617420761,
          1.487613943048792,
          1.4994032556136219,
          -0.020033317608982696,
          0.9435223833452311,
          0.8698908083850436,
          -0.6389938781634564,
          0.2694165098893682,
          -0.1963173187194973,
          -1.4735352598519305,
          1.4560761914646525,
          1.4666453772854378,
          -0.9660436533169747,
          1.4723200336117,
          -0.8351277482597057,
          -1.3822171414524613,
          0.5775943344497777,
          1.4999976777677604,
          0.01789920582476243,
          -0.5685534145483662,
          -1.4986242393590152,
          1.003938000341532,
          1.492969104146375,
          0.3064309871699661,
          -0.5074717412614291,
          -0.012765536374270223,
          -1.0636726025622092,
          1.4995982416780205,
          1.4954227765492394,
          -0.7908399229873742,
          -0.39741318997710817,
          1.4746956885931621,
          -0.8528143785464144,
          -1.4708502415197833,
          -0.8358786647737921,
          1.4960495463470738,
          1.418292602095651,
          -0.8442618429045625,
          -0.327193800724742,
          -0.7480899204688356,
          1.0301831022803647,
          -1.4672629166008924,
          1.2594811671637318,
          -1.1610819780358408,
          0.9864686602161895,
          0.25274446659932137,
          -1.4999807892500003,
          0.9286586976546456,
          0.36891911944378647,
          -1.2738599856200055,
          -1.3679609200640213,
          1.4040514235903097,
          -1.4313887978434068,
          1.402450945159636,
          -0.19929049752623612,
          0.7662942321467978,
          0.3486517735301618,
          -0.06173385402522992,
          1.1643423060060276,
          -0.061830845726819045,
          -0.9794741078054248,
          -1.4819887776446787,
          -1.3428160676165497,
          -0.3114211150240183,
          0.5116478547389389,
          -1.497444217480883,
          1.4077210251164967,
          -0.5482666183787182,
          0.4667160189301862,
          1.3283515945107505,
          -0.0794871572045779,
          -1.3769341158029027,
          0.37655509149117,
          1.3758510984119168,
          -0.9959775070808328,
          -1.4594014479816062,
          0.37318459374440277,
          0.48079191851979014,
          1.349628787994628,
          1.1728760353560768,
          1.4900047654246977,
          -1.4480430758797929,
          0.2302610572705219,
          -0.5936209093920602,
          -0.0470764364649572,
          -0.74892029530458,
          1.0831382373014418,
          1.4578806703888432,
          1.418165393236354,
          -1.0379229411798363,
          -0.22450304738972127,
          -1.4218728738012891,
          0.9271975931528005,
          -0.9991132025516325,
          -1.1602117325290529,
          -1.1974569840984546,
          1.2802704861436283,
          -0.9672806921634685,
          1.4689874383310566,
          -0.6734167479653055,
          -0.71808688648431,
          0.28464078557329825,
          1.4058425905154102,
          -1.4982821015750436,
          0.4128396842904426,
          -1.4076802795941163,
          -1.170283085544329,
          -1.1845007110306942,
          -0.4035082193658323,
          1.1816349491346285,
          1.4996495766079057,
          -1.3268935317960724,
          -1.4783272137976748,
          -0.7557442681181747,
          -1.423121928129867,
          0.6374163357108598,
          -1.1863512358510562,
          -0.636444565629291,
          1.469933296656698,
          1.2699229796477647,
          -1.4669850420907855,
          0.5138471313989759,
          1.4921316333359798,
          1.0251272464941974,
          1.4653656308113618,
          -0.09247039405787166,
          1.3381622049141186,
          1.40623826027108,
          -1.4925135966906673,
          -0.6139857974563256,
          -1.1276794026463672,
          -0.3821809516038852,
          -1.477811730191366,
          -0.8170584330122463,
          0.15829959463971216,
          -1.4019261223409871,
          -0.05093541583245406,
          -1.4620012162494573,
          1.479282042736974,
          -1.4457131731733621,
          -1.4949047850152895,
          1.245078303245063,
          0.4320857488525061,
          1.4180303002703636,
          0.37271002777404877,
          -0.9416234780724684,
          -1.4795636785373805,
          -0.9609375863625522,
          1.466512106052625,
          1.422754444815618,
          0.8625042553450043,
          -1.4954206504200254,
          -0.2492047065247079,
          -0.8598699629588918,
          -1.471286576744369,
          -1.4130747445320084,
          -0.8630543772310585,
          0.8509439207301617,
          0.9323546992981725,
          -0.13946278331270245,
          0.8588928649409064,
          -1.358465106555635,
          1.3682101882497912,
          -1.4433470179607728,
          1.3332405083269716,
          -1.2271918504101862,
          -0.3895958688449432,
          1.4670409506203828,
          -1.12661597069281,
          -1.0863369105341532,
          -1.2836575843011149,
          0.16532578676635024,
          -1.439370508596657,
          1.494205720995384,
          -1.370576678062861,
          0.7518753758991441,
          -0.12526397370608983,
          1.417689383448863,
          1.3171854423828222,
          0.27804100834703543,
          -0.49509674996520114,
          -1.461124992528318,
          -0.4040882355138671,
          0.6281589778872316,
          0.8768886540096403,
          1.2659364592660745,
          -1.4737189886245676,
          1.4383703251816218,
          -1.1304138570624702,
          -0.591623442921016,
          1.3085810522599346,
          -0.883132165007386,
          1.3552836627219322,
          1.4967016793487407,
          0.48778454579192454,
          0.08684936153646267,
          1.137240341421449,
          0.34555648493291713,
          1.3918606276139742,
          -0.6355096775613092,
          -0.9682388498097982,
          1.4997924850854256,
          1.3754703480142576,
          -0.09529931406306341,
          -1.3875711513751643
         ],
         "z": [
          1.4867431241573883,
          -0.39171379153091335,
          -1.4847400355339613,
          1.266789451912175,
          0.33007707736650704,
          1.0047151563799337,
          -0.47310802704634736,
          1.4657363698231665,
          -1.0072511147223486,
          1.4161008279658895,
          -1.3919259571592042,
          -1.1217341478097058,
          -1.1309944823983815,
          -0.9055670614214992,
          1.4906533524068133,
          0.8101826224937447,
          -1.0542538220542124,
          0.02135913746313949,
          -1.1057229664004846,
          0.7546989656112073,
          -1.2468634952393547,
          1.179934693844968,
          -1.0548845779441391,
          -0.7638607917597176,
          1.2278784271878915,
          -0.07907540154499934,
          0.2212075501132179,
          1.4995190551128408,
          0.6576140057399197,
          -0.41717946394185024,
          0.37488767408182566,
          0.26068046493773983,
          -0.7490370457482785,
          0.4588846915488375,
          0.5373456163323476,
          -0.09572441845366847,
          -0.9358785353285602,
          1.4377533442536212,
          -0.5472427111020127,
          0.8250411794063617,
          1.4950941762562275,
          -1.3913486018461012,
          0.9975732661813842,
          -1.037075582632775,
          -0.4316986730883158,
          -1.4315015061316103,
          -1.4943349996041593,
          -0.8148596683010292,
          -1.433811263886609,
          -1.0913324136007483,
          0.20141621192706105,
          -0.10887990412500537,
          -0.07264267817023,
          1.486034089049184,
          1.2546936107765183,
          -0.5975333874814271,
          -1.086428162885316,
          -1.4616878150811188,
          1.4163638903501679,
          0.4628113681443472,
          1.490745716157484,
          -1.4198733856060304,
          -0.71174401936307,
          -1.1382814237329661,
          0.46159161676150723,
          0.9696457839514707,
          -0.6044504103853556,
          1.3868005930001126,
          1.0322082745284675,
          0.6008755724823331,
          0.6321781648882039,
          1.0315714833793126,
          -1.1170089271129746,
          -1.157520243252007,
          1.293524550860527,
          -1.0459655242024708,
          0.06400624503002743,
          1.1982160722221766,
          -0.03976955946076373,
          -1.1195440141969766,
          0.7301574548436289,
          -0.8711469952415598,
          1.1222005556786425,
          -0.4787831036912136,
          -1.123474210591052,
          1.2342302114803025,
          -0.46369864440498815,
          1.4956885043950048,
          0.2665833962383298,
          1.0197678206971816,
          1.4846384712972687,
          1.3252700041194703,
          -1.3795648783122703,
          -0.02588265322274977,
          -1.0265212395082004,
          -1.059088090572858,
          -0.1987347373532073,
          -0.6495857630541784,
          1.1507949649757332,
          -1.4997163366231607,
          -1.4628478424303384,
          0.5866937177042362,
          -1.0775350035359685,
          1.1877921366268707,
          0.4696953906897524,
          -0.8787312190150869,
          0.8609131837428048,
          0.7662627558229573,
          -0.40746433812793303,
          1.4580529852005681,
          0.5722835856588351,
          -0.8416487232852168,
          -1.330651021010449,
          -0.6248609000101655,
          1.4129353186361004,
          1.4998394173420266,
          -1.1736387817186926,
          -1.455660243979295,
          0.48579578567392534,
          0.34665833267134577,
          -1.3052584961448037,
          1.499992634128167,
          0.45006264539406726,
          -0.5905288139442214,
          1.020471548547015,
          -1.096729620499782,
          1.4863393174142727,
          -0.2410494004369106,
          -0.42553836265190226,
          0.010664855755735647,
          1.4925582058673774,
          0.6537427403510667,
          -1.4516486496087184,
          0.2290055258795766,
          1.4852108421998462,
          1.482039771398428,
          0.9190675523260199,
          1.410488778379062,
          0.6524265474841703,
          -1.46591952734645,
          1.3005315965899085,
          0.9380506587811949,
          0.9884596882561697,
          -0.5999672722138645,
          0.9206382648101953,
          0.2397694798692498,
          -0.22505930410768765,
          0.1427663947553992,
          -1.4992605990691503,
          -0.32311496948593177,
          0.12028866743948818,
          0.6224445942210536,
          -1.0845417581335663,
          1.1541441032154511,
          1.2243249871608806,
          1.154596530833001,
          -0.9196349879684949,
          -1.3447567784355752,
          0.5724071749841826,
          -0.14920888529671386,
          1.0902759208966477,
          1.0564542837250788,
          1.4118028781527723,
          0.6039359740994146,
          1.3494059067670303,
          -1.3420057570172248,
          1.4108595134780721,
          -0.7142345129025109,
          1.1437094864665158,
          -1.4829468883356647,
          1.3880315141096997,
          0.17291177293519752,
          -1.1846125715226756,
          1.4559704820455168,
          0.3440573563399622,
          -0.8310592616005437,
          1.4012250147506975,
          0.2590016293409768,
          0.9521467008291712,
          -0.9411756383764789,
          -1.2727500864185912,
          -1.460175112106012,
          0.45306277297654607,
          0.9619592430026592,
          1.4821872062152353,
          -0.6470094523819757,
          0.5148021137582379,
          -1.4660677226730883,
          1.4808421878109952,
          1.3733002728113093,
          -1.2110796397760568,
          -0.5356532329546645,
          -0.29112391181968406,
          1.0637612891099582,
          0.4369696349055914,
          1.3995700850732316,
          -0.9909890342628311,
          1.0317257711972536,
          1.4690362111280368,
          1.4725085296864207,
          1.4270808988698453,
          -1.2244838853874938,
          0.8623111377203927,
          1.1695680606935723,
          -1.1936121615631177,
          -1.3404423162144858,
          -0.4862149792917626,
          -1.3016584246126726,
          1.2857910220482511,
          -0.23691542873097693,
          -0.5321687873519649,
          1.3163696879469922,
          1.4354231481248458,
          -0.2046633257853152,
          -0.17406546700732559,
          -0.7662902207218425,
          -0.6293683258534853,
          -0.3715040481487741,
          -0.6513242441923204,
          0.4284923784543204,
          0.10173636058647026,
          -0.23958197340016765,
          1.4890542885779925,
          -1.4988050175101488,
          -1.4711546124094337,
          0.178751349367472,
          0.2168483590452031,
          1.392706403626201,
          -0.8791944681422482,
          0.6571499609005957,
          1.4241610411245684,
          1.3111820820846152,
          -1.2625372216583512,
          0.4093302300987813,
          -1.4808809912160203,
          0.8435118525979601,
          0.9021312398333841,
          -1.3228336633299689,
          -0.34824435563536754,
          1.4081539824372078,
          1.3872669740320904,
          -1.410724483209194,
          0.451524447018855,
          0.2624999532448048,
          -0.9565596190713543,
          0.47868710196193853,
          0.15255876976252347,
          1.2397920699006184,
          -0.3522147834903281,
          1.4917466279042804,
          1.492223252964309,
          -0.41737510763590757,
          1.4289812164664002,
          -1.435398573908904,
          1.492942945577544,
          -0.9061834082688162,
          -0.988239508553789,
          0.8706362710317215,
          0.6207054776051593,
          0.21964483752742964,
          -0.13544986160826858,
          -0.8313087229334203,
          -1.139636510418593,
          -1.2035835554699337,
          1.4446108278910912,
          0.7250555414490064,
          -0.5028280660371808,
          0.9932644430193498,
          1.375255944401594,
          1.4867624314610222,
          -0.08910449796103923,
          0.9535844617420761,
          1.487613943048792,
          1.4994032556136219,
          -0.020033317608982696,
          0.9435223833452311,
          0.8698908083850436,
          -0.6389938781634564,
          0.2694165098893682,
          -0.1963173187194973,
          -1.4735352598519305,
          1.4560761914646525,
          1.4666453772854378,
          -0.9660436533169747,
          1.4723200336117,
          -0.8351277482597057,
          -1.3822171414524613,
          0.5775943344497777,
          1.4999976777677604,
          0.01789920582476243,
          -0.5685534145483662,
          -1.4986242393590152,
          1.003938000341532,
          1.492969104146375,
          0.3064309871699661,
          -0.5074717412614291,
          -0.012765536374270223,
          -1.0636726025622092,
          1.4995982416780205,
          1.4954227765492394,
          -0.7908399229873742,
          -0.39741318997710817,
          1.4746956885931621,
          -0.8528143785464144,
          -1.4708502415197833,
          -0.8358786647737921,
          1.4960495463470738,
          1.418292602095651,
          -0.8442618429045625,
          -0.327193800724742,
          -0.7480899204688356,
          1.0301831022803647,
          -1.4672629166008924,
          1.2594811671637318,
          -1.1610819780358408,
          0.9864686602161895,
          0.25274446659932137,
          -1.4999807892500003,
          0.9286586976546456,
          0.36891911944378647,
          -1.2738599856200055,
          -1.3679609200640213,
          1.4040514235903097,
          -1.4313887978434068,
          1.402450945159636,
          -0.19929049752623612,
          0.7662942321467978,
          0.3486517735301618,
          -0.06173385402522992,
          1.1643423060060276,
          -0.061830845726819045,
          -0.9794741078054248,
          -1.4819887776446787,
          -1.3428160676165497,
          -0.3114211150240183,
          0.5116478547389389,
          -1.497444217480883,
          1.4077210251164967,
          -0.5482666183787182,
          0.4667160189301862,
          1.3283515945107505,
          -0.0794871572045779,
          -1.3769341158029027,
          0.37655509149117,
          1.3758510984119168,
          -0.9959775070808328,
          -1.4594014479816062,
          0.37318459374440277,
          0.48079191851979014,
          1.349628787994628,
          1.1728760353560768,
          1.4900047654246977,
          -1.4480430758797929,
          0.2302610572705219,
          -0.5936209093920602,
          -0.0470764364649572,
          -0.74892029530458,
          1.0831382373014418,
          1.4578806703888432,
          1.418165393236354,
          -1.0379229411798363,
          -0.22450304738972127,
          -1.4218728738012891,
          0.9271975931528005,
          -0.9991132025516325,
          -1.1602117325290529,
          -1.1974569840984546,
          1.2802704861436283,
          -0.9672806921634685,
          1.4689874383310566,
          -0.6734167479653055,
          -0.71808688648431,
          0.28464078557329825,
          1.4058425905154102,
          -1.4982821015750436,
          0.4128396842904426,
          -1.4076802795941163,
          -1.170283085544329,
          -1.1845007110306942,
          -0.4035082193658323,
          1.1816349491346285,
          1.4996495766079057,
          -1.3268935317960724,
          -1.4783272137976748,
          -0.7557442681181747,
          -1.423121928129867,
          0.6374163357108598,
          -1.1863512358510562,
          -0.636444565629291,
          1.469933296656698,
          1.2699229796477647,
          -1.4669850420907855,
          0.5138471313989759,
          1.4921316333359798,
          1.0251272464941974,
          1.4653656308113618,
          -0.09247039405787166,
          1.3381622049141186,
          1.40623826027108,
          -1.4925135966906673,
          -0.6139857974563256,
          -1.1276794026463672,
          -0.3821809516038852,
          -1.477811730191366,
          -0.8170584330122463,
          0.15829959463971216,
          -1.4019261223409871,
          -0.05093541583245406,
          -1.4620012162494573,
          1.479282042736974,
          -1.4457131731733621,
          -1.4949047850152895,
          1.245078303245063,
          0.4320857488525061,
          1.4180303002703636,
          0.37271002777404877,
          -0.9416234780724684,
          -1.4795636785373805,
          -0.9609375863625522,
          1.466512106052625,
          1.422754444815618,
          0.8625042553450043,
          -1.4954206504200254,
          -0.2492047065247079,
          -0.8598699629588918,
          -1.471286576744369,
          -1.4130747445320084,
          -0.8630543772310585,
          0.8509439207301617,
          0.9323546992981725,
          -0.13946278331270245,
          0.8588928649409064,
          -1.358465106555635,
          1.3682101882497912,
          -1.4433470179607728,
          1.3332405083269716,
          -1.2271918504101862,
          -0.3895958688449432,
          1.4670409506203828,
          -1.12661597069281,
          -1.0863369105341532,
          -1.2836575843011149,
          0.16532578676635024,
          -1.439370508596657,
          1.494205720995384,
          -1.370576678062861,
          0.7518753758991441,
          -0.12526397370608983,
          1.417689383448863,
          1.3171854423828222,
          0.27804100834703543,
          -0.49509674996520114,
          -1.461124992528318,
          -0.4040882355138671,
          0.6281589778872316,
          0.8768886540096403,
          1.2659364592660745,
          -1.4737189886245676,
          1.4383703251816218,
          -1.1304138570624702,
          -0.591623442921016,
          1.3085810522599346,
          -0.883132165007386,
          1.3552836627219322,
          1.4967016793487407,
          0.48778454579192454,
          0.08684936153646267,
          1.137240341421449,
          0.34555648493291713,
          1.3918606276139742,
          -0.6355096775613092,
          -0.9682388498097982,
          1.4997924850854256,
          1.3754703480142576,
          -0.09529931406306341,
          -1.3875711513751643,
          -0.6503797701865898,
          1.0669594977510322,
          0.5365013754868443,
          -0.7974994829288327,
          -1.3696165251630366,
          -1.4985950630764413,
          -0.6801883850576947,
          0.3715313830101751
         ]
        }
       ],
       "layout": {
        "scene": {
         "xaxis": {
          "exponentformat": "e",
          "showexponent": "all",
          "title": {
           "text": "0th"
          },
          "type": "linear"
         },
         "yaxis": {
          "exponentformat": "e",
          "showexponent": "all",
          "title": {
           "text": "1st"
          },
          "type": "linear"
         },
         "zaxis": {
          "exponentformat": "e",
          "showexponent": "all",
          "title": {
           "text": "2nd"
          },
          "type": "linear"
         }
        },
        "template": {
         "data": {
          "bar": [
           {
            "error_x": {
             "color": "#2a3f5f"
            },
            "error_y": {
             "color": "#2a3f5f"
            },
            "marker": {
             "line": {
              "color": "#E5ECF6",
              "width": 0.5
             },
             "pattern": {
              "fillmode": "overlay",
              "size": 10,
              "solidity": 0.2
             }
            },
            "type": "bar"
           }
          ],
          "barpolar": [
           {
            "marker": {
             "line": {
              "color": "#E5ECF6",
              "width": 0.5
             },
             "pattern": {
              "fillmode": "overlay",
              "size": 10,
              "solidity": 0.2
             }
            },
            "type": "barpolar"
           }
          ],
          "carpet": [
           {
            "aaxis": {
             "endlinecolor": "#2a3f5f",
             "gridcolor": "white",
             "linecolor": "white",
             "minorgridcolor": "white",
             "startlinecolor": "#2a3f5f"
            },
            "baxis": {
             "endlinecolor": "#2a3f5f",
             "gridcolor": "white",
             "linecolor": "white",
             "minorgridcolor": "white",
             "startlinecolor": "#2a3f5f"
            },
            "type": "carpet"
           }
          ],
          "choropleth": [
           {
            "colorbar": {
             "outlinewidth": 0,
             "ticks": ""
            },
            "type": "choropleth"
           }
          ],
          "contour": [
           {
            "colorbar": {
             "outlinewidth": 0,
             "ticks": ""
            },
            "colorscale": [
             [
              0,
              "#0d0887"
             ],
             [
              0.1111111111111111,
              "#46039f"
             ],
             [
              0.2222222222222222,
              "#7201a8"
             ],
             [
              0.3333333333333333,
              "#9c179e"
             ],
             [
              0.4444444444444444,
              "#bd3786"
             ],
             [
              0.5555555555555556,
              "#d8576b"
             ],
             [
              0.6666666666666666,
              "#ed7953"
             ],
             [
              0.7777777777777778,
              "#fb9f3a"
             ],
             [
              0.8888888888888888,
              "#fdca26"
             ],
             [
              1,
              "#f0f921"
             ]
            ],
            "type": "contour"
           }
          ],
          "contourcarpet": [
           {
            "colorbar": {
             "outlinewidth": 0,
             "ticks": ""
            },
            "type": "contourcarpet"
           }
          ],
          "heatmap": [
           {
            "colorbar": {
             "outlinewidth": 0,
             "ticks": ""
            },
            "colorscale": [
             [
              0,
              "#0d0887"
             ],
             [
              0.1111111111111111,
              "#46039f"
             ],
             [
              0.2222222222222222,
              "#7201a8"
             ],
             [
              0.3333333333333333,
              "#9c179e"
             ],
             [
              0.4444444444444444,
              "#bd3786"
             ],
             [
              0.5555555555555556,
              "#d8576b"
             ],
             [
              0.6666666666666666,
              "#ed7953"
             ],
             [
              0.7777777777777778,
              "#fb9f3a"
             ],
             [
              0.8888888888888888,
              "#fdca26"
             ],
             [
              1,
              "#f0f921"
             ]
            ],
            "type": "heatmap"
           }
          ],
          "heatmapgl": [
           {
            "colorbar": {
             "outlinewidth": 0,
             "ticks": ""
            },
            "colorscale": [
             [
              0,
              "#0d0887"
             ],
             [
              0.1111111111111111,
              "#46039f"
             ],
             [
              0.2222222222222222,
              "#7201a8"
             ],
             [
              0.3333333333333333,
              "#9c179e"
             ],
             [
              0.4444444444444444,
              "#bd3786"
             ],
             [
              0.5555555555555556,
              "#d8576b"
             ],
             [
              0.6666666666666666,
              "#ed7953"
             ],
             [
              0.7777777777777778,
              "#fb9f3a"
             ],
             [
              0.8888888888888888,
              "#fdca26"
             ],
             [
              1,
              "#f0f921"
             ]
            ],
            "type": "heatmapgl"
           }
          ],
          "histogram": [
           {
            "marker": {
             "pattern": {
              "fillmode": "overlay",
              "size": 10,
              "solidity": 0.2
             }
            },
            "type": "histogram"
           }
          ],
          "histogram2d": [
           {
            "colorbar": {
             "outlinewidth": 0,
             "ticks": ""
            },
            "colorscale": [
             [
              0,
              "#0d0887"
             ],
             [
              0.1111111111111111,
              "#46039f"
             ],
             [
              0.2222222222222222,
              "#7201a8"
             ],
             [
              0.3333333333333333,
              "#9c179e"
             ],
             [
              0.4444444444444444,
              "#bd3786"
             ],
             [
              0.5555555555555556,
              "#d8576b"
             ],
             [
              0.6666666666666666,
              "#ed7953"
             ],
             [
              0.7777777777777778,
              "#fb9f3a"
             ],
             [
              0.8888888888888888,
              "#fdca26"
             ],
             [
              1,
              "#f0f921"
             ]
            ],
            "type": "histogram2d"
           }
          ],
          "histogram2dcontour": [
           {
            "colorbar": {
             "outlinewidth": 0,
             "ticks": ""
            },
            "colorscale": [
             [
              0,
              "#0d0887"
             ],
             [
              0.1111111111111111,
              "#46039f"
             ],
             [
              0.2222222222222222,
              "#7201a8"
             ],
             [
              0.3333333333333333,
              "#9c179e"
             ],
             [
              0.4444444444444444,
              "#bd3786"
             ],
             [
              0.5555555555555556,
              "#d8576b"
             ],
             [
              0.6666666666666666,
              "#ed7953"
             ],
             [
              0.7777777777777778,
              "#fb9f3a"
             ],
             [
              0.8888888888888888,
              "#fdca26"
             ],
             [
              1,
              "#f0f921"
             ]
            ],
            "type": "histogram2dcontour"
           }
          ],
          "mesh3d": [
           {
            "colorbar": {
             "outlinewidth": 0,
             "ticks": ""
            },
            "type": "mesh3d"
           }
          ],
          "parcoords": [
           {
            "line": {
             "colorbar": {
              "outlinewidth": 0,
              "ticks": ""
             }
            },
            "type": "parcoords"
           }
          ],
          "pie": [
           {
            "automargin": true,
            "type": "pie"
           }
          ],
          "scatter": [
           {
            "fillpattern": {
             "fillmode": "overlay",
             "size": 10,
             "solidity": 0.2
            },
            "type": "scatter"
           }
          ],
          "scatter3d": [
           {
            "line": {
             "colorbar": {
              "outlinewidth": 0,
              "ticks": ""
             }
            },
            "marker": {
             "colorbar": {
              "outlinewidth": 0,
              "ticks": ""
             }
            },
            "type": "scatter3d"
           }
          ],
          "scattercarpet": [
           {
            "marker": {
             "colorbar": {
              "outlinewidth": 0,
              "ticks": ""
             }
            },
            "type": "scattercarpet"
           }
          ],
          "scattergeo": [
           {
            "marker": {
             "colorbar": {
              "outlinewidth": 0,
              "ticks": ""
             }
            },
            "type": "scattergeo"
           }
          ],
          "scattergl": [
           {
            "marker": {
             "colorbar": {
              "outlinewidth": 0,
              "ticks": ""
             }
            },
            "type": "scattergl"
           }
          ],
          "scattermapbox": [
           {
            "marker": {
             "colorbar": {
              "outlinewidth": 0,
              "ticks": ""
             }
            },
            "type": "scattermapbox"
           }
          ],
          "scatterpolar": [
           {
            "marker": {
             "colorbar": {
              "outlinewidth": 0,
              "ticks": ""
             }
            },
            "type": "scatterpolar"
           }
          ],
          "scatterpolargl": [
           {
            "marker": {
             "colorbar": {
              "outlinewidth": 0,
              "ticks": ""
             }
            },
            "type": "scatterpolargl"
           }
          ],
          "scatterternary": [
           {
            "marker": {
             "colorbar": {
              "outlinewidth": 0,
              "ticks": ""
             }
            },
            "type": "scatterternary"
           }
          ],
          "surface": [
           {
            "colorbar": {
             "outlinewidth": 0,
             "ticks": ""
            },
            "colorscale": [
             [
              0,
              "#0d0887"
             ],
             [
              0.1111111111111111,
              "#46039f"
             ],
             [
              0.2222222222222222,
              "#7201a8"
             ],
             [
              0.3333333333333333,
              "#9c179e"
             ],
             [
              0.4444444444444444,
              "#bd3786"
             ],
             [
              0.5555555555555556,
              "#d8576b"
             ],
             [
              0.6666666666666666,
              "#ed7953"
             ],
             [
              0.7777777777777778,
              "#fb9f3a"
             ],
             [
              0.8888888888888888,
              "#fdca26"
             ],
             [
              1,
              "#f0f921"
             ]
            ],
            "type": "surface"
           }
          ],
          "table": [
           {
            "cells": {
             "fill": {
              "color": "#EBF0F8"
             },
             "line": {
              "color": "white"
             }
            },
            "header": {
             "fill": {
              "color": "#C8D4E3"
             },
             "line": {
              "color": "white"
             }
            },
            "type": "table"
           }
          ]
         },
         "layout": {
          "annotationdefaults": {
           "arrowcolor": "#2a3f5f",
           "arrowhead": 0,
           "arrowwidth": 1
          },
          "autotypenumbers": "strict",
          "coloraxis": {
           "colorbar": {
            "outlinewidth": 0,
            "ticks": ""
           }
          },
          "colorscale": {
           "diverging": [
            [
             0,
             "#8e0152"
            ],
            [
             0.1,
             "#c51b7d"
            ],
            [
             0.2,
             "#de77ae"
            ],
            [
             0.3,
             "#f1b6da"
            ],
            [
             0.4,
             "#fde0ef"
            ],
            [
             0.5,
             "#f7f7f7"
            ],
            [
             0.6,
             "#e6f5d0"
            ],
            [
             0.7,
             "#b8e186"
            ],
            [
             0.8,
             "#7fbc41"
            ],
            [
             0.9,
             "#4d9221"
            ],
            [
             1,
             "#276419"
            ]
           ],
           "sequential": [
            [
             0,
             "#0d0887"
            ],
            [
             0.1111111111111111,
             "#46039f"
            ],
            [
             0.2222222222222222,
             "#7201a8"
            ],
            [
             0.3333333333333333,
             "#9c179e"
            ],
            [
             0.4444444444444444,
             "#bd3786"
            ],
            [
             0.5555555555555556,
             "#d8576b"
            ],
            [
             0.6666666666666666,
             "#ed7953"
            ],
            [
             0.7777777777777778,
             "#fb9f3a"
            ],
            [
             0.8888888888888888,
             "#fdca26"
            ],
            [
             1,
             "#f0f921"
            ]
           ],
           "sequentialminus": [
            [
             0,
             "#0d0887"
            ],
            [
             0.1111111111111111,
             "#46039f"
            ],
            [
             0.2222222222222222,
             "#7201a8"
            ],
            [
             0.3333333333333333,
             "#9c179e"
            ],
            [
             0.4444444444444444,
             "#bd3786"
            ],
            [
             0.5555555555555556,
             "#d8576b"
            ],
            [
             0.6666666666666666,
             "#ed7953"
            ],
            [
             0.7777777777777778,
             "#fb9f3a"
            ],
            [
             0.8888888888888888,
             "#fdca26"
            ],
            [
             1,
             "#f0f921"
            ]
           ]
          },
          "colorway": [
           "#636efa",
           "#EF553B",
           "#00cc96",
           "#ab63fa",
           "#FFA15A",
           "#19d3f3",
           "#FF6692",
           "#B6E880",
           "#FF97FF",
           "#FECB52"
          ],
          "font": {
           "color": "#2a3f5f"
          },
          "geo": {
           "bgcolor": "white",
           "lakecolor": "white",
           "landcolor": "#E5ECF6",
           "showlakes": true,
           "showland": true,
           "subunitcolor": "white"
          },
          "hoverlabel": {
           "align": "left"
          },
          "hovermode": "closest",
          "mapbox": {
           "style": "light"
          },
          "paper_bgcolor": "white",
          "plot_bgcolor": "#E5ECF6",
          "polar": {
           "angularaxis": {
            "gridcolor": "white",
            "linecolor": "white",
            "ticks": ""
           },
           "bgcolor": "#E5ECF6",
           "radialaxis": {
            "gridcolor": "white",
            "linecolor": "white",
            "ticks": ""
           }
          },
          "scene": {
           "xaxis": {
            "backgroundcolor": "#E5ECF6",
            "gridcolor": "white",
            "gridwidth": 2,
            "linecolor": "white",
            "showbackground": true,
            "ticks": "",
            "zerolinecolor": "white"
           },
           "yaxis": {
            "backgroundcolor": "#E5ECF6",
            "gridcolor": "white",
            "gridwidth": 2,
            "linecolor": "white",
            "showbackground": true,
            "ticks": "",
            "zerolinecolor": "white"
           },
           "zaxis": {
            "backgroundcolor": "#E5ECF6",
            "gridcolor": "white",
            "gridwidth": 2,
            "linecolor": "white",
            "showbackground": true,
            "ticks": "",
            "zerolinecolor": "white"
           }
          },
          "shapedefaults": {
           "line": {
            "color": "#2a3f5f"
           }
          },
          "ternary": {
           "aaxis": {
            "gridcolor": "white",
            "linecolor": "white",
            "ticks": ""
           },
           "baxis": {
            "gridcolor": "white",
            "linecolor": "white",
            "ticks": ""
           },
           "bgcolor": "#E5ECF6",
           "caxis": {
            "gridcolor": "white",
            "linecolor": "white",
            "ticks": ""
           }
          },
          "title": {
           "x": 0.05
          },
          "xaxis": {
           "automargin": true,
           "gridcolor": "white",
           "linecolor": "white",
           "ticks": "",
           "title": {
            "standoff": 15
           },
           "zerolinecolor": "white",
           "zerolinewidth": 2
          },
          "yaxis": {
           "automargin": true,
           "gridcolor": "white",
           "linecolor": "white",
           "ticks": "",
           "title": {
            "standoff": 15
           },
           "zerolinecolor": "white",
           "zerolinewidth": 2
          }
         }
        }
       }
      }
     },
     "metadata": {},
     "output_type": "display_data"
    }
   ],
   "source": [
    "plot_point_cloud(noisy_point_cloud)"
   ]
  },
  {
   "cell_type": "code",
   "execution_count": 32,
   "metadata": {},
   "outputs": [],
   "source": [
    "# 0 - connected components, 1 - loops, 2 - voids\n",
    "homology_dimensions = [0, 1, 2]\n",
    "\n",
    "persistence = VietorisRipsPersistence(\n",
    "    homology_dimensions = homology_dimensions\n",
    ")"
   ]
  },
  {
   "cell_type": "code",
   "execution_count": 33,
   "metadata": {},
   "outputs": [],
   "source": [
    "diagrams = persistence.fit_transform([basic_point_cloud, noisy_point_cloud])"
   ]
  },
  {
   "cell_type": "code",
   "execution_count": 34,
   "metadata": {},
   "outputs": [
    {
     "data": {
      "application/vnd.plotly.v1+json": {
       "config": {
        "plotlyServerURL": "https://plot.ly"
       },
       "data": [
        {
         "hoverinfo": "none",
         "line": {
          "color": "black",
          "dash": "dash",
          "width": 1
         },
         "mode": "lines",
         "showlegend": false,
         "type": "scatter",
         "x": [
          -0.03383828163146973,
          1.725752363204956
         ],
         "y": [
          -0.03383828163146973,
          1.725752363204956
         ]
        },
        {
         "hoverinfo": "text",
         "hovertext": [
          "(0.0, 0.007083573378622532)",
          "(0.0, 0.010369381867349148)",
          "(0.0, 0.01730777882039547)",
          "(0.0, 0.017676811665296555)",
          "(0.0, 0.02364090271294117)",
          "(0.0, 0.03214927017688751)",
          "(0.0, 0.03529960289597511)",
          "(0.0, 0.03632596880197525)",
          "(0.0, 0.038232553750276566)",
          "(0.0, 0.04086701571941376)",
          "(0.0, 0.0412716306746006)",
          "(0.0, 0.04271833226084709)",
          "(0.0, 0.04279259592294693)",
          "(0.0, 0.04283962771296501)",
          "(0.0, 0.04289732128381729)",
          "(0.0, 0.04337263107299805)",
          "(0.0, 0.04440096393227577)",
          "(0.0, 0.045147426426410675)",
          "(0.0, 0.04538440704345703)",
          "(0.0, 0.04619400203227997)",
          "(0.0, 0.0465095080435276)",
          "(0.0, 0.0477924719452858)",
          "(0.0, 0.050737012177705765)",
          "(0.0, 0.05094088986515999)",
          "(0.0, 0.051528580486774445)",
          "(0.0, 0.052102383226156235)",
          "(0.0, 0.055317141115665436)",
          "(0.0, 0.05565789341926575)",
          "(0.0, 0.05568708851933479)",
          "(0.0, 0.05634097382426262)",
          "(0.0, 0.05952586978673935)",
          "(0.0, 0.06082462519407272)",
          "(0.0, 0.06180688366293907)",
          "(0.0, 0.061889536678791046)",
          "(0.0, 0.062487680464982986)",
          "(0.0, 0.06258393079042435)",
          "(0.0, 0.0630602091550827)",
          "(0.0, 0.06314633786678314)",
          "(0.0, 0.06391763687133789)",
          "(0.0, 0.06455525010824203)",
          "(0.0, 0.06977293640375137)",
          "(0.0, 0.07135392725467682)",
          "(0.0, 0.07234741002321243)",
          "(0.0, 0.07268273830413818)",
          "(0.0, 0.07365208119153976)",
          "(0.0, 0.07431600987911224)",
          "(0.0, 0.07485530525445938)",
          "(0.0, 0.07598917186260223)",
          "(0.0, 0.07604479789733887)",
          "(0.0, 0.07730302959680557)",
          "(0.0, 0.07796406000852585)",
          "(0.0, 0.07926703989505768)",
          "(0.0, 0.07963715493679047)",
          "(0.0, 0.08107829838991165)",
          "(0.0, 0.0811404436826706)",
          "(0.0, 0.08241988718509674)",
          "(0.0, 0.08295384049415588)",
          "(0.0, 0.08347028493881226)",
          "(0.0, 0.08428560197353363)",
          "(0.0, 0.08655098080635071)",
          "(0.0, 0.08699782192707062)",
          "(0.0, 0.08712595701217651)",
          "(0.0, 0.08863099664449692)",
          "(0.0, 0.08920212835073471)",
          "(0.0, 0.08971749246120453)",
          "(0.0, 0.09015485644340515)",
          "(0.0, 0.09249255061149597)",
          "(0.0, 0.09249663352966309)",
          "(0.0, 0.09313409775495529)",
          "(0.0, 0.09453146904706955)",
          "(0.0, 0.09477102011442184)",
          "(0.0, 0.09732810407876968)",
          "(0.0, 0.09770838916301727)",
          "(0.0, 0.09825695306062698)",
          "(0.0, 0.0989190936088562)",
          "(0.0, 0.0991811752319336)",
          "(0.0, 0.09942067414522171)",
          "(0.0, 0.10039135813713074)",
          "(0.0, 0.10237180441617966)",
          "(0.0, 0.10379660874605179)",
          "(0.0, 0.10465551912784576)",
          "(0.0, 0.10744728893041611)",
          "(0.0, 0.10773718357086182)",
          "(0.0, 0.1077948659658432)",
          "(0.0, 0.10814477503299713)",
          "(0.0, 0.10896480083465576)",
          "(0.0, 0.10902390629053116)",
          "(0.0, 0.10970506817102432)",
          "(0.0, 0.11173418164253235)",
          "(0.0, 0.11196856945753098)",
          "(0.0, 0.1126478910446167)",
          "(0.0, 0.11313563585281372)",
          "(0.0, 0.11314240843057632)",
          "(0.0, 0.11437326669692993)",
          "(0.0, 0.11506006121635437)",
          "(0.0, 0.11507314443588257)",
          "(0.0, 0.11564956605434418)",
          "(0.0, 0.1157238557934761)",
          "(0.0, 0.11576827615499496)",
          "(0.0, 0.11907178163528442)",
          "(0.0, 0.12111350893974304)",
          "(0.0, 0.12189517915248871)",
          "(0.0, 0.12195049226284027)",
          "(0.0, 0.1219753846526146)",
          "(0.0, 0.1222747266292572)",
          "(0.0, 0.12256854772567749)",
          "(0.0, 0.12308438867330551)",
          "(0.0, 0.12308740615844727)",
          "(0.0, 0.12340263277292252)",
          "(0.0, 0.12415201216936111)",
          "(0.0, 0.12426445633172989)",
          "(0.0, 0.12496164441108704)",
          "(0.0, 0.12530925869941711)",
          "(0.0, 0.1259804517030716)",
          "(0.0, 0.12626400589942932)",
          "(0.0, 0.12652960419654846)",
          "(0.0, 0.12658360600471497)",
          "(0.0, 0.12694266438484192)",
          "(0.0, 0.12701334059238434)",
          "(0.0, 0.12729305028915405)",
          "(0.0, 0.12753112614154816)",
          "(0.0, 0.1279877871274948)",
          "(0.0, 0.12828874588012695)",
          "(0.0, 0.128385990858078)",
          "(0.0, 0.12866118550300598)",
          "(0.0, 0.12884481251239777)",
          "(0.0, 0.12946252524852753)",
          "(0.0, 0.13033586740493774)",
          "(0.0, 0.13110536336898804)",
          "(0.0, 0.13118290901184082)",
          "(0.0, 0.13125260174274445)",
          "(0.0, 0.1317538022994995)",
          "(0.0, 0.132760152220726)",
          "(0.0, 0.1334276646375656)",
          "(0.0, 0.13392530381679535)",
          "(0.0, 0.1340874433517456)",
          "(0.0, 0.1343710869550705)",
          "(0.0, 0.13442718982696533)",
          "(0.0, 0.1347762644290924)",
          "(0.0, 0.13495568931102753)",
          "(0.0, 0.13527874648571014)",
          "(0.0, 0.13658767938613892)",
          "(0.0, 0.13762900233268738)",
          "(0.0, 0.13788725435733795)",
          "(0.0, 0.13839219510555267)",
          "(0.0, 0.1388591229915619)",
          "(0.0, 0.13899767398834229)",
          "(0.0, 0.1401899755001068)",
          "(0.0, 0.1402653604745865)",
          "(0.0, 0.14073872566223145)",
          "(0.0, 0.14118564128875732)",
          "(0.0, 0.14221103489398956)",
          "(0.0, 0.14228840172290802)",
          "(0.0, 0.14263439178466797)",
          "(0.0, 0.1428578794002533)",
          "(0.0, 0.14326807856559753)",
          "(0.0, 0.14385592937469482)",
          "(0.0, 0.14529085159301758)",
          "(0.0, 0.1460283100605011)",
          "(0.0, 0.14610008895397186)",
          "(0.0, 0.146617591381073)",
          "(0.0, 0.1466928869485855)",
          "(0.0, 0.14670337736606598)",
          "(0.0, 0.14710001647472382)",
          "(0.0, 0.1471223086118698)",
          "(0.0, 0.14714539051055908)",
          "(0.0, 0.14739567041397095)",
          "(0.0, 0.14897838234901428)",
          "(0.0, 0.1500217318534851)",
          "(0.0, 0.15045423805713654)",
          "(0.0, 0.15069900453090668)",
          "(0.0, 0.15097232162952423)",
          "(0.0, 0.15106648206710815)",
          "(0.0, 0.15202577412128448)",
          "(0.0, 0.1529897153377533)",
          "(0.0, 0.15374119579792023)",
          "(0.0, 0.15379191935062408)",
          "(0.0, 0.15447454154491425)",
          "(0.0, 0.15465569496154785)",
          "(0.0, 0.1547577679157257)",
          "(0.0, 0.1551428735256195)",
          "(0.0, 0.15571612119674683)",
          "(0.0, 0.15623237192630768)",
          "(0.0, 0.15629541873931885)",
          "(0.0, 0.15670016407966614)",
          "(0.0, 0.15744945406913757)",
          "(0.0, 0.1580367535352707)",
          "(0.0, 0.1584344357252121)",
          "(0.0, 0.1596519500017166)",
          "(0.0, 0.1605953872203827)",
          "(0.0, 0.16072294116020203)",
          "(0.0, 0.16090846061706543)",
          "(0.0, 0.16153664886951447)",
          "(0.0, 0.16176588833332062)",
          "(0.0, 0.1619587242603302)",
          "(0.0, 0.1626725047826767)",
          "(0.0, 0.16281883418560028)",
          "(0.0, 0.16346757113933563)",
          "(0.0, 0.16384103894233704)",
          "(0.0, 0.16446052491664886)",
          "(0.0, 0.1647500991821289)",
          "(0.0, 0.1650838404893875)",
          "(0.0, 0.1666613519191742)",
          "(0.0, 0.16671967506408691)",
          "(0.0, 0.16747231781482697)",
          "(0.0, 0.16751375794410706)",
          "(0.0, 0.1677144169807434)",
          "(0.0, 0.16830728948116302)",
          "(0.0, 0.16868656873703003)",
          "(0.0, 0.16872715950012207)",
          "(0.0, 0.16903303563594818)",
          "(0.0, 0.1691710352897644)",
          "(0.0, 0.16940423846244812)",
          "(0.0, 0.16969864070415497)",
          "(0.0, 0.16992102563381195)",
          "(0.0, 0.17036257684230804)",
          "(0.0, 0.17099329829216003)",
          "(0.0, 0.17166182398796082)",
          "(0.0, 0.17241030931472778)",
          "(0.0, 0.17306677997112274)",
          "(0.0, 0.17310823500156403)",
          "(0.0, 0.1734832376241684)",
          "(0.0, 0.17388157546520233)",
          "(0.0, 0.17403776943683624)",
          "(0.0, 0.17443811893463135)",
          "(0.0, 0.17456795275211334)",
          "(0.0, 0.1746230274438858)",
          "(0.0, 0.17473602294921875)",
          "(0.0, 0.17478826642036438)",
          "(0.0, 0.1749977171421051)",
          "(0.0, 0.1750228852033615)",
          "(0.0, 0.17581699788570404)",
          "(0.0, 0.1760949343442917)",
          "(0.0, 0.17643943428993225)",
          "(0.0, 0.17801040410995483)",
          "(0.0, 0.17809846997261047)",
          "(0.0, 0.17827145755290985)",
          "(0.0, 0.17830030620098114)",
          "(0.0, 0.1784811019897461)",
          "(0.0, 0.17882536351680756)",
          "(0.0, 0.17897610366344452)",
          "(0.0, 0.17942585051059723)",
          "(0.0, 0.18106254935264587)",
          "(0.0, 0.18107326328754425)",
          "(0.0, 0.18126972019672394)",
          "(0.0, 0.18136821687221527)",
          "(0.0, 0.18143044412136078)",
          "(0.0, 0.1815844178199768)",
          "(0.0, 0.1818823516368866)",
          "(0.0, 0.18229874968528748)",
          "(0.0, 0.18246741592884064)",
          "(0.0, 0.18289268016815186)",
          "(0.0, 0.18362466990947723)",
          "(0.0, 0.1836368441581726)",
          "(0.0, 0.18391618132591248)",
          "(0.0, 0.1839224249124527)",
          "(0.0, 0.18419674038887024)",
          "(0.0, 0.18433064222335815)",
          "(0.0, 0.18502572178840637)",
          "(0.0, 0.18507874011993408)",
          "(0.0, 0.18548248708248138)",
          "(0.0, 0.1855388879776001)",
          "(0.0, 0.18592482805252075)",
          "(0.0, 0.18679513037204742)",
          "(0.0, 0.18698205053806305)",
          "(0.0, 0.18700745701789856)",
          "(0.0, 0.18709081411361694)",
          "(0.0, 0.1872214674949646)",
          "(0.0, 0.18756930530071259)",
          "(0.0, 0.18793261051177979)",
          "(0.0, 0.18793420493602753)",
          "(0.0, 0.1892283409833908)",
          "(0.0, 0.18929637968540192)",
          "(0.0, 0.1901749223470688)",
          "(0.0, 0.19060011208057404)",
          "(0.0, 0.19071213901042938)",
          "(0.0, 0.19103209674358368)",
          "(0.0, 0.19125619530677795)",
          "(0.0, 0.19148142635822296)",
          "(0.0, 0.19195117056369781)",
          "(0.0, 0.19270193576812744)",
          "(0.0, 0.19302070140838623)",
          "(0.0, 0.19320525228977203)",
          "(0.0, 0.19325712323188782)",
          "(0.0, 0.19408494234085083)",
          "(0.0, 0.19447000324726105)",
          "(0.0, 0.19563822448253632)",
          "(0.0, 0.1959693431854248)",
          "(0.0, 0.19701531529426575)",
          "(0.0, 0.19735915958881378)",
          "(0.0, 0.19759249687194824)",
          "(0.0, 0.1977815330028534)",
          "(0.0, 0.19810974597930908)",
          "(0.0, 0.19812512397766113)",
          "(0.0, 0.19873233139514923)",
          "(0.0, 0.19875258207321167)",
          "(0.0, 0.19904056191444397)",
          "(0.0, 0.19938020408153534)",
          "(0.0, 0.19962798058986664)",
          "(0.0, 0.19967792928218842)",
          "(0.0, 0.20005670189857483)",
          "(0.0, 0.20014026761054993)",
          "(0.0, 0.20109440386295319)",
          "(0.0, 0.20217901468276978)",
          "(0.0, 0.2025328278541565)",
          "(0.0, 0.20265287160873413)",
          "(0.0, 0.203161358833313)",
          "(0.0, 0.2039593756198883)",
          "(0.0, 0.2046135812997818)",
          "(0.0, 0.20529508590698242)",
          "(0.0, 0.20536436140537262)",
          "(0.0, 0.2053733766078949)",
          "(0.0, 0.20561085641384125)",
          "(0.0, 0.20561403036117554)",
          "(0.0, 0.20579351484775543)",
          "(0.0, 0.20669250190258026)",
          "(0.0, 0.20694895088672638)",
          "(0.0, 0.2072296142578125)",
          "(0.0, 0.2081999033689499)",
          "(0.0, 0.20828531682491302)",
          "(0.0, 0.20875456929206848)",
          "(0.0, 0.20981433987617493)",
          "(0.0, 0.20981495082378387)",
          "(0.0, 0.20986692607402802)",
          "(0.0, 0.21011479198932648)",
          "(0.0, 0.21106110513210297)",
          "(0.0, 0.21131645143032074)",
          "(0.0, 0.2125726342201233)",
          "(0.0, 0.2131211906671524)",
          "(0.0, 0.21326428651809692)",
          "(0.0, 0.21375775337219238)",
          "(0.0, 0.21477556228637695)",
          "(0.0, 0.21569974720478058)",
          "(0.0, 0.21792326867580414)",
          "(0.0, 0.21844087541103363)",
          "(0.0, 0.21852192282676697)",
          "(0.0, 0.2201198935508728)",
          "(0.0, 0.22022497653961182)",
          "(0.0, 0.2219323068857193)",
          "(0.0, 0.2227296531200409)",
          "(0.0, 0.22343283891677856)",
          "(0.0, 0.22422148287296295)",
          "(0.0, 0.22491616010665894)",
          "(0.0, 0.22531339526176453)",
          "(0.0, 0.22551588714122772)",
          "(0.0, 0.22654658555984497)",
          "(0.0, 0.2270483821630478)",
          "(0.0, 0.22728939354419708)",
          "(0.0, 0.22746504843235016)",
          "(0.0, 0.2275920808315277)",
          "(0.0, 0.2276715785264969)",
          "(0.0, 0.22792543470859528)",
          "(0.0, 0.2305312156677246)",
          "(0.0, 0.23062598705291748)",
          "(0.0, 0.23105460405349731)",
          "(0.0, 0.23182809352874756)",
          "(0.0, 0.2328370213508606)",
          "(0.0, 0.2331305742263794)",
          "(0.0, 0.23332658410072327)",
          "(0.0, 0.2336975485086441)",
          "(0.0, 0.23441316187381744)",
          "(0.0, 0.23568521440029144)",
          "(0.0, 0.2359721064567566)",
          "(0.0, 0.2411651611328125)",
          "(0.0, 0.2430471032857895)",
          "(0.0, 0.24391421675682068)",
          "(0.0, 0.24603058397769928)",
          "(0.0, 0.24734574556350708)",
          "(0.0, 0.24759790301322937)",
          "(0.0, 0.24795721471309662)",
          "(0.0, 0.24853624403476715)",
          "(0.0, 0.24972355365753174)",
          "(0.0, 0.24992677569389343)",
          "(0.0, 0.25124478340148926)",
          "(0.0, 0.25128719210624695)",
          "(0.0, 0.2515672743320465)",
          "(0.0, 0.25210562348365784)",
          "(0.0, 0.2521341145038605)",
          "(0.0, 0.2530684173107147)",
          "(0.0, 0.2545115649700165)",
          "(0.0, 0.25575006008148193)",
          "(0.0, 0.2571612298488617)",
          "(0.0, 0.2579599916934967)",
          "(0.0, 0.25868818163871765)",
          "(0.0, 0.2591921091079712)",
          "(0.0, 0.259310781955719)",
          "(0.0, 0.2599519193172455)",
          "(0.0, 0.2609349191188812)",
          "(0.0, 0.26148754358291626)",
          "(0.0, 0.26186472177505493)",
          "(0.0, 0.26346105337142944)",
          "(0.0, 0.2639908194541931)",
          "(0.0, 0.26756659150123596)",
          "(0.0, 0.2685297429561615)",
          "(0.0, 0.26878443360328674)",
          "(0.0, 0.26983895897865295)",
          "(0.0, 0.2716056704521179)",
          "(0.0, 0.2719871699810028)",
          "(0.0, 0.2723042070865631)",
          "(0.0, 0.2724456489086151)",
          "(0.0, 0.2735230028629303)",
          "(0.0, 0.2735837996006012)",
          "(0.0, 0.27389535307884216)",
          "(0.0, 0.274179071187973)",
          "(0.0, 0.274501234292984)",
          "(0.0, 0.27518656849861145)",
          "(0.0, 0.2779833674430847)",
          "(0.0, 0.2837406396865845)",
          "(0.0, 0.28552523255348206)",
          "(0.0, 0.2870902419090271)",
          "(0.0, 0.28728628158569336)",
          "(0.0, 0.28764063119888306)",
          "(0.0, 0.28814423084259033)",
          "(0.0, 0.28868910670280457)",
          "(0.0, 0.28945839405059814)",
          "(0.0, 0.29042717814445496)",
          "(0.0, 0.2908793091773987)",
          "(0.0, 0.29140323400497437)",
          "(0.0, 0.29152825474739075)",
          "(0.0, 0.29172253608703613)",
          "(0.0, 0.2920439541339874)",
          "(0.0, 0.29335954785346985)",
          "(0.0, 0.2935512065887451)",
          "(0.0, 0.29386278986930847)",
          "(0.0, 0.29387179017066956)",
          "(0.0, 0.2945045530796051)",
          "(0.0, 0.2946431636810303)",
          "(0.0, 0.29904478788375854)",
          "(0.0, 0.3033907413482666)",
          "(0.0, 0.3040560483932495)",
          "(0.0, 0.3046260178089142)",
          "(0.0, 0.30614447593688965)",
          "(0.0, 0.30772385001182556)",
          "(0.0, 0.3082863390445709)",
          "(0.0, 0.3098510205745697)",
          "(0.0, 0.30993643403053284)",
          "(0.0, 0.31094977259635925)",
          "(0.0, 0.3109758198261261)",
          "(0.0, 0.3124493360519409)",
          "(0.0, 0.3135490417480469)",
          "(0.0, 0.31425076723098755)",
          "(0.0, 0.31548380851745605)",
          "(0.0, 0.3187735676765442)",
          "(0.0, 0.3191755712032318)",
          "(0.0, 0.31976333260536194)",
          "(0.0, 0.3202805519104004)",
          "(0.0, 0.3206685185432434)",
          "(0.0, 0.32258114218711853)",
          "(0.0, 0.3226349353790283)",
          "(0.0, 0.32447829842567444)",
          "(0.0, 0.32499662041664124)",
          "(0.0, 0.3255528211593628)",
          "(0.0, 0.3260289132595062)",
          "(0.0, 0.3288811147212982)",
          "(0.0, 0.33016055822372437)",
          "(0.0, 0.3331511616706848)",
          "(0.0, 0.3334512412548065)",
          "(0.0, 0.33411943912506104)",
          "(0.0, 0.33484306931495667)",
          "(0.0, 0.3398919403553009)",
          "(0.0, 0.3406261205673218)",
          "(0.0, 0.3411509096622467)",
          "(0.0, 0.34245795011520386)",
          "(0.0, 0.34753847122192383)",
          "(0.0, 0.3505277931690216)",
          "(0.0, 0.3601483702659607)",
          "(0.0, 0.36299967765808105)",
          "(0.0, 0.36448976397514343)",
          "(0.0, 0.3646797835826874)",
          "(0.0, 0.3662063479423523)",
          "(0.0, 0.36901482939720154)",
          "(0.0, 0.36967432498931885)",
          "(0.0, 0.3723315894603729)",
          "(0.0, 0.38987162709236145)",
          "(0.0, 0.3940175473690033)",
          "(0.0, 0.4011193811893463)",
          "(0.0, 0.43438056111335754)",
          "(0.0, 0.4492712616920471)",
          "(0.0, 0.46095728874206543)",
          "(0.0, 0.47876134514808655)",
          "(0.0, 0.5017497539520264)",
          "(0.0, 0.502875804901123)",
          "(0.0, 0.5159346461296082)"
         ],
         "mode": "markers",
         "name": "H0",
         "type": "scatter",
         "x": [
          0,
          0,
          0,
          0,
          0,
          0,
          0,
          0,
          0,
          0,
          0,
          0,
          0,
          0,
          0,
          0,
          0,
          0,
          0,
          0,
          0,
          0,
          0,
          0,
          0,
          0,
          0,
          0,
          0,
          0,
          0,
          0,
          0,
          0,
          0,
          0,
          0,
          0,
          0,
          0,
          0,
          0,
          0,
          0,
          0,
          0,
          0,
          0,
          0,
          0,
          0,
          0,
          0,
          0,
          0,
          0,
          0,
          0,
          0,
          0,
          0,
          0,
          0,
          0,
          0,
          0,
          0,
          0,
          0,
          0,
          0,
          0,
          0,
          0,
          0,
          0,
          0,
          0,
          0,
          0,
          0,
          0,
          0,
          0,
          0,
          0,
          0,
          0,
          0,
          0,
          0,
          0,
          0,
          0,
          0,
          0,
          0,
          0,
          0,
          0,
          0,
          0,
          0,
          0,
          0,
          0,
          0,
          0,
          0,
          0,
          0,
          0,
          0,
          0,
          0,
          0,
          0,
          0,
          0,
          0,
          0,
          0,
          0,
          0,
          0,
          0,
          0,
          0,
          0,
          0,
          0,
          0,
          0,
          0,
          0,
          0,
          0,
          0,
          0,
          0,
          0,
          0,
          0,
          0,
          0,
          0,
          0,
          0,
          0,
          0,
          0,
          0,
          0,
          0,
          0,
          0,
          0,
          0,
          0,
          0,
          0,
          0,
          0,
          0,
          0,
          0,
          0,
          0,
          0,
          0,
          0,
          0,
          0,
          0,
          0,
          0,
          0,
          0,
          0,
          0,
          0,
          0,
          0,
          0,
          0,
          0,
          0,
          0,
          0,
          0,
          0,
          0,
          0,
          0,
          0,
          0,
          0,
          0,
          0,
          0,
          0,
          0,
          0,
          0,
          0,
          0,
          0,
          0,
          0,
          0,
          0,
          0,
          0,
          0,
          0,
          0,
          0,
          0,
          0,
          0,
          0,
          0,
          0,
          0,
          0,
          0,
          0,
          0,
          0,
          0,
          0,
          0,
          0,
          0,
          0,
          0,
          0,
          0,
          0,
          0,
          0,
          0,
          0,
          0,
          0,
          0,
          0,
          0,
          0,
          0,
          0,
          0,
          0,
          0,
          0,
          0,
          0,
          0,
          0,
          0,
          0,
          0,
          0,
          0,
          0,
          0,
          0,
          0,
          0,
          0,
          0,
          0,
          0,
          0,
          0,
          0,
          0,
          0,
          0,
          0,
          0,
          0,
          0,
          0,
          0,
          0,
          0,
          0,
          0,
          0,
          0,
          0,
          0,
          0,
          0,
          0,
          0,
          0,
          0,
          0,
          0,
          0,
          0,
          0,
          0,
          0,
          0,
          0,
          0,
          0,
          0,
          0,
          0,
          0,
          0,
          0,
          0,
          0,
          0,
          0,
          0,
          0,
          0,
          0,
          0,
          0,
          0,
          0,
          0,
          0,
          0,
          0,
          0,
          0,
          0,
          0,
          0,
          0,
          0,
          0,
          0,
          0,
          0,
          0,
          0,
          0,
          0,
          0,
          0,
          0,
          0,
          0,
          0,
          0,
          0,
          0,
          0,
          0,
          0,
          0,
          0,
          0,
          0,
          0,
          0,
          0,
          0,
          0,
          0,
          0,
          0,
          0,
          0,
          0,
          0,
          0,
          0,
          0,
          0,
          0,
          0,
          0,
          0,
          0,
          0,
          0,
          0,
          0,
          0,
          0,
          0,
          0,
          0,
          0,
          0,
          0,
          0,
          0,
          0,
          0,
          0,
          0,
          0,
          0,
          0,
          0,
          0,
          0,
          0,
          0,
          0,
          0,
          0,
          0,
          0,
          0,
          0,
          0,
          0,
          0,
          0,
          0,
          0,
          0,
          0,
          0,
          0,
          0,
          0,
          0,
          0,
          0,
          0,
          0,
          0,
          0,
          0,
          0,
          0,
          0,
          0,
          0,
          0,
          0,
          0,
          0,
          0,
          0,
          0,
          0,
          0,
          0,
          0,
          0,
          0,
          0,
          0,
          0,
          0,
          0,
          0,
          0,
          0,
          0,
          0,
          0,
          0,
          0,
          0,
          0,
          0,
          0,
          0,
          0,
          0,
          0,
          0,
          0,
          0,
          0,
          0,
          0,
          0
         ],
         "y": [
          0.007083573378622532,
          0.010369381867349148,
          0.01730777882039547,
          0.017676811665296555,
          0.02364090271294117,
          0.03214927017688751,
          0.03529960289597511,
          0.03632596880197525,
          0.038232553750276566,
          0.04086701571941376,
          0.0412716306746006,
          0.04271833226084709,
          0.04279259592294693,
          0.04283962771296501,
          0.04289732128381729,
          0.04337263107299805,
          0.04440096393227577,
          0.045147426426410675,
          0.04538440704345703,
          0.04619400203227997,
          0.0465095080435276,
          0.0477924719452858,
          0.050737012177705765,
          0.05094088986515999,
          0.051528580486774445,
          0.052102383226156235,
          0.055317141115665436,
          0.05565789341926575,
          0.05568708851933479,
          0.05634097382426262,
          0.05952586978673935,
          0.06082462519407272,
          0.06180688366293907,
          0.061889536678791046,
          0.062487680464982986,
          0.06258393079042435,
          0.0630602091550827,
          0.06314633786678314,
          0.06391763687133789,
          0.06455525010824203,
          0.06977293640375137,
          0.07135392725467682,
          0.07234741002321243,
          0.07268273830413818,
          0.07365208119153976,
          0.07431600987911224,
          0.07485530525445938,
          0.07598917186260223,
          0.07604479789733887,
          0.07730302959680557,
          0.07796406000852585,
          0.07926703989505768,
          0.07963715493679047,
          0.08107829838991165,
          0.0811404436826706,
          0.08241988718509674,
          0.08295384049415588,
          0.08347028493881226,
          0.08428560197353363,
          0.08655098080635071,
          0.08699782192707062,
          0.08712595701217651,
          0.08863099664449692,
          0.08920212835073471,
          0.08971749246120453,
          0.09015485644340515,
          0.09249255061149597,
          0.09249663352966309,
          0.09313409775495529,
          0.09453146904706955,
          0.09477102011442184,
          0.09732810407876968,
          0.09770838916301727,
          0.09825695306062698,
          0.0989190936088562,
          0.0991811752319336,
          0.09942067414522171,
          0.10039135813713074,
          0.10237180441617966,
          0.10379660874605179,
          0.10465551912784576,
          0.10744728893041611,
          0.10773718357086182,
          0.1077948659658432,
          0.10814477503299713,
          0.10896480083465576,
          0.10902390629053116,
          0.10970506817102432,
          0.11173418164253235,
          0.11196856945753098,
          0.1126478910446167,
          0.11313563585281372,
          0.11314240843057632,
          0.11437326669692993,
          0.11506006121635437,
          0.11507314443588257,
          0.11564956605434418,
          0.1157238557934761,
          0.11576827615499496,
          0.11907178163528442,
          0.12111350893974304,
          0.12189517915248871,
          0.12195049226284027,
          0.1219753846526146,
          0.1222747266292572,
          0.12256854772567749,
          0.12308438867330551,
          0.12308740615844727,
          0.12340263277292252,
          0.12415201216936111,
          0.12426445633172989,
          0.12496164441108704,
          0.12530925869941711,
          0.1259804517030716,
          0.12626400589942932,
          0.12652960419654846,
          0.12658360600471497,
          0.12694266438484192,
          0.12701334059238434,
          0.12729305028915405,
          0.12753112614154816,
          0.1279877871274948,
          0.12828874588012695,
          0.128385990858078,
          0.12866118550300598,
          0.12884481251239777,
          0.12946252524852753,
          0.13033586740493774,
          0.13110536336898804,
          0.13118290901184082,
          0.13125260174274445,
          0.1317538022994995,
          0.132760152220726,
          0.1334276646375656,
          0.13392530381679535,
          0.1340874433517456,
          0.1343710869550705,
          0.13442718982696533,
          0.1347762644290924,
          0.13495568931102753,
          0.13527874648571014,
          0.13658767938613892,
          0.13762900233268738,
          0.13788725435733795,
          0.13839219510555267,
          0.1388591229915619,
          0.13899767398834229,
          0.1401899755001068,
          0.1402653604745865,
          0.14073872566223145,
          0.14118564128875732,
          0.14221103489398956,
          0.14228840172290802,
          0.14263439178466797,
          0.1428578794002533,
          0.14326807856559753,
          0.14385592937469482,
          0.14529085159301758,
          0.1460283100605011,
          0.14610008895397186,
          0.146617591381073,
          0.1466928869485855,
          0.14670337736606598,
          0.14710001647472382,
          0.1471223086118698,
          0.14714539051055908,
          0.14739567041397095,
          0.14897838234901428,
          0.1500217318534851,
          0.15045423805713654,
          0.15069900453090668,
          0.15097232162952423,
          0.15106648206710815,
          0.15202577412128448,
          0.1529897153377533,
          0.15374119579792023,
          0.15379191935062408,
          0.15447454154491425,
          0.15465569496154785,
          0.1547577679157257,
          0.1551428735256195,
          0.15571612119674683,
          0.15623237192630768,
          0.15629541873931885,
          0.15670016407966614,
          0.15744945406913757,
          0.1580367535352707,
          0.1584344357252121,
          0.1596519500017166,
          0.1605953872203827,
          0.16072294116020203,
          0.16090846061706543,
          0.16153664886951447,
          0.16176588833332062,
          0.1619587242603302,
          0.1626725047826767,
          0.16281883418560028,
          0.16346757113933563,
          0.16384103894233704,
          0.16446052491664886,
          0.1647500991821289,
          0.1650838404893875,
          0.1666613519191742,
          0.16671967506408691,
          0.16747231781482697,
          0.16751375794410706,
          0.1677144169807434,
          0.16830728948116302,
          0.16868656873703003,
          0.16872715950012207,
          0.16903303563594818,
          0.1691710352897644,
          0.16940423846244812,
          0.16969864070415497,
          0.16992102563381195,
          0.17036257684230804,
          0.17099329829216003,
          0.17166182398796082,
          0.17241030931472778,
          0.17306677997112274,
          0.17310823500156403,
          0.1734832376241684,
          0.17388157546520233,
          0.17403776943683624,
          0.17443811893463135,
          0.17456795275211334,
          0.1746230274438858,
          0.17473602294921875,
          0.17478826642036438,
          0.1749977171421051,
          0.1750228852033615,
          0.17581699788570404,
          0.1760949343442917,
          0.17643943428993225,
          0.17801040410995483,
          0.17809846997261047,
          0.17827145755290985,
          0.17830030620098114,
          0.1784811019897461,
          0.17882536351680756,
          0.17897610366344452,
          0.17942585051059723,
          0.18106254935264587,
          0.18107326328754425,
          0.18126972019672394,
          0.18136821687221527,
          0.18143044412136078,
          0.1815844178199768,
          0.1818823516368866,
          0.18229874968528748,
          0.18246741592884064,
          0.18289268016815186,
          0.18362466990947723,
          0.1836368441581726,
          0.18391618132591248,
          0.1839224249124527,
          0.18419674038887024,
          0.18433064222335815,
          0.18502572178840637,
          0.18507874011993408,
          0.18548248708248138,
          0.1855388879776001,
          0.18592482805252075,
          0.18679513037204742,
          0.18698205053806305,
          0.18700745701789856,
          0.18709081411361694,
          0.1872214674949646,
          0.18756930530071259,
          0.18793261051177979,
          0.18793420493602753,
          0.1892283409833908,
          0.18929637968540192,
          0.1901749223470688,
          0.19060011208057404,
          0.19071213901042938,
          0.19103209674358368,
          0.19125619530677795,
          0.19148142635822296,
          0.19195117056369781,
          0.19270193576812744,
          0.19302070140838623,
          0.19320525228977203,
          0.19325712323188782,
          0.19408494234085083,
          0.19447000324726105,
          0.19563822448253632,
          0.1959693431854248,
          0.19701531529426575,
          0.19735915958881378,
          0.19759249687194824,
          0.1977815330028534,
          0.19810974597930908,
          0.19812512397766113,
          0.19873233139514923,
          0.19875258207321167,
          0.19904056191444397,
          0.19938020408153534,
          0.19962798058986664,
          0.19967792928218842,
          0.20005670189857483,
          0.20014026761054993,
          0.20109440386295319,
          0.20217901468276978,
          0.2025328278541565,
          0.20265287160873413,
          0.203161358833313,
          0.2039593756198883,
          0.2046135812997818,
          0.20529508590698242,
          0.20536436140537262,
          0.2053733766078949,
          0.20561085641384125,
          0.20561403036117554,
          0.20579351484775543,
          0.20669250190258026,
          0.20694895088672638,
          0.2072296142578125,
          0.2081999033689499,
          0.20828531682491302,
          0.20875456929206848,
          0.20981433987617493,
          0.20981495082378387,
          0.20986692607402802,
          0.21011479198932648,
          0.21106110513210297,
          0.21131645143032074,
          0.2125726342201233,
          0.2131211906671524,
          0.21326428651809692,
          0.21375775337219238,
          0.21477556228637695,
          0.21569974720478058,
          0.21792326867580414,
          0.21844087541103363,
          0.21852192282676697,
          0.2201198935508728,
          0.22022497653961182,
          0.2219323068857193,
          0.2227296531200409,
          0.22343283891677856,
          0.22422148287296295,
          0.22491616010665894,
          0.22531339526176453,
          0.22551588714122772,
          0.22654658555984497,
          0.2270483821630478,
          0.22728939354419708,
          0.22746504843235016,
          0.2275920808315277,
          0.2276715785264969,
          0.22792543470859528,
          0.2305312156677246,
          0.23062598705291748,
          0.23105460405349731,
          0.23182809352874756,
          0.2328370213508606,
          0.2331305742263794,
          0.23332658410072327,
          0.2336975485086441,
          0.23441316187381744,
          0.23568521440029144,
          0.2359721064567566,
          0.2411651611328125,
          0.2430471032857895,
          0.24391421675682068,
          0.24603058397769928,
          0.24734574556350708,
          0.24759790301322937,
          0.24795721471309662,
          0.24853624403476715,
          0.24972355365753174,
          0.24992677569389343,
          0.25124478340148926,
          0.25128719210624695,
          0.2515672743320465,
          0.25210562348365784,
          0.2521341145038605,
          0.2530684173107147,
          0.2545115649700165,
          0.25575006008148193,
          0.2571612298488617,
          0.2579599916934967,
          0.25868818163871765,
          0.2591921091079712,
          0.259310781955719,
          0.2599519193172455,
          0.2609349191188812,
          0.26148754358291626,
          0.26186472177505493,
          0.26346105337142944,
          0.2639908194541931,
          0.26756659150123596,
          0.2685297429561615,
          0.26878443360328674,
          0.26983895897865295,
          0.2716056704521179,
          0.2719871699810028,
          0.2723042070865631,
          0.2724456489086151,
          0.2735230028629303,
          0.2735837996006012,
          0.27389535307884216,
          0.274179071187973,
          0.274501234292984,
          0.27518656849861145,
          0.2779833674430847,
          0.2837406396865845,
          0.28552523255348206,
          0.2870902419090271,
          0.28728628158569336,
          0.28764063119888306,
          0.28814423084259033,
          0.28868910670280457,
          0.28945839405059814,
          0.29042717814445496,
          0.2908793091773987,
          0.29140323400497437,
          0.29152825474739075,
          0.29172253608703613,
          0.2920439541339874,
          0.29335954785346985,
          0.2935512065887451,
          0.29386278986930847,
          0.29387179017066956,
          0.2945045530796051,
          0.2946431636810303,
          0.29904478788375854,
          0.3033907413482666,
          0.3040560483932495,
          0.3046260178089142,
          0.30614447593688965,
          0.30772385001182556,
          0.3082863390445709,
          0.3098510205745697,
          0.30993643403053284,
          0.31094977259635925,
          0.3109758198261261,
          0.3124493360519409,
          0.3135490417480469,
          0.31425076723098755,
          0.31548380851745605,
          0.3187735676765442,
          0.3191755712032318,
          0.31976333260536194,
          0.3202805519104004,
          0.3206685185432434,
          0.32258114218711853,
          0.3226349353790283,
          0.32447829842567444,
          0.32499662041664124,
          0.3255528211593628,
          0.3260289132595062,
          0.3288811147212982,
          0.33016055822372437,
          0.3331511616706848,
          0.3334512412548065,
          0.33411943912506104,
          0.33484306931495667,
          0.3398919403553009,
          0.3406261205673218,
          0.3411509096622467,
          0.34245795011520386,
          0.34753847122192383,
          0.3505277931690216,
          0.3601483702659607,
          0.36299967765808105,
          0.36448976397514343,
          0.3646797835826874,
          0.3662063479423523,
          0.36901482939720154,
          0.36967432498931885,
          0.3723315894603729,
          0.38987162709236145,
          0.3940175473690033,
          0.4011193811893463,
          0.43438056111335754,
          0.4492712616920471,
          0.46095728874206543,
          0.47876134514808655,
          0.5017497539520264,
          0.502875804901123,
          0.5159346461296082
         ]
        },
        {
         "hoverinfo": "text",
         "hovertext": [
          "(0.9136908650398254, 0.9768972992897034)",
          "(0.7986956238746643, 0.8091808557510376)",
          "(0.6527199149131775, 0.6771016120910645)",
          "(0.6395717859268188, 0.7399341464042664)",
          "(0.6196960210800171, 0.7364282608032227)",
          "(0.6052426695823669, 0.6091572046279907)",
          "(0.6021116375923157, 0.6247550845146179)",
          "(0.5927188396453857, 0.5994649529457092)",
          "(0.5838314294815063, 0.6313357949256897)",
          "(0.5309350490570068, 0.5429420471191406)",
          "(0.5269083976745605, 0.6407105922698975)",
          "(0.5184592604637146, 0.5846766233444214)",
          "(0.5114866495132446, 0.5988151431083679)",
          "(0.5084797143936157, 0.615858793258667)",
          "(0.5075286626815796, 0.5210607647895813)",
          "(0.5060952305793762, 0.530639111995697)",
          "(0.5016647577285767, 0.5818648934364319)",
          "(0.49743008613586426, 0.5691647529602051)",
          "(0.49505358934402466, 0.6090925931930542)",
          "(0.48082536458969116, 0.5467096567153931)",
          "(0.47933754324913025, 0.5505914688110352)",
          "(0.47495952248573303, 0.5044397711753845)",
          "(0.47215184569358826, 0.571211040019989)",
          "(0.4666728973388672, 0.5407262444496155)",
          "(0.46488645672798157, 0.57854825258255)",
          "(0.45085465908050537, 0.5289677381515503)",
          "(0.44288384914398193, 0.4484785497188568)",
          "(0.4412704408168793, 0.4497615694999695)",
          "(0.4397628903388977, 0.5346840620040894)",
          "(0.43614959716796875, 0.4688907265663147)",
          "(0.4345715343952179, 0.4985760450363159)",
          "(0.43395334482192993, 0.48325029015541077)",
          "(0.4319968819618225, 0.4506244957447052)",
          "(0.42977404594421387, 0.4418666362762451)",
          "(0.4289887845516205, 0.6238774061203003)",
          "(0.42251142859458923, 0.42639800906181335)",
          "(0.41834282875061035, 0.4442424476146698)",
          "(0.41359373927116394, 0.5406174659729004)",
          "(0.4103107750415802, 0.4960818290710449)",
          "(0.40996360778808594, 0.44434013962745667)",
          "(0.4072953462600708, 0.4257154166698456)",
          "(0.4067571759223938, 0.46678516268730164)",
          "(0.4005449116230011, 0.4251914918422699)",
          "(0.39253565669059753, 0.5142552256584167)",
          "(0.3912973701953888, 0.3936344385147095)",
          "(0.38406628370285034, 0.5110899806022644)",
          "(0.3840029239654541, 0.38567671179771423)",
          "(0.3836483061313629, 0.3868953585624695)",
          "(0.3759972155094147, 0.404811292886734)",
          "(0.3725767731666565, 0.4232850670814514)",
          "(0.37029391527175903, 0.3986303210258484)",
          "(0.36930328607559204, 1.646660327911377)",
          "(0.3690691888332367, 0.424500048160553)",
          "(0.36818018555641174, 0.40313345193862915)",
          "(0.3666721284389496, 0.38097265362739563)",
          "(0.36597955226898193, 0.42654135823249817)",
          "(0.3647444248199463, 0.3653728663921356)",
          "(0.36308127641677856, 0.42843225598335266)",
          "(0.36217057704925537, 0.5284720063209534)",
          "(0.35719454288482666, 0.5687530040740967)",
          "(0.3568178415298462, 0.4657030999660492)",
          "(0.3514256477355957, 0.37299567461013794)",
          "(0.34989631175994873, 0.4525204002857208)",
          "(0.3469163477420807, 0.39737075567245483)",
          "(0.3438490927219391, 0.3462090790271759)",
          "(0.3389705419540405, 0.3730277121067047)",
          "(0.33750757575035095, 0.3583499491214752)",
          "(0.3366357386112213, 0.39513298869132996)",
          "(0.33399730920791626, 0.3340913653373718)",
          "(0.33269748091697693, 0.5115997195243835)",
          "(0.3320448398590088, 0.4698539078235626)",
          "(0.33009660243988037, 0.4495009481906891)",
          "(0.3283384442329407, 0.43863213062286377)",
          "(0.3280910551548004, 0.3974616229534149)",
          "(0.32652851939201355, 0.35747218132019043)",
          "(0.32307857275009155, 0.34722593426704407)",
          "(0.3209715783596039, 0.35990992188453674)",
          "(0.31765344738960266, 0.35020172595977783)",
          "(0.3163612186908722, 0.5602125525474548)",
          "(0.31608420610427856, 0.3456811308860779)",
          "(0.3058556318283081, 0.31234657764434814)",
          "(0.30526867508888245, 0.31607818603515625)",
          "(0.30312642455101013, 0.32851582765579224)",
          "(0.2990773320198059, 0.3259476125240326)",
          "(0.29721978306770325, 0.3026525676250458)",
          "(0.2970691919326782, 0.3041844666004181)",
          "(0.2962656021118164, 0.307746022939682)",
          "(0.29527851939201355, 0.3243592083454132)",
          "(0.2940838932991028, 0.4573489725589752)",
          "(0.2926218807697296, 0.30152609944343567)",
          "(0.2915761470794678, 0.29860204458236694)",
          "(0.28959938883781433, 0.3782152235507965)",
          "(0.2890337407588959, 0.29100918769836426)",
          "(0.2880627512931824, 0.3549356758594513)",
          "(0.2874881625175476, 0.32514429092407227)",
          "(0.2851163148880005, 0.2881704270839691)",
          "(0.2846549451351166, 0.4802890717983246)",
          "(0.282124787569046, 0.3184594511985779)",
          "(0.28126877546310425, 0.30221784114837646)",
          "(0.2770167887210846, 0.2821403443813324)",
          "(0.27587786316871643, 0.3515101969242096)",
          "(0.2718256413936615, 0.3485983610153198)",
          "(0.26876819133758545, 0.2754943072795868)",
          "(0.26604941487312317, 0.29860204458236694)",
          "(0.2646529972553253, 0.3178150951862335)",
          "(0.2641873061656952, 0.2843537926673889)",
          "(0.2641301155090332, 0.295145183801651)",
          "(0.2598150968551636, 0.3322860896587372)",
          "(0.2591739594936371, 0.276476114988327)",
          "(0.2584518790245056, 0.2678675949573517)",
          "(0.25597110390663147, 0.2599179744720459)",
          "(0.2558412253856659, 0.32681798934936523)",
          "(0.25403761863708496, 0.3277546465396881)",
          "(0.2523435056209564, 0.28330326080322266)",
          "(0.2521282136440277, 0.3380325734615326)",
          "(0.25111478567123413, 0.34007692337036133)",
          "(0.25055643916130066, 0.301255464553833)",
          "(0.24910016357898712, 0.295632004737854)",
          "(0.24746060371398926, 0.3441433608531952)",
          "(0.24580180644989014, 0.25775033235549927)",
          "(0.2453482449054718, 0.29510200023651123)",
          "(0.2445600926876068, 0.2646164000034332)",
          "(0.23880068957805634, 0.39625704288482666)",
          "(0.23486772179603577, 0.29140371084213257)",
          "(0.23276196420192719, 0.24799031019210815)",
          "(0.23129510879516602, 0.27972888946533203)",
          "(0.2300432324409485, 0.254305899143219)",
          "(0.22910794615745544, 0.23218075931072235)",
          "(0.228964164853096, 0.2687382698059082)",
          "(0.22504355013370514, 0.2664433717727661)",
          "(0.2250274121761322, 0.3248482942581177)",
          "(0.2231343388557434, 0.25613346695899963)",
          "(0.22245855629444122, 0.23107939958572388)",
          "(0.22152963280677795, 0.23693622648715973)",
          "(0.22030802071094513, 0.254702091217041)",
          "(0.21985411643981934, 0.24212883412837982)",
          "(0.2176271677017212, 0.21903102099895477)",
          "(0.2174423784017563, 0.23477105796337128)",
          "(0.21485815942287445, 0.2169480323791504)",
          "(0.2103957086801529, 0.27248331904411316)",
          "(0.20803920924663544, 0.2536698579788208)",
          "(0.20500041544437408, 0.21693339943885803)",
          "(0.20359772443771362, 0.21877937018871307)",
          "(0.19928815960884094, 0.2510625422000885)",
          "(0.19600935280323029, 0.2249499261379242)",
          "(0.1935996562242508, 0.19831940531730652)",
          "(0.19277136027812958, 0.22672347724437714)",
          "(0.19182929396629333, 0.2145032435655594)",
          "(0.19029201567173004, 0.19350582361221313)",
          "(0.18927006423473358, 0.20064708590507507)",
          "(0.18914997577667236, 0.2513791620731354)",
          "(0.17861713469028473, 0.1887465864419937)",
          "(0.17780466377735138, 0.2278369963169098)",
          "(0.17448000609874725, 0.17877201735973358)",
          "(0.16868768632411957, 0.2161310613155365)",
          "(0.15639573335647583, 0.16327010095119476)",
          "(0.153866708278656, 0.16571052372455597)",
          "(0.14794398844242096, 0.16764914989471436)",
          "(0.1365155279636383, 0.15973898768424988)"
         ],
         "mode": "markers",
         "name": "H1",
         "type": "scatter",
         "x": [
          0.9136908650398254,
          0.7986956238746643,
          0.6527199149131775,
          0.6395717859268188,
          0.6196960210800171,
          0.6052426695823669,
          0.6021116375923157,
          0.5927188396453857,
          0.5838314294815063,
          0.5309350490570068,
          0.5269083976745605,
          0.5184592604637146,
          0.5114866495132446,
          0.5084797143936157,
          0.5075286626815796,
          0.5060952305793762,
          0.5016647577285767,
          0.49743008613586426,
          0.49505358934402466,
          0.48082536458969116,
          0.47933754324913025,
          0.47495952248573303,
          0.47215184569358826,
          0.4666728973388672,
          0.46488645672798157,
          0.45085465908050537,
          0.44288384914398193,
          0.4412704408168793,
          0.4397628903388977,
          0.43614959716796875,
          0.4345715343952179,
          0.43395334482192993,
          0.4319968819618225,
          0.42977404594421387,
          0.4289887845516205,
          0.42251142859458923,
          0.41834282875061035,
          0.41359373927116394,
          0.4103107750415802,
          0.40996360778808594,
          0.4072953462600708,
          0.4067571759223938,
          0.4005449116230011,
          0.39253565669059753,
          0.3912973701953888,
          0.38406628370285034,
          0.3840029239654541,
          0.3836483061313629,
          0.3759972155094147,
          0.3725767731666565,
          0.37029391527175903,
          0.36930328607559204,
          0.3690691888332367,
          0.36818018555641174,
          0.3666721284389496,
          0.36597955226898193,
          0.3647444248199463,
          0.36308127641677856,
          0.36217057704925537,
          0.35719454288482666,
          0.3568178415298462,
          0.3514256477355957,
          0.34989631175994873,
          0.3469163477420807,
          0.3438490927219391,
          0.3389705419540405,
          0.33750757575035095,
          0.3366357386112213,
          0.33399730920791626,
          0.33269748091697693,
          0.3320448398590088,
          0.33009660243988037,
          0.3283384442329407,
          0.3280910551548004,
          0.32652851939201355,
          0.32307857275009155,
          0.3209715783596039,
          0.31765344738960266,
          0.3163612186908722,
          0.31608420610427856,
          0.3058556318283081,
          0.30526867508888245,
          0.30312642455101013,
          0.2990773320198059,
          0.29721978306770325,
          0.2970691919326782,
          0.2962656021118164,
          0.29527851939201355,
          0.2940838932991028,
          0.2926218807697296,
          0.2915761470794678,
          0.28959938883781433,
          0.2890337407588959,
          0.2880627512931824,
          0.2874881625175476,
          0.2851163148880005,
          0.2846549451351166,
          0.282124787569046,
          0.28126877546310425,
          0.2770167887210846,
          0.27587786316871643,
          0.2718256413936615,
          0.26876819133758545,
          0.26604941487312317,
          0.2646529972553253,
          0.2641873061656952,
          0.2641301155090332,
          0.2598150968551636,
          0.2591739594936371,
          0.2584518790245056,
          0.25597110390663147,
          0.2558412253856659,
          0.25403761863708496,
          0.2523435056209564,
          0.2521282136440277,
          0.25111478567123413,
          0.25055643916130066,
          0.24910016357898712,
          0.24746060371398926,
          0.24580180644989014,
          0.2453482449054718,
          0.2445600926876068,
          0.23880068957805634,
          0.23486772179603577,
          0.23276196420192719,
          0.23129510879516602,
          0.2300432324409485,
          0.22910794615745544,
          0.228964164853096,
          0.22504355013370514,
          0.2250274121761322,
          0.2231343388557434,
          0.22245855629444122,
          0.22152963280677795,
          0.22030802071094513,
          0.21985411643981934,
          0.2176271677017212,
          0.2174423784017563,
          0.21485815942287445,
          0.2103957086801529,
          0.20803920924663544,
          0.20500041544437408,
          0.20359772443771362,
          0.19928815960884094,
          0.19600935280323029,
          0.1935996562242508,
          0.19277136027812958,
          0.19182929396629333,
          0.19029201567173004,
          0.18927006423473358,
          0.18914997577667236,
          0.17861713469028473,
          0.17780466377735138,
          0.17448000609874725,
          0.16868768632411957,
          0.15639573335647583,
          0.153866708278656,
          0.14794398844242096,
          0.1365155279636383
         ],
         "y": [
          0.9768972992897034,
          0.8091808557510376,
          0.6771016120910645,
          0.7399341464042664,
          0.7364282608032227,
          0.6091572046279907,
          0.6247550845146179,
          0.5994649529457092,
          0.6313357949256897,
          0.5429420471191406,
          0.6407105922698975,
          0.5846766233444214,
          0.5988151431083679,
          0.615858793258667,
          0.5210607647895813,
          0.530639111995697,
          0.5818648934364319,
          0.5691647529602051,
          0.6090925931930542,
          0.5467096567153931,
          0.5505914688110352,
          0.5044397711753845,
          0.571211040019989,
          0.5407262444496155,
          0.57854825258255,
          0.5289677381515503,
          0.4484785497188568,
          0.4497615694999695,
          0.5346840620040894,
          0.4688907265663147,
          0.4985760450363159,
          0.48325029015541077,
          0.4506244957447052,
          0.4418666362762451,
          0.6238774061203003,
          0.42639800906181335,
          0.4442424476146698,
          0.5406174659729004,
          0.4960818290710449,
          0.44434013962745667,
          0.4257154166698456,
          0.46678516268730164,
          0.4251914918422699,
          0.5142552256584167,
          0.3936344385147095,
          0.5110899806022644,
          0.38567671179771423,
          0.3868953585624695,
          0.404811292886734,
          0.4232850670814514,
          0.3986303210258484,
          1.646660327911377,
          0.424500048160553,
          0.40313345193862915,
          0.38097265362739563,
          0.42654135823249817,
          0.3653728663921356,
          0.42843225598335266,
          0.5284720063209534,
          0.5687530040740967,
          0.4657030999660492,
          0.37299567461013794,
          0.4525204002857208,
          0.39737075567245483,
          0.3462090790271759,
          0.3730277121067047,
          0.3583499491214752,
          0.39513298869132996,
          0.3340913653373718,
          0.5115997195243835,
          0.4698539078235626,
          0.4495009481906891,
          0.43863213062286377,
          0.3974616229534149,
          0.35747218132019043,
          0.34722593426704407,
          0.35990992188453674,
          0.35020172595977783,
          0.5602125525474548,
          0.3456811308860779,
          0.31234657764434814,
          0.31607818603515625,
          0.32851582765579224,
          0.3259476125240326,
          0.3026525676250458,
          0.3041844666004181,
          0.307746022939682,
          0.3243592083454132,
          0.4573489725589752,
          0.30152609944343567,
          0.29860204458236694,
          0.3782152235507965,
          0.29100918769836426,
          0.3549356758594513,
          0.32514429092407227,
          0.2881704270839691,
          0.4802890717983246,
          0.3184594511985779,
          0.30221784114837646,
          0.2821403443813324,
          0.3515101969242096,
          0.3485983610153198,
          0.2754943072795868,
          0.29860204458236694,
          0.3178150951862335,
          0.2843537926673889,
          0.295145183801651,
          0.3322860896587372,
          0.276476114988327,
          0.2678675949573517,
          0.2599179744720459,
          0.32681798934936523,
          0.3277546465396881,
          0.28330326080322266,
          0.3380325734615326,
          0.34007692337036133,
          0.301255464553833,
          0.295632004737854,
          0.3441433608531952,
          0.25775033235549927,
          0.29510200023651123,
          0.2646164000034332,
          0.39625704288482666,
          0.29140371084213257,
          0.24799031019210815,
          0.27972888946533203,
          0.254305899143219,
          0.23218075931072235,
          0.2687382698059082,
          0.2664433717727661,
          0.3248482942581177,
          0.25613346695899963,
          0.23107939958572388,
          0.23693622648715973,
          0.254702091217041,
          0.24212883412837982,
          0.21903102099895477,
          0.23477105796337128,
          0.2169480323791504,
          0.27248331904411316,
          0.2536698579788208,
          0.21693339943885803,
          0.21877937018871307,
          0.2510625422000885,
          0.2249499261379242,
          0.19831940531730652,
          0.22672347724437714,
          0.2145032435655594,
          0.19350582361221313,
          0.20064708590507507,
          0.2513791620731354,
          0.1887465864419937,
          0.2278369963169098,
          0.17877201735973358,
          0.2161310613155365,
          0.16327010095119476,
          0.16571052372455597,
          0.16764914989471436,
          0.15973898768424988
         ]
        },
        {
         "hoverinfo": "text",
         "hovertext": [
          "(1.6858997344970703, 1.6919140815734863)",
          "(0.6941027641296387, 0.7195612192153931)",
          "(0.5931965708732605, 0.600404679775238)",
          "(0.5898686051368713, 0.6222299337387085)",
          "(0.5833916068077087, 0.6031035780906677)",
          "(0.5489641427993774, 0.5565688610076904)",
          "(0.5375087857246399, 0.561176061630249)",
          "(0.49123334884643555, 0.5076448917388916)",
          "(0.3900008797645569, 0.3936064541339874)",
          "(0.33740052580833435, 0.3451184332370758)",
          "(0.29219168424606323, 0.30009299516677856)"
         ],
         "mode": "markers",
         "name": "H2",
         "type": "scatter",
         "x": [
          1.6858997344970703,
          0.6941027641296387,
          0.5931965708732605,
          0.5898686051368713,
          0.5833916068077087,
          0.5489641427993774,
          0.5375087857246399,
          0.49123334884643555,
          0.3900008797645569,
          0.33740052580833435,
          0.29219168424606323
         ],
         "y": [
          1.6919140815734863,
          0.7195612192153931,
          0.600404679775238,
          0.6222299337387085,
          0.6031035780906677,
          0.5565688610076904,
          0.561176061630249,
          0.5076448917388916,
          0.3936064541339874,
          0.3451184332370758,
          0.30009299516677856
         ]
        }
       ],
       "layout": {
        "height": 500,
        "plot_bgcolor": "white",
        "template": {
         "data": {
          "bar": [
           {
            "error_x": {
             "color": "#2a3f5f"
            },
            "error_y": {
             "color": "#2a3f5f"
            },
            "marker": {
             "line": {
              "color": "#E5ECF6",
              "width": 0.5
             },
             "pattern": {
              "fillmode": "overlay",
              "size": 10,
              "solidity": 0.2
             }
            },
            "type": "bar"
           }
          ],
          "barpolar": [
           {
            "marker": {
             "line": {
              "color": "#E5ECF6",
              "width": 0.5
             },
             "pattern": {
              "fillmode": "overlay",
              "size": 10,
              "solidity": 0.2
             }
            },
            "type": "barpolar"
           }
          ],
          "carpet": [
           {
            "aaxis": {
             "endlinecolor": "#2a3f5f",
             "gridcolor": "white",
             "linecolor": "white",
             "minorgridcolor": "white",
             "startlinecolor": "#2a3f5f"
            },
            "baxis": {
             "endlinecolor": "#2a3f5f",
             "gridcolor": "white",
             "linecolor": "white",
             "minorgridcolor": "white",
             "startlinecolor": "#2a3f5f"
            },
            "type": "carpet"
           }
          ],
          "choropleth": [
           {
            "colorbar": {
             "outlinewidth": 0,
             "ticks": ""
            },
            "type": "choropleth"
           }
          ],
          "contour": [
           {
            "colorbar": {
             "outlinewidth": 0,
             "ticks": ""
            },
            "colorscale": [
             [
              0,
              "#0d0887"
             ],
             [
              0.1111111111111111,
              "#46039f"
             ],
             [
              0.2222222222222222,
              "#7201a8"
             ],
             [
              0.3333333333333333,
              "#9c179e"
             ],
             [
              0.4444444444444444,
              "#bd3786"
             ],
             [
              0.5555555555555556,
              "#d8576b"
             ],
             [
              0.6666666666666666,
              "#ed7953"
             ],
             [
              0.7777777777777778,
              "#fb9f3a"
             ],
             [
              0.8888888888888888,
              "#fdca26"
             ],
             [
              1,
              "#f0f921"
             ]
            ],
            "type": "contour"
           }
          ],
          "contourcarpet": [
           {
            "colorbar": {
             "outlinewidth": 0,
             "ticks": ""
            },
            "type": "contourcarpet"
           }
          ],
          "heatmap": [
           {
            "colorbar": {
             "outlinewidth": 0,
             "ticks": ""
            },
            "colorscale": [
             [
              0,
              "#0d0887"
             ],
             [
              0.1111111111111111,
              "#46039f"
             ],
             [
              0.2222222222222222,
              "#7201a8"
             ],
             [
              0.3333333333333333,
              "#9c179e"
             ],
             [
              0.4444444444444444,
              "#bd3786"
             ],
             [
              0.5555555555555556,
              "#d8576b"
             ],
             [
              0.6666666666666666,
              "#ed7953"
             ],
             [
              0.7777777777777778,
              "#fb9f3a"
             ],
             [
              0.8888888888888888,
              "#fdca26"
             ],
             [
              1,
              "#f0f921"
             ]
            ],
            "type": "heatmap"
           }
          ],
          "heatmapgl": [
           {
            "colorbar": {
             "outlinewidth": 0,
             "ticks": ""
            },
            "colorscale": [
             [
              0,
              "#0d0887"
             ],
             [
              0.1111111111111111,
              "#46039f"
             ],
             [
              0.2222222222222222,
              "#7201a8"
             ],
             [
              0.3333333333333333,
              "#9c179e"
             ],
             [
              0.4444444444444444,
              "#bd3786"
             ],
             [
              0.5555555555555556,
              "#d8576b"
             ],
             [
              0.6666666666666666,
              "#ed7953"
             ],
             [
              0.7777777777777778,
              "#fb9f3a"
             ],
             [
              0.8888888888888888,
              "#fdca26"
             ],
             [
              1,
              "#f0f921"
             ]
            ],
            "type": "heatmapgl"
           }
          ],
          "histogram": [
           {
            "marker": {
             "pattern": {
              "fillmode": "overlay",
              "size": 10,
              "solidity": 0.2
             }
            },
            "type": "histogram"
           }
          ],
          "histogram2d": [
           {
            "colorbar": {
             "outlinewidth": 0,
             "ticks": ""
            },
            "colorscale": [
             [
              0,
              "#0d0887"
             ],
             [
              0.1111111111111111,
              "#46039f"
             ],
             [
              0.2222222222222222,
              "#7201a8"
             ],
             [
              0.3333333333333333,
              "#9c179e"
             ],
             [
              0.4444444444444444,
              "#bd3786"
             ],
             [
              0.5555555555555556,
              "#d8576b"
             ],
             [
              0.6666666666666666,
              "#ed7953"
             ],
             [
              0.7777777777777778,
              "#fb9f3a"
             ],
             [
              0.8888888888888888,
              "#fdca26"
             ],
             [
              1,
              "#f0f921"
             ]
            ],
            "type": "histogram2d"
           }
          ],
          "histogram2dcontour": [
           {
            "colorbar": {
             "outlinewidth": 0,
             "ticks": ""
            },
            "colorscale": [
             [
              0,
              "#0d0887"
             ],
             [
              0.1111111111111111,
              "#46039f"
             ],
             [
              0.2222222222222222,
              "#7201a8"
             ],
             [
              0.3333333333333333,
              "#9c179e"
             ],
             [
              0.4444444444444444,
              "#bd3786"
             ],
             [
              0.5555555555555556,
              "#d8576b"
             ],
             [
              0.6666666666666666,
              "#ed7953"
             ],
             [
              0.7777777777777778,
              "#fb9f3a"
             ],
             [
              0.8888888888888888,
              "#fdca26"
             ],
             [
              1,
              "#f0f921"
             ]
            ],
            "type": "histogram2dcontour"
           }
          ],
          "mesh3d": [
           {
            "colorbar": {
             "outlinewidth": 0,
             "ticks": ""
            },
            "type": "mesh3d"
           }
          ],
          "parcoords": [
           {
            "line": {
             "colorbar": {
              "outlinewidth": 0,
              "ticks": ""
             }
            },
            "type": "parcoords"
           }
          ],
          "pie": [
           {
            "automargin": true,
            "type": "pie"
           }
          ],
          "scatter": [
           {
            "fillpattern": {
             "fillmode": "overlay",
             "size": 10,
             "solidity": 0.2
            },
            "type": "scatter"
           }
          ],
          "scatter3d": [
           {
            "line": {
             "colorbar": {
              "outlinewidth": 0,
              "ticks": ""
             }
            },
            "marker": {
             "colorbar": {
              "outlinewidth": 0,
              "ticks": ""
             }
            },
            "type": "scatter3d"
           }
          ],
          "scattercarpet": [
           {
            "marker": {
             "colorbar": {
              "outlinewidth": 0,
              "ticks": ""
             }
            },
            "type": "scattercarpet"
           }
          ],
          "scattergeo": [
           {
            "marker": {
             "colorbar": {
              "outlinewidth": 0,
              "ticks": ""
             }
            },
            "type": "scattergeo"
           }
          ],
          "scattergl": [
           {
            "marker": {
             "colorbar": {
              "outlinewidth": 0,
              "ticks": ""
             }
            },
            "type": "scattergl"
           }
          ],
          "scattermapbox": [
           {
            "marker": {
             "colorbar": {
              "outlinewidth": 0,
              "ticks": ""
             }
            },
            "type": "scattermapbox"
           }
          ],
          "scatterpolar": [
           {
            "marker": {
             "colorbar": {
              "outlinewidth": 0,
              "ticks": ""
             }
            },
            "type": "scatterpolar"
           }
          ],
          "scatterpolargl": [
           {
            "marker": {
             "colorbar": {
              "outlinewidth": 0,
              "ticks": ""
             }
            },
            "type": "scatterpolargl"
           }
          ],
          "scatterternary": [
           {
            "marker": {
             "colorbar": {
              "outlinewidth": 0,
              "ticks": ""
             }
            },
            "type": "scatterternary"
           }
          ],
          "surface": [
           {
            "colorbar": {
             "outlinewidth": 0,
             "ticks": ""
            },
            "colorscale": [
             [
              0,
              "#0d0887"
             ],
             [
              0.1111111111111111,
              "#46039f"
             ],
             [
              0.2222222222222222,
              "#7201a8"
             ],
             [
              0.3333333333333333,
              "#9c179e"
             ],
             [
              0.4444444444444444,
              "#bd3786"
             ],
             [
              0.5555555555555556,
              "#d8576b"
             ],
             [
              0.6666666666666666,
              "#ed7953"
             ],
             [
              0.7777777777777778,
              "#fb9f3a"
             ],
             [
              0.8888888888888888,
              "#fdca26"
             ],
             [
              1,
              "#f0f921"
             ]
            ],
            "type": "surface"
           }
          ],
          "table": [
           {
            "cells": {
             "fill": {
              "color": "#EBF0F8"
             },
             "line": {
              "color": "white"
             }
            },
            "header": {
             "fill": {
              "color": "#C8D4E3"
             },
             "line": {
              "color": "white"
             }
            },
            "type": "table"
           }
          ]
         },
         "layout": {
          "annotationdefaults": {
           "arrowcolor": "#2a3f5f",
           "arrowhead": 0,
           "arrowwidth": 1
          },
          "autotypenumbers": "strict",
          "coloraxis": {
           "colorbar": {
            "outlinewidth": 0,
            "ticks": ""
           }
          },
          "colorscale": {
           "diverging": [
            [
             0,
             "#8e0152"
            ],
            [
             0.1,
             "#c51b7d"
            ],
            [
             0.2,
             "#de77ae"
            ],
            [
             0.3,
             "#f1b6da"
            ],
            [
             0.4,
             "#fde0ef"
            ],
            [
             0.5,
             "#f7f7f7"
            ],
            [
             0.6,
             "#e6f5d0"
            ],
            [
             0.7,
             "#b8e186"
            ],
            [
             0.8,
             "#7fbc41"
            ],
            [
             0.9,
             "#4d9221"
            ],
            [
             1,
             "#276419"
            ]
           ],
           "sequential": [
            [
             0,
             "#0d0887"
            ],
            [
             0.1111111111111111,
             "#46039f"
            ],
            [
             0.2222222222222222,
             "#7201a8"
            ],
            [
             0.3333333333333333,
             "#9c179e"
            ],
            [
             0.4444444444444444,
             "#bd3786"
            ],
            [
             0.5555555555555556,
             "#d8576b"
            ],
            [
             0.6666666666666666,
             "#ed7953"
            ],
            [
             0.7777777777777778,
             "#fb9f3a"
            ],
            [
             0.8888888888888888,
             "#fdca26"
            ],
            [
             1,
             "#f0f921"
            ]
           ],
           "sequentialminus": [
            [
             0,
             "#0d0887"
            ],
            [
             0.1111111111111111,
             "#46039f"
            ],
            [
             0.2222222222222222,
             "#7201a8"
            ],
            [
             0.3333333333333333,
             "#9c179e"
            ],
            [
             0.4444444444444444,
             "#bd3786"
            ],
            [
             0.5555555555555556,
             "#d8576b"
            ],
            [
             0.6666666666666666,
             "#ed7953"
            ],
            [
             0.7777777777777778,
             "#fb9f3a"
            ],
            [
             0.8888888888888888,
             "#fdca26"
            ],
            [
             1,
             "#f0f921"
            ]
           ]
          },
          "colorway": [
           "#636efa",
           "#EF553B",
           "#00cc96",
           "#ab63fa",
           "#FFA15A",
           "#19d3f3",
           "#FF6692",
           "#B6E880",
           "#FF97FF",
           "#FECB52"
          ],
          "font": {
           "color": "#2a3f5f"
          },
          "geo": {
           "bgcolor": "white",
           "lakecolor": "white",
           "landcolor": "#E5ECF6",
           "showlakes": true,
           "showland": true,
           "subunitcolor": "white"
          },
          "hoverlabel": {
           "align": "left"
          },
          "hovermode": "closest",
          "mapbox": {
           "style": "light"
          },
          "paper_bgcolor": "white",
          "plot_bgcolor": "#E5ECF6",
          "polar": {
           "angularaxis": {
            "gridcolor": "white",
            "linecolor": "white",
            "ticks": ""
           },
           "bgcolor": "#E5ECF6",
           "radialaxis": {
            "gridcolor": "white",
            "linecolor": "white",
            "ticks": ""
           }
          },
          "scene": {
           "xaxis": {
            "backgroundcolor": "#E5ECF6",
            "gridcolor": "white",
            "gridwidth": 2,
            "linecolor": "white",
            "showbackground": true,
            "ticks": "",
            "zerolinecolor": "white"
           },
           "yaxis": {
            "backgroundcolor": "#E5ECF6",
            "gridcolor": "white",
            "gridwidth": 2,
            "linecolor": "white",
            "showbackground": true,
            "ticks": "",
            "zerolinecolor": "white"
           },
           "zaxis": {
            "backgroundcolor": "#E5ECF6",
            "gridcolor": "white",
            "gridwidth": 2,
            "linecolor": "white",
            "showbackground": true,
            "ticks": "",
            "zerolinecolor": "white"
           }
          },
          "shapedefaults": {
           "line": {
            "color": "#2a3f5f"
           }
          },
          "ternary": {
           "aaxis": {
            "gridcolor": "white",
            "linecolor": "white",
            "ticks": ""
           },
           "baxis": {
            "gridcolor": "white",
            "linecolor": "white",
            "ticks": ""
           },
           "bgcolor": "#E5ECF6",
           "caxis": {
            "gridcolor": "white",
            "linecolor": "white",
            "ticks": ""
           }
          },
          "title": {
           "x": 0.05
          },
          "xaxis": {
           "automargin": true,
           "gridcolor": "white",
           "linecolor": "white",
           "ticks": "",
           "title": {
            "standoff": 15
           },
           "zerolinecolor": "white",
           "zerolinewidth": 2
          },
          "yaxis": {
           "automargin": true,
           "gridcolor": "white",
           "linecolor": "white",
           "ticks": "",
           "title": {
            "standoff": 15
           },
           "zerolinecolor": "white",
           "zerolinewidth": 2
          }
         }
        },
        "width": 500,
        "xaxis": {
         "autorange": false,
         "exponentformat": "e",
         "linecolor": "black",
         "linewidth": 1,
         "mirror": false,
         "range": [
          -0.03383828163146973,
          1.725752363204956
         ],
         "showexponent": "all",
         "showline": true,
         "side": "bottom",
         "ticks": "outside",
         "title": {
          "text": "Birth"
         },
         "type": "linear",
         "zeroline": true
        },
        "yaxis": {
         "autorange": false,
         "exponentformat": "e",
         "linecolor": "black",
         "linewidth": 1,
         "mirror": false,
         "range": [
          -0.03383828163146973,
          1.725752363204956
         ],
         "scaleanchor": "x",
         "scaleratio": 1,
         "showexponent": "all",
         "showline": true,
         "side": "left",
         "ticks": "outside",
         "title": {
          "text": "Death"
         },
         "type": "linear",
         "zeroline": true
        }
       }
      }
     },
     "metadata": {},
     "output_type": "display_data"
    }
   ],
   "source": [
    "vr.plot(diagrams, sample = 0)"
   ]
  },
  {
   "cell_type": "code",
   "execution_count": 35,
   "metadata": {},
   "outputs": [
    {
     "data": {
      "application/vnd.plotly.v1+json": {
       "config": {
        "plotlyServerURL": "https://plot.ly"
       },
       "data": [
        {
         "hoverinfo": "none",
         "line": {
          "color": "black",
          "dash": "dash",
          "width": 1
         },
         "mode": "lines",
         "showlegend": false,
         "type": "scatter",
         "x": [
          -0.022476508617401122,
          1.1463019394874572
         ],
         "y": [
          -0.022476508617401122,
          1.1463019394874572
         ]
        },
        {
         "hoverinfo": "text",
         "hovertext": [
          "(0.0, 0.027469174936413765)",
          "(0.0, 0.03175650164484978)",
          "(0.0, 0.03722211346030235)",
          "(0.0, 0.04422157630324364)",
          "(0.0, 0.05166558548808098)",
          "(0.0, 0.05270819365978241)",
          "(0.0, 0.06032511964440346)",
          "(0.0, 0.06483631581068039)",
          "(0.0, 0.06669256091117859)",
          "(0.0, 0.06756126135587692)",
          "(0.0, 0.07105009257793427)",
          "(0.0, 0.07150024175643921)",
          "(0.0, 0.07154593616724014)",
          "(0.0, 0.07321584969758987)",
          "(0.0, 0.07825847715139389)",
          "(0.0, 0.07919694483280182)",
          "(0.0, 0.08057554811239243)",
          "(0.0, 0.08068972826004028)",
          "(0.0, 0.08240587264299393)",
          "(0.0, 0.08782303333282471)",
          "(0.0, 0.08869618922472)",
          "(0.0, 0.09169493615627289)",
          "(0.0, 0.09532060474157333)",
          "(0.0, 0.0985417291522026)",
          "(0.0, 0.09916038066148758)",
          "(0.0, 0.10049387812614441)",
          "(0.0, 0.10103070735931396)",
          "(0.0, 0.10111457109451294)",
          "(0.0, 0.10135776549577713)",
          "(0.0, 0.10194849967956543)",
          "(0.0, 0.10265251249074936)",
          "(0.0, 0.10424050688743591)",
          "(0.0, 0.10619928687810898)",
          "(0.0, 0.10710414499044418)",
          "(0.0, 0.11007902771234512)",
          "(0.0, 0.11110255867242813)",
          "(0.0, 0.11128918081521988)",
          "(0.0, 0.11329610645771027)",
          "(0.0, 0.11466223001480103)",
          "(0.0, 0.11515846103429794)",
          "(0.0, 0.11687975376844406)",
          "(0.0, 0.117110475897789)",
          "(0.0, 0.1182897761464119)",
          "(0.0, 0.11961279064416885)",
          "(0.0, 0.11976544559001923)",
          "(0.0, 0.12101681530475616)",
          "(0.0, 0.12246358394622803)",
          "(0.0, 0.12438123673200607)",
          "(0.0, 0.12440275400876999)",
          "(0.0, 0.12451912462711334)",
          "(0.0, 0.12455051392316818)",
          "(0.0, 0.12499462813138962)",
          "(0.0, 0.12822657823562622)",
          "(0.0, 0.13004466891288757)",
          "(0.0, 0.13153992593288422)",
          "(0.0, 0.13390100002288818)",
          "(0.0, 0.1346084177494049)",
          "(0.0, 0.13581721484661102)",
          "(0.0, 0.13655492663383484)",
          "(0.0, 0.14003311097621918)",
          "(0.0, 0.14042800664901733)",
          "(0.0, 0.14044687151908875)",
          "(0.0, 0.14057232439517975)",
          "(0.0, 0.14167097210884094)",
          "(0.0, 0.14308734238147736)",
          "(0.0, 0.14493267238140106)",
          "(0.0, 0.14526104927062988)",
          "(0.0, 0.1462581902742386)",
          "(0.0, 0.14638933539390564)",
          "(0.0, 0.14738069474697113)",
          "(0.0, 0.14929267764091492)",
          "(0.0, 0.14940397441387177)",
          "(0.0, 0.1495601385831833)",
          "(0.0, 0.15018220245838165)",
          "(0.0, 0.1511596292257309)",
          "(0.0, 0.15147434175014496)",
          "(0.0, 0.15225893259048462)",
          "(0.0, 0.15242303907871246)",
          "(0.0, 0.1525730937719345)",
          "(0.0, 0.15368424355983734)",
          "(0.0, 0.15426400303840637)",
          "(0.0, 0.15443894267082214)",
          "(0.0, 0.15525290369987488)",
          "(0.0, 0.1567346453666687)",
          "(0.0, 0.1575114130973816)",
          "(0.0, 0.1600102037191391)",
          "(0.0, 0.16356520354747772)",
          "(0.0, 0.16435277462005615)",
          "(0.0, 0.16445797681808472)",
          "(0.0, 0.16474951803684235)",
          "(0.0, 0.16519728302955627)",
          "(0.0, 0.1652642786502838)",
          "(0.0, 0.1659928858280182)",
          "(0.0, 0.16623322665691376)",
          "(0.0, 0.1666289120912552)",
          "(0.0, 0.1670968234539032)",
          "(0.0, 0.16818401217460632)",
          "(0.0, 0.16831517219543457)",
          "(0.0, 0.1696956902742386)",
          "(0.0, 0.17089708149433136)",
          "(0.0, 0.17184993624687195)",
          "(0.0, 0.1720048189163208)",
          "(0.0, 0.1724851131439209)",
          "(0.0, 0.1736183613538742)",
          "(0.0, 0.17513537406921387)",
          "(0.0, 0.17534737288951874)",
          "(0.0, 0.17567044496536255)",
          "(0.0, 0.17624163627624512)",
          "(0.0, 0.17633457481861115)",
          "(0.0, 0.17669826745986938)",
          "(0.0, 0.17680367827415466)",
          "(0.0, 0.17681819200515747)",
          "(0.0, 0.17857769131660461)",
          "(0.0, 0.17862482368946075)",
          "(0.0, 0.17917360365390778)",
          "(0.0, 0.1824299544095993)",
          "(0.0, 0.1828708052635193)",
          "(0.0, 0.18316680192947388)",
          "(0.0, 0.1836676001548767)",
          "(0.0, 0.18451952934265137)",
          "(0.0, 0.18476645648479462)",
          "(0.0, 0.18569990992546082)",
          "(0.0, 0.18640531599521637)",
          "(0.0, 0.1871618926525116)",
          "(0.0, 0.18725119531154633)",
          "(0.0, 0.18754085898399353)",
          "(0.0, 0.18890908360481262)",
          "(0.0, 0.18894565105438232)",
          "(0.0, 0.18955132365226746)",
          "(0.0, 0.1899530440568924)",
          "(0.0, 0.19154541194438934)",
          "(0.0, 0.19194293022155762)",
          "(0.0, 0.19201256334781647)",
          "(0.0, 0.19265712797641754)",
          "(0.0, 0.19388370215892792)",
          "(0.0, 0.1940089762210846)",
          "(0.0, 0.1950661540031433)",
          "(0.0, 0.19507412612438202)",
          "(0.0, 0.19509941339492798)",
          "(0.0, 0.19573543965816498)",
          "(0.0, 0.19726474583148956)",
          "(0.0, 0.19758765399456024)",
          "(0.0, 0.19805924594402313)",
          "(0.0, 0.1981029212474823)",
          "(0.0, 0.19866825640201569)",
          "(0.0, 0.19886712729930878)",
          "(0.0, 0.20057636499404907)",
          "(0.0, 0.20167015492916107)",
          "(0.0, 0.20283636450767517)",
          "(0.0, 0.20352739095687866)",
          "(0.0, 0.20368455350399017)",
          "(0.0, 0.20495255291461945)",
          "(0.0, 0.2055862694978714)",
          "(0.0, 0.20563648641109467)",
          "(0.0, 0.20564551651477814)",
          "(0.0, 0.2056940346956253)",
          "(0.0, 0.20597264170646667)",
          "(0.0, 0.20780469477176666)",
          "(0.0, 0.20858824253082275)",
          "(0.0, 0.20887696743011475)",
          "(0.0, 0.2102350890636444)",
          "(0.0, 0.21027736365795135)",
          "(0.0, 0.21135514974594116)",
          "(0.0, 0.21181580424308777)",
          "(0.0, 0.21257634460926056)",
          "(0.0, 0.21267002820968628)",
          "(0.0, 0.21335791051387787)",
          "(0.0, 0.21513527631759644)",
          "(0.0, 0.21649035811424255)",
          "(0.0, 0.21667775511741638)",
          "(0.0, 0.21704378724098206)",
          "(0.0, 0.21711647510528564)",
          "(0.0, 0.21856017410755157)",
          "(0.0, 0.21878159046173096)",
          "(0.0, 0.2187936156988144)",
          "(0.0, 0.21881183981895447)",
          "(0.0, 0.2189202755689621)",
          "(0.0, 0.2189827859401703)",
          "(0.0, 0.2197045236825943)",
          "(0.0, 0.2197985053062439)",
          "(0.0, 0.2207219898700714)",
          "(0.0, 0.22074973583221436)",
          "(0.0, 0.22208431363105774)",
          "(0.0, 0.222450852394104)",
          "(0.0, 0.22263295948505402)",
          "(0.0, 0.2231389582157135)",
          "(0.0, 0.22376757860183716)",
          "(0.0, 0.22625812888145447)",
          "(0.0, 0.226266011595726)",
          "(0.0, 0.22774948179721832)",
          "(0.0, 0.22823798656463623)",
          "(0.0, 0.2286384403705597)",
          "(0.0, 0.22929440438747406)",
          "(0.0, 0.22986622154712677)",
          "(0.0, 0.2299058884382248)",
          "(0.0, 0.23090362548828125)",
          "(0.0, 0.2321479618549347)",
          "(0.0, 0.2323572039604187)",
          "(0.0, 0.23317766189575195)",
          "(0.0, 0.2331860065460205)",
          "(0.0, 0.2338370978832245)",
          "(0.0, 0.2344837635755539)",
          "(0.0, 0.23539933562278748)",
          "(0.0, 0.23553919792175293)",
          "(0.0, 0.23643195629119873)",
          "(0.0, 0.2371656745672226)",
          "(0.0, 0.2375054508447647)",
          "(0.0, 0.2378695160150528)",
          "(0.0, 0.23968034982681274)",
          "(0.0, 0.24037492275238037)",
          "(0.0, 0.24106788635253906)",
          "(0.0, 0.2411399632692337)",
          "(0.0, 0.24138087034225464)",
          "(0.0, 0.24169057607650757)",
          "(0.0, 0.2433122992515564)",
          "(0.0, 0.24356991052627563)",
          "(0.0, 0.24372567236423492)",
          "(0.0, 0.24390320479869843)",
          "(0.0, 0.24407562613487244)",
          "(0.0, 0.24620339274406433)",
          "(0.0, 0.24631179869174957)",
          "(0.0, 0.24703922867774963)",
          "(0.0, 0.24801164865493774)",
          "(0.0, 0.24970799684524536)",
          "(0.0, 0.2501630485057831)",
          "(0.0, 0.2505139708518982)",
          "(0.0, 0.2505194842815399)",
          "(0.0, 0.250531405210495)",
          "(0.0, 0.2510928809642792)",
          "(0.0, 0.25127553939819336)",
          "(0.0, 0.25156575441360474)",
          "(0.0, 0.2516918480396271)",
          "(0.0, 0.2520062327384949)",
          "(0.0, 0.25219109654426575)",
          "(0.0, 0.25301235914230347)",
          "(0.0, 0.25322186946868896)",
          "(0.0, 0.2535252571105957)",
          "(0.0, 0.2552223801612854)",
          "(0.0, 0.2557275593280792)",
          "(0.0, 0.2565295398235321)",
          "(0.0, 0.25675928592681885)",
          "(0.0, 0.25688332319259644)",
          "(0.0, 0.25903812050819397)",
          "(0.0, 0.25983402132987976)",
          "(0.0, 0.2603117823600769)",
          "(0.0, 0.261970579624176)",
          "(0.0, 0.26258042454719543)",
          "(0.0, 0.2626573443412781)",
          "(0.0, 0.2628624737262726)",
          "(0.0, 0.26325976848602295)",
          "(0.0, 0.2644045352935791)",
          "(0.0, 0.2644709050655365)",
          "(0.0, 0.26612406969070435)",
          "(0.0, 0.2663986086845398)",
          "(0.0, 0.2682490646839142)",
          "(0.0, 0.27027493715286255)",
          "(0.0, 0.27078208327293396)",
          "(0.0, 0.2708064913749695)",
          "(0.0, 0.27158060669898987)",
          "(0.0, 0.2716255187988281)",
          "(0.0, 0.2719556391239166)",
          "(0.0, 0.2727484107017517)",
          "(0.0, 0.2730135917663574)",
          "(0.0, 0.2730753719806671)",
          "(0.0, 0.27356886863708496)",
          "(0.0, 0.2741311192512512)",
          "(0.0, 0.27473580837249756)",
          "(0.0, 0.27493757009506226)",
          "(0.0, 0.27584218978881836)",
          "(0.0, 0.2777023911476135)",
          "(0.0, 0.27957436442375183)",
          "(0.0, 0.28021174669265747)",
          "(0.0, 0.280474990606308)",
          "(0.0, 0.2812485098838806)",
          "(0.0, 0.2815922200679779)",
          "(0.0, 0.2836737632751465)",
          "(0.0, 0.2842055559158325)",
          "(0.0, 0.2863098084926605)",
          "(0.0, 0.28702062368392944)",
          "(0.0, 0.2875356674194336)",
          "(0.0, 0.29016658663749695)",
          "(0.0, 0.2910778820514679)",
          "(0.0, 0.29219672083854675)",
          "(0.0, 0.29280439019203186)",
          "(0.0, 0.2944405972957611)",
          "(0.0, 0.2944973409175873)",
          "(0.0, 0.2949945032596588)",
          "(0.0, 0.29574471712112427)",
          "(0.0, 0.2974220812320709)",
          "(0.0, 0.2977849245071411)",
          "(0.0, 0.2984484136104584)",
          "(0.0, 0.29863741993904114)",
          "(0.0, 0.29905956983566284)",
          "(0.0, 0.29933974146842957)",
          "(0.0, 0.3004884123802185)",
          "(0.0, 0.30307936668395996)",
          "(0.0, 0.3032483756542206)",
          "(0.0, 0.3035139739513397)",
          "(0.0, 0.30354127287864685)",
          "(0.0, 0.30413156747817993)",
          "(0.0, 0.3044487535953522)",
          "(0.0, 0.3060941696166992)",
          "(0.0, 0.30653274059295654)",
          "(0.0, 0.3073713481426239)",
          "(0.0, 0.3075118064880371)",
          "(0.0, 0.30805471539497375)",
          "(0.0, 0.30925312638282776)",
          "(0.0, 0.3092764914035797)",
          "(0.0, 0.3093658685684204)",
          "(0.0, 0.31124985218048096)",
          "(0.0, 0.3114040791988373)",
          "(0.0, 0.3114429712295532)",
          "(0.0, 0.31267693638801575)",
          "(0.0, 0.3161534368991852)",
          "(0.0, 0.3178623914718628)",
          "(0.0, 0.31805020570755005)",
          "(0.0, 0.31841278076171875)",
          "(0.0, 0.3185632526874542)",
          "(0.0, 0.3187415301799774)",
          "(0.0, 0.3189599812030792)",
          "(0.0, 0.32029467821121216)",
          "(0.0, 0.3207376003265381)",
          "(0.0, 0.32083049416542053)",
          "(0.0, 0.32118844985961914)",
          "(0.0, 0.3214699625968933)",
          "(0.0, 0.32212644815444946)",
          "(0.0, 0.32314532995224)",
          "(0.0, 0.32349851727485657)",
          "(0.0, 0.3236374855041504)",
          "(0.0, 0.32367655634880066)",
          "(0.0, 0.32412657141685486)",
          "(0.0, 0.3241405785083771)",
          "(0.0, 0.32469093799591064)",
          "(0.0, 0.3249787390232086)",
          "(0.0, 0.32529377937316895)",
          "(0.0, 0.3268376290798187)",
          "(0.0, 0.3270949423313141)",
          "(0.0, 0.32836171984672546)",
          "(0.0, 0.32867002487182617)",
          "(0.0, 0.3288404941558838)",
          "(0.0, 0.32956773042678833)",
          "(0.0, 0.3314644396305084)",
          "(0.0, 0.33218303322792053)",
          "(0.0, 0.33351197838783264)",
          "(0.0, 0.33440420031547546)",
          "(0.0, 0.33523282408714294)",
          "(0.0, 0.33608120679855347)",
          "(0.0, 0.3362859785556793)",
          "(0.0, 0.3365253210067749)",
          "(0.0, 0.33708223700523376)",
          "(0.0, 0.3376411497592926)",
          "(0.0, 0.3384009599685669)",
          "(0.0, 0.3384803533554077)",
          "(0.0, 0.3399776518344879)",
          "(0.0, 0.34070923924446106)",
          "(0.0, 0.3408190608024597)",
          "(0.0, 0.3409607410430908)",
          "(0.0, 0.34102365374565125)",
          "(0.0, 0.34360629320144653)",
          "(0.0, 0.3438855707645416)",
          "(0.0, 0.3443184792995453)",
          "(0.0, 0.3452298641204834)",
          "(0.0, 0.34529051184654236)",
          "(0.0, 0.34772151708602905)",
          "(0.0, 0.34945523738861084)",
          "(0.0, 0.3494885265827179)",
          "(0.0, 0.34967395663261414)",
          "(0.0, 0.3510707914829254)",
          "(0.0, 0.3519331216812134)",
          "(0.0, 0.35295340418815613)",
          "(0.0, 0.35526391863822937)",
          "(0.0, 0.35651761293411255)",
          "(0.0, 0.3573976159095764)",
          "(0.0, 0.35763904452323914)",
          "(0.0, 0.3577059805393219)",
          "(0.0, 0.35853561758995056)",
          "(0.0, 0.360131174325943)",
          "(0.0, 0.3602989614009857)",
          "(0.0, 0.36040955781936646)",
          "(0.0, 0.3607504069805145)",
          "(0.0, 0.3631904721260071)",
          "(0.0, 0.3637445867061615)",
          "(0.0, 0.36416110396385193)",
          "(0.0, 0.3651409149169922)",
          "(0.0, 0.36519911885261536)",
          "(0.0, 0.36533939838409424)",
          "(0.0, 0.3658764064311981)",
          "(0.0, 0.36640819907188416)",
          "(0.0, 0.3670561611652374)",
          "(0.0, 0.3680095672607422)",
          "(0.0, 0.3682868778705597)",
          "(0.0, 0.36884307861328125)",
          "(0.0, 0.3691282272338867)",
          "(0.0, 0.36926037073135376)",
          "(0.0, 0.36934560537338257)",
          "(0.0, 0.36957183480262756)",
          "(0.0, 0.3696601986885071)",
          "(0.0, 0.3698735535144806)",
          "(0.0, 0.3704749047756195)",
          "(0.0, 0.3713122308254242)",
          "(0.0, 0.37171852588653564)",
          "(0.0, 0.3727068305015564)",
          "(0.0, 0.3741813600063324)",
          "(0.0, 0.37465545535087585)",
          "(0.0, 0.37503746151924133)",
          "(0.0, 0.375301331281662)",
          "(0.0, 0.37815916538238525)",
          "(0.0, 0.3790103793144226)",
          "(0.0, 0.3790629208087921)",
          "(0.0, 0.37926802039146423)",
          "(0.0, 0.3818783462047577)",
          "(0.0, 0.38265419006347656)",
          "(0.0, 0.3830466866493225)",
          "(0.0, 0.3837411403656006)",
          "(0.0, 0.38507696986198425)",
          "(0.0, 0.38674047589302063)",
          "(0.0, 0.38682088255882263)",
          "(0.0, 0.3873439133167267)",
          "(0.0, 0.3873697519302368)",
          "(0.0, 0.3877328634262085)",
          "(0.0, 0.3899315595626831)",
          "(0.0, 0.39187273383140564)",
          "(0.0, 0.3921153247356415)",
          "(0.0, 0.3925088346004486)",
          "(0.0, 0.39300280809402466)",
          "(0.0, 0.3941446840763092)",
          "(0.0, 0.3944699764251709)",
          "(0.0, 0.39479395747184753)",
          "(0.0, 0.39500898122787476)",
          "(0.0, 0.3955342471599579)",
          "(0.0, 0.3964366316795349)",
          "(0.0, 0.39692792296409607)",
          "(0.0, 0.39898601174354553)",
          "(0.0, 0.3990018963813782)",
          "(0.0, 0.400208443403244)",
          "(0.0, 0.4008817970752716)",
          "(0.0, 0.40312695503234863)",
          "(0.0, 0.4039002060890198)",
          "(0.0, 0.40490028262138367)",
          "(0.0, 0.4056105315685272)",
          "(0.0, 0.40597808361053467)",
          "(0.0, 0.4065522849559784)",
          "(0.0, 0.40856489539146423)",
          "(0.0, 0.41005897521972656)",
          "(0.0, 0.41068607568740845)",
          "(0.0, 0.412658154964447)",
          "(0.0, 0.41487202048301697)",
          "(0.0, 0.41928431391716003)",
          "(0.0, 0.4194962978363037)",
          "(0.0, 0.42238369584083557)",
          "(0.0, 0.42248639464378357)",
          "(0.0, 0.4232982397079468)",
          "(0.0, 0.4234309792518616)",
          "(0.0, 0.4244466722011566)",
          "(0.0, 0.4260268211364746)",
          "(0.0, 0.4268141984939575)",
          "(0.0, 0.4275978207588196)",
          "(0.0, 0.4278965890407562)",
          "(0.0, 0.43054163455963135)",
          "(0.0, 0.4305430054664612)",
          "(0.0, 0.4345438480377197)",
          "(0.0, 0.43457338213920593)",
          "(0.0, 0.4362637996673584)",
          "(0.0, 0.4370153546333313)",
          "(0.0, 0.4381146728992462)",
          "(0.0, 0.4386129677295685)",
          "(0.0, 0.4393848180770874)",
          "(0.0, 0.44135770201683044)",
          "(0.0, 0.44161489605903625)",
          "(0.0, 0.44359493255615234)",
          "(0.0, 0.4449029862880707)",
          "(0.0, 0.45455506443977356)",
          "(0.0, 0.4588591158390045)",
          "(0.0, 0.4610995650291443)",
          "(0.0, 0.468790739774704)",
          "(0.0, 0.47080597281455994)",
          "(0.0, 0.4722682237625122)",
          "(0.0, 0.47251641750335693)",
          "(0.0, 0.47903627157211304)",
          "(0.0, 0.4842507839202881)",
          "(0.0, 0.48768192529678345)",
          "(0.0, 0.5111846327781677)",
          "(0.0, 0.5212454795837402)"
         ],
         "mode": "markers",
         "name": "H0",
         "type": "scatter",
         "x": [
          0,
          0,
          0,
          0,
          0,
          0,
          0,
          0,
          0,
          0,
          0,
          0,
          0,
          0,
          0,
          0,
          0,
          0,
          0,
          0,
          0,
          0,
          0,
          0,
          0,
          0,
          0,
          0,
          0,
          0,
          0,
          0,
          0,
          0,
          0,
          0,
          0,
          0,
          0,
          0,
          0,
          0,
          0,
          0,
          0,
          0,
          0,
          0,
          0,
          0,
          0,
          0,
          0,
          0,
          0,
          0,
          0,
          0,
          0,
          0,
          0,
          0,
          0,
          0,
          0,
          0,
          0,
          0,
          0,
          0,
          0,
          0,
          0,
          0,
          0,
          0,
          0,
          0,
          0,
          0,
          0,
          0,
          0,
          0,
          0,
          0,
          0,
          0,
          0,
          0,
          0,
          0,
          0,
          0,
          0,
          0,
          0,
          0,
          0,
          0,
          0,
          0,
          0,
          0,
          0,
          0,
          0,
          0,
          0,
          0,
          0,
          0,
          0,
          0,
          0,
          0,
          0,
          0,
          0,
          0,
          0,
          0,
          0,
          0,
          0,
          0,
          0,
          0,
          0,
          0,
          0,
          0,
          0,
          0,
          0,
          0,
          0,
          0,
          0,
          0,
          0,
          0,
          0,
          0,
          0,
          0,
          0,
          0,
          0,
          0,
          0,
          0,
          0,
          0,
          0,
          0,
          0,
          0,
          0,
          0,
          0,
          0,
          0,
          0,
          0,
          0,
          0,
          0,
          0,
          0,
          0,
          0,
          0,
          0,
          0,
          0,
          0,
          0,
          0,
          0,
          0,
          0,
          0,
          0,
          0,
          0,
          0,
          0,
          0,
          0,
          0,
          0,
          0,
          0,
          0,
          0,
          0,
          0,
          0,
          0,
          0,
          0,
          0,
          0,
          0,
          0,
          0,
          0,
          0,
          0,
          0,
          0,
          0,
          0,
          0,
          0,
          0,
          0,
          0,
          0,
          0,
          0,
          0,
          0,
          0,
          0,
          0,
          0,
          0,
          0,
          0,
          0,
          0,
          0,
          0,
          0,
          0,
          0,
          0,
          0,
          0,
          0,
          0,
          0,
          0,
          0,
          0,
          0,
          0,
          0,
          0,
          0,
          0,
          0,
          0,
          0,
          0,
          0,
          0,
          0,
          0,
          0,
          0,
          0,
          0,
          0,
          0,
          0,
          0,
          0,
          0,
          0,
          0,
          0,
          0,
          0,
          0,
          0,
          0,
          0,
          0,
          0,
          0,
          0,
          0,
          0,
          0,
          0,
          0,
          0,
          0,
          0,
          0,
          0,
          0,
          0,
          0,
          0,
          0,
          0,
          0,
          0,
          0,
          0,
          0,
          0,
          0,
          0,
          0,
          0,
          0,
          0,
          0,
          0,
          0,
          0,
          0,
          0,
          0,
          0,
          0,
          0,
          0,
          0,
          0,
          0,
          0,
          0,
          0,
          0,
          0,
          0,
          0,
          0,
          0,
          0,
          0,
          0,
          0,
          0,
          0,
          0,
          0,
          0,
          0,
          0,
          0,
          0,
          0,
          0,
          0,
          0,
          0,
          0,
          0,
          0,
          0,
          0,
          0,
          0,
          0,
          0,
          0,
          0,
          0,
          0,
          0,
          0,
          0,
          0,
          0,
          0,
          0,
          0,
          0,
          0,
          0,
          0,
          0,
          0,
          0,
          0,
          0,
          0,
          0,
          0,
          0,
          0,
          0,
          0,
          0,
          0,
          0,
          0,
          0,
          0,
          0,
          0,
          0,
          0,
          0,
          0,
          0,
          0,
          0,
          0,
          0,
          0,
          0,
          0,
          0,
          0,
          0,
          0,
          0,
          0,
          0,
          0,
          0,
          0,
          0,
          0,
          0,
          0,
          0,
          0,
          0,
          0,
          0,
          0,
          0,
          0,
          0,
          0,
          0,
          0,
          0,
          0,
          0,
          0,
          0,
          0,
          0,
          0,
          0,
          0,
          0,
          0,
          0,
          0,
          0,
          0,
          0,
          0,
          0,
          0,
          0,
          0,
          0,
          0,
          0,
          0,
          0,
          0,
          0,
          0,
          0,
          0,
          0,
          0,
          0,
          0,
          0,
          0,
          0,
          0,
          0,
          0,
          0,
          0,
          0,
          0,
          0
         ],
         "y": [
          0.027469174936413765,
          0.03175650164484978,
          0.03722211346030235,
          0.04422157630324364,
          0.05166558548808098,
          0.05270819365978241,
          0.06032511964440346,
          0.06483631581068039,
          0.06669256091117859,
          0.06756126135587692,
          0.07105009257793427,
          0.07150024175643921,
          0.07154593616724014,
          0.07321584969758987,
          0.07825847715139389,
          0.07919694483280182,
          0.08057554811239243,
          0.08068972826004028,
          0.08240587264299393,
          0.08782303333282471,
          0.08869618922472,
          0.09169493615627289,
          0.09532060474157333,
          0.0985417291522026,
          0.09916038066148758,
          0.10049387812614441,
          0.10103070735931396,
          0.10111457109451294,
          0.10135776549577713,
          0.10194849967956543,
          0.10265251249074936,
          0.10424050688743591,
          0.10619928687810898,
          0.10710414499044418,
          0.11007902771234512,
          0.11110255867242813,
          0.11128918081521988,
          0.11329610645771027,
          0.11466223001480103,
          0.11515846103429794,
          0.11687975376844406,
          0.117110475897789,
          0.1182897761464119,
          0.11961279064416885,
          0.11976544559001923,
          0.12101681530475616,
          0.12246358394622803,
          0.12438123673200607,
          0.12440275400876999,
          0.12451912462711334,
          0.12455051392316818,
          0.12499462813138962,
          0.12822657823562622,
          0.13004466891288757,
          0.13153992593288422,
          0.13390100002288818,
          0.1346084177494049,
          0.13581721484661102,
          0.13655492663383484,
          0.14003311097621918,
          0.14042800664901733,
          0.14044687151908875,
          0.14057232439517975,
          0.14167097210884094,
          0.14308734238147736,
          0.14493267238140106,
          0.14526104927062988,
          0.1462581902742386,
          0.14638933539390564,
          0.14738069474697113,
          0.14929267764091492,
          0.14940397441387177,
          0.1495601385831833,
          0.15018220245838165,
          0.1511596292257309,
          0.15147434175014496,
          0.15225893259048462,
          0.15242303907871246,
          0.1525730937719345,
          0.15368424355983734,
          0.15426400303840637,
          0.15443894267082214,
          0.15525290369987488,
          0.1567346453666687,
          0.1575114130973816,
          0.1600102037191391,
          0.16356520354747772,
          0.16435277462005615,
          0.16445797681808472,
          0.16474951803684235,
          0.16519728302955627,
          0.1652642786502838,
          0.1659928858280182,
          0.16623322665691376,
          0.1666289120912552,
          0.1670968234539032,
          0.16818401217460632,
          0.16831517219543457,
          0.1696956902742386,
          0.17089708149433136,
          0.17184993624687195,
          0.1720048189163208,
          0.1724851131439209,
          0.1736183613538742,
          0.17513537406921387,
          0.17534737288951874,
          0.17567044496536255,
          0.17624163627624512,
          0.17633457481861115,
          0.17669826745986938,
          0.17680367827415466,
          0.17681819200515747,
          0.17857769131660461,
          0.17862482368946075,
          0.17917360365390778,
          0.1824299544095993,
          0.1828708052635193,
          0.18316680192947388,
          0.1836676001548767,
          0.18451952934265137,
          0.18476645648479462,
          0.18569990992546082,
          0.18640531599521637,
          0.1871618926525116,
          0.18725119531154633,
          0.18754085898399353,
          0.18890908360481262,
          0.18894565105438232,
          0.18955132365226746,
          0.1899530440568924,
          0.19154541194438934,
          0.19194293022155762,
          0.19201256334781647,
          0.19265712797641754,
          0.19388370215892792,
          0.1940089762210846,
          0.1950661540031433,
          0.19507412612438202,
          0.19509941339492798,
          0.19573543965816498,
          0.19726474583148956,
          0.19758765399456024,
          0.19805924594402313,
          0.1981029212474823,
          0.19866825640201569,
          0.19886712729930878,
          0.20057636499404907,
          0.20167015492916107,
          0.20283636450767517,
          0.20352739095687866,
          0.20368455350399017,
          0.20495255291461945,
          0.2055862694978714,
          0.20563648641109467,
          0.20564551651477814,
          0.2056940346956253,
          0.20597264170646667,
          0.20780469477176666,
          0.20858824253082275,
          0.20887696743011475,
          0.2102350890636444,
          0.21027736365795135,
          0.21135514974594116,
          0.21181580424308777,
          0.21257634460926056,
          0.21267002820968628,
          0.21335791051387787,
          0.21513527631759644,
          0.21649035811424255,
          0.21667775511741638,
          0.21704378724098206,
          0.21711647510528564,
          0.21856017410755157,
          0.21878159046173096,
          0.2187936156988144,
          0.21881183981895447,
          0.2189202755689621,
          0.2189827859401703,
          0.2197045236825943,
          0.2197985053062439,
          0.2207219898700714,
          0.22074973583221436,
          0.22208431363105774,
          0.222450852394104,
          0.22263295948505402,
          0.2231389582157135,
          0.22376757860183716,
          0.22625812888145447,
          0.226266011595726,
          0.22774948179721832,
          0.22823798656463623,
          0.2286384403705597,
          0.22929440438747406,
          0.22986622154712677,
          0.2299058884382248,
          0.23090362548828125,
          0.2321479618549347,
          0.2323572039604187,
          0.23317766189575195,
          0.2331860065460205,
          0.2338370978832245,
          0.2344837635755539,
          0.23539933562278748,
          0.23553919792175293,
          0.23643195629119873,
          0.2371656745672226,
          0.2375054508447647,
          0.2378695160150528,
          0.23968034982681274,
          0.24037492275238037,
          0.24106788635253906,
          0.2411399632692337,
          0.24138087034225464,
          0.24169057607650757,
          0.2433122992515564,
          0.24356991052627563,
          0.24372567236423492,
          0.24390320479869843,
          0.24407562613487244,
          0.24620339274406433,
          0.24631179869174957,
          0.24703922867774963,
          0.24801164865493774,
          0.24970799684524536,
          0.2501630485057831,
          0.2505139708518982,
          0.2505194842815399,
          0.250531405210495,
          0.2510928809642792,
          0.25127553939819336,
          0.25156575441360474,
          0.2516918480396271,
          0.2520062327384949,
          0.25219109654426575,
          0.25301235914230347,
          0.25322186946868896,
          0.2535252571105957,
          0.2552223801612854,
          0.2557275593280792,
          0.2565295398235321,
          0.25675928592681885,
          0.25688332319259644,
          0.25903812050819397,
          0.25983402132987976,
          0.2603117823600769,
          0.261970579624176,
          0.26258042454719543,
          0.2626573443412781,
          0.2628624737262726,
          0.26325976848602295,
          0.2644045352935791,
          0.2644709050655365,
          0.26612406969070435,
          0.2663986086845398,
          0.2682490646839142,
          0.27027493715286255,
          0.27078208327293396,
          0.2708064913749695,
          0.27158060669898987,
          0.2716255187988281,
          0.2719556391239166,
          0.2727484107017517,
          0.2730135917663574,
          0.2730753719806671,
          0.27356886863708496,
          0.2741311192512512,
          0.27473580837249756,
          0.27493757009506226,
          0.27584218978881836,
          0.2777023911476135,
          0.27957436442375183,
          0.28021174669265747,
          0.280474990606308,
          0.2812485098838806,
          0.2815922200679779,
          0.2836737632751465,
          0.2842055559158325,
          0.2863098084926605,
          0.28702062368392944,
          0.2875356674194336,
          0.29016658663749695,
          0.2910778820514679,
          0.29219672083854675,
          0.29280439019203186,
          0.2944405972957611,
          0.2944973409175873,
          0.2949945032596588,
          0.29574471712112427,
          0.2974220812320709,
          0.2977849245071411,
          0.2984484136104584,
          0.29863741993904114,
          0.29905956983566284,
          0.29933974146842957,
          0.3004884123802185,
          0.30307936668395996,
          0.3032483756542206,
          0.3035139739513397,
          0.30354127287864685,
          0.30413156747817993,
          0.3044487535953522,
          0.3060941696166992,
          0.30653274059295654,
          0.3073713481426239,
          0.3075118064880371,
          0.30805471539497375,
          0.30925312638282776,
          0.3092764914035797,
          0.3093658685684204,
          0.31124985218048096,
          0.3114040791988373,
          0.3114429712295532,
          0.31267693638801575,
          0.3161534368991852,
          0.3178623914718628,
          0.31805020570755005,
          0.31841278076171875,
          0.3185632526874542,
          0.3187415301799774,
          0.3189599812030792,
          0.32029467821121216,
          0.3207376003265381,
          0.32083049416542053,
          0.32118844985961914,
          0.3214699625968933,
          0.32212644815444946,
          0.32314532995224,
          0.32349851727485657,
          0.3236374855041504,
          0.32367655634880066,
          0.32412657141685486,
          0.3241405785083771,
          0.32469093799591064,
          0.3249787390232086,
          0.32529377937316895,
          0.3268376290798187,
          0.3270949423313141,
          0.32836171984672546,
          0.32867002487182617,
          0.3288404941558838,
          0.32956773042678833,
          0.3314644396305084,
          0.33218303322792053,
          0.33351197838783264,
          0.33440420031547546,
          0.33523282408714294,
          0.33608120679855347,
          0.3362859785556793,
          0.3365253210067749,
          0.33708223700523376,
          0.3376411497592926,
          0.3384009599685669,
          0.3384803533554077,
          0.3399776518344879,
          0.34070923924446106,
          0.3408190608024597,
          0.3409607410430908,
          0.34102365374565125,
          0.34360629320144653,
          0.3438855707645416,
          0.3443184792995453,
          0.3452298641204834,
          0.34529051184654236,
          0.34772151708602905,
          0.34945523738861084,
          0.3494885265827179,
          0.34967395663261414,
          0.3510707914829254,
          0.3519331216812134,
          0.35295340418815613,
          0.35526391863822937,
          0.35651761293411255,
          0.3573976159095764,
          0.35763904452323914,
          0.3577059805393219,
          0.35853561758995056,
          0.360131174325943,
          0.3602989614009857,
          0.36040955781936646,
          0.3607504069805145,
          0.3631904721260071,
          0.3637445867061615,
          0.36416110396385193,
          0.3651409149169922,
          0.36519911885261536,
          0.36533939838409424,
          0.3658764064311981,
          0.36640819907188416,
          0.3670561611652374,
          0.3680095672607422,
          0.3682868778705597,
          0.36884307861328125,
          0.3691282272338867,
          0.36926037073135376,
          0.36934560537338257,
          0.36957183480262756,
          0.3696601986885071,
          0.3698735535144806,
          0.3704749047756195,
          0.3713122308254242,
          0.37171852588653564,
          0.3727068305015564,
          0.3741813600063324,
          0.37465545535087585,
          0.37503746151924133,
          0.375301331281662,
          0.37815916538238525,
          0.3790103793144226,
          0.3790629208087921,
          0.37926802039146423,
          0.3818783462047577,
          0.38265419006347656,
          0.3830466866493225,
          0.3837411403656006,
          0.38507696986198425,
          0.38674047589302063,
          0.38682088255882263,
          0.3873439133167267,
          0.3873697519302368,
          0.3877328634262085,
          0.3899315595626831,
          0.39187273383140564,
          0.3921153247356415,
          0.3925088346004486,
          0.39300280809402466,
          0.3941446840763092,
          0.3944699764251709,
          0.39479395747184753,
          0.39500898122787476,
          0.3955342471599579,
          0.3964366316795349,
          0.39692792296409607,
          0.39898601174354553,
          0.3990018963813782,
          0.400208443403244,
          0.4008817970752716,
          0.40312695503234863,
          0.4039002060890198,
          0.40490028262138367,
          0.4056105315685272,
          0.40597808361053467,
          0.4065522849559784,
          0.40856489539146423,
          0.41005897521972656,
          0.41068607568740845,
          0.412658154964447,
          0.41487202048301697,
          0.41928431391716003,
          0.4194962978363037,
          0.42238369584083557,
          0.42248639464378357,
          0.4232982397079468,
          0.4234309792518616,
          0.4244466722011566,
          0.4260268211364746,
          0.4268141984939575,
          0.4275978207588196,
          0.4278965890407562,
          0.43054163455963135,
          0.4305430054664612,
          0.4345438480377197,
          0.43457338213920593,
          0.4362637996673584,
          0.4370153546333313,
          0.4381146728992462,
          0.4386129677295685,
          0.4393848180770874,
          0.44135770201683044,
          0.44161489605903625,
          0.44359493255615234,
          0.4449029862880707,
          0.45455506443977356,
          0.4588591158390045,
          0.4610995650291443,
          0.468790739774704,
          0.47080597281455994,
          0.4722682237625122,
          0.47251641750335693,
          0.47903627157211304,
          0.4842507839202881,
          0.48768192529678345,
          0.5111846327781677,
          0.5212454795837402
         ]
        },
        {
         "hoverinfo": "text",
         "hovertext": [
          "(0.8299264907836914, 0.8540049195289612)",
          "(0.7659938931465149, 0.8711436986923218)",
          "(0.7435144186019897, 0.763521134853363)",
          "(0.703230619430542, 0.7250859141349792)",
          "(0.6796275973320007, 0.7361355423927307)",
          "(0.6795039772987366, 0.6909543871879578)",
          "(0.6717300415039062, 0.6736896634101868)",
          "(0.66737300157547, 0.8797585964202881)",
          "(0.6509718298912048, 0.7502001523971558)",
          "(0.6508748531341553, 0.7672761678695679)",
          "(0.647565484046936, 0.7296922206878662)",
          "(0.6413998007774353, 0.6765813827514648)",
          "(0.6325503587722778, 0.6573252081871033)",
          "(0.631748378276825, 0.6534256935119629)",
          "(0.6252827048301697, 0.6821037530899048)",
          "(0.6234100461006165, 0.6453501582145691)",
          "(0.6191902160644531, 0.6663020849227905)",
          "(0.6177520155906677, 0.6360635161399841)",
          "(0.6099628806114197, 0.6111836433410645)",
          "(0.6084172129631042, 0.8994075655937195)",
          "(0.6065195798873901, 0.6885594725608826)",
          "(0.6006808876991272, 0.729223906993866)",
          "(0.5994253754615784, 0.6520578265190125)",
          "(0.5942111015319824, 0.6306900382041931)",
          "(0.5936504006385803, 0.6141549944877625)",
          "(0.5930845141410828, 0.6696256995201111)",
          "(0.5927554368972778, 0.6224825978279114)",
          "(0.5905463695526123, 0.6217053532600403)",
          "(0.5861278772354126, 0.5988370180130005)",
          "(0.5843485593795776, 0.7072835564613342)",
          "(0.5827963352203369, 0.6479531526565552)",
          "(0.5814871191978455, 0.6423399448394775)",
          "(0.5812801122665405, 0.6452703475952148)",
          "(0.5797573328018188, 0.6478100419044495)",
          "(0.5774701833724976, 0.6126751899719238)",
          "(0.573117733001709, 0.5849084854125977)",
          "(0.5683277249336243, 0.7280522584915161)",
          "(0.5659668445587158, 0.574235737323761)",
          "(0.5631587505340576, 0.57483971118927)",
          "(0.5624914765357971, 0.6498057842254639)",
          "(0.5621864199638367, 0.580979585647583)",
          "(0.5585574507713318, 0.657777726650238)",
          "(0.5577049255371094, 0.5788838267326355)",
          "(0.5566927194595337, 0.5906038880348206)",
          "(0.5560038685798645, 0.5876997113227844)",
          "(0.5557149052619934, 0.6757206320762634)",
          "(0.5536807179450989, 0.5681045055389404)",
          "(0.5536537170410156, 0.5738471746444702)",
          "(0.5511217713356018, 0.5766507387161255)",
          "(0.5506539940834045, 0.5830292701721191)",
          "(0.549911379814148, 0.685286819934845)",
          "(0.5498271584510803, 0.5518367290496826)",
          "(0.5488970279693604, 0.5525335669517517)",
          "(0.5481720566749573, 0.5800812840461731)",
          "(0.5471919178962708, 0.5473955273628235)",
          "(0.5461711287498474, 0.7325024604797363)",
          "(0.5431593060493469, 0.615633487701416)",
          "(0.5422786474227905, 0.6531522870063782)",
          "(0.5415691137313843, 0.5726333260536194)",
          "(0.540442705154419, 0.6429726481437683)",
          "(0.5393770933151245, 0.6637141704559326)",
          "(0.5381526947021484, 0.6492975354194641)",
          "(0.5369555950164795, 0.6958868503570557)",
          "(0.5361968278884888, 0.5805107951164246)",
          "(0.5360286831855774, 0.5811560750007629)",
          "(0.5348951816558838, 0.6897062659263611)",
          "(0.5341927409172058, 0.579069972038269)",
          "(0.5326628684997559, 0.576067328453064)",
          "(0.532589316368103, 0.6050939559936523)",
          "(0.5318995118141174, 0.5877974629402161)",
          "(0.5308215618133545, 0.5478042364120483)",
          "(0.5299626588821411, 0.5757956504821777)",
          "(0.528971791267395, 0.5475377440452576)",
          "(0.5264676213264465, 0.6141557097434998)",
          "(0.5246960520744324, 0.7341415286064148)",
          "(0.5218092799186707, 0.6623387932777405)",
          "(0.5215011835098267, 0.6101087331771851)",
          "(0.5212407112121582, 0.6080422401428223)",
          "(0.5204765200614929, 0.6157063841819763)",
          "(0.5175209045410156, 0.6042472720146179)",
          "(0.5173893570899963, 0.7940520644187927)",
          "(0.5163716077804565, 0.5459049344062805)",
          "(0.5107594132423401, 0.5995228290557861)",
          "(0.5088793635368347, 0.592251181602478)",
          "(0.5084941983222961, 0.640471875667572)",
          "(0.5076460838317871, 0.6725654602050781)",
          "(0.5071263313293457, 0.6321700811386108)",
          "(0.503859281539917, 0.7417795658111572)",
          "(0.50156170129776, 0.9677241444587708)",
          "(0.49777549505233765, 0.5568845272064209)",
          "(0.4949395954608917, 0.7022335529327393)",
          "(0.49280163645744324, 0.7448918223381042)",
          "(0.49113062024116516, 0.616736888885498)",
          "(0.489680677652359, 0.8054206967353821)",
          "(0.48816850781440735, 0.7985250949859619)",
          "(0.4867267906665802, 0.5588229894638062)",
          "(0.48569974303245544, 0.5285102725028992)",
          "(0.48474806547164917, 0.5917145609855652)",
          "(0.48328590393066406, 0.589367151260376)",
          "(0.4828333556652069, 0.4886384904384613)",
          "(0.4821878671646118, 0.6742544770240784)",
          "(0.48030713200569153, 0.7496106028556824)",
          "(0.48013976216316223, 0.5096326470375061)",
          "(0.4801366329193115, 0.6999010443687439)",
          "(0.4796622395515442, 0.6371212601661682)",
          "(0.47916221618652344, 0.5231783986091614)",
          "(0.4786808490753174, 0.49268898367881775)",
          "(0.4785956144332886, 0.621486485004425)",
          "(0.4780275523662567, 0.6866027116775513)",
          "(0.4772801399230957, 0.7079229354858398)",
          "(0.47666147351264954, 0.49278974533081055)",
          "(0.47159719467163086, 0.6498517990112305)",
          "(0.46914541721343994, 0.4697970449924469)",
          "(0.46783506870269775, 0.7237347960472107)",
          "(0.46740540862083435, 0.5320186614990234)",
          "(0.464356005191803, 0.7977699637413025)",
          "(0.4642724394798279, 0.5713409781455994)",
          "(0.46168094873428345, 0.7790383100509644)",
          "(0.4613620340824127, 0.5850393176078796)",
          "(0.46105846762657166, 0.7123720049858093)",
          "(0.4578680396080017, 0.7205557227134705)",
          "(0.45573508739471436, 0.612375020980835)",
          "(0.45541316270828247, 0.4864547550678253)",
          "(0.45499342679977417, 0.7064613103866577)",
          "(0.4478132128715515, 0.5011374950408936)",
          "(0.447359561920166, 0.5348817706108093)",
          "(0.44412466883659363, 0.49875783920288086)",
          "(0.4436517059803009, 0.473799467086792)",
          "(0.44241636991500854, 0.4617069363594055)",
          "(0.44213664531707764, 0.4921342730522156)",
          "(0.44170767068862915, 0.7463741898536682)",
          "(0.4391685724258423, 0.6355249285697937)",
          "(0.4366125166416168, 0.5266103744506836)",
          "(0.4339049458503723, 0.48424097895622253)",
          "(0.43080374598503113, 0.5571221113204956)",
          "(0.4293119013309479, 0.48951080441474915)",
          "(0.42917290329933167, 0.4956248998641968)",
          "(0.4280765950679779, 0.4938511848449707)",
          "(0.42687171697616577, 0.602734386920929)",
          "(0.4267147481441498, 0.553665041923523)",
          "(0.4256709814071655, 0.5052204728126526)",
          "(0.4239645302295685, 0.48555999994277954)",
          "(0.4230014979839325, 0.5005049705505371)",
          "(0.4220011830329895, 0.8344740867614746)",
          "(0.4213081896305084, 0.441274493932724)",
          "(0.420760840177536, 0.44247177243232727)",
          "(0.41815829277038574, 0.43675369024276733)",
          "(0.41465336084365845, 0.4369197487831116)",
          "(0.4145960211753845, 0.4617835581302643)",
          "(0.41327494382858276, 0.5490167737007141)",
          "(0.4115763008594513, 0.6600411534309387)",
          "(0.40535256266593933, 0.40721797943115234)",
          "(0.39635953307151794, 0.5335182547569275)",
          "(0.39435306191444397, 0.39991098642349243)",
          "(0.3930734694004059, 0.4192371368408203)",
          "(0.3918517231941223, 0.4449496567249298)",
          "(0.3898748457431793, 0.40365445613861084)",
          "(0.3896496593952179, 0.40973353385925293)",
          "(0.3896377384662628, 0.4113534390926361)",
          "(0.3870379328727722, 0.42624351382255554)",
          "(0.3828849494457245, 0.4028884768486023)",
          "(0.3826620280742645, 0.7299060225486755)",
          "(0.3772504925727844, 0.41600558161735535)",
          "(0.37591883540153503, 0.3785243630409241)",
          "(0.3728313744068146, 0.38400253653526306)",
          "(0.37132444977760315, 0.418964684009552)",
          "(0.3635367155075073, 0.5256593227386475)",
          "(0.3589358627796173, 0.38582274317741394)",
          "(0.3548017740249634, 0.4278533458709717)",
          "(0.34491971135139465, 0.41861048340797424)",
          "(0.3323322832584381, 0.35660675168037415)",
          "(0.33094924688339233, 0.3447066843509674)",
          "(0.3282548189163208, 0.489346444606781)",
          "(0.3260902166366577, 0.3377666473388672)",
          "(0.3230557143688202, 0.3641139268875122)",
          "(0.3194970488548279, 0.3346264660358429)",
          "(0.31006869673728943, 0.3115483522415161)",
          "(0.3057056665420532, 0.3524114787578583)",
          "(0.3049098551273346, 0.35136252641677856)",
          "(0.289436399936676, 0.3062420189380646)",
          "(0.2882123291492462, 0.4208741784095764)",
          "(0.2751804292201996, 0.31303513050079346)",
          "(0.26570624113082886, 0.274309366941452)",
          "(0.20296023786067963, 0.20978599786758423)",
          "(0.18361994624137878, 0.26513588428497314)"
         ],
         "mode": "markers",
         "name": "H1",
         "type": "scatter",
         "x": [
          0.8299264907836914,
          0.7659938931465149,
          0.7435144186019897,
          0.703230619430542,
          0.6796275973320007,
          0.6795039772987366,
          0.6717300415039062,
          0.66737300157547,
          0.6509718298912048,
          0.6508748531341553,
          0.647565484046936,
          0.6413998007774353,
          0.6325503587722778,
          0.631748378276825,
          0.6252827048301697,
          0.6234100461006165,
          0.6191902160644531,
          0.6177520155906677,
          0.6099628806114197,
          0.6084172129631042,
          0.6065195798873901,
          0.6006808876991272,
          0.5994253754615784,
          0.5942111015319824,
          0.5936504006385803,
          0.5930845141410828,
          0.5927554368972778,
          0.5905463695526123,
          0.5861278772354126,
          0.5843485593795776,
          0.5827963352203369,
          0.5814871191978455,
          0.5812801122665405,
          0.5797573328018188,
          0.5774701833724976,
          0.573117733001709,
          0.5683277249336243,
          0.5659668445587158,
          0.5631587505340576,
          0.5624914765357971,
          0.5621864199638367,
          0.5585574507713318,
          0.5577049255371094,
          0.5566927194595337,
          0.5560038685798645,
          0.5557149052619934,
          0.5536807179450989,
          0.5536537170410156,
          0.5511217713356018,
          0.5506539940834045,
          0.549911379814148,
          0.5498271584510803,
          0.5488970279693604,
          0.5481720566749573,
          0.5471919178962708,
          0.5461711287498474,
          0.5431593060493469,
          0.5422786474227905,
          0.5415691137313843,
          0.540442705154419,
          0.5393770933151245,
          0.5381526947021484,
          0.5369555950164795,
          0.5361968278884888,
          0.5360286831855774,
          0.5348951816558838,
          0.5341927409172058,
          0.5326628684997559,
          0.532589316368103,
          0.5318995118141174,
          0.5308215618133545,
          0.5299626588821411,
          0.528971791267395,
          0.5264676213264465,
          0.5246960520744324,
          0.5218092799186707,
          0.5215011835098267,
          0.5212407112121582,
          0.5204765200614929,
          0.5175209045410156,
          0.5173893570899963,
          0.5163716077804565,
          0.5107594132423401,
          0.5088793635368347,
          0.5084941983222961,
          0.5076460838317871,
          0.5071263313293457,
          0.503859281539917,
          0.50156170129776,
          0.49777549505233765,
          0.4949395954608917,
          0.49280163645744324,
          0.49113062024116516,
          0.489680677652359,
          0.48816850781440735,
          0.4867267906665802,
          0.48569974303245544,
          0.48474806547164917,
          0.48328590393066406,
          0.4828333556652069,
          0.4821878671646118,
          0.48030713200569153,
          0.48013976216316223,
          0.4801366329193115,
          0.4796622395515442,
          0.47916221618652344,
          0.4786808490753174,
          0.4785956144332886,
          0.4780275523662567,
          0.4772801399230957,
          0.47666147351264954,
          0.47159719467163086,
          0.46914541721343994,
          0.46783506870269775,
          0.46740540862083435,
          0.464356005191803,
          0.4642724394798279,
          0.46168094873428345,
          0.4613620340824127,
          0.46105846762657166,
          0.4578680396080017,
          0.45573508739471436,
          0.45541316270828247,
          0.45499342679977417,
          0.4478132128715515,
          0.447359561920166,
          0.44412466883659363,
          0.4436517059803009,
          0.44241636991500854,
          0.44213664531707764,
          0.44170767068862915,
          0.4391685724258423,
          0.4366125166416168,
          0.4339049458503723,
          0.43080374598503113,
          0.4293119013309479,
          0.42917290329933167,
          0.4280765950679779,
          0.42687171697616577,
          0.4267147481441498,
          0.4256709814071655,
          0.4239645302295685,
          0.4230014979839325,
          0.4220011830329895,
          0.4213081896305084,
          0.420760840177536,
          0.41815829277038574,
          0.41465336084365845,
          0.4145960211753845,
          0.41327494382858276,
          0.4115763008594513,
          0.40535256266593933,
          0.39635953307151794,
          0.39435306191444397,
          0.3930734694004059,
          0.3918517231941223,
          0.3898748457431793,
          0.3896496593952179,
          0.3896377384662628,
          0.3870379328727722,
          0.3828849494457245,
          0.3826620280742645,
          0.3772504925727844,
          0.37591883540153503,
          0.3728313744068146,
          0.37132444977760315,
          0.3635367155075073,
          0.3589358627796173,
          0.3548017740249634,
          0.34491971135139465,
          0.3323322832584381,
          0.33094924688339233,
          0.3282548189163208,
          0.3260902166366577,
          0.3230557143688202,
          0.3194970488548279,
          0.31006869673728943,
          0.3057056665420532,
          0.3049098551273346,
          0.289436399936676,
          0.2882123291492462,
          0.2751804292201996,
          0.26570624113082886,
          0.20296023786067963,
          0.18361994624137878
         ],
         "y": [
          0.8540049195289612,
          0.8711436986923218,
          0.763521134853363,
          0.7250859141349792,
          0.7361355423927307,
          0.6909543871879578,
          0.6736896634101868,
          0.8797585964202881,
          0.7502001523971558,
          0.7672761678695679,
          0.7296922206878662,
          0.6765813827514648,
          0.6573252081871033,
          0.6534256935119629,
          0.6821037530899048,
          0.6453501582145691,
          0.6663020849227905,
          0.6360635161399841,
          0.6111836433410645,
          0.8994075655937195,
          0.6885594725608826,
          0.729223906993866,
          0.6520578265190125,
          0.6306900382041931,
          0.6141549944877625,
          0.6696256995201111,
          0.6224825978279114,
          0.6217053532600403,
          0.5988370180130005,
          0.7072835564613342,
          0.6479531526565552,
          0.6423399448394775,
          0.6452703475952148,
          0.6478100419044495,
          0.6126751899719238,
          0.5849084854125977,
          0.7280522584915161,
          0.574235737323761,
          0.57483971118927,
          0.6498057842254639,
          0.580979585647583,
          0.657777726650238,
          0.5788838267326355,
          0.5906038880348206,
          0.5876997113227844,
          0.6757206320762634,
          0.5681045055389404,
          0.5738471746444702,
          0.5766507387161255,
          0.5830292701721191,
          0.685286819934845,
          0.5518367290496826,
          0.5525335669517517,
          0.5800812840461731,
          0.5473955273628235,
          0.7325024604797363,
          0.615633487701416,
          0.6531522870063782,
          0.5726333260536194,
          0.6429726481437683,
          0.6637141704559326,
          0.6492975354194641,
          0.6958868503570557,
          0.5805107951164246,
          0.5811560750007629,
          0.6897062659263611,
          0.579069972038269,
          0.576067328453064,
          0.6050939559936523,
          0.5877974629402161,
          0.5478042364120483,
          0.5757956504821777,
          0.5475377440452576,
          0.6141557097434998,
          0.7341415286064148,
          0.6623387932777405,
          0.6101087331771851,
          0.6080422401428223,
          0.6157063841819763,
          0.6042472720146179,
          0.7940520644187927,
          0.5459049344062805,
          0.5995228290557861,
          0.592251181602478,
          0.640471875667572,
          0.6725654602050781,
          0.6321700811386108,
          0.7417795658111572,
          0.9677241444587708,
          0.5568845272064209,
          0.7022335529327393,
          0.7448918223381042,
          0.616736888885498,
          0.8054206967353821,
          0.7985250949859619,
          0.5588229894638062,
          0.5285102725028992,
          0.5917145609855652,
          0.589367151260376,
          0.4886384904384613,
          0.6742544770240784,
          0.7496106028556824,
          0.5096326470375061,
          0.6999010443687439,
          0.6371212601661682,
          0.5231783986091614,
          0.49268898367881775,
          0.621486485004425,
          0.6866027116775513,
          0.7079229354858398,
          0.49278974533081055,
          0.6498517990112305,
          0.4697970449924469,
          0.7237347960472107,
          0.5320186614990234,
          0.7977699637413025,
          0.5713409781455994,
          0.7790383100509644,
          0.5850393176078796,
          0.7123720049858093,
          0.7205557227134705,
          0.612375020980835,
          0.4864547550678253,
          0.7064613103866577,
          0.5011374950408936,
          0.5348817706108093,
          0.49875783920288086,
          0.473799467086792,
          0.4617069363594055,
          0.4921342730522156,
          0.7463741898536682,
          0.6355249285697937,
          0.5266103744506836,
          0.48424097895622253,
          0.5571221113204956,
          0.48951080441474915,
          0.4956248998641968,
          0.4938511848449707,
          0.602734386920929,
          0.553665041923523,
          0.5052204728126526,
          0.48555999994277954,
          0.5005049705505371,
          0.8344740867614746,
          0.441274493932724,
          0.44247177243232727,
          0.43675369024276733,
          0.4369197487831116,
          0.4617835581302643,
          0.5490167737007141,
          0.6600411534309387,
          0.40721797943115234,
          0.5335182547569275,
          0.39991098642349243,
          0.4192371368408203,
          0.4449496567249298,
          0.40365445613861084,
          0.40973353385925293,
          0.4113534390926361,
          0.42624351382255554,
          0.4028884768486023,
          0.7299060225486755,
          0.41600558161735535,
          0.3785243630409241,
          0.38400253653526306,
          0.418964684009552,
          0.5256593227386475,
          0.38582274317741394,
          0.4278533458709717,
          0.41861048340797424,
          0.35660675168037415,
          0.3447066843509674,
          0.489346444606781,
          0.3377666473388672,
          0.3641139268875122,
          0.3346264660358429,
          0.3115483522415161,
          0.3524114787578583,
          0.35136252641677856,
          0.3062420189380646,
          0.4208741784095764,
          0.31303513050079346,
          0.274309366941452,
          0.20978599786758423,
          0.26513588428497314
         ]
        },
        {
         "hoverinfo": "text",
         "hovertext": [
          "(1.0699878931045532, 1.1086570024490356)",
          "(0.9585875868797302, 0.9717437028884888)",
          "(0.9565401077270508, 1.042142391204834)",
          "(0.9199841022491455, 1.1238254308700562)",
          "(0.9164540767669678, 0.9305756092071533)",
          "(0.9039062261581421, 0.9510949850082397)",
          "(0.8981230854988098, 0.9513094425201416)",
          "(0.898101270198822, 1.1165434122085571)",
          "(0.888677716255188, 0.9660796523094177)",
          "(0.8858557939529419, 0.8919918537139893)",
          "(0.8638322949409485, 0.9544170498847961)",
          "(0.8478960394859314, 1.0544017553329468)",
          "(0.8263118267059326, 0.9462453126907349)",
          "(0.7924638986587524, 0.9211224913597107)",
          "(0.7768055200576782, 0.7792401909828186)",
          "(0.7742352485656738, 0.871828556060791)",
          "(0.7473944425582886, 0.7511214017868042)",
          "(0.7410301566123962, 0.7542570233345032)",
          "(0.7379489541053772, 0.7555775046348572)",
          "(0.7326400876045227, 0.7581692337989807)",
          "(0.7178723812103271, 0.7354837656021118)",
          "(0.716795802116394, 0.7393014430999756)",
          "(0.7116830348968506, 0.7203396558761597)",
          "(0.7079229354858398, 0.7573890089988708)",
          "(0.6895246505737305, 0.7205217480659485)",
          "(0.6833062171936035, 0.7146840691566467)",
          "(0.6672027707099915, 0.7033577561378479)",
          "(0.6599231362342834, 0.7180503010749817)",
          "(0.48964908719062805, 0.5124718546867371)"
         ],
         "mode": "markers",
         "name": "H2",
         "type": "scatter",
         "x": [
          1.0699878931045532,
          0.9585875868797302,
          0.9565401077270508,
          0.9199841022491455,
          0.9164540767669678,
          0.9039062261581421,
          0.8981230854988098,
          0.898101270198822,
          0.888677716255188,
          0.8858557939529419,
          0.8638322949409485,
          0.8478960394859314,
          0.8263118267059326,
          0.7924638986587524,
          0.7768055200576782,
          0.7742352485656738,
          0.7473944425582886,
          0.7410301566123962,
          0.7379489541053772,
          0.7326400876045227,
          0.7178723812103271,
          0.716795802116394,
          0.7116830348968506,
          0.7079229354858398,
          0.6895246505737305,
          0.6833062171936035,
          0.6672027707099915,
          0.6599231362342834,
          0.48964908719062805
         ],
         "y": [
          1.1086570024490356,
          0.9717437028884888,
          1.042142391204834,
          1.1238254308700562,
          0.9305756092071533,
          0.9510949850082397,
          0.9513094425201416,
          1.1165434122085571,
          0.9660796523094177,
          0.8919918537139893,
          0.9544170498847961,
          1.0544017553329468,
          0.9462453126907349,
          0.9211224913597107,
          0.7792401909828186,
          0.871828556060791,
          0.7511214017868042,
          0.7542570233345032,
          0.7555775046348572,
          0.7581692337989807,
          0.7354837656021118,
          0.7393014430999756,
          0.7203396558761597,
          0.7573890089988708,
          0.7205217480659485,
          0.7146840691566467,
          0.7033577561378479,
          0.7180503010749817,
          0.5124718546867371
         ]
        }
       ],
       "layout": {
        "height": 500,
        "plot_bgcolor": "white",
        "template": {
         "data": {
          "bar": [
           {
            "error_x": {
             "color": "#2a3f5f"
            },
            "error_y": {
             "color": "#2a3f5f"
            },
            "marker": {
             "line": {
              "color": "#E5ECF6",
              "width": 0.5
             },
             "pattern": {
              "fillmode": "overlay",
              "size": 10,
              "solidity": 0.2
             }
            },
            "type": "bar"
           }
          ],
          "barpolar": [
           {
            "marker": {
             "line": {
              "color": "#E5ECF6",
              "width": 0.5
             },
             "pattern": {
              "fillmode": "overlay",
              "size": 10,
              "solidity": 0.2
             }
            },
            "type": "barpolar"
           }
          ],
          "carpet": [
           {
            "aaxis": {
             "endlinecolor": "#2a3f5f",
             "gridcolor": "white",
             "linecolor": "white",
             "minorgridcolor": "white",
             "startlinecolor": "#2a3f5f"
            },
            "baxis": {
             "endlinecolor": "#2a3f5f",
             "gridcolor": "white",
             "linecolor": "white",
             "minorgridcolor": "white",
             "startlinecolor": "#2a3f5f"
            },
            "type": "carpet"
           }
          ],
          "choropleth": [
           {
            "colorbar": {
             "outlinewidth": 0,
             "ticks": ""
            },
            "type": "choropleth"
           }
          ],
          "contour": [
           {
            "colorbar": {
             "outlinewidth": 0,
             "ticks": ""
            },
            "colorscale": [
             [
              0,
              "#0d0887"
             ],
             [
              0.1111111111111111,
              "#46039f"
             ],
             [
              0.2222222222222222,
              "#7201a8"
             ],
             [
              0.3333333333333333,
              "#9c179e"
             ],
             [
              0.4444444444444444,
              "#bd3786"
             ],
             [
              0.5555555555555556,
              "#d8576b"
             ],
             [
              0.6666666666666666,
              "#ed7953"
             ],
             [
              0.7777777777777778,
              "#fb9f3a"
             ],
             [
              0.8888888888888888,
              "#fdca26"
             ],
             [
              1,
              "#f0f921"
             ]
            ],
            "type": "contour"
           }
          ],
          "contourcarpet": [
           {
            "colorbar": {
             "outlinewidth": 0,
             "ticks": ""
            },
            "type": "contourcarpet"
           }
          ],
          "heatmap": [
           {
            "colorbar": {
             "outlinewidth": 0,
             "ticks": ""
            },
            "colorscale": [
             [
              0,
              "#0d0887"
             ],
             [
              0.1111111111111111,
              "#46039f"
             ],
             [
              0.2222222222222222,
              "#7201a8"
             ],
             [
              0.3333333333333333,
              "#9c179e"
             ],
             [
              0.4444444444444444,
              "#bd3786"
             ],
             [
              0.5555555555555556,
              "#d8576b"
             ],
             [
              0.6666666666666666,
              "#ed7953"
             ],
             [
              0.7777777777777778,
              "#fb9f3a"
             ],
             [
              0.8888888888888888,
              "#fdca26"
             ],
             [
              1,
              "#f0f921"
             ]
            ],
            "type": "heatmap"
           }
          ],
          "heatmapgl": [
           {
            "colorbar": {
             "outlinewidth": 0,
             "ticks": ""
            },
            "colorscale": [
             [
              0,
              "#0d0887"
             ],
             [
              0.1111111111111111,
              "#46039f"
             ],
             [
              0.2222222222222222,
              "#7201a8"
             ],
             [
              0.3333333333333333,
              "#9c179e"
             ],
             [
              0.4444444444444444,
              "#bd3786"
             ],
             [
              0.5555555555555556,
              "#d8576b"
             ],
             [
              0.6666666666666666,
              "#ed7953"
             ],
             [
              0.7777777777777778,
              "#fb9f3a"
             ],
             [
              0.8888888888888888,
              "#fdca26"
             ],
             [
              1,
              "#f0f921"
             ]
            ],
            "type": "heatmapgl"
           }
          ],
          "histogram": [
           {
            "marker": {
             "pattern": {
              "fillmode": "overlay",
              "size": 10,
              "solidity": 0.2
             }
            },
            "type": "histogram"
           }
          ],
          "histogram2d": [
           {
            "colorbar": {
             "outlinewidth": 0,
             "ticks": ""
            },
            "colorscale": [
             [
              0,
              "#0d0887"
             ],
             [
              0.1111111111111111,
              "#46039f"
             ],
             [
              0.2222222222222222,
              "#7201a8"
             ],
             [
              0.3333333333333333,
              "#9c179e"
             ],
             [
              0.4444444444444444,
              "#bd3786"
             ],
             [
              0.5555555555555556,
              "#d8576b"
             ],
             [
              0.6666666666666666,
              "#ed7953"
             ],
             [
              0.7777777777777778,
              "#fb9f3a"
             ],
             [
              0.8888888888888888,
              "#fdca26"
             ],
             [
              1,
              "#f0f921"
             ]
            ],
            "type": "histogram2d"
           }
          ],
          "histogram2dcontour": [
           {
            "colorbar": {
             "outlinewidth": 0,
             "ticks": ""
            },
            "colorscale": [
             [
              0,
              "#0d0887"
             ],
             [
              0.1111111111111111,
              "#46039f"
             ],
             [
              0.2222222222222222,
              "#7201a8"
             ],
             [
              0.3333333333333333,
              "#9c179e"
             ],
             [
              0.4444444444444444,
              "#bd3786"
             ],
             [
              0.5555555555555556,
              "#d8576b"
             ],
             [
              0.6666666666666666,
              "#ed7953"
             ],
             [
              0.7777777777777778,
              "#fb9f3a"
             ],
             [
              0.8888888888888888,
              "#fdca26"
             ],
             [
              1,
              "#f0f921"
             ]
            ],
            "type": "histogram2dcontour"
           }
          ],
          "mesh3d": [
           {
            "colorbar": {
             "outlinewidth": 0,
             "ticks": ""
            },
            "type": "mesh3d"
           }
          ],
          "parcoords": [
           {
            "line": {
             "colorbar": {
              "outlinewidth": 0,
              "ticks": ""
             }
            },
            "type": "parcoords"
           }
          ],
          "pie": [
           {
            "automargin": true,
            "type": "pie"
           }
          ],
          "scatter": [
           {
            "fillpattern": {
             "fillmode": "overlay",
             "size": 10,
             "solidity": 0.2
            },
            "type": "scatter"
           }
          ],
          "scatter3d": [
           {
            "line": {
             "colorbar": {
              "outlinewidth": 0,
              "ticks": ""
             }
            },
            "marker": {
             "colorbar": {
              "outlinewidth": 0,
              "ticks": ""
             }
            },
            "type": "scatter3d"
           }
          ],
          "scattercarpet": [
           {
            "marker": {
             "colorbar": {
              "outlinewidth": 0,
              "ticks": ""
             }
            },
            "type": "scattercarpet"
           }
          ],
          "scattergeo": [
           {
            "marker": {
             "colorbar": {
              "outlinewidth": 0,
              "ticks": ""
             }
            },
            "type": "scattergeo"
           }
          ],
          "scattergl": [
           {
            "marker": {
             "colorbar": {
              "outlinewidth": 0,
              "ticks": ""
             }
            },
            "type": "scattergl"
           }
          ],
          "scattermapbox": [
           {
            "marker": {
             "colorbar": {
              "outlinewidth": 0,
              "ticks": ""
             }
            },
            "type": "scattermapbox"
           }
          ],
          "scatterpolar": [
           {
            "marker": {
             "colorbar": {
              "outlinewidth": 0,
              "ticks": ""
             }
            },
            "type": "scatterpolar"
           }
          ],
          "scatterpolargl": [
           {
            "marker": {
             "colorbar": {
              "outlinewidth": 0,
              "ticks": ""
             }
            },
            "type": "scatterpolargl"
           }
          ],
          "scatterternary": [
           {
            "marker": {
             "colorbar": {
              "outlinewidth": 0,
              "ticks": ""
             }
            },
            "type": "scatterternary"
           }
          ],
          "surface": [
           {
            "colorbar": {
             "outlinewidth": 0,
             "ticks": ""
            },
            "colorscale": [
             [
              0,
              "#0d0887"
             ],
             [
              0.1111111111111111,
              "#46039f"
             ],
             [
              0.2222222222222222,
              "#7201a8"
             ],
             [
              0.3333333333333333,
              "#9c179e"
             ],
             [
              0.4444444444444444,
              "#bd3786"
             ],
             [
              0.5555555555555556,
              "#d8576b"
             ],
             [
              0.6666666666666666,
              "#ed7953"
             ],
             [
              0.7777777777777778,
              "#fb9f3a"
             ],
             [
              0.8888888888888888,
              "#fdca26"
             ],
             [
              1,
              "#f0f921"
             ]
            ],
            "type": "surface"
           }
          ],
          "table": [
           {
            "cells": {
             "fill": {
              "color": "#EBF0F8"
             },
             "line": {
              "color": "white"
             }
            },
            "header": {
             "fill": {
              "color": "#C8D4E3"
             },
             "line": {
              "color": "white"
             }
            },
            "type": "table"
           }
          ]
         },
         "layout": {
          "annotationdefaults": {
           "arrowcolor": "#2a3f5f",
           "arrowhead": 0,
           "arrowwidth": 1
          },
          "autotypenumbers": "strict",
          "coloraxis": {
           "colorbar": {
            "outlinewidth": 0,
            "ticks": ""
           }
          },
          "colorscale": {
           "diverging": [
            [
             0,
             "#8e0152"
            ],
            [
             0.1,
             "#c51b7d"
            ],
            [
             0.2,
             "#de77ae"
            ],
            [
             0.3,
             "#f1b6da"
            ],
            [
             0.4,
             "#fde0ef"
            ],
            [
             0.5,
             "#f7f7f7"
            ],
            [
             0.6,
             "#e6f5d0"
            ],
            [
             0.7,
             "#b8e186"
            ],
            [
             0.8,
             "#7fbc41"
            ],
            [
             0.9,
             "#4d9221"
            ],
            [
             1,
             "#276419"
            ]
           ],
           "sequential": [
            [
             0,
             "#0d0887"
            ],
            [
             0.1111111111111111,
             "#46039f"
            ],
            [
             0.2222222222222222,
             "#7201a8"
            ],
            [
             0.3333333333333333,
             "#9c179e"
            ],
            [
             0.4444444444444444,
             "#bd3786"
            ],
            [
             0.5555555555555556,
             "#d8576b"
            ],
            [
             0.6666666666666666,
             "#ed7953"
            ],
            [
             0.7777777777777778,
             "#fb9f3a"
            ],
            [
             0.8888888888888888,
             "#fdca26"
            ],
            [
             1,
             "#f0f921"
            ]
           ],
           "sequentialminus": [
            [
             0,
             "#0d0887"
            ],
            [
             0.1111111111111111,
             "#46039f"
            ],
            [
             0.2222222222222222,
             "#7201a8"
            ],
            [
             0.3333333333333333,
             "#9c179e"
            ],
            [
             0.4444444444444444,
             "#bd3786"
            ],
            [
             0.5555555555555556,
             "#d8576b"
            ],
            [
             0.6666666666666666,
             "#ed7953"
            ],
            [
             0.7777777777777778,
             "#fb9f3a"
            ],
            [
             0.8888888888888888,
             "#fdca26"
            ],
            [
             1,
             "#f0f921"
            ]
           ]
          },
          "colorway": [
           "#636efa",
           "#EF553B",
           "#00cc96",
           "#ab63fa",
           "#FFA15A",
           "#19d3f3",
           "#FF6692",
           "#B6E880",
           "#FF97FF",
           "#FECB52"
          ],
          "font": {
           "color": "#2a3f5f"
          },
          "geo": {
           "bgcolor": "white",
           "lakecolor": "white",
           "landcolor": "#E5ECF6",
           "showlakes": true,
           "showland": true,
           "subunitcolor": "white"
          },
          "hoverlabel": {
           "align": "left"
          },
          "hovermode": "closest",
          "mapbox": {
           "style": "light"
          },
          "paper_bgcolor": "white",
          "plot_bgcolor": "#E5ECF6",
          "polar": {
           "angularaxis": {
            "gridcolor": "white",
            "linecolor": "white",
            "ticks": ""
           },
           "bgcolor": "#E5ECF6",
           "radialaxis": {
            "gridcolor": "white",
            "linecolor": "white",
            "ticks": ""
           }
          },
          "scene": {
           "xaxis": {
            "backgroundcolor": "#E5ECF6",
            "gridcolor": "white",
            "gridwidth": 2,
            "linecolor": "white",
            "showbackground": true,
            "ticks": "",
            "zerolinecolor": "white"
           },
           "yaxis": {
            "backgroundcolor": "#E5ECF6",
            "gridcolor": "white",
            "gridwidth": 2,
            "linecolor": "white",
            "showbackground": true,
            "ticks": "",
            "zerolinecolor": "white"
           },
           "zaxis": {
            "backgroundcolor": "#E5ECF6",
            "gridcolor": "white",
            "gridwidth": 2,
            "linecolor": "white",
            "showbackground": true,
            "ticks": "",
            "zerolinecolor": "white"
           }
          },
          "shapedefaults": {
           "line": {
            "color": "#2a3f5f"
           }
          },
          "ternary": {
           "aaxis": {
            "gridcolor": "white",
            "linecolor": "white",
            "ticks": ""
           },
           "baxis": {
            "gridcolor": "white",
            "linecolor": "white",
            "ticks": ""
           },
           "bgcolor": "#E5ECF6",
           "caxis": {
            "gridcolor": "white",
            "linecolor": "white",
            "ticks": ""
           }
          },
          "title": {
           "x": 0.05
          },
          "xaxis": {
           "automargin": true,
           "gridcolor": "white",
           "linecolor": "white",
           "ticks": "",
           "title": {
            "standoff": 15
           },
           "zerolinecolor": "white",
           "zerolinewidth": 2
          },
          "yaxis": {
           "automargin": true,
           "gridcolor": "white",
           "linecolor": "white",
           "ticks": "",
           "title": {
            "standoff": 15
           },
           "zerolinecolor": "white",
           "zerolinewidth": 2
          }
         }
        },
        "width": 500,
        "xaxis": {
         "autorange": false,
         "exponentformat": "e",
         "linecolor": "black",
         "linewidth": 1,
         "mirror": false,
         "range": [
          -0.022476508617401122,
          1.1463019394874572
         ],
         "showexponent": "all",
         "showline": true,
         "side": "bottom",
         "ticks": "outside",
         "title": {
          "text": "Birth"
         },
         "type": "linear",
         "zeroline": true
        },
        "yaxis": {
         "autorange": false,
         "exponentformat": "e",
         "linecolor": "black",
         "linewidth": 1,
         "mirror": false,
         "range": [
          -0.022476508617401122,
          1.1463019394874572
         ],
         "scaleanchor": "x",
         "scaleratio": 1,
         "showexponent": "all",
         "showline": true,
         "side": "left",
         "ticks": "outside",
         "title": {
          "text": "Death"
         },
         "type": "linear",
         "zeroline": true
        }
       }
      }
     },
     "metadata": {},
     "output_type": "display_data"
    }
   ],
   "source": [
    "vr.plot(diagrams, sample = 1)"
   ]
  },
  {
   "cell_type": "code",
   "execution_count": null,
   "metadata": {},
   "outputs": [],
   "source": []
  },
  {
   "cell_type": "code",
   "execution_count": null,
   "metadata": {},
   "outputs": [],
   "source": []
  }
 ],
 "metadata": {
  "kernelspec": {
   "display_name": "base",
   "language": "python",
   "name": "python3"
  },
  "language_info": {
   "codemirror_mode": {
    "name": "ipython",
    "version": 3
   },
   "file_extension": ".py",
   "mimetype": "text/x-python",
   "name": "python",
   "nbconvert_exporter": "python",
   "pygments_lexer": "ipython3",
   "version": "3.9.7"
  },
  "orig_nbformat": 4
 },
 "nbformat": 4,
 "nbformat_minor": 2
}
