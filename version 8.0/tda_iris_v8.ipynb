{
 "cells": [
  {
   "attachments": {},
   "cell_type": "markdown",
   "metadata": {},
   "source": [
    "# Project Laboratory - Topological Data Analysis\n",
    "Final Version 8.0\n",
    "\n",
    "Students:\n",
    "* Holger Espinola\n",
    "* Li Siyuan\n",
    "\n",
    "Dataset: Iris\n",
    "\n",
    "Task 02:\n",
    "- Construction of simplicial complexes and their invariants \n",
    "- Persistence diagrams,\n",
    "  finding metrics (Wasserstein, bottleneck) \n",
    "- Classification of obtained metrics in any programming language, \n",
    "  you can use any packages"
   ]
  },
  {
   "attachments": {},
   "cell_type": "markdown",
   "metadata": {},
   "source": [
    "Installing package giotto-tda"
   ]
  },
  {
   "cell_type": "code",
   "execution_count": 1,
   "metadata": {},
   "outputs": [
    {
     "name": "stdout",
     "output_type": "stream",
     "text": [
      "Requirement already satisfied: giotto-tda in c:\\users\\hp\\anaconda3\\lib\\site-packages (0.6.0)\n",
      "Requirement already satisfied: numpy>=1.19.1 in c:\\users\\hp\\anaconda3\\lib\\site-packages (from giotto-tda) (1.20.3)\n",
      "Requirement already satisfied: scipy>=1.5.0 in c:\\users\\hp\\anaconda3\\lib\\site-packages (from giotto-tda) (1.7.1)\n",
      "Requirement already satisfied: joblib>=0.16.0 in c:\\users\\hp\\anaconda3\\lib\\site-packages (from giotto-tda) (1.1.0)\n",
      "Requirement already satisfied: scikit-learn>=0.23.1 in c:\\users\\hp\\anaconda3\\lib\\site-packages (from giotto-tda) (0.24.2)\n",
      "Requirement already satisfied: giotto-ph>=0.2.1 in c:\\users\\hp\\anaconda3\\lib\\site-packages (from giotto-tda) (0.2.2)\n",
      "Requirement already satisfied: pyflagser>=0.4.3 in c:\\users\\hp\\anaconda3\\lib\\site-packages (from giotto-tda) (0.4.5)\n",
      "Requirement already satisfied: igraph>=0.9.8 in c:\\users\\hp\\anaconda3\\lib\\site-packages (from giotto-tda) (0.10.4)\n",
      "Requirement already satisfied: plotly>=4.8.2 in c:\\users\\hp\\anaconda3\\lib\\site-packages (from giotto-tda) (5.14.1)\n",
      "Requirement already satisfied: ipywidgets>=7.5.1 in c:\\users\\hp\\anaconda3\\lib\\site-packages (from giotto-tda) (7.6.5)\n",
      "Requirement already satisfied: texttable>=1.6.2 in c:\\users\\hp\\anaconda3\\lib\\site-packages (from igraph>=0.9.8->giotto-tda) (1.6.7)\n",
      "Requirement already satisfied: ipykernel>=4.5.1 in c:\\users\\hp\\anaconda3\\lib\\site-packages (from ipywidgets>=7.5.1->giotto-tda) (6.4.1)\n",
      "Requirement already satisfied: ipython-genutils~=0.2.0 in c:\\users\\hp\\anaconda3\\lib\\site-packages (from ipywidgets>=7.5.1->giotto-tda) (0.2.0)\n",
      "Requirement already satisfied: traitlets>=4.3.1 in c:\\users\\hp\\anaconda3\\lib\\site-packages (from ipywidgets>=7.5.1->giotto-tda) (5.1.0)\n",
      "Requirement already satisfied: nbformat>=4.2.0 in c:\\users\\hp\\anaconda3\\lib\\site-packages (from ipywidgets>=7.5.1->giotto-tda) (5.1.3)\n",
      "Requirement already satisfied: widgetsnbextension~=3.5.0 in c:\\users\\hp\\anaconda3\\lib\\site-packages (from ipywidgets>=7.5.1->giotto-tda) (3.5.1)\n",
      "Requirement already satisfied: ipython>=4.0.0 in c:\\users\\hp\\anaconda3\\lib\\site-packages (from ipywidgets>=7.5.1->giotto-tda) (7.29.0)\n",
      "Requirement already satisfied: jupyterlab-widgets>=1.0.0 in c:\\users\\hp\\anaconda3\\lib\\site-packages (from ipywidgets>=7.5.1->giotto-tda) (1.0.0)\n",
      "Requirement already satisfied: tenacity>=6.2.0 in c:\\users\\hp\\anaconda3\\lib\\site-packages (from plotly>=4.8.2->giotto-tda) (8.2.2)\n",
      "Requirement already satisfied: packaging in c:\\users\\hp\\anaconda3\\lib\\site-packages (from plotly>=4.8.2->giotto-tda) (21.0)\n",
      "Requirement already satisfied: threadpoolctl>=2.0.0 in c:\\users\\hp\\anaconda3\\lib\\site-packages (from scikit-learn>=0.23.1->giotto-tda) (2.2.0)\n",
      "Requirement already satisfied: debugpy<2.0,>=1.0.0 in c:\\users\\hp\\anaconda3\\lib\\site-packages (from ipykernel>=4.5.1->ipywidgets>=7.5.1->giotto-tda) (1.4.1)\n",
      "Requirement already satisfied: jupyter-client<8.0 in c:\\users\\hp\\anaconda3\\lib\\site-packages (from ipykernel>=4.5.1->ipywidgets>=7.5.1->giotto-tda) (6.1.12)\n",
      "Requirement already satisfied: tornado<7.0,>=4.2 in c:\\users\\hp\\anaconda3\\lib\\site-packages (from ipykernel>=4.5.1->ipywidgets>=7.5.1->giotto-tda) (6.1)\n",
      "Requirement already satisfied: matplotlib-inline<0.2.0,>=0.1.0 in c:\\users\\hp\\anaconda3\\lib\\site-packages (from ipykernel>=4.5.1->ipywidgets>=7.5.1->giotto-tda) (0.1.2)\n",
      "Requirement already satisfied: setuptools>=18.5 in c:\\users\\hp\\anaconda3\\lib\\site-packages (from ipython>=4.0.0->ipywidgets>=7.5.1->giotto-tda) (58.0.4)\n",
      "Requirement already satisfied: jedi>=0.16 in c:\\users\\hp\\anaconda3\\lib\\site-packages (from ipython>=4.0.0->ipywidgets>=7.5.1->giotto-tda) (0.18.0)\n",
      "Requirement already satisfied: decorator in c:\\users\\hp\\anaconda3\\lib\\site-packages (from ipython>=4.0.0->ipywidgets>=7.5.1->giotto-tda) (5.1.0)\n",
      "Requirement already satisfied: pickleshare in c:\\users\\hp\\anaconda3\\lib\\site-packages (from ipython>=4.0.0->ipywidgets>=7.5.1->giotto-tda) (0.7.5)\n",
      "Requirement already satisfied: prompt-toolkit!=3.0.0,!=3.0.1,<3.1.0,>=2.0.0 in c:\\users\\hp\\anaconda3\\lib\\site-packages (from ipython>=4.0.0->ipywidgets>=7.5.1->giotto-tda) (3.0.20)\n",
      "Requirement already satisfied: pygments in c:\\users\\hp\\anaconda3\\lib\\site-packages (from ipython>=4.0.0->ipywidgets>=7.5.1->giotto-tda) (2.10.0)\n",
      "Requirement already satisfied: backcall in c:\\users\\hp\\anaconda3\\lib\\site-packages (from ipython>=4.0.0->ipywidgets>=7.5.1->giotto-tda) (0.2.0)\n",
      "Requirement already satisfied: colorama in c:\\users\\hp\\anaconda3\\lib\\site-packages (from ipython>=4.0.0->ipywidgets>=7.5.1->giotto-tda) (0.4.4)\n",
      "Requirement already satisfied: jsonschema!=2.5.0,>=2.4 in c:\\users\\hp\\anaconda3\\lib\\site-packages (from nbformat>=4.2.0->ipywidgets>=7.5.1->giotto-tda) (3.2.0)\n",
      "Requirement already satisfied: jupyter-core in c:\\users\\hp\\anaconda3\\lib\\site-packages (from nbformat>=4.2.0->ipywidgets>=7.5.1->giotto-tda) (4.8.1)\n",
      "Requirement already satisfied: notebook>=4.4.1 in c:\\users\\hp\\anaconda3\\lib\\site-packages (from widgetsnbextension~=3.5.0->ipywidgets>=7.5.1->giotto-tda) (6.4.5)\n",
      "Requirement already satisfied: pyparsing>=2.0.2 in c:\\users\\hp\\anaconda3\\lib\\site-packages (from packaging->plotly>=4.8.2->giotto-tda) (3.0.4)\n",
      "Requirement already satisfied: parso<0.9.0,>=0.8.0 in c:\\users\\hp\\anaconda3\\lib\\site-packages (from jedi>=0.16->ipython>=4.0.0->ipywidgets>=7.5.1->giotto-tda) (0.8.2)\n",
      "Requirement already satisfied: attrs>=17.4.0 in c:\\users\\hp\\anaconda3\\lib\\site-packages (from jsonschema!=2.5.0,>=2.4->nbformat>=4.2.0->ipywidgets>=7.5.1->giotto-tda) (21.2.0)\n",
      "Requirement already satisfied: pyrsistent>=0.14.0 in c:\\users\\hp\\anaconda3\\lib\\site-packages (from jsonschema!=2.5.0,>=2.4->nbformat>=4.2.0->ipywidgets>=7.5.1->giotto-tda) (0.18.0)\n",
      "Requirement already satisfied: six>=1.11.0 in c:\\users\\hp\\anaconda3\\lib\\site-packages (from jsonschema!=2.5.0,>=2.4->nbformat>=4.2.0->ipywidgets>=7.5.1->giotto-tda) (1.16.0)\n",
      "Requirement already satisfied: pyzmq>=13 in c:\\users\\hp\\anaconda3\\lib\\site-packages (from jupyter-client<8.0->ipykernel>=4.5.1->ipywidgets>=7.5.1->giotto-tda) (22.2.1)\n",
      "Requirement already satisfied: python-dateutil>=2.1 in c:\\users\\hp\\anaconda3\\lib\\site-packages (from jupyter-client<8.0->ipykernel>=4.5.1->ipywidgets>=7.5.1->giotto-tda) (2.8.2)\n",
      "Requirement already satisfied: pywin32>=1.0 in c:\\users\\hp\\anaconda3\\lib\\site-packages (from jupyter-core->nbformat>=4.2.0->ipywidgets>=7.5.1->giotto-tda) (228)\n",
      "Requirement already satisfied: jinja2 in c:\\users\\hp\\anaconda3\\lib\\site-packages (from notebook>=4.4.1->widgetsnbextension~=3.5.0->ipywidgets>=7.5.1->giotto-tda) (2.11.3)\n",
      "Requirement already satisfied: argon2-cffi in c:\\users\\hp\\anaconda3\\lib\\site-packages (from notebook>=4.4.1->widgetsnbextension~=3.5.0->ipywidgets>=7.5.1->giotto-tda) (20.1.0)\n",
      "Requirement already satisfied: nbconvert in c:\\users\\hp\\anaconda3\\lib\\site-packages (from notebook>=4.4.1->widgetsnbextension~=3.5.0->ipywidgets>=7.5.1->giotto-tda) (6.1.0)\n",
      "Requirement already satisfied: Send2Trash>=1.5.0 in c:\\users\\hp\\anaconda3\\lib\\site-packages (from notebook>=4.4.1->widgetsnbextension~=3.5.0->ipywidgets>=7.5.1->giotto-tda) (1.8.0)\n",
      "Requirement already satisfied: terminado>=0.8.3 in c:\\users\\hp\\anaconda3\\lib\\site-packages (from notebook>=4.4.1->widgetsnbextension~=3.5.0->ipywidgets>=7.5.1->giotto-tda) (0.9.4)\n",
      "Requirement already satisfied: prometheus-client in c:\\users\\hp\\anaconda3\\lib\\site-packages (from notebook>=4.4.1->widgetsnbextension~=3.5.0->ipywidgets>=7.5.1->giotto-tda) (0.11.0)\n",
      "Requirement already satisfied: wcwidth in c:\\users\\hp\\anaconda3\\lib\\site-packages (from prompt-toolkit!=3.0.0,!=3.0.1,<3.1.0,>=2.0.0->ipython>=4.0.0->ipywidgets>=7.5.1->giotto-tda) (0.2.5)\n",
      "Requirement already satisfied: pywinpty>=0.5 in c:\\users\\hp\\anaconda3\\lib\\site-packages (from terminado>=0.8.3->notebook>=4.4.1->widgetsnbextension~=3.5.0->ipywidgets>=7.5.1->giotto-tda) (0.5.7)\n",
      "Requirement already satisfied: cffi>=1.0.0 in c:\\users\\hp\\anaconda3\\lib\\site-packages (from argon2-cffi->notebook>=4.4.1->widgetsnbextension~=3.5.0->ipywidgets>=7.5.1->giotto-tda) (1.14.6)\n",
      "Requirement already satisfied: MarkupSafe>=0.23 in c:\\users\\hp\\anaconda3\\lib\\site-packages (from jinja2->notebook>=4.4.1->widgetsnbextension~=3.5.0->ipywidgets>=7.5.1->giotto-tda) (1.1.1)\n",
      "Requirement already satisfied: mistune<2,>=0.8.1 in c:\\users\\hp\\anaconda3\\lib\\site-packages (from nbconvert->notebook>=4.4.1->widgetsnbextension~=3.5.0->ipywidgets>=7.5.1->giotto-tda) (0.8.4)\n",
      "Requirement already satisfied: jupyterlab-pygments in c:\\users\\hp\\anaconda3\\lib\\site-packages (from nbconvert->notebook>=4.4.1->widgetsnbextension~=3.5.0->ipywidgets>=7.5.1->giotto-tda) (0.1.2)\n",
      "Requirement already satisfied: entrypoints>=0.2.2 in c:\\users\\hp\\anaconda3\\lib\\site-packages (from nbconvert->notebook>=4.4.1->widgetsnbextension~=3.5.0->ipywidgets>=7.5.1->giotto-tda) (0.3)\n",
      "Requirement already satisfied: bleach in c:\\users\\hp\\anaconda3\\lib\\site-packages (from nbconvert->notebook>=4.4.1->widgetsnbextension~=3.5.0->ipywidgets>=7.5.1->giotto-tda) (4.0.0)\n",
      "Requirement already satisfied: pandocfilters>=1.4.1 in c:\\users\\hp\\anaconda3\\lib\\site-packages (from nbconvert->notebook>=4.4.1->widgetsnbextension~=3.5.0->ipywidgets>=7.5.1->giotto-tda) (1.4.3)\n",
      "Requirement already satisfied: testpath in c:\\users\\hp\\anaconda3\\lib\\site-packages (from nbconvert->notebook>=4.4.1->widgetsnbextension~=3.5.0->ipywidgets>=7.5.1->giotto-tda) (0.5.0)\n",
      "Requirement already satisfied: defusedxml in c:\\users\\hp\\anaconda3\\lib\\site-packages (from nbconvert->notebook>=4.4.1->widgetsnbextension~=3.5.0->ipywidgets>=7.5.1->giotto-tda) (0.7.1)\n",
      "Requirement already satisfied: nbclient<0.6.0,>=0.5.0 in c:\\users\\hp\\anaconda3\\lib\\site-packages (from nbconvert->notebook>=4.4.1->widgetsnbextension~=3.5.0->ipywidgets>=7.5.1->giotto-tda) (0.5.3)\n",
      "Requirement already satisfied: pycparser in c:\\users\\hp\\anaconda3\\lib\\site-packages (from cffi>=1.0.0->argon2-cffi->notebook>=4.4.1->widgetsnbextension~=3.5.0->ipywidgets>=7.5.1->giotto-tda) (2.20)\n",
      "Requirement already satisfied: async-generator in c:\\users\\hp\\anaconda3\\lib\\site-packages (from nbclient<0.6.0,>=0.5.0->nbconvert->notebook>=4.4.1->widgetsnbextension~=3.5.0->ipywidgets>=7.5.1->giotto-tda) (1.10)\n",
      "Requirement already satisfied: nest-asyncio in c:\\users\\hp\\anaconda3\\lib\\site-packages (from nbclient<0.6.0,>=0.5.0->nbconvert->notebook>=4.4.1->widgetsnbextension~=3.5.0->ipywidgets>=7.5.1->giotto-tda) (1.5.1)\n",
      "Requirement already satisfied: webencodings in c:\\users\\hp\\anaconda3\\lib\\site-packages (from bleach->nbconvert->notebook>=4.4.1->widgetsnbextension~=3.5.0->ipywidgets>=7.5.1->giotto-tda) (0.5.1)\n"
     ]
    }
   ],
   "source": [
    "# install library giotto-tda\n",
    "import sys\n",
    "!{sys.executable} -m pip install -U giotto-tda"
   ]
  },
  {
   "attachments": {},
   "cell_type": "markdown",
   "metadata": {},
   "source": [
    "Preprocessing of data"
   ]
  },
  {
   "cell_type": "code",
   "execution_count": 1,
   "metadata": {},
   "outputs": [
    {
     "name": "stdout",
     "output_type": "stream",
     "text": [
      "X:  [[5.1 3.5 1.4 0.2]\n",
      " [4.9 3.  1.4 0.2]\n",
      " [4.7 3.2 1.3 0.2]\n",
      " [4.6 3.1 1.5 0.2]\n",
      " [5.  3.6 1.4 0.2]\n",
      " [5.4 3.9 1.7 0.4]\n",
      " [4.6 3.4 1.4 0.3]\n",
      " [5.  3.4 1.5 0.2]\n",
      " [4.4 2.9 1.4 0.2]\n",
      " [4.9 3.1 1.5 0.1]]\n",
      "Y:  [0 0 0 0 0 0 0 0 0 0]\n"
     ]
    }
   ],
   "source": [
    "# load the dataset\n",
    "from sklearn.datasets import load_iris\n",
    "\n",
    "# load iris dataset \n",
    "x, y = load_iris(return_X_y = True)\n",
    "\n",
    "# show the first 10 points\n",
    "print(\"X: \", x[:10])\n",
    "print(\"Y: \", y[:10])"
   ]
  },
  {
   "cell_type": "code",
   "execution_count": 2,
   "metadata": {},
   "outputs": [
    {
     "name": "stdout",
     "output_type": "stream",
     "text": [
      "dim x =  (150, 4)\n",
      "dim y =  (150,)\n"
     ]
    }
   ],
   "source": [
    "# check the dimensionality of data\n",
    "print(\"dim x = \", x.shape)\n",
    "print(\"dim y = \", y.shape)"
   ]
  },
  {
   "cell_type": "code",
   "execution_count": 3,
   "metadata": {},
   "outputs": [
    {
     "data": {
      "application/vnd.plotly.v1+json": {
       "config": {
        "plotlyServerURL": "https://plot.ly"
       },
       "data": [
        {
         "marker": {
          "color": [
           0,
           1,
           2,
           3,
           4,
           5,
           6,
           7,
           8,
           9,
           10,
           11,
           12,
           13,
           14,
           15,
           16,
           17,
           18,
           19,
           20,
           21,
           22,
           23,
           24,
           25,
           26,
           27,
           28,
           29,
           30,
           31,
           32,
           33,
           34,
           35,
           36,
           37,
           38,
           39,
           40,
           41,
           42,
           43,
           44,
           45,
           46,
           47,
           48,
           49,
           50,
           51,
           52,
           53,
           54,
           55,
           56,
           57,
           58,
           59,
           60,
           61,
           62,
           63,
           64,
           65,
           66,
           67,
           68,
           69,
           70,
           71,
           72,
           73,
           74,
           75,
           76,
           77,
           78,
           79,
           80,
           81,
           82,
           83,
           84,
           85,
           86,
           87,
           88,
           89,
           90,
           91,
           92,
           93,
           94,
           95,
           96,
           97,
           98,
           99,
           100,
           101,
           102,
           103,
           104,
           105,
           106,
           107,
           108,
           109,
           110,
           111,
           112,
           113,
           114,
           115,
           116,
           117,
           118,
           119,
           120,
           121,
           122,
           123,
           124,
           125,
           126,
           127,
           128,
           129,
           130,
           131,
           132,
           133,
           134,
           135,
           136,
           137,
           138,
           139,
           140,
           141,
           142,
           143,
           144,
           145,
           146,
           147,
           148,
           149
          ],
          "colorscale": [
           [
            0,
            "#440154"
           ],
           [
            0.1111111111111111,
            "#482878"
           ],
           [
            0.2222222222222222,
            "#3e4989"
           ],
           [
            0.3333333333333333,
            "#31688e"
           ],
           [
            0.4444444444444444,
            "#26828e"
           ],
           [
            0.5555555555555556,
            "#1f9e89"
           ],
           [
            0.6666666666666666,
            "#35b779"
           ],
           [
            0.7777777777777778,
            "#6ece58"
           ],
           [
            0.8888888888888888,
            "#b5de2b"
           ],
           [
            1,
            "#fde725"
           ]
          ],
          "opacity": 0.8,
          "size": 4
         },
         "mode": "markers",
         "type": "scatter",
         "x": [
          5.1,
          4.9,
          4.7,
          4.6,
          5,
          5.4,
          4.6,
          5,
          4.4,
          4.9,
          5.4,
          4.8,
          4.8,
          4.3,
          5.8,
          5.7,
          5.4,
          5.1,
          5.7,
          5.1,
          5.4,
          5.1,
          4.6,
          5.1,
          4.8,
          5,
          5,
          5.2,
          5.2,
          4.7,
          4.8,
          5.4,
          5.2,
          5.5,
          4.9,
          5,
          5.5,
          4.9,
          4.4,
          5.1,
          5,
          4.5,
          4.4,
          5,
          5.1,
          4.8,
          5.1,
          4.6,
          5.3,
          5,
          7,
          6.4,
          6.9,
          5.5,
          6.5,
          5.7,
          6.3,
          4.9,
          6.6,
          5.2,
          5,
          5.9,
          6,
          6.1,
          5.6,
          6.7,
          5.6,
          5.8,
          6.2,
          5.6,
          5.9,
          6.1,
          6.3,
          6.1,
          6.4,
          6.6,
          6.8,
          6.7,
          6,
          5.7,
          5.5,
          5.5,
          5.8,
          6,
          5.4,
          6,
          6.7,
          6.3,
          5.6,
          5.5,
          5.5,
          6.1,
          5.8,
          5,
          5.6,
          5.7,
          5.7,
          6.2,
          5.1,
          5.7,
          6.3,
          5.8,
          7.1,
          6.3,
          6.5,
          7.6,
          4.9,
          7.3,
          6.7,
          7.2,
          6.5,
          6.4,
          6.8,
          5.7,
          5.8,
          6.4,
          6.5,
          7.7,
          7.7,
          6,
          6.9,
          5.6,
          7.7,
          6.3,
          6.7,
          7.2,
          6.2,
          6.1,
          6.4,
          7.2,
          7.4,
          7.9,
          6.4,
          6.3,
          6.1,
          7.7,
          6.3,
          6.4,
          6,
          6.9,
          6.7,
          6.9,
          5.8,
          6.8,
          6.7,
          6.7,
          6.3,
          6.5,
          6.2,
          5.9
         ],
         "y": [
          3.5,
          3,
          3.2,
          3.1,
          3.6,
          3.9,
          3.4,
          3.4,
          2.9,
          3.1,
          3.7,
          3.4,
          3,
          3,
          4,
          4.4,
          3.9,
          3.5,
          3.8,
          3.8,
          3.4,
          3.7,
          3.6,
          3.3,
          3.4,
          3,
          3.4,
          3.5,
          3.4,
          3.2,
          3.1,
          3.4,
          4.1,
          4.2,
          3.1,
          3.2,
          3.5,
          3.6,
          3,
          3.4,
          3.5,
          2.3,
          3.2,
          3.5,
          3.8,
          3,
          3.8,
          3.2,
          3.7,
          3.3,
          3.2,
          3.2,
          3.1,
          2.3,
          2.8,
          2.8,
          3.3,
          2.4,
          2.9,
          2.7,
          2,
          3,
          2.2,
          2.9,
          2.9,
          3.1,
          3,
          2.7,
          2.2,
          2.5,
          3.2,
          2.8,
          2.5,
          2.8,
          2.9,
          3,
          2.8,
          3,
          2.9,
          2.6,
          2.4,
          2.4,
          2.7,
          2.7,
          3,
          3.4,
          3.1,
          2.3,
          3,
          2.5,
          2.6,
          3,
          2.6,
          2.3,
          2.7,
          3,
          2.9,
          2.9,
          2.5,
          2.8,
          3.3,
          2.7,
          3,
          2.9,
          3,
          3,
          2.5,
          2.9,
          2.5,
          3.6,
          3.2,
          2.7,
          3,
          2.5,
          2.8,
          3.2,
          3,
          3.8,
          2.6,
          2.2,
          3.2,
          2.8,
          2.8,
          2.7,
          3.3,
          3.2,
          2.8,
          3,
          2.8,
          3,
          2.8,
          3.8,
          2.8,
          2.8,
          2.6,
          3,
          3.4,
          3.1,
          3,
          3.1,
          3.1,
          3.1,
          2.7,
          3.2,
          3.3,
          3,
          2.5,
          3,
          3.4,
          3
         ]
        }
       ],
       "layout": {
        "height": 600,
        "plot_bgcolor": "white",
        "template": {
         "data": {
          "bar": [
           {
            "error_x": {
             "color": "#2a3f5f"
            },
            "error_y": {
             "color": "#2a3f5f"
            },
            "marker": {
             "line": {
              "color": "#E5ECF6",
              "width": 0.5
             },
             "pattern": {
              "fillmode": "overlay",
              "size": 10,
              "solidity": 0.2
             }
            },
            "type": "bar"
           }
          ],
          "barpolar": [
           {
            "marker": {
             "line": {
              "color": "#E5ECF6",
              "width": 0.5
             },
             "pattern": {
              "fillmode": "overlay",
              "size": 10,
              "solidity": 0.2
             }
            },
            "type": "barpolar"
           }
          ],
          "carpet": [
           {
            "aaxis": {
             "endlinecolor": "#2a3f5f",
             "gridcolor": "white",
             "linecolor": "white",
             "minorgridcolor": "white",
             "startlinecolor": "#2a3f5f"
            },
            "baxis": {
             "endlinecolor": "#2a3f5f",
             "gridcolor": "white",
             "linecolor": "white",
             "minorgridcolor": "white",
             "startlinecolor": "#2a3f5f"
            },
            "type": "carpet"
           }
          ],
          "choropleth": [
           {
            "colorbar": {
             "outlinewidth": 0,
             "ticks": ""
            },
            "type": "choropleth"
           }
          ],
          "contour": [
           {
            "colorbar": {
             "outlinewidth": 0,
             "ticks": ""
            },
            "colorscale": [
             [
              0,
              "#0d0887"
             ],
             [
              0.1111111111111111,
              "#46039f"
             ],
             [
              0.2222222222222222,
              "#7201a8"
             ],
             [
              0.3333333333333333,
              "#9c179e"
             ],
             [
              0.4444444444444444,
              "#bd3786"
             ],
             [
              0.5555555555555556,
              "#d8576b"
             ],
             [
              0.6666666666666666,
              "#ed7953"
             ],
             [
              0.7777777777777778,
              "#fb9f3a"
             ],
             [
              0.8888888888888888,
              "#fdca26"
             ],
             [
              1,
              "#f0f921"
             ]
            ],
            "type": "contour"
           }
          ],
          "contourcarpet": [
           {
            "colorbar": {
             "outlinewidth": 0,
             "ticks": ""
            },
            "type": "contourcarpet"
           }
          ],
          "heatmap": [
           {
            "colorbar": {
             "outlinewidth": 0,
             "ticks": ""
            },
            "colorscale": [
             [
              0,
              "#0d0887"
             ],
             [
              0.1111111111111111,
              "#46039f"
             ],
             [
              0.2222222222222222,
              "#7201a8"
             ],
             [
              0.3333333333333333,
              "#9c179e"
             ],
             [
              0.4444444444444444,
              "#bd3786"
             ],
             [
              0.5555555555555556,
              "#d8576b"
             ],
             [
              0.6666666666666666,
              "#ed7953"
             ],
             [
              0.7777777777777778,
              "#fb9f3a"
             ],
             [
              0.8888888888888888,
              "#fdca26"
             ],
             [
              1,
              "#f0f921"
             ]
            ],
            "type": "heatmap"
           }
          ],
          "heatmapgl": [
           {
            "colorbar": {
             "outlinewidth": 0,
             "ticks": ""
            },
            "colorscale": [
             [
              0,
              "#0d0887"
             ],
             [
              0.1111111111111111,
              "#46039f"
             ],
             [
              0.2222222222222222,
              "#7201a8"
             ],
             [
              0.3333333333333333,
              "#9c179e"
             ],
             [
              0.4444444444444444,
              "#bd3786"
             ],
             [
              0.5555555555555556,
              "#d8576b"
             ],
             [
              0.6666666666666666,
              "#ed7953"
             ],
             [
              0.7777777777777778,
              "#fb9f3a"
             ],
             [
              0.8888888888888888,
              "#fdca26"
             ],
             [
              1,
              "#f0f921"
             ]
            ],
            "type": "heatmapgl"
           }
          ],
          "histogram": [
           {
            "marker": {
             "pattern": {
              "fillmode": "overlay",
              "size": 10,
              "solidity": 0.2
             }
            },
            "type": "histogram"
           }
          ],
          "histogram2d": [
           {
            "colorbar": {
             "outlinewidth": 0,
             "ticks": ""
            },
            "colorscale": [
             [
              0,
              "#0d0887"
             ],
             [
              0.1111111111111111,
              "#46039f"
             ],
             [
              0.2222222222222222,
              "#7201a8"
             ],
             [
              0.3333333333333333,
              "#9c179e"
             ],
             [
              0.4444444444444444,
              "#bd3786"
             ],
             [
              0.5555555555555556,
              "#d8576b"
             ],
             [
              0.6666666666666666,
              "#ed7953"
             ],
             [
              0.7777777777777778,
              "#fb9f3a"
             ],
             [
              0.8888888888888888,
              "#fdca26"
             ],
             [
              1,
              "#f0f921"
             ]
            ],
            "type": "histogram2d"
           }
          ],
          "histogram2dcontour": [
           {
            "colorbar": {
             "outlinewidth": 0,
             "ticks": ""
            },
            "colorscale": [
             [
              0,
              "#0d0887"
             ],
             [
              0.1111111111111111,
              "#46039f"
             ],
             [
              0.2222222222222222,
              "#7201a8"
             ],
             [
              0.3333333333333333,
              "#9c179e"
             ],
             [
              0.4444444444444444,
              "#bd3786"
             ],
             [
              0.5555555555555556,
              "#d8576b"
             ],
             [
              0.6666666666666666,
              "#ed7953"
             ],
             [
              0.7777777777777778,
              "#fb9f3a"
             ],
             [
              0.8888888888888888,
              "#fdca26"
             ],
             [
              1,
              "#f0f921"
             ]
            ],
            "type": "histogram2dcontour"
           }
          ],
          "mesh3d": [
           {
            "colorbar": {
             "outlinewidth": 0,
             "ticks": ""
            },
            "type": "mesh3d"
           }
          ],
          "parcoords": [
           {
            "line": {
             "colorbar": {
              "outlinewidth": 0,
              "ticks": ""
             }
            },
            "type": "parcoords"
           }
          ],
          "pie": [
           {
            "automargin": true,
            "type": "pie"
           }
          ],
          "scatter": [
           {
            "fillpattern": {
             "fillmode": "overlay",
             "size": 10,
             "solidity": 0.2
            },
            "type": "scatter"
           }
          ],
          "scatter3d": [
           {
            "line": {
             "colorbar": {
              "outlinewidth": 0,
              "ticks": ""
             }
            },
            "marker": {
             "colorbar": {
              "outlinewidth": 0,
              "ticks": ""
             }
            },
            "type": "scatter3d"
           }
          ],
          "scattercarpet": [
           {
            "marker": {
             "colorbar": {
              "outlinewidth": 0,
              "ticks": ""
             }
            },
            "type": "scattercarpet"
           }
          ],
          "scattergeo": [
           {
            "marker": {
             "colorbar": {
              "outlinewidth": 0,
              "ticks": ""
             }
            },
            "type": "scattergeo"
           }
          ],
          "scattergl": [
           {
            "marker": {
             "colorbar": {
              "outlinewidth": 0,
              "ticks": ""
             }
            },
            "type": "scattergl"
           }
          ],
          "scattermapbox": [
           {
            "marker": {
             "colorbar": {
              "outlinewidth": 0,
              "ticks": ""
             }
            },
            "type": "scattermapbox"
           }
          ],
          "scatterpolar": [
           {
            "marker": {
             "colorbar": {
              "outlinewidth": 0,
              "ticks": ""
             }
            },
            "type": "scatterpolar"
           }
          ],
          "scatterpolargl": [
           {
            "marker": {
             "colorbar": {
              "outlinewidth": 0,
              "ticks": ""
             }
            },
            "type": "scatterpolargl"
           }
          ],
          "scatterternary": [
           {
            "marker": {
             "colorbar": {
              "outlinewidth": 0,
              "ticks": ""
             }
            },
            "type": "scatterternary"
           }
          ],
          "surface": [
           {
            "colorbar": {
             "outlinewidth": 0,
             "ticks": ""
            },
            "colorscale": [
             [
              0,
              "#0d0887"
             ],
             [
              0.1111111111111111,
              "#46039f"
             ],
             [
              0.2222222222222222,
              "#7201a8"
             ],
             [
              0.3333333333333333,
              "#9c179e"
             ],
             [
              0.4444444444444444,
              "#bd3786"
             ],
             [
              0.5555555555555556,
              "#d8576b"
             ],
             [
              0.6666666666666666,
              "#ed7953"
             ],
             [
              0.7777777777777778,
              "#fb9f3a"
             ],
             [
              0.8888888888888888,
              "#fdca26"
             ],
             [
              1,
              "#f0f921"
             ]
            ],
            "type": "surface"
           }
          ],
          "table": [
           {
            "cells": {
             "fill": {
              "color": "#EBF0F8"
             },
             "line": {
              "color": "white"
             }
            },
            "header": {
             "fill": {
              "color": "#C8D4E3"
             },
             "line": {
              "color": "white"
             }
            },
            "type": "table"
           }
          ]
         },
         "layout": {
          "annotationdefaults": {
           "arrowcolor": "#2a3f5f",
           "arrowhead": 0,
           "arrowwidth": 1
          },
          "autotypenumbers": "strict",
          "coloraxis": {
           "colorbar": {
            "outlinewidth": 0,
            "ticks": ""
           }
          },
          "colorscale": {
           "diverging": [
            [
             0,
             "#8e0152"
            ],
            [
             0.1,
             "#c51b7d"
            ],
            [
             0.2,
             "#de77ae"
            ],
            [
             0.3,
             "#f1b6da"
            ],
            [
             0.4,
             "#fde0ef"
            ],
            [
             0.5,
             "#f7f7f7"
            ],
            [
             0.6,
             "#e6f5d0"
            ],
            [
             0.7,
             "#b8e186"
            ],
            [
             0.8,
             "#7fbc41"
            ],
            [
             0.9,
             "#4d9221"
            ],
            [
             1,
             "#276419"
            ]
           ],
           "sequential": [
            [
             0,
             "#0d0887"
            ],
            [
             0.1111111111111111,
             "#46039f"
            ],
            [
             0.2222222222222222,
             "#7201a8"
            ],
            [
             0.3333333333333333,
             "#9c179e"
            ],
            [
             0.4444444444444444,
             "#bd3786"
            ],
            [
             0.5555555555555556,
             "#d8576b"
            ],
            [
             0.6666666666666666,
             "#ed7953"
            ],
            [
             0.7777777777777778,
             "#fb9f3a"
            ],
            [
             0.8888888888888888,
             "#fdca26"
            ],
            [
             1,
             "#f0f921"
            ]
           ],
           "sequentialminus": [
            [
             0,
             "#0d0887"
            ],
            [
             0.1111111111111111,
             "#46039f"
            ],
            [
             0.2222222222222222,
             "#7201a8"
            ],
            [
             0.3333333333333333,
             "#9c179e"
            ],
            [
             0.4444444444444444,
             "#bd3786"
            ],
            [
             0.5555555555555556,
             "#d8576b"
            ],
            [
             0.6666666666666666,
             "#ed7953"
            ],
            [
             0.7777777777777778,
             "#fb9f3a"
            ],
            [
             0.8888888888888888,
             "#fdca26"
            ],
            [
             1,
             "#f0f921"
            ]
           ]
          },
          "colorway": [
           "#636efa",
           "#EF553B",
           "#00cc96",
           "#ab63fa",
           "#FFA15A",
           "#19d3f3",
           "#FF6692",
           "#B6E880",
           "#FF97FF",
           "#FECB52"
          ],
          "font": {
           "color": "#2a3f5f"
          },
          "geo": {
           "bgcolor": "white",
           "lakecolor": "white",
           "landcolor": "#E5ECF6",
           "showlakes": true,
           "showland": true,
           "subunitcolor": "white"
          },
          "hoverlabel": {
           "align": "left"
          },
          "hovermode": "closest",
          "mapbox": {
           "style": "light"
          },
          "paper_bgcolor": "white",
          "plot_bgcolor": "#E5ECF6",
          "polar": {
           "angularaxis": {
            "gridcolor": "white",
            "linecolor": "white",
            "ticks": ""
           },
           "bgcolor": "#E5ECF6",
           "radialaxis": {
            "gridcolor": "white",
            "linecolor": "white",
            "ticks": ""
           }
          },
          "scene": {
           "xaxis": {
            "backgroundcolor": "#E5ECF6",
            "gridcolor": "white",
            "gridwidth": 2,
            "linecolor": "white",
            "showbackground": true,
            "ticks": "",
            "zerolinecolor": "white"
           },
           "yaxis": {
            "backgroundcolor": "#E5ECF6",
            "gridcolor": "white",
            "gridwidth": 2,
            "linecolor": "white",
            "showbackground": true,
            "ticks": "",
            "zerolinecolor": "white"
           },
           "zaxis": {
            "backgroundcolor": "#E5ECF6",
            "gridcolor": "white",
            "gridwidth": 2,
            "linecolor": "white",
            "showbackground": true,
            "ticks": "",
            "zerolinecolor": "white"
           }
          },
          "shapedefaults": {
           "line": {
            "color": "#2a3f5f"
           }
          },
          "ternary": {
           "aaxis": {
            "gridcolor": "white",
            "linecolor": "white",
            "ticks": ""
           },
           "baxis": {
            "gridcolor": "white",
            "linecolor": "white",
            "ticks": ""
           },
           "bgcolor": "#E5ECF6",
           "caxis": {
            "gridcolor": "white",
            "linecolor": "white",
            "ticks": ""
           }
          },
          "title": {
           "x": 0.05
          },
          "xaxis": {
           "automargin": true,
           "gridcolor": "white",
           "linecolor": "white",
           "ticks": "",
           "title": {
            "standoff": 15
           },
           "zerolinecolor": "white",
           "zerolinewidth": 2
          },
          "yaxis": {
           "automargin": true,
           "gridcolor": "white",
           "linecolor": "white",
           "ticks": "",
           "title": {
            "standoff": 15
           },
           "zerolinecolor": "white",
           "zerolinewidth": 2
          }
         }
        },
        "width": 600,
        "xaxis": {
         "anchor": "x",
         "exponentformat": "e",
         "linecolor": "black",
         "linewidth": 1,
         "mirror": false,
         "showexponent": "all",
         "showline": true,
         "side": "bottom",
         "ticks": "outside",
         "title": {
          "text": "0th"
         },
         "type": "linear",
         "zeroline": true
        },
        "yaxis": {
         "anchor": "y",
         "exponentformat": "e",
         "linecolor": "black",
         "linewidth": 1,
         "mirror": false,
         "showexponent": "all",
         "showline": true,
         "side": "left",
         "ticks": "outside",
         "title": {
          "text": "1st"
         },
         "type": "linear",
         "zeroline": true
        }
       }
      }
     },
     "metadata": {},
     "output_type": "display_data"
    }
   ],
   "source": [
    "# exploratory visualization - plot cloud of points\n",
    "from gtda.plotting import plot_point_cloud\n",
    "\n",
    "# for sepal-length and sepal-width\n",
    "plot_point_cloud(x[:, :2])"
   ]
  },
  {
   "cell_type": "code",
   "execution_count": 4,
   "metadata": {},
   "outputs": [
    {
     "data": {
      "application/vnd.plotly.v1+json": {
       "config": {
        "plotlyServerURL": "https://plot.ly"
       },
       "data": [
        {
         "marker": {
          "color": [
           0,
           1,
           2,
           3,
           4,
           5,
           6,
           7,
           8,
           9,
           10,
           11,
           12,
           13,
           14,
           15,
           16,
           17,
           18,
           19,
           20,
           21,
           22,
           23,
           24,
           25,
           26,
           27,
           28,
           29,
           30,
           31,
           32,
           33,
           34,
           35,
           36,
           37,
           38,
           39,
           40,
           41,
           42,
           43,
           44,
           45,
           46,
           47,
           48,
           49,
           50,
           51,
           52,
           53,
           54,
           55,
           56,
           57,
           58,
           59,
           60,
           61,
           62,
           63,
           64,
           65,
           66,
           67,
           68,
           69,
           70,
           71,
           72,
           73,
           74,
           75,
           76,
           77,
           78,
           79,
           80,
           81,
           82,
           83,
           84,
           85,
           86,
           87,
           88,
           89,
           90,
           91,
           92,
           93,
           94,
           95,
           96,
           97,
           98,
           99,
           100,
           101,
           102,
           103,
           104,
           105,
           106,
           107,
           108,
           109,
           110,
           111,
           112,
           113,
           114,
           115,
           116,
           117,
           118,
           119,
           120,
           121,
           122,
           123,
           124,
           125,
           126,
           127,
           128,
           129,
           130,
           131,
           132,
           133,
           134,
           135,
           136,
           137,
           138,
           139,
           140,
           141,
           142,
           143,
           144,
           145,
           146,
           147,
           148,
           149
          ],
          "colorscale": [
           [
            0,
            "#440154"
           ],
           [
            0.1111111111111111,
            "#482878"
           ],
           [
            0.2222222222222222,
            "#3e4989"
           ],
           [
            0.3333333333333333,
            "#31688e"
           ],
           [
            0.4444444444444444,
            "#26828e"
           ],
           [
            0.5555555555555556,
            "#1f9e89"
           ],
           [
            0.6666666666666666,
            "#35b779"
           ],
           [
            0.7777777777777778,
            "#6ece58"
           ],
           [
            0.8888888888888888,
            "#b5de2b"
           ],
           [
            1,
            "#fde725"
           ]
          ],
          "opacity": 0.8,
          "size": 4
         },
         "mode": "markers",
         "type": "scatter",
         "x": [
          1.4,
          1.4,
          1.3,
          1.5,
          1.4,
          1.7,
          1.4,
          1.5,
          1.4,
          1.5,
          1.5,
          1.6,
          1.4,
          1.1,
          1.2,
          1.5,
          1.3,
          1.4,
          1.7,
          1.5,
          1.7,
          1.5,
          1,
          1.7,
          1.9,
          1.6,
          1.6,
          1.5,
          1.4,
          1.6,
          1.6,
          1.5,
          1.5,
          1.4,
          1.5,
          1.2,
          1.3,
          1.4,
          1.3,
          1.5,
          1.3,
          1.3,
          1.3,
          1.6,
          1.9,
          1.4,
          1.6,
          1.4,
          1.5,
          1.4,
          4.7,
          4.5,
          4.9,
          4,
          4.6,
          4.5,
          4.7,
          3.3,
          4.6,
          3.9,
          3.5,
          4.2,
          4,
          4.7,
          3.6,
          4.4,
          4.5,
          4.1,
          4.5,
          3.9,
          4.8,
          4,
          4.9,
          4.7,
          4.3,
          4.4,
          4.8,
          5,
          4.5,
          3.5,
          3.8,
          3.7,
          3.9,
          5.1,
          4.5,
          4.5,
          4.7,
          4.4,
          4.1,
          4,
          4.4,
          4.6,
          4,
          3.3,
          4.2,
          4.2,
          4.2,
          4.3,
          3,
          4.1,
          6,
          5.1,
          5.9,
          5.6,
          5.8,
          6.6,
          4.5,
          6.3,
          5.8,
          6.1,
          5.1,
          5.3,
          5.5,
          5,
          5.1,
          5.3,
          5.5,
          6.7,
          6.9,
          5,
          5.7,
          4.9,
          6.7,
          4.9,
          5.7,
          6,
          4.8,
          4.9,
          5.6,
          5.8,
          6.1,
          6.4,
          5.6,
          5.1,
          5.6,
          6.1,
          5.6,
          5.5,
          4.8,
          5.4,
          5.6,
          5.1,
          5.1,
          5.9,
          5.7,
          5.2,
          5,
          5.2,
          5.4,
          5.1
         ],
         "y": [
          0.2,
          0.2,
          0.2,
          0.2,
          0.2,
          0.4,
          0.3,
          0.2,
          0.2,
          0.1,
          0.2,
          0.2,
          0.1,
          0.1,
          0.2,
          0.4,
          0.4,
          0.3,
          0.3,
          0.3,
          0.2,
          0.4,
          0.2,
          0.5,
          0.2,
          0.2,
          0.4,
          0.2,
          0.2,
          0.2,
          0.2,
          0.4,
          0.1,
          0.2,
          0.2,
          0.2,
          0.2,
          0.1,
          0.2,
          0.2,
          0.3,
          0.3,
          0.2,
          0.6,
          0.4,
          0.3,
          0.2,
          0.2,
          0.2,
          0.2,
          1.4,
          1.5,
          1.5,
          1.3,
          1.5,
          1.3,
          1.6,
          1,
          1.3,
          1.4,
          1,
          1.5,
          1,
          1.4,
          1.3,
          1.4,
          1.5,
          1,
          1.5,
          1.1,
          1.8,
          1.3,
          1.5,
          1.2,
          1.3,
          1.4,
          1.4,
          1.7,
          1.5,
          1,
          1.1,
          1,
          1.2,
          1.6,
          1.5,
          1.6,
          1.5,
          1.3,
          1.3,
          1.3,
          1.2,
          1.4,
          1.2,
          1,
          1.3,
          1.2,
          1.3,
          1.3,
          1.1,
          1.3,
          2.5,
          1.9,
          2.1,
          1.8,
          2.2,
          2.1,
          1.7,
          1.8,
          1.8,
          2.5,
          2,
          1.9,
          2.1,
          2,
          2.4,
          2.3,
          1.8,
          2.2,
          2.3,
          1.5,
          2.3,
          2,
          2,
          1.8,
          2.1,
          1.8,
          1.8,
          1.8,
          2.1,
          1.6,
          1.9,
          2,
          2.2,
          1.5,
          1.4,
          2.3,
          2.4,
          1.8,
          1.8,
          2.1,
          2.4,
          2.3,
          1.9,
          2.3,
          2.5,
          2.3,
          1.9,
          2,
          2.3,
          1.8
         ]
        }
       ],
       "layout": {
        "height": 600,
        "plot_bgcolor": "white",
        "template": {
         "data": {
          "bar": [
           {
            "error_x": {
             "color": "#2a3f5f"
            },
            "error_y": {
             "color": "#2a3f5f"
            },
            "marker": {
             "line": {
              "color": "#E5ECF6",
              "width": 0.5
             },
             "pattern": {
              "fillmode": "overlay",
              "size": 10,
              "solidity": 0.2
             }
            },
            "type": "bar"
           }
          ],
          "barpolar": [
           {
            "marker": {
             "line": {
              "color": "#E5ECF6",
              "width": 0.5
             },
             "pattern": {
              "fillmode": "overlay",
              "size": 10,
              "solidity": 0.2
             }
            },
            "type": "barpolar"
           }
          ],
          "carpet": [
           {
            "aaxis": {
             "endlinecolor": "#2a3f5f",
             "gridcolor": "white",
             "linecolor": "white",
             "minorgridcolor": "white",
             "startlinecolor": "#2a3f5f"
            },
            "baxis": {
             "endlinecolor": "#2a3f5f",
             "gridcolor": "white",
             "linecolor": "white",
             "minorgridcolor": "white",
             "startlinecolor": "#2a3f5f"
            },
            "type": "carpet"
           }
          ],
          "choropleth": [
           {
            "colorbar": {
             "outlinewidth": 0,
             "ticks": ""
            },
            "type": "choropleth"
           }
          ],
          "contour": [
           {
            "colorbar": {
             "outlinewidth": 0,
             "ticks": ""
            },
            "colorscale": [
             [
              0,
              "#0d0887"
             ],
             [
              0.1111111111111111,
              "#46039f"
             ],
             [
              0.2222222222222222,
              "#7201a8"
             ],
             [
              0.3333333333333333,
              "#9c179e"
             ],
             [
              0.4444444444444444,
              "#bd3786"
             ],
             [
              0.5555555555555556,
              "#d8576b"
             ],
             [
              0.6666666666666666,
              "#ed7953"
             ],
             [
              0.7777777777777778,
              "#fb9f3a"
             ],
             [
              0.8888888888888888,
              "#fdca26"
             ],
             [
              1,
              "#f0f921"
             ]
            ],
            "type": "contour"
           }
          ],
          "contourcarpet": [
           {
            "colorbar": {
             "outlinewidth": 0,
             "ticks": ""
            },
            "type": "contourcarpet"
           }
          ],
          "heatmap": [
           {
            "colorbar": {
             "outlinewidth": 0,
             "ticks": ""
            },
            "colorscale": [
             [
              0,
              "#0d0887"
             ],
             [
              0.1111111111111111,
              "#46039f"
             ],
             [
              0.2222222222222222,
              "#7201a8"
             ],
             [
              0.3333333333333333,
              "#9c179e"
             ],
             [
              0.4444444444444444,
              "#bd3786"
             ],
             [
              0.5555555555555556,
              "#d8576b"
             ],
             [
              0.6666666666666666,
              "#ed7953"
             ],
             [
              0.7777777777777778,
              "#fb9f3a"
             ],
             [
              0.8888888888888888,
              "#fdca26"
             ],
             [
              1,
              "#f0f921"
             ]
            ],
            "type": "heatmap"
           }
          ],
          "heatmapgl": [
           {
            "colorbar": {
             "outlinewidth": 0,
             "ticks": ""
            },
            "colorscale": [
             [
              0,
              "#0d0887"
             ],
             [
              0.1111111111111111,
              "#46039f"
             ],
             [
              0.2222222222222222,
              "#7201a8"
             ],
             [
              0.3333333333333333,
              "#9c179e"
             ],
             [
              0.4444444444444444,
              "#bd3786"
             ],
             [
              0.5555555555555556,
              "#d8576b"
             ],
             [
              0.6666666666666666,
              "#ed7953"
             ],
             [
              0.7777777777777778,
              "#fb9f3a"
             ],
             [
              0.8888888888888888,
              "#fdca26"
             ],
             [
              1,
              "#f0f921"
             ]
            ],
            "type": "heatmapgl"
           }
          ],
          "histogram": [
           {
            "marker": {
             "pattern": {
              "fillmode": "overlay",
              "size": 10,
              "solidity": 0.2
             }
            },
            "type": "histogram"
           }
          ],
          "histogram2d": [
           {
            "colorbar": {
             "outlinewidth": 0,
             "ticks": ""
            },
            "colorscale": [
             [
              0,
              "#0d0887"
             ],
             [
              0.1111111111111111,
              "#46039f"
             ],
             [
              0.2222222222222222,
              "#7201a8"
             ],
             [
              0.3333333333333333,
              "#9c179e"
             ],
             [
              0.4444444444444444,
              "#bd3786"
             ],
             [
              0.5555555555555556,
              "#d8576b"
             ],
             [
              0.6666666666666666,
              "#ed7953"
             ],
             [
              0.7777777777777778,
              "#fb9f3a"
             ],
             [
              0.8888888888888888,
              "#fdca26"
             ],
             [
              1,
              "#f0f921"
             ]
            ],
            "type": "histogram2d"
           }
          ],
          "histogram2dcontour": [
           {
            "colorbar": {
             "outlinewidth": 0,
             "ticks": ""
            },
            "colorscale": [
             [
              0,
              "#0d0887"
             ],
             [
              0.1111111111111111,
              "#46039f"
             ],
             [
              0.2222222222222222,
              "#7201a8"
             ],
             [
              0.3333333333333333,
              "#9c179e"
             ],
             [
              0.4444444444444444,
              "#bd3786"
             ],
             [
              0.5555555555555556,
              "#d8576b"
             ],
             [
              0.6666666666666666,
              "#ed7953"
             ],
             [
              0.7777777777777778,
              "#fb9f3a"
             ],
             [
              0.8888888888888888,
              "#fdca26"
             ],
             [
              1,
              "#f0f921"
             ]
            ],
            "type": "histogram2dcontour"
           }
          ],
          "mesh3d": [
           {
            "colorbar": {
             "outlinewidth": 0,
             "ticks": ""
            },
            "type": "mesh3d"
           }
          ],
          "parcoords": [
           {
            "line": {
             "colorbar": {
              "outlinewidth": 0,
              "ticks": ""
             }
            },
            "type": "parcoords"
           }
          ],
          "pie": [
           {
            "automargin": true,
            "type": "pie"
           }
          ],
          "scatter": [
           {
            "fillpattern": {
             "fillmode": "overlay",
             "size": 10,
             "solidity": 0.2
            },
            "type": "scatter"
           }
          ],
          "scatter3d": [
           {
            "line": {
             "colorbar": {
              "outlinewidth": 0,
              "ticks": ""
             }
            },
            "marker": {
             "colorbar": {
              "outlinewidth": 0,
              "ticks": ""
             }
            },
            "type": "scatter3d"
           }
          ],
          "scattercarpet": [
           {
            "marker": {
             "colorbar": {
              "outlinewidth": 0,
              "ticks": ""
             }
            },
            "type": "scattercarpet"
           }
          ],
          "scattergeo": [
           {
            "marker": {
             "colorbar": {
              "outlinewidth": 0,
              "ticks": ""
             }
            },
            "type": "scattergeo"
           }
          ],
          "scattergl": [
           {
            "marker": {
             "colorbar": {
              "outlinewidth": 0,
              "ticks": ""
             }
            },
            "type": "scattergl"
           }
          ],
          "scattermapbox": [
           {
            "marker": {
             "colorbar": {
              "outlinewidth": 0,
              "ticks": ""
             }
            },
            "type": "scattermapbox"
           }
          ],
          "scatterpolar": [
           {
            "marker": {
             "colorbar": {
              "outlinewidth": 0,
              "ticks": ""
             }
            },
            "type": "scatterpolar"
           }
          ],
          "scatterpolargl": [
           {
            "marker": {
             "colorbar": {
              "outlinewidth": 0,
              "ticks": ""
             }
            },
            "type": "scatterpolargl"
           }
          ],
          "scatterternary": [
           {
            "marker": {
             "colorbar": {
              "outlinewidth": 0,
              "ticks": ""
             }
            },
            "type": "scatterternary"
           }
          ],
          "surface": [
           {
            "colorbar": {
             "outlinewidth": 0,
             "ticks": ""
            },
            "colorscale": [
             [
              0,
              "#0d0887"
             ],
             [
              0.1111111111111111,
              "#46039f"
             ],
             [
              0.2222222222222222,
              "#7201a8"
             ],
             [
              0.3333333333333333,
              "#9c179e"
             ],
             [
              0.4444444444444444,
              "#bd3786"
             ],
             [
              0.5555555555555556,
              "#d8576b"
             ],
             [
              0.6666666666666666,
              "#ed7953"
             ],
             [
              0.7777777777777778,
              "#fb9f3a"
             ],
             [
              0.8888888888888888,
              "#fdca26"
             ],
             [
              1,
              "#f0f921"
             ]
            ],
            "type": "surface"
           }
          ],
          "table": [
           {
            "cells": {
             "fill": {
              "color": "#EBF0F8"
             },
             "line": {
              "color": "white"
             }
            },
            "header": {
             "fill": {
              "color": "#C8D4E3"
             },
             "line": {
              "color": "white"
             }
            },
            "type": "table"
           }
          ]
         },
         "layout": {
          "annotationdefaults": {
           "arrowcolor": "#2a3f5f",
           "arrowhead": 0,
           "arrowwidth": 1
          },
          "autotypenumbers": "strict",
          "coloraxis": {
           "colorbar": {
            "outlinewidth": 0,
            "ticks": ""
           }
          },
          "colorscale": {
           "diverging": [
            [
             0,
             "#8e0152"
            ],
            [
             0.1,
             "#c51b7d"
            ],
            [
             0.2,
             "#de77ae"
            ],
            [
             0.3,
             "#f1b6da"
            ],
            [
             0.4,
             "#fde0ef"
            ],
            [
             0.5,
             "#f7f7f7"
            ],
            [
             0.6,
             "#e6f5d0"
            ],
            [
             0.7,
             "#b8e186"
            ],
            [
             0.8,
             "#7fbc41"
            ],
            [
             0.9,
             "#4d9221"
            ],
            [
             1,
             "#276419"
            ]
           ],
           "sequential": [
            [
             0,
             "#0d0887"
            ],
            [
             0.1111111111111111,
             "#46039f"
            ],
            [
             0.2222222222222222,
             "#7201a8"
            ],
            [
             0.3333333333333333,
             "#9c179e"
            ],
            [
             0.4444444444444444,
             "#bd3786"
            ],
            [
             0.5555555555555556,
             "#d8576b"
            ],
            [
             0.6666666666666666,
             "#ed7953"
            ],
            [
             0.7777777777777778,
             "#fb9f3a"
            ],
            [
             0.8888888888888888,
             "#fdca26"
            ],
            [
             1,
             "#f0f921"
            ]
           ],
           "sequentialminus": [
            [
             0,
             "#0d0887"
            ],
            [
             0.1111111111111111,
             "#46039f"
            ],
            [
             0.2222222222222222,
             "#7201a8"
            ],
            [
             0.3333333333333333,
             "#9c179e"
            ],
            [
             0.4444444444444444,
             "#bd3786"
            ],
            [
             0.5555555555555556,
             "#d8576b"
            ],
            [
             0.6666666666666666,
             "#ed7953"
            ],
            [
             0.7777777777777778,
             "#fb9f3a"
            ],
            [
             0.8888888888888888,
             "#fdca26"
            ],
            [
             1,
             "#f0f921"
            ]
           ]
          },
          "colorway": [
           "#636efa",
           "#EF553B",
           "#00cc96",
           "#ab63fa",
           "#FFA15A",
           "#19d3f3",
           "#FF6692",
           "#B6E880",
           "#FF97FF",
           "#FECB52"
          ],
          "font": {
           "color": "#2a3f5f"
          },
          "geo": {
           "bgcolor": "white",
           "lakecolor": "white",
           "landcolor": "#E5ECF6",
           "showlakes": true,
           "showland": true,
           "subunitcolor": "white"
          },
          "hoverlabel": {
           "align": "left"
          },
          "hovermode": "closest",
          "mapbox": {
           "style": "light"
          },
          "paper_bgcolor": "white",
          "plot_bgcolor": "#E5ECF6",
          "polar": {
           "angularaxis": {
            "gridcolor": "white",
            "linecolor": "white",
            "ticks": ""
           },
           "bgcolor": "#E5ECF6",
           "radialaxis": {
            "gridcolor": "white",
            "linecolor": "white",
            "ticks": ""
           }
          },
          "scene": {
           "xaxis": {
            "backgroundcolor": "#E5ECF6",
            "gridcolor": "white",
            "gridwidth": 2,
            "linecolor": "white",
            "showbackground": true,
            "ticks": "",
            "zerolinecolor": "white"
           },
           "yaxis": {
            "backgroundcolor": "#E5ECF6",
            "gridcolor": "white",
            "gridwidth": 2,
            "linecolor": "white",
            "showbackground": true,
            "ticks": "",
            "zerolinecolor": "white"
           },
           "zaxis": {
            "backgroundcolor": "#E5ECF6",
            "gridcolor": "white",
            "gridwidth": 2,
            "linecolor": "white",
            "showbackground": true,
            "ticks": "",
            "zerolinecolor": "white"
           }
          },
          "shapedefaults": {
           "line": {
            "color": "#2a3f5f"
           }
          },
          "ternary": {
           "aaxis": {
            "gridcolor": "white",
            "linecolor": "white",
            "ticks": ""
           },
           "baxis": {
            "gridcolor": "white",
            "linecolor": "white",
            "ticks": ""
           },
           "bgcolor": "#E5ECF6",
           "caxis": {
            "gridcolor": "white",
            "linecolor": "white",
            "ticks": ""
           }
          },
          "title": {
           "x": 0.05
          },
          "xaxis": {
           "automargin": true,
           "gridcolor": "white",
           "linecolor": "white",
           "ticks": "",
           "title": {
            "standoff": 15
           },
           "zerolinecolor": "white",
           "zerolinewidth": 2
          },
          "yaxis": {
           "automargin": true,
           "gridcolor": "white",
           "linecolor": "white",
           "ticks": "",
           "title": {
            "standoff": 15
           },
           "zerolinecolor": "white",
           "zerolinewidth": 2
          }
         }
        },
        "width": 600,
        "xaxis": {
         "anchor": "x",
         "exponentformat": "e",
         "linecolor": "black",
         "linewidth": 1,
         "mirror": false,
         "showexponent": "all",
         "showline": true,
         "side": "bottom",
         "ticks": "outside",
         "title": {
          "text": "0th"
         },
         "type": "linear",
         "zeroline": true
        },
        "yaxis": {
         "anchor": "y",
         "exponentformat": "e",
         "linecolor": "black",
         "linewidth": 1,
         "mirror": false,
         "showexponent": "all",
         "showline": true,
         "side": "left",
         "ticks": "outside",
         "title": {
          "text": "1st"
         },
         "type": "linear",
         "zeroline": true
        }
       }
      }
     },
     "metadata": {},
     "output_type": "display_data"
    }
   ],
   "source": [
    "# for petal-length and petal-width\n",
    "plot_point_cloud(x[:, 2:])"
   ]
  },
  {
   "cell_type": "code",
   "execution_count": 5,
   "metadata": {},
   "outputs": [
    {
     "name": "stdout",
     "output_type": "stream",
     "text": [
      "dim x =  (150, 4, 1)\n"
     ]
    }
   ],
   "source": [
    "# reshape x to have an extra dimension\n",
    "x = x.reshape((x.shape[0], x.shape[1], 1))\n",
    "print(\"dim x = \", x.shape)"
   ]
  },
  {
   "cell_type": "code",
   "execution_count": 6,
   "metadata": {},
   "outputs": [],
   "source": [
    "# split dataset in train-set and test-set\n",
    "from sklearn.model_selection import train_test_split\n",
    "x_train, x_test, y_train, y_test = train_test_split(x, y, random_state = 1, test_size = 0.5)"
   ]
  },
  {
   "attachments": {},
   "cell_type": "markdown",
   "metadata": {},
   "source": [
    "Calculate persistence homology"
   ]
  },
  {
   "cell_type": "code",
   "execution_count": 7,
   "metadata": {},
   "outputs": [],
   "source": [
    "# calculation of persistence homology\n",
    "from gtda.homology import VietorisRipsPersistence\n",
    "\n",
    "persistence_homology = VietorisRipsPersistence(\n",
    "    metric = \"euclidean\",\n",
    "    homology_dimensions = [0, 1]\n",
    ")\n"
   ]
  },
  {
   "cell_type": "code",
   "execution_count": 8,
   "metadata": {},
   "outputs": [
    {
     "name": "stdout",
     "output_type": "stream",
     "text": [
      "[[[0.         1.39999998 0.        ]\n",
      "  [0.         1.60000002 0.        ]\n",
      "  [0.         2.0999999  0.        ]\n",
      "  [0.         0.         1.        ]]\n",
      "\n",
      " [[0.         1.         0.        ]\n",
      "  [0.         1.20000005 0.        ]\n",
      "  [0.         2.5        0.        ]\n",
      "  [0.         0.         1.        ]]\n",
      "\n",
      " [[0.         1.         0.        ]\n",
      "  [0.         1.29999995 0.        ]\n",
      "  [0.         1.70000005 0.        ]\n",
      "  [0.         0.         1.        ]]\n",
      "\n",
      " [[0.         0.30000001 0.        ]\n",
      "  [0.         0.80000001 0.        ]\n",
      "  [0.         2.70000005 0.        ]\n",
      "  [0.         0.         1.        ]]\n",
      "\n",
      " [[0.         1.20000005 0.        ]\n",
      "  [0.         1.5        0.        ]\n",
      "  [0.         1.5        0.        ]\n",
      "  [0.         0.         1.        ]]\n",
      "\n",
      " [[0.         1.29999995 0.        ]\n",
      "  [0.         1.70000005 0.        ]\n",
      "  [0.         2.20000005 0.        ]\n",
      "  [0.         0.         1.        ]]\n",
      "\n",
      " [[0.         1.29999995 0.        ]\n",
      "  [0.         1.60000002 0.        ]\n",
      "  [0.         1.79999995 0.        ]\n",
      "  [0.         0.         1.        ]]\n",
      "\n",
      " [[0.         1.10000002 0.        ]\n",
      "  [0.         1.39999998 0.        ]\n",
      "  [0.         2.5999999  0.        ]\n",
      "  [0.         0.         1.        ]]\n",
      "\n",
      " [[0.         1.         0.        ]\n",
      "  [0.         1.20000005 0.        ]\n",
      "  [0.         2.4000001  0.        ]\n",
      "  [0.         0.         1.        ]]\n",
      "\n",
      " [[0.         1.10000002 0.        ]\n",
      "  [0.         1.39999998 0.        ]\n",
      "  [0.         1.70000005 0.        ]\n",
      "  [0.         0.         1.        ]]\n",
      "\n",
      " [[0.         0.89999998 0.        ]\n",
      "  [0.         1.10000002 0.        ]\n",
      "  [0.         2.4000001  0.        ]\n",
      "  [0.         0.         1.        ]]\n",
      "\n",
      " [[0.         0.80000001 0.        ]\n",
      "  [0.         1.10000002 0.        ]\n",
      "  [0.         2.5999999  0.        ]\n",
      "  [0.         0.         1.        ]]\n",
      "\n",
      " [[0.         0.80000001 0.        ]\n",
      "  [0.         1.20000005 0.        ]\n",
      "  [0.         2.0999999  0.        ]\n",
      "  [0.         0.         1.        ]]\n",
      "\n",
      " [[0.         1.29999995 0.        ]\n",
      "  [0.         1.70000005 0.        ]\n",
      "  [0.         2.         0.        ]\n",
      "  [0.         0.         1.        ]]\n",
      "\n",
      " [[0.         1.20000005 0.        ]\n",
      "  [0.         1.60000002 0.        ]\n",
      "  [0.         1.79999995 0.        ]\n",
      "  [0.         0.         1.        ]]\n",
      "\n",
      " [[0.         1.39999998 0.        ]\n",
      "  [0.         1.70000005 0.        ]\n",
      "  [0.         1.70000005 0.        ]\n",
      "  [0.         0.         1.        ]]\n",
      "\n",
      " [[0.         1.39999998 0.        ]\n",
      "  [0.         1.60000002 0.        ]\n",
      "  [0.         1.79999995 0.        ]\n",
      "  [0.         0.         1.        ]]\n",
      "\n",
      " [[0.         0.89999998 0.        ]\n",
      "  [0.         1.29999995 0.        ]\n",
      "  [0.         3.29999995 0.        ]\n",
      "  [0.         0.         1.        ]]\n",
      "\n",
      " [[0.         1.39999998 0.        ]\n",
      "  [0.         1.60000002 0.        ]\n",
      "  [0.         1.89999998 0.        ]\n",
      "  [0.         0.         1.        ]]\n",
      "\n",
      " [[0.         0.89999998 0.        ]\n",
      "  [0.         1.         0.        ]\n",
      "  [0.         3.5999999  0.        ]\n",
      "  [0.         0.         1.        ]]\n",
      "\n",
      " [[0.         0.69999999 0.        ]\n",
      "  [0.         1.5        0.        ]\n",
      "  [0.         2.20000005 0.        ]\n",
      "  [0.         0.         1.        ]]\n",
      "\n",
      " [[0.         1.         0.        ]\n",
      "  [0.         1.89999998 0.        ]\n",
      "  [0.         2.0999999  0.        ]\n",
      "  [0.         0.         1.        ]]\n",
      "\n",
      " [[0.         0.80000001 0.        ]\n",
      "  [0.         1.10000002 0.        ]\n",
      "  [0.         2.         0.        ]\n",
      "  [0.         0.         1.        ]]\n",
      "\n",
      " [[0.         1.10000002 0.        ]\n",
      "  [0.         1.10000002 0.        ]\n",
      "  [0.         2.5        0.        ]\n",
      "  [0.         0.         1.        ]]\n",
      "\n",
      " [[0.         0.69999999 0.        ]\n",
      "  [0.         1.60000002 0.        ]\n",
      "  [0.         2.         0.        ]\n",
      "  [0.         0.         1.        ]]\n",
      "\n",
      " [[0.         1.10000002 0.        ]\n",
      "  [0.         1.29999995 0.        ]\n",
      "  [0.         2.9000001  0.        ]\n",
      "  [0.         0.         1.        ]]\n",
      "\n",
      " [[0.         1.20000005 0.        ]\n",
      "  [0.         1.5        0.        ]\n",
      "  [0.         1.89999998 0.        ]\n",
      "  [0.         0.         1.        ]]\n",
      "\n",
      " [[0.         1.         0.        ]\n",
      "  [0.         1.         0.        ]\n",
      "  [0.         2.20000005 0.        ]\n",
      "  [0.         0.         1.        ]]\n",
      "\n",
      " [[0.         1.29999995 0.        ]\n",
      "  [0.         1.39999998 0.        ]\n",
      "  [0.         1.70000005 0.        ]\n",
      "  [0.         0.         1.        ]]\n",
      "\n",
      " [[0.         1.60000002 0.        ]\n",
      "  [0.         1.79999995 0.        ]\n",
      "  [0.         2.         0.        ]\n",
      "  [0.         0.         1.        ]]\n",
      "\n",
      " [[0.         1.20000005 0.        ]\n",
      "  [0.         1.60000002 0.        ]\n",
      "  [0.         1.79999995 0.        ]\n",
      "  [0.         0.         1.        ]]\n",
      "\n",
      " [[0.         1.39999998 0.        ]\n",
      "  [0.         2.         0.        ]\n",
      "  [0.         2.         0.        ]\n",
      "  [0.         0.         1.        ]]\n",
      "\n",
      " [[0.         1.         0.        ]\n",
      "  [0.         1.5        0.        ]\n",
      "  [0.         1.89999998 0.        ]\n",
      "  [0.         0.         1.        ]]\n",
      "\n",
      " [[0.         1.39999998 0.        ]\n",
      "  [0.         1.5        0.        ]\n",
      "  [0.         1.70000005 0.        ]\n",
      "  [0.         0.         1.        ]]\n",
      "\n",
      " [[0.         0.69999999 0.        ]\n",
      "  [0.         1.         0.        ]\n",
      "  [0.         2.20000005 0.        ]\n",
      "  [0.         0.         1.        ]]\n",
      "\n",
      " [[0.         0.69999999 0.        ]\n",
      "  [0.         0.80000001 0.        ]\n",
      "  [0.         2.0999999  0.        ]\n",
      "  [0.         0.         1.        ]]\n",
      "\n",
      " [[0.         0.89999998 0.        ]\n",
      "  [0.         0.89999998 0.        ]\n",
      "  [0.         2.70000005 0.        ]\n",
      "  [0.         0.         1.        ]]\n",
      "\n",
      " [[0.         1.20000005 0.        ]\n",
      "  [0.         1.70000005 0.        ]\n",
      "  [0.         1.89999998 0.        ]\n",
      "  [0.         0.         1.        ]]\n",
      "\n",
      " [[0.         1.10000002 0.        ]\n",
      "  [0.         1.39999998 0.        ]\n",
      "  [0.         2.20000005 0.        ]\n",
      "  [0.         0.         1.        ]]\n",
      "\n",
      " [[0.         1.10000002 0.        ]\n",
      "  [0.         1.39999998 0.        ]\n",
      "  [0.         1.60000002 0.        ]\n",
      "  [0.         0.         1.        ]]\n",
      "\n",
      " [[0.         1.29999995 0.        ]\n",
      "  [0.         1.5        0.        ]\n",
      "  [0.         1.60000002 0.        ]\n",
      "  [0.         0.         1.        ]]\n",
      "\n",
      " [[0.         0.69999999 0.        ]\n",
      "  [0.         0.80000001 0.        ]\n",
      "  [0.         2.4000001  0.        ]\n",
      "  [0.         0.         1.        ]]\n",
      "\n",
      " [[0.         1.39999998 0.        ]\n",
      "  [0.         1.5        0.        ]\n",
      "  [0.         1.70000005 0.        ]\n",
      "  [0.         0.         1.        ]]\n",
      "\n",
      " [[0.         1.         0.        ]\n",
      "  [0.         1.29999995 0.        ]\n",
      "  [0.         2.20000005 0.        ]\n",
      "  [0.         0.         1.        ]]\n",
      "\n",
      " [[0.         0.40000001 0.        ]\n",
      "  [0.         0.80000001 0.        ]\n",
      "  [0.         2.         0.        ]\n",
      "  [0.         0.         1.        ]]\n",
      "\n",
      " [[0.         1.20000005 0.        ]\n",
      "  [0.         1.39999998 0.        ]\n",
      "  [0.         1.79999995 0.        ]\n",
      "  [0.         0.         1.        ]]\n",
      "\n",
      " [[0.         0.89999998 0.        ]\n",
      "  [0.         1.10000002 0.        ]\n",
      "  [0.         2.0999999  0.        ]\n",
      "  [0.         0.         1.        ]]\n",
      "\n",
      " [[0.         1.         0.        ]\n",
      "  [0.         1.29999995 0.        ]\n",
      "  [0.         1.89999998 0.        ]\n",
      "  [0.         0.         1.        ]]\n",
      "\n",
      " [[0.         1.10000002 0.        ]\n",
      "  [0.         1.5        0.        ]\n",
      "  [0.         1.70000005 0.        ]\n",
      "  [0.         0.         1.        ]]\n",
      "\n",
      " [[0.         1.20000005 0.        ]\n",
      "  [0.         1.5        0.        ]\n",
      "  [0.         1.5        0.        ]\n",
      "  [0.         0.         1.        ]]\n",
      "\n",
      " [[0.         1.29999995 0.        ]\n",
      "  [0.         1.39999998 0.        ]\n",
      "  [0.         1.79999995 0.        ]\n",
      "  [0.         0.         1.        ]]\n",
      "\n",
      " [[0.         1.         0.        ]\n",
      "  [0.         1.5        0.        ]\n",
      "  [0.         1.5        0.        ]\n",
      "  [0.         0.         1.        ]]\n",
      "\n",
      " [[0.         1.20000005 0.        ]\n",
      "  [0.         1.60000002 0.        ]\n",
      "  [0.         2.0999999  0.        ]\n",
      "  [0.         0.         1.        ]]\n",
      "\n",
      " [[0.         1.20000005 0.        ]\n",
      "  [0.         1.60000002 0.        ]\n",
      "  [0.         1.89999998 0.        ]\n",
      "  [0.         0.         1.        ]]\n",
      "\n",
      " [[0.         0.89999998 0.        ]\n",
      "  [0.         1.39999998 0.        ]\n",
      "  [0.         1.60000002 0.        ]\n",
      "  [0.         0.         1.        ]]\n",
      "\n",
      " [[0.         0.80000001 0.        ]\n",
      "  [0.         1.         0.        ]\n",
      "  [0.         2.5999999  0.        ]\n",
      "  [0.         0.         1.        ]]\n",
      "\n",
      " [[0.         1.20000005 0.        ]\n",
      "  [0.         1.5        0.        ]\n",
      "  [0.         1.70000005 0.        ]\n",
      "  [0.         0.         1.        ]]\n",
      "\n",
      " [[0.         1.39999998 0.        ]\n",
      "  [0.         1.5        0.        ]\n",
      "  [0.         1.79999995 0.        ]\n",
      "  [0.         0.         1.        ]]\n",
      "\n",
      " [[0.         1.29999995 0.        ]\n",
      "  [0.         1.60000002 0.        ]\n",
      "  [0.         1.89999998 0.        ]\n",
      "  [0.         0.         1.        ]]\n",
      "\n",
      " [[0.         1.60000002 0.        ]\n",
      "  [0.         1.60000002 0.        ]\n",
      "  [0.         2.         0.        ]\n",
      "  [0.         0.         1.        ]]\n",
      "\n",
      " [[0.         1.29999995 0.        ]\n",
      "  [0.         1.5        0.        ]\n",
      "  [0.         1.60000002 0.        ]\n",
      "  [0.         0.         1.        ]]\n",
      "\n",
      " [[0.         0.69999999 0.        ]\n",
      "  [0.         1.70000005 0.        ]\n",
      "  [0.         2.29999995 0.        ]\n",
      "  [0.         0.         1.        ]]\n",
      "\n",
      " [[0.         1.5        0.        ]\n",
      "  [0.         1.79999995 0.        ]\n",
      "  [0.         2.29999995 0.        ]\n",
      "  [0.         0.         1.        ]]\n",
      "\n",
      " [[0.         0.69999999 0.        ]\n",
      "  [0.         0.80000001 0.        ]\n",
      "  [0.         2.4000001  0.        ]\n",
      "  [0.         0.         1.        ]]\n",
      "\n",
      " [[0.         1.5        0.        ]\n",
      "  [0.         1.70000005 0.        ]\n",
      "  [0.         2.         0.        ]\n",
      "  [0.         0.         1.        ]]\n",
      "\n",
      " [[0.         1.39999998 0.        ]\n",
      "  [0.         1.39999998 0.        ]\n",
      "  [0.         2.         0.        ]\n",
      "  [0.         0.         1.        ]]\n",
      "\n",
      " [[0.         0.5        0.        ]\n",
      "  [0.         1.20000005 0.        ]\n",
      "  [0.         3.         0.        ]\n",
      "  [0.         0.         1.        ]]\n",
      "\n",
      " [[0.         1.20000005 0.        ]\n",
      "  [0.         1.5        0.        ]\n",
      "  [0.         2.0999999  0.        ]\n",
      "  [0.         0.         1.        ]]\n",
      "\n",
      " [[0.         1.39999998 0.        ]\n",
      "  [0.         1.39999998 0.        ]\n",
      "  [0.         2.79999995 0.        ]\n",
      "  [0.         0.         1.        ]]\n",
      "\n",
      " [[0.         0.89999998 0.        ]\n",
      "  [0.         1.60000002 0.        ]\n",
      "  [0.         2.20000005 0.        ]\n",
      "  [0.         0.         1.        ]]\n",
      "\n",
      " [[0.         1.20000005 0.        ]\n",
      "  [0.         1.29999995 0.        ]\n",
      "  [0.         2.29999995 0.        ]\n",
      "  [0.         0.         1.        ]]\n",
      "\n",
      " [[0.         0.89999998 0.        ]\n",
      "  [0.         1.29999995 0.        ]\n",
      "  [0.         2.4000001  0.        ]\n",
      "  [0.         0.         1.        ]]\n",
      "\n",
      " [[0.         1.         0.        ]\n",
      "  [0.         1.39999998 0.        ]\n",
      "  [0.         2.4000001  0.        ]\n",
      "  [0.         0.         1.        ]]\n",
      "\n",
      " [[0.         0.69999999 0.        ]\n",
      "  [0.         1.10000002 0.        ]\n",
      "  [0.         2.5        0.        ]\n",
      "  [0.         0.         1.        ]]\n",
      "\n",
      " [[0.         1.29999995 0.        ]\n",
      "  [0.         1.29999995 0.        ]\n",
      "  [0.         2.20000005 0.        ]\n",
      "  [0.         0.         1.        ]]]\n",
      "dim diag-train =  (75, 4, 3)\n"
     ]
    }
   ],
   "source": [
    "# generate the diagrams of persistence for train\n",
    "diagrams_train = persistence_homology.fit_transform(x_train)\n",
    "print(diagrams_train)\n",
    "print(\"dim diag-train = \", diagrams_train.shape)"
   ]
  },
  {
   "cell_type": "code",
   "execution_count": 9,
   "metadata": {},
   "outputs": [
    {
     "data": {
      "application/vnd.plotly.v1+json": {
       "config": {
        "plotlyServerURL": "https://plot.ly"
       },
       "data": [
        {
         "hoverinfo": "none",
         "line": {
          "color": "black",
          "dash": "dash",
          "width": 1
         },
         "mode": "lines",
         "showlegend": false,
         "type": "scatter",
         "x": [
          -0.04199999809265137,
          2.1419999027252197
         ],
         "y": [
          -0.04199999809265137,
          2.1419999027252197
         ]
        },
        {
         "hoverinfo": "text",
         "hovertext": [
          "(0.0, 1.399999976158142)",
          "(0.0, 1.600000023841858)",
          "(0.0, 2.0999999046325684)"
         ],
         "mode": "markers",
         "name": "H0",
         "type": "scatter",
         "x": [
          0,
          0,
          0
         ],
         "y": [
          1.399999976158142,
          1.600000023841858,
          2.0999999046325684
         ]
        },
        {
         "hoverinfo": "text",
         "hovertext": [],
         "mode": "markers",
         "name": "H1",
         "type": "scatter",
         "x": [],
         "y": []
        }
       ],
       "layout": {
        "height": 500,
        "plot_bgcolor": "white",
        "template": {
         "data": {
          "bar": [
           {
            "error_x": {
             "color": "#2a3f5f"
            },
            "error_y": {
             "color": "#2a3f5f"
            },
            "marker": {
             "line": {
              "color": "#E5ECF6",
              "width": 0.5
             },
             "pattern": {
              "fillmode": "overlay",
              "size": 10,
              "solidity": 0.2
             }
            },
            "type": "bar"
           }
          ],
          "barpolar": [
           {
            "marker": {
             "line": {
              "color": "#E5ECF6",
              "width": 0.5
             },
             "pattern": {
              "fillmode": "overlay",
              "size": 10,
              "solidity": 0.2
             }
            },
            "type": "barpolar"
           }
          ],
          "carpet": [
           {
            "aaxis": {
             "endlinecolor": "#2a3f5f",
             "gridcolor": "white",
             "linecolor": "white",
             "minorgridcolor": "white",
             "startlinecolor": "#2a3f5f"
            },
            "baxis": {
             "endlinecolor": "#2a3f5f",
             "gridcolor": "white",
             "linecolor": "white",
             "minorgridcolor": "white",
             "startlinecolor": "#2a3f5f"
            },
            "type": "carpet"
           }
          ],
          "choropleth": [
           {
            "colorbar": {
             "outlinewidth": 0,
             "ticks": ""
            },
            "type": "choropleth"
           }
          ],
          "contour": [
           {
            "colorbar": {
             "outlinewidth": 0,
             "ticks": ""
            },
            "colorscale": [
             [
              0,
              "#0d0887"
             ],
             [
              0.1111111111111111,
              "#46039f"
             ],
             [
              0.2222222222222222,
              "#7201a8"
             ],
             [
              0.3333333333333333,
              "#9c179e"
             ],
             [
              0.4444444444444444,
              "#bd3786"
             ],
             [
              0.5555555555555556,
              "#d8576b"
             ],
             [
              0.6666666666666666,
              "#ed7953"
             ],
             [
              0.7777777777777778,
              "#fb9f3a"
             ],
             [
              0.8888888888888888,
              "#fdca26"
             ],
             [
              1,
              "#f0f921"
             ]
            ],
            "type": "contour"
           }
          ],
          "contourcarpet": [
           {
            "colorbar": {
             "outlinewidth": 0,
             "ticks": ""
            },
            "type": "contourcarpet"
           }
          ],
          "heatmap": [
           {
            "colorbar": {
             "outlinewidth": 0,
             "ticks": ""
            },
            "colorscale": [
             [
              0,
              "#0d0887"
             ],
             [
              0.1111111111111111,
              "#46039f"
             ],
             [
              0.2222222222222222,
              "#7201a8"
             ],
             [
              0.3333333333333333,
              "#9c179e"
             ],
             [
              0.4444444444444444,
              "#bd3786"
             ],
             [
              0.5555555555555556,
              "#d8576b"
             ],
             [
              0.6666666666666666,
              "#ed7953"
             ],
             [
              0.7777777777777778,
              "#fb9f3a"
             ],
             [
              0.8888888888888888,
              "#fdca26"
             ],
             [
              1,
              "#f0f921"
             ]
            ],
            "type": "heatmap"
           }
          ],
          "heatmapgl": [
           {
            "colorbar": {
             "outlinewidth": 0,
             "ticks": ""
            },
            "colorscale": [
             [
              0,
              "#0d0887"
             ],
             [
              0.1111111111111111,
              "#46039f"
             ],
             [
              0.2222222222222222,
              "#7201a8"
             ],
             [
              0.3333333333333333,
              "#9c179e"
             ],
             [
              0.4444444444444444,
              "#bd3786"
             ],
             [
              0.5555555555555556,
              "#d8576b"
             ],
             [
              0.6666666666666666,
              "#ed7953"
             ],
             [
              0.7777777777777778,
              "#fb9f3a"
             ],
             [
              0.8888888888888888,
              "#fdca26"
             ],
             [
              1,
              "#f0f921"
             ]
            ],
            "type": "heatmapgl"
           }
          ],
          "histogram": [
           {
            "marker": {
             "pattern": {
              "fillmode": "overlay",
              "size": 10,
              "solidity": 0.2
             }
            },
            "type": "histogram"
           }
          ],
          "histogram2d": [
           {
            "colorbar": {
             "outlinewidth": 0,
             "ticks": ""
            },
            "colorscale": [
             [
              0,
              "#0d0887"
             ],
             [
              0.1111111111111111,
              "#46039f"
             ],
             [
              0.2222222222222222,
              "#7201a8"
             ],
             [
              0.3333333333333333,
              "#9c179e"
             ],
             [
              0.4444444444444444,
              "#bd3786"
             ],
             [
              0.5555555555555556,
              "#d8576b"
             ],
             [
              0.6666666666666666,
              "#ed7953"
             ],
             [
              0.7777777777777778,
              "#fb9f3a"
             ],
             [
              0.8888888888888888,
              "#fdca26"
             ],
             [
              1,
              "#f0f921"
             ]
            ],
            "type": "histogram2d"
           }
          ],
          "histogram2dcontour": [
           {
            "colorbar": {
             "outlinewidth": 0,
             "ticks": ""
            },
            "colorscale": [
             [
              0,
              "#0d0887"
             ],
             [
              0.1111111111111111,
              "#46039f"
             ],
             [
              0.2222222222222222,
              "#7201a8"
             ],
             [
              0.3333333333333333,
              "#9c179e"
             ],
             [
              0.4444444444444444,
              "#bd3786"
             ],
             [
              0.5555555555555556,
              "#d8576b"
             ],
             [
              0.6666666666666666,
              "#ed7953"
             ],
             [
              0.7777777777777778,
              "#fb9f3a"
             ],
             [
              0.8888888888888888,
              "#fdca26"
             ],
             [
              1,
              "#f0f921"
             ]
            ],
            "type": "histogram2dcontour"
           }
          ],
          "mesh3d": [
           {
            "colorbar": {
             "outlinewidth": 0,
             "ticks": ""
            },
            "type": "mesh3d"
           }
          ],
          "parcoords": [
           {
            "line": {
             "colorbar": {
              "outlinewidth": 0,
              "ticks": ""
             }
            },
            "type": "parcoords"
           }
          ],
          "pie": [
           {
            "automargin": true,
            "type": "pie"
           }
          ],
          "scatter": [
           {
            "fillpattern": {
             "fillmode": "overlay",
             "size": 10,
             "solidity": 0.2
            },
            "type": "scatter"
           }
          ],
          "scatter3d": [
           {
            "line": {
             "colorbar": {
              "outlinewidth": 0,
              "ticks": ""
             }
            },
            "marker": {
             "colorbar": {
              "outlinewidth": 0,
              "ticks": ""
             }
            },
            "type": "scatter3d"
           }
          ],
          "scattercarpet": [
           {
            "marker": {
             "colorbar": {
              "outlinewidth": 0,
              "ticks": ""
             }
            },
            "type": "scattercarpet"
           }
          ],
          "scattergeo": [
           {
            "marker": {
             "colorbar": {
              "outlinewidth": 0,
              "ticks": ""
             }
            },
            "type": "scattergeo"
           }
          ],
          "scattergl": [
           {
            "marker": {
             "colorbar": {
              "outlinewidth": 0,
              "ticks": ""
             }
            },
            "type": "scattergl"
           }
          ],
          "scattermapbox": [
           {
            "marker": {
             "colorbar": {
              "outlinewidth": 0,
              "ticks": ""
             }
            },
            "type": "scattermapbox"
           }
          ],
          "scatterpolar": [
           {
            "marker": {
             "colorbar": {
              "outlinewidth": 0,
              "ticks": ""
             }
            },
            "type": "scatterpolar"
           }
          ],
          "scatterpolargl": [
           {
            "marker": {
             "colorbar": {
              "outlinewidth": 0,
              "ticks": ""
             }
            },
            "type": "scatterpolargl"
           }
          ],
          "scatterternary": [
           {
            "marker": {
             "colorbar": {
              "outlinewidth": 0,
              "ticks": ""
             }
            },
            "type": "scatterternary"
           }
          ],
          "surface": [
           {
            "colorbar": {
             "outlinewidth": 0,
             "ticks": ""
            },
            "colorscale": [
             [
              0,
              "#0d0887"
             ],
             [
              0.1111111111111111,
              "#46039f"
             ],
             [
              0.2222222222222222,
              "#7201a8"
             ],
             [
              0.3333333333333333,
              "#9c179e"
             ],
             [
              0.4444444444444444,
              "#bd3786"
             ],
             [
              0.5555555555555556,
              "#d8576b"
             ],
             [
              0.6666666666666666,
              "#ed7953"
             ],
             [
              0.7777777777777778,
              "#fb9f3a"
             ],
             [
              0.8888888888888888,
              "#fdca26"
             ],
             [
              1,
              "#f0f921"
             ]
            ],
            "type": "surface"
           }
          ],
          "table": [
           {
            "cells": {
             "fill": {
              "color": "#EBF0F8"
             },
             "line": {
              "color": "white"
             }
            },
            "header": {
             "fill": {
              "color": "#C8D4E3"
             },
             "line": {
              "color": "white"
             }
            },
            "type": "table"
           }
          ]
         },
         "layout": {
          "annotationdefaults": {
           "arrowcolor": "#2a3f5f",
           "arrowhead": 0,
           "arrowwidth": 1
          },
          "autotypenumbers": "strict",
          "coloraxis": {
           "colorbar": {
            "outlinewidth": 0,
            "ticks": ""
           }
          },
          "colorscale": {
           "diverging": [
            [
             0,
             "#8e0152"
            ],
            [
             0.1,
             "#c51b7d"
            ],
            [
             0.2,
             "#de77ae"
            ],
            [
             0.3,
             "#f1b6da"
            ],
            [
             0.4,
             "#fde0ef"
            ],
            [
             0.5,
             "#f7f7f7"
            ],
            [
             0.6,
             "#e6f5d0"
            ],
            [
             0.7,
             "#b8e186"
            ],
            [
             0.8,
             "#7fbc41"
            ],
            [
             0.9,
             "#4d9221"
            ],
            [
             1,
             "#276419"
            ]
           ],
           "sequential": [
            [
             0,
             "#0d0887"
            ],
            [
             0.1111111111111111,
             "#46039f"
            ],
            [
             0.2222222222222222,
             "#7201a8"
            ],
            [
             0.3333333333333333,
             "#9c179e"
            ],
            [
             0.4444444444444444,
             "#bd3786"
            ],
            [
             0.5555555555555556,
             "#d8576b"
            ],
            [
             0.6666666666666666,
             "#ed7953"
            ],
            [
             0.7777777777777778,
             "#fb9f3a"
            ],
            [
             0.8888888888888888,
             "#fdca26"
            ],
            [
             1,
             "#f0f921"
            ]
           ],
           "sequentialminus": [
            [
             0,
             "#0d0887"
            ],
            [
             0.1111111111111111,
             "#46039f"
            ],
            [
             0.2222222222222222,
             "#7201a8"
            ],
            [
             0.3333333333333333,
             "#9c179e"
            ],
            [
             0.4444444444444444,
             "#bd3786"
            ],
            [
             0.5555555555555556,
             "#d8576b"
            ],
            [
             0.6666666666666666,
             "#ed7953"
            ],
            [
             0.7777777777777778,
             "#fb9f3a"
            ],
            [
             0.8888888888888888,
             "#fdca26"
            ],
            [
             1,
             "#f0f921"
            ]
           ]
          },
          "colorway": [
           "#636efa",
           "#EF553B",
           "#00cc96",
           "#ab63fa",
           "#FFA15A",
           "#19d3f3",
           "#FF6692",
           "#B6E880",
           "#FF97FF",
           "#FECB52"
          ],
          "font": {
           "color": "#2a3f5f"
          },
          "geo": {
           "bgcolor": "white",
           "lakecolor": "white",
           "landcolor": "#E5ECF6",
           "showlakes": true,
           "showland": true,
           "subunitcolor": "white"
          },
          "hoverlabel": {
           "align": "left"
          },
          "hovermode": "closest",
          "mapbox": {
           "style": "light"
          },
          "paper_bgcolor": "white",
          "plot_bgcolor": "#E5ECF6",
          "polar": {
           "angularaxis": {
            "gridcolor": "white",
            "linecolor": "white",
            "ticks": ""
           },
           "bgcolor": "#E5ECF6",
           "radialaxis": {
            "gridcolor": "white",
            "linecolor": "white",
            "ticks": ""
           }
          },
          "scene": {
           "xaxis": {
            "backgroundcolor": "#E5ECF6",
            "gridcolor": "white",
            "gridwidth": 2,
            "linecolor": "white",
            "showbackground": true,
            "ticks": "",
            "zerolinecolor": "white"
           },
           "yaxis": {
            "backgroundcolor": "#E5ECF6",
            "gridcolor": "white",
            "gridwidth": 2,
            "linecolor": "white",
            "showbackground": true,
            "ticks": "",
            "zerolinecolor": "white"
           },
           "zaxis": {
            "backgroundcolor": "#E5ECF6",
            "gridcolor": "white",
            "gridwidth": 2,
            "linecolor": "white",
            "showbackground": true,
            "ticks": "",
            "zerolinecolor": "white"
           }
          },
          "shapedefaults": {
           "line": {
            "color": "#2a3f5f"
           }
          },
          "ternary": {
           "aaxis": {
            "gridcolor": "white",
            "linecolor": "white",
            "ticks": ""
           },
           "baxis": {
            "gridcolor": "white",
            "linecolor": "white",
            "ticks": ""
           },
           "bgcolor": "#E5ECF6",
           "caxis": {
            "gridcolor": "white",
            "linecolor": "white",
            "ticks": ""
           }
          },
          "title": {
           "x": 0.05
          },
          "xaxis": {
           "automargin": true,
           "gridcolor": "white",
           "linecolor": "white",
           "ticks": "",
           "title": {
            "standoff": 15
           },
           "zerolinecolor": "white",
           "zerolinewidth": 2
          },
          "yaxis": {
           "automargin": true,
           "gridcolor": "white",
           "linecolor": "white",
           "ticks": "",
           "title": {
            "standoff": 15
           },
           "zerolinecolor": "white",
           "zerolinewidth": 2
          }
         }
        },
        "width": 500,
        "xaxis": {
         "autorange": false,
         "exponentformat": "e",
         "linecolor": "black",
         "linewidth": 1,
         "mirror": false,
         "range": [
          -0.04199999809265137,
          2.1419999027252197
         ],
         "showexponent": "all",
         "showline": true,
         "side": "bottom",
         "ticks": "outside",
         "title": {
          "text": "Birth"
         },
         "type": "linear",
         "zeroline": true
        },
        "yaxis": {
         "autorange": false,
         "exponentformat": "e",
         "linecolor": "black",
         "linewidth": 1,
         "mirror": false,
         "range": [
          -0.04199999809265137,
          2.1419999027252197
         ],
         "scaleanchor": "x",
         "scaleratio": 1,
         "showexponent": "all",
         "showline": true,
         "side": "left",
         "ticks": "outside",
         "title": {
          "text": "Death"
         },
         "type": "linear",
         "zeroline": true
        }
       }
      }
     },
     "metadata": {},
     "output_type": "display_data"
    }
   ],
   "source": [
    "# plot persistence diagram for train set\n",
    "persistence_homology.plot(diagrams_train)"
   ]
  },
  {
   "cell_type": "code",
   "execution_count": 10,
   "metadata": {},
   "outputs": [
    {
     "name": "stdout",
     "output_type": "stream",
     "text": [
      "[[[0.         1.         0.        ]\n",
      "  [0.         1.79999995 0.        ]\n",
      "  [0.         2.79999995 0.        ]\n",
      "  [0.         0.         1.        ]]\n",
      "\n",
      " [[0.         0.5        0.        ]\n",
      "  [0.         1.39999998 0.        ]\n",
      "  [0.         2.0999999  0.        ]\n",
      "  [0.         0.         1.        ]]\n",
      "\n",
      " [[0.         1.39999998 0.        ]\n",
      "  [0.         1.60000002 0.        ]\n",
      "  [0.         2.20000005 0.        ]\n",
      "  [0.         0.         1.        ]]\n",
      "\n",
      " [[0.         0.89999998 0.        ]\n",
      "  [0.         1.5        0.        ]\n",
      "  [0.         2.5999999  0.        ]\n",
      "  [0.         0.         1.        ]]\n",
      "\n",
      " [[0.         1.5        0.        ]\n",
      "  [0.         1.79999995 0.        ]\n",
      "  [0.         2.5999999  0.        ]\n",
      "  [0.         0.         1.        ]]\n",
      "\n",
      " [[0.         1.39999998 0.        ]\n",
      "  [0.         1.60000002 0.        ]\n",
      "  [0.         1.70000005 0.        ]\n",
      "  [0.         0.         1.        ]]\n",
      "\n",
      " [[0.         0.80000001 0.        ]\n",
      "  [0.         1.79999995 0.        ]\n",
      "  [0.         2.         0.        ]\n",
      "  [0.         0.         1.        ]]\n",
      "\n",
      " [[0.         1.29999995 0.        ]\n",
      "  [0.         1.5        0.        ]\n",
      "  [0.         1.89999998 0.        ]\n",
      "  [0.         0.         1.        ]]\n",
      "\n",
      " [[0.         1.39999998 0.        ]\n",
      "  [0.         1.5        0.        ]\n",
      "  [0.         1.60000002 0.        ]\n",
      "  [0.         0.         1.        ]]\n",
      "\n",
      " [[0.         0.89999998 0.        ]\n",
      "  [0.         1.20000005 0.        ]\n",
      "  [0.         2.5        0.        ]\n",
      "  [0.         0.         1.        ]]\n",
      "\n",
      " [[0.         1.39999998 0.        ]\n",
      "  [0.         1.39999998 0.        ]\n",
      "  [0.         1.5        0.        ]\n",
      "  [0.         0.         1.        ]]\n",
      "\n",
      " [[0.         1.29999995 0.        ]\n",
      "  [0.         1.5        0.        ]\n",
      "  [0.         2.20000005 0.        ]\n",
      "  [0.         0.         1.        ]]\n",
      "\n",
      " [[0.         0.89999998 0.        ]\n",
      "  [0.         1.20000005 0.        ]\n",
      "  [0.         2.9000001  0.        ]\n",
      "  [0.         0.         1.        ]]\n",
      "\n",
      " [[0.         1.29999995 0.        ]\n",
      "  [0.         1.70000005 0.        ]\n",
      "  [0.         1.89999998 0.        ]\n",
      "  [0.         0.         1.        ]]\n",
      "\n",
      " [[0.         1.39999998 0.        ]\n",
      "  [0.         1.5        0.        ]\n",
      "  [0.         1.60000002 0.        ]\n",
      "  [0.         0.         1.        ]]\n",
      "\n",
      " [[0.         1.10000002 0.        ]\n",
      "  [0.         1.20000005 0.        ]\n",
      "  [0.         1.89999998 0.        ]\n",
      "  [0.         0.         1.        ]]\n",
      "\n",
      " [[0.         1.39999998 0.        ]\n",
      "  [0.         1.39999998 0.        ]\n",
      "  [0.         1.79999995 0.        ]\n",
      "  [0.         0.         1.        ]]\n",
      "\n",
      " [[0.         1.10000002 0.        ]\n",
      "  [0.         1.5        0.        ]\n",
      "  [0.         1.5        0.        ]\n",
      "  [0.         0.         1.        ]]\n",
      "\n",
      " [[0.         1.10000002 0.        ]\n",
      "  [0.         1.89999998 0.        ]\n",
      "  [0.         2.         0.        ]\n",
      "  [0.         0.         1.        ]]\n",
      "\n",
      " [[0.         1.         0.        ]\n",
      "  [0.         1.79999995 0.        ]\n",
      "  [0.         2.         0.        ]\n",
      "  [0.         0.         1.        ]]\n",
      "\n",
      " [[0.         1.10000002 0.        ]\n",
      "  [0.         1.39999998 0.        ]\n",
      "  [0.         1.79999995 0.        ]\n",
      "  [0.         0.         1.        ]]\n",
      "\n",
      " [[0.         0.89999998 0.        ]\n",
      "  [0.         1.5        0.        ]\n",
      "  [0.         1.5        0.        ]\n",
      "  [0.         0.         1.        ]]\n",
      "\n",
      " [[0.         1.29999995 0.        ]\n",
      "  [0.         1.70000005 0.        ]\n",
      "  [0.         2.         0.        ]\n",
      "  [0.         0.         1.        ]]\n",
      "\n",
      " [[0.         1.         0.        ]\n",
      "  [0.         1.5        0.        ]\n",
      "  [0.         2.20000005 0.        ]\n",
      "  [0.         0.         1.        ]]\n",
      "\n",
      " [[0.         1.20000005 0.        ]\n",
      "  [0.         1.39999998 0.        ]\n",
      "  [0.         2.79999995 0.        ]\n",
      "  [0.         0.         1.        ]]\n",
      "\n",
      " [[0.         1.29999995 0.        ]\n",
      "  [0.         1.5        0.        ]\n",
      "  [0.         1.60000002 0.        ]\n",
      "  [0.         0.         1.        ]]\n",
      "\n",
      " [[0.         1.20000005 0.        ]\n",
      "  [0.         1.29999995 0.        ]\n",
      "  [0.         2.79999995 0.        ]\n",
      "  [0.         0.         1.        ]]\n",
      "\n",
      " [[0.         1.20000005 0.        ]\n",
      "  [0.         1.29999995 0.        ]\n",
      "  [0.         2.29999995 0.        ]\n",
      "  [0.         0.         1.        ]]\n",
      "\n",
      " [[0.         1.39999998 0.        ]\n",
      "  [0.         1.60000002 0.        ]\n",
      "  [0.         1.89999998 0.        ]\n",
      "  [0.         0.         1.        ]]\n",
      "\n",
      " [[0.         0.60000002 0.        ]\n",
      "  [0.         1.29999995 0.        ]\n",
      "  [0.         2.5        0.        ]\n",
      "  [0.         0.         1.        ]]\n",
      "\n",
      " [[0.         1.5        0.        ]\n",
      "  [0.         1.60000002 0.        ]\n",
      "  [0.         1.60000002 0.        ]\n",
      "  [0.         0.         1.        ]]\n",
      "\n",
      " [[0.         0.69999999 0.        ]\n",
      "  [0.         1.60000002 0.        ]\n",
      "  [0.         3.0999999  0.        ]\n",
      "  [0.         0.         1.        ]]\n",
      "\n",
      " [[0.         1.39999998 0.        ]\n",
      "  [0.         1.39999998 0.        ]\n",
      "  [0.         1.70000005 0.        ]\n",
      "  [0.         0.         1.        ]]\n",
      "\n",
      " [[0.         0.69999999 0.        ]\n",
      "  [0.         0.80000001 0.        ]\n",
      "  [0.         2.79999995 0.        ]\n",
      "  [0.         0.         1.        ]]\n",
      "\n",
      " [[0.         0.40000001 0.        ]\n",
      "  [0.         0.69999999 0.        ]\n",
      "  [0.         2.29999995 0.        ]\n",
      "  [0.         0.         1.        ]]\n",
      "\n",
      " [[0.         1.29999995 0.        ]\n",
      "  [0.         1.60000002 0.        ]\n",
      "  [0.         2.20000005 0.        ]\n",
      "  [0.         0.         1.        ]]\n",
      "\n",
      " [[0.         1.         0.        ]\n",
      "  [0.         1.5        0.        ]\n",
      "  [0.         1.70000005 0.        ]\n",
      "  [0.         0.         1.        ]]\n",
      "\n",
      " [[0.         1.20000005 0.        ]\n",
      "  [0.         1.79999995 0.        ]\n",
      "  [0.         2.         0.        ]\n",
      "  [0.         0.         1.        ]]\n",
      "\n",
      " [[0.         1.29999995 0.        ]\n",
      "  [0.         1.79999995 0.        ]\n",
      "  [0.         1.89999998 0.        ]\n",
      "  [0.         0.         1.        ]]\n",
      "\n",
      " [[0.         0.69999999 0.        ]\n",
      "  [0.         0.89999998 0.        ]\n",
      "  [0.         3.29999995 0.        ]\n",
      "  [0.         0.         1.        ]]\n",
      "\n",
      " [[0.         0.89999998 0.        ]\n",
      "  [0.         1.29999995 0.        ]\n",
      "  [0.         2.5        0.        ]\n",
      "  [0.         0.         1.        ]]\n",
      "\n",
      " [[0.         1.10000002 0.        ]\n",
      "  [0.         1.60000002 0.        ]\n",
      "  [0.         2.0999999  0.        ]\n",
      "  [0.         0.         1.        ]]\n",
      "\n",
      " [[0.         0.69999999 0.        ]\n",
      "  [0.         1.         0.        ]\n",
      "  [0.         2.79999995 0.        ]\n",
      "  [0.         0.         1.        ]]\n",
      "\n",
      " [[0.         0.69999999 0.        ]\n",
      "  [0.         1.10000002 0.        ]\n",
      "  [0.         2.70000005 0.        ]\n",
      "  [0.         0.         1.        ]]\n",
      "\n",
      " [[0.         1.60000002 0.        ]\n",
      "  [0.         1.70000005 0.        ]\n",
      "  [0.         2.         0.        ]\n",
      "  [0.         0.         1.        ]]\n",
      "\n",
      " [[0.         0.30000001 0.        ]\n",
      "  [0.         0.80000001 0.        ]\n",
      "  [0.         4.30000019 0.        ]\n",
      "  [0.         0.         1.        ]]\n",
      "\n",
      " [[0.         1.39999998 0.        ]\n",
      "  [0.         1.89999998 0.        ]\n",
      "  [0.         2.0999999  0.        ]\n",
      "  [0.         0.         1.        ]]\n",
      "\n",
      " [[0.         1.20000005 0.        ]\n",
      "  [0.         1.39999998 0.        ]\n",
      "  [0.         2.20000005 0.        ]\n",
      "  [0.         0.         1.        ]]\n",
      "\n",
      " [[0.         1.10000002 0.        ]\n",
      "  [0.         1.60000002 0.        ]\n",
      "  [0.         1.79999995 0.        ]\n",
      "  [0.         0.         1.        ]]\n",
      "\n",
      " [[0.         1.20000005 0.        ]\n",
      "  [0.         1.29999995 0.        ]\n",
      "  [0.         1.29999995 0.        ]\n",
      "  [0.         0.         1.        ]]\n",
      "\n",
      " [[0.         1.29999995 0.        ]\n",
      "  [0.         1.70000005 0.        ]\n",
      "  [0.         1.89999998 0.        ]\n",
      "  [0.         0.         1.        ]]\n",
      "\n",
      " [[0.         1.10000002 0.        ]\n",
      "  [0.         2.         0.        ]\n",
      "  [0.         2.20000005 0.        ]\n",
      "  [0.         0.         1.        ]]\n",
      "\n",
      " [[0.         1.         0.        ]\n",
      "  [0.         1.60000002 0.        ]\n",
      "  [0.         2.9000001  0.        ]\n",
      "  [0.         0.         1.        ]]\n",
      "\n",
      " [[0.         1.         0.        ]\n",
      "  [0.         1.5        0.        ]\n",
      "  [0.         2.29999995 0.        ]\n",
      "  [0.         0.         1.        ]]\n",
      "\n",
      " [[0.         1.         0.        ]\n",
      "  [0.         1.10000002 0.        ]\n",
      "  [0.         3.4000001  0.        ]\n",
      "  [0.         0.         1.        ]]\n",
      "\n",
      " [[0.         0.60000002 0.        ]\n",
      "  [0.         0.80000001 0.        ]\n",
      "  [0.         2.79999995 0.        ]\n",
      "  [0.         0.         1.        ]]\n",
      "\n",
      " [[0.         1.         0.        ]\n",
      "  [0.         1.39999998 0.        ]\n",
      "  [0.         2.         0.        ]\n",
      "  [0.         0.         1.        ]]\n",
      "\n",
      " [[0.         1.10000002 0.        ]\n",
      "  [0.         1.5        0.        ]\n",
      "  [0.         1.79999995 0.        ]\n",
      "  [0.         0.         1.        ]]\n",
      "\n",
      " [[0.         0.80000001 0.        ]\n",
      "  [0.         1.         0.        ]\n",
      "  [0.         3.9000001  0.        ]\n",
      "  [0.         0.         1.        ]]\n",
      "\n",
      " [[0.         1.20000005 0.        ]\n",
      "  [0.         1.5        0.        ]\n",
      "  [0.         1.79999995 0.        ]\n",
      "  [0.         0.         1.        ]]\n",
      "\n",
      " [[0.         1.39999998 0.        ]\n",
      "  [0.         1.39999998 0.        ]\n",
      "  [0.         1.79999995 0.        ]\n",
      "  [0.         0.         1.        ]]\n",
      "\n",
      " [[0.         0.5        0.        ]\n",
      "  [0.         0.69999999 0.        ]\n",
      "  [0.         2.5        0.        ]\n",
      "  [0.         0.         1.        ]]\n",
      "\n",
      " [[0.         0.89999998 0.        ]\n",
      "  [0.         1.39999998 0.        ]\n",
      "  [0.         2.20000005 0.        ]\n",
      "  [0.         0.         1.        ]]\n",
      "\n",
      " [[0.         1.29999995 0.        ]\n",
      "  [0.         1.60000002 0.        ]\n",
      "  [0.         1.79999995 0.        ]\n",
      "  [0.         0.         1.        ]]\n",
      "\n",
      " [[0.         1.10000002 0.        ]\n",
      "  [0.         1.5        0.        ]\n",
      "  [0.         1.89999998 0.        ]\n",
      "  [0.         0.         1.        ]]\n",
      "\n",
      " [[0.         0.69999999 0.        ]\n",
      "  [0.         0.80000001 0.        ]\n",
      "  [0.         2.79999995 0.        ]\n",
      "  [0.         0.         1.        ]]\n",
      "\n",
      " [[0.         1.10000002 0.        ]\n",
      "  [0.         1.20000005 0.        ]\n",
      "  [0.         2.         0.        ]\n",
      "  [0.         0.         1.        ]]\n",
      "\n",
      " [[0.         1.20000005 0.        ]\n",
      "  [0.         1.20000005 0.        ]\n",
      "  [0.         1.89999998 0.        ]\n",
      "  [0.         0.         1.        ]]\n",
      "\n",
      " [[0.         1.20000005 0.        ]\n",
      "  [0.         1.39999998 0.        ]\n",
      "  [0.         1.89999998 0.        ]\n",
      "  [0.         0.         1.        ]]\n",
      "\n",
      " [[0.         1.29999995 0.        ]\n",
      "  [0.         1.70000005 0.        ]\n",
      "  [0.         2.29999995 0.        ]\n",
      "  [0.         0.         1.        ]]\n",
      "\n",
      " [[0.         1.20000005 0.        ]\n",
      "  [0.         1.5        0.        ]\n",
      "  [0.         1.70000005 0.        ]\n",
      "  [0.         0.         1.        ]]\n",
      "\n",
      " [[0.         0.80000001 0.        ]\n",
      "  [0.         1.         0.        ]\n",
      "  [0.         2.4000001  0.        ]\n",
      "  [0.         0.         1.        ]]\n",
      "\n",
      " [[0.         1.20000005 0.        ]\n",
      "  [0.         1.20000005 0.        ]\n",
      "  [0.         1.79999995 0.        ]\n",
      "  [0.         0.         1.        ]]\n",
      "\n",
      " [[0.         1.29999995 0.        ]\n",
      "  [0.         1.39999998 0.        ]\n",
      "  [0.         2.20000005 0.        ]\n",
      "  [0.         0.         1.        ]]\n",
      "\n",
      " [[0.         1.20000005 0.        ]\n",
      "  [0.         1.79999995 0.        ]\n",
      "  [0.         2.         0.        ]\n",
      "  [0.         0.         1.        ]]]\n",
      "dim diag-test =  (75, 4, 3)\n"
     ]
    }
   ],
   "source": [
    "# generate the diagram of persistence for test\n",
    "diagrams_test = persistence_homology.transform(x_test)\n",
    "print(diagrams_test)\n",
    "print(\"dim diag-test = \", diagrams_test.shape)"
   ]
  },
  {
   "cell_type": "code",
   "execution_count": 11,
   "metadata": {},
   "outputs": [
    {
     "data": {
      "application/vnd.plotly.v1+json": {
       "config": {
        "plotlyServerURL": "https://plot.ly"
       },
       "data": [
        {
         "hoverinfo": "none",
         "line": {
          "color": "black",
          "dash": "dash",
          "width": 1
         },
         "mode": "lines",
         "showlegend": false,
         "type": "scatter",
         "x": [
          -0.05599999904632569,
          2.8559999513626098
         ],
         "y": [
          -0.05599999904632569,
          2.8559999513626098
         ]
        },
        {
         "hoverinfo": "text",
         "hovertext": [
          "(0.0, 1.0)",
          "(0.0, 1.7999999523162842)",
          "(0.0, 2.799999952316284)"
         ],
         "mode": "markers",
         "name": "H0",
         "type": "scatter",
         "x": [
          0,
          0,
          0
         ],
         "y": [
          1,
          1.7999999523162842,
          2.799999952316284
         ]
        },
        {
         "hoverinfo": "text",
         "hovertext": [],
         "mode": "markers",
         "name": "H1",
         "type": "scatter",
         "x": [],
         "y": []
        }
       ],
       "layout": {
        "height": 500,
        "plot_bgcolor": "white",
        "template": {
         "data": {
          "bar": [
           {
            "error_x": {
             "color": "#2a3f5f"
            },
            "error_y": {
             "color": "#2a3f5f"
            },
            "marker": {
             "line": {
              "color": "#E5ECF6",
              "width": 0.5
             },
             "pattern": {
              "fillmode": "overlay",
              "size": 10,
              "solidity": 0.2
             }
            },
            "type": "bar"
           }
          ],
          "barpolar": [
           {
            "marker": {
             "line": {
              "color": "#E5ECF6",
              "width": 0.5
             },
             "pattern": {
              "fillmode": "overlay",
              "size": 10,
              "solidity": 0.2
             }
            },
            "type": "barpolar"
           }
          ],
          "carpet": [
           {
            "aaxis": {
             "endlinecolor": "#2a3f5f",
             "gridcolor": "white",
             "linecolor": "white",
             "minorgridcolor": "white",
             "startlinecolor": "#2a3f5f"
            },
            "baxis": {
             "endlinecolor": "#2a3f5f",
             "gridcolor": "white",
             "linecolor": "white",
             "minorgridcolor": "white",
             "startlinecolor": "#2a3f5f"
            },
            "type": "carpet"
           }
          ],
          "choropleth": [
           {
            "colorbar": {
             "outlinewidth": 0,
             "ticks": ""
            },
            "type": "choropleth"
           }
          ],
          "contour": [
           {
            "colorbar": {
             "outlinewidth": 0,
             "ticks": ""
            },
            "colorscale": [
             [
              0,
              "#0d0887"
             ],
             [
              0.1111111111111111,
              "#46039f"
             ],
             [
              0.2222222222222222,
              "#7201a8"
             ],
             [
              0.3333333333333333,
              "#9c179e"
             ],
             [
              0.4444444444444444,
              "#bd3786"
             ],
             [
              0.5555555555555556,
              "#d8576b"
             ],
             [
              0.6666666666666666,
              "#ed7953"
             ],
             [
              0.7777777777777778,
              "#fb9f3a"
             ],
             [
              0.8888888888888888,
              "#fdca26"
             ],
             [
              1,
              "#f0f921"
             ]
            ],
            "type": "contour"
           }
          ],
          "contourcarpet": [
           {
            "colorbar": {
             "outlinewidth": 0,
             "ticks": ""
            },
            "type": "contourcarpet"
           }
          ],
          "heatmap": [
           {
            "colorbar": {
             "outlinewidth": 0,
             "ticks": ""
            },
            "colorscale": [
             [
              0,
              "#0d0887"
             ],
             [
              0.1111111111111111,
              "#46039f"
             ],
             [
              0.2222222222222222,
              "#7201a8"
             ],
             [
              0.3333333333333333,
              "#9c179e"
             ],
             [
              0.4444444444444444,
              "#bd3786"
             ],
             [
              0.5555555555555556,
              "#d8576b"
             ],
             [
              0.6666666666666666,
              "#ed7953"
             ],
             [
              0.7777777777777778,
              "#fb9f3a"
             ],
             [
              0.8888888888888888,
              "#fdca26"
             ],
             [
              1,
              "#f0f921"
             ]
            ],
            "type": "heatmap"
           }
          ],
          "heatmapgl": [
           {
            "colorbar": {
             "outlinewidth": 0,
             "ticks": ""
            },
            "colorscale": [
             [
              0,
              "#0d0887"
             ],
             [
              0.1111111111111111,
              "#46039f"
             ],
             [
              0.2222222222222222,
              "#7201a8"
             ],
             [
              0.3333333333333333,
              "#9c179e"
             ],
             [
              0.4444444444444444,
              "#bd3786"
             ],
             [
              0.5555555555555556,
              "#d8576b"
             ],
             [
              0.6666666666666666,
              "#ed7953"
             ],
             [
              0.7777777777777778,
              "#fb9f3a"
             ],
             [
              0.8888888888888888,
              "#fdca26"
             ],
             [
              1,
              "#f0f921"
             ]
            ],
            "type": "heatmapgl"
           }
          ],
          "histogram": [
           {
            "marker": {
             "pattern": {
              "fillmode": "overlay",
              "size": 10,
              "solidity": 0.2
             }
            },
            "type": "histogram"
           }
          ],
          "histogram2d": [
           {
            "colorbar": {
             "outlinewidth": 0,
             "ticks": ""
            },
            "colorscale": [
             [
              0,
              "#0d0887"
             ],
             [
              0.1111111111111111,
              "#46039f"
             ],
             [
              0.2222222222222222,
              "#7201a8"
             ],
             [
              0.3333333333333333,
              "#9c179e"
             ],
             [
              0.4444444444444444,
              "#bd3786"
             ],
             [
              0.5555555555555556,
              "#d8576b"
             ],
             [
              0.6666666666666666,
              "#ed7953"
             ],
             [
              0.7777777777777778,
              "#fb9f3a"
             ],
             [
              0.8888888888888888,
              "#fdca26"
             ],
             [
              1,
              "#f0f921"
             ]
            ],
            "type": "histogram2d"
           }
          ],
          "histogram2dcontour": [
           {
            "colorbar": {
             "outlinewidth": 0,
             "ticks": ""
            },
            "colorscale": [
             [
              0,
              "#0d0887"
             ],
             [
              0.1111111111111111,
              "#46039f"
             ],
             [
              0.2222222222222222,
              "#7201a8"
             ],
             [
              0.3333333333333333,
              "#9c179e"
             ],
             [
              0.4444444444444444,
              "#bd3786"
             ],
             [
              0.5555555555555556,
              "#d8576b"
             ],
             [
              0.6666666666666666,
              "#ed7953"
             ],
             [
              0.7777777777777778,
              "#fb9f3a"
             ],
             [
              0.8888888888888888,
              "#fdca26"
             ],
             [
              1,
              "#f0f921"
             ]
            ],
            "type": "histogram2dcontour"
           }
          ],
          "mesh3d": [
           {
            "colorbar": {
             "outlinewidth": 0,
             "ticks": ""
            },
            "type": "mesh3d"
           }
          ],
          "parcoords": [
           {
            "line": {
             "colorbar": {
              "outlinewidth": 0,
              "ticks": ""
             }
            },
            "type": "parcoords"
           }
          ],
          "pie": [
           {
            "automargin": true,
            "type": "pie"
           }
          ],
          "scatter": [
           {
            "fillpattern": {
             "fillmode": "overlay",
             "size": 10,
             "solidity": 0.2
            },
            "type": "scatter"
           }
          ],
          "scatter3d": [
           {
            "line": {
             "colorbar": {
              "outlinewidth": 0,
              "ticks": ""
             }
            },
            "marker": {
             "colorbar": {
              "outlinewidth": 0,
              "ticks": ""
             }
            },
            "type": "scatter3d"
           }
          ],
          "scattercarpet": [
           {
            "marker": {
             "colorbar": {
              "outlinewidth": 0,
              "ticks": ""
             }
            },
            "type": "scattercarpet"
           }
          ],
          "scattergeo": [
           {
            "marker": {
             "colorbar": {
              "outlinewidth": 0,
              "ticks": ""
             }
            },
            "type": "scattergeo"
           }
          ],
          "scattergl": [
           {
            "marker": {
             "colorbar": {
              "outlinewidth": 0,
              "ticks": ""
             }
            },
            "type": "scattergl"
           }
          ],
          "scattermapbox": [
           {
            "marker": {
             "colorbar": {
              "outlinewidth": 0,
              "ticks": ""
             }
            },
            "type": "scattermapbox"
           }
          ],
          "scatterpolar": [
           {
            "marker": {
             "colorbar": {
              "outlinewidth": 0,
              "ticks": ""
             }
            },
            "type": "scatterpolar"
           }
          ],
          "scatterpolargl": [
           {
            "marker": {
             "colorbar": {
              "outlinewidth": 0,
              "ticks": ""
             }
            },
            "type": "scatterpolargl"
           }
          ],
          "scatterternary": [
           {
            "marker": {
             "colorbar": {
              "outlinewidth": 0,
              "ticks": ""
             }
            },
            "type": "scatterternary"
           }
          ],
          "surface": [
           {
            "colorbar": {
             "outlinewidth": 0,
             "ticks": ""
            },
            "colorscale": [
             [
              0,
              "#0d0887"
             ],
             [
              0.1111111111111111,
              "#46039f"
             ],
             [
              0.2222222222222222,
              "#7201a8"
             ],
             [
              0.3333333333333333,
              "#9c179e"
             ],
             [
              0.4444444444444444,
              "#bd3786"
             ],
             [
              0.5555555555555556,
              "#d8576b"
             ],
             [
              0.6666666666666666,
              "#ed7953"
             ],
             [
              0.7777777777777778,
              "#fb9f3a"
             ],
             [
              0.8888888888888888,
              "#fdca26"
             ],
             [
              1,
              "#f0f921"
             ]
            ],
            "type": "surface"
           }
          ],
          "table": [
           {
            "cells": {
             "fill": {
              "color": "#EBF0F8"
             },
             "line": {
              "color": "white"
             }
            },
            "header": {
             "fill": {
              "color": "#C8D4E3"
             },
             "line": {
              "color": "white"
             }
            },
            "type": "table"
           }
          ]
         },
         "layout": {
          "annotationdefaults": {
           "arrowcolor": "#2a3f5f",
           "arrowhead": 0,
           "arrowwidth": 1
          },
          "autotypenumbers": "strict",
          "coloraxis": {
           "colorbar": {
            "outlinewidth": 0,
            "ticks": ""
           }
          },
          "colorscale": {
           "diverging": [
            [
             0,
             "#8e0152"
            ],
            [
             0.1,
             "#c51b7d"
            ],
            [
             0.2,
             "#de77ae"
            ],
            [
             0.3,
             "#f1b6da"
            ],
            [
             0.4,
             "#fde0ef"
            ],
            [
             0.5,
             "#f7f7f7"
            ],
            [
             0.6,
             "#e6f5d0"
            ],
            [
             0.7,
             "#b8e186"
            ],
            [
             0.8,
             "#7fbc41"
            ],
            [
             0.9,
             "#4d9221"
            ],
            [
             1,
             "#276419"
            ]
           ],
           "sequential": [
            [
             0,
             "#0d0887"
            ],
            [
             0.1111111111111111,
             "#46039f"
            ],
            [
             0.2222222222222222,
             "#7201a8"
            ],
            [
             0.3333333333333333,
             "#9c179e"
            ],
            [
             0.4444444444444444,
             "#bd3786"
            ],
            [
             0.5555555555555556,
             "#d8576b"
            ],
            [
             0.6666666666666666,
             "#ed7953"
            ],
            [
             0.7777777777777778,
             "#fb9f3a"
            ],
            [
             0.8888888888888888,
             "#fdca26"
            ],
            [
             1,
             "#f0f921"
            ]
           ],
           "sequentialminus": [
            [
             0,
             "#0d0887"
            ],
            [
             0.1111111111111111,
             "#46039f"
            ],
            [
             0.2222222222222222,
             "#7201a8"
            ],
            [
             0.3333333333333333,
             "#9c179e"
            ],
            [
             0.4444444444444444,
             "#bd3786"
            ],
            [
             0.5555555555555556,
             "#d8576b"
            ],
            [
             0.6666666666666666,
             "#ed7953"
            ],
            [
             0.7777777777777778,
             "#fb9f3a"
            ],
            [
             0.8888888888888888,
             "#fdca26"
            ],
            [
             1,
             "#f0f921"
            ]
           ]
          },
          "colorway": [
           "#636efa",
           "#EF553B",
           "#00cc96",
           "#ab63fa",
           "#FFA15A",
           "#19d3f3",
           "#FF6692",
           "#B6E880",
           "#FF97FF",
           "#FECB52"
          ],
          "font": {
           "color": "#2a3f5f"
          },
          "geo": {
           "bgcolor": "white",
           "lakecolor": "white",
           "landcolor": "#E5ECF6",
           "showlakes": true,
           "showland": true,
           "subunitcolor": "white"
          },
          "hoverlabel": {
           "align": "left"
          },
          "hovermode": "closest",
          "mapbox": {
           "style": "light"
          },
          "paper_bgcolor": "white",
          "plot_bgcolor": "#E5ECF6",
          "polar": {
           "angularaxis": {
            "gridcolor": "white",
            "linecolor": "white",
            "ticks": ""
           },
           "bgcolor": "#E5ECF6",
           "radialaxis": {
            "gridcolor": "white",
            "linecolor": "white",
            "ticks": ""
           }
          },
          "scene": {
           "xaxis": {
            "backgroundcolor": "#E5ECF6",
            "gridcolor": "white",
            "gridwidth": 2,
            "linecolor": "white",
            "showbackground": true,
            "ticks": "",
            "zerolinecolor": "white"
           },
           "yaxis": {
            "backgroundcolor": "#E5ECF6",
            "gridcolor": "white",
            "gridwidth": 2,
            "linecolor": "white",
            "showbackground": true,
            "ticks": "",
            "zerolinecolor": "white"
           },
           "zaxis": {
            "backgroundcolor": "#E5ECF6",
            "gridcolor": "white",
            "gridwidth": 2,
            "linecolor": "white",
            "showbackground": true,
            "ticks": "",
            "zerolinecolor": "white"
           }
          },
          "shapedefaults": {
           "line": {
            "color": "#2a3f5f"
           }
          },
          "ternary": {
           "aaxis": {
            "gridcolor": "white",
            "linecolor": "white",
            "ticks": ""
           },
           "baxis": {
            "gridcolor": "white",
            "linecolor": "white",
            "ticks": ""
           },
           "bgcolor": "#E5ECF6",
           "caxis": {
            "gridcolor": "white",
            "linecolor": "white",
            "ticks": ""
           }
          },
          "title": {
           "x": 0.05
          },
          "xaxis": {
           "automargin": true,
           "gridcolor": "white",
           "linecolor": "white",
           "ticks": "",
           "title": {
            "standoff": 15
           },
           "zerolinecolor": "white",
           "zerolinewidth": 2
          },
          "yaxis": {
           "automargin": true,
           "gridcolor": "white",
           "linecolor": "white",
           "ticks": "",
           "title": {
            "standoff": 15
           },
           "zerolinecolor": "white",
           "zerolinewidth": 2
          }
         }
        },
        "width": 500,
        "xaxis": {
         "autorange": false,
         "exponentformat": "e",
         "linecolor": "black",
         "linewidth": 1,
         "mirror": false,
         "range": [
          -0.05599999904632569,
          2.8559999513626098
         ],
         "showexponent": "all",
         "showline": true,
         "side": "bottom",
         "ticks": "outside",
         "title": {
          "text": "Birth"
         },
         "type": "linear",
         "zeroline": true
        },
        "yaxis": {
         "autorange": false,
         "exponentformat": "e",
         "linecolor": "black",
         "linewidth": 1,
         "mirror": false,
         "range": [
          -0.05599999904632569,
          2.8559999513626098
         ],
         "scaleanchor": "x",
         "scaleratio": 1,
         "showexponent": "all",
         "showline": true,
         "side": "left",
         "ticks": "outside",
         "title": {
          "text": "Death"
         },
         "type": "linear",
         "zeroline": true
        }
       }
      }
     },
     "metadata": {},
     "output_type": "display_data"
    }
   ],
   "source": [
    "persistence_homology.plot(diagrams_test)"
   ]
  },
  {
   "cell_type": "code",
   "execution_count": 12,
   "metadata": {},
   "outputs": [],
   "source": [
    "# import packages\n",
    "from gtda.diagrams import BettiCurve, PersistenceLandscape, PairwiseDistance, PersistenceEntropy"
   ]
  },
  {
   "attachments": {},
   "cell_type": "markdown",
   "metadata": {},
   "source": [
    "Calculate metric wasserstein"
   ]
  },
  {
   "cell_type": "code",
   "execution_count": 13,
   "metadata": {},
   "outputs": [],
   "source": [
    "# calculate metric of wasserstein\n",
    "pw = 2 \n",
    "wdis = PairwiseDistance(metric = \"wasserstein\", \n",
    "                      metric_params = {\"p\": pw, \"delta\": 0.1},\n",
    "                      order = None)"
   ]
  },
  {
   "cell_type": "code",
   "execution_count": 15,
   "metadata": {},
   "outputs": [
    {
     "name": "stdout",
     "output_type": "stream",
     "text": [
      "dim wassertein-dis-train =  (75, 75, 2)\n"
     ]
    }
   ],
   "source": [
    "# wassertein distance between x and x_train\n",
    "wdis_train = wdis.fit_transform(diagrams_train)\n",
    "print(\"dim wassertein-dis-train = \", wdis_train.shape)\n"
   ]
  },
  {
   "cell_type": "code",
   "execution_count": 16,
   "metadata": {},
   "outputs": [
    {
     "name": "stdout",
     "output_type": "stream",
     "text": [
      "dim wassertein-dis test  (75, 75, 2)\n"
     ]
    }
   ],
   "source": [
    "# wassertein distance between x and x_test\n",
    "wdis_test = wdis.transform(diagrams_test)\n",
    "print(\"dim wassertein-dis test \", wdis_test.shape)"
   ]
  },
  {
   "cell_type": "code",
   "execution_count": 17,
   "metadata": {},
   "outputs": [
    {
     "name": "stdout",
     "output_type": "stream",
     "text": [
      "(75, 150)\n",
      "(75, 150)\n"
     ]
    }
   ],
   "source": [
    "# flatten the wasserstein distance arrays into 1D arrays\n",
    "wdis_train_flatten = wdis_train.reshape(wdis_train.shape[0], -1)\n",
    "wdis_test_flatten = wdis_test.reshape(wdis_test.shape[0], -1)\n",
    "\n",
    "print(wdis_train_flatten.shape)\n",
    "print(wdis_test_flatten.shape)\n"
   ]
  },
  {
   "attachments": {},
   "cell_type": "markdown",
   "metadata": {},
   "source": [
    "Calculate metric bottleneck"
   ]
  },
  {
   "cell_type": "code",
   "execution_count": 18,
   "metadata": {},
   "outputs": [],
   "source": [
    "bottdis = PairwiseDistance(metric = \"bottleneck\",\n",
    "                           metric_params = {\"delta\": 0.1},\n",
    "                           order = None)"
   ]
  },
  {
   "cell_type": "code",
   "execution_count": 19,
   "metadata": {},
   "outputs": [
    {
     "name": "stdout",
     "output_type": "stream",
     "text": [
      "dim bottleneck-dis train =  (75, 75, 2)\n"
     ]
    }
   ],
   "source": [
    "# bottleneck distance for train\n",
    "bottdis_train = bottdis.fit_transform(diagrams_train)\n",
    "print(\"dim bottleneck-dis train = \", bottdis_train.shape)"
   ]
  },
  {
   "cell_type": "code",
   "execution_count": 20,
   "metadata": {},
   "outputs": [
    {
     "name": "stdout",
     "output_type": "stream",
     "text": [
      "dim bottleneck-dis test =  (75, 75, 2)\n"
     ]
    }
   ],
   "source": [
    "# bottleneck distance for test\n",
    "bottdis_test = bottdis.transform(diagrams_test)\n",
    "print(\"dim bottleneck-dis test = \", bottdis_test.shape)"
   ]
  },
  {
   "cell_type": "code",
   "execution_count": 21,
   "metadata": {},
   "outputs": [
    {
     "name": "stdout",
     "output_type": "stream",
     "text": [
      "(75, 150)\n",
      "(75, 150)\n"
     ]
    }
   ],
   "source": [
    "# flatten the wasserstein distance arrays into 1D arrays\n",
    "bott_train_flatten = bottdis_train.reshape(bottdis_train.shape[0], -1)\n",
    "bott_test_flatten = bottdis_test.reshape(bottdis_test.shape[0], -1)\n",
    "\n",
    "print(bott_train_flatten.shape)\n",
    "print(bott_test_flatten.shape)"
   ]
  },
  {
   "attachments": {},
   "cell_type": "markdown",
   "metadata": {},
   "source": [
    "Betti curve and Betti distance"
   ]
  },
  {
   "cell_type": "code",
   "execution_count": 22,
   "metadata": {},
   "outputs": [
    {
     "data": {
      "application/vnd.plotly.v1+json": {
       "config": {
        "plotlyServerURL": "https://plot.ly"
       },
       "data": [
        {
         "mode": "lines",
         "name": "H0",
         "showlegend": true,
         "type": "scatter",
         "x": [
          0,
          0.03636363540032898,
          0.07272727080065795,
          0.10909090620098694,
          0.1454545416013159,
          0.18181817700164488,
          0.21818181240197387,
          0.2545454478023028,
          0.2909090832026318,
          0.3272727186029608,
          0.36363635400328975,
          0.39999998940361875,
          0.43636362480394775,
          0.4727272602042767,
          0.5090908956046056,
          0.5454545310049347,
          0.5818181664052636,
          0.6181818018055926,
          0.6545454372059216,
          0.6909090726062506,
          0.7272727080065795,
          0.7636363434069086,
          0.7999999788072375,
          0.8363636142075664,
          0.8727272496078955,
          0.9090908850082244,
          0.9454545204085534,
          0.9818181558088823,
          1.0181817912092113,
          1.0545454266095404,
          1.0909090620098694,
          1.1272726974101983,
          1.1636363328105273,
          1.1999999682108562,
          1.2363636036111851,
          1.272727239011514,
          1.3090908744118432,
          1.3454545098121722,
          1.3818181452125011,
          1.41818178061283,
          1.454545416013159,
          1.490909051413488,
          1.5272726868138171,
          1.563636322214146,
          1.599999957614475,
          1.636363593014804,
          1.6727272284151329,
          1.7090908638154618,
          1.745454499215791,
          1.78181813461612,
          1.8181817700164489,
          1.8545454054167778,
          1.8909090408171068,
          1.9272726762174357,
          1.9636363116177646,
          1.9999999470180938,
          2.0363635824184225,
          2.0727272178187515,
          2.109090853219081,
          2.14545448861941,
          2.1818181240197387,
          2.2181817594200677,
          2.2545453948203966,
          2.2909090302207256,
          2.3272726656210545,
          2.3636363010213834,
          2.3999999364217124,
          2.4363635718220413,
          2.4727272072223703,
          2.509090842622699,
          2.545454478023028,
          2.5818181134233575,
          2.6181817488236865,
          2.6545453842240154,
          2.6909090196243444,
          2.7272726550246733,
          2.7636362904250023,
          2.799999925825331,
          2.83636356122566,
          2.872727196625989,
          2.909090832026318,
          2.945454467426647,
          2.981818102826976,
          3.018181738227305,
          3.0545453736276342,
          3.090909009027963,
          3.127272644428292,
          3.163636279828621,
          3.19999991522895,
          3.236363550629279,
          3.272727186029608,
          3.309090821429937,
          3.3454544568302658,
          3.3818180922305947,
          3.4181817276309236,
          3.4545453630312526,
          3.490908998431582,
          3.527272633831911,
          3.56363626923224,
          3.5999999046325684
         ],
         "y": [
          3,
          3,
          3,
          3,
          3,
          3,
          3,
          3,
          3,
          3,
          3,
          3,
          3,
          3,
          3,
          3,
          3,
          3,
          3,
          3,
          3,
          3,
          3,
          3,
          3,
          3,
          3,
          3,
          3,
          3,
          3,
          3,
          3,
          3,
          3,
          3,
          3,
          3,
          3,
          2,
          2,
          2,
          2,
          2,
          2,
          1,
          1,
          1,
          1,
          1,
          1,
          1,
          1,
          1,
          1,
          1,
          1,
          1,
          0,
          0,
          0,
          0,
          0,
          0,
          0,
          0,
          0,
          0,
          0,
          0,
          0,
          0,
          0,
          0,
          0,
          0,
          0,
          0,
          0,
          0,
          0,
          0,
          0,
          0,
          0,
          0,
          0,
          0,
          0,
          0,
          0,
          0,
          0,
          0,
          0,
          0,
          0,
          0,
          0,
          0
         ]
        },
        {
         "mode": "lines",
         "name": "H1",
         "showlegend": true,
         "type": "scatter",
         "x": [
          0,
          0.03636363540032898,
          0.07272727080065795,
          0.10909090620098694,
          0.1454545416013159,
          0.18181817700164488,
          0.21818181240197387,
          0.2545454478023028,
          0.2909090832026318,
          0.3272727186029608,
          0.36363635400328975,
          0.39999998940361875,
          0.43636362480394775,
          0.4727272602042767,
          0.5090908956046056,
          0.5454545310049347,
          0.5818181664052636,
          0.6181818018055926,
          0.6545454372059216,
          0.6909090726062506,
          0.7272727080065795,
          0.7636363434069086,
          0.7999999788072375,
          0.8363636142075664,
          0.8727272496078955,
          0.9090908850082244,
          0.9454545204085534,
          0.9818181558088823,
          1.0181817912092113,
          1.0545454266095404,
          1.0909090620098694,
          1.1272726974101983,
          1.1636363328105273,
          1.1999999682108562,
          1.2363636036111851,
          1.272727239011514,
          1.3090908744118432,
          1.3454545098121722,
          1.3818181452125011,
          1.41818178061283,
          1.454545416013159,
          1.490909051413488,
          1.5272726868138171,
          1.563636322214146,
          1.599999957614475,
          1.636363593014804,
          1.6727272284151329,
          1.7090908638154618,
          1.745454499215791,
          1.78181813461612,
          1.8181817700164489,
          1.8545454054167778,
          1.8909090408171068,
          1.9272726762174357,
          1.9636363116177646,
          1.9999999470180938,
          2.0363635824184225,
          2.0727272178187515,
          2.109090853219081,
          2.14545448861941,
          2.1818181240197387,
          2.2181817594200677,
          2.2545453948203966,
          2.2909090302207256,
          2.3272726656210545,
          2.3636363010213834,
          2.3999999364217124,
          2.4363635718220413,
          2.4727272072223703,
          2.509090842622699,
          2.545454478023028,
          2.5818181134233575,
          2.6181817488236865,
          2.6545453842240154,
          2.6909090196243444,
          2.7272726550246733,
          2.7636362904250023,
          2.799999925825331,
          2.83636356122566,
          2.872727196625989,
          2.909090832026318,
          2.945454467426647,
          2.981818102826976,
          3.018181738227305,
          3.0545453736276342,
          3.090909009027963,
          3.127272644428292,
          3.163636279828621,
          3.19999991522895,
          3.236363550629279,
          3.272727186029608,
          3.309090821429937,
          3.3454544568302658,
          3.3818180922305947,
          3.4181817276309236,
          3.4545453630312526,
          3.490908998431582,
          3.527272633831911,
          3.56363626923224,
          3.5999999046325684
         ],
         "y": [
          0,
          0,
          0,
          0,
          0,
          0,
          0,
          0,
          0,
          0,
          0,
          0,
          0,
          0,
          0,
          0,
          0,
          0,
          0,
          0,
          0,
          0,
          0,
          0,
          0,
          0,
          0,
          0,
          0,
          0,
          0,
          0,
          0,
          0,
          0,
          0,
          0,
          0,
          0,
          0,
          0,
          0,
          0,
          0,
          0,
          0,
          0,
          0,
          0,
          0,
          0,
          0,
          0,
          0,
          0,
          0,
          0,
          0,
          0,
          0,
          0,
          0,
          0,
          0,
          0,
          0,
          0,
          0,
          0,
          0,
          0,
          0,
          0,
          0,
          0,
          0,
          0,
          0,
          0,
          0,
          0,
          0,
          0,
          0,
          0,
          0,
          0,
          0,
          0,
          0,
          0,
          0,
          0,
          0,
          0,
          0,
          0,
          0,
          0,
          0
         ]
        }
       ],
       "layout": {
        "plot_bgcolor": "white",
        "template": {
         "data": {
          "bar": [
           {
            "error_x": {
             "color": "#2a3f5f"
            },
            "error_y": {
             "color": "#2a3f5f"
            },
            "marker": {
             "line": {
              "color": "#E5ECF6",
              "width": 0.5
             },
             "pattern": {
              "fillmode": "overlay",
              "size": 10,
              "solidity": 0.2
             }
            },
            "type": "bar"
           }
          ],
          "barpolar": [
           {
            "marker": {
             "line": {
              "color": "#E5ECF6",
              "width": 0.5
             },
             "pattern": {
              "fillmode": "overlay",
              "size": 10,
              "solidity": 0.2
             }
            },
            "type": "barpolar"
           }
          ],
          "carpet": [
           {
            "aaxis": {
             "endlinecolor": "#2a3f5f",
             "gridcolor": "white",
             "linecolor": "white",
             "minorgridcolor": "white",
             "startlinecolor": "#2a3f5f"
            },
            "baxis": {
             "endlinecolor": "#2a3f5f",
             "gridcolor": "white",
             "linecolor": "white",
             "minorgridcolor": "white",
             "startlinecolor": "#2a3f5f"
            },
            "type": "carpet"
           }
          ],
          "choropleth": [
           {
            "colorbar": {
             "outlinewidth": 0,
             "ticks": ""
            },
            "type": "choropleth"
           }
          ],
          "contour": [
           {
            "colorbar": {
             "outlinewidth": 0,
             "ticks": ""
            },
            "colorscale": [
             [
              0,
              "#0d0887"
             ],
             [
              0.1111111111111111,
              "#46039f"
             ],
             [
              0.2222222222222222,
              "#7201a8"
             ],
             [
              0.3333333333333333,
              "#9c179e"
             ],
             [
              0.4444444444444444,
              "#bd3786"
             ],
             [
              0.5555555555555556,
              "#d8576b"
             ],
             [
              0.6666666666666666,
              "#ed7953"
             ],
             [
              0.7777777777777778,
              "#fb9f3a"
             ],
             [
              0.8888888888888888,
              "#fdca26"
             ],
             [
              1,
              "#f0f921"
             ]
            ],
            "type": "contour"
           }
          ],
          "contourcarpet": [
           {
            "colorbar": {
             "outlinewidth": 0,
             "ticks": ""
            },
            "type": "contourcarpet"
           }
          ],
          "heatmap": [
           {
            "colorbar": {
             "outlinewidth": 0,
             "ticks": ""
            },
            "colorscale": [
             [
              0,
              "#0d0887"
             ],
             [
              0.1111111111111111,
              "#46039f"
             ],
             [
              0.2222222222222222,
              "#7201a8"
             ],
             [
              0.3333333333333333,
              "#9c179e"
             ],
             [
              0.4444444444444444,
              "#bd3786"
             ],
             [
              0.5555555555555556,
              "#d8576b"
             ],
             [
              0.6666666666666666,
              "#ed7953"
             ],
             [
              0.7777777777777778,
              "#fb9f3a"
             ],
             [
              0.8888888888888888,
              "#fdca26"
             ],
             [
              1,
              "#f0f921"
             ]
            ],
            "type": "heatmap"
           }
          ],
          "heatmapgl": [
           {
            "colorbar": {
             "outlinewidth": 0,
             "ticks": ""
            },
            "colorscale": [
             [
              0,
              "#0d0887"
             ],
             [
              0.1111111111111111,
              "#46039f"
             ],
             [
              0.2222222222222222,
              "#7201a8"
             ],
             [
              0.3333333333333333,
              "#9c179e"
             ],
             [
              0.4444444444444444,
              "#bd3786"
             ],
             [
              0.5555555555555556,
              "#d8576b"
             ],
             [
              0.6666666666666666,
              "#ed7953"
             ],
             [
              0.7777777777777778,
              "#fb9f3a"
             ],
             [
              0.8888888888888888,
              "#fdca26"
             ],
             [
              1,
              "#f0f921"
             ]
            ],
            "type": "heatmapgl"
           }
          ],
          "histogram": [
           {
            "marker": {
             "pattern": {
              "fillmode": "overlay",
              "size": 10,
              "solidity": 0.2
             }
            },
            "type": "histogram"
           }
          ],
          "histogram2d": [
           {
            "colorbar": {
             "outlinewidth": 0,
             "ticks": ""
            },
            "colorscale": [
             [
              0,
              "#0d0887"
             ],
             [
              0.1111111111111111,
              "#46039f"
             ],
             [
              0.2222222222222222,
              "#7201a8"
             ],
             [
              0.3333333333333333,
              "#9c179e"
             ],
             [
              0.4444444444444444,
              "#bd3786"
             ],
             [
              0.5555555555555556,
              "#d8576b"
             ],
             [
              0.6666666666666666,
              "#ed7953"
             ],
             [
              0.7777777777777778,
              "#fb9f3a"
             ],
             [
              0.8888888888888888,
              "#fdca26"
             ],
             [
              1,
              "#f0f921"
             ]
            ],
            "type": "histogram2d"
           }
          ],
          "histogram2dcontour": [
           {
            "colorbar": {
             "outlinewidth": 0,
             "ticks": ""
            },
            "colorscale": [
             [
              0,
              "#0d0887"
             ],
             [
              0.1111111111111111,
              "#46039f"
             ],
             [
              0.2222222222222222,
              "#7201a8"
             ],
             [
              0.3333333333333333,
              "#9c179e"
             ],
             [
              0.4444444444444444,
              "#bd3786"
             ],
             [
              0.5555555555555556,
              "#d8576b"
             ],
             [
              0.6666666666666666,
              "#ed7953"
             ],
             [
              0.7777777777777778,
              "#fb9f3a"
             ],
             [
              0.8888888888888888,
              "#fdca26"
             ],
             [
              1,
              "#f0f921"
             ]
            ],
            "type": "histogram2dcontour"
           }
          ],
          "mesh3d": [
           {
            "colorbar": {
             "outlinewidth": 0,
             "ticks": ""
            },
            "type": "mesh3d"
           }
          ],
          "parcoords": [
           {
            "line": {
             "colorbar": {
              "outlinewidth": 0,
              "ticks": ""
             }
            },
            "type": "parcoords"
           }
          ],
          "pie": [
           {
            "automargin": true,
            "type": "pie"
           }
          ],
          "scatter": [
           {
            "fillpattern": {
             "fillmode": "overlay",
             "size": 10,
             "solidity": 0.2
            },
            "type": "scatter"
           }
          ],
          "scatter3d": [
           {
            "line": {
             "colorbar": {
              "outlinewidth": 0,
              "ticks": ""
             }
            },
            "marker": {
             "colorbar": {
              "outlinewidth": 0,
              "ticks": ""
             }
            },
            "type": "scatter3d"
           }
          ],
          "scattercarpet": [
           {
            "marker": {
             "colorbar": {
              "outlinewidth": 0,
              "ticks": ""
             }
            },
            "type": "scattercarpet"
           }
          ],
          "scattergeo": [
           {
            "marker": {
             "colorbar": {
              "outlinewidth": 0,
              "ticks": ""
             }
            },
            "type": "scattergeo"
           }
          ],
          "scattergl": [
           {
            "marker": {
             "colorbar": {
              "outlinewidth": 0,
              "ticks": ""
             }
            },
            "type": "scattergl"
           }
          ],
          "scattermapbox": [
           {
            "marker": {
             "colorbar": {
              "outlinewidth": 0,
              "ticks": ""
             }
            },
            "type": "scattermapbox"
           }
          ],
          "scatterpolar": [
           {
            "marker": {
             "colorbar": {
              "outlinewidth": 0,
              "ticks": ""
             }
            },
            "type": "scatterpolar"
           }
          ],
          "scatterpolargl": [
           {
            "marker": {
             "colorbar": {
              "outlinewidth": 0,
              "ticks": ""
             }
            },
            "type": "scatterpolargl"
           }
          ],
          "scatterternary": [
           {
            "marker": {
             "colorbar": {
              "outlinewidth": 0,
              "ticks": ""
             }
            },
            "type": "scatterternary"
           }
          ],
          "surface": [
           {
            "colorbar": {
             "outlinewidth": 0,
             "ticks": ""
            },
            "colorscale": [
             [
              0,
              "#0d0887"
             ],
             [
              0.1111111111111111,
              "#46039f"
             ],
             [
              0.2222222222222222,
              "#7201a8"
             ],
             [
              0.3333333333333333,
              "#9c179e"
             ],
             [
              0.4444444444444444,
              "#bd3786"
             ],
             [
              0.5555555555555556,
              "#d8576b"
             ],
             [
              0.6666666666666666,
              "#ed7953"
             ],
             [
              0.7777777777777778,
              "#fb9f3a"
             ],
             [
              0.8888888888888888,
              "#fdca26"
             ],
             [
              1,
              "#f0f921"
             ]
            ],
            "type": "surface"
           }
          ],
          "table": [
           {
            "cells": {
             "fill": {
              "color": "#EBF0F8"
             },
             "line": {
              "color": "white"
             }
            },
            "header": {
             "fill": {
              "color": "#C8D4E3"
             },
             "line": {
              "color": "white"
             }
            },
            "type": "table"
           }
          ]
         },
         "layout": {
          "annotationdefaults": {
           "arrowcolor": "#2a3f5f",
           "arrowhead": 0,
           "arrowwidth": 1
          },
          "autotypenumbers": "strict",
          "coloraxis": {
           "colorbar": {
            "outlinewidth": 0,
            "ticks": ""
           }
          },
          "colorscale": {
           "diverging": [
            [
             0,
             "#8e0152"
            ],
            [
             0.1,
             "#c51b7d"
            ],
            [
             0.2,
             "#de77ae"
            ],
            [
             0.3,
             "#f1b6da"
            ],
            [
             0.4,
             "#fde0ef"
            ],
            [
             0.5,
             "#f7f7f7"
            ],
            [
             0.6,
             "#e6f5d0"
            ],
            [
             0.7,
             "#b8e186"
            ],
            [
             0.8,
             "#7fbc41"
            ],
            [
             0.9,
             "#4d9221"
            ],
            [
             1,
             "#276419"
            ]
           ],
           "sequential": [
            [
             0,
             "#0d0887"
            ],
            [
             0.1111111111111111,
             "#46039f"
            ],
            [
             0.2222222222222222,
             "#7201a8"
            ],
            [
             0.3333333333333333,
             "#9c179e"
            ],
            [
             0.4444444444444444,
             "#bd3786"
            ],
            [
             0.5555555555555556,
             "#d8576b"
            ],
            [
             0.6666666666666666,
             "#ed7953"
            ],
            [
             0.7777777777777778,
             "#fb9f3a"
            ],
            [
             0.8888888888888888,
             "#fdca26"
            ],
            [
             1,
             "#f0f921"
            ]
           ],
           "sequentialminus": [
            [
             0,
             "#0d0887"
            ],
            [
             0.1111111111111111,
             "#46039f"
            ],
            [
             0.2222222222222222,
             "#7201a8"
            ],
            [
             0.3333333333333333,
             "#9c179e"
            ],
            [
             0.4444444444444444,
             "#bd3786"
            ],
            [
             0.5555555555555556,
             "#d8576b"
            ],
            [
             0.6666666666666666,
             "#ed7953"
            ],
            [
             0.7777777777777778,
             "#fb9f3a"
            ],
            [
             0.8888888888888888,
             "#fdca26"
            ],
            [
             1,
             "#f0f921"
            ]
           ]
          },
          "colorway": [
           "#636efa",
           "#EF553B",
           "#00cc96",
           "#ab63fa",
           "#FFA15A",
           "#19d3f3",
           "#FF6692",
           "#B6E880",
           "#FF97FF",
           "#FECB52"
          ],
          "font": {
           "color": "#2a3f5f"
          },
          "geo": {
           "bgcolor": "white",
           "lakecolor": "white",
           "landcolor": "#E5ECF6",
           "showlakes": true,
           "showland": true,
           "subunitcolor": "white"
          },
          "hoverlabel": {
           "align": "left"
          },
          "hovermode": "closest",
          "mapbox": {
           "style": "light"
          },
          "paper_bgcolor": "white",
          "plot_bgcolor": "#E5ECF6",
          "polar": {
           "angularaxis": {
            "gridcolor": "white",
            "linecolor": "white",
            "ticks": ""
           },
           "bgcolor": "#E5ECF6",
           "radialaxis": {
            "gridcolor": "white",
            "linecolor": "white",
            "ticks": ""
           }
          },
          "scene": {
           "xaxis": {
            "backgroundcolor": "#E5ECF6",
            "gridcolor": "white",
            "gridwidth": 2,
            "linecolor": "white",
            "showbackground": true,
            "ticks": "",
            "zerolinecolor": "white"
           },
           "yaxis": {
            "backgroundcolor": "#E5ECF6",
            "gridcolor": "white",
            "gridwidth": 2,
            "linecolor": "white",
            "showbackground": true,
            "ticks": "",
            "zerolinecolor": "white"
           },
           "zaxis": {
            "backgroundcolor": "#E5ECF6",
            "gridcolor": "white",
            "gridwidth": 2,
            "linecolor": "white",
            "showbackground": true,
            "ticks": "",
            "zerolinecolor": "white"
           }
          },
          "shapedefaults": {
           "line": {
            "color": "#2a3f5f"
           }
          },
          "ternary": {
           "aaxis": {
            "gridcolor": "white",
            "linecolor": "white",
            "ticks": ""
           },
           "baxis": {
            "gridcolor": "white",
            "linecolor": "white",
            "ticks": ""
           },
           "bgcolor": "#E5ECF6",
           "caxis": {
            "gridcolor": "white",
            "linecolor": "white",
            "ticks": ""
           }
          },
          "title": {
           "x": 0.05
          },
          "xaxis": {
           "automargin": true,
           "gridcolor": "white",
           "linecolor": "white",
           "ticks": "",
           "title": {
            "standoff": 15
           },
           "zerolinecolor": "white",
           "zerolinewidth": 2
          },
          "yaxis": {
           "automargin": true,
           "gridcolor": "white",
           "linecolor": "white",
           "ticks": "",
           "title": {
            "standoff": 15
           },
           "zerolinecolor": "white",
           "zerolinewidth": 2
          }
         }
        },
        "title": {
         "text": "Betti curves from diagram 0"
        },
        "xaxis": {
         "anchor": "y",
         "exponentformat": "e",
         "linecolor": "black",
         "linewidth": 1,
         "mirror": false,
         "showexponent": "all",
         "showline": true,
         "side": "bottom",
         "ticks": "outside",
         "title": {
          "text": "Filtration parameter"
         },
         "type": "linear",
         "zeroline": true
        },
        "yaxis": {
         "anchor": "x",
         "exponentformat": "e",
         "linecolor": "black",
         "linewidth": 1,
         "mirror": false,
         "showexponent": "all",
         "showline": true,
         "side": "left",
         "ticks": "outside",
         "title": {
          "text": "Betti number"
         },
         "type": "linear",
         "zeroline": true
        }
       }
      }
     },
     "metadata": {},
     "output_type": "display_data"
    }
   ],
   "source": [
    "# calculate the betti curve\n",
    "bc = BettiCurve()\n",
    "betti_curve = bc.fit_transform(diagrams_train)\n",
    "bc.plot(betti_curve, sample = 0)"
   ]
  },
  {
   "cell_type": "code",
   "execution_count": 24,
   "metadata": {},
   "outputs": [
    {
     "name": "stdout",
     "output_type": "stream",
     "text": [
      "(75, 75, 2)\n"
     ]
    }
   ],
   "source": [
    "# calculate the betti distance\n",
    "pd2 = PairwiseDistance(metric = \"betti\",\n",
    "                       metric_params = {\"p\": 1},\n",
    "                       order = None)\n",
    "betti_dis = pd2.fit_transform(diagrams_train)\n",
    "print(betti_dis.shape)"
   ]
  },
  {
   "attachments": {},
   "cell_type": "markdown",
   "metadata": {},
   "source": [
    "Persistence landscape"
   ]
  },
  {
   "cell_type": "code",
   "execution_count": 25,
   "metadata": {},
   "outputs": [],
   "source": [
    "# build the persitence landscape\n",
    "pl = PersistenceLandscape()\n",
    "landscapes = pl.fit_transform(diagrams_train)"
   ]
  },
  {
   "cell_type": "code",
   "execution_count": 26,
   "metadata": {},
   "outputs": [
    {
     "data": {
      "application/vnd.plotly.v1+json": {
       "config": {
        "plotlyServerURL": "https://plot.ly"
       },
       "data": [
        {
         "hoverinfo": "none",
         "mode": "lines",
         "name": "Layer 1 (H0)",
         "showlegend": true,
         "type": "scatter",
         "x": [
          0,
          0.03636363540032898,
          0.07272727080065795,
          0.10909090620098694,
          0.1454545416013159,
          0.18181817700164488,
          0.21818181240197387,
          0.2545454478023028,
          0.2909090832026318,
          0.3272727186029608,
          0.36363635400328975,
          0.39999998940361875,
          0.43636362480394775,
          0.4727272602042767,
          0.5090908956046056,
          0.5454545310049347,
          0.5818181664052636,
          0.6181818018055926,
          0.6545454372059216,
          0.6909090726062506,
          0.7272727080065795,
          0.7636363434069086,
          0.7999999788072375,
          0.8363636142075664,
          0.8727272496078955,
          0.9090908850082244,
          0.9454545204085534,
          0.9818181558088823,
          1.0181817912092113,
          1.0545454266095404,
          1.0909090620098694,
          1.1272726974101983,
          1.1636363328105273,
          1.1999999682108562,
          1.2363636036111851,
          1.272727239011514,
          1.3090908744118432,
          1.3454545098121722,
          1.3818181452125011,
          1.41818178061283,
          1.454545416013159,
          1.490909051413488,
          1.5272726868138171,
          1.563636322214146,
          1.599999957614475,
          1.636363593014804,
          1.6727272284151329,
          1.7090908638154618,
          1.745454499215791,
          1.78181813461612,
          1.8181817700164489,
          1.8545454054167778,
          1.8909090408171068,
          1.9272726762174357,
          1.9636363116177646,
          1.9999999470180938,
          2.0363635824184225,
          2.0727272178187515,
          2.109090853219081,
          2.14545448861941,
          2.1818181240197387,
          2.2181817594200677,
          2.2545453948203966,
          2.2909090302207256,
          2.3272726656210545,
          2.3636363010213834,
          2.3999999364217124,
          2.4363635718220413,
          2.4727272072223703,
          2.509090842622699,
          2.545454478023028,
          2.5818181134233575,
          2.6181817488236865,
          2.6545453842240154,
          2.6909090196243444,
          2.7272726550246733,
          2.7636362904250023,
          2.799999925825331,
          2.83636356122566,
          2.872727196625989,
          2.909090832026318,
          2.945454467426647,
          2.981818102826976,
          3.018181738227305,
          3.0545453736276342,
          3.090909009027963,
          3.127272644428292,
          3.163636279828621,
          3.19999991522895,
          3.236363550629279,
          3.272727186029608,
          3.309090821429937,
          3.3454544568302658,
          3.3818180922305947,
          3.4181817276309236,
          3.4545453630312526,
          3.490908998431582,
          3.527272633831911,
          3.56363626923224,
          3.5999999046325684
         ],
         "xaxis": "x",
         "y": [
          0,
          0.03636363540032894,
          0.072727270800658,
          0.10909090620098694,
          0.14545454160131588,
          0.18181817700164493,
          0.21818181240197387,
          0.2545454478023028,
          0.2909090832026318,
          0.3272727186029608,
          0.36363635400328975,
          0.3999999894036188,
          0.43636362480394775,
          0.4727272602042767,
          0.5090908956046056,
          0.5454545310049347,
          0.5818181664052636,
          0.6181818018055926,
          0.6545454372059216,
          0.6909090726062506,
          0.7272727080065795,
          0.7636363434069086,
          0.7999999788072375,
          0.8363636142075664,
          0.8727272496078955,
          0.9090908850082244,
          0.9454545204085534,
          0.9818181558088823,
          1.0181817912092113,
          1.045454478023028,
          1.009090842622699,
          0.97272720722237,
          0.9363635718220411,
          0.8999999364217122,
          0.8636363010213832,
          0.8272726656210543,
          0.7909090302207251,
          0.7545453948203962,
          0.7181817594200672,
          0.6818181240197383,
          0.6454544886194094,
          0.6090908532190804,
          0.5727272178187512,
          0.5363635824184223,
          0.49999994701809336,
          0.4636363116177644,
          0.4272726762174355,
          0.39090904081710653,
          0.35454540541677737,
          0.31818177001644843,
          0.2818181346161195,
          0.24545449921579054,
          0.2090908638154616,
          0.17272722841513266,
          0.13636359301480372,
          0.09999995761447456,
          0.06363632221414584,
          0.027272686813816893,
          0,
          0,
          0,
          0,
          0,
          0,
          0,
          0,
          0,
          0,
          0,
          0,
          0,
          0,
          0,
          0,
          0,
          0,
          0,
          0,
          0,
          0,
          0,
          0,
          0,
          0,
          0,
          0,
          0,
          0,
          0,
          0,
          0,
          0,
          0,
          0,
          0,
          0,
          0,
          0,
          0,
          0
         ],
         "yaxis": "y"
        },
        {
         "hoverinfo": "none",
         "mode": "lines",
         "name": "Layer 1 (H1)",
         "showlegend": true,
         "type": "scatter",
         "x": [
          0,
          0.03636363540032898,
          0.07272727080065795,
          0.10909090620098694,
          0.1454545416013159,
          0.18181817700164488,
          0.21818181240197387,
          0.2545454478023028,
          0.2909090832026318,
          0.3272727186029608,
          0.36363635400328975,
          0.39999998940361875,
          0.43636362480394775,
          0.4727272602042767,
          0.5090908956046056,
          0.5454545310049347,
          0.5818181664052636,
          0.6181818018055926,
          0.6545454372059216,
          0.6909090726062506,
          0.7272727080065795,
          0.7636363434069086,
          0.7999999788072375,
          0.8363636142075664,
          0.8727272496078955,
          0.9090908850082244,
          0.9454545204085534,
          0.9818181558088823,
          1.0181817912092113,
          1.0545454266095404,
          1.0909090620098694,
          1.1272726974101983,
          1.1636363328105273,
          1.1999999682108562,
          1.2363636036111851,
          1.272727239011514,
          1.3090908744118432,
          1.3454545098121722,
          1.3818181452125011,
          1.41818178061283,
          1.454545416013159,
          1.490909051413488,
          1.5272726868138171,
          1.563636322214146,
          1.599999957614475,
          1.636363593014804,
          1.6727272284151329,
          1.7090908638154618,
          1.745454499215791,
          1.78181813461612,
          1.8181817700164489,
          1.8545454054167778,
          1.8909090408171068,
          1.9272726762174357,
          1.9636363116177646,
          1.9999999470180938,
          2.0363635824184225,
          2.0727272178187515,
          2.109090853219081,
          2.14545448861941,
          2.1818181240197387,
          2.2181817594200677,
          2.2545453948203966,
          2.2909090302207256,
          2.3272726656210545,
          2.3636363010213834,
          2.3999999364217124,
          2.4363635718220413,
          2.4727272072223703,
          2.509090842622699,
          2.545454478023028,
          2.5818181134233575,
          2.6181817488236865,
          2.6545453842240154,
          2.6909090196243444,
          2.7272726550246733,
          2.7636362904250023,
          2.799999925825331,
          2.83636356122566,
          2.872727196625989,
          2.909090832026318,
          2.945454467426647,
          2.981818102826976,
          3.018181738227305,
          3.0545453736276342,
          3.090909009027963,
          3.127272644428292,
          3.163636279828621,
          3.19999991522895,
          3.236363550629279,
          3.272727186029608,
          3.309090821429937,
          3.3454544568302658,
          3.3818180922305947,
          3.4181817276309236,
          3.4545453630312526,
          3.490908998431582,
          3.527272633831911,
          3.56363626923224,
          3.5999999046325684
         ],
         "xaxis": "x2",
         "y": [
          0,
          0,
          0,
          0,
          0,
          0,
          0,
          0,
          0,
          0,
          0,
          0,
          0,
          0,
          0,
          0,
          0,
          0,
          0,
          0,
          0,
          0,
          0,
          0,
          0,
          0,
          0,
          0,
          0,
          0,
          0,
          0,
          0,
          0,
          0,
          0,
          0,
          0,
          0,
          0,
          0,
          0,
          0,
          0,
          0,
          0,
          0,
          0,
          0,
          0,
          0,
          0,
          0,
          0,
          0,
          0,
          0,
          0,
          0,
          0,
          0,
          0,
          0,
          0,
          0,
          0,
          0,
          0,
          0,
          0,
          0,
          0,
          0,
          0,
          0,
          0,
          0,
          0,
          0,
          0,
          0,
          0,
          0,
          0,
          0,
          0,
          0,
          0,
          0,
          0,
          0,
          0,
          0,
          0,
          0,
          0,
          0,
          0,
          0,
          0
         ],
         "yaxis": "y2"
        }
       ],
       "layout": {
        "annotations": [
         {
          "font": {
           "size": 16
          },
          "showarrow": false,
          "text": "H0",
          "x": 0.5,
          "xanchor": "center",
          "xref": "paper",
          "y": 1,
          "yanchor": "bottom",
          "yref": "paper"
         },
         {
          "font": {
           "size": 16
          },
          "showarrow": false,
          "text": "H1",
          "x": 0.5,
          "xanchor": "center",
          "xref": "paper",
          "y": 0.375,
          "yanchor": "bottom",
          "yref": "paper"
         }
        ],
        "plot_bgcolor": "white",
        "template": {
         "data": {
          "bar": [
           {
            "error_x": {
             "color": "#2a3f5f"
            },
            "error_y": {
             "color": "#2a3f5f"
            },
            "marker": {
             "line": {
              "color": "#E5ECF6",
              "width": 0.5
             },
             "pattern": {
              "fillmode": "overlay",
              "size": 10,
              "solidity": 0.2
             }
            },
            "type": "bar"
           }
          ],
          "barpolar": [
           {
            "marker": {
             "line": {
              "color": "#E5ECF6",
              "width": 0.5
             },
             "pattern": {
              "fillmode": "overlay",
              "size": 10,
              "solidity": 0.2
             }
            },
            "type": "barpolar"
           }
          ],
          "carpet": [
           {
            "aaxis": {
             "endlinecolor": "#2a3f5f",
             "gridcolor": "white",
             "linecolor": "white",
             "minorgridcolor": "white",
             "startlinecolor": "#2a3f5f"
            },
            "baxis": {
             "endlinecolor": "#2a3f5f",
             "gridcolor": "white",
             "linecolor": "white",
             "minorgridcolor": "white",
             "startlinecolor": "#2a3f5f"
            },
            "type": "carpet"
           }
          ],
          "choropleth": [
           {
            "colorbar": {
             "outlinewidth": 0,
             "ticks": ""
            },
            "type": "choropleth"
           }
          ],
          "contour": [
           {
            "colorbar": {
             "outlinewidth": 0,
             "ticks": ""
            },
            "colorscale": [
             [
              0,
              "#0d0887"
             ],
             [
              0.1111111111111111,
              "#46039f"
             ],
             [
              0.2222222222222222,
              "#7201a8"
             ],
             [
              0.3333333333333333,
              "#9c179e"
             ],
             [
              0.4444444444444444,
              "#bd3786"
             ],
             [
              0.5555555555555556,
              "#d8576b"
             ],
             [
              0.6666666666666666,
              "#ed7953"
             ],
             [
              0.7777777777777778,
              "#fb9f3a"
             ],
             [
              0.8888888888888888,
              "#fdca26"
             ],
             [
              1,
              "#f0f921"
             ]
            ],
            "type": "contour"
           }
          ],
          "contourcarpet": [
           {
            "colorbar": {
             "outlinewidth": 0,
             "ticks": ""
            },
            "type": "contourcarpet"
           }
          ],
          "heatmap": [
           {
            "colorbar": {
             "outlinewidth": 0,
             "ticks": ""
            },
            "colorscale": [
             [
              0,
              "#0d0887"
             ],
             [
              0.1111111111111111,
              "#46039f"
             ],
             [
              0.2222222222222222,
              "#7201a8"
             ],
             [
              0.3333333333333333,
              "#9c179e"
             ],
             [
              0.4444444444444444,
              "#bd3786"
             ],
             [
              0.5555555555555556,
              "#d8576b"
             ],
             [
              0.6666666666666666,
              "#ed7953"
             ],
             [
              0.7777777777777778,
              "#fb9f3a"
             ],
             [
              0.8888888888888888,
              "#fdca26"
             ],
             [
              1,
              "#f0f921"
             ]
            ],
            "type": "heatmap"
           }
          ],
          "heatmapgl": [
           {
            "colorbar": {
             "outlinewidth": 0,
             "ticks": ""
            },
            "colorscale": [
             [
              0,
              "#0d0887"
             ],
             [
              0.1111111111111111,
              "#46039f"
             ],
             [
              0.2222222222222222,
              "#7201a8"
             ],
             [
              0.3333333333333333,
              "#9c179e"
             ],
             [
              0.4444444444444444,
              "#bd3786"
             ],
             [
              0.5555555555555556,
              "#d8576b"
             ],
             [
              0.6666666666666666,
              "#ed7953"
             ],
             [
              0.7777777777777778,
              "#fb9f3a"
             ],
             [
              0.8888888888888888,
              "#fdca26"
             ],
             [
              1,
              "#f0f921"
             ]
            ],
            "type": "heatmapgl"
           }
          ],
          "histogram": [
           {
            "marker": {
             "pattern": {
              "fillmode": "overlay",
              "size": 10,
              "solidity": 0.2
             }
            },
            "type": "histogram"
           }
          ],
          "histogram2d": [
           {
            "colorbar": {
             "outlinewidth": 0,
             "ticks": ""
            },
            "colorscale": [
             [
              0,
              "#0d0887"
             ],
             [
              0.1111111111111111,
              "#46039f"
             ],
             [
              0.2222222222222222,
              "#7201a8"
             ],
             [
              0.3333333333333333,
              "#9c179e"
             ],
             [
              0.4444444444444444,
              "#bd3786"
             ],
             [
              0.5555555555555556,
              "#d8576b"
             ],
             [
              0.6666666666666666,
              "#ed7953"
             ],
             [
              0.7777777777777778,
              "#fb9f3a"
             ],
             [
              0.8888888888888888,
              "#fdca26"
             ],
             [
              1,
              "#f0f921"
             ]
            ],
            "type": "histogram2d"
           }
          ],
          "histogram2dcontour": [
           {
            "colorbar": {
             "outlinewidth": 0,
             "ticks": ""
            },
            "colorscale": [
             [
              0,
              "#0d0887"
             ],
             [
              0.1111111111111111,
              "#46039f"
             ],
             [
              0.2222222222222222,
              "#7201a8"
             ],
             [
              0.3333333333333333,
              "#9c179e"
             ],
             [
              0.4444444444444444,
              "#bd3786"
             ],
             [
              0.5555555555555556,
              "#d8576b"
             ],
             [
              0.6666666666666666,
              "#ed7953"
             ],
             [
              0.7777777777777778,
              "#fb9f3a"
             ],
             [
              0.8888888888888888,
              "#fdca26"
             ],
             [
              1,
              "#f0f921"
             ]
            ],
            "type": "histogram2dcontour"
           }
          ],
          "mesh3d": [
           {
            "colorbar": {
             "outlinewidth": 0,
             "ticks": ""
            },
            "type": "mesh3d"
           }
          ],
          "parcoords": [
           {
            "line": {
             "colorbar": {
              "outlinewidth": 0,
              "ticks": ""
             }
            },
            "type": "parcoords"
           }
          ],
          "pie": [
           {
            "automargin": true,
            "type": "pie"
           }
          ],
          "scatter": [
           {
            "fillpattern": {
             "fillmode": "overlay",
             "size": 10,
             "solidity": 0.2
            },
            "type": "scatter"
           }
          ],
          "scatter3d": [
           {
            "line": {
             "colorbar": {
              "outlinewidth": 0,
              "ticks": ""
             }
            },
            "marker": {
             "colorbar": {
              "outlinewidth": 0,
              "ticks": ""
             }
            },
            "type": "scatter3d"
           }
          ],
          "scattercarpet": [
           {
            "marker": {
             "colorbar": {
              "outlinewidth": 0,
              "ticks": ""
             }
            },
            "type": "scattercarpet"
           }
          ],
          "scattergeo": [
           {
            "marker": {
             "colorbar": {
              "outlinewidth": 0,
              "ticks": ""
             }
            },
            "type": "scattergeo"
           }
          ],
          "scattergl": [
           {
            "marker": {
             "colorbar": {
              "outlinewidth": 0,
              "ticks": ""
             }
            },
            "type": "scattergl"
           }
          ],
          "scattermapbox": [
           {
            "marker": {
             "colorbar": {
              "outlinewidth": 0,
              "ticks": ""
             }
            },
            "type": "scattermapbox"
           }
          ],
          "scatterpolar": [
           {
            "marker": {
             "colorbar": {
              "outlinewidth": 0,
              "ticks": ""
             }
            },
            "type": "scatterpolar"
           }
          ],
          "scatterpolargl": [
           {
            "marker": {
             "colorbar": {
              "outlinewidth": 0,
              "ticks": ""
             }
            },
            "type": "scatterpolargl"
           }
          ],
          "scatterternary": [
           {
            "marker": {
             "colorbar": {
              "outlinewidth": 0,
              "ticks": ""
             }
            },
            "type": "scatterternary"
           }
          ],
          "surface": [
           {
            "colorbar": {
             "outlinewidth": 0,
             "ticks": ""
            },
            "colorscale": [
             [
              0,
              "#0d0887"
             ],
             [
              0.1111111111111111,
              "#46039f"
             ],
             [
              0.2222222222222222,
              "#7201a8"
             ],
             [
              0.3333333333333333,
              "#9c179e"
             ],
             [
              0.4444444444444444,
              "#bd3786"
             ],
             [
              0.5555555555555556,
              "#d8576b"
             ],
             [
              0.6666666666666666,
              "#ed7953"
             ],
             [
              0.7777777777777778,
              "#fb9f3a"
             ],
             [
              0.8888888888888888,
              "#fdca26"
             ],
             [
              1,
              "#f0f921"
             ]
            ],
            "type": "surface"
           }
          ],
          "table": [
           {
            "cells": {
             "fill": {
              "color": "#EBF0F8"
             },
             "line": {
              "color": "white"
             }
            },
            "header": {
             "fill": {
              "color": "#C8D4E3"
             },
             "line": {
              "color": "white"
             }
            },
            "type": "table"
           }
          ]
         },
         "layout": {
          "annotationdefaults": {
           "arrowcolor": "#2a3f5f",
           "arrowhead": 0,
           "arrowwidth": 1
          },
          "autotypenumbers": "strict",
          "coloraxis": {
           "colorbar": {
            "outlinewidth": 0,
            "ticks": ""
           }
          },
          "colorscale": {
           "diverging": [
            [
             0,
             "#8e0152"
            ],
            [
             0.1,
             "#c51b7d"
            ],
            [
             0.2,
             "#de77ae"
            ],
            [
             0.3,
             "#f1b6da"
            ],
            [
             0.4,
             "#fde0ef"
            ],
            [
             0.5,
             "#f7f7f7"
            ],
            [
             0.6,
             "#e6f5d0"
            ],
            [
             0.7,
             "#b8e186"
            ],
            [
             0.8,
             "#7fbc41"
            ],
            [
             0.9,
             "#4d9221"
            ],
            [
             1,
             "#276419"
            ]
           ],
           "sequential": [
            [
             0,
             "#0d0887"
            ],
            [
             0.1111111111111111,
             "#46039f"
            ],
            [
             0.2222222222222222,
             "#7201a8"
            ],
            [
             0.3333333333333333,
             "#9c179e"
            ],
            [
             0.4444444444444444,
             "#bd3786"
            ],
            [
             0.5555555555555556,
             "#d8576b"
            ],
            [
             0.6666666666666666,
             "#ed7953"
            ],
            [
             0.7777777777777778,
             "#fb9f3a"
            ],
            [
             0.8888888888888888,
             "#fdca26"
            ],
            [
             1,
             "#f0f921"
            ]
           ],
           "sequentialminus": [
            [
             0,
             "#0d0887"
            ],
            [
             0.1111111111111111,
             "#46039f"
            ],
            [
             0.2222222222222222,
             "#7201a8"
            ],
            [
             0.3333333333333333,
             "#9c179e"
            ],
            [
             0.4444444444444444,
             "#bd3786"
            ],
            [
             0.5555555555555556,
             "#d8576b"
            ],
            [
             0.6666666666666666,
             "#ed7953"
            ],
            [
             0.7777777777777778,
             "#fb9f3a"
            ],
            [
             0.8888888888888888,
             "#fdca26"
            ],
            [
             1,
             "#f0f921"
            ]
           ]
          },
          "colorway": [
           "#636efa",
           "#EF553B",
           "#00cc96",
           "#ab63fa",
           "#FFA15A",
           "#19d3f3",
           "#FF6692",
           "#B6E880",
           "#FF97FF",
           "#FECB52"
          ],
          "font": {
           "color": "#2a3f5f"
          },
          "geo": {
           "bgcolor": "white",
           "lakecolor": "white",
           "landcolor": "#E5ECF6",
           "showlakes": true,
           "showland": true,
           "subunitcolor": "white"
          },
          "hoverlabel": {
           "align": "left"
          },
          "hovermode": "closest",
          "mapbox": {
           "style": "light"
          },
          "paper_bgcolor": "white",
          "plot_bgcolor": "#E5ECF6",
          "polar": {
           "angularaxis": {
            "gridcolor": "white",
            "linecolor": "white",
            "ticks": ""
           },
           "bgcolor": "#E5ECF6",
           "radialaxis": {
            "gridcolor": "white",
            "linecolor": "white",
            "ticks": ""
           }
          },
          "scene": {
           "xaxis": {
            "backgroundcolor": "#E5ECF6",
            "gridcolor": "white",
            "gridwidth": 2,
            "linecolor": "white",
            "showbackground": true,
            "ticks": "",
            "zerolinecolor": "white"
           },
           "yaxis": {
            "backgroundcolor": "#E5ECF6",
            "gridcolor": "white",
            "gridwidth": 2,
            "linecolor": "white",
            "showbackground": true,
            "ticks": "",
            "zerolinecolor": "white"
           },
           "zaxis": {
            "backgroundcolor": "#E5ECF6",
            "gridcolor": "white",
            "gridwidth": 2,
            "linecolor": "white",
            "showbackground": true,
            "ticks": "",
            "zerolinecolor": "white"
           }
          },
          "shapedefaults": {
           "line": {
            "color": "#2a3f5f"
           }
          },
          "ternary": {
           "aaxis": {
            "gridcolor": "white",
            "linecolor": "white",
            "ticks": ""
           },
           "baxis": {
            "gridcolor": "white",
            "linecolor": "white",
            "ticks": ""
           },
           "bgcolor": "#E5ECF6",
           "caxis": {
            "gridcolor": "white",
            "linecolor": "white",
            "ticks": ""
           }
          },
          "title": {
           "x": 0.05
          },
          "xaxis": {
           "automargin": true,
           "gridcolor": "white",
           "linecolor": "white",
           "ticks": "",
           "title": {
            "standoff": 15
           },
           "zerolinecolor": "white",
           "zerolinewidth": 2
          },
          "yaxis": {
           "automargin": true,
           "gridcolor": "white",
           "linecolor": "white",
           "ticks": "",
           "title": {
            "standoff": 15
           },
           "zerolinecolor": "white",
           "zerolinewidth": 2
          }
         }
        },
        "title": {
         "text": "Landscape representations of diagram 0"
        },
        "xaxis": {
         "anchor": "y",
         "domain": [
          0,
          1
         ],
         "exponentformat": "e",
         "linecolor": "black",
         "linewidth": 1,
         "mirror": false,
         "showexponent": "all",
         "showline": true,
         "side": "bottom",
         "ticks": "outside",
         "type": "linear",
         "zeroline": true
        },
        "xaxis2": {
         "anchor": "y2",
         "domain": [
          0,
          1
         ]
        },
        "yaxis": {
         "anchor": "x",
         "domain": [
          0.625,
          1
         ],
         "exponentformat": "e",
         "linecolor": "black",
         "linewidth": 1,
         "mirror": false,
         "showexponent": "all",
         "showline": true,
         "side": "left",
         "ticks": "outside",
         "type": "linear",
         "zeroline": true
        },
        "yaxis2": {
         "anchor": "x2",
         "domain": [
          0,
          0.375
         ]
        }
       }
      }
     },
     "metadata": {},
     "output_type": "display_data"
    }
   ],
   "source": [
    "pl.plot(landscapes, sample = 0)"
   ]
  },
  {
   "cell_type": "code",
   "execution_count": 27,
   "metadata": {},
   "outputs": [
    {
     "name": "stdout",
     "output_type": "stream",
     "text": [
      "(75, 75, 2)\n"
     ]
    }
   ],
   "source": [
    "# calculate the persistence landscape distance\n",
    "pd3 = PairwiseDistance(metric = \"landscape\", \n",
    "                       metric_params = {\"p\": 1},\n",
    "                       order = None)\n",
    "landscape_dis = pd3.fit_transform(diagrams_train)\n",
    "print(landscape_dis.shape)"
   ]
  },
  {
   "attachments": {},
   "cell_type": "markdown",
   "metadata": {},
   "source": [
    "Classification process 01 - wassertein distance + SVM"
   ]
  },
  {
   "cell_type": "code",
   "execution_count": 28,
   "metadata": {},
   "outputs": [],
   "source": [
    "# define hyperparameter tuning\n",
    "param_grid = {\"C\": [0.01, 0.1, 1, 10, 100], \n",
    "              \"kernel\": [\"linear\", \"poly\", \"sigmoid\", \"rbf\"], \n",
    "              \"gamma\": [0.001, 0.01, 0.1, 1, 10]}"
   ]
  },
  {
   "cell_type": "code",
   "execution_count": 29,
   "metadata": {},
   "outputs": [
    {
     "data": {
      "text/plain": [
       "GridSearchCV(estimator=SVC(),\n",
       "             param_grid={'C': [0.01, 0.1, 1, 10, 100],\n",
       "                         'gamma': [0.001, 0.01, 0.1, 1, 10],\n",
       "                         'kernel': ['linear', 'poly', 'sigmoid', 'rbf']})"
      ]
     },
     "execution_count": 29,
     "metadata": {},
     "output_type": "execute_result"
    }
   ],
   "source": [
    "# define SVM-classifier\n",
    "import numpy as np\n",
    "from sklearn.svm import SVC\n",
    "from sklearn.model_selection import GridSearchCV\n",
    "from sklearn.metrics import accuracy_score\n",
    "\n",
    "classifier = SVC()\n",
    "grid_search = GridSearchCV(classifier, param_grid)\n",
    "grid_search.fit(wdis_train_flatten, y_train)\n"
   ]
  },
  {
   "cell_type": "code",
   "execution_count": 30,
   "metadata": {},
   "outputs": [
    {
     "name": "stdout",
     "output_type": "stream",
     "text": [
      "best parameters:  {'C': 1, 'gamma': 0.1, 'kernel': 'rbf'}\n",
      "best train-accuracy:  0.7066666666666668\n"
     ]
    }
   ],
   "source": [
    "# get the results\n",
    "print(\"best parameters: \", grid_search.best_params_)\n",
    "print(\"best train-accuracy: \", grid_search.best_score_)"
   ]
  },
  {
   "cell_type": "code",
   "execution_count": 31,
   "metadata": {},
   "outputs": [
    {
     "name": "stdout",
     "output_type": "stream",
     "text": [
      "test-accuracy =  0.64\n"
     ]
    }
   ],
   "source": [
    "# make predictions on test set\n",
    "y_pred = grid_search.predict(wdis_test_flatten)\n",
    "\n",
    "# get the accuracy\n",
    "acc_test = accuracy_score(y_test, y_pred)\n",
    "print(\"test-accuracy = \", acc_test)"
   ]
  },
  {
   "attachments": {},
   "cell_type": "markdown",
   "metadata": {},
   "source": [
    "Classification process 02 - bottleneck distance + Random Forest"
   ]
  },
  {
   "cell_type": "code",
   "execution_count": 32,
   "metadata": {},
   "outputs": [],
   "source": [
    "# define the hyperparameter tuning\n",
    "param_grid2 = {'n_estimators': [50, 100, 200],\n",
    "              'max_depth': [None, 5, 10, 20],\n",
    "              'min_samples_split': [2, 5, 10],\n",
    "              'min_samples_leaf': [1, 2, 4]}"
   ]
  },
  {
   "cell_type": "code",
   "execution_count": 33,
   "metadata": {},
   "outputs": [
    {
     "data": {
      "text/plain": [
       "GridSearchCV(cv=5, estimator=RandomForestClassifier(random_state=42),\n",
       "             param_grid={'max_depth': [None, 5, 10, 20],\n",
       "                         'min_samples_leaf': [1, 2, 4],\n",
       "                         'min_samples_split': [2, 5, 10],\n",
       "                         'n_estimators': [50, 100, 200]})"
      ]
     },
     "execution_count": 33,
     "metadata": {},
     "output_type": "execute_result"
    }
   ],
   "source": [
    "# define Random Forest Classifier\n",
    "from sklearn.ensemble import RandomForestClassifier\n",
    "\n",
    "rf = RandomForestClassifier(random_state = 42)\n",
    "grid_search2 = GridSearchCV(estimator = rf, \n",
    "                            param_grid = param_grid2,\n",
    "                            cv = 5)\n",
    "grid_search2.fit(bott_train_flatten, y_train)"
   ]
  },
  {
   "cell_type": "code",
   "execution_count": 34,
   "metadata": {},
   "outputs": [
    {
     "name": "stdout",
     "output_type": "stream",
     "text": [
      "best parameters:  {'max_depth': None, 'min_samples_leaf': 4, 'min_samples_split': 2, 'n_estimators': 50}\n",
      "best train-accuracy:  0.6799999999999999\n"
     ]
    }
   ],
   "source": [
    "# get the results\n",
    "print(\"best parameters: \", grid_search2.best_params_)\n",
    "print(\"best train-accuracy: \", grid_search2.best_score_)"
   ]
  },
  {
   "cell_type": "code",
   "execution_count": 35,
   "metadata": {},
   "outputs": [
    {
     "name": "stdout",
     "output_type": "stream",
     "text": [
      "test-accuracy =  0.6533333333333333\n"
     ]
    }
   ],
   "source": [
    "# make predictions on test set\n",
    "y_pred2 = grid_search2.predict(bott_test_flatten)\n",
    "\n",
    "# get the accuracy\n",
    "acc_test2 = accuracy_score(y_test, y_pred2)\n",
    "print(\"test-accuracy = \", acc_test2)"
   ]
  },
  {
   "attachments": {},
   "cell_type": "markdown",
   "metadata": {},
   "source": [
    "### Exercise 3: Eirene + Julia  \n",
    "Construction of simplicial complexes and traking the zero-homologies  \n",
    "Classification based on zero homology groups"
   ]
  },
  {
   "cell_type": "code",
   "execution_count": 36,
   "metadata": {},
   "outputs": [],
   "source": [
    "# connect with julia using api\n",
    "from julia.api import Julia"
   ]
  },
  {
   "cell_type": "code",
   "execution_count": 37,
   "metadata": {},
   "outputs": [],
   "source": [
    "# create an object of julia\n",
    "jl = Julia(compiled_modules = False)"
   ]
  },
  {
   "cell_type": "code",
   "execution_count": 38,
   "metadata": {},
   "outputs": [],
   "source": [
    "# use the Eirene package\n",
    "jl.using(\"Eirene\")"
   ]
  },
  {
   "cell_type": "code",
   "execution_count": 45,
   "metadata": {},
   "outputs": [
    {
     "data": {
      "text/plain": [
       "(4, 150)"
      ]
     },
     "execution_count": 45,
     "metadata": {},
     "output_type": "execute_result"
    }
   ],
   "source": [
    "u = x.reshape((x.shape[1], x.shape[0]))\n",
    "u.shape"
   ]
  },
  {
   "cell_type": "code",
   "execution_count": 47,
   "metadata": {},
   "outputs": [],
   "source": [
    "from julia import Main\n",
    "\n",
    "c = Main.eirene(u, model = \"pc\")"
   ]
  },
  {
   "cell_type": "code",
   "execution_count": 48,
   "metadata": {},
   "outputs": [],
   "source": [
    "import numpy as np\n",
    "\n",
    "# calculate the zero-homologies\n",
    "a0 = Main.barcode(c, dim = 0)\n",
    "a0 = np.append(np.array(a0), np.zeros((len(a0), 1)), axis = 1)"
   ]
  },
  {
   "cell_type": "code",
   "execution_count": 49,
   "metadata": {},
   "outputs": [
    {
     "name": "stdout",
     "output_type": "stream",
     "text": [
      "[[0.         0.36055513 0.        ]\n",
      " [0.         0.14142136 0.        ]\n",
      " [0.         0.51961524 0.        ]\n",
      " [0.         0.17320508 0.        ]\n",
      " [0.         0.33166248 0.        ]\n",
      " [0.         0.24494897 0.        ]\n",
      " [0.         0.37416574 0.        ]\n",
      " [0.         0.31622777 0.        ]\n",
      " [0.         0.43588989 0.        ]\n",
      " [0.         0.24494897 0.        ]\n",
      " [0.         0.57445626 0.        ]\n",
      " [0.         0.45825757 0.        ]\n",
      " [0.         0.34641016 0.        ]\n",
      " [0.         0.2236068  0.        ]\n",
      " [0.         0.3        0.        ]\n",
      " [0.         0.36055513 0.        ]\n",
      " [0.         0.46904158 0.        ]\n",
      " [0.         0.41231056 0.        ]\n",
      " [0.         0.54772256 0.        ]\n",
      " [0.         0.14142136 0.        ]\n",
      " [0.         0.24494897 0.        ]\n",
      " [0.         0.42426407 0.        ]\n",
      " [0.         0.50990195 0.        ]\n",
      " [0.         0.42426407 0.        ]\n",
      " [0.         0.87749644 0.        ]\n",
      " [0.         0.2236068  0.        ]\n",
      " [0.         0.53851648 0.        ]\n",
      " [0.         0.2        0.        ]\n",
      " [0.         0.51961524 0.        ]\n",
      " [0.         0.2        0.        ]\n",
      " [0.         0.4        0.        ]\n",
      " [0.         0.34641016 0.        ]\n",
      " [0.         1.09087121 0.        ]\n",
      " [0.         0.54772256 0.        ]\n",
      " [0.         0.64807407 0.        ]\n",
      " [0.         0.41231056 0.        ]\n",
      " [0.         0.53851648 0.        ]\n",
      " [0.         0.50990195 0.        ]\n",
      " [0.         0.45825757 0.        ]\n",
      " [0.         0.38729833 0.        ]\n",
      " [0.         0.46904158 0.        ]\n",
      " [0.         0.59160798 0.        ]\n",
      " [0.         0.24494897 0.        ]\n",
      " [0.         0.14142136 0.        ]\n",
      " [0.         0.26457513 0.        ]\n",
      " [0.         0.3        0.        ]\n",
      " [0.         0.46904158 0.        ]\n",
      " [0.         0.4472136  0.        ]\n",
      " [0.         0.37416574 0.        ]\n",
      " [0.         0.45825757 0.        ]\n",
      " [0.         0.46904158 0.        ]\n",
      " [0.         0.54772256 0.        ]\n",
      " [0.         0.34641016 0.        ]\n",
      " [0.         0.17320508 0.        ]\n",
      " [0.         0.14142136 0.        ]\n",
      " [0.         0.17320508 0.        ]\n",
      " [0.         0.31622777 0.        ]\n",
      " [0.         0.43588989 0.        ]\n",
      " [0.         0.47958315 0.        ]\n",
      " [0.         0.42426407 0.        ]\n",
      " [0.         0.64031242 0.        ]\n",
      " [0.         0.37416574 0.        ]\n",
      " [0.         0.52915026 0.        ]\n",
      " [0.         0.67082039 0.        ]\n",
      " [0.         0.81853528 0.        ]\n",
      " [0.         0.36055513 0.        ]\n",
      " [0.         0.2236068  0.        ]\n",
      " [0.         0.4472136  0.        ]\n",
      " [0.         0.38729833 0.        ]\n",
      " [0.         0.73484692 0.        ]\n",
      " [0.         0.36055513 0.        ]\n",
      " [0.         0.33166248 0.        ]\n",
      " [0.         0.45825757 0.        ]\n",
      " [0.         0.36055513 0.        ]\n",
      " [0.         0.4        0.        ]\n",
      " [0.         1.12694277 0.        ]\n",
      " [0.         0.26457513 0.        ]\n",
      " [0.         0.2236068  0.        ]\n",
      " [0.         0.31622777 0.        ]\n",
      " [0.         0.53851648 0.        ]\n",
      " [0.         0.26457513 0.        ]\n",
      " [0.         0.5        0.        ]\n",
      " [0.         0.5        0.        ]\n",
      " [0.         0.52915026 0.        ]\n",
      " [0.         0.54772256 0.        ]\n",
      " [0.         0.28284271 0.        ]\n",
      " [0.         0.50990195 0.        ]\n",
      " [0.         0.37416574 0.        ]\n",
      " [0.         1.02469508 0.        ]\n",
      " [0.         0.70710678 0.        ]\n",
      " [0.         0.48989795 0.        ]\n",
      " [0.         0.47958315 0.        ]\n",
      " [0.         0.71414284 0.        ]\n",
      " [0.         0.33166248 0.        ]\n",
      " [0.         0.50990195 0.        ]\n",
      " [0.         0.42426407 0.        ]\n",
      " [0.         0.42426407 0.        ]\n",
      " [0.         0.64807407 0.        ]\n",
      " [0.         0.72801099 0.        ]\n",
      " [0.         0.92195445 0.        ]\n",
      " [0.         0.33166248 0.        ]\n",
      " [0.         0.26457513 0.        ]\n",
      " [0.         0.48989795 0.        ]\n",
      " [0.         0.26457513 0.        ]\n",
      " [0.         0.41231056 0.        ]\n",
      " [0.         0.24494897 0.        ]\n",
      " [0.         0.83066239 0.        ]\n",
      " [0.         0.37416574 0.        ]\n",
      " [0.         0.80622577 0.        ]\n",
      " [0.         0.45825757 0.        ]\n",
      " [0.         0.24494897 0.        ]\n",
      " [0.         0.41231056 0.        ]\n",
      " [0.         0.4472136  0.        ]\n",
      " [0.         0.53851648 0.        ]\n",
      " [0.         0.34641016 0.        ]\n",
      " [0.         0.6244998  0.        ]\n",
      " [0.         0.74161985 0.        ]\n",
      " [0.         0.54772256 0.        ]\n",
      " [0.         0.4472136  0.        ]\n",
      " [0.         0.24494897 0.        ]\n",
      " [0.         0.58309519 0.        ]\n",
      " [0.         0.70710678 0.        ]\n",
      " [0.         0.3        0.        ]\n",
      " [0.         1.20415946 0.        ]\n",
      " [0.         0.33166248 0.        ]\n",
      " [0.         0.84261498 0.        ]\n",
      " [0.         0.54772256 0.        ]\n",
      " [0.         0.64031242 0.        ]\n",
      " [0.         0.37416574 0.        ]\n",
      " [0.         0.3        0.        ]\n",
      " [0.         0.37416574 0.        ]\n",
      " [0.         0.64807407 0.        ]\n",
      " [0.         0.31622777 0.        ]\n",
      " [0.         0.45825757 0.        ]\n",
      " [0.         0.42426407 0.        ]\n",
      " [0.         0.86023253 0.        ]\n",
      " [0.         0.81240384 0.        ]\n",
      " [0.         0.36055513 0.        ]\n",
      " [0.         1.57797338 0.        ]\n",
      " [0.         0.58309519 0.        ]\n",
      " [0.         0.37416574 0.        ]\n",
      " [0.         0.85440037 0.        ]\n",
      " [0.         0.79372539 0.        ]\n",
      " [0.         0.37416574 0.        ]\n",
      " [0.         0.51961524 0.        ]\n",
      " [0.         2.9291637  0.        ]\n",
      " [0.         3.27719392 0.        ]\n",
      " [0.         0.60827625 0.        ]\n",
      " [0.         3.591657   0.        ]\n",
      " [0.                inf 0.        ]]\n",
      "(150, 3)\n"
     ]
    }
   ],
   "source": [
    "# check the zero-homologies\n",
    "print(a0)\n",
    "print(a0.shape)"
   ]
  },
  {
   "cell_type": "code",
   "execution_count": 50,
   "metadata": {},
   "outputs": [
    {
     "data": {
      "application/vnd.plotly.v1+json": {
       "config": {
        "plotlyServerURL": "https://plot.ly"
       },
       "data": [
        {
         "hoverinfo": "none",
         "line": {
          "color": "black",
          "dash": "dash",
          "width": 1
         },
         "mode": "lines",
         "showlegend": false,
         "type": "scatter",
         "x": [
          -0.4309988399056314,
          4.022655839119226
         ],
         "y": [
          -0.4309988399056314,
          4.022655839119226
         ]
        },
        {
         "hoverinfo": "text",
         "hovertext": [
          "(0.0, 0.36055512754643204)",
          "(0.0, 0.14142135623732055), multiplicity: 3",
          "(0.0, 0.519615242270673)",
          "(0.0, 0.173205080756891)",
          "(0.0, 0.3316624790355284)",
          "(0.0, 0.24494897427832246), multiplicity: 6",
          "(0.0, 0.3741657386774139), multiplicity: 2",
          "(0.0, 0.31622776601682895), multiplicity: 3",
          "(0.0, 0.43588989435409736)",
          "(0.0, 0.24494897427832246), multiplicity: 6",
          "(0.0, 0.5744562646538076)",
          "(0.0, 0.4582575694955927), multiplicity: 2",
          "(0.0, 0.346410161513782), multiplicity: 3",
          "(0.0, 0.2236067977499885)",
          "(0.0, 0.2999999999999938), multiplicity: 2",
          "(0.0, 0.36055512754639263), multiplicity: 2",
          "(0.0, 0.46904157598237206)",
          "(0.0, 0.41231056256178533), multiplicity: 2",
          "(0.0, 0.54772255750517)",
          "(0.0, 0.14142135623732055), multiplicity: 3",
          "(0.0, 0.24494897427832246), multiplicity: 6",
          "(0.0, 0.42426406871190303), multiplicity: 3",
          "(0.0, 0.5099019513592695), multiplicity: 3",
          "(0.0, 0.42426406871190303), multiplicity: 3",
          "(0.0, 0.877496438739218)",
          "(0.0, 0.2236067977500044)",
          "(0.0, 0.538516480713443), multiplicity: 2",
          "(0.0, 0.1999999999999801)",
          "(0.0, 0.5196152422706457)",
          "(0.0, 0.20000000000001564)",
          "(0.0, 0.39999999999999575), multiplicity: 2",
          "(0.0, 0.346410161513782), multiplicity: 3",
          "(0.0, 1.0908712114635704)",
          "(0.0, 0.5477225575051765), multiplicity: 4",
          "(0.0, 0.6480740698407983), multiplicity: 3",
          "(0.0, 0.4123105625617509)",
          "(0.0, 0.538516480713443), multiplicity: 2",
          "(0.0, 0.5099019513592695), multiplicity: 3",
          "(0.0, 0.4582575694955617)",
          "(0.0, 0.38729833462074903)",
          "(0.0, 0.46904157598234175), multiplicity: 2",
          "(0.0, 0.5916079783099808)",
          "(0.0, 0.24494897427832246), multiplicity: 6",
          "(0.0, 0.14142135623732055), multiplicity: 3",
          "(0.0, 0.2645751311064596), multiplicity: 4",
          "(0.0, 0.3000000000000057), multiplicity: 2",
          "(0.0, 0.46904157598234175), multiplicity: 2",
          "(0.0, 0.4472135954999452)",
          "(0.0, 0.3741657386773759), multiplicity: 2",
          "(0.0, 0.4582575694956237)",
          "(0.0, 0.46904157598233415)",
          "(0.0, 0.5477225575051765), multiplicity: 4",
          "(0.0, 0.346410161513782), multiplicity: 3",
          "(0.0, 0.1732050807568705)",
          "(0.0, 0.14142135623729543)",
          "(0.0, 0.17320508075688076)",
          "(0.0, 0.31622776601682895), multiplicity: 3",
          "(0.0, 0.43588989435403214)",
          "(0.0, 0.4795831523312909), multiplicity: 2",
          "(0.0, 0.42426406871190303), multiplicity: 3",
          "(0.0, 0.6403124237432822), multiplicity: 2",
          "(0.0, 0.3741657386774139), multiplicity: 2",
          "(0.0, 0.5291502622129192)",
          "(0.0, 0.6708203932499496)",
          "(0.0, 0.8185352771872547)",
          "(0.0, 0.36055512754640245), multiplicity: 3",
          "(0.0, 0.22360679774998055)",
          "(0.0, 0.44721359549995315), multiplicity: 2",
          "(0.0, 0.38729833462073987)",
          "(0.0, 0.7348469228349673)",
          "(0.0, 0.36055512754640245), multiplicity: 3",
          "(0.0, 0.33166247903554985)",
          "(0.0, 0.45825756949557717)",
          "(0.0, 0.36055512754640245), multiplicity: 3",
          "(0.0, 0.39999999999999575), multiplicity: 2",
          "(0.0, 1.126942766958469)",
          "(0.0, 0.2645751311064596), multiplicity: 4",
          "(0.0, 0.2236067977499726)",
          "(0.0, 0.31622776601682895), multiplicity: 3",
          "(0.0, 0.5385164807134563)",
          "(0.0, 0.2645751311064596), multiplicity: 4",
          "(0.0, 0.5), multiplicity: 2",
          "(0.0, 0.5), multiplicity: 2",
          "(0.0, 0.529150262212946)",
          "(0.0, 0.5477225575051765), multiplicity: 4",
          "(0.0, 0.282842712474616)",
          "(0.0, 0.5099019513592695), multiplicity: 3",
          "(0.0, 0.3741657386773949), multiplicity: 4",
          "(0.0, 1.0246950765959515)",
          "(0.0, 0.7071067811865275)",
          "(0.0, 0.4898979485566449), multiplicity: 2",
          "(0.0, 0.4795831523312909), multiplicity: 2",
          "(0.0, 0.7141428428542985)",
          "(0.0, 0.33166247903553914), multiplicity: 2",
          "(0.0, 0.5099019513592974)",
          "(0.0, 0.42426406871193656)",
          "(0.0, 0.4242640687119282), multiplicity: 2",
          "(0.0, 0.6480740698407983), multiplicity: 3",
          "(0.0, 0.7280109889280721)",
          "(0.0, 0.9219544457292856)",
          "(0.0, 0.3316624790355177)",
          "(0.0, 0.2645751311064596), multiplicity: 4",
          "(0.0, 0.4898979485566449), multiplicity: 2",
          "(0.0, 0.26457513110644615)",
          "(0.0, 0.41231056256178533), multiplicity: 2",
          "(0.0, 0.24494897427830795)",
          "(0.0, 0.8306623862918061)",
          "(0.0, 0.3741657386773854)",
          "(0.0, 0.8062257748298585)",
          "(0.0, 0.4582575694955927), multiplicity: 2",
          "(0.0, 0.24494897427832246), multiplicity: 6",
          "(0.0, 0.41231056256177673)",
          "(0.0, 0.4472135954999611)",
          "(0.0, 0.5385164807134496)",
          "(0.0, 0.3464101615137615)",
          "(0.0, 0.6244997998398516)",
          "(0.0, 0.741619848709574)",
          "(0.0, 0.5477225575051765), multiplicity: 4",
          "(0.0, 0.44721359549995315), multiplicity: 2",
          "(0.0, 0.24494897427832246), multiplicity: 6",
          "(0.0, 0.583095189484533), multiplicity: 2",
          "(0.0, 0.7071067811865476)",
          "(0.0, 0.2999999999999938), multiplicity: 2",
          "(0.0, 1.2041594578792247)",
          "(0.0, 0.33166247903553914), multiplicity: 2",
          "(0.0, 0.8426149773176406)",
          "(0.0, 0.5477225575051635)",
          "(0.0, 0.6403124237432822), multiplicity: 2",
          "(0.0, 0.3741657386773949), multiplicity: 4",
          "(0.0, 0.3000000000000057), multiplicity: 2",
          "(0.0, 0.3741657386773759), multiplicity: 2",
          "(0.0, 0.6480740698407983), multiplicity: 3",
          "(0.0, 0.31622776601683455)",
          "(0.0, 0.45825756949558494)",
          "(0.0, 0.4242640687119282), multiplicity: 2",
          "(0.0, 0.860232526704268)",
          "(0.0, 0.8124038404636115)",
          "(0.0, 0.36055512754639263), multiplicity: 2",
          "(0.0, 1.5779733838059529)",
          "(0.0, 0.583095189484533), multiplicity: 2",
          "(0.0, 0.3741657386773949), multiplicity: 4",
          "(0.0, 0.8544003745317638)",
          "(0.0, 0.7937253933193743)",
          "(0.0, 0.3741657386773949), multiplicity: 4",
          "(0.0, 0.5196152422706594)",
          "(0.0, 2.929163703175364)",
          "(0.0, 3.277193921634788)",
          "(0.0, 0.6082762530298199)",
          "(0.0, 3.591656999213595)",
          "(0.0, inf)"
         ],
         "mode": "markers",
         "name": "H0",
         "type": "scatter",
         "x": [
          0,
          0,
          0,
          0,
          0,
          0,
          0,
          0,
          0,
          0,
          0,
          0,
          0,
          0,
          0,
          0,
          0,
          0,
          0,
          0,
          0,
          0,
          0,
          0,
          0,
          0,
          0,
          0,
          0,
          0,
          0,
          0,
          0,
          0,
          0,
          0,
          0,
          0,
          0,
          0,
          0,
          0,
          0,
          0,
          0,
          0,
          0,
          0,
          0,
          0,
          0,
          0,
          0,
          0,
          0,
          0,
          0,
          0,
          0,
          0,
          0,
          0,
          0,
          0,
          0,
          0,
          0,
          0,
          0,
          0,
          0,
          0,
          0,
          0,
          0,
          0,
          0,
          0,
          0,
          0,
          0,
          0,
          0,
          0,
          0,
          0,
          0,
          0,
          0,
          0,
          0,
          0,
          0,
          0,
          0,
          0,
          0,
          0,
          0,
          0,
          0,
          0,
          0,
          0,
          0,
          0,
          0,
          0,
          0,
          0,
          0,
          0,
          0,
          0,
          0,
          0,
          0,
          0,
          0,
          0,
          0,
          0,
          0,
          0,
          0,
          0,
          0,
          0,
          0,
          0,
          0,
          0,
          0,
          0,
          0,
          0,
          0,
          0,
          0,
          0,
          0,
          0,
          0,
          0,
          0,
          0,
          0,
          0,
          0,
          0
         ],
         "y": [
          0.36055512754643204,
          0.14142135623732055,
          0.519615242270673,
          0.173205080756891,
          0.3316624790355284,
          0.24494897427832246,
          0.3741657386774139,
          0.31622776601682895,
          0.43588989435409736,
          0.24494897427832246,
          0.5744562646538076,
          0.4582575694955927,
          0.346410161513782,
          0.2236067977499885,
          0.2999999999999938,
          0.36055512754639263,
          0.46904157598237206,
          0.41231056256178533,
          0.54772255750517,
          0.14142135623732055,
          0.24494897427832246,
          0.42426406871190303,
          0.5099019513592695,
          0.42426406871190303,
          0.877496438739218,
          0.2236067977500044,
          0.538516480713443,
          0.1999999999999801,
          0.5196152422706457,
          0.20000000000001564,
          0.39999999999999575,
          0.346410161513782,
          1.0908712114635704,
          0.5477225575051765,
          0.6480740698407983,
          0.4123105625617509,
          0.538516480713443,
          0.5099019513592695,
          0.4582575694955617,
          0.38729833462074903,
          0.46904157598234175,
          0.5916079783099808,
          0.24494897427832246,
          0.14142135623732055,
          0.2645751311064596,
          0.3000000000000057,
          0.46904157598234175,
          0.4472135954999452,
          0.3741657386773759,
          0.4582575694956237,
          0.46904157598233415,
          0.5477225575051765,
          0.346410161513782,
          0.1732050807568705,
          0.14142135623729543,
          0.17320508075688076,
          0.31622776601682895,
          0.43588989435403214,
          0.4795831523312909,
          0.42426406871190303,
          0.6403124237432822,
          0.3741657386774139,
          0.5291502622129192,
          0.6708203932499496,
          0.8185352771872547,
          0.36055512754640245,
          0.22360679774998055,
          0.44721359549995315,
          0.38729833462073987,
          0.7348469228349673,
          0.36055512754640245,
          0.33166247903554985,
          0.45825756949557717,
          0.36055512754640245,
          0.39999999999999575,
          1.126942766958469,
          0.2645751311064596,
          0.2236067977499726,
          0.31622776601682895,
          0.5385164807134563,
          0.2645751311064596,
          0.5,
          0.5,
          0.529150262212946,
          0.5477225575051765,
          0.282842712474616,
          0.5099019513592695,
          0.3741657386773949,
          1.0246950765959515,
          0.7071067811865275,
          0.4898979485566449,
          0.4795831523312909,
          0.7141428428542985,
          0.33166247903553914,
          0.5099019513592974,
          0.42426406871193656,
          0.4242640687119282,
          0.6480740698407983,
          0.7280109889280721,
          0.9219544457292856,
          0.3316624790355177,
          0.2645751311064596,
          0.4898979485566449,
          0.26457513110644615,
          0.41231056256178533,
          0.24494897427830795,
          0.8306623862918061,
          0.3741657386773854,
          0.8062257748298585,
          0.4582575694955927,
          0.24494897427832246,
          0.41231056256177673,
          0.4472135954999611,
          0.5385164807134496,
          0.3464101615137615,
          0.6244997998398516,
          0.741619848709574,
          0.5477225575051765,
          0.44721359549995315,
          0.24494897427832246,
          0.583095189484533,
          0.7071067811865476,
          0.2999999999999938,
          1.2041594578792247,
          0.33166247903553914,
          0.8426149773176406,
          0.5477225575051635,
          0.6403124237432822,
          0.3741657386773949,
          0.3000000000000057,
          0.3741657386773759,
          0.6480740698407983,
          0.31622776601683455,
          0.45825756949558494,
          0.4242640687119282,
          0.860232526704268,
          0.8124038404636115,
          0.36055512754639263,
          1.5779733838059529,
          0.583095189484533,
          0.3741657386773949,
          0.8544003745317638,
          0.7937253933193743,
          0.3741657386773949,
          0.5196152422706594,
          2.929163703175364,
          3.277193921634788,
          0.6082762530298199,
          3.591656999213595,
          3.9508226991349544
         ]
        },
        {
         "hoverinfo": "none",
         "line": {
          "color": "black",
          "dash": "dash",
          "width": 0.5
         },
         "mode": "lines",
         "name": "∞",
         "showlegend": true,
         "type": "scatter",
         "x": [
          -0.4309988399056314,
          4.022655839119226
         ],
         "y": [
          3.9508226991349544,
          3.9508226991349544
         ]
        }
       ],
       "layout": {
        "height": 500,
        "plot_bgcolor": "white",
        "template": {
         "data": {
          "bar": [
           {
            "error_x": {
             "color": "#2a3f5f"
            },
            "error_y": {
             "color": "#2a3f5f"
            },
            "marker": {
             "line": {
              "color": "#E5ECF6",
              "width": 0.5
             },
             "pattern": {
              "fillmode": "overlay",
              "size": 10,
              "solidity": 0.2
             }
            },
            "type": "bar"
           }
          ],
          "barpolar": [
           {
            "marker": {
             "line": {
              "color": "#E5ECF6",
              "width": 0.5
             },
             "pattern": {
              "fillmode": "overlay",
              "size": 10,
              "solidity": 0.2
             }
            },
            "type": "barpolar"
           }
          ],
          "carpet": [
           {
            "aaxis": {
             "endlinecolor": "#2a3f5f",
             "gridcolor": "white",
             "linecolor": "white",
             "minorgridcolor": "white",
             "startlinecolor": "#2a3f5f"
            },
            "baxis": {
             "endlinecolor": "#2a3f5f",
             "gridcolor": "white",
             "linecolor": "white",
             "minorgridcolor": "white",
             "startlinecolor": "#2a3f5f"
            },
            "type": "carpet"
           }
          ],
          "choropleth": [
           {
            "colorbar": {
             "outlinewidth": 0,
             "ticks": ""
            },
            "type": "choropleth"
           }
          ],
          "contour": [
           {
            "colorbar": {
             "outlinewidth": 0,
             "ticks": ""
            },
            "colorscale": [
             [
              0,
              "#0d0887"
             ],
             [
              0.1111111111111111,
              "#46039f"
             ],
             [
              0.2222222222222222,
              "#7201a8"
             ],
             [
              0.3333333333333333,
              "#9c179e"
             ],
             [
              0.4444444444444444,
              "#bd3786"
             ],
             [
              0.5555555555555556,
              "#d8576b"
             ],
             [
              0.6666666666666666,
              "#ed7953"
             ],
             [
              0.7777777777777778,
              "#fb9f3a"
             ],
             [
              0.8888888888888888,
              "#fdca26"
             ],
             [
              1,
              "#f0f921"
             ]
            ],
            "type": "contour"
           }
          ],
          "contourcarpet": [
           {
            "colorbar": {
             "outlinewidth": 0,
             "ticks": ""
            },
            "type": "contourcarpet"
           }
          ],
          "heatmap": [
           {
            "colorbar": {
             "outlinewidth": 0,
             "ticks": ""
            },
            "colorscale": [
             [
              0,
              "#0d0887"
             ],
             [
              0.1111111111111111,
              "#46039f"
             ],
             [
              0.2222222222222222,
              "#7201a8"
             ],
             [
              0.3333333333333333,
              "#9c179e"
             ],
             [
              0.4444444444444444,
              "#bd3786"
             ],
             [
              0.5555555555555556,
              "#d8576b"
             ],
             [
              0.6666666666666666,
              "#ed7953"
             ],
             [
              0.7777777777777778,
              "#fb9f3a"
             ],
             [
              0.8888888888888888,
              "#fdca26"
             ],
             [
              1,
              "#f0f921"
             ]
            ],
            "type": "heatmap"
           }
          ],
          "heatmapgl": [
           {
            "colorbar": {
             "outlinewidth": 0,
             "ticks": ""
            },
            "colorscale": [
             [
              0,
              "#0d0887"
             ],
             [
              0.1111111111111111,
              "#46039f"
             ],
             [
              0.2222222222222222,
              "#7201a8"
             ],
             [
              0.3333333333333333,
              "#9c179e"
             ],
             [
              0.4444444444444444,
              "#bd3786"
             ],
             [
              0.5555555555555556,
              "#d8576b"
             ],
             [
              0.6666666666666666,
              "#ed7953"
             ],
             [
              0.7777777777777778,
              "#fb9f3a"
             ],
             [
              0.8888888888888888,
              "#fdca26"
             ],
             [
              1,
              "#f0f921"
             ]
            ],
            "type": "heatmapgl"
           }
          ],
          "histogram": [
           {
            "marker": {
             "pattern": {
              "fillmode": "overlay",
              "size": 10,
              "solidity": 0.2
             }
            },
            "type": "histogram"
           }
          ],
          "histogram2d": [
           {
            "colorbar": {
             "outlinewidth": 0,
             "ticks": ""
            },
            "colorscale": [
             [
              0,
              "#0d0887"
             ],
             [
              0.1111111111111111,
              "#46039f"
             ],
             [
              0.2222222222222222,
              "#7201a8"
             ],
             [
              0.3333333333333333,
              "#9c179e"
             ],
             [
              0.4444444444444444,
              "#bd3786"
             ],
             [
              0.5555555555555556,
              "#d8576b"
             ],
             [
              0.6666666666666666,
              "#ed7953"
             ],
             [
              0.7777777777777778,
              "#fb9f3a"
             ],
             [
              0.8888888888888888,
              "#fdca26"
             ],
             [
              1,
              "#f0f921"
             ]
            ],
            "type": "histogram2d"
           }
          ],
          "histogram2dcontour": [
           {
            "colorbar": {
             "outlinewidth": 0,
             "ticks": ""
            },
            "colorscale": [
             [
              0,
              "#0d0887"
             ],
             [
              0.1111111111111111,
              "#46039f"
             ],
             [
              0.2222222222222222,
              "#7201a8"
             ],
             [
              0.3333333333333333,
              "#9c179e"
             ],
             [
              0.4444444444444444,
              "#bd3786"
             ],
             [
              0.5555555555555556,
              "#d8576b"
             ],
             [
              0.6666666666666666,
              "#ed7953"
             ],
             [
              0.7777777777777778,
              "#fb9f3a"
             ],
             [
              0.8888888888888888,
              "#fdca26"
             ],
             [
              1,
              "#f0f921"
             ]
            ],
            "type": "histogram2dcontour"
           }
          ],
          "mesh3d": [
           {
            "colorbar": {
             "outlinewidth": 0,
             "ticks": ""
            },
            "type": "mesh3d"
           }
          ],
          "parcoords": [
           {
            "line": {
             "colorbar": {
              "outlinewidth": 0,
              "ticks": ""
             }
            },
            "type": "parcoords"
           }
          ],
          "pie": [
           {
            "automargin": true,
            "type": "pie"
           }
          ],
          "scatter": [
           {
            "fillpattern": {
             "fillmode": "overlay",
             "size": 10,
             "solidity": 0.2
            },
            "type": "scatter"
           }
          ],
          "scatter3d": [
           {
            "line": {
             "colorbar": {
              "outlinewidth": 0,
              "ticks": ""
             }
            },
            "marker": {
             "colorbar": {
              "outlinewidth": 0,
              "ticks": ""
             }
            },
            "type": "scatter3d"
           }
          ],
          "scattercarpet": [
           {
            "marker": {
             "colorbar": {
              "outlinewidth": 0,
              "ticks": ""
             }
            },
            "type": "scattercarpet"
           }
          ],
          "scattergeo": [
           {
            "marker": {
             "colorbar": {
              "outlinewidth": 0,
              "ticks": ""
             }
            },
            "type": "scattergeo"
           }
          ],
          "scattergl": [
           {
            "marker": {
             "colorbar": {
              "outlinewidth": 0,
              "ticks": ""
             }
            },
            "type": "scattergl"
           }
          ],
          "scattermapbox": [
           {
            "marker": {
             "colorbar": {
              "outlinewidth": 0,
              "ticks": ""
             }
            },
            "type": "scattermapbox"
           }
          ],
          "scatterpolar": [
           {
            "marker": {
             "colorbar": {
              "outlinewidth": 0,
              "ticks": ""
             }
            },
            "type": "scatterpolar"
           }
          ],
          "scatterpolargl": [
           {
            "marker": {
             "colorbar": {
              "outlinewidth": 0,
              "ticks": ""
             }
            },
            "type": "scatterpolargl"
           }
          ],
          "scatterternary": [
           {
            "marker": {
             "colorbar": {
              "outlinewidth": 0,
              "ticks": ""
             }
            },
            "type": "scatterternary"
           }
          ],
          "surface": [
           {
            "colorbar": {
             "outlinewidth": 0,
             "ticks": ""
            },
            "colorscale": [
             [
              0,
              "#0d0887"
             ],
             [
              0.1111111111111111,
              "#46039f"
             ],
             [
              0.2222222222222222,
              "#7201a8"
             ],
             [
              0.3333333333333333,
              "#9c179e"
             ],
             [
              0.4444444444444444,
              "#bd3786"
             ],
             [
              0.5555555555555556,
              "#d8576b"
             ],
             [
              0.6666666666666666,
              "#ed7953"
             ],
             [
              0.7777777777777778,
              "#fb9f3a"
             ],
             [
              0.8888888888888888,
              "#fdca26"
             ],
             [
              1,
              "#f0f921"
             ]
            ],
            "type": "surface"
           }
          ],
          "table": [
           {
            "cells": {
             "fill": {
              "color": "#EBF0F8"
             },
             "line": {
              "color": "white"
             }
            },
            "header": {
             "fill": {
              "color": "#C8D4E3"
             },
             "line": {
              "color": "white"
             }
            },
            "type": "table"
           }
          ]
         },
         "layout": {
          "annotationdefaults": {
           "arrowcolor": "#2a3f5f",
           "arrowhead": 0,
           "arrowwidth": 1
          },
          "autotypenumbers": "strict",
          "coloraxis": {
           "colorbar": {
            "outlinewidth": 0,
            "ticks": ""
           }
          },
          "colorscale": {
           "diverging": [
            [
             0,
             "#8e0152"
            ],
            [
             0.1,
             "#c51b7d"
            ],
            [
             0.2,
             "#de77ae"
            ],
            [
             0.3,
             "#f1b6da"
            ],
            [
             0.4,
             "#fde0ef"
            ],
            [
             0.5,
             "#f7f7f7"
            ],
            [
             0.6,
             "#e6f5d0"
            ],
            [
             0.7,
             "#b8e186"
            ],
            [
             0.8,
             "#7fbc41"
            ],
            [
             0.9,
             "#4d9221"
            ],
            [
             1,
             "#276419"
            ]
           ],
           "sequential": [
            [
             0,
             "#0d0887"
            ],
            [
             0.1111111111111111,
             "#46039f"
            ],
            [
             0.2222222222222222,
             "#7201a8"
            ],
            [
             0.3333333333333333,
             "#9c179e"
            ],
            [
             0.4444444444444444,
             "#bd3786"
            ],
            [
             0.5555555555555556,
             "#d8576b"
            ],
            [
             0.6666666666666666,
             "#ed7953"
            ],
            [
             0.7777777777777778,
             "#fb9f3a"
            ],
            [
             0.8888888888888888,
             "#fdca26"
            ],
            [
             1,
             "#f0f921"
            ]
           ],
           "sequentialminus": [
            [
             0,
             "#0d0887"
            ],
            [
             0.1111111111111111,
             "#46039f"
            ],
            [
             0.2222222222222222,
             "#7201a8"
            ],
            [
             0.3333333333333333,
             "#9c179e"
            ],
            [
             0.4444444444444444,
             "#bd3786"
            ],
            [
             0.5555555555555556,
             "#d8576b"
            ],
            [
             0.6666666666666666,
             "#ed7953"
            ],
            [
             0.7777777777777778,
             "#fb9f3a"
            ],
            [
             0.8888888888888888,
             "#fdca26"
            ],
            [
             1,
             "#f0f921"
            ]
           ]
          },
          "colorway": [
           "#636efa",
           "#EF553B",
           "#00cc96",
           "#ab63fa",
           "#FFA15A",
           "#19d3f3",
           "#FF6692",
           "#B6E880",
           "#FF97FF",
           "#FECB52"
          ],
          "font": {
           "color": "#2a3f5f"
          },
          "geo": {
           "bgcolor": "white",
           "lakecolor": "white",
           "landcolor": "#E5ECF6",
           "showlakes": true,
           "showland": true,
           "subunitcolor": "white"
          },
          "hoverlabel": {
           "align": "left"
          },
          "hovermode": "closest",
          "mapbox": {
           "style": "light"
          },
          "paper_bgcolor": "white",
          "plot_bgcolor": "#E5ECF6",
          "polar": {
           "angularaxis": {
            "gridcolor": "white",
            "linecolor": "white",
            "ticks": ""
           },
           "bgcolor": "#E5ECF6",
           "radialaxis": {
            "gridcolor": "white",
            "linecolor": "white",
            "ticks": ""
           }
          },
          "scene": {
           "xaxis": {
            "backgroundcolor": "#E5ECF6",
            "gridcolor": "white",
            "gridwidth": 2,
            "linecolor": "white",
            "showbackground": true,
            "ticks": "",
            "zerolinecolor": "white"
           },
           "yaxis": {
            "backgroundcolor": "#E5ECF6",
            "gridcolor": "white",
            "gridwidth": 2,
            "linecolor": "white",
            "showbackground": true,
            "ticks": "",
            "zerolinecolor": "white"
           },
           "zaxis": {
            "backgroundcolor": "#E5ECF6",
            "gridcolor": "white",
            "gridwidth": 2,
            "linecolor": "white",
            "showbackground": true,
            "ticks": "",
            "zerolinecolor": "white"
           }
          },
          "shapedefaults": {
           "line": {
            "color": "#2a3f5f"
           }
          },
          "ternary": {
           "aaxis": {
            "gridcolor": "white",
            "linecolor": "white",
            "ticks": ""
           },
           "baxis": {
            "gridcolor": "white",
            "linecolor": "white",
            "ticks": ""
           },
           "bgcolor": "#E5ECF6",
           "caxis": {
            "gridcolor": "white",
            "linecolor": "white",
            "ticks": ""
           }
          },
          "title": {
           "x": 0.05
          },
          "xaxis": {
           "automargin": true,
           "gridcolor": "white",
           "linecolor": "white",
           "ticks": "",
           "title": {
            "standoff": 15
           },
           "zerolinecolor": "white",
           "zerolinewidth": 2
          },
          "yaxis": {
           "automargin": true,
           "gridcolor": "white",
           "linecolor": "white",
           "ticks": "",
           "title": {
            "standoff": 15
           },
           "zerolinecolor": "white",
           "zerolinewidth": 2
          }
         }
        },
        "width": 500,
        "xaxis": {
         "autorange": false,
         "exponentformat": "e",
         "linecolor": "black",
         "linewidth": 1,
         "mirror": false,
         "range": [
          -0.4309988399056314,
          4.022655839119226
         ],
         "showexponent": "all",
         "showline": true,
         "side": "bottom",
         "ticks": "outside",
         "title": {
          "text": "Birth"
         },
         "type": "linear",
         "zeroline": true
        },
        "yaxis": {
         "autorange": false,
         "exponentformat": "e",
         "linecolor": "black",
         "linewidth": 1,
         "mirror": false,
         "range": [
          -0.4309988399056314,
          4.022655839119226
         ],
         "scaleanchor": "x",
         "scaleratio": 1,
         "showexponent": "all",
         "showline": true,
         "side": "left",
         "ticks": "outside",
         "title": {
          "text": "Death"
         },
         "type": "linear",
         "zeroline": true
        }
       }
      }
     },
     "metadata": {},
     "output_type": "display_data"
    }
   ],
   "source": [
    "from gtda.plotting import plot_diagram\n",
    "\n",
    "plot_diagram(a0)"
   ]
  },
  {
   "attachments": {},
   "cell_type": "markdown",
   "metadata": {},
   "source": [
    "Classification process 03 - zero homologies + KNN"
   ]
  },
  {
   "cell_type": "code",
   "execution_count": 52,
   "metadata": {},
   "outputs": [],
   "source": [
    "# define hyperparameter tuning\n",
    "param_grid3 = {\n",
    "    \"n_neighbors\": [3, 5, 7],\n",
    "    \"weights\": [\"uniform\", \"distance\"],\n",
    "    \"p\": [1, 2]\n",
    "}"
   ]
  },
  {
   "cell_type": "code",
   "execution_count": 59,
   "metadata": {},
   "outputs": [
    {
     "data": {
      "text/plain": [
       "GridSearchCV(estimator=KNeighborsClassifier(),\n",
       "             param_grid={'n_neighbors': [3, 5, 7], 'p': [1, 2],\n",
       "                         'weights': ['uniform', 'distance']})"
      ]
     },
     "execution_count": 59,
     "metadata": {},
     "output_type": "execute_result"
    }
   ],
   "source": [
    "# define KNN-classifier\n",
    "from sklearn.neighbors import KNeighborsClassifier\n",
    "\n",
    "knn = KNeighborsClassifier()\n",
    "grid_search3 = GridSearchCV(knn, param_grid3)\n",
    "grid_search3.fit(a0[:-1, 1].reshape(-1, 1), y[:-1])"
   ]
  },
  {
   "cell_type": "code",
   "execution_count": 60,
   "metadata": {},
   "outputs": [
    {
     "name": "stdout",
     "output_type": "stream",
     "text": [
      "best parameters:  {'n_neighbors': 3, 'p': 1, 'weights': 'distance'}\n",
      "best train-accuracy:  0.3691954022988506\n"
     ]
    }
   ],
   "source": [
    "# get the results\n",
    "print(\"best parameters: \", grid_search3.best_params_)\n",
    "print(\"best train-accuracy: \", grid_search3.best_score_)"
   ]
  },
  {
   "cell_type": "code",
   "execution_count": null,
   "metadata": {},
   "outputs": [],
   "source": []
  }
 ],
 "metadata": {
  "kernelspec": {
   "display_name": "base",
   "language": "python",
   "name": "python3"
  },
  "language_info": {
   "codemirror_mode": {
    "name": "ipython",
    "version": 3
   },
   "file_extension": ".py",
   "mimetype": "text/x-python",
   "name": "python",
   "nbconvert_exporter": "python",
   "pygments_lexer": "ipython3",
   "version": "3.9.7"
  },
  "orig_nbformat": 4
 },
 "nbformat": 4,
 "nbformat_minor": 2
}
